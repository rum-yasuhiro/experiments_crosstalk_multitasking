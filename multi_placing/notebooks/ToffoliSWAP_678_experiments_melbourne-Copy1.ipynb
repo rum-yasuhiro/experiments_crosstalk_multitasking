{
 "cells": [
  {
   "cell_type": "markdown",
   "id": "streaming-mexican",
   "metadata": {},
   "source": [
    "# Crosstalk effect on Multiple circuit execution with nisq-grover circuits\n",
    "\n",
    "rum\n",
    "\n",
    "2021 / 04 / 27"
   ]
  },
  {
   "cell_type": "code",
   "execution_count": 1,
   "id": "danish-paper",
   "metadata": {},
   "outputs": [],
   "source": [
    "from toffoli_circuit import toffoli_circuit\n",
    "from grover_experiments import multi_exec, results\n",
    "from qiskit.tools import job_monitor\n",
    "from qiskit.visualization import plot_histogram"
   ]
  },
  {
   "cell_type": "code",
   "execution_count": 2,
   "id": "responsible-martin",
   "metadata": {},
   "outputs": [],
   "source": [
    "# prepare grover circuits\n",
    "\n",
    "ts1 = toffoli_circuit(mode='swap', measure=True, repeat=1)\n",
    "qb1 = [ts1.qregs[0][0], ts1.qregs[0][1], ts1.qregs[0][2]]\n",
    "\n",
    "ts2 = toffoli_circuit(mode='swap', measure=False, repeat=1)\n",
    "qb2 = [ts2.qregs[0][0], ts2.qregs[0][1], ts2.qregs[0][2]]\n",
    "\n",
    "ts3 = toffoli_circuit(mode='swap', measure=False, repeat=1)\n",
    "qb3 = [ts3.qregs[0][0], ts3.qregs[0][1], ts3.qregs[0][2]]\n",
    "\n",
    "# ts4 = toffoli_circuit(mode='swap', measure=False, repeat=1)\n",
    "# qb4 = [ts4.qregs[0][0], ts4.qregs[0][1], ts4.qregs[0][2]]\n",
    "\n",
    "# ts5 = toffoli_circuit(mode='swap', measure=False, repeat=1)\n",
    "# qb5 = [ts5.qregs[0][0], ts5.qregs[0][1], ts5.qregs[0][2]]"
   ]
  },
  {
   "cell_type": "markdown",
   "id": "fixed-presence",
   "metadata": {},
   "source": [
    "## Run on IBM Q  16 Melbourne"
   ]
  },
  {
   "cell_type": "code",
   "execution_count": 3,
   "id": "excessive-passing",
   "metadata": {},
   "outputs": [],
   "source": [
    "backend_name = 'ibmq_16_melbourne'\n",
    "shots = 1000\n",
    "num_trial = 75\n",
    "il1 = {qb1[0]: 6,  qb1[1]: 8,  qb1[2]: 7 }\n",
    "il2 = {qb2[0]: 3,  qb2[1]: 4,  qb2[2]: 5 }\n",
    "il3 = {qb3[0]: 11, qb3[1]: 10, qb3[2]: 9 }\n",
    "# il4 = {qb4[0]: 4,  qb4[1]: 5,  qb4[2]: 6 }\n",
    "# il5 = {qb5[0]: 9,  qb5[1]: 8,  qb5[2]: 7 }"
   ]
  },
  {
   "cell_type": "code",
   "execution_count": 4,
   "id": "champion-gauge",
   "metadata": {
    "scrolled": true
   },
   "outputs": [
    {
     "name": "stdout",
     "output_type": "stream",
     "text": [
      "job_id1 =  60876325d178e45ab70d9c5e\n"
     ]
    }
   ],
   "source": [
    "# run on device\n",
    "job_sim1, job1, qc1= multi_exec(backend_name=backend_name, experiments=[(ts1, il1)], num_trial=num_trial, shots=shots, return_qc=True)\n",
    "job_id1 = job1.job_id()\n",
    "print('job_id1 = ', job_id1)"
   ]
  },
  {
   "cell_type": "code",
   "execution_count": 5,
   "id": "right-developer",
   "metadata": {},
   "outputs": [
    {
     "name": "stderr",
     "output_type": "stream",
     "text": [
      "ibmqfactory.load_account:WARNING:2021-04-27 10:04:40,694: Credentials are already in use. The existing account in the session will be replaced.\n"
     ]
    },
    {
     "name": "stdout",
     "output_type": "stream",
     "text": [
      "job_id2 =  60876335b8c3f93f870cbafd\n"
     ]
    }
   ],
   "source": [
    "# run on device\n",
    "job_sim2, job2, qc2= multi_exec(backend_name=backend_name, experiments=[(ts1, il1), (ts2, il2)], num_trial=num_trial, shots=shots, return_qc=True)\n",
    "job_id2 = job2.job_id()\n",
    "print('job_id2 = ', job_id2)"
   ]
  },
  {
   "cell_type": "code",
   "execution_count": 6,
   "id": "historic-atlas",
   "metadata": {},
   "outputs": [
    {
     "name": "stderr",
     "output_type": "stream",
     "text": [
      "ibmqfactory.load_account:WARNING:2021-04-27 10:05:00,551: Credentials are already in use. The existing account in the session will be replaced.\n"
     ]
    },
    {
     "name": "stdout",
     "output_type": "stream",
     "text": [
      "job_id3 =  6087635e543d9ad034ab7e6b\n"
     ]
    }
   ],
   "source": [
    "# run on device\n",
    "job_sim3, job3, qc3= multi_exec(backend_name=backend_name, experiments=[(ts1, il1), (ts2, il2), (ts3, il3)], num_trial=num_trial, shots=shots, return_qc=True)\n",
    "job_id3 = job3.job_id()\n",
    "print('job_id3 = ', job_id3)"
   ]
  },
  {
   "cell_type": "code",
   "execution_count": 7,
   "id": "earned-athens",
   "metadata": {},
   "outputs": [],
   "source": [
    "# # run on device\n",
    "# job_sim4, job4, qc4= multi_exec(backend_name=backend_name, experiments=[(ts1, il1), (ts2, il2), (ts3, il3), (ts4, il4)], num_trial=num_trial, shots=shots, return_qc=True)\n",
    "# job_id4 = job4.job_id()\n",
    "# print('job_id4 = ', job_id4)"
   ]
  },
  {
   "cell_type": "code",
   "execution_count": 8,
   "id": "hawaiian-smoke",
   "metadata": {},
   "outputs": [],
   "source": [
    "# # run on device\n",
    "# job_sim5, job5, qc5= multi_exec(backend_name=backend_name, experiments=[(ts1, il1), (ts2, il2), (ts3, il3), (ts4, il4), (ts5, il5)], num_trial=num_trial, shots=shots, return_qc=True)\n",
    "# job_id5 = job5.job_id()\n",
    "# print('job_id5 = ', job_id5)"
   ]
  },
  {
   "cell_type": "code",
   "execution_count": 9,
   "id": "worldwide-uruguay",
   "metadata": {},
   "outputs": [
    {
     "name": "stdout",
     "output_type": "stream",
     "text": [
      "Job Status: job has successfully run\n"
     ]
    }
   ],
   "source": [
    "# Show the job status\n",
    "job_monitor(job1)"
   ]
  },
  {
   "cell_type": "code",
   "execution_count": 10,
   "id": "operational-samba",
   "metadata": {
    "scrolled": true
   },
   "outputs": [
    {
     "name": "stdout",
     "output_type": "stream",
     "text": [
      "      ┌───┐                            ┌───┐           ┌───┐┌─────┐┌───┐┌─┐   \n",
      "q0_0: ┤ X ├──■─────────────────────■───┤ T ├───────────┤ X ├┤ TDG ├┤ X ├┤M├───\n",
      "      ├───┤┌─┴─┐┌─────┐┌───┐┌───┐┌─┴─┐┌┴───┴┐     ┌───┐└─┬─┘└┬───┬┘└─┬─┘└╥┘┌─┐\n",
      "q0_1: ┤ H ├┤ X ├┤ TDG ├┤ X ├┤ T ├┤ X ├┤ TDG ├──■──┤ X ├──■───┤ T ├───■───╫─┤M├\n",
      "      ├───┤└───┘└─────┘└─┬─┘└───┘└───┘└─────┘┌─┴─┐└─┬─┘┌───┐ ├───┤  ┌─┐  ║ └╥┘\n",
      "q0_2: ┤ X ├──────────────■───────────────────┤ X ├──■──┤ T ├─┤ H ├──┤M├──╫──╫─\n",
      "      └───┘                                  └───┘     └───┘ └───┘  └╥┘  ║  ║ \n",
      "c1: 3/═══════════════════════════════════════════════════════════════╩═══╩══╩═\n",
      "                                                                     2   0  1 \n"
     ]
    }
   ],
   "source": [
    "print(qc1)"
   ]
  },
  {
   "cell_type": "code",
   "execution_count": 11,
   "id": "federal-hunter",
   "metadata": {},
   "outputs": [
    {
     "name": "stderr",
     "output_type": "stream",
     "text": [
      "ibmqfactory.load_account:WARNING:2021-04-27 10:07:10,113: Credentials are already in use. The existing account in the session will be replaced.\n"
     ]
    }
   ],
   "source": [
    "# get the result\n",
    "counts_sim1, counts1 = results(backend_name=backend_name, job_sim=job_sim1, job_id=job_id1, num_trial=num_trial)"
   ]
  },
  {
   "cell_type": "code",
   "execution_count": 12,
   "id": "developmental-madrid",
   "metadata": {
    "scrolled": true
   },
   "outputs": [
    {
     "data": {
      "image/png": "[encoded data removed]",
      "text/plain": [
       "<Figure size 504x360 with 1 Axes>"
      ]
     },
     "execution_count": 12,
     "metadata": {},
     "output_type": "execute_result"
    }
   ],
   "source": [
    "# # show plots\n",
    "plot_histogram([counts_sim1, counts1], title='Single Circuits Execution', legend=['Simulator', 'IBM Q Manhattan'])"
   ]
  },
  {
   "cell_type": "markdown",
   "id": "stunning-reform",
   "metadata": {},
   "source": [
    "## 2 circuits execution"
   ]
  },
  {
   "cell_type": "code",
   "execution_count": 13,
   "id": "unexpected-crest",
   "metadata": {
    "scrolled": true
   },
   "outputs": [],
   "source": [
    "# # run on device\n",
    "# job_sim2, job2, qc2= multi_exec(backend_name=backend_name, experiments=[(ts1, il1), (ts2, il2)], num_trial=num_trial, shots=shots, return_qc=True)\n",
    "# job_id2 = job2.job_id()\n",
    "# print(job_id2)"
   ]
  },
  {
   "cell_type": "code",
   "execution_count": 14,
   "id": "capable-permission",
   "metadata": {},
   "outputs": [
    {
     "name": "stdout",
     "output_type": "stream",
     "text": [
      "Job Status: job has successfully run\n"
     ]
    }
   ],
   "source": [
    "# Show the job status\n",
    "job_monitor(job2)"
   ]
  },
  {
   "cell_type": "code",
   "execution_count": 15,
   "id": "alternate-exhibition",
   "metadata": {
    "scrolled": true
   },
   "outputs": [
    {
     "name": "stdout",
     "output_type": "stream",
     "text": [
      "      ┌───┐                            ┌───┐           ┌───┐┌─────┐┌───┐     »\n",
      "q0_0: ┤ X ├──■─────────────────────■───┤ T ├───────────┤ X ├┤ TDG ├┤ X ├─────»\n",
      "      ├───┤┌─┴─┐┌─────┐┌───┐┌───┐┌─┴─┐┌┴───┴┐     ┌───┐└─┬─┘└┬───┬┘└─┬─┘     »\n",
      "q0_1: ┤ H ├┤ X ├┤ TDG ├┤ X ├┤ T ├┤ X ├┤ TDG ├──■──┤ X ├──■───┤ T ├───■───────»\n",
      "      ├───┤└───┘└─────┘└─┬─┘└───┘└───┘└─────┘┌─┴─┐└─┬─┘┌───┐ ├───┤  ┌─┐      »\n",
      "q0_2: ┤ X ├──────────────■───────────────────┤ X ├──■──┤ T ├─┤ H ├──┤M├──────»\n",
      "      ├───┤                            ┌───┐ └───┘     ├───┤┌┴───┴┐ └╥┘ ┌───┐»\n",
      "q1_0: ┤ X ├──■─────────────────────■───┤ T ├───────────┤ X ├┤ TDG ├──╫──┤ X ├»\n",
      "      ├───┤┌─┴─┐┌─────┐┌───┐┌───┐┌─┴─┐┌┴───┴┐     ┌───┐└─┬─┘└┬───┬┘  ║  └─┬─┘»\n",
      "q1_1: ┤ H ├┤ X ├┤ TDG ├┤ X ├┤ T ├┤ X ├┤ TDG ├──■──┤ X ├──■───┤ T ├───╫────■──»\n",
      "      ├───┤└───┘└─────┘└─┬─┘└───┘└───┘└─────┘┌─┴─┐└─┬─┘┌───┐ ├───┤   ║       »\n",
      "q1_2: ┤ X ├──────────────■───────────────────┤ X ├──■──┤ T ├─┤ H ├───╫───────»\n",
      "      └───┘                                  └───┘     └───┘ └───┘   ║       »\n",
      "c2: 3/═══════════════════════════════════════════════════════════════╩═══════»\n",
      "                                                                     2       »\n",
      "«      ┌─┐   \n",
      "«q0_0: ┤M├───\n",
      "«      └╥┘┌─┐\n",
      "«q0_1: ─╫─┤M├\n",
      "«       ║ └╥┘\n",
      "«q0_2: ─╫──╫─\n",
      "«       ║  ║ \n",
      "«q1_0: ─╫──╫─\n",
      "«       ║  ║ \n",
      "«q1_1: ─╫──╫─\n",
      "«       ║  ║ \n",
      "«q1_2: ─╫──╫─\n",
      "«       ║  ║ \n",
      "«c2: 3/═╩══╩═\n",
      "«       0  1 \n"
     ]
    }
   ],
   "source": [
    "print(qc2)"
   ]
  },
  {
   "cell_type": "code",
   "execution_count": 16,
   "id": "green-happening",
   "metadata": {},
   "outputs": [
    {
     "name": "stderr",
     "output_type": "stream",
     "text": [
      "ibmqfactory.load_account:WARNING:2021-04-27 10:08:40,018: Credentials are already in use. The existing account in the session will be replaced.\n"
     ]
    }
   ],
   "source": [
    "# get the result\n",
    "counts_sim2, counts2 = results(backend_name=backend_name, job_sim=job_sim2, job_id=job_id2, num_trial=num_trial)"
   ]
  },
  {
   "cell_type": "code",
   "execution_count": 17,
   "id": "joint-thickness",
   "metadata": {},
   "outputs": [
    {
     "data": {
      "image/png": "[encoded data removed]",
      "text/plain": [
       "<Figure size 504x360 with 1 Axes>"
      ]
     },
     "execution_count": 17,
     "metadata": {},
     "output_type": "execute_result"
    }
   ],
   "source": [
    "# # show plots\n",
    "plot_histogram([counts_sim2, counts2], title='2 Circuits Execution', legend=['Simulator', 'IBM Q Manhattan'])"
   ]
  },
  {
   "cell_type": "markdown",
   "id": "considerable-queen",
   "metadata": {},
   "source": [
    "## 3 Circuits execution"
   ]
  },
  {
   "cell_type": "code",
   "execution_count": 18,
   "id": "unique-georgia",
   "metadata": {
    "scrolled": true
   },
   "outputs": [],
   "source": [
    "# # run on device\n",
    "# job_sim3, job3, qc3= multi_exec(backend_name=backend_name, experiments=[(ts1, il1), (ts2, il2), (ts3, il3)], num_trial=num_trial, shots=shots, return_qc=True)\n",
    "# job_id3 = job3.job_id()\n",
    "# print(job_id3)"
   ]
  },
  {
   "cell_type": "code",
   "execution_count": 19,
   "id": "demographic-laser",
   "metadata": {},
   "outputs": [
    {
     "name": "stdout",
     "output_type": "stream",
     "text": [
      "Job Status: job has successfully run\n"
     ]
    }
   ],
   "source": [
    "# Show the job status\n",
    "job_monitor(job3)"
   ]
  },
  {
   "cell_type": "code",
   "execution_count": 20,
   "id": "worse-sampling",
   "metadata": {},
   "outputs": [
    {
     "name": "stdout",
     "output_type": "stream",
     "text": [
      "      ┌───┐                            ┌───┐           ┌───┐┌─────┐┌───┐     »\n",
      "q0_0: ┤ X ├──■─────────────────────■───┤ T ├───────────┤ X ├┤ TDG ├┤ X ├─────»\n",
      "      ├───┤┌─┴─┐┌─────┐┌───┐┌───┐┌─┴─┐┌┴───┴┐     ┌───┐└─┬─┘└┬───┬┘└─┬─┘     »\n",
      "q0_1: ┤ H ├┤ X ├┤ TDG ├┤ X ├┤ T ├┤ X ├┤ TDG ├──■──┤ X ├──■───┤ T ├───■───────»\n",
      "      ├───┤└───┘└─────┘└─┬─┘└───┘└───┘└─────┘┌─┴─┐└─┬─┘┌───┐ ├───┤  ┌─┐      »\n",
      "q0_2: ┤ X ├──────────────■───────────────────┤ X ├──■──┤ T ├─┤ H ├──┤M├──────»\n",
      "      ├───┤                            ┌───┐ └───┘     ├───┤┌┴───┴┐ └╥┘ ┌───┐»\n",
      "q1_0: ┤ X ├──■─────────────────────■───┤ T ├───────────┤ X ├┤ TDG ├──╫──┤ X ├»\n",
      "      ├───┤┌─┴─┐┌─────┐┌───┐┌───┐┌─┴─┐┌┴───┴┐     ┌───┐└─┬─┘└┬───┬┘  ║  └─┬─┘»\n",
      "q1_1: ┤ H ├┤ X ├┤ TDG ├┤ X ├┤ T ├┤ X ├┤ TDG ├──■──┤ X ├──■───┤ T ├───╫────■──»\n",
      "      ├───┤└───┘└─────┘└─┬─┘└───┘└───┘└─────┘┌─┴─┐└─┬─┘┌───┐ ├───┤   ║       »\n",
      "q1_2: ┤ X ├──────────────■───────────────────┤ X ├──■──┤ T ├─┤ H ├───╫───────»\n",
      "      ├───┤                            ┌───┐ └───┘     ├───┤┌┴───┴┐  ║  ┌───┐»\n",
      "q2_0: ┤ X ├──■─────────────────────■───┤ T ├───────────┤ X ├┤ TDG ├──╫──┤ X ├»\n",
      "      ├───┤┌─┴─┐┌─────┐┌───┐┌───┐┌─┴─┐┌┴───┴┐     ┌───┐└─┬─┘└┬───┬┘  ║  └─┬─┘»\n",
      "q2_1: ┤ H ├┤ X ├┤ TDG ├┤ X ├┤ T ├┤ X ├┤ TDG ├──■──┤ X ├──■───┤ T ├───╫────■──»\n",
      "      ├───┤└───┘└─────┘└─┬─┘└───┘└───┘└─────┘┌─┴─┐└─┬─┘┌───┐ ├───┤   ║       »\n",
      "q2_2: ┤ X ├──────────────■───────────────────┤ X ├──■──┤ T ├─┤ H ├───╫───────»\n",
      "      └───┘                                  └───┘     └───┘ └───┘   ║       »\n",
      "c3: 3/═══════════════════════════════════════════════════════════════╩═══════»\n",
      "                                                                     2       »\n",
      "«      ┌─┐   \n",
      "«q0_0: ┤M├───\n",
      "«      └╥┘┌─┐\n",
      "«q0_1: ─╫─┤M├\n",
      "«       ║ └╥┘\n",
      "«q0_2: ─╫──╫─\n",
      "«       ║  ║ \n",
      "«q1_0: ─╫──╫─\n",
      "«       ║  ║ \n",
      "«q1_1: ─╫──╫─\n",
      "«       ║  ║ \n",
      "«q1_2: ─╫──╫─\n",
      "«       ║  ║ \n",
      "«q2_0: ─╫──╫─\n",
      "«       ║  ║ \n",
      "«q2_1: ─╫──╫─\n",
      "«       ║  ║ \n",
      "«q2_2: ─╫──╫─\n",
      "«       ║  ║ \n",
      "«c3: 3/═╩══╩═\n",
      "«       0  1 \n"
     ]
    }
   ],
   "source": [
    "print(qc3)"
   ]
  },
  {
   "cell_type": "code",
   "execution_count": 21,
   "id": "failing-minimum",
   "metadata": {},
   "outputs": [
    {
     "name": "stderr",
     "output_type": "stream",
     "text": [
      "ibmqfactory.load_account:WARNING:2021-04-27 10:10:14,450: Credentials are already in use. The existing account in the session will be replaced.\n"
     ]
    }
   ],
   "source": [
    "# get the result\n",
    "counts_sim3, counts3 = results(backend_name=backend_name, job_sim=job_sim3, job_id=job_id3, num_trial=num_trial)"
   ]
  },
  {
   "cell_type": "code",
   "execution_count": 22,
   "id": "foster-champion",
   "metadata": {
    "scrolled": true
   },
   "outputs": [
    {
     "data": {
      "image/png": "[encoded data removed]",
      "text/plain": [
       "<Figure size 504x360 with 1 Axes>"
      ]
     },
     "execution_count": 22,
     "metadata": {},
     "output_type": "execute_result"
    }
   ],
   "source": [
    "# # show plots\n",
    "plot_histogram([counts_sim3, counts3], title='3 Circuits Execution', legend=['Simulator', 'IBM Q Manhattan'])"
   ]
  },
  {
   "cell_type": "markdown",
   "id": "peripheral-professor",
   "metadata": {},
   "source": [
    "## 4 circuit execution"
   ]
  },
  {
   "cell_type": "code",
   "execution_count": 23,
   "id": "three-highway",
   "metadata": {
    "scrolled": true
   },
   "outputs": [],
   "source": [
    "# # run on device\n",
    "# job_sim4, job4, qc4= multi_exec(backend_name=backend_name, experiments=[(ts1, il1), (ts2, il2), (ts3, il3), (ts4, il4)], num_trial=num_trial, shots=shots, return_qc=True)\n",
    "# job_id4 = job4.job_id()\n",
    "# print(job_id4)"
   ]
  },
  {
   "cell_type": "code",
   "execution_count": 24,
   "id": "optical-humanity",
   "metadata": {},
   "outputs": [],
   "source": [
    "# # Show the job status\n",
    "# job_monitor(job4)"
   ]
  },
  {
   "cell_type": "code",
   "execution_count": 25,
   "id": "proof-genius",
   "metadata": {},
   "outputs": [],
   "source": [
    "# print(qc4)"
   ]
  },
  {
   "cell_type": "code",
   "execution_count": 26,
   "id": "amber-klein",
   "metadata": {},
   "outputs": [],
   "source": [
    "# # get the result\n",
    "# counts_sim4, counts4 = results(backend_name=backend_name, job_sim=job_sim4, job_id=job_id4, num_trial=num_trial)"
   ]
  },
  {
   "cell_type": "code",
   "execution_count": 27,
   "id": "proprietary-refrigerator",
   "metadata": {},
   "outputs": [],
   "source": [
    "# # # show plots\n",
    "# plot_histogram([counts_sim4, counts4], title='4 Circuits Execution', legend=['Simulator', 'IBM Q Manhattan'])"
   ]
  },
  {
   "cell_type": "markdown",
   "id": "finished-median",
   "metadata": {},
   "source": [
    "## 5 circuit execution"
   ]
  },
  {
   "cell_type": "code",
   "execution_count": 28,
   "id": "quantitative-accordance",
   "metadata": {},
   "outputs": [],
   "source": [
    "# # run on device\n",
    "# job_sim5, job5, qc5= multi_exec(backend_name=backend_name, experiments=[(ts1, il1), (ts2, il2), (ts3, il3), (ts4, il4), (ts5, il5)], num_trial=num_trial, shots=shots, return_qc=True)\n",
    "# job_id5 = job5.job_id()\n",
    "# print(job_id5)"
   ]
  },
  {
   "cell_type": "code",
   "execution_count": 29,
   "id": "sudden-bargain",
   "metadata": {},
   "outputs": [],
   "source": [
    "# # Show the job status\n",
    "# job_monitor(job5)"
   ]
  },
  {
   "cell_type": "code",
   "execution_count": 30,
   "id": "endless-hypothesis",
   "metadata": {},
   "outputs": [],
   "source": [
    "# print(qc5)"
   ]
  },
  {
   "cell_type": "code",
   "execution_count": 31,
   "id": "behavioral-theorem",
   "metadata": {},
   "outputs": [],
   "source": [
    "# # get the result\n",
    "# counts_sim5, counts5 = results(backend_name=backend_name, job_sim=job_sim5, job_id=job_id5, num_trial=num_trial)"
   ]
  },
  {
   "cell_type": "code",
   "execution_count": 32,
   "id": "limiting-groove",
   "metadata": {},
   "outputs": [],
   "source": [
    "# # # show plots\n",
    "# plot_histogram([counts_sim5, counts5], title='5 Circuits Execution', legend=['Simulator', 'IBM Q Manhattan'])"
   ]
  },
  {
   "cell_type": "code",
   "execution_count": 33,
   "id": "excellent-operations",
   "metadata": {},
   "outputs": [],
   "source": [
    "from jsd import jsd\n",
    "from pst import pst"
   ]
  },
  {
   "cell_type": "code",
   "execution_count": 34,
   "id": "systematic-review",
   "metadata": {},
   "outputs": [],
   "source": [
    "jsd1 = jsd(counts_sim1, counts1)\n",
    "jsd2 = jsd(counts_sim2, counts2)\n",
    "jsd3 = jsd(counts_sim3, counts3)\n",
    "# jsd4 = jsd(counts_sim4, counts4)\n",
    "# jsd5 = jsd(counts_sim5, counts5)\n",
    "\n",
    "pst1 = pst(counts1, counts_sim1)\n",
    "pst2 = pst(counts2, counts_sim2)\n",
    "pst3 = pst(counts3, counts_sim3)\n",
    "# pst4 = pst(counts4, counts_sim4)\n",
    "# pst5 = pst(counts5, counts_sim5)"
   ]
  },
  {
   "cell_type": "code",
   "execution_count": 35,
   "id": "union-corporation",
   "metadata": {},
   "outputs": [
    {
     "name": "stdout",
     "output_type": "stream",
     "text": [
      "0.42122004667049967\n",
      "0.42398127663714\n",
      "0.42851256158460793\n"
     ]
    }
   ],
   "source": [
    "print(jsd1)\n",
    "print(jsd2)\n",
    "print(jsd3)\n",
    "# print(jsd4)\n",
    "# print(jsd5)"
   ]
  },
  {
   "cell_type": "code",
   "execution_count": 36,
   "id": "miniature-coalition",
   "metadata": {},
   "outputs": [
    {
     "name": "stdout",
     "output_type": "stream",
     "text": [
      "0.58656\n",
      "0.58184\n",
      "0.57408\n"
     ]
    }
   ],
   "source": [
    "print(pst1)\n",
    "print(pst2)\n",
    "print(pst3)\n",
    "# print(pst4)\n",
    "# print(pst5)"
   ]
  },
  {
   "cell_type": "code",
   "execution_count": null,
   "id": "sapphire-equilibrium",
   "metadata": {},
   "outputs": [],
   "source": []
  }
 ],
 "metadata": {
  "kernelspec": {
   "display_name": "crosstalk_experiments",
   "language": "python",
   "name": "crosstalk_experiments"
  },
  "language_info": {
   "codemirror_mode": {
    "name": "ipython",
    "version": 3
   },
   "file_extension": ".py",
   "mimetype": "text/x-python",
   "name": "python",
   "nbconvert_exporter": "python",
   "pygments_lexer": "ipython3",
   "version": "3.8.5"
  }
 },
 "nbformat": 4,
 "nbformat_minor": 5
}
