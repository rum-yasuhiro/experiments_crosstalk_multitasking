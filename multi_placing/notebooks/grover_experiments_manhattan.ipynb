{
 "cells": [
  {
   "cell_type": "markdown",
   "id": "streaming-mexican",
   "metadata": {},
   "source": [
    "# Crosstalk effect on Multiple circuit execution with nisq-grover circuits\n",
    "\n",
    "rum\n",
    "\n",
    "2021 / 04 / 21"
   ]
  },
  {
   "cell_type": "code",
   "execution_count": 1,
   "id": "danish-paper",
   "metadata": {},
   "outputs": [],
   "source": [
    "from subdivided_phase_oracle_grover import spo_grover\n",
    "from grover_experiments import multi_exec, results\n",
    "from qiskit.tools import job_monitor\n",
    "from qiskit.visualization import plot_histogram"
   ]
  },
  {
   "cell_type": "code",
   "execution_count": 2,
   "id": "responsible-martin",
   "metadata": {},
   "outputs": [],
   "source": [
    "# prepare grover circuits\n",
    "\n",
    "gv1 = spo_grover(num_data=4, measure=True)\n",
    "qb1 = [gv1.qregs[0][0], gv1.qregs[0][1], gv1.qregs[0][2], gv1.qregs[0][3], gv1.qregs[1][0]]\n",
    "\n",
    "gv2 = spo_grover(num_data=4)\n",
    "qb2 = [gv2.qregs[0][0], gv2.qregs[0][1], gv2.qregs[0][2], gv2.qregs[0][3], gv2.qregs[1][0]]\n",
    "\n",
    "gv3 = spo_grover(num_data=4)\n",
    "qb3 = [gv3.qregs[0][0], gv3.qregs[0][1], gv3.qregs[0][2], gv3.qregs[0][3], gv3.qregs[1][0]]\n",
    "\n",
    "gv4 = spo_grover(num_data=4)\n",
    "qb4 = [gv4.qregs[0][0], gv4.qregs[0][1], gv4.qregs[0][2], gv4.qregs[0][3], gv4.qregs[1][0]]\n",
    "\n",
    "gv5 = spo_grover(num_data=4)\n",
    "qb5 = [gv5.qregs[0][0], gv5.qregs[0][1], gv5.qregs[0][2], gv5.qregs[0][3], gv5.qregs[1][0]]"
   ]
  },
  {
   "cell_type": "markdown",
   "id": "fixed-presence",
   "metadata": {},
   "source": [
    "## Run on IBM Q Manhattan"
   ]
  },
  {
   "cell_type": "code",
   "execution_count": 3,
   "id": "excessive-passing",
   "metadata": {},
   "outputs": [],
   "source": [
    "backend_name = 'ibmq_manhattan'\n",
    "shots = 8192\n",
    "num_trial = 10\n",
    "il1 = {qb1[0]: 18, qb1[1]: 20, qb1[2]: 25, qb1[3]: 33, qb1[4]: 19}\n",
    "il2 = {qb2[0]: 3, qb2[1]: 5, qb2[2]: 11, qb2[3]: 17, qb2[4]: 4}\n",
    "il3 = {qb3[0]: 7, qb3[1]: 9, qb3[2]: 12, qb3[3]: 21, qb3[4]: 1}\n",
    "il4 = {qb4[0]: 30, qb4[1]: 32, qb4[2]: 39, qb4[3]: 45, qb4[4]: 31}\n",
    "il5 = {qb5[0]: 34, qb5[1]: 36, qb5[2]: 40, qb5[3]: 49, qb5[4]: 35}"
   ]
  },
  {
   "cell_type": "code",
   "execution_count": 4,
   "id": "employed-robinson",
   "metadata": {
    "scrolled": true
   },
   "outputs": [],
   "source": [
    "# # Show the job status\n",
    "# job_monitor(job_real1)"
   ]
  },
  {
   "cell_type": "code",
   "execution_count": 5,
   "id": "loose-drama",
   "metadata": {
    "scrolled": true
   },
   "outputs": [
    {
     "name": "stdout",
     "output_type": "stream",
     "text": [
      "608585939518d739c66e4f98\n"
     ]
    }
   ],
   "source": [
    "# run on device\n",
    "job_sim1, job1, qc1= multi_exec(backend_name=backend_name, experiments=[(gv1, il1)], num_trial=num_trial, shots=shots, return_qc=True)\n",
    "job_id1 = job1.job_id()\n",
    "print(job_id1)"
   ]
  },
  {
   "cell_type": "code",
   "execution_count": 6,
   "id": "damaged-jurisdiction",
   "metadata": {},
   "outputs": [
    {
     "name": "stderr",
     "output_type": "stream",
     "text": [
      "ibmqfactory.load_account:WARNING:2021-04-26 00:07:04,716: Credentials are already in use. The existing account in the session will be replaced.\n"
     ]
    },
    {
     "name": "stdout",
     "output_type": "stream",
     "text": [
      "608585adb3119154206095e9\n"
     ]
    }
   ],
   "source": [
    "# run on device\n",
    "job_sim2, job2, qc2= multi_exec(backend_name=backend_name, experiments=[(gv1, il1), (gv2, il2)], num_trial=num_trial, shots=shots, return_qc=True)\n",
    "job_id2 = job2.job_id()\n",
    "print(job_id2)"
   ]
  },
  {
   "cell_type": "code",
   "execution_count": 7,
   "id": "monthly-retailer",
   "metadata": {},
   "outputs": [
    {
     "name": "stderr",
     "output_type": "stream",
     "text": [
      "ibmqfactory.load_account:WARNING:2021-04-26 00:07:29,294: Credentials are already in use. The existing account in the session will be replaced.\n"
     ]
    },
    {
     "name": "stdout",
     "output_type": "stream",
     "text": [
      "608585be6a3af015ac1a2f34\n"
     ]
    }
   ],
   "source": [
    "# run on device\n",
    "job_sim3, job3, qc3= multi_exec(backend_name=backend_name, experiments=[(gv1, il1), (gv2, il2), (gv3, il3)], num_trial=num_trial, shots=shots, return_qc=True)\n",
    "job_id3 = job3.job_id()\n",
    "print(job_id3)"
   ]
  },
  {
   "cell_type": "code",
   "execution_count": 8,
   "id": "great-tsunami",
   "metadata": {},
   "outputs": [
    {
     "name": "stderr",
     "output_type": "stream",
     "text": [
      "ibmqfactory.load_account:WARNING:2021-04-26 00:07:45,881: Credentials are already in use. The existing account in the session will be replaced.\n"
     ]
    },
    {
     "name": "stdout",
     "output_type": "stream",
     "text": [
      "608585d62c78459e33cde226\n"
     ]
    }
   ],
   "source": [
    "# run on device\n",
    "job_sim4, job4, qc4= multi_exec(backend_name=backend_name, experiments=[(gv1, il1), (gv2, il2), (gv3, il3), (gv4, il4)], num_trial=num_trial, shots=shots, return_qc=True)\n",
    "job_id4 = job4.job_id()\n",
    "print(job_id4)"
   ]
  },
  {
   "cell_type": "code",
   "execution_count": 9,
   "id": "romance-seating",
   "metadata": {},
   "outputs": [
    {
     "name": "stderr",
     "output_type": "stream",
     "text": [
      "ibmqfactory.load_account:WARNING:2021-04-26 00:08:09,946: Credentials are already in use. The existing account in the session will be replaced.\n"
     ]
    },
    {
     "name": "stdout",
     "output_type": "stream",
     "text": [
      "608585f0b3119162116095eb\n"
     ]
    }
   ],
   "source": [
    "# run on device\n",
    "job_sim5, job5, qc5= multi_exec(backend_name=backend_name, experiments=[(gv1, il1), (gv2, il2), (gv3, il3), (gv4, il4), (gv5, il5)], num_trial=num_trial, shots=shots, return_qc=True)\n",
    "job_id5 = job5.job_id()\n",
    "print(job_id5)"
   ]
  },
  {
   "cell_type": "code",
   "execution_count": 10,
   "id": "lightweight-excitement",
   "metadata": {},
   "outputs": [
    {
     "name": "stdout",
     "output_type": "stream",
     "text": [
      "Job Status: job has successfully run\n"
     ]
    }
   ],
   "source": [
    "# Show the job status\n",
    "job_monitor(job1)"
   ]
  },
  {
   "cell_type": "code",
   "execution_count": 11,
   "id": "operational-samba",
   "metadata": {},
   "outputs": [
    {
     "name": "stdout",
     "output_type": "stream",
     "text": [
      "         ┌───┐   ┌─────────┐┌───┐┌───┐                                      »\n",
      "q0_0: ───┤ H ├───┤ RZ(π/4) ├┤ H ├┤ X ├───────────────────────■──────────────»\n",
      "         ├───┤   ├─────────┤├───┤├───┤                       │              »\n",
      "q0_1: ───┤ H ├───┤ RZ(π/4) ├┤ H ├┤ X ├──■────────────────────┼──────────────»\n",
      "         ├───┤   ├─────────┤├───┤├───┤  │     ┌───┐   ┌───┐  │              »\n",
      "q0_2: ───┤ H ├───┤ RZ(π/4) ├┤ H ├┤ X ├──┼─────┤ H ├───┤ H ├──┼──────────────»\n",
      "         ├───┤   ├─────────┤├───┤├───┤  │     └───┘   └───┘  │              »\n",
      "q0_3: ───┤ H ├───┤ RZ(π/4) ├┤ H ├┤ X ├──┼────────────────────┼──────────────»\n",
      "      ┌──┴───┴──┐└─────────┘└───┘└───┘┌─┴─┐┌─────────┐     ┌─┴─┐┌──────────┐»\n",
      "q1_0: ┤ RY(π/4) ├─────────────────────┤ X ├┤ RY(π/4) ├─────┤ X ├┤ RY(-π/4) ├»\n",
      "      └─────────┘                     └───┘└─────────┘     └───┘└──────────┘»\n",
      "c1: 4/══════════════════════════════════════════════════════════════════════»\n",
      "                                                                            »\n",
      "«                                                                             »\n",
      "«q0_0: ───────────────────────────────────────────────────────────────────────»\n",
      "«                                                                             »\n",
      "«q0_1: ──■────────────────────────────────────────────────────────────────────»\n",
      "«        │              ┌───┐┌─────┐┌───┐┌───┐┌───┐┌─────┐     ┌───┐          »\n",
      "«q0_2: ──┼──────────────┤ X ├┤ TDG ├┤ X ├┤ T ├┤ X ├┤ TDG ├──■──┤ X ├───────■──»\n",
      "«        │              └─┬─┘└─────┘└─┬─┘└───┘└─┬─┘└─────┘┌─┴─┐└─┬─┘┌───┐  │  »\n",
      "«q0_3: ──┼────────────────┼───────────■─────────┼─────────┤ X ├──■──┤ T ├──┼──»\n",
      "«      ┌─┴─┐┌──────────┐  │                     │   ┌───┐ └───┘     └───┘┌─┴─┐»\n",
      "«q1_0: ┤ X ├┤ RY(-π/4) ├──■─────────────────────■───┤ T ├────────────────┤ X ├»\n",
      "«      └───┘└──────────┘                            └───┘                └───┘»\n",
      "«c1: 4/═══════════════════════════════════════════════════════════════════════»\n",
      "«                                                                             »\n",
      "«                                                          ┌───┐    ┌───┐»\n",
      "«q0_0: ──────────────────────────────────────────────■─────┤ X ├────┤ H ├»\n",
      "«                                                    │     └───┘    └───┘»\n",
      "«q0_1: ──────────────────────────────■───────────────┼────────────────■──»\n",
      "«       ┌───┐         ┌───┐   ┌───┐  │               │                │  »\n",
      "«q0_2: ─┤ T ├───■─────┤ X ├───┤ H ├──┼───────────────┼────────────────┼──»\n",
      "«       ├───┤   │     ├───┤   ├───┤  │     ┌───┐     │                │  »\n",
      "«q0_3: ─┤ H ├───┼─────┤ H ├───┤ X ├──┼─────┤ H ├─────┼────────────────┼──»\n",
      "«      ┌┴───┴┐┌─┴─┐┌──┴───┴──┐└───┘┌─┴─┐┌──┴───┴──┐┌─┴─┐┌──────────┐┌─┴─┐»\n",
      "«q1_0: ┤ TDG ├┤ X ├┤ RY(π/4) ├─────┤ X ├┤ RY(π/4) ├┤ X ├┤ RY(-π/4) ├┤ X ├»\n",
      "«      └─────┘└───┘└─────────┘     └───┘└─────────┘└───┘└──────────┘└───┘»\n",
      "«c1: 4/══════════════════════════════════════════════════════════════════»\n",
      "«                                                                        »\n",
      "«                        ░ ┌─┐         \n",
      "«q0_0: ──────────────────░─┤M├─────────\n",
      "«         ┌───┐    ┌───┐ ░ └╥┘┌─┐      \n",
      "«q0_1: ───┤ X ├────┤ H ├─░──╫─┤M├──────\n",
      "«         └───┘    └───┘ ░  ║ └╥┘┌─┐   \n",
      "«q0_2: ──────────────────░──╫──╫─┤M├───\n",
      "«                        ░  ║  ║ └╥┘┌─┐\n",
      "«q0_3: ──────────────────░──╫──╫──╫─┤M├\n",
      "«      ┌──────────┐      ░  ║  ║  ║ └╥┘\n",
      "«q1_0: ┤ RY(-π/4) ├──────░──╫──╫──╫──╫─\n",
      "«      └──────────┘      ░  ║  ║  ║  ║ \n",
      "«c1: 4/═════════════════════╩══╩══╩══╩═\n",
      "«                           0  1  2  3 \n"
     ]
    }
   ],
   "source": [
    "print(qc1)"
   ]
  },
  {
   "cell_type": "code",
   "execution_count": 12,
   "id": "federal-hunter",
   "metadata": {},
   "outputs": [
    {
     "name": "stderr",
     "output_type": "stream",
     "text": [
      "ibmqfactory.load_account:WARNING:2021-04-26 00:25:25,525: Credentials are already in use. The existing account in the session will be replaced.\n"
     ]
    }
   ],
   "source": [
    "# get the result\n",
    "counts_sim1, counts1 = results(backend_name=backend_name, job_sim=job_sim1, job_id=job_id1, num_trial=num_trial)"
   ]
  },
  {
   "cell_type": "code",
   "execution_count": 13,
   "id": "developmental-madrid",
   "metadata": {
    "scrolled": true
   },
   "outputs": [
    {
     "data": {
      "image/png": "[encoded data removed]",
      "text/plain": [
       "<Figure size 504x360 with 1 Axes>"
      ]
     },
     "execution_count": 13,
     "metadata": {},
     "output_type": "execute_result"
    }
   ],
   "source": [
    "# # show plots\n",
    "plot_histogram([counts_sim1, counts1], title='Single Circuits Execution', legend=['Simulator', 'IBM Q Manhattan'])"
   ]
  },
  {
   "cell_type": "markdown",
   "id": "mechanical-metropolitan",
   "metadata": {},
   "source": [
    "## 2 circuits execution"
   ]
  },
  {
   "cell_type": "code",
   "execution_count": 14,
   "id": "simple-travel",
   "metadata": {
    "scrolled": true
   },
   "outputs": [],
   "source": [
    "# # run on device\n",
    "# job_sim2, job2, qc2= multi_exec(backend_name=backend_name, experiments=[(gv1, il1), (gv2, il2)], num_trial=num_trial, shots=shots, return_qc=True)\n",
    "# job_id2 = job2.job_id()\n",
    "# print(job_id2)"
   ]
  },
  {
   "cell_type": "code",
   "execution_count": 15,
   "id": "enormous-observation",
   "metadata": {},
   "outputs": [
    {
     "name": "stdout",
     "output_type": "stream",
     "text": [
      "\r",
      "Job Status: job has successfully run\n"
     ]
    }
   ],
   "source": [
    "# Show the job status\n",
    "job_monitor(job2)"
   ]
  },
  {
   "cell_type": "code",
   "execution_count": 16,
   "id": "weird-condition",
   "metadata": {
    "scrolled": true
   },
   "outputs": [
    {
     "name": "stdout",
     "output_type": "stream",
     "text": [
      "         ┌───┐   ┌─────────┐┌───┐┌───┐                                      »\n",
      "q0_0: ───┤ H ├───┤ RZ(π/4) ├┤ H ├┤ X ├───────────────────────■──────────────»\n",
      "         ├───┤   ├─────────┤├───┤├───┤                       │              »\n",
      "q0_1: ───┤ H ├───┤ RZ(π/4) ├┤ H ├┤ X ├──■────────────────────┼──────────────»\n",
      "         ├───┤   ├─────────┤├───┤├───┤  │     ┌───┐   ┌───┐  │              »\n",
      "q0_2: ───┤ H ├───┤ RZ(π/4) ├┤ H ├┤ X ├──┼─────┤ H ├───┤ H ├──┼──────────────»\n",
      "         ├───┤   ├─────────┤├───┤├───┤  │     └───┘   └───┘  │              »\n",
      "q0_3: ───┤ H ├───┤ RZ(π/4) ├┤ H ├┤ X ├──┼────────────────────┼──────────────»\n",
      "      ┌──┴───┴──┐└─────────┘└───┘└───┘┌─┴─┐┌─────────┐     ┌─┴─┐┌──────────┐»\n",
      "q1_0: ┤ RY(π/4) ├─────────────────────┤ X ├┤ RY(π/4) ├─────┤ X ├┤ RY(-π/4) ├»\n",
      "      └──┬───┬──┘┌─────────┐┌───┐┌───┐└───┘└─────────┘     └───┘└──────────┘»\n",
      "q2_0: ───┤ H ├───┤ RZ(π/4) ├┤ H ├┤ X ├───────────────────────■──────────────»\n",
      "         ├───┤   ├─────────┤├───┤├───┤                       │              »\n",
      "q2_1: ───┤ H ├───┤ RZ(π/4) ├┤ H ├┤ X ├──■────────────────────┼──────────────»\n",
      "         ├───┤   ├─────────┤├───┤├───┤  │     ┌───┐   ┌───┐  │              »\n",
      "q2_2: ───┤ H ├───┤ RZ(π/4) ├┤ H ├┤ X ├──┼─────┤ H ├───┤ H ├──┼──────────────»\n",
      "         ├───┤   ├─────────┤├───┤├───┤  │     └───┘   └───┘  │              »\n",
      "q2_3: ───┤ H ├───┤ RZ(π/4) ├┤ H ├┤ X ├──┼────────────────────┼──────────────»\n",
      "      ┌──┴───┴──┐└─────────┘└───┘└───┘┌─┴─┐┌─────────┐     ┌─┴─┐┌──────────┐»\n",
      "q3_0: ┤ RY(π/4) ├─────────────────────┤ X ├┤ RY(π/4) ├─────┤ X ├┤ RY(-π/4) ├»\n",
      "      └─────────┘                     └───┘└─────────┘     └───┘└──────────┘»\n",
      "c2: 4/══════════════════════════════════════════════════════════════════════»\n",
      "                                                                            »\n",
      "«                                                                             »\n",
      "«q0_0: ───────────────────────────────────────────────────────────────────────»\n",
      "«                                                                             »\n",
      "«q0_1: ──■────────────────────────────────────────────────────────────────────»\n",
      "«        │              ┌───┐┌─────┐┌───┐┌───┐┌───┐┌─────┐     ┌───┐          »\n",
      "«q0_2: ──┼──────────────┤ X ├┤ TDG ├┤ X ├┤ T ├┤ X ├┤ TDG ├──■──┤ X ├───────■──»\n",
      "«        │              └─┬─┘└─────┘└─┬─┘└───┘└─┬─┘└─────┘┌─┴─┐└─┬─┘┌───┐  │  »\n",
      "«q0_3: ──┼────────────────┼───────────■─────────┼─────────┤ X ├──■──┤ T ├──┼──»\n",
      "«      ┌─┴─┐┌──────────┐  │                     │   ┌───┐ └───┘     └───┘┌─┴─┐»\n",
      "«q1_0: ┤ X ├┤ RY(-π/4) ├──■─────────────────────■───┤ T ├────────────────┤ X ├»\n",
      "«      └───┘└──────────┘                            └───┘                └───┘»\n",
      "«q2_0: ───────────────────────────────────────────────────────────────────────»\n",
      "«                                                                             »\n",
      "«q2_1: ──■────────────────────────────────────────────────────────────────────»\n",
      "«        │              ┌───┐┌─────┐┌───┐┌───┐┌───┐┌─────┐     ┌───┐          »\n",
      "«q2_2: ──┼──────────────┤ X ├┤ TDG ├┤ X ├┤ T ├┤ X ├┤ TDG ├──■──┤ X ├───────■──»\n",
      "«        │              └─┬─┘└─────┘└─┬─┘└───┘└─┬─┘└─────┘┌─┴─┐└─┬─┘┌───┐  │  »\n",
      "«q2_3: ──┼────────────────┼───────────■─────────┼─────────┤ X ├──■──┤ T ├──┼──»\n",
      "«      ┌─┴─┐┌──────────┐  │                     │   ┌───┐ └───┘     └───┘┌─┴─┐»\n",
      "«q3_0: ┤ X ├┤ RY(-π/4) ├──■─────────────────────■───┤ T ├────────────────┤ X ├»\n",
      "«      └───┘└──────────┘                            └───┘                └───┘»\n",
      "«c2: 4/═══════════════════════════════════════════════════════════════════════»\n",
      "«                                                                             »\n",
      "«                                                          ┌───┐    ┌───┐»\n",
      "«q0_0: ──────────────────────────────────────────────■─────┤ X ├────┤ H ├»\n",
      "«                                                    │     └───┘    └───┘»\n",
      "«q0_1: ──────────────────────────────■───────────────┼────────────────■──»\n",
      "«       ┌───┐         ┌───┐   ┌───┐  │               │                │  »\n",
      "«q0_2: ─┤ T ├───■─────┤ X ├───┤ H ├──┼───────────────┼────────────────┼──»\n",
      "«       ├───┤   │     ├───┤   ├───┤  │     ┌───┐     │                │  »\n",
      "«q0_3: ─┤ H ├───┼─────┤ H ├───┤ X ├──┼─────┤ H ├─────┼────────────────┼──»\n",
      "«      ┌┴───┴┐┌─┴─┐┌──┴───┴──┐└───┘┌─┴─┐┌──┴───┴──┐┌─┴─┐┌──────────┐┌─┴─┐»\n",
      "«q1_0: ┤ TDG ├┤ X ├┤ RY(π/4) ├─────┤ X ├┤ RY(π/4) ├┤ X ├┤ RY(-π/4) ├┤ X ├»\n",
      "«      └─────┘└───┘└─────────┘     └───┘└─────────┘└───┘└──┬───┬───┘├───┤»\n",
      "«q2_0: ──────────────────────────────────────────────■─────┤ X ├────┤ H ├»\n",
      "«                                                    │     └───┘    └───┘»\n",
      "«q2_1: ──────────────────────────────■───────────────┼────────────────■──»\n",
      "«       ┌───┐         ┌───┐   ┌───┐  │               │                │  »\n",
      "«q2_2: ─┤ T ├───■─────┤ X ├───┤ H ├──┼───────────────┼────────────────┼──»\n",
      "«       ├───┤   │     ├───┤   ├───┤  │     ┌───┐     │                │  »\n",
      "«q2_3: ─┤ H ├───┼─────┤ H ├───┤ X ├──┼─────┤ H ├─────┼────────────────┼──»\n",
      "«      ┌┴───┴┐┌─┴─┐┌──┴───┴──┐└───┘┌─┴─┐┌──┴───┴──┐┌─┴─┐┌──────────┐┌─┴─┐»\n",
      "«q3_0: ┤ TDG ├┤ X ├┤ RY(π/4) ├─────┤ X ├┤ RY(π/4) ├┤ X ├┤ RY(-π/4) ├┤ X ├»\n",
      "«      └─────┘└───┘└─────────┘     └───┘└─────────┘└───┘└──────────┘└───┘»\n",
      "«c2: 4/══════════════════════════════════════════════════════════════════»\n",
      "«                                                                        »\n",
      "«                        ░ ┌─┐         \n",
      "«q0_0: ──────────────────░─┤M├─────────\n",
      "«         ┌───┐    ┌───┐ ░ └╥┘┌─┐      \n",
      "«q0_1: ───┤ X ├────┤ H ├─░──╫─┤M├──────\n",
      "«         └───┘    └───┘ ░  ║ └╥┘┌─┐   \n",
      "«q0_2: ──────────────────░──╫──╫─┤M├───\n",
      "«                        ░  ║  ║ └╥┘┌─┐\n",
      "«q0_3: ──────────────────░──╫──╫──╫─┤M├\n",
      "«      ┌──────────┐      ░  ║  ║  ║ └╥┘\n",
      "«q1_0: ┤ RY(-π/4) ├──────░──╫──╫──╫──╫─\n",
      "«      └──────────┘      ░  ║  ║  ║  ║ \n",
      "«q2_0: ─────────────────────╫──╫──╫──╫─\n",
      "«         ┌───┐    ┌───┐    ║  ║  ║  ║ \n",
      "«q2_1: ───┤ X ├────┤ H ├────╫──╫──╫──╫─\n",
      "«         └───┘    └───┘    ║  ║  ║  ║ \n",
      "«q2_2: ─────────────────────╫──╫──╫──╫─\n",
      "«                           ║  ║  ║  ║ \n",
      "«q2_3: ─────────────────────╫──╫──╫──╫─\n",
      "«      ┌──────────┐         ║  ║  ║  ║ \n",
      "«q3_0: ┤ RY(-π/4) ├─────────╫──╫──╫──╫─\n",
      "«      └──────────┘         ║  ║  ║  ║ \n",
      "«c2: 4/═════════════════════╩══╩══╩══╩═\n",
      "«                           0  1  2  3 \n"
     ]
    }
   ],
   "source": [
    "print(qc2)"
   ]
  },
  {
   "cell_type": "code",
   "execution_count": 17,
   "id": "sized-works",
   "metadata": {},
   "outputs": [
    {
     "name": "stderr",
     "output_type": "stream",
     "text": [
      "ibmqfactory.load_account:WARNING:2021-04-26 00:26:03,301: Credentials are already in use. The existing account in the session will be replaced.\n"
     ]
    }
   ],
   "source": [
    "# get the result\n",
    "counts_sim2, counts2 = results(backend_name=backend_name, job_sim=job_sim2, job_id=job_id2, num_trial=num_trial)"
   ]
  },
  {
   "cell_type": "code",
   "execution_count": 18,
   "id": "boring-gazette",
   "metadata": {},
   "outputs": [
    {
     "data": {
      "image/png": "[encoded data removed]",
      "text/plain": [
       "<Figure size 504x360 with 1 Axes>"
      ]
     },
     "execution_count": 18,
     "metadata": {},
     "output_type": "execute_result"
    }
   ],
   "source": [
    "# # show plots\n",
    "plot_histogram([counts_sim2, counts2], title='2 Circuits Execution', legend=['Simulator', 'IBM Q Manhattan'])"
   ]
  },
  {
   "cell_type": "markdown",
   "id": "improving-ancient",
   "metadata": {},
   "source": [
    "## 3 Circuits execution"
   ]
  },
  {
   "cell_type": "code",
   "execution_count": 19,
   "id": "finite-bennett",
   "metadata": {
    "scrolled": true
   },
   "outputs": [],
   "source": [
    "# # run on device\n",
    "# job_sim3, job3, qc3= multi_exec(backend_name=backend_name, experiments=[(gv1, il1), (gv2, il2), (gv3, il3)], num_trial=num_trial, shots=shots, return_qc=True)\n",
    "# job_id3 = job3.job_id()\n",
    "# print(job_id3)"
   ]
  },
  {
   "cell_type": "code",
   "execution_count": 20,
   "id": "supported-nightmare",
   "metadata": {},
   "outputs": [
    {
     "name": "stdout",
     "output_type": "stream",
     "text": [
      "Job Status: job has successfully run\n"
     ]
    }
   ],
   "source": [
    "# Show the job status\n",
    "job_monitor(job3)"
   ]
  },
  {
   "cell_type": "code",
   "execution_count": 21,
   "id": "blind-preview",
   "metadata": {},
   "outputs": [
    {
     "name": "stdout",
     "output_type": "stream",
     "text": [
      "         ┌───┐   ┌─────────┐┌───┐┌───┐                                      »\n",
      "q0_0: ───┤ H ├───┤ RZ(π/4) ├┤ H ├┤ X ├───────────────────────■──────────────»\n",
      "         ├───┤   ├─────────┤├───┤├───┤                       │              »\n",
      "q0_1: ───┤ H ├───┤ RZ(π/4) ├┤ H ├┤ X ├──■────────────────────┼──────────────»\n",
      "         ├───┤   ├─────────┤├───┤├───┤  │     ┌───┐   ┌───┐  │              »\n",
      "q0_2: ───┤ H ├───┤ RZ(π/4) ├┤ H ├┤ X ├──┼─────┤ H ├───┤ H ├──┼──────────────»\n",
      "         ├───┤   ├─────────┤├───┤├───┤  │     └───┘   └───┘  │              »\n",
      "q0_3: ───┤ H ├───┤ RZ(π/4) ├┤ H ├┤ X ├──┼────────────────────┼──────────────»\n",
      "      ┌──┴───┴──┐└─────────┘└───┘└───┘┌─┴─┐┌─────────┐     ┌─┴─┐┌──────────┐»\n",
      "q1_0: ┤ RY(π/4) ├─────────────────────┤ X ├┤ RY(π/4) ├─────┤ X ├┤ RY(-π/4) ├»\n",
      "      └──┬───┬──┘┌─────────┐┌───┐┌───┐└───┘└─────────┘     └───┘└──────────┘»\n",
      "q2_0: ───┤ H ├───┤ RZ(π/4) ├┤ H ├┤ X ├───────────────────────■──────────────»\n",
      "         ├───┤   ├─────────┤├───┤├───┤                       │              »\n",
      "q2_1: ───┤ H ├───┤ RZ(π/4) ├┤ H ├┤ X ├──■────────────────────┼──────────────»\n",
      "         ├───┤   ├─────────┤├───┤├───┤  │     ┌───┐   ┌───┐  │              »\n",
      "q2_2: ───┤ H ├───┤ RZ(π/4) ├┤ H ├┤ X ├──┼─────┤ H ├───┤ H ├──┼──────────────»\n",
      "         ├───┤   ├─────────┤├───┤├───┤  │     └───┘   └───┘  │              »\n",
      "q2_3: ───┤ H ├───┤ RZ(π/4) ├┤ H ├┤ X ├──┼────────────────────┼──────────────»\n",
      "      ┌──┴───┴──┐└─────────┘└───┘└───┘┌─┴─┐┌─────────┐     ┌─┴─┐┌──────────┐»\n",
      "q3_0: ┤ RY(π/4) ├─────────────────────┤ X ├┤ RY(π/4) ├─────┤ X ├┤ RY(-π/4) ├»\n",
      "      └──┬───┬──┘┌─────────┐┌───┐┌───┐└───┘└─────────┘     └───┘└──────────┘»\n",
      "q4_0: ───┤ H ├───┤ RZ(π/4) ├┤ H ├┤ X ├───────────────────────■──────────────»\n",
      "         ├───┤   ├─────────┤├───┤├───┤                       │              »\n",
      "q4_1: ───┤ H ├───┤ RZ(π/4) ├┤ H ├┤ X ├──■────────────────────┼──────────────»\n",
      "         ├───┤   ├─────────┤├───┤├───┤  │     ┌───┐   ┌───┐  │              »\n",
      "q4_2: ───┤ H ├───┤ RZ(π/4) ├┤ H ├┤ X ├──┼─────┤ H ├───┤ H ├──┼──────────────»\n",
      "         ├───┤   ├─────────┤├───┤├───┤  │     └───┘   └───┘  │              »\n",
      "q4_3: ───┤ H ├───┤ RZ(π/4) ├┤ H ├┤ X ├──┼────────────────────┼──────────────»\n",
      "      ┌──┴───┴──┐└─────────┘└───┘└───┘┌─┴─┐┌─────────┐     ┌─┴─┐┌──────────┐»\n",
      "q5_0: ┤ RY(π/4) ├─────────────────────┤ X ├┤ RY(π/4) ├─────┤ X ├┤ RY(-π/4) ├»\n",
      "      └─────────┘                     └───┘└─────────┘     └───┘└──────────┘»\n",
      "c3: 4/══════════════════════════════════════════════════════════════════════»\n",
      "                                                                            »\n",
      "«                                                                             »\n",
      "«q0_0: ───────────────────────────────────────────────────────────────────────»\n",
      "«                                                                             »\n",
      "«q0_1: ──■────────────────────────────────────────────────────────────────────»\n",
      "«        │              ┌───┐┌─────┐┌───┐┌───┐┌───┐┌─────┐     ┌───┐          »\n",
      "«q0_2: ──┼──────────────┤ X ├┤ TDG ├┤ X ├┤ T ├┤ X ├┤ TDG ├──■──┤ X ├───────■──»\n",
      "«        │              └─┬─┘└─────┘└─┬─┘└───┘└─┬─┘└─────┘┌─┴─┐└─┬─┘┌───┐  │  »\n",
      "«q0_3: ──┼────────────────┼───────────■─────────┼─────────┤ X ├──■──┤ T ├──┼──»\n",
      "«      ┌─┴─┐┌──────────┐  │                     │   ┌───┐ └───┘     └───┘┌─┴─┐»\n",
      "«q1_0: ┤ X ├┤ RY(-π/4) ├──■─────────────────────■───┤ T ├────────────────┤ X ├»\n",
      "«      └───┘└──────────┘                            └───┘                └───┘»\n",
      "«q2_0: ───────────────────────────────────────────────────────────────────────»\n",
      "«                                                                             »\n",
      "«q2_1: ──■────────────────────────────────────────────────────────────────────»\n",
      "«        │              ┌───┐┌─────┐┌───┐┌───┐┌───┐┌─────┐     ┌───┐          »\n",
      "«q2_2: ──┼──────────────┤ X ├┤ TDG ├┤ X ├┤ T ├┤ X ├┤ TDG ├──■──┤ X ├───────■──»\n",
      "«        │              └─┬─┘└─────┘└─┬─┘└───┘└─┬─┘└─────┘┌─┴─┐└─┬─┘┌───┐  │  »\n",
      "«q2_3: ──┼────────────────┼───────────■─────────┼─────────┤ X ├──■──┤ T ├──┼──»\n",
      "«      ┌─┴─┐┌──────────┐  │                     │   ┌───┐ └───┘     └───┘┌─┴─┐»\n",
      "«q3_0: ┤ X ├┤ RY(-π/4) ├──■─────────────────────■───┤ T ├────────────────┤ X ├»\n",
      "«      └───┘└──────────┘                            └───┘                └───┘»\n",
      "«q4_0: ───────────────────────────────────────────────────────────────────────»\n",
      "«                                                                             »\n",
      "«q4_1: ──■────────────────────────────────────────────────────────────────────»\n",
      "«        │              ┌───┐┌─────┐┌───┐┌───┐┌───┐┌─────┐     ┌───┐          »\n",
      "«q4_2: ──┼──────────────┤ X ├┤ TDG ├┤ X ├┤ T ├┤ X ├┤ TDG ├──■──┤ X ├───────■──»\n",
      "«        │              └─┬─┘└─────┘└─┬─┘└───┘└─┬─┘└─────┘┌─┴─┐└─┬─┘┌───┐  │  »\n",
      "«q4_3: ──┼────────────────┼───────────■─────────┼─────────┤ X ├──■──┤ T ├──┼──»\n",
      "«      ┌─┴─┐┌──────────┐  │                     │   ┌───┐ └───┘     └───┘┌─┴─┐»\n",
      "«q5_0: ┤ X ├┤ RY(-π/4) ├──■─────────────────────■───┤ T ├────────────────┤ X ├»\n",
      "«      └───┘└──────────┘                            └───┘                └───┘»\n",
      "«c3: 4/═══════════════════════════════════════════════════════════════════════»\n",
      "«                                                                             »\n",
      "«                                                          ┌───┐    ┌───┐»\n",
      "«q0_0: ──────────────────────────────────────────────■─────┤ X ├────┤ H ├»\n",
      "«                                                    │     └───┘    └───┘»\n",
      "«q0_1: ──────────────────────────────■───────────────┼────────────────■──»\n",
      "«       ┌───┐         ┌───┐   ┌───┐  │               │                │  »\n",
      "«q0_2: ─┤ T ├───■─────┤ X ├───┤ H ├──┼───────────────┼────────────────┼──»\n",
      "«       ├───┤   │     ├───┤   ├───┤  │     ┌───┐     │                │  »\n",
      "«q0_3: ─┤ H ├───┼─────┤ H ├───┤ X ├──┼─────┤ H ├─────┼────────────────┼──»\n",
      "«      ┌┴───┴┐┌─┴─┐┌──┴───┴──┐└───┘┌─┴─┐┌──┴───┴──┐┌─┴─┐┌──────────┐┌─┴─┐»\n",
      "«q1_0: ┤ TDG ├┤ X ├┤ RY(π/4) ├─────┤ X ├┤ RY(π/4) ├┤ X ├┤ RY(-π/4) ├┤ X ├»\n",
      "«      └─────┘└───┘└─────────┘     └───┘└─────────┘└───┘└──┬───┬───┘├───┤»\n",
      "«q2_0: ──────────────────────────────────────────────■─────┤ X ├────┤ H ├»\n",
      "«                                                    │     └───┘    └───┘»\n",
      "«q2_1: ──────────────────────────────■───────────────┼────────────────■──»\n",
      "«       ┌───┐         ┌───┐   ┌───┐  │               │                │  »\n",
      "«q2_2: ─┤ T ├───■─────┤ X ├───┤ H ├──┼───────────────┼────────────────┼──»\n",
      "«       ├───┤   │     ├───┤   ├───┤  │     ┌───┐     │                │  »\n",
      "«q2_3: ─┤ H ├───┼─────┤ H ├───┤ X ├──┼─────┤ H ├─────┼────────────────┼──»\n",
      "«      ┌┴───┴┐┌─┴─┐┌──┴───┴──┐└───┘┌─┴─┐┌──┴───┴──┐┌─┴─┐┌──────────┐┌─┴─┐»\n",
      "«q3_0: ┤ TDG ├┤ X ├┤ RY(π/4) ├─────┤ X ├┤ RY(π/4) ├┤ X ├┤ RY(-π/4) ├┤ X ├»\n",
      "«      └─────┘└───┘└─────────┘     └───┘└─────────┘└───┘└──┬───┬───┘├───┤»\n",
      "«q4_0: ──────────────────────────────────────────────■─────┤ X ├────┤ H ├»\n",
      "«                                                    │     └───┘    └───┘»\n",
      "«q4_1: ──────────────────────────────■───────────────┼────────────────■──»\n",
      "«       ┌───┐         ┌───┐   ┌───┐  │               │                │  »\n",
      "«q4_2: ─┤ T ├───■─────┤ X ├───┤ H ├──┼───────────────┼────────────────┼──»\n",
      "«       ├───┤   │     ├───┤   ├───┤  │     ┌───┐     │                │  »\n",
      "«q4_3: ─┤ H ├───┼─────┤ H ├───┤ X ├──┼─────┤ H ├─────┼────────────────┼──»\n",
      "«      ┌┴───┴┐┌─┴─┐┌──┴───┴──┐└───┘┌─┴─┐┌──┴───┴──┐┌─┴─┐┌──────────┐┌─┴─┐»\n",
      "«q5_0: ┤ TDG ├┤ X ├┤ RY(π/4) ├─────┤ X ├┤ RY(π/4) ├┤ X ├┤ RY(-π/4) ├┤ X ├»\n",
      "«      └─────┘└───┘└─────────┘     └───┘└─────────┘└───┘└──────────┘└───┘»\n",
      "«c3: 4/══════════════════════════════════════════════════════════════════»\n",
      "«                                                                        »\n",
      "«                        ░ ┌─┐         \n",
      "«q0_0: ──────────────────░─┤M├─────────\n",
      "«         ┌───┐    ┌───┐ ░ └╥┘┌─┐      \n",
      "«q0_1: ───┤ X ├────┤ H ├─░──╫─┤M├──────\n",
      "«         └───┘    └───┘ ░  ║ └╥┘┌─┐   \n",
      "«q0_2: ──────────────────░──╫──╫─┤M├───\n",
      "«                        ░  ║  ║ └╥┘┌─┐\n",
      "«q0_3: ──────────────────░──╫──╫──╫─┤M├\n",
      "«      ┌──────────┐      ░  ║  ║  ║ └╥┘\n",
      "«q1_0: ┤ RY(-π/4) ├──────░──╫──╫──╫──╫─\n",
      "«      └──────────┘      ░  ║  ║  ║  ║ \n",
      "«q2_0: ─────────────────────╫──╫──╫──╫─\n",
      "«         ┌───┐    ┌───┐    ║  ║  ║  ║ \n",
      "«q2_1: ───┤ X ├────┤ H ├────╫──╫──╫──╫─\n",
      "«         └───┘    └───┘    ║  ║  ║  ║ \n",
      "«q2_2: ─────────────────────╫──╫──╫──╫─\n",
      "«                           ║  ║  ║  ║ \n",
      "«q2_3: ─────────────────────╫──╫──╫──╫─\n",
      "«      ┌──────────┐         ║  ║  ║  ║ \n",
      "«q3_0: ┤ RY(-π/4) ├─────────╫──╫──╫──╫─\n",
      "«      └──────────┘         ║  ║  ║  ║ \n",
      "«q4_0: ─────────────────────╫──╫──╫──╫─\n",
      "«         ┌───┐    ┌───┐    ║  ║  ║  ║ \n",
      "«q4_1: ───┤ X ├────┤ H ├────╫──╫──╫──╫─\n",
      "«         └───┘    └───┘    ║  ║  ║  ║ \n",
      "«q4_2: ─────────────────────╫──╫──╫──╫─\n",
      "«                           ║  ║  ║  ║ \n",
      "«q4_3: ─────────────────────╫──╫──╫──╫─\n",
      "«      ┌──────────┐         ║  ║  ║  ║ \n",
      "«q5_0: ┤ RY(-π/4) ├─────────╫──╫──╫──╫─\n",
      "«      └──────────┘         ║  ║  ║  ║ \n",
      "«c3: 4/═════════════════════╩══╩══╩══╩═\n",
      "«                           0  1  2  3 \n"
     ]
    }
   ],
   "source": [
    "print(qc3)"
   ]
  },
  {
   "cell_type": "code",
   "execution_count": 22,
   "id": "choice-original",
   "metadata": {},
   "outputs": [
    {
     "name": "stderr",
     "output_type": "stream",
     "text": [
      "ibmqfactory.load_account:WARNING:2021-04-26 00:27:22,374: Credentials are already in use. The existing account in the session will be replaced.\n"
     ]
    }
   ],
   "source": [
    "# get the result\n",
    "counts_sim3, counts3 = results(backend_name=backend_name, job_sim=job_sim3, job_id=job_id3, num_trial=num_trial)"
   ]
  },
  {
   "cell_type": "code",
   "execution_count": 23,
   "id": "binding-delicious",
   "metadata": {
    "scrolled": true
   },
   "outputs": [
    {
     "data": {
      "image/png": "[encoded data removed]",
      "text/plain": [
       "<Figure size 504x360 with 1 Axes>"
      ]
     },
     "execution_count": 23,
     "metadata": {},
     "output_type": "execute_result"
    }
   ],
   "source": [
    "# # show plots\n",
    "plot_histogram([counts_sim3, counts3], title='3 Circuits Execution', legend=['Simulator', 'IBM Q Manhattan'])"
   ]
  },
  {
   "cell_type": "markdown",
   "id": "defensive-offset",
   "metadata": {},
   "source": [
    "## 4 circuit execution"
   ]
  },
  {
   "cell_type": "code",
   "execution_count": 24,
   "id": "involved-cache",
   "metadata": {
    "scrolled": true
   },
   "outputs": [],
   "source": [
    "# # run on device\n",
    "# job_sim4, job4, qc4= multi_exec(backend_name=backend_name, experiments=[(gv1, il1), (gv2, il2), (gv3, il3), (gv4, il4)], num_trial=num_trial, shots=shots, return_qc=True)\n",
    "# job_id4 = job4.job_id()\n",
    "# print(job_id4)"
   ]
  },
  {
   "cell_type": "code",
   "execution_count": 25,
   "id": "chinese-stack",
   "metadata": {},
   "outputs": [
    {
     "name": "stdout",
     "output_type": "stream",
     "text": [
      "Job Status: job has successfully run\n"
     ]
    }
   ],
   "source": [
    "# Show the job status\n",
    "job_monitor(job4)"
   ]
  },
  {
   "cell_type": "code",
   "execution_count": 26,
   "id": "seeing-glasgow",
   "metadata": {},
   "outputs": [
    {
     "name": "stdout",
     "output_type": "stream",
     "text": [
      "         ┌───┐   ┌─────────┐┌───┐┌───┐                                      »\n",
      "q0_0: ───┤ H ├───┤ RZ(π/4) ├┤ H ├┤ X ├───────────────────────■──────────────»\n",
      "         ├───┤   ├─────────┤├───┤├───┤                       │              »\n",
      "q0_1: ───┤ H ├───┤ RZ(π/4) ├┤ H ├┤ X ├──■────────────────────┼──────────────»\n",
      "         ├───┤   ├─────────┤├───┤├───┤  │     ┌───┐   ┌───┐  │              »\n",
      "q0_2: ───┤ H ├───┤ RZ(π/4) ├┤ H ├┤ X ├──┼─────┤ H ├───┤ H ├──┼──────────────»\n",
      "         ├───┤   ├─────────┤├───┤├───┤  │     └───┘   └───┘  │              »\n",
      "q0_3: ───┤ H ├───┤ RZ(π/4) ├┤ H ├┤ X ├──┼────────────────────┼──────────────»\n",
      "      ┌──┴───┴──┐└─────────┘└───┘└───┘┌─┴─┐┌─────────┐     ┌─┴─┐┌──────────┐»\n",
      "q1_0: ┤ RY(π/4) ├─────────────────────┤ X ├┤ RY(π/4) ├─────┤ X ├┤ RY(-π/4) ├»\n",
      "      └──┬───┬──┘┌─────────┐┌───┐┌───┐└───┘└─────────┘     └───┘└──────────┘»\n",
      "q2_0: ───┤ H ├───┤ RZ(π/4) ├┤ H ├┤ X ├───────────────────────■──────────────»\n",
      "         ├───┤   ├─────────┤├───┤├───┤                       │              »\n",
      "q2_1: ───┤ H ├───┤ RZ(π/4) ├┤ H ├┤ X ├──■────────────────────┼──────────────»\n",
      "         ├───┤   ├─────────┤├───┤├───┤  │     ┌───┐   ┌───┐  │              »\n",
      "q2_2: ───┤ H ├───┤ RZ(π/4) ├┤ H ├┤ X ├──┼─────┤ H ├───┤ H ├──┼──────────────»\n",
      "         ├───┤   ├─────────┤├───┤├───┤  │     └───┘   └───┘  │              »\n",
      "q2_3: ───┤ H ├───┤ RZ(π/4) ├┤ H ├┤ X ├──┼────────────────────┼──────────────»\n",
      "      ┌──┴───┴──┐└─────────┘└───┘└───┘┌─┴─┐┌─────────┐     ┌─┴─┐┌──────────┐»\n",
      "q3_0: ┤ RY(π/4) ├─────────────────────┤ X ├┤ RY(π/4) ├─────┤ X ├┤ RY(-π/4) ├»\n",
      "      └──┬───┬──┘┌─────────┐┌───┐┌───┐└───┘└─────────┘     └───┘└──────────┘»\n",
      "q4_0: ───┤ H ├───┤ RZ(π/4) ├┤ H ├┤ X ├───────────────────────■──────────────»\n",
      "         ├───┤   ├─────────┤├───┤├───┤                       │              »\n",
      "q4_1: ───┤ H ├───┤ RZ(π/4) ├┤ H ├┤ X ├──■────────────────────┼──────────────»\n",
      "         ├───┤   ├─────────┤├───┤├───┤  │     ┌───┐   ┌───┐  │              »\n",
      "q4_2: ───┤ H ├───┤ RZ(π/4) ├┤ H ├┤ X ├──┼─────┤ H ├───┤ H ├──┼──────────────»\n",
      "         ├───┤   ├─────────┤├───┤├───┤  │     └───┘   └───┘  │              »\n",
      "q4_3: ───┤ H ├───┤ RZ(π/4) ├┤ H ├┤ X ├──┼────────────────────┼──────────────»\n",
      "      ┌──┴───┴──┐└─────────┘└───┘└───┘┌─┴─┐┌─────────┐     ┌─┴─┐┌──────────┐»\n",
      "q5_0: ┤ RY(π/4) ├─────────────────────┤ X ├┤ RY(π/4) ├─────┤ X ├┤ RY(-π/4) ├»\n",
      "      └──┬───┬──┘┌─────────┐┌───┐┌───┐└───┘└─────────┘     └───┘└──────────┘»\n",
      "q6_0: ───┤ H ├───┤ RZ(π/4) ├┤ H ├┤ X ├───────────────────────■──────────────»\n",
      "         ├───┤   ├─────────┤├───┤├───┤                       │              »\n",
      "q6_1: ───┤ H ├───┤ RZ(π/4) ├┤ H ├┤ X ├──■────────────────────┼──────────────»\n",
      "         ├───┤   ├─────────┤├───┤├───┤  │     ┌───┐   ┌───┐  │              »\n",
      "q6_2: ───┤ H ├───┤ RZ(π/4) ├┤ H ├┤ X ├──┼─────┤ H ├───┤ H ├──┼──────────────»\n",
      "         ├───┤   ├─────────┤├───┤├───┤  │     └───┘   └───┘  │              »\n",
      "q6_3: ───┤ H ├───┤ RZ(π/4) ├┤ H ├┤ X ├──┼────────────────────┼──────────────»\n",
      "      ┌──┴───┴──┐└─────────┘└───┘└───┘┌─┴─┐┌─────────┐     ┌─┴─┐┌──────────┐»\n",
      "q7_0: ┤ RY(π/4) ├─────────────────────┤ X ├┤ RY(π/4) ├─────┤ X ├┤ RY(-π/4) ├»\n",
      "      └─────────┘                     └───┘└─────────┘     └───┘└──────────┘»\n",
      "c4: 4/══════════════════════════════════════════════════════════════════════»\n",
      "                                                                            »\n",
      "«                                                                             »\n",
      "«q0_0: ───────────────────────────────────────────────────────────────────────»\n",
      "«                                                                             »\n",
      "«q0_1: ──■────────────────────────────────────────────────────────────────────»\n",
      "«        │              ┌───┐┌─────┐┌───┐┌───┐┌───┐┌─────┐     ┌───┐          »\n",
      "«q0_2: ──┼──────────────┤ X ├┤ TDG ├┤ X ├┤ T ├┤ X ├┤ TDG ├──■──┤ X ├───────■──»\n",
      "«        │              └─┬─┘└─────┘└─┬─┘└───┘└─┬─┘└─────┘┌─┴─┐└─┬─┘┌───┐  │  »\n",
      "«q0_3: ──┼────────────────┼───────────■─────────┼─────────┤ X ├──■──┤ T ├──┼──»\n",
      "«      ┌─┴─┐┌──────────┐  │                     │   ┌───┐ └───┘     └───┘┌─┴─┐»\n",
      "«q1_0: ┤ X ├┤ RY(-π/4) ├──■─────────────────────■───┤ T ├────────────────┤ X ├»\n",
      "«      └───┘└──────────┘                            └───┘                └───┘»\n",
      "«q2_0: ───────────────────────────────────────────────────────────────────────»\n",
      "«                                                                             »\n",
      "«q2_1: ──■────────────────────────────────────────────────────────────────────»\n",
      "«        │              ┌───┐┌─────┐┌───┐┌───┐┌───┐┌─────┐     ┌───┐          »\n",
      "«q2_2: ──┼──────────────┤ X ├┤ TDG ├┤ X ├┤ T ├┤ X ├┤ TDG ├──■──┤ X ├───────■──»\n",
      "«        │              └─┬─┘└─────┘└─┬─┘└───┘└─┬─┘└─────┘┌─┴─┐└─┬─┘┌───┐  │  »\n",
      "«q2_3: ──┼────────────────┼───────────■─────────┼─────────┤ X ├──■──┤ T ├──┼──»\n",
      "«      ┌─┴─┐┌──────────┐  │                     │   ┌───┐ └───┘     └───┘┌─┴─┐»\n",
      "«q3_0: ┤ X ├┤ RY(-π/4) ├──■─────────────────────■───┤ T ├────────────────┤ X ├»\n",
      "«      └───┘└──────────┘                            └───┘                └───┘»\n",
      "«q4_0: ───────────────────────────────────────────────────────────────────────»\n",
      "«                                                                             »\n",
      "«q4_1: ──■────────────────────────────────────────────────────────────────────»\n",
      "«        │              ┌───┐┌─────┐┌───┐┌───┐┌───┐┌─────┐     ┌───┐          »\n",
      "«q4_2: ──┼──────────────┤ X ├┤ TDG ├┤ X ├┤ T ├┤ X ├┤ TDG ├──■──┤ X ├───────■──»\n",
      "«        │              └─┬─┘└─────┘└─┬─┘└───┘└─┬─┘└─────┘┌─┴─┐└─┬─┘┌───┐  │  »\n",
      "«q4_3: ──┼────────────────┼───────────■─────────┼─────────┤ X ├──■──┤ T ├──┼──»\n",
      "«      ┌─┴─┐┌──────────┐  │                     │   ┌───┐ └───┘     └───┘┌─┴─┐»\n",
      "«q5_0: ┤ X ├┤ RY(-π/4) ├──■─────────────────────■───┤ T ├────────────────┤ X ├»\n",
      "«      └───┘└──────────┘                            └───┘                └───┘»\n",
      "«q6_0: ───────────────────────────────────────────────────────────────────────»\n",
      "«                                                                             »\n",
      "«q6_1: ──■────────────────────────────────────────────────────────────────────»\n",
      "«        │              ┌───┐┌─────┐┌───┐┌───┐┌───┐┌─────┐     ┌───┐          »\n",
      "«q6_2: ──┼──────────────┤ X ├┤ TDG ├┤ X ├┤ T ├┤ X ├┤ TDG ├──■──┤ X ├───────■──»\n",
      "«        │              └─┬─┘└─────┘└─┬─┘└───┘└─┬─┘└─────┘┌─┴─┐└─┬─┘┌───┐  │  »\n",
      "«q6_3: ──┼────────────────┼───────────■─────────┼─────────┤ X ├──■──┤ T ├──┼──»\n",
      "«      ┌─┴─┐┌──────────┐  │                     │   ┌───┐ └───┘     └───┘┌─┴─┐»\n",
      "«q7_0: ┤ X ├┤ RY(-π/4) ├──■─────────────────────■───┤ T ├────────────────┤ X ├»\n",
      "«      └───┘└──────────┘                            └───┘                └───┘»\n",
      "«c4: 4/═══════════════════════════════════════════════════════════════════════»\n",
      "«                                                                             »\n",
      "«                                                          ┌───┐    ┌───┐»\n",
      "«q0_0: ──────────────────────────────────────────────■─────┤ X ├────┤ H ├»\n",
      "«                                                    │     └───┘    └───┘»\n",
      "«q0_1: ──────────────────────────────■───────────────┼────────────────■──»\n",
      "«       ┌───┐         ┌───┐   ┌───┐  │               │                │  »\n",
      "«q0_2: ─┤ T ├───■─────┤ X ├───┤ H ├──┼───────────────┼────────────────┼──»\n",
      "«       ├───┤   │     ├───┤   ├───┤  │     ┌───┐     │                │  »\n",
      "«q0_3: ─┤ H ├───┼─────┤ H ├───┤ X ├──┼─────┤ H ├─────┼────────────────┼──»\n",
      "«      ┌┴───┴┐┌─┴─┐┌──┴───┴──┐└───┘┌─┴─┐┌──┴───┴──┐┌─┴─┐┌──────────┐┌─┴─┐»\n",
      "«q1_0: ┤ TDG ├┤ X ├┤ RY(π/4) ├─────┤ X ├┤ RY(π/4) ├┤ X ├┤ RY(-π/4) ├┤ X ├»\n",
      "«      └─────┘└───┘└─────────┘     └───┘└─────────┘└───┘└──┬───┬───┘├───┤»\n",
      "«q2_0: ──────────────────────────────────────────────■─────┤ X ├────┤ H ├»\n",
      "«                                                    │     └───┘    └───┘»\n",
      "«q2_1: ──────────────────────────────■───────────────┼────────────────■──»\n",
      "«       ┌───┐         ┌───┐   ┌───┐  │               │                │  »\n",
      "«q2_2: ─┤ T ├───■─────┤ X ├───┤ H ├──┼───────────────┼────────────────┼──»\n",
      "«       ├───┤   │     ├───┤   ├───┤  │     ┌───┐     │                │  »\n",
      "«q2_3: ─┤ H ├───┼─────┤ H ├───┤ X ├──┼─────┤ H ├─────┼────────────────┼──»\n",
      "«      ┌┴───┴┐┌─┴─┐┌──┴───┴──┐└───┘┌─┴─┐┌──┴───┴──┐┌─┴─┐┌──────────┐┌─┴─┐»\n",
      "«q3_0: ┤ TDG ├┤ X ├┤ RY(π/4) ├─────┤ X ├┤ RY(π/4) ├┤ X ├┤ RY(-π/4) ├┤ X ├»\n",
      "«      └─────┘└───┘└─────────┘     └───┘└─────────┘└───┘└──┬───┬───┘├───┤»\n",
      "«q4_0: ──────────────────────────────────────────────■─────┤ X ├────┤ H ├»\n",
      "«                                                    │     └───┘    └───┘»\n",
      "«q4_1: ──────────────────────────────■───────────────┼────────────────■──»\n",
      "«       ┌───┐         ┌───┐   ┌───┐  │               │                │  »\n",
      "«q4_2: ─┤ T ├───■─────┤ X ├───┤ H ├──┼───────────────┼────────────────┼──»\n",
      "«       ├───┤   │     ├───┤   ├───┤  │     ┌───┐     │                │  »\n",
      "«q4_3: ─┤ H ├───┼─────┤ H ├───┤ X ├──┼─────┤ H ├─────┼────────────────┼──»\n",
      "«      ┌┴───┴┐┌─┴─┐┌──┴───┴──┐└───┘┌─┴─┐┌──┴───┴──┐┌─┴─┐┌──────────┐┌─┴─┐»\n",
      "«q5_0: ┤ TDG ├┤ X ├┤ RY(π/4) ├─────┤ X ├┤ RY(π/4) ├┤ X ├┤ RY(-π/4) ├┤ X ├»\n",
      "«      └─────┘└───┘└─────────┘     └───┘└─────────┘└───┘└──┬───┬───┘├───┤»\n",
      "«q6_0: ──────────────────────────────────────────────■─────┤ X ├────┤ H ├»\n",
      "«                                                    │     └───┘    └───┘»\n",
      "«q6_1: ──────────────────────────────■───────────────┼────────────────■──»\n",
      "«       ┌───┐         ┌───┐   ┌───┐  │               │                │  »\n",
      "«q6_2: ─┤ T ├───■─────┤ X ├───┤ H ├──┼───────────────┼────────────────┼──»\n",
      "«       ├───┤   │     ├───┤   ├───┤  │     ┌───┐     │                │  »\n",
      "«q6_3: ─┤ H ├───┼─────┤ H ├───┤ X ├──┼─────┤ H ├─────┼────────────────┼──»\n",
      "«      ┌┴───┴┐┌─┴─┐┌──┴───┴──┐└───┘┌─┴─┐┌──┴───┴──┐┌─┴─┐┌──────────┐┌─┴─┐»\n",
      "«q7_0: ┤ TDG ├┤ X ├┤ RY(π/4) ├─────┤ X ├┤ RY(π/4) ├┤ X ├┤ RY(-π/4) ├┤ X ├»\n",
      "«      └─────┘└───┘└─────────┘     └───┘└─────────┘└───┘└──────────┘└───┘»\n",
      "«c4: 4/══════════════════════════════════════════════════════════════════»\n",
      "«                                                                        »\n",
      "«                        ░ ┌─┐         \n",
      "«q0_0: ──────────────────░─┤M├─────────\n",
      "«         ┌───┐    ┌───┐ ░ └╥┘┌─┐      \n",
      "«q0_1: ───┤ X ├────┤ H ├─░──╫─┤M├──────\n",
      "«         └───┘    └───┘ ░  ║ └╥┘┌─┐   \n",
      "«q0_2: ──────────────────░──╫──╫─┤M├───\n",
      "«                        ░  ║  ║ └╥┘┌─┐\n",
      "«q0_3: ──────────────────░──╫──╫──╫─┤M├\n",
      "«      ┌──────────┐      ░  ║  ║  ║ └╥┘\n",
      "«q1_0: ┤ RY(-π/4) ├──────░──╫──╫──╫──╫─\n",
      "«      └──────────┘      ░  ║  ║  ║  ║ \n",
      "«q2_0: ─────────────────────╫──╫──╫──╫─\n",
      "«         ┌───┐    ┌───┐    ║  ║  ║  ║ \n",
      "«q2_1: ───┤ X ├────┤ H ├────╫──╫──╫──╫─\n",
      "«         └───┘    └───┘    ║  ║  ║  ║ \n",
      "«q2_2: ─────────────────────╫──╫──╫──╫─\n",
      "«                           ║  ║  ║  ║ \n",
      "«q2_3: ─────────────────────╫──╫──╫──╫─\n",
      "«      ┌──────────┐         ║  ║  ║  ║ \n",
      "«q3_0: ┤ RY(-π/4) ├─────────╫──╫──╫──╫─\n",
      "«      └──────────┘         ║  ║  ║  ║ \n",
      "«q4_0: ─────────────────────╫──╫──╫──╫─\n",
      "«         ┌───┐    ┌───┐    ║  ║  ║  ║ \n",
      "«q4_1: ───┤ X ├────┤ H ├────╫──╫──╫──╫─\n",
      "«         └───┘    └───┘    ║  ║  ║  ║ \n",
      "«q4_2: ─────────────────────╫──╫──╫──╫─\n",
      "«                           ║  ║  ║  ║ \n",
      "«q4_3: ─────────────────────╫──╫──╫──╫─\n",
      "«      ┌──────────┐         ║  ║  ║  ║ \n",
      "«q5_0: ┤ RY(-π/4) ├─────────╫──╫──╫──╫─\n",
      "«      └──────────┘         ║  ║  ║  ║ \n",
      "«q6_0: ─────────────────────╫──╫──╫──╫─\n",
      "«         ┌───┐    ┌───┐    ║  ║  ║  ║ \n",
      "«q6_1: ───┤ X ├────┤ H ├────╫──╫──╫──╫─\n",
      "«         └───┘    └───┘    ║  ║  ║  ║ \n",
      "«q6_2: ─────────────────────╫──╫──╫──╫─\n",
      "«                           ║  ║  ║  ║ \n",
      "«q6_3: ─────────────────────╫──╫──╫──╫─\n",
      "«      ┌──────────┐         ║  ║  ║  ║ \n",
      "«q7_0: ┤ RY(-π/4) ├─────────╫──╫──╫──╫─\n",
      "«      └──────────┘         ║  ║  ║  ║ \n",
      "«c4: 4/═════════════════════╩══╩══╩══╩═\n",
      "«                           0  1  2  3 \n"
     ]
    }
   ],
   "source": [
    "print(qc4)"
   ]
  },
  {
   "cell_type": "code",
   "execution_count": 27,
   "id": "becoming-alpha",
   "metadata": {},
   "outputs": [
    {
     "name": "stderr",
     "output_type": "stream",
     "text": [
      "ibmqfactory.load_account:WARNING:2021-04-26 00:30:34,579: Credentials are already in use. The existing account in the session will be replaced.\n"
     ]
    }
   ],
   "source": [
    "# get the result\n",
    "counts_sim4, counts4 = results(backend_name=backend_name, job_sim=job_sim4, job_id=job_id4, num_trial=num_trial)"
   ]
  },
  {
   "cell_type": "code",
   "execution_count": 28,
   "id": "gross-blair",
   "metadata": {},
   "outputs": [
    {
     "data": {
      "image/png": "[encoded data removed]",
      "text/plain": [
       "<Figure size 504x360 with 1 Axes>"
      ]
     },
     "execution_count": 28,
     "metadata": {},
     "output_type": "execute_result"
    }
   ],
   "source": [
    "# # show plots\n",
    "plot_histogram([counts_sim4, counts4], title='4 Circuits Execution', legend=['Simulator', 'IBM Q Manhattan'])"
   ]
  },
  {
   "cell_type": "markdown",
   "id": "accepting-elder",
   "metadata": {},
   "source": [
    "## 5 circuit execution"
   ]
  },
  {
   "cell_type": "code",
   "execution_count": 29,
   "id": "ancient-jamaica",
   "metadata": {},
   "outputs": [],
   "source": [
    "# # run on device\n",
    "# job_sim5, job5, qc5= multi_exec(backend_name=backend_name, experiments=[(gv1, il1), (gv2, il2), (gv3, il3), (gv4, il4), (gv5, il5)], num_trial=num_trial, shots=shots, return_qc=True)\n",
    "# job_id5 = job5.job_id()\n",
    "# print(job_id5)"
   ]
  },
  {
   "cell_type": "code",
   "execution_count": 30,
   "id": "detailed-morocco",
   "metadata": {},
   "outputs": [
    {
     "name": "stdout",
     "output_type": "stream",
     "text": [
      "Job Status: job has successfully run\n"
     ]
    }
   ],
   "source": [
    "# Show the job status\n",
    "job_monitor(job5)"
   ]
  },
  {
   "cell_type": "code",
   "execution_count": 31,
   "id": "personal-republic",
   "metadata": {},
   "outputs": [
    {
     "name": "stdout",
     "output_type": "stream",
     "text": [
      "         ┌───┐   ┌─────────┐┌───┐┌───┐                                      »\n",
      "q0_0: ───┤ H ├───┤ RZ(π/4) ├┤ H ├┤ X ├───────────────────────■──────────────»\n",
      "         ├───┤   ├─────────┤├───┤├───┤                       │              »\n",
      "q0_1: ───┤ H ├───┤ RZ(π/4) ├┤ H ├┤ X ├──■────────────────────┼──────────────»\n",
      "         ├───┤   ├─────────┤├───┤├───┤  │     ┌───┐   ┌───┐  │              »\n",
      "q0_2: ───┤ H ├───┤ RZ(π/4) ├┤ H ├┤ X ├──┼─────┤ H ├───┤ H ├──┼──────────────»\n",
      "         ├───┤   ├─────────┤├───┤├───┤  │     └───┘   └───┘  │              »\n",
      "q0_3: ───┤ H ├───┤ RZ(π/4) ├┤ H ├┤ X ├──┼────────────────────┼──────────────»\n",
      "      ┌──┴───┴──┐└─────────┘└───┘└───┘┌─┴─┐┌─────────┐     ┌─┴─┐┌──────────┐»\n",
      "q1_0: ┤ RY(π/4) ├─────────────────────┤ X ├┤ RY(π/4) ├─────┤ X ├┤ RY(-π/4) ├»\n",
      "      └──┬───┬──┘┌─────────┐┌───┐┌───┐└───┘└─────────┘     └───┘└──────────┘»\n",
      "q2_0: ───┤ H ├───┤ RZ(π/4) ├┤ H ├┤ X ├───────────────────────■──────────────»\n",
      "         ├───┤   ├─────────┤├───┤├───┤                       │              »\n",
      "q2_1: ───┤ H ├───┤ RZ(π/4) ├┤ H ├┤ X ├──■────────────────────┼──────────────»\n",
      "         ├───┤   ├─────────┤├───┤├───┤  │     ┌───┐   ┌───┐  │              »\n",
      "q2_2: ───┤ H ├───┤ RZ(π/4) ├┤ H ├┤ X ├──┼─────┤ H ├───┤ H ├──┼──────────────»\n",
      "         ├───┤   ├─────────┤├───┤├───┤  │     └───┘   └───┘  │              »\n",
      "q2_3: ───┤ H ├───┤ RZ(π/4) ├┤ H ├┤ X ├──┼────────────────────┼──────────────»\n",
      "      ┌──┴───┴──┐└─────────┘└───┘└───┘┌─┴─┐┌─────────┐     ┌─┴─┐┌──────────┐»\n",
      "q3_0: ┤ RY(π/4) ├─────────────────────┤ X ├┤ RY(π/4) ├─────┤ X ├┤ RY(-π/4) ├»\n",
      "      └──┬───┬──┘┌─────────┐┌───┐┌───┐└───┘└─────────┘     └───┘└──────────┘»\n",
      "q4_0: ───┤ H ├───┤ RZ(π/4) ├┤ H ├┤ X ├───────────────────────■──────────────»\n",
      "         ├───┤   ├─────────┤├───┤├───┤                       │              »\n",
      "q4_1: ───┤ H ├───┤ RZ(π/4) ├┤ H ├┤ X ├──■────────────────────┼──────────────»\n",
      "         ├───┤   ├─────────┤├───┤├───┤  │     ┌───┐   ┌───┐  │              »\n",
      "q4_2: ───┤ H ├───┤ RZ(π/4) ├┤ H ├┤ X ├──┼─────┤ H ├───┤ H ├──┼──────────────»\n",
      "         ├───┤   ├─────────┤├───┤├───┤  │     └───┘   └───┘  │              »\n",
      "q4_3: ───┤ H ├───┤ RZ(π/4) ├┤ H ├┤ X ├──┼────────────────────┼──────────────»\n",
      "      ┌──┴───┴──┐└─────────┘└───┘└───┘┌─┴─┐┌─────────┐     ┌─┴─┐┌──────────┐»\n",
      "q5_0: ┤ RY(π/4) ├─────────────────────┤ X ├┤ RY(π/4) ├─────┤ X ├┤ RY(-π/4) ├»\n",
      "      └──┬───┬──┘┌─────────┐┌───┐┌───┐└───┘└─────────┘     └───┘└──────────┘»\n",
      "q6_0: ───┤ H ├───┤ RZ(π/4) ├┤ H ├┤ X ├───────────────────────■──────────────»\n",
      "         ├───┤   ├─────────┤├───┤├───┤                       │              »\n",
      "q6_1: ───┤ H ├───┤ RZ(π/4) ├┤ H ├┤ X ├──■────────────────────┼──────────────»\n",
      "         ├───┤   ├─────────┤├───┤├───┤  │     ┌───┐   ┌───┐  │              »\n",
      "q6_2: ───┤ H ├───┤ RZ(π/4) ├┤ H ├┤ X ├──┼─────┤ H ├───┤ H ├──┼──────────────»\n",
      "         ├───┤   ├─────────┤├───┤├───┤  │     └───┘   └───┘  │              »\n",
      "q6_3: ───┤ H ├───┤ RZ(π/4) ├┤ H ├┤ X ├──┼────────────────────┼──────────────»\n",
      "      ┌──┴───┴──┐└─────────┘└───┘└───┘┌─┴─┐┌─────────┐     ┌─┴─┐┌──────────┐»\n",
      "q7_0: ┤ RY(π/4) ├─────────────────────┤ X ├┤ RY(π/4) ├─────┤ X ├┤ RY(-π/4) ├»\n",
      "      └──┬───┬──┘┌─────────┐┌───┐┌───┐└───┘└─────────┘     └───┘└──────────┘»\n",
      "q8_0: ───┤ H ├───┤ RZ(π/4) ├┤ H ├┤ X ├───────────────────────■──────────────»\n",
      "         ├───┤   ├─────────┤├───┤├───┤                       │              »\n",
      "q8_1: ───┤ H ├───┤ RZ(π/4) ├┤ H ├┤ X ├──■────────────────────┼──────────────»\n",
      "         ├───┤   ├─────────┤├───┤├───┤  │     ┌───┐   ┌───┐  │              »\n",
      "q8_2: ───┤ H ├───┤ RZ(π/4) ├┤ H ├┤ X ├──┼─────┤ H ├───┤ H ├──┼──────────────»\n",
      "         ├───┤   ├─────────┤├───┤├───┤  │     └───┘   └───┘  │              »\n",
      "q8_3: ───┤ H ├───┤ RZ(π/4) ├┤ H ├┤ X ├──┼────────────────────┼──────────────»\n",
      "      ┌──┴───┴──┐└─────────┘└───┘└───┘┌─┴─┐┌─────────┐     ┌─┴─┐┌──────────┐»\n",
      "q9_0: ┤ RY(π/4) ├─────────────────────┤ X ├┤ RY(π/4) ├─────┤ X ├┤ RY(-π/4) ├»\n",
      "      └─────────┘                     └───┘└─────────┘     └───┘└──────────┘»\n",
      "c5: 4/══════════════════════════════════════════════════════════════════════»\n",
      "                                                                            »\n",
      "«                                                                             »\n",
      "«q0_0: ───────────────────────────────────────────────────────────────────────»\n",
      "«                                                                             »\n",
      "«q0_1: ──■────────────────────────────────────────────────────────────────────»\n",
      "«        │              ┌───┐┌─────┐┌───┐┌───┐┌───┐┌─────┐     ┌───┐          »\n",
      "«q0_2: ──┼──────────────┤ X ├┤ TDG ├┤ X ├┤ T ├┤ X ├┤ TDG ├──■──┤ X ├───────■──»\n",
      "«        │              └─┬─┘└─────┘└─┬─┘└───┘└─┬─┘└─────┘┌─┴─┐└─┬─┘┌───┐  │  »\n",
      "«q0_3: ──┼────────────────┼───────────■─────────┼─────────┤ X ├──■──┤ T ├──┼──»\n",
      "«      ┌─┴─┐┌──────────┐  │                     │   ┌───┐ └───┘     └───┘┌─┴─┐»\n",
      "«q1_0: ┤ X ├┤ RY(-π/4) ├──■─────────────────────■───┤ T ├────────────────┤ X ├»\n",
      "«      └───┘└──────────┘                            └───┘                └───┘»\n",
      "«q2_0: ───────────────────────────────────────────────────────────────────────»\n",
      "«                                                                             »\n",
      "«q2_1: ──■────────────────────────────────────────────────────────────────────»\n",
      "«        │              ┌───┐┌─────┐┌───┐┌───┐┌───┐┌─────┐     ┌───┐          »\n",
      "«q2_2: ──┼──────────────┤ X ├┤ TDG ├┤ X ├┤ T ├┤ X ├┤ TDG ├──■──┤ X ├───────■──»\n",
      "«        │              └─┬─┘└─────┘└─┬─┘└───┘└─┬─┘└─────┘┌─┴─┐└─┬─┘┌───┐  │  »\n",
      "«q2_3: ──┼────────────────┼───────────■─────────┼─────────┤ X ├──■──┤ T ├──┼──»\n",
      "«      ┌─┴─┐┌──────────┐  │                     │   ┌───┐ └───┘     └───┘┌─┴─┐»\n",
      "«q3_0: ┤ X ├┤ RY(-π/4) ├──■─────────────────────■───┤ T ├────────────────┤ X ├»\n",
      "«      └───┘└──────────┘                            └───┘                └───┘»\n",
      "«q4_0: ───────────────────────────────────────────────────────────────────────»\n",
      "«                                                                             »\n",
      "«q4_1: ──■────────────────────────────────────────────────────────────────────»\n",
      "«        │              ┌───┐┌─────┐┌───┐┌───┐┌───┐┌─────┐     ┌───┐          »\n",
      "«q4_2: ──┼──────────────┤ X ├┤ TDG ├┤ X ├┤ T ├┤ X ├┤ TDG ├──■──┤ X ├───────■──»\n",
      "«        │              └─┬─┘└─────┘└─┬─┘└───┘└─┬─┘└─────┘┌─┴─┐└─┬─┘┌───┐  │  »\n",
      "«q4_3: ──┼────────────────┼───────────■─────────┼─────────┤ X ├──■──┤ T ├──┼──»\n",
      "«      ┌─┴─┐┌──────────┐  │                     │   ┌───┐ └───┘     └───┘┌─┴─┐»\n",
      "«q5_0: ┤ X ├┤ RY(-π/4) ├──■─────────────────────■───┤ T ├────────────────┤ X ├»\n",
      "«      └───┘└──────────┘                            └───┘                └───┘»\n",
      "«q6_0: ───────────────────────────────────────────────────────────────────────»\n",
      "«                                                                             »\n",
      "«q6_1: ──■────────────────────────────────────────────────────────────────────»\n",
      "«        │              ┌───┐┌─────┐┌───┐┌───┐┌───┐┌─────┐     ┌───┐          »\n",
      "«q6_2: ──┼──────────────┤ X ├┤ TDG ├┤ X ├┤ T ├┤ X ├┤ TDG ├──■──┤ X ├───────■──»\n",
      "«        │              └─┬─┘└─────┘└─┬─┘└───┘└─┬─┘└─────┘┌─┴─┐└─┬─┘┌───┐  │  »\n",
      "«q6_3: ──┼────────────────┼───────────■─────────┼─────────┤ X ├──■──┤ T ├──┼──»\n",
      "«      ┌─┴─┐┌──────────┐  │                     │   ┌───┐ └───┘     └───┘┌─┴─┐»\n",
      "«q7_0: ┤ X ├┤ RY(-π/4) ├──■─────────────────────■───┤ T ├────────────────┤ X ├»\n",
      "«      └───┘└──────────┘                            └───┘                └───┘»\n",
      "«q8_0: ───────────────────────────────────────────────────────────────────────»\n",
      "«                                                                             »\n",
      "«q8_1: ──■────────────────────────────────────────────────────────────────────»\n",
      "«        │              ┌───┐┌─────┐┌───┐┌───┐┌───┐┌─────┐     ┌───┐          »\n",
      "«q8_2: ──┼──────────────┤ X ├┤ TDG ├┤ X ├┤ T ├┤ X ├┤ TDG ├──■──┤ X ├───────■──»\n",
      "«        │              └─┬─┘└─────┘└─┬─┘└───┘└─┬─┘└─────┘┌─┴─┐└─┬─┘┌───┐  │  »\n",
      "«q8_3: ──┼────────────────┼───────────■─────────┼─────────┤ X ├──■──┤ T ├──┼──»\n",
      "«      ┌─┴─┐┌──────────┐  │                     │   ┌───┐ └───┘     └───┘┌─┴─┐»\n",
      "«q9_0: ┤ X ├┤ RY(-π/4) ├──■─────────────────────■───┤ T ├────────────────┤ X ├»\n",
      "«      └───┘└──────────┘                            └───┘                └───┘»\n",
      "«c5: 4/═══════════════════════════════════════════════════════════════════════»\n",
      "«                                                                             »\n",
      "«                                                          ┌───┐    ┌───┐»\n",
      "«q0_0: ──────────────────────────────────────────────■─────┤ X ├────┤ H ├»\n",
      "«                                                    │     └───┘    └───┘»\n",
      "«q0_1: ──────────────────────────────■───────────────┼────────────────■──»\n",
      "«       ┌───┐         ┌───┐   ┌───┐  │               │                │  »\n",
      "«q0_2: ─┤ T ├───■─────┤ X ├───┤ H ├──┼───────────────┼────────────────┼──»\n",
      "«       ├───┤   │     ├───┤   ├───┤  │     ┌───┐     │                │  »\n",
      "«q0_3: ─┤ H ├───┼─────┤ H ├───┤ X ├──┼─────┤ H ├─────┼────────────────┼──»\n",
      "«      ┌┴───┴┐┌─┴─┐┌──┴───┴──┐└───┘┌─┴─┐┌──┴───┴──┐┌─┴─┐┌──────────┐┌─┴─┐»\n",
      "«q1_0: ┤ TDG ├┤ X ├┤ RY(π/4) ├─────┤ X ├┤ RY(π/4) ├┤ X ├┤ RY(-π/4) ├┤ X ├»\n",
      "«      └─────┘└───┘└─────────┘     └───┘└─────────┘└───┘└──┬───┬───┘├───┤»\n",
      "«q2_0: ──────────────────────────────────────────────■─────┤ X ├────┤ H ├»\n",
      "«                                                    │     └───┘    └───┘»\n",
      "«q2_1: ──────────────────────────────■───────────────┼────────────────■──»\n",
      "«       ┌───┐         ┌───┐   ┌───┐  │               │                │  »\n",
      "«q2_2: ─┤ T ├───■─────┤ X ├───┤ H ├──┼───────────────┼────────────────┼──»\n",
      "«       ├───┤   │     ├───┤   ├───┤  │     ┌───┐     │                │  »\n",
      "«q2_3: ─┤ H ├───┼─────┤ H ├───┤ X ├──┼─────┤ H ├─────┼────────────────┼──»\n",
      "«      ┌┴───┴┐┌─┴─┐┌──┴───┴──┐└───┘┌─┴─┐┌──┴───┴──┐┌─┴─┐┌──────────┐┌─┴─┐»\n",
      "«q3_0: ┤ TDG ├┤ X ├┤ RY(π/4) ├─────┤ X ├┤ RY(π/4) ├┤ X ├┤ RY(-π/4) ├┤ X ├»\n",
      "«      └─────┘└───┘└─────────┘     └───┘└─────────┘└───┘└──┬───┬───┘├───┤»\n",
      "«q4_0: ──────────────────────────────────────────────■─────┤ X ├────┤ H ├»\n",
      "«                                                    │     └───┘    └───┘»\n",
      "«q4_1: ──────────────────────────────■───────────────┼────────────────■──»\n",
      "«       ┌───┐         ┌───┐   ┌───┐  │               │                │  »\n",
      "«q4_2: ─┤ T ├───■─────┤ X ├───┤ H ├──┼───────────────┼────────────────┼──»\n",
      "«       ├───┤   │     ├───┤   ├───┤  │     ┌───┐     │                │  »\n",
      "«q4_3: ─┤ H ├───┼─────┤ H ├───┤ X ├──┼─────┤ H ├─────┼────────────────┼──»\n",
      "«      ┌┴───┴┐┌─┴─┐┌──┴───┴──┐└───┘┌─┴─┐┌──┴───┴──┐┌─┴─┐┌──────────┐┌─┴─┐»\n",
      "«q5_0: ┤ TDG ├┤ X ├┤ RY(π/4) ├─────┤ X ├┤ RY(π/4) ├┤ X ├┤ RY(-π/4) ├┤ X ├»\n",
      "«      └─────┘└───┘└─────────┘     └───┘└─────────┘└───┘└──┬───┬───┘├───┤»\n",
      "«q6_0: ──────────────────────────────────────────────■─────┤ X ├────┤ H ├»\n",
      "«                                                    │     └───┘    └───┘»\n",
      "«q6_1: ──────────────────────────────■───────────────┼────────────────■──»\n",
      "«       ┌───┐         ┌───┐   ┌───┐  │               │                │  »\n",
      "«q6_2: ─┤ T ├───■─────┤ X ├───┤ H ├──┼───────────────┼────────────────┼──»\n",
      "«       ├───┤   │     ├───┤   ├───┤  │     ┌───┐     │                │  »\n",
      "«q6_3: ─┤ H ├───┼─────┤ H ├───┤ X ├──┼─────┤ H ├─────┼────────────────┼──»\n",
      "«      ┌┴───┴┐┌─┴─┐┌──┴───┴──┐└───┘┌─┴─┐┌──┴───┴──┐┌─┴─┐┌──────────┐┌─┴─┐»\n",
      "«q7_0: ┤ TDG ├┤ X ├┤ RY(π/4) ├─────┤ X ├┤ RY(π/4) ├┤ X ├┤ RY(-π/4) ├┤ X ├»\n",
      "«      └─────┘└───┘└─────────┘     └───┘└─────────┘└───┘└──┬───┬───┘├───┤»\n",
      "«q8_0: ──────────────────────────────────────────────■─────┤ X ├────┤ H ├»\n",
      "«                                                    │     └───┘    └───┘»\n",
      "«q8_1: ──────────────────────────────■───────────────┼────────────────■──»\n",
      "«       ┌───┐         ┌───┐   ┌───┐  │               │                │  »\n",
      "«q8_2: ─┤ T ├───■─────┤ X ├───┤ H ├──┼───────────────┼────────────────┼──»\n",
      "«       ├───┤   │     ├───┤   ├───┤  │     ┌───┐     │                │  »\n",
      "«q8_3: ─┤ H ├───┼─────┤ H ├───┤ X ├──┼─────┤ H ├─────┼────────────────┼──»\n",
      "«      ┌┴───┴┐┌─┴─┐┌──┴───┴──┐└───┘┌─┴─┐┌──┴───┴──┐┌─┴─┐┌──────────┐┌─┴─┐»\n",
      "«q9_0: ┤ TDG ├┤ X ├┤ RY(π/4) ├─────┤ X ├┤ RY(π/4) ├┤ X ├┤ RY(-π/4) ├┤ X ├»\n",
      "«      └─────┘└───┘└─────────┘     └───┘└─────────┘└───┘└──────────┘└───┘»\n",
      "«c5: 4/══════════════════════════════════════════════════════════════════»\n",
      "«                                                                        »\n",
      "«                        ░ ┌─┐         \n",
      "«q0_0: ──────────────────░─┤M├─────────\n",
      "«         ┌───┐    ┌───┐ ░ └╥┘┌─┐      \n",
      "«q0_1: ───┤ X ├────┤ H ├─░──╫─┤M├──────\n",
      "«         └───┘    └───┘ ░  ║ └╥┘┌─┐   \n",
      "«q0_2: ──────────────────░──╫──╫─┤M├───\n",
      "«                        ░  ║  ║ └╥┘┌─┐\n",
      "«q0_3: ──────────────────░──╫──╫──╫─┤M├\n",
      "«      ┌──────────┐      ░  ║  ║  ║ └╥┘\n",
      "«q1_0: ┤ RY(-π/4) ├──────░──╫──╫──╫──╫─\n",
      "«      └──────────┘      ░  ║  ║  ║  ║ \n",
      "«q2_0: ─────────────────────╫──╫──╫──╫─\n",
      "«         ┌───┐    ┌───┐    ║  ║  ║  ║ \n",
      "«q2_1: ───┤ X ├────┤ H ├────╫──╫──╫──╫─\n",
      "«         └───┘    └───┘    ║  ║  ║  ║ \n",
      "«q2_2: ─────────────────────╫──╫──╫──╫─\n",
      "«                           ║  ║  ║  ║ \n",
      "«q2_3: ─────────────────────╫──╫──╫──╫─\n",
      "«      ┌──────────┐         ║  ║  ║  ║ \n",
      "«q3_0: ┤ RY(-π/4) ├─────────╫──╫──╫──╫─\n",
      "«      └──────────┘         ║  ║  ║  ║ \n",
      "«q4_0: ─────────────────────╫──╫──╫──╫─\n",
      "«         ┌───┐    ┌───┐    ║  ║  ║  ║ \n",
      "«q4_1: ───┤ X ├────┤ H ├────╫──╫──╫──╫─\n",
      "«         └───┘    └───┘    ║  ║  ║  ║ \n",
      "«q4_2: ─────────────────────╫──╫──╫──╫─\n",
      "«                           ║  ║  ║  ║ \n",
      "«q4_3: ─────────────────────╫──╫──╫──╫─\n",
      "«      ┌──────────┐         ║  ║  ║  ║ \n",
      "«q5_0: ┤ RY(-π/4) ├─────────╫──╫──╫──╫─\n",
      "«      └──────────┘         ║  ║  ║  ║ \n",
      "«q6_0: ─────────────────────╫──╫──╫──╫─\n",
      "«         ┌───┐    ┌───┐    ║  ║  ║  ║ \n",
      "«q6_1: ───┤ X ├────┤ H ├────╫──╫──╫──╫─\n",
      "«         └───┘    └───┘    ║  ║  ║  ║ \n",
      "«q6_2: ─────────────────────╫──╫──╫──╫─\n",
      "«                           ║  ║  ║  ║ \n",
      "«q6_3: ─────────────────────╫──╫──╫──╫─\n",
      "«      ┌──────────┐         ║  ║  ║  ║ \n",
      "«q7_0: ┤ RY(-π/4) ├─────────╫──╫──╫──╫─\n",
      "«      └──────────┘         ║  ║  ║  ║ \n",
      "«q8_0: ─────────────────────╫──╫──╫──╫─\n",
      "«         ┌───┐    ┌───┐    ║  ║  ║  ║ \n",
      "«q8_1: ───┤ X ├────┤ H ├────╫──╫──╫──╫─\n",
      "«         └───┘    └───┘    ║  ║  ║  ║ \n",
      "«q8_2: ─────────────────────╫──╫──╫──╫─\n",
      "«                           ║  ║  ║  ║ \n",
      "«q8_3: ─────────────────────╫──╫──╫──╫─\n",
      "«      ┌──────────┐         ║  ║  ║  ║ \n",
      "«q9_0: ┤ RY(-π/4) ├─────────╫──╫──╫──╫─\n",
      "«      └──────────┘         ║  ║  ║  ║ \n",
      "«c5: 4/═════════════════════╩══╩══╩══╩═\n",
      "«                           0  1  2  3 \n"
     ]
    }
   ],
   "source": [
    "print(qc5)"
   ]
  },
  {
   "cell_type": "code",
   "execution_count": 32,
   "id": "tired-preliminary",
   "metadata": {},
   "outputs": [
    {
     "name": "stderr",
     "output_type": "stream",
     "text": [
      "ibmqfactory.load_account:WARNING:2021-04-26 00:33:41,562: Credentials are already in use. The existing account in the session will be replaced.\n"
     ]
    }
   ],
   "source": [
    "# get the result\n",
    "counts_sim5, counts5 = results(backend_name=backend_name, job_sim=job_sim5, job_id=job_id5, num_trial=num_trial)"
   ]
  },
  {
   "cell_type": "code",
   "execution_count": 33,
   "id": "inside-dutch",
   "metadata": {
    "scrolled": true
   },
   "outputs": [
    {
     "data": {
      "image/png": "[encoded data removed]",
      "text/plain": [
       "<Figure size 504x360 with 1 Axes>"
      ]
     },
     "execution_count": 33,
     "metadata": {},
     "output_type": "execute_result"
    }
   ],
   "source": [
    "# # show plots\n",
    "plot_histogram([counts_sim5, counts5], title='5 Circuits Execution', legend=['Simulator', 'IBM Q Manhattan'])"
   ]
  },
  {
   "cell_type": "code",
   "execution_count": null,
   "id": "photographic-yesterday",
   "metadata": {},
   "outputs": [],
   "source": []
  },
  {
   "cell_type": "code",
   "execution_count": 34,
   "id": "virtual-stupid",
   "metadata": {},
   "outputs": [],
   "source": [
    "from jsd import jsd"
   ]
  },
  {
   "cell_type": "code",
   "execution_count": 36,
   "id": "rising-lafayette",
   "metadata": {},
   "outputs": [],
   "source": [
    "jsd1 = jsd(counts_sim1, counts1)\n",
    "jsd2 = jsd(counts_sim2, counts2)\n",
    "jsd3 = jsd(counts_sim3, counts3)\n",
    "jsd4 = jsd(counts_sim4, counts4)\n",
    "jsd5 = jsd(counts_sim5, counts5)"
   ]
  },
  {
   "cell_type": "code",
   "execution_count": 37,
   "id": "needed-intellectual",
   "metadata": {},
   "outputs": [
    {
     "name": "stdout",
     "output_type": "stream",
     "text": [
      "0.2738357746104622\n",
      "0.2684312841410364\n",
      "0.3022992736290591\n",
      "0.26874556274844646\n",
      "0.2902558667444833\n"
     ]
    }
   ],
   "source": [
    "print(jsd1)\n",
    "print(jsd2)\n",
    "print(jsd3)\n",
    "print(jsd4)\n",
    "print(jsd5)"
   ]
  },
  {
   "cell_type": "code",
   "execution_count": null,
   "id": "proof-capacity",
   "metadata": {},
   "outputs": [],
   "source": []
  }
 ],
 "metadata": {
  "kernelspec": {
   "display_name": "crosstalk_experiments",
   "language": "python",
   "name": "crosstalk_experiments"
  },
  "language_info": {
   "codemirror_mode": {
    "name": "ipython",
    "version": 3
   },
   "file_extension": ".py",
   "mimetype": "text/x-python",
   "name": "python",
   "nbconvert_exporter": "python",
   "pygments_lexer": "ipython3",
   "version": "3.8.5"
  }
 },
 "nbformat": 4,
 "nbformat_minor": 5
}
