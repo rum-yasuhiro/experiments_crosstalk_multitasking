{
 "cells": [
  {
   "cell_type": "markdown",
   "id": "protected-mexican",
   "metadata": {},
   "source": [
    "# Crosstalk effect on Multiple circuit execution with nisq-grover circuits\n",
    "\n",
    "rum\n",
    "\n",
    "2021 / 04 / 21"
   ]
  },
  {
   "cell_type": "code",
   "execution_count": 5,
   "id": "technological-bicycle",
   "metadata": {},
   "outputs": [],
   "source": [
    "from grover_experiments import single_exec, multi_exec\n",
    "from subdivided_phase_oracle_grover import spo_grover"
   ]
  },
  {
   "cell_type": "code",
   "execution_count": null,
   "id": "integrated-blond",
   "metadata": {},
   "outputs": [],
   "source": []
  },
  {
   "cell_type": "code",
   "execution_count": null,
   "id": "eligible-christian",
   "metadata": {},
   "outputs": [],
   "source": [
    "# prepare grover circuits\n",
    "\n",
    "gv1 = spo_grover(num_data=4, measure=True)\n",
    "qubits1 = [gv1.qregs[0][0], gv1.qregs[0][1], gv1.qregs[0][2], gv1.qregs[0][3], gv1.qregs[1][0]]\n",
    "\n",
    "gv2 = spo_grover(num_data=4)\n",
    "qubits1 = [gv1.qregs[0][0], gv1.qregs[0][1], gv1.qregs[0][2], gv1.qregs[0][3], gv1.qregs[1][0]]\n",
    "\n",
    "gv3 = spo_grover(num_data=4)\n",
    "\n",
    "\n",
    "gv4 = spo_grover(num_data=4)"
   ]
  },
  {
   "cell_type": "markdown",
   "id": "convenient-identity",
   "metadata": {},
   "source": [
    "## Run on IBM Q Manhattan"
   ]
  },
  {
   "cell_type": "code",
   "execution_count": null,
   "id": "social-satin",
   "metadata": {},
   "outputs": [],
   "source": [
    "backend_name = 'ibmq_manhattan'\n",
    "shots = 8192\n",
    "\n"
   ]
  },
  {
   "cell_type": "markdown",
   "id": "featured-general",
   "metadata": {},
   "source": []
  }
 ],
 "metadata": {
  "kernelspec": {
   "display_name": "crosstalk_experiments",
   "language": "python",
   "name": "crosstalk_experiments"
  },
  "language_info": {
   "codemirror_mode": {
    "name": "ipython",
    "version": 3
   },
   "file_extension": ".py",
   "mimetype": "text/x-python",
   "name": "python",
   "nbconvert_exporter": "python",
   "pygments_lexer": "ipython3",
   "version": "3.8.5"
  }
 },
 "nbformat": 4,
 "nbformat_minor": 5
}
