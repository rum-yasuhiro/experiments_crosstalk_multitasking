{
 "metadata": {
  "language_info": {
   "codemirror_mode": {
    "name": "ipython",
    "version": 3
   },
   "file_extension": ".py",
   "mimetype": "text/x-python",
   "name": "python",
   "nbconvert_exporter": "python",
   "pygments_lexer": "ipython3",
   "version": 3
  },
  "orig_nbformat": 2
 },
 "nbformat": 4,
 "nbformat_minor": 2,
 "cells": [
  {
   "cell_type": "code",
   "execution_count": null,
   "metadata": {},
   "outputs": [],
   "source": []
  },
  {
   "cell_type": "code",
   "execution_count": null,
   "metadata": {},
   "outputs": [],
   "source": [
    "# prepare benchmark qc\n",
    "name_list_set = load_gspread(worksheet_name='set_3', num_set=10, num_qc=3, shift=3)\n",
    "qc_path = '/Users/Yasuhiro/Documents/aqua/gp/experiments/xtalk_compiler/benchmark_qc/qasmbench.pickle'\n"
   ]
  },
  {
   "cell_type": "code",
   "execution_count": null,
   "metadata": {},
   "outputs": [],
   "source": [
    "for label, name_list in enumerate(name_list_set): \n",
    "    qasmbench = PrepQASMBench(name_list, qc_path)\n",
    "    qc_list = qasmbench.qc_list()\n",
    "\n",
    "    # prepare execution environment\n",
    "    backend = get_IBM_backend('ibmq_toronto')\n",
    "    simulator = get_IBM_backend('ibmq_qasm_simulator')\n",
    "    shots_single=8192\n",
    "    shots_multi=8192\n",
    "    xtalk_prop = pickle_load('/Users/Yasuhiro/Documents/aqua/gp/errors_information/toronto_from20201224/xtalk_data_daily/ratio/2021-01-13.pickle')\n",
    "    save_path = '/Users/Yasuhiro/Documents/aqua/gp/experiments/xtalk_compiler/ibmq_toronto/job_id/2021-01-16_set3/'+  str(label) +'.pickle'\n",
    "\n",
    "    data = execute_xtalk(qc_list, backend, simulator, shots_single, shots_multi, xtalk_prop, save_path)\n",
    "\n",
    "    pprint(data)"
   ]
  }
 ]
}