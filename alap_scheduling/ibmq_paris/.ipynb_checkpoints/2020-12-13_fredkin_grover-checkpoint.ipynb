{
 "cells": [
  {
   "cell_type": "markdown",
   "metadata": {},
   "source": [
    "# ALAP Scheduling \n",
    "### Fredkin (3-qubits, 8 CX) + Grover (2-qubits, 2 CX)\n",
    "\n",
    "2020-12-13"
   ]
  },
  {
   "cell_type": "code",
   "execution_count": 1,
   "metadata": {},
   "outputs": [],
   "source": [
    "# import python tools\n",
    "import os\n",
    "\n",
    "# import qiskit tool\n",
    "from qiskit.transpiler import InstructionDurations\n",
    "\n",
    "# import experimental tools\n",
    "from experiments.alap_scheduling import execute_alap, result_alap\n",
    "from experiments.utils import get_IBM_backend"
   ]
  },
  {
   "cell_type": "markdown",
   "metadata": {},
   "source": [
    "## Experimental Settings"
   ]
  },
  {
   "cell_type": "code",
   "execution_count": 2,
   "metadata": {},
   "outputs": [],
   "source": [
    "date = '2020-12-13'\n",
    "\n",
    "# Choose benchmark circuits from QASMBench\n",
    "benchmark_sets = ['fredkin_n3', 'grover_n2']\n",
    "benchmark_size = 'small'"
   ]
  },
  {
   "cell_type": "code",
   "execution_count": 3,
   "metadata": {},
   "outputs": [
    {
     "name": "stderr",
     "output_type": "stream",
     "text": [
      "/Users/Yasuhiro/.local/share/virtualenvs/experiments-VWP9UmJy/lib/python3.8/site-packages/qiskit/providers/ibmq/ibmqfactory.py:192: UserWarning: Timestamps in IBMQ backend properties, jobs, and job results are all now in local time instead of UTC.\n",
      "  warnings.warn('Timestamps in IBMQ backend properties, jobs, and job results '\n"
     ]
    }
   ],
   "source": [
    "# Define backend device\n",
    "backend = get_IBM_backend('ibmq_paris')\n",
    "simulator = get_IBM_backend('ibmq_qasm_simulator')\n",
    "\n",
    "# Number of trials\n",
    "shots = 8192\n",
    "\n",
    "# Number of experimental seeds\n",
    "nseed = 1"
   ]
  },
  {
   "cell_type": "code",
   "execution_count": 4,
   "metadata": {},
   "outputs": [],
   "source": [
    "# define path to the file to save job data\n",
    "file_name = date + '_'\n",
    "sorted_benchmarks = sorted(benchmark_sets)\n",
    "for _name in sorted_benchmarks: \n",
    "    file_name += _name\n",
    "    if _name == sorted_benchmarks[-1]:\n",
    "        break\n",
    "    file_name += '+'\n",
    "job_save_path = str(os.getcwd()) + \"/job_id/from20201211/\" + file_name"
   ]
  },
  {
   "cell_type": "markdown",
   "metadata": {},
   "source": [
    "## Execute experiments on IBMQ\n",
    "\n",
    "Here, we execute three types of experiments. First one is the  job run on simulator to calculate exact answer of the multi-programming circuit. The other two are the jobs executed on the real device. One is the base line, which is no scheduled, and the other one is the circuit executed with alap schedule policy. "
   ]
  },
  {
   "cell_type": "code",
   "execution_count": 5,
   "metadata": {},
   "outputs": [],
   "source": [
    "instruction_durations = InstructionDurations.from_backend(backend)"
   ]
  },
  {
   "cell_type": "code",
   "execution_count": 6,
   "metadata": {},
   "outputs": [
    {
     "name": "stdout",
     "output_type": "stream",
     "text": [
      "prog: Qubit(QuantumRegister(3, 'q18'), 0) , hw: 22\n",
      "prog: Qubit(QuantumRegister(3, 'q18'), 1) , hw: 19\n",
      "prog: Qubit(QuantumRegister(3, 'q18'), 2) , hw: 16\n",
      "prog: Qubit(QuantumRegister(2, 'q19'), 0) , hw: 2\n",
      "prog: Qubit(QuantumRegister(2, 'q19'), 1) , hw: 3\n",
      "prog: Qubit(QuantumRegister(3, 'q78'), 0) , hw: 22\n",
      "prog: Qubit(QuantumRegister(3, 'q78'), 1) , hw: 19\n",
      "prog: Qubit(QuantumRegister(3, 'q78'), 2) , hw: 16\n",
      "prog: Qubit(QuantumRegister(2, 'q79'), 0) , hw: 2\n",
      "prog: Qubit(QuantumRegister(2, 'q79'), 1) , hw: 3\n"
     ]
    }
   ],
   "source": [
    "job_sim, job, job_alap = execute_alap(\n",
    "                    size=benchmark_size, \n",
    "                    names=benchmark_sets, \n",
    "                    backend=backend, \n",
    "                    simulator=simulator,\n",
    "                    shots = shots, \n",
    "                    nseed=1,\n",
    "                    save_path=job_save_path, \n",
    "                    instruction_durations=instruction_durations,\n",
    "                    )"
   ]
  },
  {
   "cell_type": "code",
   "execution_count": 7,
   "metadata": {},
   "outputs": [
    {
     "name": "stdout",
     "output_type": "stream",
     "text": [
      "<qiskit.providers.ibmq.job.ibmqjob.IBMQJob object at 0x7fdf882c7ee0>\n",
      "[<qiskit.providers.ibmq.job.ibmqjob.IBMQJob object at 0x7fdf88479040>]\n",
      "[<qiskit.providers.ibmq.job.ibmqjob.IBMQJob object at 0x7fdf884963d0>]\n"
     ]
    }
   ],
   "source": [
    "# Show the each job\n",
    "print(job_sim)\n",
    "print(job)\n",
    "print(job_alap)"
   ]
  },
  {
   "cell_type": "markdown",
   "metadata": {},
   "source": [
    "## Get the results"
   ]
  },
  {
   "cell_type": "code",
   "execution_count": 8,
   "metadata": {},
   "outputs": [],
   "source": [
    "# define path to the file to save results\n",
    "result_save_path = str(os.getcwd()) + \"/results/from20201211/\" + file_name"
   ]
  },
  {
   "cell_type": "code",
   "execution_count": 9,
   "metadata": {},
   "outputs": [],
   "source": [
    "result_sim, result_list, result_alap_list, counts_sim, count_list, counts_alap_list, qc_names = result_alap(backend, simulator, job_save_path, result_save_path)"
   ]
  },
  {
   "cell_type": "code",
   "execution_count": 10,
   "metadata": {},
   "outputs": [
    {
     "name": "stdout",
     "output_type": "stream",
     "text": [
      "# Simulator\n",
      "Result(backend_name='ibmq_qasm_simulator', backend_version='0.7.0', qobj_id='1b83bff9-fe5e-4b97-9a8c-67afc48c619a', job_id='5fd5ba49afed59001902651d', success=True, results=[ExperimentResult(shots=8192, success=True, meas_level=MeasLevel.CLASSIFIED, data=ExperimentResultData(counts={'0x1d': 8192}), header=QobjExperimentHeader(clbit_labels=[['c0', 0], ['c0', 1], ['c0', 2], ['c1', 0], ['c1', 1]], creg_sizes=[['c0', 3], ['c1', 2]], global_phase=0.0, memory_slots=5, n_qubits=5, name='circuit8', qreg_sizes=[['q0', 3], ['q1', 2]], qubit_labels=[['q0', 0], ['q0', 1], ['q0', 2], ['q1', 0], ['q1', 1]]), status=DONE, metadata={'fusion': {'applied': False, 'enabled': True, 'method': 'unitary', 'threshold': 14}, 'measure_sampling': True, 'method': 'statevector', 'parallel_shots': 1, 'parallel_state_update': 16}, seed_simulator=551117066, time_taken=0.015306632)], date=2020-12-13 15:53:01.615914+09:00, status=COMPLETED, status=QobjHeader(backend_name='ibmq_qasm_simulator', backend_version='0.1.547'), metadata={'max_memory_mb': 257936, 'omp_enabled': True, 'parallel_experiments': 1, 'time_taken': 0.015466605000000001}, time_taken=0.015466605000000001, client_version={'qiskit': '0.23.1'})\n",
      "\n",
      "# No scheduling\n",
      "Result(backend_name='ibmq_paris', backend_version='1.6.6', qobj_id='6f2f65b3-a327-4df8-a0a0-6cafbf5ea850', job_id='5fd5ba4cd802bc0019c3f6c0', success=True, results=[ExperimentResult(shots=8192, success=True, meas_level=2, data=ExperimentResultData(counts={'0x1': 2, '0x10': 8, '0x11': 11, '0x12': 3, '0x13': 6, '0x14': 9, '0x15': 217, '0x16': 3, '0x17': 7, '0x18': 140, '0x19': 363, '0x1a': 77, '0x1b': 267, '0x1c': 228, '0x1d': 6139, '0x1e': 75, '0x1f': 281, '0x3': 1, '0x4': 2, '0x5': 39, '0x7': 3, '0x8': 10, '0x9': 10, '0xa': 1, '0xb': 19, '0xc': 10, '0xd': 248, '0xe': 3, '0xf': 10}), header=QobjExperimentHeader(clbit_labels=[['c2', 0], ['c2', 1], ['c2', 2], ['c3', 0], ['c3', 1]], creg_sizes=[['c2', 3], ['c3', 2]], global_phase=-3.141592653589793, memory_slots=5, n_qubits=27, name='circuit134', qreg_sizes=[['q', 27]], qubit_labels=[['q', 0], ['q', 1], ['q', 2], ['q', 3], ['q', 4], ['q', 5], ['q', 6], ['q', 7], ['q', 8], ['q', 9], ['q', 10], ['q', 11], ['q', 12], ['q', 13], ['q', 14], ['q', 15], ['q', 16], ['q', 17], ['q', 18], ['q', 19], ['q', 20], ['q', 21], ['q', 22], ['q', 23], ['q', 24], ['q', 25], ['q', 26]]), memory=False)], date=2020-12-13 15:58:45+09:00, status=Successful completion, status=QobjHeader(backend_name='ibmq_paris', backend_version='1.6.6'), time_taken=21.820093631744385, execution_id='fba8c200-3d0f-11eb-bdd1-b02628ea1e00', client_version={'qiskit': '0.23.1'})\n",
      "\n",
      "# ALAP scheduling policy\n",
      "Result(backend_name='ibmq_paris', backend_version='1.6.6', qobj_id='571db23f-9ccf-4b32-bd87-5584d1e95d7b', job_id='5fd5ba4d1d6c74001a0eead1', success=True, results=[ExperimentResult(shots=8192, success=True, meas_level=2, data=ExperimentResultData(counts={'0x1': 3, '0x10': 6, '0x11': 14, '0x12': 7, '0x13': 2, '0x14': 7, '0x15': 208, '0x16': 4, '0x17': 16, '0x18': 179, '0x19': 350, '0x1a': 133, '0x1b': 290, '0x1c': 279, '0x1d': 5846, '0x1e': 72, '0x1f': 301, '0x2': 1, '0x3': 1, '0x4': 1, '0x5': 41, '0x8': 12, '0x9': 19, '0xa': 12, '0xb': 21, '0xc': 15, '0xd': 330, '0xe': 4, '0xf': 18}), header=QobjExperimentHeader(clbit_labels=[['c4', 0], ['c4', 1], ['c4', 2], ['c5', 0], ['c5', 1]], creg_sizes=[['c4', 3], ['c5', 2]], global_phase=0.0, memory_slots=5, n_qubits=27, name='circuit275', qreg_sizes=[['q', 27]], qubit_labels=[['q', 0], ['q', 1], ['q', 2], ['q', 3], ['q', 4], ['q', 5], ['q', 6], ['q', 7], ['q', 8], ['q', 9], ['q', 10], ['q', 11], ['q', 12], ['q', 13], ['q', 14], ['q', 15], ['q', 16], ['q', 17], ['q', 18], ['q', 19], ['q', 20], ['q', 21], ['q', 22], ['q', 23], ['q', 24], ['q', 25], ['q', 26]]), memory=False)], date=2020-12-13 16:01:03+09:00, status=Successful completion, status=QobjHeader(backend_name='ibmq_paris', backend_version='1.6.6'), time_taken=21.197802782058716, execution_id='a782d6ec-3d10-11eb-9942-b02628ea1e00', client_version={'qiskit': '0.23.1'})\n"
     ]
    }
   ],
   "source": [
    "# Show the results\n",
    "print(\"# Simulator\")\n",
    "print(result_sim)\n",
    "\n",
    "print(\"\\n# No scheduling\")\n",
    "for _result in result_list: \n",
    "    print(_result)\n",
    "\n",
    "print(\"\\n# ALAP scheduling policy\")\n",
    "for _result_alap in result_alap_list: \n",
    "    print(_result_alap)"
   ]
  },
  {
   "cell_type": "code",
   "execution_count": 11,
   "metadata": {
    "lines_to_next_cell": 0
   },
   "outputs": [
    {
     "name": "stdout",
     "output_type": "stream",
     "text": [
      "# Simulator\n",
      "{'11 101': 8192}\n",
      "\n",
      "# No scheduling\n",
      "{'00 001': 2, '10 000': 8, '10 001': 11, '10 010': 3, '10 011': 6, '10 100': 9, '10 101': 217, '10 110': 3, '10 111': 7, '11 000': 140, '11 001': 363, '11 010': 77, '11 011': 267, '11 100': 228, '11 101': 6139, '11 110': 75, '11 111': 281, '00 011': 1, '00 100': 2, '00 101': 39, '00 111': 3, '01 000': 10, '01 001': 10, '01 010': 1, '01 011': 19, '01 100': 10, '01 101': 248, '01 110': 3, '01 111': 10}\n",
      "\n",
      "# ALAP scheduling policy\n",
      "{'00 001': 3, '10 000': 6, '10 001': 14, '10 010': 7, '10 011': 2, '10 100': 7, '10 101': 208, '10 110': 4, '10 111': 16, '11 000': 179, '11 001': 350, '11 010': 133, '11 011': 290, '11 100': 279, '11 101': 5846, '11 110': 72, '11 111': 301, '00 010': 1, '00 011': 1, '00 100': 1, '00 101': 41, '01 000': 12, '01 001': 19, '01 010': 12, '01 011': 21, '01 100': 15, '01 101': 330, '01 110': 4, '01 111': 18}\n"
     ]
    }
   ],
   "source": [
    "# Show the counts\n",
    "print(\"# Simulator\")\n",
    "print(counts_sim)\n",
    "\n",
    "print(\"\\n# No scheduling\")\n",
    "for _count in count_list: \n",
    "    print(_count)\n",
    "\n",
    "print(\"\\n# ALAP scheduling policy\")\n",
    "for _count_alap in counts_alap_list: \n",
    "    print(_count_alap)"
   ]
  },
  {
   "cell_type": "code",
   "execution_count": null,
   "metadata": {
    "lines_to_next_cell": 2
   },
   "outputs": [],
   "source": []
  }
 ],
 "metadata": {
  "jupytext": {
   "text_representation": {
    "extension": ".py",
    "format_name": "light",
    "format_version": "1.5",
    "jupytext_version": "1.7.1"
   }
  },
  "kernelspec": {
   "display_name": "Python 3",
   "language": "python",
   "name": "python3"
  },
  "language_info": {
   "codemirror_mode": {
    "name": "ipython",
    "version": 3
   },
   "file_extension": ".py",
   "mimetype": "text/x-python",
   "name": "python",
   "nbconvert_exporter": "python",
   "pygments_lexer": "ipython3",
   "version": "3.8.3"
  }
 },
 "nbformat": 4,
 "nbformat_minor": 2
}
