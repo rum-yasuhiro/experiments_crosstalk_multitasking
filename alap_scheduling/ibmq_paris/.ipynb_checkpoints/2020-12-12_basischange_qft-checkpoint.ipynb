{
 "cells": [
  {
   "cell_type": "markdown",
   "metadata": {},
   "source": [
    "# ALAP Scheduling \n",
    "### Basis change (3-qubits, 10CX) + QFT (4-qubits, 12 CX)\n",
    "\n",
    "2020-12-12"
   ]
  },
  {
   "cell_type": "code",
   "execution_count": 1,
   "metadata": {},
   "outputs": [],
   "source": [
    "# import python tools\n",
    "import os\n",
    "\n",
    "# import qiskit tool\n",
    "from qiskit.transpiler import InstructionDurations\n",
    "\n",
    "# import experimental tools\n",
    "from experiments.alap_scheduling import execute_alap, result_alap\n",
    "from experiments.utils import get_IBM_backend"
   ]
  },
  {
   "cell_type": "markdown",
   "metadata": {},
   "source": [
    "## Experimental Settings"
   ]
  },
  {
   "cell_type": "code",
   "execution_count": 2,
   "metadata": {},
   "outputs": [],
   "source": [
    "date = '2020-12-12'\n",
    "\n",
    "# Choose benchmark circuits from QASMBench\n",
    "benchmark_sets = ['basis_change_n3', 'qft_n4']\n",
    "benchmark_size = 'small'"
   ]
  },
  {
   "cell_type": "code",
   "execution_count": 3,
   "metadata": {},
   "outputs": [
    {
     "name": "stderr",
     "output_type": "stream",
     "text": [
      "/Users/Yasuhiro/.local/share/virtualenvs/experiments-VWP9UmJy/lib/python3.8/site-packages/qiskit/providers/ibmq/ibmqfactory.py:192: UserWarning: Timestamps in IBMQ backend properties, jobs, and job results are all now in local time instead of UTC.\n",
      "  warnings.warn('Timestamps in IBMQ backend properties, jobs, and job results '\n"
     ]
    }
   ],
   "source": [
    "# Define backend device\n",
    "backend = get_IBM_backend('ibmq_paris')\n",
    "simulator = get_IBM_backend('ibmq_qasm_simulator')\n",
    "\n",
    "# Number of trials\n",
    "shots = 8192\n",
    "\n",
    "# Number of experimental seeds\n",
    "nseed = 1"
   ]
  },
  {
   "cell_type": "code",
   "execution_count": 4,
   "metadata": {},
   "outputs": [],
   "source": [
    "# define path to the file to save job data\n",
    "file_name = date + '_'\n",
    "sorted_benchmarks = sorted(benchmark_sets)\n",
    "for _name in sorted_benchmarks: \n",
    "    file_name += _name\n",
    "    if _name == sorted_benchmarks[-1]:\n",
    "        break\n",
    "    file_name += '+'\n",
    "job_save_path = str(os.getcwd()) + \"/job_id/from20201211/\" + file_name"
   ]
  },
  {
   "cell_type": "markdown",
   "metadata": {},
   "source": [
    "## Execute experiments on IBMQ\n",
    "\n",
    "Here, we execute three types of experiments. First one is the  job run on simulator to calculate exact answer of the multi-programming circuit. The other two are the jobs executed on the real device. One is the base line, which is no scheduled, and the other one is the circuit executed with alap schedule policy. "
   ]
  },
  {
   "cell_type": "code",
   "execution_count": 5,
   "metadata": {},
   "outputs": [],
   "source": [
    "instruction_durations = InstructionDurations.from_backend(backend)"
   ]
  },
  {
   "cell_type": "code",
   "execution_count": 6,
   "metadata": {},
   "outputs": [
    {
     "name": "stdout",
     "output_type": "stream",
     "text": [
      "prog: Qubit(QuantumRegister(3, 'q18'), 0) , hw: 14\n",
      "prog: Qubit(QuantumRegister(3, 'q18'), 1) , hw: 16\n",
      "prog: Qubit(QuantumRegister(3, 'q18'), 2) , hw: 19\n",
      "prog: Qubit(QuantumRegister(4, 'q19'), 0) , hw: 23\n",
      "prog: Qubit(QuantumRegister(4, 'q19'), 1) , hw: 24\n",
      "prog: Qubit(QuantumRegister(4, 'q19'), 2) , hw: 25\n",
      "prog: Qubit(QuantumRegister(4, 'q19'), 3) , hw: 26\n",
      "prog: Qubit(QuantumRegister(3, 'q97'), 0) , hw: 14\n",
      "prog: Qubit(QuantumRegister(3, 'q97'), 1) , hw: 16\n",
      "prog: Qubit(QuantumRegister(3, 'q97'), 2) , hw: 19\n",
      "prog: Qubit(QuantumRegister(4, 'q98'), 0) , hw: 23\n",
      "prog: Qubit(QuantumRegister(4, 'q98'), 1) , hw: 24\n",
      "prog: Qubit(QuantumRegister(4, 'q98'), 2) , hw: 25\n",
      "prog: Qubit(QuantumRegister(4, 'q98'), 3) , hw: 26\n"
     ]
    }
   ],
   "source": [
    "job_sim, job, job_alap = execute_alap(\n",
    "                    size=benchmark_size, \n",
    "                    names=benchmark_sets, \n",
    "                    backend=backend, \n",
    "                    simulator=simulator,\n",
    "                    shots = shots, \n",
    "                    nseed=1,\n",
    "                    save_path=job_save_path, \n",
    "                    instruction_durations=instruction_durations,\n",
    "                    )"
   ]
  },
  {
   "cell_type": "code",
   "execution_count": 7,
   "metadata": {},
   "outputs": [
    {
     "name": "stdout",
     "output_type": "stream",
     "text": [
      "<qiskit.providers.ibmq.job.ibmqjob.IBMQJob object at 0x7fad1bdadf70>\n",
      "[<qiskit.providers.ibmq.job.ibmqjob.IBMQJob object at 0x7fad1bdd0e80>]\n",
      "[<qiskit.providers.ibmq.job.ibmqjob.IBMQJob object at 0x7fad1bfc9790>]\n"
     ]
    }
   ],
   "source": [
    "# Show the each job\n",
    "print(job_sim)\n",
    "print(job)\n",
    "print(job_alap)"
   ]
  },
  {
   "cell_type": "markdown",
   "metadata": {},
   "source": [
    "## Get the results"
   ]
  },
  {
   "cell_type": "code",
   "execution_count": 8,
   "metadata": {},
   "outputs": [],
   "source": [
    "# define path to the file to save results\n",
    "result_save_path = str(os.getcwd()) + \"/results/from20201211/\" + file_name"
   ]
  },
  {
   "cell_type": "code",
   "execution_count": 9,
   "metadata": {},
   "outputs": [],
   "source": [
    "result_sim, result_list, result_alap_list, counts_sim, count_list, counts_alap_list, qc_names = result_alap(backend, simulator, job_save_path, result_save_path)"
   ]
  },
  {
   "cell_type": "code",
   "execution_count": 10,
   "metadata": {},
   "outputs": [
    {
     "name": "stdout",
     "output_type": "stream",
     "text": [
      "# Simulator\n",
      "Result(backend_name='ibmq_qasm_simulator', backend_version='0.7.0', qobj_id='07320661-e298-400d-a2f5-efee571bf1ac', job_id='5fd3fe7f80c762001a7466ec', success=True, results=[ExperimentResult(shots=8192, success=True, meas_level=MeasLevel.CLASSIFIED, data=ExperimentResultData(counts={'0x0': 519, '0x10': 475, '0x18': 521, '0x20': 536, '0x28': 531, '0x30': 519, '0x38': 490, '0x40': 495, '0x48': 535, '0x50': 510, '0x58': 485, '0x60': 515, '0x68': 533, '0x70': 527, '0x78': 513, '0x8': 488}), header=QobjExperimentHeader(clbit_labels=[['c0', 0], ['c0', 1], ['c0', 2], ['c1', 0], ['c1', 1], ['c1', 2], ['c1', 3]], creg_sizes=[['c0', 3], ['c1', 4]], global_phase=0.0, memory_slots=7, n_qubits=7, name='circuit8', qreg_sizes=[['q0', 3], ['q1', 4]], qubit_labels=[['q0', 0], ['q0', 1], ['q0', 2], ['q1', 0], ['q1', 1], ['q1', 2], ['q1', 3]]), status=DONE, metadata={'fusion': {'applied': False, 'enabled': True, 'method': 'unitary', 'threshold': 14}, 'measure_sampling': True, 'method': 'statevector', 'parallel_shots': 1, 'parallel_state_update': 16}, seed_simulator=1299914925, time_taken=0.021843852)], date=2020-12-12 08:19:32.059357+09:00, status=COMPLETED, status=QobjHeader(backend_name='ibmq_qasm_simulator', backend_version='0.1.547'), metadata={'max_memory_mb': 257936, 'omp_enabled': True, 'parallel_experiments': 1, 'time_taken': 0.022049327}, time_taken=0.022049327, client_version={'qiskit': '0.23.1'})\n",
      "\n",
      "# No scheduling\n",
      "Result(backend_name='ibmq_paris', backend_version='1.6.5', qobj_id='19be7bb0-a0f9-4412-b205-f381e52c00cf', job_id='5fd3fe82b98c9b001a570720', success=True, results=[ExperimentResult(shots=8192, success=True, meas_level=2, data=ExperimentResultData(counts={'0x0': 500, '0x1': 27, '0x10': 427, '0x11': 28, '0x12': 23, '0x13': 6, '0x14': 22, '0x15': 11, '0x16': 6, '0x18': 404, '0x19': 23, '0x1a': 31, '0x1b': 8, '0x1c': 17, '0x1d': 11, '0x1e': 8, '0x1f': 1, '0x2': 28, '0x20': 475, '0x21': 27, '0x22': 26, '0x23': 9, '0x24': 17, '0x25': 7, '0x26': 7, '0x27': 1, '0x28': 383, '0x29': 22, '0x2a': 27, '0x2b': 6, '0x2c': 15, '0x2d': 6, '0x2e': 2, '0x2f': 1, '0x3': 9, '0x30': 447, '0x31': 19, '0x32': 27, '0x33': 8, '0x34': 20, '0x35': 9, '0x36': 11, '0x38': 379, '0x39': 11, '0x3a': 12, '0x3b': 4, '0x3c': 16, '0x3d': 3, '0x3e': 4, '0x3f': 7, '0x4': 20, '0x40': 514, '0x41': 33, '0x42': 29, '0x43': 6, '0x44': 13, '0x45': 4, '0x46': 9, '0x47': 3, '0x48': 414, '0x49': 27, '0x4a': 22, '0x4b': 5, '0x4c': 13, '0x4d': 6, '0x4e': 6, '0x4f': 6, '0x5': 10, '0x50': 333, '0x51': 17, '0x52': 29, '0x53': 3, '0x54': 16, '0x55': 3, '0x56': 7, '0x58': 344, '0x59': 17, '0x5a': 20, '0x5b': 10, '0x5c': 15, '0x5d': 4, '0x5e': 4, '0x5f': 1, '0x6': 4, '0x60': 519, '0x61': 30, '0x62': 23, '0x63': 7, '0x64': 23, '0x65': 13, '0x66': 10, '0x67': 1, '0x68': 409, '0x69': 26, '0x6a': 20, '0x6b': 6, '0x6c': 22, '0x6d': 1, '0x6e': 2, '0x6f': 4, '0x7': 1, '0x70': 493, '0x71': 33, '0x72': 23, '0x73': 9, '0x74': 19, '0x75': 6, '0x76': 3, '0x77': 1, '0x78': 405, '0x79': 18, '0x7a': 22, '0x7b': 7, '0x7c': 9, '0x7d': 6, '0x7e': 5, '0x7f': 2, '0x8': 378, '0x9': 18, '0xa': 21, '0xb': 7, '0xc': 15, '0xd': 4, '0xe': 4, '0xf': 2}), header=QobjExperimentHeader(clbit_labels=[['c2', 0], ['c2', 1], ['c2', 2], ['c3', 0], ['c3', 1], ['c3', 2], ['c3', 3]], creg_sizes=[['c2', 3], ['c3', 4]], global_phase=1.9634954084936211, memory_slots=7, n_qubits=27, name='circuit134', qreg_sizes=[['q', 27]], qubit_labels=[['q', 0], ['q', 1], ['q', 2], ['q', 3], ['q', 4], ['q', 5], ['q', 6], ['q', 7], ['q', 8], ['q', 9], ['q', 10], ['q', 11], ['q', 12], ['q', 13], ['q', 14], ['q', 15], ['q', 16], ['q', 17], ['q', 18], ['q', 19], ['q', 20], ['q', 21], ['q', 22], ['q', 23], ['q', 24], ['q', 25], ['q', 26]]), memory=False)], date=2020-12-12 08:22:44+09:00, status=Successful completion, status=QobjHeader(backend_name='ibmq_paris', backend_version='1.6.5'), time_taken=22.186713933944702, execution_id='ad2285c0-3c07-11eb-897b-b02628ea1e00', client_version={'qiskit': '0.23.1'})\n",
      "\n",
      "# ALAP scheduling policy\n",
      "Result(backend_name='ibmq_paris', backend_version='1.6.5', qobj_id='da8844eb-369b-4a75-b734-3d952d81fa9a', job_id='5fd3fe84b98c9b001a570721', success=True, results=[ExperimentResult(shots=8192, success=True, meas_level=2, data=ExperimentResultData(counts={'0x0': 462, '0x1': 28, '0x10': 448, '0x11': 30, '0x12': 24, '0x13': 9, '0x14': 17, '0x15': 9, '0x16': 7, '0x17': 1, '0x18': 390, '0x19': 21, '0x1a': 20, '0x1b': 8, '0x1c': 13, '0x1d': 3, '0x1e': 5, '0x2': 29, '0x20': 454, '0x21': 22, '0x22': 28, '0x23': 9, '0x24': 30, '0x25': 8, '0x26': 8, '0x27': 3, '0x28': 359, '0x29': 15, '0x2a': 25, '0x2b': 5, '0x2c': 12, '0x2d': 2, '0x2e': 5, '0x2f': 1, '0x3': 5, '0x30': 445, '0x31': 29, '0x32': 22, '0x33': 6, '0x34': 20, '0x35': 4, '0x36': 6, '0x37': 2, '0x38': 358, '0x39': 19, '0x3a': 28, '0x3b': 5, '0x3c': 12, '0x3d': 4, '0x3e': 10, '0x3f': 1, '0x4': 22, '0x40': 498, '0x41': 28, '0x42': 32, '0x43': 9, '0x44': 31, '0x45': 7, '0x46': 4, '0x47': 1, '0x48': 453, '0x49': 27, '0x4a': 26, '0x4b': 6, '0x4c': 13, '0x4d': 2, '0x4e': 9, '0x4f': 3, '0x5': 8, '0x50': 374, '0x51': 28, '0x52': 19, '0x53': 10, '0x54': 17, '0x55': 5, '0x56': 5, '0x57': 1, '0x58': 333, '0x59': 16, '0x5a': 15, '0x5b': 3, '0x5c': 14, '0x5d': 1, '0x5e': 4, '0x5f': 2, '0x6': 12, '0x60': 495, '0x61': 28, '0x62': 29, '0x63': 12, '0x64': 21, '0x65': 7, '0x66': 9, '0x67': 4, '0x68': 424, '0x69': 23, '0x6a': 27, '0x6b': 3, '0x6c': 15, '0x6d': 2, '0x6e': 5, '0x6f': 4, '0x7': 2, '0x70': 519, '0x71': 30, '0x72': 24, '0x73': 13, '0x74': 24, '0x75': 7, '0x76': 6, '0x77': 2, '0x78': 398, '0x79': 27, '0x7a': 28, '0x7b': 11, '0x7c': 15, '0x7d': 5, '0x7e': 6, '0x7f': 1, '0x8': 354, '0x9': 33, '0xa': 17, '0xb': 5, '0xc': 22, '0xd': 5, '0xe': 5, '0xf': 1}), header=QobjExperimentHeader(clbit_labels=[['c4', 0], ['c4', 1], ['c4', 2], ['c5', 0], ['c5', 1], ['c5', 2], ['c5', 3]], creg_sizes=[['c4', 3], ['c5', 4]], global_phase=0.0, memory_slots=7, n_qubits=27, name='circuit459', qreg_sizes=[['q', 27]], qubit_labels=[['q', 0], ['q', 1], ['q', 2], ['q', 3], ['q', 4], ['q', 5], ['q', 6], ['q', 7], ['q', 8], ['q', 9], ['q', 10], ['q', 11], ['q', 12], ['q', 13], ['q', 14], ['q', 15], ['q', 16], ['q', 17], ['q', 18], ['q', 19], ['q', 20], ['q', 21], ['q', 22], ['q', 23], ['q', 24], ['q', 25], ['q', 26]]), memory=False)], date=2020-12-12 08:23:34+09:00, status=Successful completion, status=QobjHeader(backend_name='ibmq_paris', backend_version='1.6.5'), time_taken=22.16519832611084, execution_id='c91beba4-3c07-11eb-9285-b02628ea1e00', client_version={'qiskit': '0.23.1'})\n"
     ]
    }
   ],
   "source": [
    "# Show the results\n",
    "print(\"# Simulator\")\n",
    "print(result_sim)\n",
    "\n",
    "print(\"\\n# No scheduling\")\n",
    "for _result in result_list: \n",
    "    print(_result)\n",
    "\n",
    "print(\"\\n# ALAP scheduling policy\")\n",
    "for _result_alap in result_alap_list: \n",
    "    print(_result_alap)"
   ]
  },
  {
   "cell_type": "code",
   "execution_count": 11,
   "metadata": {},
   "outputs": [
    {
     "name": "stdout",
     "output_type": "stream",
     "text": [
      "# Simulator\n",
      "{'0000 000': 519, '0010 000': 475, '0011 000': 521, '0100 000': 536, '0101 000': 531, '0110 000': 519, '0111 000': 490, '1000 000': 495, '1001 000': 535, '1010 000': 510, '1011 000': 485, '1100 000': 515, '1101 000': 533, '1110 000': 527, '1111 000': 513, '0001 000': 488}\n",
      "\n",
      "# No scheduling\n",
      "{'0000 000': 500, '0000 001': 27, '0010 000': 427, '0010 001': 28, '0010 010': 23, '0010 011': 6, '0010 100': 22, '0010 101': 11, '0010 110': 6, '0011 000': 404, '0011 001': 23, '0011 010': 31, '0011 011': 8, '0011 100': 17, '0011 101': 11, '0011 110': 8, '0011 111': 1, '0000 010': 28, '0100 000': 475, '0100 001': 27, '0100 010': 26, '0100 011': 9, '0100 100': 17, '0100 101': 7, '0100 110': 7, '0100 111': 1, '0101 000': 383, '0101 001': 22, '0101 010': 27, '0101 011': 6, '0101 100': 15, '0101 101': 6, '0101 110': 2, '0101 111': 1, '0000 011': 9, '0110 000': 447, '0110 001': 19, '0110 010': 27, '0110 011': 8, '0110 100': 20, '0110 101': 9, '0110 110': 11, '0111 000': 379, '0111 001': 11, '0111 010': 12, '0111 011': 4, '0111 100': 16, '0111 101': 3, '0111 110': 4, '0111 111': 7, '0000 100': 20, '1000 000': 514, '1000 001': 33, '1000 010': 29, '1000 011': 6, '1000 100': 13, '1000 101': 4, '1000 110': 9, '1000 111': 3, '1001 000': 414, '1001 001': 27, '1001 010': 22, '1001 011': 5, '1001 100': 13, '1001 101': 6, '1001 110': 6, '1001 111': 6, '0000 101': 10, '1010 000': 333, '1010 001': 17, '1010 010': 29, '1010 011': 3, '1010 100': 16, '1010 101': 3, '1010 110': 7, '1011 000': 344, '1011 001': 17, '1011 010': 20, '1011 011': 10, '1011 100': 15, '1011 101': 4, '1011 110': 4, '1011 111': 1, '0000 110': 4, '1100 000': 519, '1100 001': 30, '1100 010': 23, '1100 011': 7, '1100 100': 23, '1100 101': 13, '1100 110': 10, '1100 111': 1, '1101 000': 409, '1101 001': 26, '1101 010': 20, '1101 011': 6, '1101 100': 22, '1101 101': 1, '1101 110': 2, '1101 111': 4, '0000 111': 1, '1110 000': 493, '1110 001': 33, '1110 010': 23, '1110 011': 9, '1110 100': 19, '1110 101': 6, '1110 110': 3, '1110 111': 1, '1111 000': 405, '1111 001': 18, '1111 010': 22, '1111 011': 7, '1111 100': 9, '1111 101': 6, '1111 110': 5, '1111 111': 2, '0001 000': 378, '0001 001': 18, '0001 010': 21, '0001 011': 7, '0001 100': 15, '0001 101': 4, '0001 110': 4, '0001 111': 2}\n",
      "\n",
      "# ALAP scheduling policy\n",
      "{'0000 000': 462, '0000 001': 28, '0010 000': 448, '0010 001': 30, '0010 010': 24, '0010 011': 9, '0010 100': 17, '0010 101': 9, '0010 110': 7, '0010 111': 1, '0011 000': 390, '0011 001': 21, '0011 010': 20, '0011 011': 8, '0011 100': 13, '0011 101': 3, '0011 110': 5, '0000 010': 29, '0100 000': 454, '0100 001': 22, '0100 010': 28, '0100 011': 9, '0100 100': 30, '0100 101': 8, '0100 110': 8, '0100 111': 3, '0101 000': 359, '0101 001': 15, '0101 010': 25, '0101 011': 5, '0101 100': 12, '0101 101': 2, '0101 110': 5, '0101 111': 1, '0000 011': 5, '0110 000': 445, '0110 001': 29, '0110 010': 22, '0110 011': 6, '0110 100': 20, '0110 101': 4, '0110 110': 6, '0110 111': 2, '0111 000': 358, '0111 001': 19, '0111 010': 28, '0111 011': 5, '0111 100': 12, '0111 101': 4, '0111 110': 10, '0111 111': 1, '0000 100': 22, '1000 000': 498, '1000 001': 28, '1000 010': 32, '1000 011': 9, '1000 100': 31, '1000 101': 7, '1000 110': 4, '1000 111': 1, '1001 000': 453, '1001 001': 27, '1001 010': 26, '1001 011': 6, '1001 100': 13, '1001 101': 2, '1001 110': 9, '1001 111': 3, '0000 101': 8, '1010 000': 374, '1010 001': 28, '1010 010': 19, '1010 011': 10, '1010 100': 17, '1010 101': 5, '1010 110': 5, '1010 111': 1, '1011 000': 333, '1011 001': 16, '1011 010': 15, '1011 011': 3, '1011 100': 14, '1011 101': 1, '1011 110': 4, '1011 111': 2, '0000 110': 12, '1100 000': 495, '1100 001': 28, '1100 010': 29, '1100 011': 12, '1100 100': 21, '1100 101': 7, '1100 110': 9, '1100 111': 4, '1101 000': 424, '1101 001': 23, '1101 010': 27, '1101 011': 3, '1101 100': 15, '1101 101': 2, '1101 110': 5, '1101 111': 4, '0000 111': 2, '1110 000': 519, '1110 001': 30, '1110 010': 24, '1110 011': 13, '1110 100': 24, '1110 101': 7, '1110 110': 6, '1110 111': 2, '1111 000': 398, '1111 001': 27, '1111 010': 28, '1111 011': 11, '1111 100': 15, '1111 101': 5, '1111 110': 6, '1111 111': 1, '0001 000': 354, '0001 001': 33, '0001 010': 17, '0001 011': 5, '0001 100': 22, '0001 101': 5, '0001 110': 5, '0001 111': 1}\n"
     ]
    }
   ],
   "source": [
    "# Show the counts\n",
    "print(\"# Simulator\")\n",
    "print(counts_sim)\n",
    "\n",
    "print(\"\\n# No scheduling\")\n",
    "for _count in count_list: \n",
    "    print(_count)\n",
    "\n",
    "print(\"\\n# ALAP scheduling policy\")\n",
    "for _count_alap in counts_alap_list: \n",
    "    print(_count_alap)"
   ]
  },
  {
   "cell_type": "code",
   "execution_count": null,
   "metadata": {},
   "outputs": [],
   "source": []
  }
 ],
 "metadata": {
  "jupytext": {
   "text_representation": {
    "extension": ".py",
    "format_name": "light",
    "format_version": "1.5",
    "jupytext_version": "1.7.1"
   }
  },
  "kernelspec": {
   "display_name": "Python 3",
   "language": "python",
   "name": "python3"
  },
  "language_info": {
   "codemirror_mode": {
    "name": "ipython",
    "version": 3
   },
   "file_extension": ".py",
   "mimetype": "text/x-python",
   "name": "python",
   "nbconvert_exporter": "python",
   "pygments_lexer": "ipython3",
   "version": "3.8.3"
  }
 },
 "nbformat": 4,
 "nbformat_minor": 2
}
