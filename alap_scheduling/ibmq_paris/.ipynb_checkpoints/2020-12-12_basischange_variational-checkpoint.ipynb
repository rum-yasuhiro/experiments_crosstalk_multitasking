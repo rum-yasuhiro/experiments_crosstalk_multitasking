{
 "cells": [
  {
   "cell_type": "markdown",
   "metadata": {},
   "source": [
    "# ALAP Scheduling \n",
    "### Basis change (3-qubits, 10CX) + Variational (4-qubits, 16 CX)\n",
    "\n",
    "2020-12-12"
   ]
  },
  {
   "cell_type": "code",
   "execution_count": 1,
   "metadata": {},
   "outputs": [],
   "source": [
    "# import python tools\n",
    "import os\n",
    "\n",
    "# import qiskit tool\n",
    "from qiskit.transpiler import InstructionDurations\n",
    "\n",
    "# import experimental tools\n",
    "from experiments.alap_scheduling import execute_alap, result_alap\n",
    "from experiments.utils import get_IBM_backend"
   ]
  },
  {
   "cell_type": "markdown",
   "metadata": {},
   "source": [
    "## Experimental Settings"
   ]
  },
  {
   "cell_type": "code",
   "execution_count": 2,
   "metadata": {},
   "outputs": [],
   "source": [
    "date = '2020-12-12'\n",
    "\n",
    "# Choose benchmark circuits from QASMBench\n",
    "benchmark_sets = ['basis_change_n3', 'variational_n4']\n",
    "benchmark_size = 'small'"
   ]
  },
  {
   "cell_type": "code",
   "execution_count": 3,
   "metadata": {},
   "outputs": [
    {
     "name": "stderr",
     "output_type": "stream",
     "text": [
      "/Users/Yasuhiro/.local/share/virtualenvs/experiments-VWP9UmJy/lib/python3.8/site-packages/qiskit/providers/ibmq/ibmqfactory.py:192: UserWarning: Timestamps in IBMQ backend properties, jobs, and job results are all now in local time instead of UTC.\n",
      "  warnings.warn('Timestamps in IBMQ backend properties, jobs, and job results '\n"
     ]
    }
   ],
   "source": [
    "# Define backend device\n",
    "backend = get_IBM_backend('ibmq_paris')\n",
    "simulator = get_IBM_backend('ibmq_qasm_simulator')\n",
    "\n",
    "# Number of trials\n",
    "shots = 8192\n",
    "\n",
    "# Number of experimental seeds\n",
    "nseed = 1"
   ]
  },
  {
   "cell_type": "code",
   "execution_count": 4,
   "metadata": {},
   "outputs": [],
   "source": [
    "# define path to the file to save job data\n",
    "file_name = date + '_'\n",
    "sorted_benchmarks = sorted(benchmark_sets)\n",
    "for _name in sorted_benchmarks: \n",
    "    file_name += _name\n",
    "    if _name == sorted_benchmarks[-1]:\n",
    "        break\n",
    "    file_name += '+'\n",
    "job_save_path = str(os.getcwd()) + \"/job_id/from20201211/\" + file_name"
   ]
  },
  {
   "cell_type": "markdown",
   "metadata": {},
   "source": [
    "## Execute experiments on IBMQ\n",
    "\n",
    "Here, we execute three types of experiments. First one is the  job run on simulator to calculate exact answer of the multi-programming circuit. The other two are the jobs executed on the real device. One is the base line, which is no scheduled, and the other one is the circuit executed with alap schedule policy. "
   ]
  },
  {
   "cell_type": "code",
   "execution_count": 5,
   "metadata": {},
   "outputs": [],
   "source": [
    "instruction_durations = InstructionDurations.from_backend(backend)"
   ]
  },
  {
   "cell_type": "code",
   "execution_count": 6,
   "metadata": {},
   "outputs": [],
   "source": [
    "job_sim, job, job_alap = execute_alap(\n",
    "                    size=benchmark_size, \n",
    "                    names=benchmark_sets, \n",
    "                    backend=backend, \n",
    "                    simulator=simulator,\n",
    "                    shots = shots, \n",
    "                    nseed=1,\n",
    "                    save_path=job_save_path, \n",
    "                    instruction_durations=instruction_durations,\n",
    "                    )"
   ]
  },
  {
   "cell_type": "code",
   "execution_count": 7,
   "metadata": {},
   "outputs": [
    {
     "name": "stdout",
     "output_type": "stream",
     "text": [
      "<qiskit.providers.ibmq.job.ibmqjob.IBMQJob object at 0x7ffc0be9e670>\n",
      "[<qiskit.providers.ibmq.job.ibmqjob.IBMQJob object at 0x7ffc0bd44610>]\n",
      "[<qiskit.providers.ibmq.job.ibmqjob.IBMQJob object at 0x7ffc0bd89370>]\n"
     ]
    }
   ],
   "source": [
    "# Show the each job\n",
    "print(job_sim)\n",
    "print(job)\n",
    "print(job_alap)"
   ]
  },
  {
   "cell_type": "markdown",
   "metadata": {},
   "source": [
    "## Get the results"
   ]
  },
  {
   "cell_type": "code",
   "execution_count": 8,
   "metadata": {},
   "outputs": [],
   "source": [
    "# define path to the file to save results\n",
    "result_save_path = str(os.getcwd()) + \"/results/from20201211/\" + file_name"
   ]
  },
  {
   "cell_type": "code",
   "execution_count": 9,
   "metadata": {},
   "outputs": [],
   "source": [
    "result_sim, result_list, result_alap_list, counts_sim, count_list, counts_alap_list, qc_names = result_alap(backend, simulator, job_save_path, result_save_path)"
   ]
  },
  {
   "cell_type": "code",
   "execution_count": 10,
   "metadata": {},
   "outputs": [
    {
     "name": "stdout",
     "output_type": "stream",
     "text": [
      "# Simulator\n",
      "Result(backend_name='ibmq_qasm_simulator', backend_version='0.7.0', qobj_id='9e7a4d7f-7cc0-404f-9c9a-38e110f03b50', job_id='5fd3ff1910ba7c001aa16cc9', success=True, results=[ExperimentResult(shots=8192, success=True, meas_level=MeasLevel.CLASSIFIED, data=ExperimentResultData(counts={'0x28': 2043, '0x30': 2008, '0x48': 2044, '0x50': 2097}), header=QobjExperimentHeader(clbit_labels=[['c0', 0], ['c0', 1], ['c0', 2], ['c1', 0], ['c1', 1], ['c1', 2], ['c1', 3]], creg_sizes=[['c0', 3], ['c1', 4]], global_phase=0.0, memory_slots=7, n_qubits=7, name='circuit8', qreg_sizes=[['q0', 3], ['q1', 4]], qubit_labels=[['q0', 0], ['q0', 1], ['q0', 2], ['q1', 0], ['q1', 1], ['q1', 2], ['q1', 3]]), status=DONE, metadata={'fusion': {'applied': False, 'enabled': True, 'method': 'unitary', 'threshold': 14}, 'measure_sampling': True, 'method': 'statevector', 'parallel_shots': 1, 'parallel_state_update': 16}, seed_simulator=1924444105, time_taken=0.019082004)], date=2020-12-12 08:22:05.428953+09:00, status=COMPLETED, status=QobjHeader(backend_name='ibmq_qasm_simulator', backend_version='0.1.547'), metadata={'max_memory_mb': 257936, 'omp_enabled': True, 'parallel_experiments': 1, 'time_taken': 0.019377813}, time_taken=0.019377813, client_version={'qiskit': '0.23.1'})\n",
      "\n",
      "# No scheduling\n",
      "Result(backend_name='ibmq_paris', backend_version='1.6.5', qobj_id='124405b4-761f-4f2e-b351-fb01ac191008', job_id='5fd3ff1c05b6010019771046', success=True, results=[ExperimentResult(shots=8192, success=True, meas_level=2, data=ExperimentResultData(counts={'0x0': 18, '0x1': 4, '0x10': 145, '0x11': 5, '0x12': 6, '0x13': 3, '0x14': 5, '0x15': 1, '0x16': 1, '0x17': 1, '0x18': 67, '0x19': 3, '0x1a': 4, '0x1b': 2, '0x1c': 4, '0x1e': 1, '0x2': 3, '0x20': 163, '0x21': 14, '0x22': 10, '0x23': 4, '0x24': 7, '0x25': 2, '0x26': 2, '0x27': 2, '0x28': 1556, '0x29': 105, '0x2a': 86, '0x2b': 25, '0x2c': 52, '0x2d': 12, '0x2e': 17, '0x2f': 3, '0x30': 1416, '0x31': 98, '0x32': 73, '0x33': 18, '0x34': 52, '0x35': 12, '0x36': 18, '0x37': 2, '0x38': 140, '0x39': 14, '0x3a': 5, '0x3b': 3, '0x3c': 8, '0x3d': 1, '0x3e': 1, '0x40': 147, '0x41': 9, '0x42': 4, '0x43': 2, '0x44': 4, '0x46': 3, '0x48': 1497, '0x49': 79, '0x4a': 68, '0x4b': 18, '0x4c': 54, '0x4d': 10, '0x4e': 14, '0x4f': 5, '0x50': 1313, '0x51': 72, '0x52': 65, '0x53': 12, '0x54': 44, '0x55': 9, '0x56': 13, '0x57': 3, '0x58': 117, '0x59': 13, '0x5a': 8, '0x5b': 7, '0x5c': 6, '0x5e': 2, '0x5f': 1, '0x60': 17, '0x61': 1, '0x62': 1, '0x64': 2, '0x65': 1, '0x68': 61, '0x69': 7, '0x6a': 2, '0x6c': 5, '0x6e': 1, '0x7': 3, '0x70': 72, '0x71': 3, '0x72': 1, '0x74': 4, '0x76': 1, '0x78': 18, '0x79': 2, '0x7a': 1, '0x7c': 1, '0x7e': 1, '0x8': 169, '0x9': 9, '0xa': 5, '0xb': 3, '0xc': 7, '0xd': 1}), header=QobjExperimentHeader(clbit_labels=[['c2', 0], ['c2', 1], ['c2', 2], ['c3', 0], ['c3', 1], ['c3', 2], ['c3', 3]], creg_sizes=[['c2', 3], ['c3', 4]], global_phase=-9.81744823987541, memory_slots=7, n_qubits=27, name='circuit143', qreg_sizes=[['q', 27]], qubit_labels=[['q', 0], ['q', 1], ['q', 2], ['q', 3], ['q', 4], ['q', 5], ['q', 6], ['q', 7], ['q', 8], ['q', 9], ['q', 10], ['q', 11], ['q', 12], ['q', 13], ['q', 14], ['q', 15], ['q', 16], ['q', 17], ['q', 18], ['q', 19], ['q', 20], ['q', 21], ['q', 22], ['q', 23], ['q', 24], ['q', 25], ['q', 26]]), memory=False)], date=2020-12-12 08:24:22+09:00, status=Successful completion, status=QobjHeader(backend_name='ibmq_paris', backend_version='1.6.5'), time_taken=21.18474292755127, execution_id='e6e56160-3c07-11eb-85ea-b02628ea1e00', client_version={'qiskit': '0.23.1'})\n",
      "\n",
      "# ALAP scheduling policy\n",
      "Result(backend_name='ibmq_paris', backend_version='1.6.5', qobj_id='835f4704-53ff-4782-97f4-4e101a18e112', job_id='5fd3ff1d944188001aa6099b', success=True, results=[ExperimentResult(shots=8192, success=True, meas_level=2, data=ExperimentResultData(counts={'0x0': 31, '0x10': 150, '0x11': 7, '0x12': 17, '0x13': 2, '0x14': 6, '0x15': 2, '0x16': 2, '0x18': 72, '0x19': 2, '0x1a': 4, '0x1c': 2, '0x2': 3, '0x20': 157, '0x21': 7, '0x22': 10, '0x23': 3, '0x24': 10, '0x25': 2, '0x26': 4, '0x28': 1620, '0x29': 91, '0x2a': 78, '0x2b': 18, '0x2c': 66, '0x2d': 7, '0x2e': 24, '0x2f': 3, '0x30': 1416, '0x31': 83, '0x32': 79, '0x33': 18, '0x34': 39, '0x35': 8, '0x36': 19, '0x38': 134, '0x39': 10, '0x3a': 11, '0x3b': 2, '0x3c': 8, '0x3d': 3, '0x3e': 2, '0x3f': 1, '0x4': 1, '0x40': 176, '0x41': 7, '0x42': 14, '0x43': 7, '0x44': 3, '0x46': 3, '0x47': 2, '0x48': 1397, '0x49': 87, '0x4a': 96, '0x4b': 19, '0x4c': 56, '0x4d': 7, '0x4e': 15, '0x4f': 7, '0x50': 1271, '0x51': 78, '0x52': 75, '0x53': 19, '0x54': 43, '0x55': 11, '0x56': 9, '0x57': 1, '0x58': 99, '0x59': 13, '0x5a': 8, '0x5b': 1, '0x5c': 6, '0x5d': 2, '0x5e': 3, '0x60': 7, '0x61': 2, '0x62': 2, '0x63': 2, '0x68': 72, '0x69': 2, '0x6a': 4, '0x6b': 1, '0x6c': 3, '0x70': 77, '0x71': 3, '0x72': 3, '0x74': 2, '0x78': 18, '0x79': 1, '0x7c': 1, '0x8': 185, '0x9': 14, '0xa': 10, '0xb': 2, '0xc': 6, '0xd': 1, '0xe': 4, '0xf': 1}), header=QobjExperimentHeader(clbit_labels=[['c4', 0], ['c4', 1], ['c4', 2], ['c5', 0], ['c5', 1], ['c5', 2], ['c5', 3]], creg_sizes=[['c4', 3], ['c5', 4]], global_phase=0.0, memory_slots=7, n_qubits=27, name='circuit418', qreg_sizes=[['q', 27]], qubit_labels=[['q', 0], ['q', 1], ['q', 2], ['q', 3], ['q', 4], ['q', 5], ['q', 6], ['q', 7], ['q', 8], ['q', 9], ['q', 10], ['q', 11], ['q', 12], ['q', 13], ['q', 14], ['q', 15], ['q', 16], ['q', 17], ['q', 18], ['q', 19], ['q', 20], ['q', 21], ['q', 22], ['q', 23], ['q', 24], ['q', 25], ['q', 26]]), memory=False)], date=2020-12-12 08:25:24+09:00, status=Successful completion, status=QobjHeader(backend_name='ibmq_paris', backend_version='1.6.5'), time_taken=21.650689125061035, execution_id='033c243e-3c08-11eb-ad1c-b02628ea1e00', client_version={'qiskit': '0.23.1'})\n"
     ]
    }
   ],
   "source": [
    "# Show the results\n",
    "print(\"# Simulator\")\n",
    "print(result_sim)\n",
    "\n",
    "print(\"\\n# No scheduling\")\n",
    "for _result in result_list: \n",
    "    print(_result)\n",
    "\n",
    "print(\"\\n# ALAP scheduling policy\")\n",
    "for _result_alap in result_alap_list: \n",
    "    print(_result_alap)"
   ]
  },
  {
   "cell_type": "code",
   "execution_count": 11,
   "metadata": {},
   "outputs": [
    {
     "name": "stdout",
     "output_type": "stream",
     "text": [
      "# Simulator\n",
      "{'0101 000': 2043, '0110 000': 2008, '1001 000': 2044, '1010 000': 2097}\n",
      "\n",
      "# No scheduling\n",
      "{'0000 000': 18, '0000 001': 4, '0010 000': 145, '0010 001': 5, '0010 010': 6, '0010 011': 3, '0010 100': 5, '0010 101': 1, '0010 110': 1, '0010 111': 1, '0011 000': 67, '0011 001': 3, '0011 010': 4, '0011 011': 2, '0011 100': 4, '0011 110': 1, '0000 010': 3, '0100 000': 163, '0100 001': 14, '0100 010': 10, '0100 011': 4, '0100 100': 7, '0100 101': 2, '0100 110': 2, '0100 111': 2, '0101 000': 1556, '0101 001': 105, '0101 010': 86, '0101 011': 25, '0101 100': 52, '0101 101': 12, '0101 110': 17, '0101 111': 3, '0110 000': 1416, '0110 001': 98, '0110 010': 73, '0110 011': 18, '0110 100': 52, '0110 101': 12, '0110 110': 18, '0110 111': 2, '0111 000': 140, '0111 001': 14, '0111 010': 5, '0111 011': 3, '0111 100': 8, '0111 101': 1, '0111 110': 1, '1000 000': 147, '1000 001': 9, '1000 010': 4, '1000 011': 2, '1000 100': 4, '1000 110': 3, '1001 000': 1497, '1001 001': 79, '1001 010': 68, '1001 011': 18, '1001 100': 54, '1001 101': 10, '1001 110': 14, '1001 111': 5, '1010 000': 1313, '1010 001': 72, '1010 010': 65, '1010 011': 12, '1010 100': 44, '1010 101': 9, '1010 110': 13, '1010 111': 3, '1011 000': 117, '1011 001': 13, '1011 010': 8, '1011 011': 7, '1011 100': 6, '1011 110': 2, '1011 111': 1, '1100 000': 17, '1100 001': 1, '1100 010': 1, '1100 100': 2, '1100 101': 1, '1101 000': 61, '1101 001': 7, '1101 010': 2, '1101 100': 5, '1101 110': 1, '0000 111': 3, '1110 000': 72, '1110 001': 3, '1110 010': 1, '1110 100': 4, '1110 110': 1, '1111 000': 18, '1111 001': 2, '1111 010': 1, '1111 100': 1, '1111 110': 1, '0001 000': 169, '0001 001': 9, '0001 010': 5, '0001 011': 3, '0001 100': 7, '0001 101': 1}\n",
      "\n",
      "# ALAP scheduling policy\n",
      "{'0000 000': 31, '0010 000': 150, '0010 001': 7, '0010 010': 17, '0010 011': 2, '0010 100': 6, '0010 101': 2, '0010 110': 2, '0011 000': 72, '0011 001': 2, '0011 010': 4, '0011 100': 2, '0000 010': 3, '0100 000': 157, '0100 001': 7, '0100 010': 10, '0100 011': 3, '0100 100': 10, '0100 101': 2, '0100 110': 4, '0101 000': 1620, '0101 001': 91, '0101 010': 78, '0101 011': 18, '0101 100': 66, '0101 101': 7, '0101 110': 24, '0101 111': 3, '0110 000': 1416, '0110 001': 83, '0110 010': 79, '0110 011': 18, '0110 100': 39, '0110 101': 8, '0110 110': 19, '0111 000': 134, '0111 001': 10, '0111 010': 11, '0111 011': 2, '0111 100': 8, '0111 101': 3, '0111 110': 2, '0111 111': 1, '0000 100': 1, '1000 000': 176, '1000 001': 7, '1000 010': 14, '1000 011': 7, '1000 100': 3, '1000 110': 3, '1000 111': 2, '1001 000': 1397, '1001 001': 87, '1001 010': 96, '1001 011': 19, '1001 100': 56, '1001 101': 7, '1001 110': 15, '1001 111': 7, '1010 000': 1271, '1010 001': 78, '1010 010': 75, '1010 011': 19, '1010 100': 43, '1010 101': 11, '1010 110': 9, '1010 111': 1, '1011 000': 99, '1011 001': 13, '1011 010': 8, '1011 011': 1, '1011 100': 6, '1011 101': 2, '1011 110': 3, '1100 000': 7, '1100 001': 2, '1100 010': 2, '1100 011': 2, '1101 000': 72, '1101 001': 2, '1101 010': 4, '1101 011': 1, '1101 100': 3, '1110 000': 77, '1110 001': 3, '1110 010': 3, '1110 100': 2, '1111 000': 18, '1111 001': 1, '1111 100': 1, '0001 000': 185, '0001 001': 14, '0001 010': 10, '0001 011': 2, '0001 100': 6, '0001 101': 1, '0001 110': 4, '0001 111': 1}\n"
     ]
    }
   ],
   "source": [
    "# Show the counts\n",
    "print(\"# Simulator\")\n",
    "print(counts_sim)\n",
    "\n",
    "print(\"\\n# No scheduling\")\n",
    "for _count in count_list: \n",
    "    print(_count)\n",
    "\n",
    "print(\"\\n# ALAP scheduling policy\")\n",
    "for _count_alap in counts_alap_list: \n",
    "    print(_count_alap)"
   ]
  },
  {
   "cell_type": "code",
   "execution_count": null,
   "metadata": {},
   "outputs": [],
   "source": []
  }
 ],
 "metadata": {
  "jupytext": {
   "text_representation": {
    "extension": ".py",
    "format_name": "light",
    "format_version": "1.5",
    "jupytext_version": "1.7.1"
   }
  },
  "kernelspec": {
   "display_name": "Python 3",
   "language": "python",
   "name": "python3"
  },
  "language_info": {
   "codemirror_mode": {
    "name": "ipython",
    "version": 3
   },
   "file_extension": ".py",
   "mimetype": "text/x-python",
   "name": "python",
   "nbconvert_exporter": "python",
   "pygments_lexer": "ipython3",
   "version": "3.8.3"
  }
 },
 "nbformat": 4,
 "nbformat_minor": 2
}
