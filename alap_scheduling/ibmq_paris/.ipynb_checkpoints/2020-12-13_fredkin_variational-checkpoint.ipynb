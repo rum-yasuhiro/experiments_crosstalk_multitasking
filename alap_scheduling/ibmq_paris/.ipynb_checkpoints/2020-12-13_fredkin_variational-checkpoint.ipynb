{
 "cells": [
  {
   "cell_type": "markdown",
   "metadata": {},
   "source": [
    "# ALAP Scheduling \n",
    "### Fredkin (3-qubits, 8 CX) + Variational (4-qubits, 16 CX)\n",
    "\n",
    "2020-12-13"
   ]
  },
  {
   "cell_type": "code",
   "execution_count": 1,
   "metadata": {},
   "outputs": [],
   "source": [
    "# import python tools\n",
    "import os\n",
    "\n",
    "# import qiskit tool\n",
    "from qiskit.transpiler import InstructionDurations\n",
    "\n",
    "# import experimental tools\n",
    "from experiments.alap_scheduling import execute_alap, result_alap\n",
    "from experiments.utils import get_IBM_backend"
   ]
  },
  {
   "cell_type": "markdown",
   "metadata": {},
   "source": [
    "## Experimental Settings"
   ]
  },
  {
   "cell_type": "code",
   "execution_count": 2,
   "metadata": {},
   "outputs": [],
   "source": [
    "date = '2020-12-13'\n",
    "\n",
    "# Choose benchmark circuits from QASMBench\n",
    "benchmark_sets = ['fredkin_n3', 'variational_n4']\n",
    "benchmark_size = 'small'"
   ]
  },
  {
   "cell_type": "code",
   "execution_count": 3,
   "metadata": {},
   "outputs": [
    {
     "name": "stderr",
     "output_type": "stream",
     "text": [
      "/Users/Yasuhiro/.local/share/virtualenvs/experiments-VWP9UmJy/lib/python3.8/site-packages/qiskit/providers/ibmq/ibmqfactory.py:192: UserWarning: Timestamps in IBMQ backend properties, jobs, and job results are all now in local time instead of UTC.\n",
      "  warnings.warn('Timestamps in IBMQ backend properties, jobs, and job results '\n"
     ]
    }
   ],
   "source": [
    "# Define backend device\n",
    "backend = get_IBM_backend('ibmq_paris')\n",
    "simulator = get_IBM_backend('ibmq_qasm_simulator')\n",
    "\n",
    "# Number of trials\n",
    "shots = 8192\n",
    "\n",
    "# Number of experimental seeds\n",
    "nseed = 1"
   ]
  },
  {
   "cell_type": "code",
   "execution_count": 4,
   "metadata": {},
   "outputs": [],
   "source": [
    "# define path to the file to save job data\n",
    "file_name = date + '_'\n",
    "sorted_benchmarks = sorted(benchmark_sets)\n",
    "for _name in sorted_benchmarks: \n",
    "    file_name += _name\n",
    "    if _name == sorted_benchmarks[-1]:\n",
    "        break\n",
    "    file_name += '+'\n",
    "job_save_path = str(os.getcwd()) + \"/job_id/from20201211/\" + file_name"
   ]
  },
  {
   "cell_type": "markdown",
   "metadata": {},
   "source": [
    "## Execute experiments on IBMQ\n",
    "\n",
    "Here, we execute three types of experiments. First one is the  job run on simulator to calculate exact answer of the multi-programming circuit. The other two are the jobs executed on the real device. One is the base line, which is no scheduled, and the other one is the circuit executed with alap schedule policy. "
   ]
  },
  {
   "cell_type": "code",
   "execution_count": 5,
   "metadata": {},
   "outputs": [],
   "source": [
    "instruction_durations = InstructionDurations.from_backend(backend)"
   ]
  },
  {
   "cell_type": "code",
   "execution_count": 6,
   "metadata": {},
   "outputs": [
    {
     "name": "stdout",
     "output_type": "stream",
     "text": [
      "prog: Qubit(QuantumRegister(3, 'q27'), 0) , hw: 1\n",
      "prog: Qubit(QuantumRegister(3, 'q27'), 1) , hw: 2\n",
      "prog: Qubit(QuantumRegister(3, 'q27'), 2) , hw: 3\n",
      "prog: Qubit(QuantumRegister(4, 'q28'), 0) , hw: 22\n",
      "prog: Qubit(QuantumRegister(4, 'q28'), 1) , hw: 19\n",
      "prog: Qubit(QuantumRegister(4, 'q28'), 2) , hw: 16\n",
      "prog: Qubit(QuantumRegister(4, 'q28'), 3) , hw: 14\n",
      "prog: Qubit(QuantumRegister(3, 'q102'), 0) , hw: 1\n",
      "prog: Qubit(QuantumRegister(3, 'q102'), 1) , hw: 2\n",
      "prog: Qubit(QuantumRegister(3, 'q102'), 2) , hw: 3\n",
      "prog: Qubit(QuantumRegister(4, 'q103'), 0) , hw: 22\n",
      "prog: Qubit(QuantumRegister(4, 'q103'), 1) , hw: 19\n",
      "prog: Qubit(QuantumRegister(4, 'q103'), 2) , hw: 16\n",
      "prog: Qubit(QuantumRegister(4, 'q103'), 3) , hw: 14\n"
     ]
    }
   ],
   "source": [
    "job_sim, job, job_alap = execute_alap(\n",
    "                    size=benchmark_size, \n",
    "                    names=benchmark_sets, \n",
    "                    backend=backend, \n",
    "                    simulator=simulator,\n",
    "                    shots = shots, \n",
    "                    nseed=1,\n",
    "                    save_path=job_save_path, \n",
    "                    instruction_durations=instruction_durations,\n",
    "                    )"
   ]
  },
  {
   "cell_type": "code",
   "execution_count": 7,
   "metadata": {},
   "outputs": [
    {
     "name": "stdout",
     "output_type": "stream",
     "text": [
      "<qiskit.providers.ibmq.job.ibmqjob.IBMQJob object at 0x7faf76d41550>\n",
      "[<qiskit.providers.ibmq.job.ibmqjob.IBMQJob object at 0x7faf77057bb0>]\n",
      "[<qiskit.providers.ibmq.job.ibmqjob.IBMQJob object at 0x7faf76d1aa00>]\n"
     ]
    }
   ],
   "source": [
    "# Show the each job\n",
    "print(job_sim)\n",
    "print(job)\n",
    "print(job_alap)"
   ]
  },
  {
   "cell_type": "markdown",
   "metadata": {},
   "source": [
    "## Get the results"
   ]
  },
  {
   "cell_type": "code",
   "execution_count": 8,
   "metadata": {},
   "outputs": [],
   "source": [
    "# define path to the file to save results\n",
    "result_save_path = str(os.getcwd()) + \"/results/from20201211/\" + file_name"
   ]
  },
  {
   "cell_type": "code",
   "execution_count": 9,
   "metadata": {},
   "outputs": [],
   "source": [
    "result_sim, result_list, result_alap_list, counts_sim, count_list, counts_alap_list, qc_names = result_alap(backend, simulator, job_save_path, result_save_path)"
   ]
  },
  {
   "cell_type": "code",
   "execution_count": 10,
   "metadata": {},
   "outputs": [
    {
     "name": "stdout",
     "output_type": "stream",
     "text": [
      "# Simulator\n",
      "Result(backend_name='ibmq_qasm_simulator', backend_version='0.7.0', qobj_id='bf74097e-45ab-4cbb-97d9-efd5814dd85b', job_id='5fd5bac0d802bc0019c3f6c7', success=True, results=[ExperimentResult(shots=8192, success=True, meas_level=MeasLevel.CLASSIFIED, data=ExperimentResultData(counts={'0x2d': 2017, '0x35': 2065, '0x4d': 2024, '0x55': 2086}), header=QobjExperimentHeader(clbit_labels=[['c0', 0], ['c0', 1], ['c0', 2], ['c1', 0], ['c1', 1], ['c1', 2], ['c1', 3]], creg_sizes=[['c0', 3], ['c1', 4]], global_phase=0.0, memory_slots=7, n_qubits=7, name='circuit8', qreg_sizes=[['q0', 3], ['q1', 4]], qubit_labels=[['q0', 0], ['q0', 1], ['q0', 2], ['q1', 0], ['q1', 1], ['q1', 2], ['q1', 3]]), status=DONE, metadata={'fusion': {'applied': False, 'enabled': True, 'method': 'unitary', 'threshold': 14}, 'measure_sampling': True, 'method': 'statevector', 'parallel_shots': 1, 'parallel_state_update': 16}, seed_simulator=3183220302, time_taken=0.019243258000000003)], date=2020-12-13 15:55:02.506803+09:00, status=COMPLETED, status=QobjHeader(backend_name='ibmq_qasm_simulator', backend_version='0.1.547'), metadata={'max_memory_mb': 257936, 'omp_enabled': True, 'parallel_experiments': 1, 'time_taken': 0.019486033}, time_taken=0.019486033, client_version={'qiskit': '0.23.1'})\n",
      "\n",
      "# No scheduling\n",
      "Result(backend_name='ibmq_paris', backend_version='1.6.6', qobj_id='5c7e8d56-24f7-4f73-901a-1a792d7316fe', job_id='5fd5bac44266b8001903f96f', success=True, results=[ExperimentResult(shots=8192, success=True, meas_level=2, data=ExperimentResultData(counts={'0x0': 1, '0x1': 1, '0x10': 7, '0x11': 13, '0x12': 2, '0x13': 11, '0x14': 9, '0x15': 114, '0x16': 8, '0x17': 10, '0x18': 2, '0x19': 4, '0x1a': 2, '0x1b': 5, '0x1c': 1, '0x1d': 32, '0x1e': 2, '0x2': 1, '0x20': 5, '0x21': 12, '0x22': 4, '0x23': 9, '0x24': 5, '0x25': 86, '0x26': 1, '0x27': 6, '0x28': 71, '0x29': 187, '0x2a': 42, '0x2b': 141, '0x2c': 75, '0x2d': 1329, '0x2e': 36, '0x2f': 94, '0x3': 2, '0x30': 66, '0x31': 154, '0x32': 29, '0x33': 126, '0x34': 50, '0x35': 1198, '0x36': 39, '0x37': 91, '0x38': 2, '0x39': 10, '0x3a': 1, '0x3b': 15, '0x3c': 9, '0x3d': 115, '0x3e': 1, '0x3f': 11, '0x40': 3, '0x41': 13, '0x42': 2, '0x43': 9, '0x44': 6, '0x45': 77, '0x46': 2, '0x47': 2, '0x48': 57, '0x49': 152, '0x4a': 28, '0x4b': 129, '0x4c': 54, '0x4d': 1239, '0x4e': 25, '0x4f': 88, '0x5': 17, '0x50': 44, '0x51': 144, '0x52': 26, '0x53': 141, '0x54': 55, '0x55': 1059, '0x56': 39, '0x57': 63, '0x58': 2, '0x59': 10, '0x5a': 2, '0x5b': 5, '0x5c': 3, '0x5d': 71, '0x5e': 1, '0x5f': 5, '0x6': 1, '0x65': 7, '0x67': 1, '0x68': 1, '0x69': 8, '0x6a': 3, '0x6b': 4, '0x6c': 1, '0x6d': 53, '0x6e': 1, '0x6f': 2, '0x70': 1, '0x71': 6, '0x72': 2, '0x73': 3, '0x74': 1, '0x75': 49, '0x77': 4, '0x79': 1, '0x7b': 5, '0x7d': 10, '0x7f': 1, '0x8': 10, '0x9': 17, '0xa': 5, '0xb': 12, '0xc': 9, '0xd': 143, '0xe': 5, '0xf': 6}), header=QobjExperimentHeader(clbit_labels=[['c2', 0], ['c2', 1], ['c2', 2], ['c3', 0], ['c3', 1], ['c3', 2], ['c3', 3]], creg_sizes=[['c2', 3], ['c3', 4]], global_phase=-4.020455326748392, memory_slots=7, n_qubits=27, name='circuit161', qreg_sizes=[['q', 27]], qubit_labels=[['q', 0], ['q', 1], ['q', 2], ['q', 3], ['q', 4], ['q', 5], ['q', 6], ['q', 7], ['q', 8], ['q', 9], ['q', 10], ['q', 11], ['q', 12], ['q', 13], ['q', 14], ['q', 15], ['q', 16], ['q', 17], ['q', 18], ['q', 19], ['q', 20], ['q', 21], ['q', 22], ['q', 23], ['q', 24], ['q', 25], ['q', 26]]), memory=False)], date=2020-12-13 16:09:27+09:00, status=Successful completion, status=QobjHeader(backend_name='ibmq_paris', backend_version='1.6.6'), time_taken=21.578539609909058, execution_id='f65e052e-3d11-11eb-bed0-b02628ea1e00', client_version={'qiskit': '0.23.1'})\n",
      "\n",
      "# ALAP scheduling policy\n",
      "Result(backend_name='ibmq_paris', backend_version='1.6.6', qobj_id='05ef3a36-b250-4eb0-8beb-6d5f41e9911d', job_id='5fd5bac7b98c9b001a57199a', success=True, results=[ExperimentResult(shots=8192, success=True, meas_level=2, data=ExperimentResultData(counts={'0x0': 3, '0x10': 9, '0x11': 9, '0x12': 4, '0x13': 9, '0x14': 9, '0x15': 102, '0x16': 5, '0x17': 8, '0x18': 3, '0x19': 11, '0x1b': 4, '0x1c': 1, '0x1d': 36, '0x1f': 2, '0x20': 1, '0x21': 11, '0x22': 2, '0x23': 8, '0x24': 7, '0x25': 78, '0x26': 2, '0x27': 6, '0x28': 66, '0x29': 120, '0x2a': 64, '0x2b': 171, '0x2c': 69, '0x2d': 1282, '0x2e': 39, '0x2f': 109, '0x3': 1, '0x30': 63, '0x31': 130, '0x32': 42, '0x33': 166, '0x34': 89, '0x35': 1201, '0x36': 43, '0x37': 97, '0x38': 5, '0x39': 9, '0x3a': 3, '0x3b': 9, '0x3c': 8, '0x3d': 105, '0x3e': 5, '0x3f': 8, '0x4': 1, '0x40': 1, '0x41': 3, '0x42': 3, '0x43': 10, '0x44': 5, '0x45': 73, '0x46': 2, '0x47': 12, '0x48': 48, '0x49': 129, '0x4a': 56, '0x4b': 155, '0x4c': 78, '0x4d': 1129, '0x4e': 33, '0x4f': 89, '0x5': 14, '0x50': 57, '0x51': 120, '0x52': 58, '0x53': 140, '0x54': 88, '0x55': 1072, '0x56': 41, '0x57': 79, '0x58': 6, '0x59': 8, '0x5a': 2, '0x5b': 4, '0x5c': 3, '0x5d': 64, '0x5e': 5, '0x5f': 10, '0x61': 2, '0x62': 2, '0x63': 1, '0x64': 2, '0x65': 13, '0x67': 1, '0x68': 1, '0x69': 7, '0x6a': 2, '0x6b': 5, '0x6c': 3, '0x6d': 44, '0x6e': 1, '0x6f': 4, '0x70': 1, '0x71': 10, '0x72': 1, '0x73': 4, '0x74': 7, '0x75': 54, '0x77': 4, '0x78': 1, '0x79': 2, '0x7b': 1, '0x7d': 15, '0x7e': 1, '0x7f': 2, '0x8': 10, '0x9': 14, '0xa': 4, '0xb': 15, '0xc': 11, '0xd': 104, '0xe': 3, '0xf': 8}), header=QobjExperimentHeader(clbit_labels=[['c4', 0], ['c4', 1], ['c4', 2], ['c5', 0], ['c5', 1], ['c5', 2], ['c5', 3]], creg_sizes=[['c4', 3], ['c5', 4]], global_phase=0.0, memory_slots=7, n_qubits=27, name='circuit454', qreg_sizes=[['q', 27]], qubit_labels=[['q', 0], ['q', 1], ['q', 2], ['q', 3], ['q', 4], ['q', 5], ['q', 6], ['q', 7], ['q', 8], ['q', 9], ['q', 10], ['q', 11], ['q', 12], ['q', 13], ['q', 14], ['q', 15], ['q', 16], ['q', 17], ['q', 18], ['q', 19], ['q', 20], ['q', 21], ['q', 22], ['q', 23], ['q', 24], ['q', 25], ['q', 26]]), memory=False)], date=2020-12-13 16:11:15+09:00, status=Successful completion, status=QobjHeader(backend_name='ibmq_paris', backend_version='1.6.6'), time_taken=21.58526849746704, execution_id='269f9964-3d12-11eb-8ec2-b02628ea1e00', client_version={'qiskit': '0.23.1'})\n"
     ]
    }
   ],
   "source": [
    "# Show the results\n",
    "print(\"# Simulator\")\n",
    "print(result_sim)\n",
    "\n",
    "print(\"\\n# No scheduling\")\n",
    "for _result in result_list: \n",
    "    print(_result)\n",
    "\n",
    "print(\"\\n# ALAP scheduling policy\")\n",
    "for _result_alap in result_alap_list: \n",
    "    print(_result_alap)"
   ]
  },
  {
   "cell_type": "code",
   "execution_count": 11,
   "metadata": {
    "lines_to_next_cell": 0
   },
   "outputs": [
    {
     "name": "stdout",
     "output_type": "stream",
     "text": [
      "# Simulator\n",
      "{'0101 101': 2017, '0110 101': 2065, '1001 101': 2024, '1010 101': 2086}\n",
      "\n",
      "# No scheduling\n",
      "{'0000 000': 1, '0000 001': 1, '0010 000': 7, '0010 001': 13, '0010 010': 2, '0010 011': 11, '0010 100': 9, '0010 101': 114, '0010 110': 8, '0010 111': 10, '0011 000': 2, '0011 001': 4, '0011 010': 2, '0011 011': 5, '0011 100': 1, '0011 101': 32, '0011 110': 2, '0000 010': 1, '0100 000': 5, '0100 001': 12, '0100 010': 4, '0100 011': 9, '0100 100': 5, '0100 101': 86, '0100 110': 1, '0100 111': 6, '0101 000': 71, '0101 001': 187, '0101 010': 42, '0101 011': 141, '0101 100': 75, '0101 101': 1329, '0101 110': 36, '0101 111': 94, '0000 011': 2, '0110 000': 66, '0110 001': 154, '0110 010': 29, '0110 011': 126, '0110 100': 50, '0110 101': 1198, '0110 110': 39, '0110 111': 91, '0111 000': 2, '0111 001': 10, '0111 010': 1, '0111 011': 15, '0111 100': 9, '0111 101': 115, '0111 110': 1, '0111 111': 11, '1000 000': 3, '1000 001': 13, '1000 010': 2, '1000 011': 9, '1000 100': 6, '1000 101': 77, '1000 110': 2, '1000 111': 2, '1001 000': 57, '1001 001': 152, '1001 010': 28, '1001 011': 129, '1001 100': 54, '1001 101': 1239, '1001 110': 25, '1001 111': 88, '0000 101': 17, '1010 000': 44, '1010 001': 144, '1010 010': 26, '1010 011': 141, '1010 100': 55, '1010 101': 1059, '1010 110': 39, '1010 111': 63, '1011 000': 2, '1011 001': 10, '1011 010': 2, '1011 011': 5, '1011 100': 3, '1011 101': 71, '1011 110': 1, '1011 111': 5, '0000 110': 1, '1100 101': 7, '1100 111': 1, '1101 000': 1, '1101 001': 8, '1101 010': 3, '1101 011': 4, '1101 100': 1, '1101 101': 53, '1101 110': 1, '1101 111': 2, '1110 000': 1, '1110 001': 6, '1110 010': 2, '1110 011': 3, '1110 100': 1, '1110 101': 49, '1110 111': 4, '1111 001': 1, '1111 011': 5, '1111 101': 10, '1111 111': 1, '0001 000': 10, '0001 001': 17, '0001 010': 5, '0001 011': 12, '0001 100': 9, '0001 101': 143, '0001 110': 5, '0001 111': 6}\n",
      "\n",
      "# ALAP scheduling policy\n",
      "{'0000 000': 3, '0010 000': 9, '0010 001': 9, '0010 010': 4, '0010 011': 9, '0010 100': 9, '0010 101': 102, '0010 110': 5, '0010 111': 8, '0011 000': 3, '0011 001': 11, '0011 011': 4, '0011 100': 1, '0011 101': 36, '0011 111': 2, '0100 000': 1, '0100 001': 11, '0100 010': 2, '0100 011': 8, '0100 100': 7, '0100 101': 78, '0100 110': 2, '0100 111': 6, '0101 000': 66, '0101 001': 120, '0101 010': 64, '0101 011': 171, '0101 100': 69, '0101 101': 1282, '0101 110': 39, '0101 111': 109, '0000 011': 1, '0110 000': 63, '0110 001': 130, '0110 010': 42, '0110 011': 166, '0110 100': 89, '0110 101': 1201, '0110 110': 43, '0110 111': 97, '0111 000': 5, '0111 001': 9, '0111 010': 3, '0111 011': 9, '0111 100': 8, '0111 101': 105, '0111 110': 5, '0111 111': 8, '0000 100': 1, '1000 000': 1, '1000 001': 3, '1000 010': 3, '1000 011': 10, '1000 100': 5, '1000 101': 73, '1000 110': 2, '1000 111': 12, '1001 000': 48, '1001 001': 129, '1001 010': 56, '1001 011': 155, '1001 100': 78, '1001 101': 1129, '1001 110': 33, '1001 111': 89, '0000 101': 14, '1010 000': 57, '1010 001': 120, '1010 010': 58, '1010 011': 140, '1010 100': 88, '1010 101': 1072, '1010 110': 41, '1010 111': 79, '1011 000': 6, '1011 001': 8, '1011 010': 2, '1011 011': 4, '1011 100': 3, '1011 101': 64, '1011 110': 5, '1011 111': 10, '1100 001': 2, '1100 010': 2, '1100 011': 1, '1100 100': 2, '1100 101': 13, '1100 111': 1, '1101 000': 1, '1101 001': 7, '1101 010': 2, '1101 011': 5, '1101 100': 3, '1101 101': 44, '1101 110': 1, '1101 111': 4, '1110 000': 1, '1110 001': 10, '1110 010': 1, '1110 011': 4, '1110 100': 7, '1110 101': 54, '1110 111': 4, '1111 000': 1, '1111 001': 2, '1111 011': 1, '1111 101': 15, '1111 110': 1, '1111 111': 2, '0001 000': 10, '0001 001': 14, '0001 010': 4, '0001 011': 15, '0001 100': 11, '0001 101': 104, '0001 110': 3, '0001 111': 8}\n"
     ]
    }
   ],
   "source": [
    "# Show the counts\n",
    "print(\"# Simulator\")\n",
    "print(counts_sim)\n",
    "\n",
    "print(\"\\n# No scheduling\")\n",
    "for _count in count_list: \n",
    "    print(_count)\n",
    "\n",
    "print(\"\\n# ALAP scheduling policy\")\n",
    "for _count_alap in counts_alap_list: \n",
    "    print(_count_alap)"
   ]
  },
  {
   "cell_type": "code",
   "execution_count": null,
   "metadata": {
    "lines_to_next_cell": 2
   },
   "outputs": [],
   "source": []
  }
 ],
 "metadata": {
  "jupytext": {
   "text_representation": {
    "extension": ".py",
    "format_name": "light",
    "format_version": "1.5",
    "jupytext_version": "1.7.1"
   }
  },
  "kernelspec": {
   "display_name": "Python 3",
   "language": "python",
   "name": "python3"
  },
  "language_info": {
   "codemirror_mode": {
    "name": "ipython",
    "version": 3
   },
   "file_extension": ".py",
   "mimetype": "text/x-python",
   "name": "python",
   "nbconvert_exporter": "python",
   "pygments_lexer": "ipython3",
   "version": "3.8.3"
  }
 },
 "nbformat": 4,
 "nbformat_minor": 2
}
