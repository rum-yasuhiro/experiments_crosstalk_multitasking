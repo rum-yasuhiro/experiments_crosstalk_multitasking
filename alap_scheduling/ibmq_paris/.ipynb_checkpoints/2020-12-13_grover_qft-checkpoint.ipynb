{
 "cells": [
  {
   "cell_type": "markdown",
   "metadata": {},
   "source": [
    "# ALAP Scheduling \n",
    "### Grover (2-qubits, 2 CX) + QFT (4-qubits, 12 CX)\n",
    "\n",
    "2020-12-13"
   ]
  },
  {
   "cell_type": "code",
   "execution_count": 1,
   "metadata": {},
   "outputs": [],
   "source": [
    "# import python tools\n",
    "import os\n",
    "\n",
    "# import qiskit tool\n",
    "from qiskit.transpiler import InstructionDurations\n",
    "\n",
    "# import experimental tools\n",
    "from experiments.alap_scheduling import execute_alap, result_alap\n",
    "from experiments.utils import get_IBM_backend"
   ]
  },
  {
   "cell_type": "markdown",
   "metadata": {},
   "source": [
    "## Experimental Settings"
   ]
  },
  {
   "cell_type": "code",
   "execution_count": 2,
   "metadata": {},
   "outputs": [],
   "source": [
    "date = '2020-12-13'\n",
    "\n",
    "# Choose benchmark circuits from QASMBench\n",
    "benchmark_sets = ['grover_n2', 'qft_n4']\n",
    "benchmark_size = 'small'"
   ]
  },
  {
   "cell_type": "code",
   "execution_count": 3,
   "metadata": {},
   "outputs": [
    {
     "name": "stderr",
     "output_type": "stream",
     "text": [
      "/Users/Yasuhiro/.local/share/virtualenvs/experiments-VWP9UmJy/lib/python3.8/site-packages/qiskit/providers/ibmq/ibmqfactory.py:192: UserWarning: Timestamps in IBMQ backend properties, jobs, and job results are all now in local time instead of UTC.\n",
      "  warnings.warn('Timestamps in IBMQ backend properties, jobs, and job results '\n"
     ]
    }
   ],
   "source": [
    "# Define backend device\n",
    "backend = get_IBM_backend('ibmq_paris')\n",
    "simulator = get_IBM_backend('ibmq_qasm_simulator')\n",
    "\n",
    "# Number of trials\n",
    "shots = 8192\n",
    "\n",
    "# Number of experimental seeds\n",
    "nseed = 1"
   ]
  },
  {
   "cell_type": "code",
   "execution_count": 4,
   "metadata": {},
   "outputs": [],
   "source": [
    "# define path to the file to save job data\n",
    "file_name = date + '_'\n",
    "sorted_benchmarks = sorted(benchmark_sets)\n",
    "for _name in sorted_benchmarks: \n",
    "    file_name += _name\n",
    "    if _name == sorted_benchmarks[-1]:\n",
    "        break\n",
    "    file_name += '+'\n",
    "job_save_path = str(os.getcwd()) + \"/job_id/from20201211/\" + file_name"
   ]
  },
  {
   "cell_type": "markdown",
   "metadata": {},
   "source": [
    "## Execute experiments on IBMQ\n",
    "\n",
    "Here, we execute three types of experiments. First one is the  job run on simulator to calculate exact answer of the multi-programming circuit. The other two are the jobs executed on the real device. One is the base line, which is no scheduled, and the other one is the circuit executed with alap schedule policy. "
   ]
  },
  {
   "cell_type": "code",
   "execution_count": 5,
   "metadata": {},
   "outputs": [],
   "source": [
    "instruction_durations = InstructionDurations.from_backend(backend)"
   ]
  },
  {
   "cell_type": "code",
   "execution_count": 6,
   "metadata": {},
   "outputs": [
    {
     "name": "stdout",
     "output_type": "stream",
     "text": [
      "prog: Qubit(QuantumRegister(2, 'q14'), 0) , hw: 2\n",
      "prog: Qubit(QuantumRegister(2, 'q14'), 1) , hw: 3\n",
      "prog: Qubit(QuantumRegister(4, 'q15'), 0) , hw: 19\n",
      "prog: Qubit(QuantumRegister(4, 'q15'), 1) , hw: 16\n",
      "prog: Qubit(QuantumRegister(4, 'q15'), 2) , hw: 22\n",
      "prog: Qubit(QuantumRegister(4, 'q15'), 3) , hw: 20\n",
      "prog: Qubit(QuantumRegister(2, 'q75'), 0) , hw: 2\n",
      "prog: Qubit(QuantumRegister(2, 'q75'), 1) , hw: 3\n",
      "prog: Qubit(QuantumRegister(4, 'q76'), 0) , hw: 19\n",
      "prog: Qubit(QuantumRegister(4, 'q76'), 1) , hw: 16\n",
      "prog: Qubit(QuantumRegister(4, 'q76'), 2) , hw: 22\n",
      "prog: Qubit(QuantumRegister(4, 'q76'), 3) , hw: 20\n"
     ]
    }
   ],
   "source": [
    "job_sim, job, job_alap = execute_alap(\n",
    "                    size=benchmark_size, \n",
    "                    names=benchmark_sets, \n",
    "                    backend=backend, \n",
    "                    simulator=simulator,\n",
    "                    shots = shots, \n",
    "                    nseed=1,\n",
    "                    save_path=job_save_path, \n",
    "                    instruction_durations=instruction_durations,\n",
    "                    )"
   ]
  },
  {
   "cell_type": "code",
   "execution_count": 7,
   "metadata": {},
   "outputs": [
    {
     "name": "stdout",
     "output_type": "stream",
     "text": [
      "<qiskit.providers.ibmq.job.ibmqjob.IBMQJob object at 0x7fe6a8f6e3d0>\n",
      "[<qiskit.providers.ibmq.job.ibmqjob.IBMQJob object at 0x7fe6a8f47760>]\n",
      "[<qiskit.providers.ibmq.job.ibmqjob.IBMQJob object at 0x7fe6a8de0a30>]\n"
     ]
    }
   ],
   "source": [
    "# Show the each job\n",
    "print(job_sim)\n",
    "print(job)\n",
    "print(job_alap)"
   ]
  },
  {
   "cell_type": "markdown",
   "metadata": {},
   "source": [
    "## Get the results"
   ]
  },
  {
   "cell_type": "code",
   "execution_count": 8,
   "metadata": {},
   "outputs": [],
   "source": [
    "# define path to the file to save results\n",
    "result_save_path = str(os.getcwd()) + \"/results/from20201211/\" + file_name"
   ]
  },
  {
   "cell_type": "code",
   "execution_count": 9,
   "metadata": {},
   "outputs": [],
   "source": [
    "result_sim, result_list, result_alap_list, counts_sim, count_list, counts_alap_list, qc_names = result_alap(backend, simulator, job_save_path, result_save_path)"
   ]
  },
  {
   "cell_type": "code",
   "execution_count": 10,
   "metadata": {},
   "outputs": [
    {
     "name": "stdout",
     "output_type": "stream",
     "text": [
      "# Simulator\n",
      "Result(backend_name='ibmq_qasm_simulator', backend_version='0.7.0', qobj_id='f72f79f0-0b0f-4d75-acde-6e6ae57046bc', job_id='5fd5bb9810ba7c001aa17f16', success=True, results=[ExperimentResult(shots=8192, success=True, meas_level=MeasLevel.CLASSIFIED, data=ExperimentResultData(counts={'0x13': 521, '0x17': 525, '0x1b': 513, '0x1f': 472, '0x23': 506, '0x27': 487, '0x2b': 515, '0x2f': 505, '0x3': 550, '0x33': 503, '0x37': 526, '0x3b': 484, '0x3f': 512, '0x7': 528, '0xb': 497, '0xf': 548}), header=QobjExperimentHeader(clbit_labels=[['c0', 0], ['c0', 1], ['c1', 0], ['c1', 1], ['c1', 2], ['c1', 3]], creg_sizes=[['c0', 2], ['c1', 4]], global_phase=0.0, memory_slots=6, n_qubits=6, name='circuit8', qreg_sizes=[['q0', 2], ['q1', 4]], qubit_labels=[['q0', 0], ['q0', 1], ['q1', 0], ['q1', 1], ['q1', 2], ['q1', 3]]), status=DONE, metadata={'fusion': {'applied': False, 'enabled': True, 'method': 'unitary', 'threshold': 14}, 'measure_sampling': True, 'method': 'statevector', 'parallel_shots': 1, 'parallel_state_update': 16}, seed_simulator=3060437563, time_taken=0.041842439)], date=2020-12-13 15:58:38.607985+09:00, status=COMPLETED, status=QobjHeader(backend_name='ibmq_qasm_simulator', backend_version='0.1.547'), metadata={'max_memory_mb': 257936, 'omp_enabled': True, 'parallel_experiments': 1, 'time_taken': 0.042109769000000005}, time_taken=0.042109769000000005, client_version={'qiskit': '0.23.1'})\n",
      "\n",
      "# No scheduling\n",
      "Result(backend_name='ibmq_paris', backend_version='1.6.6', qobj_id='d8178941-cf6b-4f44-9ddd-68e6e3552aeb', job_id='5fd5bb9d10ba7c001aa17f17', success=True, results=[ExperimentResult(shots=8192, success=True, meas_level=2, data=ExperimentResultData(counts={'0x0': 4, '0x1': 29, '0x10': 3, '0x11': 16, '0x12': 25, '0x13': 476, '0x14': 2, '0x15': 23, '0x16': 19, '0x17': 444, '0x18': 5, '0x19': 18, '0x1a': 21, '0x1b': 494, '0x1c': 3, '0x1d': 11, '0x1e': 7, '0x1f': 382, '0x2': 17, '0x20': 3, '0x21': 23, '0x22': 17, '0x23': 475, '0x24': 2, '0x25': 20, '0x26': 11, '0x27': 395, '0x28': 3, '0x29': 25, '0x2a': 28, '0x2b': 609, '0x2c': 2, '0x2d': 20, '0x2e': 14, '0x2f': 498, '0x3': 517, '0x30': 3, '0x31': 33, '0x32': 19, '0x33': 500, '0x34': 2, '0x35': 16, '0x36': 22, '0x37': 429, '0x38': 2, '0x39': 23, '0x3a': 13, '0x3b': 477, '0x3c': 3, '0x3d': 16, '0x3e': 20, '0x3f': 381, '0x4': 1, '0x5': 27, '0x6': 16, '0x7': 466, '0x8': 4, '0x9': 28, '0xa': 20, '0xb': 580, '0xc': 2, '0xd': 17, '0xe': 19, '0xf': 392}), header=QobjExperimentHeader(clbit_labels=[['c2', 0], ['c2', 1], ['c3', 0], ['c3', 1], ['c3', 2], ['c3', 3]], creg_sizes=[['c2', 2], ['c3', 4]], global_phase=-0.9817477042468103, memory_slots=6, n_qubits=27, name='circuit122', qreg_sizes=[['q', 27]], qubit_labels=[['q', 0], ['q', 1], ['q', 2], ['q', 3], ['q', 4], ['q', 5], ['q', 6], ['q', 7], ['q', 8], ['q', 9], ['q', 10], ['q', 11], ['q', 12], ['q', 13], ['q', 14], ['q', 15], ['q', 16], ['q', 17], ['q', 18], ['q', 19], ['q', 20], ['q', 21], ['q', 22], ['q', 23], ['q', 24], ['q', 25], ['q', 26]]), memory=False)], date=2020-12-13 16:19:37+09:00, status=Successful completion, status=QobjHeader(backend_name='ibmq_paris', backend_version='1.6.6'), time_taken=21.829439163208008, execution_id='575bce3c-3d13-11eb-b9e0-b02628ea1e00', client_version={'qiskit': '0.23.1'})\n",
      "\n",
      "# ALAP scheduling policy\n",
      "Result(backend_name='ibmq_paris', backend_version='1.6.6', qobj_id='91de625b-7354-4c15-978c-8a370eff44b8', job_id='5fd5bb9f98fcf6001aecc105', success=True, results=[ExperimentResult(shots=8192, success=True, meas_level=2, data=ExperimentResultData(counts={'0x0': 5, '0x1': 24, '0x10': 3, '0x11': 25, '0x12': 14, '0x13': 470, '0x14': 8, '0x15': 21, '0x16': 19, '0x17': 416, '0x18': 2, '0x19': 33, '0x1a': 14, '0x1b': 465, '0x1c': 2, '0x1d': 23, '0x1e': 14, '0x1f': 418, '0x2': 20, '0x20': 3, '0x21': 29, '0x22': 12, '0x23': 496, '0x24': 1, '0x25': 18, '0x26': 17, '0x27': 436, '0x28': 5, '0x29': 26, '0x2a': 21, '0x2b': 554, '0x2c': 3, '0x2d': 29, '0x2e': 12, '0x2f': 447, '0x3': 545, '0x30': 7, '0x31': 24, '0x32': 16, '0x33': 495, '0x34': 4, '0x35': 21, '0x36': 18, '0x37': 418, '0x38': 1, '0x39': 29, '0x3a': 22, '0x3b': 461, '0x3c': 3, '0x3d': 29, '0x3e': 10, '0x3f': 381, '0x4': 7, '0x5': 28, '0x6': 10, '0x7': 450, '0x8': 4, '0x9': 30, '0xa': 19, '0xb': 577, '0xc': 2, '0xd': 33, '0xe': 22, '0xf': 421}), header=QobjExperimentHeader(clbit_labels=[['c4', 0], ['c4', 1], ['c5', 0], ['c5', 1], ['c5', 2], ['c5', 3]], creg_sizes=[['c4', 2], ['c5', 4]], global_phase=0.0, memory_slots=6, n_qubits=27, name='circuit322', qreg_sizes=[['q', 27]], qubit_labels=[['q', 0], ['q', 1], ['q', 2], ['q', 3], ['q', 4], ['q', 5], ['q', 6], ['q', 7], ['q', 8], ['q', 9], ['q', 10], ['q', 11], ['q', 12], ['q', 13], ['q', 14], ['q', 15], ['q', 16], ['q', 17], ['q', 18], ['q', 19], ['q', 20], ['q', 21], ['q', 22], ['q', 23], ['q', 24], ['q', 25], ['q', 26]]), memory=False)], date=2020-12-13 16:24:14+09:00, status=Successful completion, status=QobjHeader(backend_name='ibmq_paris', backend_version='1.6.6'), time_taken=21.811945915222168, execution_id='9284a452-3d13-11eb-ba65-b02628ea1e00', client_version={'qiskit': '0.23.1'})\n"
     ]
    }
   ],
   "source": [
    "# Show the results\n",
    "print(\"# Simulator\")\n",
    "print(result_sim)\n",
    "\n",
    "print(\"\\n# No scheduling\")\n",
    "for _result in result_list: \n",
    "    print(_result)\n",
    "\n",
    "print(\"\\n# ALAP scheduling policy\")\n",
    "for _result_alap in result_alap_list: \n",
    "    print(_result_alap)"
   ]
  },
  {
   "cell_type": "code",
   "execution_count": 11,
   "metadata": {
    "lines_to_next_cell": 0
   },
   "outputs": [
    {
     "name": "stdout",
     "output_type": "stream",
     "text": [
      "# Simulator\n",
      "{'0100 11': 521, '0101 11': 525, '0110 11': 513, '0111 11': 472, '1000 11': 506, '1001 11': 487, '1010 11': 515, '1011 11': 505, '0000 11': 550, '1100 11': 503, '1101 11': 526, '1110 11': 484, '1111 11': 512, '0001 11': 528, '0010 11': 497, '0011 11': 548}\n",
      "\n",
      "# No scheduling\n",
      "{'0000 00': 4, '0000 01': 29, '0100 00': 3, '0100 01': 16, '0100 10': 25, '0100 11': 476, '0101 00': 2, '0101 01': 23, '0101 10': 19, '0101 11': 444, '0110 00': 5, '0110 01': 18, '0110 10': 21, '0110 11': 494, '0111 00': 3, '0111 01': 11, '0111 10': 7, '0111 11': 382, '0000 10': 17, '1000 00': 3, '1000 01': 23, '1000 10': 17, '1000 11': 475, '1001 00': 2, '1001 01': 20, '1001 10': 11, '1001 11': 395, '1010 00': 3, '1010 01': 25, '1010 10': 28, '1010 11': 609, '1011 00': 2, '1011 01': 20, '1011 10': 14, '1011 11': 498, '0000 11': 517, '1100 00': 3, '1100 01': 33, '1100 10': 19, '1100 11': 500, '1101 00': 2, '1101 01': 16, '1101 10': 22, '1101 11': 429, '1110 00': 2, '1110 01': 23, '1110 10': 13, '1110 11': 477, '1111 00': 3, '1111 01': 16, '1111 10': 20, '1111 11': 381, '0001 00': 1, '0001 01': 27, '0001 10': 16, '0001 11': 466, '0010 00': 4, '0010 01': 28, '0010 10': 20, '0010 11': 580, '0011 00': 2, '0011 01': 17, '0011 10': 19, '0011 11': 392}\n",
      "\n",
      "# ALAP scheduling policy\n",
      "{'0000 00': 5, '0000 01': 24, '0100 00': 3, '0100 01': 25, '0100 10': 14, '0100 11': 470, '0101 00': 8, '0101 01': 21, '0101 10': 19, '0101 11': 416, '0110 00': 2, '0110 01': 33, '0110 10': 14, '0110 11': 465, '0111 00': 2, '0111 01': 23, '0111 10': 14, '0111 11': 418, '0000 10': 20, '1000 00': 3, '1000 01': 29, '1000 10': 12, '1000 11': 496, '1001 00': 1, '1001 01': 18, '1001 10': 17, '1001 11': 436, '1010 00': 5, '1010 01': 26, '1010 10': 21, '1010 11': 554, '1011 00': 3, '1011 01': 29, '1011 10': 12, '1011 11': 447, '0000 11': 545, '1100 00': 7, '1100 01': 24, '1100 10': 16, '1100 11': 495, '1101 00': 4, '1101 01': 21, '1101 10': 18, '1101 11': 418, '1110 00': 1, '1110 01': 29, '1110 10': 22, '1110 11': 461, '1111 00': 3, '1111 01': 29, '1111 10': 10, '1111 11': 381, '0001 00': 7, '0001 01': 28, '0001 10': 10, '0001 11': 450, '0010 00': 4, '0010 01': 30, '0010 10': 19, '0010 11': 577, '0011 00': 2, '0011 01': 33, '0011 10': 22, '0011 11': 421}\n"
     ]
    }
   ],
   "source": [
    "# Show the counts\n",
    "print(\"# Simulator\")\n",
    "print(counts_sim)\n",
    "\n",
    "print(\"\\n# No scheduling\")\n",
    "for _count in count_list: \n",
    "    print(_count)\n",
    "\n",
    "print(\"\\n# ALAP scheduling policy\")\n",
    "for _count_alap in counts_alap_list: \n",
    "    print(_count_alap)"
   ]
  },
  {
   "cell_type": "code",
   "execution_count": null,
   "metadata": {
    "lines_to_next_cell": 2
   },
   "outputs": [],
   "source": []
  }
 ],
 "metadata": {
  "jupytext": {
   "text_representation": {
    "extension": ".py",
    "format_name": "light",
    "format_version": "1.5",
    "jupytext_version": "1.7.1"
   }
  },
  "kernelspec": {
   "display_name": "Python 3",
   "language": "python",
   "name": "python3"
  },
  "language_info": {
   "codemirror_mode": {
    "name": "ipython",
    "version": 3
   },
   "file_extension": ".py",
   "mimetype": "text/x-python",
   "name": "python",
   "nbconvert_exporter": "python",
   "pygments_lexer": "ipython3",
   "version": "3.8.3"
  }
 },
 "nbformat": 4,
 "nbformat_minor": 2
}
