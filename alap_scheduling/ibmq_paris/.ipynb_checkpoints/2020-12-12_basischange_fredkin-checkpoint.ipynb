{
 "cells": [
  {
   "cell_type": "markdown",
   "metadata": {},
   "source": [
    "# ALAP Scheduling \n",
    "### Basis change (3-qubits, 10CX) + Fredkin (3-qubits, 8CX)\n",
    "\n",
    "2020-12-12"
   ]
  },
  {
   "cell_type": "code",
   "execution_count": 1,
   "metadata": {},
   "outputs": [],
   "source": [
    "# import python tools\n",
    "import os\n",
    "\n",
    "# import qiskit tool\n",
    "from qiskit.transpiler import InstructionDurations\n",
    "\n",
    "# import experimental tools\n",
    "from experiments.alap_scheduling import execute_alap, result_alap\n",
    "from experiments.utils import get_IBM_backend"
   ]
  },
  {
   "cell_type": "markdown",
   "metadata": {},
   "source": [
    "## Experimental Settings"
   ]
  },
  {
   "cell_type": "code",
   "execution_count": 2,
   "metadata": {},
   "outputs": [],
   "source": [
    "date = '2020-12-12'\n",
    "\n",
    "# Choose benchmark circuits from QASMBench\n",
    "benchmark_sets = ['basis_change_n3', 'fredkin_n3']\n",
    "benchmark_size = 'small'"
   ]
  },
  {
   "cell_type": "code",
   "execution_count": 3,
   "metadata": {},
   "outputs": [
    {
     "name": "stderr",
     "output_type": "stream",
     "text": [
      "/Users/Yasuhiro/.local/share/virtualenvs/experiments-VWP9UmJy/lib/python3.8/site-packages/qiskit/providers/ibmq/ibmqfactory.py:192: UserWarning: Timestamps in IBMQ backend properties, jobs, and job results are all now in local time instead of UTC.\n",
      "  warnings.warn('Timestamps in IBMQ backend properties, jobs, and job results '\n"
     ]
    }
   ],
   "source": [
    "# Define backend device\n",
    "backend = get_IBM_backend('ibmq_paris')\n",
    "simulator = get_IBM_backend('ibmq_qasm_simulator')\n",
    "\n",
    "# Number of trials\n",
    "shots = 8192\n",
    "\n",
    "# Number of experimental seeds\n",
    "nseed = 1"
   ]
  },
  {
   "cell_type": "code",
   "execution_count": 4,
   "metadata": {},
   "outputs": [],
   "source": [
    "# define path to the file to save job data\n",
    "file_name = date + '_'\n",
    "sorted_benchmarks = sorted(benchmark_sets)\n",
    "for _name in sorted_benchmarks: \n",
    "    file_name += _name\n",
    "    if _name == sorted_benchmarks[-1]:\n",
    "        break\n",
    "    file_name += '+'\n",
    "job_save_path = str(os.getcwd()) + \"/job_id/from20201211/\" + file_name"
   ]
  },
  {
   "cell_type": "markdown",
   "metadata": {},
   "source": [
    "## Execute experiments on IBMQ\n",
    "\n",
    "Here, we execute three types of experiments. First one is the  job run on simulator to calculate exact answer of the multi-programming circuit. The other two are the jobs executed on the real device. One is the base line, which is no scheduled, and the other one is the circuit executed with alap schedule policy. "
   ]
  },
  {
   "cell_type": "code",
   "execution_count": 5,
   "metadata": {},
   "outputs": [],
   "source": [
    "instruction_durations = InstructionDurations.from_backend(backend)"
   ]
  },
  {
   "cell_type": "code",
   "execution_count": 6,
   "metadata": {
    "scrolled": true
   },
   "outputs": [
    {
     "name": "stdout",
     "output_type": "stream",
     "text": [
      "prog: Qubit(QuantumRegister(3, 'q26'), 0) , hw: 14\n",
      "prog: Qubit(QuantumRegister(3, 'q26'), 1) , hw: 16\n",
      "prog: Qubit(QuantumRegister(3, 'q26'), 2) , hw: 19\n",
      "prog: Qubit(QuantumRegister(3, 'q27'), 0) , hw: 25\n",
      "prog: Qubit(QuantumRegister(3, 'q27'), 1) , hw: 23\n",
      "prog: Qubit(QuantumRegister(3, 'q27'), 2) , hw: 24\n",
      "prog: Qubit(QuantumRegister(3, 'q103'), 0) , hw: 14\n",
      "prog: Qubit(QuantumRegister(3, 'q103'), 1) , hw: 16\n",
      "prog: Qubit(QuantumRegister(3, 'q103'), 2) , hw: 19\n",
      "prog: Qubit(QuantumRegister(3, 'q104'), 0) , hw: 25\n",
      "prog: Qubit(QuantumRegister(3, 'q104'), 1) , hw: 23\n",
      "prog: Qubit(QuantumRegister(3, 'q104'), 2) , hw: 24\n"
     ]
    }
   ],
   "source": [
    "job_sim, job, job_alap = execute_alap(\n",
    "                    size=benchmark_size, \n",
    "                    names=benchmark_sets, \n",
    "                    backend=backend, \n",
    "                    simulator=simulator,\n",
    "                    shots = shots, \n",
    "                    nseed=1,\n",
    "                    save_path=job_save_path, \n",
    "                    instruction_durations=instruction_durations,\n",
    "                    )"
   ]
  },
  {
   "cell_type": "code",
   "execution_count": 7,
   "metadata": {},
   "outputs": [
    {
     "name": "stdout",
     "output_type": "stream",
     "text": [
      "<qiskit.providers.ibmq.job.ibmqjob.IBMQJob object at 0x7fac56c70b50>\n",
      "[<qiskit.providers.ibmq.job.ibmqjob.IBMQJob object at 0x7fac5e504f70>]\n",
      "[<qiskit.providers.ibmq.job.ibmqjob.IBMQJob object at 0x7fac5e7b15b0>]\n"
     ]
    }
   ],
   "source": [
    "# Show the each job\n",
    "print(job_sim)\n",
    "print(job)\n",
    "print(job_alap)"
   ]
  },
  {
   "cell_type": "markdown",
   "metadata": {},
   "source": [
    "## Get the results"
   ]
  },
  {
   "cell_type": "code",
   "execution_count": 8,
   "metadata": {},
   "outputs": [],
   "source": [
    "# define path to the file to save results\n",
    "result_save_path = str(os.getcwd()) + \"/results/from20201211/\" + file_name"
   ]
  },
  {
   "cell_type": "code",
   "execution_count": 9,
   "metadata": {},
   "outputs": [],
   "source": [
    "result_sim, result_list, result_alap_list, counts_sim, count_list, counts_alap_list, qc_names = result_alap(backend, simulator, job_save_path, result_save_path)"
   ]
  },
  {
   "cell_type": "code",
   "execution_count": 10,
   "metadata": {},
   "outputs": [
    {
     "name": "stdout",
     "output_type": "stream",
     "text": [
      "# Simulator\n",
      "Result(backend_name='ibmq_qasm_simulator', backend_version='0.7.0', qobj_id='1bd81a31-f31d-47bb-9240-712fef3f0c58', job_id='5fd3fe244266b8001903e761', success=True, results=[ExperimentResult(shots=8192, success=True, meas_level=MeasLevel.CLASSIFIED, data=ExperimentResultData(counts={'0x28': 8192}), header=QobjExperimentHeader(clbit_labels=[['c0', 0], ['c0', 1], ['c0', 2], ['c1', 0], ['c1', 1], ['c1', 2]], creg_sizes=[['c0', 3], ['c1', 3]], global_phase=0.0, memory_slots=6, n_qubits=6, name='circuit8', qreg_sizes=[['q0', 3], ['q1', 3]], qubit_labels=[['q0', 0], ['q0', 1], ['q0', 2], ['q1', 0], ['q1', 1], ['q1', 2]]), status=DONE, metadata={'fusion': {'applied': False, 'enabled': True, 'method': 'unitary', 'threshold': 14}, 'measure_sampling': True, 'method': 'statevector', 'parallel_shots': 1, 'parallel_state_update': 16}, seed_simulator=197316788, time_taken=0.018913922)], date=2020-12-12 08:18:00.723885+09:00, status=COMPLETED, status=QobjHeader(backend_name='ibmq_qasm_simulator', backend_version='0.1.547'), metadata={'max_memory_mb': 257936, 'omp_enabled': True, 'parallel_experiments': 1, 'time_taken': 0.019229392}, time_taken=0.019229392, client_version={'qiskit': '0.23.1'})\n",
      "\n",
      "# No scheduling\n",
      "Result(backend_name='ibmq_paris', backend_version='1.6.5', qobj_id='699dc7c2-2498-4709-aebe-21ec3dcdd995', job_id='5fd3fe261d6c74001a0ed858', success=True, results=[ExperimentResult(shots=8192, success=True, meas_level=2, data=ExperimentResultData(counts={'0x0': 139, '0x1': 9, '0x10': 463, '0x11': 37, '0x12': 33, '0x13': 6, '0x14': 14, '0x15': 3, '0x16': 6, '0x18': 504, '0x19': 39, '0x1a': 29, '0x1b': 10, '0x1c': 13, '0x1d': 11, '0x1e': 3, '0x1f': 1, '0x2': 11, '0x20': 331, '0x21': 16, '0x22': 19, '0x23': 8, '0x24': 14, '0x25': 6, '0x26': 3, '0x28': 4371, '0x29': 235, '0x2a': 283, '0x2b': 63, '0x2c': 161, '0x2d': 57, '0x2e': 57, '0x2f': 18, '0x3': 2, '0x30': 155, '0x31': 13, '0x32': 9, '0x33': 4, '0x34': 1, '0x35': 2, '0x36': 2, '0x37': 1, '0x38': 321, '0x39': 24, '0x3a': 19, '0x3b': 3, '0x3c': 4, '0x3d': 6, '0x3e': 4, '0x3f': 1, '0x4': 1, '0x5': 6, '0x6': 1, '0x7': 1, '0x8': 541, '0x9': 26, '0xa': 30, '0xb': 7, '0xc': 20, '0xd': 9, '0xe': 6}), header=QobjExperimentHeader(clbit_labels=[['c2', 0], ['c2', 1], ['c2', 2], ['c3', 0], ['c3', 1], ['c3', 2]], creg_sizes=[['c2', 3], ['c3', 3]], global_phase=-0.39269908169872414, memory_slots=6, n_qubits=27, name='circuit158', qreg_sizes=[['q', 27]], qubit_labels=[['q', 0], ['q', 1], ['q', 2], ['q', 3], ['q', 4], ['q', 5], ['q', 6], ['q', 7], ['q', 8], ['q', 9], ['q', 10], ['q', 11], ['q', 12], ['q', 13], ['q', 14], ['q', 15], ['q', 16], ['q', 17], ['q', 18], ['q', 19], ['q', 20], ['q', 21], ['q', 22], ['q', 23], ['q', 24], ['q', 25], ['q', 26]]), memory=False)], date=2020-12-12 08:20:19+09:00, status=Successful completion, status=QobjHeader(backend_name='ibmq_paris', backend_version='1.6.5'), time_taken=22.293072938919067, execution_id='55580310-3c07-11eb-9b0d-b02628ea1e00', client_version={'qiskit': '0.23.1'})\n",
      "\n",
      "# ALAP scheduling policy\n",
      "Result(backend_name='ibmq_paris', backend_version='1.6.5', qobj_id='6ac5a883-b424-476d-ad7f-c4386876c501', job_id='5fd3fe29b98c9b001a57071d', success=True, results=[ExperimentResult(shots=8192, success=True, meas_level=2, data=ExperimentResultData(counts={'0x0': 179, '0x1': 15, '0x10': 423, '0x11': 26, '0x12': 26, '0x13': 7, '0x14': 10, '0x15': 6, '0x16': 4, '0x17': 1, '0x18': 338, '0x19': 22, '0x1a': 23, '0x1b': 4, '0x1c': 21, '0x1d': 7, '0x1e': 4, '0x1f': 1, '0x2': 11, '0x20': 354, '0x21': 18, '0x22': 14, '0x23': 9, '0x24': 19, '0x25': 4, '0x26': 7, '0x27': 1, '0x28': 4336, '0x29': 236, '0x2a': 248, '0x2b': 74, '0x2c': 162, '0x2d': 47, '0x2e': 52, '0x2f': 9, '0x3': 3, '0x30': 159, '0x31': 3, '0x32': 6, '0x33': 1, '0x34': 9, '0x35': 3, '0x36': 2, '0x37': 3, '0x38': 473, '0x39': 29, '0x3a': 33, '0x3b': 10, '0x3c': 22, '0x3d': 12, '0x3e': 6, '0x3f': 2, '0x4': 5, '0x5': 5, '0x6': 3, '0x7': 1, '0x8': 559, '0x9': 35, '0xa': 31, '0xb': 13, '0xc': 26, '0xd': 11, '0xe': 7, '0xf': 2}), header=QobjExperimentHeader(clbit_labels=[['c4', 0], ['c4', 1], ['c4', 2], ['c5', 0], ['c5', 1], ['c5', 2]], creg_sizes=[['c4', 3], ['c5', 3]], global_phase=0.0, memory_slots=6, n_qubits=27, name='circuit403', qreg_sizes=[['q', 27]], qubit_labels=[['q', 0], ['q', 1], ['q', 2], ['q', 3], ['q', 4], ['q', 5], ['q', 6], ['q', 7], ['q', 8], ['q', 9], ['q', 10], ['q', 11], ['q', 12], ['q', 13], ['q', 14], ['q', 15], ['q', 16], ['q', 17], ['q', 18], ['q', 19], ['q', 20], ['q', 21], ['q', 22], ['q', 23], ['q', 24], ['q', 25], ['q', 26]]), memory=False)], date=2020-12-12 08:21:57+09:00, status=Successful completion, status=QobjHeader(backend_name='ibmq_paris', backend_version='1.6.5'), time_taken=22.266082763671875, execution_id='7bdba30c-3c07-11eb-9cb6-b02628ea1e00', client_version={'qiskit': '0.23.1'})\n"
     ]
    }
   ],
   "source": [
    "# Show the results\n",
    "print(\"# Simulator\")\n",
    "print(result_sim)\n",
    "\n",
    "print(\"\\n# No scheduling\")\n",
    "for _result in result_list: \n",
    "    print(_result)\n",
    "\n",
    "print(\"\\n# ALAP scheduling policy\")\n",
    "for _result_alap in result_alap_list: \n",
    "    print(_result_alap)"
   ]
  },
  {
   "cell_type": "code",
   "execution_count": 11,
   "metadata": {},
   "outputs": [
    {
     "name": "stdout",
     "output_type": "stream",
     "text": [
      "# Simulator\n",
      "{'101 000': 8192}\n",
      "\n",
      "# No scheduling\n",
      "{'000 000': 139, '000 001': 9, '010 000': 463, '010 001': 37, '010 010': 33, '010 011': 6, '010 100': 14, '010 101': 3, '010 110': 6, '011 000': 504, '011 001': 39, '011 010': 29, '011 011': 10, '011 100': 13, '011 101': 11, '011 110': 3, '011 111': 1, '000 010': 11, '100 000': 331, '100 001': 16, '100 010': 19, '100 011': 8, '100 100': 14, '100 101': 6, '100 110': 3, '101 000': 4371, '101 001': 235, '101 010': 283, '101 011': 63, '101 100': 161, '101 101': 57, '101 110': 57, '101 111': 18, '000 011': 2, '110 000': 155, '110 001': 13, '110 010': 9, '110 011': 4, '110 100': 1, '110 101': 2, '110 110': 2, '110 111': 1, '111 000': 321, '111 001': 24, '111 010': 19, '111 011': 3, '111 100': 4, '111 101': 6, '111 110': 4, '111 111': 1, '000 100': 1, '000 101': 6, '000 110': 1, '000 111': 1, '001 000': 541, '001 001': 26, '001 010': 30, '001 011': 7, '001 100': 20, '001 101': 9, '001 110': 6}\n",
      "\n",
      "# ALAP scheduling policy\n",
      "{'000 000': 179, '000 001': 15, '010 000': 423, '010 001': 26, '010 010': 26, '010 011': 7, '010 100': 10, '010 101': 6, '010 110': 4, '010 111': 1, '011 000': 338, '011 001': 22, '011 010': 23, '011 011': 4, '011 100': 21, '011 101': 7, '011 110': 4, '011 111': 1, '000 010': 11, '100 000': 354, '100 001': 18, '100 010': 14, '100 011': 9, '100 100': 19, '100 101': 4, '100 110': 7, '100 111': 1, '101 000': 4336, '101 001': 236, '101 010': 248, '101 011': 74, '101 100': 162, '101 101': 47, '101 110': 52, '101 111': 9, '000 011': 3, '110 000': 159, '110 001': 3, '110 010': 6, '110 011': 1, '110 100': 9, '110 101': 3, '110 110': 2, '110 111': 3, '111 000': 473, '111 001': 29, '111 010': 33, '111 011': 10, '111 100': 22, '111 101': 12, '111 110': 6, '111 111': 2, '000 100': 5, '000 101': 5, '000 110': 3, '000 111': 1, '001 000': 559, '001 001': 35, '001 010': 31, '001 011': 13, '001 100': 26, '001 101': 11, '001 110': 7, '001 111': 2}\n"
     ]
    }
   ],
   "source": [
    "# Show the counts\n",
    "print(\"# Simulator\")\n",
    "print(counts_sim)\n",
    "\n",
    "print(\"\\n# No scheduling\")\n",
    "for _count in count_list: \n",
    "    print(_count)\n",
    "\n",
    "print(\"\\n# ALAP scheduling policy\")\n",
    "for _count_alap in counts_alap_list: \n",
    "    print(_count_alap)"
   ]
  },
  {
   "cell_type": "code",
   "execution_count": null,
   "metadata": {},
   "outputs": [],
   "source": []
  }
 ],
 "metadata": {
  "jupytext": {
   "text_representation": {
    "extension": ".py",
    "format_name": "light",
    "format_version": "1.5",
    "jupytext_version": "1.7.1"
   }
  },
  "kernelspec": {
   "display_name": "Python 3",
   "language": "python",
   "name": "python3"
  },
  "language_info": {
   "codemirror_mode": {
    "name": "ipython",
    "version": 3
   },
   "file_extension": ".py",
   "mimetype": "text/x-python",
   "name": "python",
   "nbconvert_exporter": "python",
   "pygments_lexer": "ipython3",
   "version": "3.8.3"
  }
 },
 "nbformat": 4,
 "nbformat_minor": 2
}
