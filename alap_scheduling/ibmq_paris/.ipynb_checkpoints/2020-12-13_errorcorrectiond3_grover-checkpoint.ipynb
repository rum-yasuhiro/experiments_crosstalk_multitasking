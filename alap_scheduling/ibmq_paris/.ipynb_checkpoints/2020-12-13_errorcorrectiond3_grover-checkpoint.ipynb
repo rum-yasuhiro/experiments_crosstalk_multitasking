{
 "cells": [
  {
   "cell_type": "markdown",
   "metadata": {},
   "source": [
    "# ALAP Scheduling \n",
    "### Error Correctiond3 (5-qubits, 49CX) + Grover (2-qubits, 2 CX)\n",
    "\n",
    "2020-12-13"
   ]
  },
  {
   "cell_type": "code",
   "execution_count": 1,
   "metadata": {},
   "outputs": [],
   "source": [
    "# import python tools\n",
    "import os\n",
    "\n",
    "# import qiskit tool\n",
    "from qiskit.transpiler import InstructionDurations\n",
    "\n",
    "# import experimental tools\n",
    "from experiments.alap_scheduling import execute_alap, result_alap\n",
    "from experiments.utils import get_IBM_backend"
   ]
  },
  {
   "cell_type": "markdown",
   "metadata": {},
   "source": [
    "## Experimental Settings"
   ]
  },
  {
   "cell_type": "code",
   "execution_count": 2,
   "metadata": {},
   "outputs": [],
   "source": [
    "date = '2020-12-13'\n",
    "\n",
    "# Choose benchmark circuits from QASMBench\n",
    "benchmark_sets = ['error_correctiond3_n5', 'grover_n2']\n",
    "benchmark_size = 'small'"
   ]
  },
  {
   "cell_type": "code",
   "execution_count": 3,
   "metadata": {},
   "outputs": [
    {
     "name": "stderr",
     "output_type": "stream",
     "text": [
      "/Users/Yasuhiro/.local/share/virtualenvs/experiments-VWP9UmJy/lib/python3.8/site-packages/qiskit/providers/ibmq/ibmqfactory.py:192: UserWarning: Timestamps in IBMQ backend properties, jobs, and job results are all now in local time instead of UTC.\n",
      "  warnings.warn('Timestamps in IBMQ backend properties, jobs, and job results '\n"
     ]
    }
   ],
   "source": [
    "# Define backend device\n",
    "backend = get_IBM_backend('ibmq_paris')\n",
    "simulator = get_IBM_backend('ibmq_qasm_simulator')\n",
    "\n",
    "# Number of trials\n",
    "shots = 8192\n",
    "\n",
    "# Number of experimental seeds\n",
    "nseed = 1"
   ]
  },
  {
   "cell_type": "code",
   "execution_count": 4,
   "metadata": {},
   "outputs": [],
   "source": [
    "# define path to the file to save job data\n",
    "file_name = date + '_'\n",
    "sorted_benchmarks = sorted(benchmark_sets)\n",
    "for _name in sorted_benchmarks: \n",
    "    file_name += _name\n",
    "    if _name == sorted_benchmarks[-1]:\n",
    "        break\n",
    "    file_name += '+'\n",
    "job_save_path = str(os.getcwd()) + \"/job_id/from20201211/\" + file_name"
   ]
  },
  {
   "cell_type": "markdown",
   "metadata": {},
   "source": [
    "## Execute experiments on IBMQ\n",
    "\n",
    "Here, we execute three types of experiments. First one is the  job run on simulator to calculate exact answer of the multi-programming circuit. The other two are the jobs executed on the real device. One is the base line, which is no scheduled, and the other one is the circuit executed with alap schedule policy. "
   ]
  },
  {
   "cell_type": "code",
   "execution_count": 5,
   "metadata": {},
   "outputs": [],
   "source": [
    "instruction_durations = InstructionDurations.from_backend(backend)"
   ]
  },
  {
   "cell_type": "code",
   "execution_count": 6,
   "metadata": {},
   "outputs": [
    {
     "name": "stdout",
     "output_type": "stream",
     "text": [
      "prog: Qubit(QuantumRegister(5, 'q70'), 0) , hw: 22\n",
      "prog: Qubit(QuantumRegister(5, 'q70'), 1) , hw: 16\n",
      "prog: Qubit(QuantumRegister(5, 'q70'), 2) , hw: 19\n",
      "prog: Qubit(QuantumRegister(5, 'q70'), 3) , hw: 14\n",
      "prog: Qubit(QuantumRegister(5, 'q70'), 4) , hw: 20\n",
      "prog: Qubit(QuantumRegister(2, 'q71'), 0) , hw: 23\n",
      "prog: Qubit(QuantumRegister(2, 'q71'), 1) , hw: 24\n",
      "prog: Qubit(QuantumRegister(5, 'q235'), 0) , hw: 22\n",
      "prog: Qubit(QuantumRegister(5, 'q235'), 1) , hw: 16\n",
      "prog: Qubit(QuantumRegister(5, 'q235'), 2) , hw: 19\n",
      "prog: Qubit(QuantumRegister(5, 'q235'), 3) , hw: 14\n",
      "prog: Qubit(QuantumRegister(5, 'q235'), 4) , hw: 20\n",
      "prog: Qubit(QuantumRegister(2, 'q236'), 0) , hw: 23\n",
      "prog: Qubit(QuantumRegister(2, 'q236'), 1) , hw: 24\n"
     ]
    }
   ],
   "source": [
    "job_sim, job, job_alap = execute_alap(\n",
    "                    size=benchmark_size, \n",
    "                    names=benchmark_sets, \n",
    "                    backend=backend, \n",
    "                    simulator=simulator,\n",
    "                    shots = shots, \n",
    "                    nseed=1,\n",
    "                    save_path=job_save_path, \n",
    "                    instruction_durations=instruction_durations,\n",
    "                    )"
   ]
  },
  {
   "cell_type": "code",
   "execution_count": 7,
   "metadata": {},
   "outputs": [
    {
     "name": "stdout",
     "output_type": "stream",
     "text": [
      "<qiskit.providers.ibmq.job.ibmqjob.IBMQJob object at 0x7ff546c4cb80>\n",
      "[<qiskit.providers.ibmq.job.ibmqjob.IBMQJob object at 0x7ff546d8af10>]\n",
      "[<qiskit.providers.ibmq.job.ibmqjob.IBMQJob object at 0x7ff546ee8a60>]\n"
     ]
    }
   ],
   "source": [
    "# Show the each job\n",
    "print(job_sim)\n",
    "print(job)\n",
    "print(job_alap)"
   ]
  },
  {
   "cell_type": "markdown",
   "metadata": {},
   "source": [
    "## Get the results"
   ]
  },
  {
   "cell_type": "code",
   "execution_count": 8,
   "metadata": {},
   "outputs": [],
   "source": [
    "# define path to the file to save results\n",
    "result_save_path = str(os.getcwd()) + \"/results/from20201211/\" + file_name"
   ]
  },
  {
   "cell_type": "code",
   "execution_count": 9,
   "metadata": {},
   "outputs": [],
   "source": [
    "result_sim, result_list, result_alap_list, counts_sim, count_list, counts_alap_list, qc_names = result_alap(backend, simulator, job_save_path, result_save_path)"
   ]
  },
  {
   "cell_type": "code",
   "execution_count": 10,
   "metadata": {},
   "outputs": [
    {
     "name": "stdout",
     "output_type": "stream",
     "text": [
      "# Simulator\n",
      "Result(backend_name='ibmq_qasm_simulator', backend_version='0.7.0', qobj_id='a94838a0-e407-4f63-a4fb-15f4430fcf15', job_id='5fd5857705b601001977206b', success=True, results=[ExperimentResult(shots=8192, success=True, meas_level=MeasLevel.CLASSIFIED, data=ExperimentResultData(counts={'0x60': 524, '0x63': 558, '0x65': 489, '0x66': 460, '0x69': 546, '0x6a': 513, '0x6c': 496, '0x6f': 500, '0x71': 504, '0x72': 513, '0x74': 523, '0x77': 492, '0x78': 497, '0x7b': 522, '0x7d': 503, '0x7e': 552}), header=QobjExperimentHeader(clbit_labels=[['c0', 0], ['c0', 1], ['c0', 2], ['c0', 3], ['c0', 4], ['c1', 0], ['c1', 1]], creg_sizes=[['c0', 5], ['c1', 2]], global_phase=0.0, memory_slots=7, n_qubits=7, name='circuit8', qreg_sizes=[['q0', 5], ['q1', 2]], qubit_labels=[['q0', 0], ['q0', 1], ['q0', 2], ['q0', 3], ['q0', 4], ['q1', 0], ['q1', 1]]), status=DONE, metadata={'fusion': {'applied': False, 'enabled': True, 'method': 'unitary', 'threshold': 14}, 'measure_sampling': True, 'method': 'statevector', 'parallel_shots': 1, 'parallel_state_update': 16}, seed_simulator=4094395760, time_taken=0.020902986000000002)], date=2020-12-13 12:07:39.587691+09:00, status=COMPLETED, status=QobjHeader(backend_name='ibmq_qasm_simulator', backend_version='0.1.547'), metadata={'max_memory_mb': 257936, 'omp_enabled': True, 'parallel_experiments': 1, 'time_taken': 0.021306845}, time_taken=0.021306845, client_version={'qiskit': '0.23.1'})\n",
      "\n",
      "# No scheduling\n",
      "Result(backend_name='ibmq_paris', backend_version='1.6.6', qobj_id='e6c66582-5108-4efd-99a7-bb21c4887497', job_id='5fd5857a80c762001a74770a', success=True, results=[ExperimentResult(shots=8192, success=True, meas_level=2, data=ExperimentResultData(counts={'0x0': 3, '0x1': 3, '0x10': 6, '0x11': 5, '0x12': 5, '0x13': 1, '0x14': 4, '0x15': 3, '0x16': 1, '0x17': 1, '0x18': 2, '0x19': 1, '0x1a': 1, '0x1b': 2, '0x1c': 2, '0x1f': 3, '0x2': 2, '0x20': 10, '0x21': 6, '0x22': 13, '0x23': 4, '0x24': 15, '0x25': 10, '0x26': 4, '0x27': 3, '0x28': 8, '0x29': 11, '0x2a': 3, '0x2b': 2, '0x2c': 6, '0x2d': 2, '0x2e': 4, '0x2f': 4, '0x3': 1, '0x30': 13, '0x31': 7, '0x32': 12, '0x33': 2, '0x34': 9, '0x35': 5, '0x36': 4, '0x37': 6, '0x38': 6, '0x39': 2, '0x3a': 8, '0x3b': 4, '0x3c': 16, '0x3d': 5, '0x3e': 4, '0x3f': 6, '0x4': 3, '0x40': 15, '0x41': 8, '0x42': 11, '0x43': 8, '0x44': 14, '0x45': 6, '0x46': 12, '0x47': 4, '0x48': 9, '0x49': 11, '0x4a': 5, '0x4b': 5, '0x4c': 8, '0x4d': 6, '0x4e': 4, '0x4f': 4, '0x5': 2, '0x50': 28, '0x51': 16, '0x52': 10, '0x53': 7, '0x54': 11, '0x55': 8, '0x56': 13, '0x57': 11, '0x58': 11, '0x59': 5, '0x5a': 7, '0x5b': 5, '0x5c': 5, '0x5d': 8, '0x5e': 9, '0x5f': 4, '0x6': 3, '0x60': 442, '0x61': 252, '0x62': 259, '0x63': 268, '0x64': 397, '0x65': 295, '0x66': 307, '0x67': 107, '0x68': 262, '0x69': 269, '0x6a': 150, '0x6b': 129, '0x6c': 253, '0x6d': 111, '0x6e': 230, '0x6f': 128, '0x7': 1, '0x70': 512, '0x71': 337, '0x72': 262, '0x73': 110, '0x74': 329, '0x75': 202, '0x76': 301, '0x77': 233, '0x78': 285, '0x79': 134, '0x7a': 185, '0x7b': 111, '0x7c': 236, '0x7d': 227, '0x7e': 192, '0x7f': 109, '0x8': 3, '0x9': 1, '0xa': 2, '0xb': 1, '0xd': 3, '0xf': 1}), header=QobjExperimentHeader(clbit_labels=[['c2', 0], ['c2', 1], ['c2', 2], ['c2', 3], ['c2', 4], ['c3', 0], ['c3', 1]], creg_sizes=[['c2', 5], ['c3', 2]], global_phase=-8.881784197001252e-16, memory_slots=7, n_qubits=27, name='circuit290', qreg_sizes=[['q', 27]], qubit_labels=[['q', 0], ['q', 1], ['q', 2], ['q', 3], ['q', 4], ['q', 5], ['q', 6], ['q', 7], ['q', 8], ['q', 9], ['q', 10], ['q', 11], ['q', 12], ['q', 13], ['q', 14], ['q', 15], ['q', 16], ['q', 17], ['q', 18], ['q', 19], ['q', 20], ['q', 21], ['q', 22], ['q', 23], ['q', 24], ['q', 25], ['q', 26]]), memory=False)], date=2020-12-13 12:31:06+09:00, status=Successful completion, status=QobjHeader(backend_name='ibmq_paris', backend_version='1.6.6'), time_taken=21.87146234512329, execution_id='881fa2f2-3cf3-11eb-89ed-b02628ea1e00', client_version={'qiskit': '0.23.1'})\n",
      "\n",
      "# ALAP scheduling policy\n",
      "Result(backend_name='ibmq_paris', backend_version='1.6.6', qobj_id='520e28a0-cfbb-4411-8b46-5cc6dfc5c4ee', job_id='5fd5857dafed59001902630d', success=True, results=[ExperimentResult(shots=8192, success=True, meas_level=2, data=ExperimentResultData(counts={'0x0': 2, '0x1': 2, '0x10': 5, '0x11': 2, '0x12': 3, '0x14': 4, '0x15': 2, '0x16': 4, '0x17': 2, '0x18': 3, '0x19': 3, '0x1a': 2, '0x1b': 1, '0x1c': 1, '0x1d': 1, '0x1e': 2, '0x2': 2, '0x20': 6, '0x21': 5, '0x22': 7, '0x23': 8, '0x24': 5, '0x25': 6, '0x26': 5, '0x27': 3, '0x28': 11, '0x29': 10, '0x2a': 3, '0x2b': 6, '0x2c': 9, '0x2d': 7, '0x2e': 2, '0x2f': 6, '0x3': 2, '0x30': 11, '0x31': 9, '0x32': 4, '0x33': 5, '0x34': 21, '0x35': 8, '0x36': 11, '0x37': 8, '0x38': 9, '0x39': 4, '0x3a': 4, '0x3b': 5, '0x3c': 6, '0x3d': 2, '0x3e': 4, '0x3f': 3, '0x4': 4, '0x40': 20, '0x41': 10, '0x42': 6, '0x43': 9, '0x44': 12, '0x45': 9, '0x46': 8, '0x47': 4, '0x48': 11, '0x49': 11, '0x4a': 15, '0x4b': 10, '0x4c': 10, '0x4d': 8, '0x4e': 7, '0x4f': 7, '0x5': 2, '0x50': 13, '0x51': 14, '0x52': 10, '0x53': 7, '0x54': 20, '0x55': 7, '0x56': 10, '0x57': 7, '0x58': 9, '0x59': 6, '0x5a': 10, '0x5b': 7, '0x5c': 6, '0x5d': 7, '0x5e': 8, '0x5f': 7, '0x6': 2, '0x60': 337, '0x61': 238, '0x62': 215, '0x63': 195, '0x64': 308, '0x65': 251, '0x66': 360, '0x67': 127, '0x68': 300, '0x69': 205, '0x6a': 220, '0x6b': 219, '0x6c': 257, '0x6d': 256, '0x6e': 187, '0x6f': 132, '0x70': 316, '0x71': 257, '0x72': 203, '0x73': 153, '0x74': 439, '0x75': 250, '0x76': 272, '0x77': 170, '0x78': 352, '0x79': 188, '0x7a': 200, '0x7b': 166, '0x7c': 262, '0x7d': 229, '0x7e': 188, '0x7f': 155, '0x8': 2, '0x9': 2, '0xa': 3, '0xb': 1, '0xc': 2, '0xd': 3, '0xe': 2, '0xf': 1}), header=QobjExperimentHeader(clbit_labels=[['c4', 0], ['c4', 1], ['c4', 2], ['c4', 3], ['c4', 4], ['c5', 0], ['c5', 1]], creg_sizes=[['c4', 5], ['c5', 2]], global_phase=0.0, memory_slots=7, n_qubits=27, name='circuit928', qreg_sizes=[['q', 27]], qubit_labels=[['q', 0], ['q', 1], ['q', 2], ['q', 3], ['q', 4], ['q', 5], ['q', 6], ['q', 7], ['q', 8], ['q', 9], ['q', 10], ['q', 11], ['q', 12], ['q', 13], ['q', 14], ['q', 15], ['q', 16], ['q', 17], ['q', 18], ['q', 19], ['q', 20], ['q', 21], ['q', 22], ['q', 23], ['q', 24], ['q', 25], ['q', 26]]), memory=False)], date=2020-12-13 12:33:35+09:00, status=Successful completion, status=QobjHeader(backend_name='ibmq_paris', backend_version='1.6.6'), time_taken=21.546151399612427, execution_id='a59ce75e-3cf3-11eb-b99c-b02628ea1e00', client_version={'qiskit': '0.23.1'})\n"
     ]
    }
   ],
   "source": [
    "# Show the results\n",
    "print(\"# Simulator\")\n",
    "print(result_sim)\n",
    "\n",
    "print(\"\\n# No scheduling\")\n",
    "for _result in result_list: \n",
    "    print(_result)\n",
    "\n",
    "print(\"\\n# ALAP scheduling policy\")\n",
    "for _result_alap in result_alap_list: \n",
    "    print(_result_alap)"
   ]
  },
  {
   "cell_type": "code",
   "execution_count": 11,
   "metadata": {
    "lines_to_next_cell": 0
   },
   "outputs": [
    {
     "name": "stdout",
     "output_type": "stream",
     "text": [
      "# Simulator\n",
      "{'11 00000': 524, '11 00011': 558, '11 00101': 489, '11 00110': 460, '11 01001': 546, '11 01010': 513, '11 01100': 496, '11 01111': 500, '11 10001': 504, '11 10010': 513, '11 10100': 523, '11 10111': 492, '11 11000': 497, '11 11011': 522, '11 11101': 503, '11 11110': 552}\n",
      "\n",
      "# No scheduling\n",
      "{'00 00000': 3, '00 00001': 3, '00 10000': 6, '00 10001': 5, '00 10010': 5, '00 10011': 1, '00 10100': 4, '00 10101': 3, '00 10110': 1, '00 10111': 1, '00 11000': 2, '00 11001': 1, '00 11010': 1, '00 11011': 2, '00 11100': 2, '00 11111': 3, '00 00010': 2, '01 00000': 10, '01 00001': 6, '01 00010': 13, '01 00011': 4, '01 00100': 15, '01 00101': 10, '01 00110': 4, '01 00111': 3, '01 01000': 8, '01 01001': 11, '01 01010': 3, '01 01011': 2, '01 01100': 6, '01 01101': 2, '01 01110': 4, '01 01111': 4, '00 00011': 1, '01 10000': 13, '01 10001': 7, '01 10010': 12, '01 10011': 2, '01 10100': 9, '01 10101': 5, '01 10110': 4, '01 10111': 6, '01 11000': 6, '01 11001': 2, '01 11010': 8, '01 11011': 4, '01 11100': 16, '01 11101': 5, '01 11110': 4, '01 11111': 6, '00 00100': 3, '10 00000': 15, '10 00001': 8, '10 00010': 11, '10 00011': 8, '10 00100': 14, '10 00101': 6, '10 00110': 12, '10 00111': 4, '10 01000': 9, '10 01001': 11, '10 01010': 5, '10 01011': 5, '10 01100': 8, '10 01101': 6, '10 01110': 4, '10 01111': 4, '00 00101': 2, '10 10000': 28, '10 10001': 16, '10 10010': 10, '10 10011': 7, '10 10100': 11, '10 10101': 8, '10 10110': 13, '10 10111': 11, '10 11000': 11, '10 11001': 5, '10 11010': 7, '10 11011': 5, '10 11100': 5, '10 11101': 8, '10 11110': 9, '10 11111': 4, '00 00110': 3, '11 00000': 442, '11 00001': 252, '11 00010': 259, '11 00011': 268, '11 00100': 397, '11 00101': 295, '11 00110': 307, '11 00111': 107, '11 01000': 262, '11 01001': 269, '11 01010': 150, '11 01011': 129, '11 01100': 253, '11 01101': 111, '11 01110': 230, '11 01111': 128, '00 00111': 1, '11 10000': 512, '11 10001': 337, '11 10010': 262, '11 10011': 110, '11 10100': 329, '11 10101': 202, '11 10110': 301, '11 10111': 233, '11 11000': 285, '11 11001': 134, '11 11010': 185, '11 11011': 111, '11 11100': 236, '11 11101': 227, '11 11110': 192, '11 11111': 109, '00 01000': 3, '00 01001': 1, '00 01010': 2, '00 01011': 1, '00 01101': 3, '00 01111': 1}\n",
      "\n",
      "# ALAP scheduling policy\n",
      "{'00 00000': 2, '00 00001': 2, '00 10000': 5, '00 10001': 2, '00 10010': 3, '00 10100': 4, '00 10101': 2, '00 10110': 4, '00 10111': 2, '00 11000': 3, '00 11001': 3, '00 11010': 2, '00 11011': 1, '00 11100': 1, '00 11101': 1, '00 11110': 2, '00 00010': 2, '01 00000': 6, '01 00001': 5, '01 00010': 7, '01 00011': 8, '01 00100': 5, '01 00101': 6, '01 00110': 5, '01 00111': 3, '01 01000': 11, '01 01001': 10, '01 01010': 3, '01 01011': 6, '01 01100': 9, '01 01101': 7, '01 01110': 2, '01 01111': 6, '00 00011': 2, '01 10000': 11, '01 10001': 9, '01 10010': 4, '01 10011': 5, '01 10100': 21, '01 10101': 8, '01 10110': 11, '01 10111': 8, '01 11000': 9, '01 11001': 4, '01 11010': 4, '01 11011': 5, '01 11100': 6, '01 11101': 2, '01 11110': 4, '01 11111': 3, '00 00100': 4, '10 00000': 20, '10 00001': 10, '10 00010': 6, '10 00011': 9, '10 00100': 12, '10 00101': 9, '10 00110': 8, '10 00111': 4, '10 01000': 11, '10 01001': 11, '10 01010': 15, '10 01011': 10, '10 01100': 10, '10 01101': 8, '10 01110': 7, '10 01111': 7, '00 00101': 2, '10 10000': 13, '10 10001': 14, '10 10010': 10, '10 10011': 7, '10 10100': 20, '10 10101': 7, '10 10110': 10, '10 10111': 7, '10 11000': 9, '10 11001': 6, '10 11010': 10, '10 11011': 7, '10 11100': 6, '10 11101': 7, '10 11110': 8, '10 11111': 7, '00 00110': 2, '11 00000': 337, '11 00001': 238, '11 00010': 215, '11 00011': 195, '11 00100': 308, '11 00101': 251, '11 00110': 360, '11 00111': 127, '11 01000': 300, '11 01001': 205, '11 01010': 220, '11 01011': 219, '11 01100': 257, '11 01101': 256, '11 01110': 187, '11 01111': 132, '11 10000': 316, '11 10001': 257, '11 10010': 203, '11 10011': 153, '11 10100': 439, '11 10101': 250, '11 10110': 272, '11 10111': 170, '11 11000': 352, '11 11001': 188, '11 11010': 200, '11 11011': 166, '11 11100': 262, '11 11101': 229, '11 11110': 188, '11 11111': 155, '00 01000': 2, '00 01001': 2, '00 01010': 3, '00 01011': 1, '00 01100': 2, '00 01101': 3, '00 01110': 2, '00 01111': 1}\n"
     ]
    }
   ],
   "source": [
    "# Show the counts\n",
    "print(\"# Simulator\")\n",
    "print(counts_sim)\n",
    "\n",
    "print(\"\\n# No scheduling\")\n",
    "for _count in count_list: \n",
    "    print(_count)\n",
    "\n",
    "print(\"\\n# ALAP scheduling policy\")\n",
    "for _count_alap in counts_alap_list: \n",
    "    print(_count_alap)"
   ]
  },
  {
   "cell_type": "code",
   "execution_count": null,
   "metadata": {
    "lines_to_next_cell": 2
   },
   "outputs": [],
   "source": []
  }
 ],
 "metadata": {
  "jupytext": {
   "text_representation": {
    "extension": ".py",
    "format_name": "light",
    "format_version": "1.5",
    "jupytext_version": "1.7.1"
   }
  },
  "kernelspec": {
   "display_name": "Python 3",
   "language": "python",
   "name": "python3"
  },
  "language_info": {
   "codemirror_mode": {
    "name": "ipython",
    "version": 3
   },
   "file_extension": ".py",
   "mimetype": "text/x-python",
   "name": "python",
   "nbconvert_exporter": "python",
   "pygments_lexer": "ipython3",
   "version": "3.8.3"
  }
 },
 "nbformat": 4,
 "nbformat_minor": 2
}
