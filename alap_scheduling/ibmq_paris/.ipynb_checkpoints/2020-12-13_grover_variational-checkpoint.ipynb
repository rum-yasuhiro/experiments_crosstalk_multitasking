{
 "cells": [
  {
   "cell_type": "markdown",
   "metadata": {},
   "source": [
    "# ALAP Scheduling \n",
    "### Grover (2-qubits, 2 CX) + Variational (4-qubits, 16 CX)\n",
    "\n",
    "2020-12-13"
   ]
  },
  {
   "cell_type": "code",
   "execution_count": 1,
   "metadata": {},
   "outputs": [],
   "source": [
    "# import python tools\n",
    "import os\n",
    "\n",
    "# import qiskit tool\n",
    "from qiskit.transpiler import InstructionDurations\n",
    "\n",
    "# import experimental tools\n",
    "from experiments.alap_scheduling import execute_alap, result_alap\n",
    "from experiments.utils import get_IBM_backend"
   ]
  },
  {
   "cell_type": "markdown",
   "metadata": {},
   "source": [
    "## Experimental Settings"
   ]
  },
  {
   "cell_type": "code",
   "execution_count": 2,
   "metadata": {},
   "outputs": [],
   "source": [
    "date = '2020-12-13'\n",
    "\n",
    "# Choose benchmark circuits from QASMBench\n",
    "benchmark_sets = ['grover_n2', 'variational_n4']\n",
    "benchmark_size = 'small'"
   ]
  },
  {
   "cell_type": "code",
   "execution_count": 3,
   "metadata": {},
   "outputs": [
    {
     "name": "stderr",
     "output_type": "stream",
     "text": [
      "/Users/Yasuhiro/.local/share/virtualenvs/experiments-VWP9UmJy/lib/python3.8/site-packages/qiskit/providers/ibmq/ibmqfactory.py:192: UserWarning: Timestamps in IBMQ backend properties, jobs, and job results are all now in local time instead of UTC.\n",
      "  warnings.warn('Timestamps in IBMQ backend properties, jobs, and job results '\n"
     ]
    }
   ],
   "source": [
    "# Define backend device\n",
    "backend = get_IBM_backend('ibmq_paris')\n",
    "simulator = get_IBM_backend('ibmq_qasm_simulator')\n",
    "\n",
    "# Number of trials\n",
    "shots = 8192\n",
    "\n",
    "# Number of experimental seeds\n",
    "nseed = 1"
   ]
  },
  {
   "cell_type": "code",
   "execution_count": 4,
   "metadata": {},
   "outputs": [],
   "source": [
    "# define path to the file to save job data\n",
    "file_name = date + '_'\n",
    "sorted_benchmarks = sorted(benchmark_sets)\n",
    "for _name in sorted_benchmarks: \n",
    "    file_name += _name\n",
    "    if _name == sorted_benchmarks[-1]:\n",
    "        break\n",
    "    file_name += '+'\n",
    "job_save_path = str(os.getcwd()) + \"/job_id/from20201211/\" + file_name"
   ]
  },
  {
   "cell_type": "markdown",
   "metadata": {},
   "source": [
    "## Execute experiments on IBMQ\n",
    "\n",
    "Here, we execute three types of experiments. First one is the  job run on simulator to calculate exact answer of the multi-programming circuit. The other two are the jobs executed on the real device. One is the base line, which is no scheduled, and the other one is the circuit executed with alap schedule policy. "
   ]
  },
  {
   "cell_type": "code",
   "execution_count": 5,
   "metadata": {},
   "outputs": [],
   "source": [
    "instruction_durations = InstructionDurations.from_backend(backend)"
   ]
  },
  {
   "cell_type": "code",
   "execution_count": 6,
   "metadata": {},
   "outputs": [],
   "source": [
    "job_sim, job, job_alap = execute_alap(\n",
    "                    size=benchmark_size, \n",
    "                    names=benchmark_sets, \n",
    "                    backend=backend, \n",
    "                    simulator=simulator,\n",
    "                    shots = shots, \n",
    "                    nseed=1,\n",
    "                    save_path=job_save_path, \n",
    "                    instruction_durations=instruction_durations,\n",
    "                    )"
   ]
  },
  {
   "cell_type": "code",
   "execution_count": 7,
   "metadata": {},
   "outputs": [
    {
     "name": "stdout",
     "output_type": "stream",
     "text": [
      "<qiskit.providers.ibmq.job.ibmqjob.IBMQJob object at 0x7f893b520460>\n",
      "[<qiskit.providers.ibmq.job.ibmqjob.IBMQJob object at 0x7f893b53b0a0>]\n",
      "[<qiskit.providers.ibmq.job.ibmqjob.IBMQJob object at 0x7f893b587f10>]\n"
     ]
    }
   ],
   "source": [
    "# Show the each job\n",
    "print(job_sim)\n",
    "print(job)\n",
    "print(job_alap)"
   ]
  },
  {
   "cell_type": "markdown",
   "metadata": {},
   "source": [
    "## Get the results"
   ]
  },
  {
   "cell_type": "code",
   "execution_count": 8,
   "metadata": {},
   "outputs": [],
   "source": [
    "# define path to the file to save results\n",
    "result_save_path = str(os.getcwd()) + \"/results/from20201211/\" + file_name"
   ]
  },
  {
   "cell_type": "code",
   "execution_count": 9,
   "metadata": {},
   "outputs": [],
   "source": [
    "result_sim, result_list, result_alap_list, counts_sim, count_list, counts_alap_list, qc_names = result_alap(backend, simulator, job_save_path, result_save_path)"
   ]
  },
  {
   "cell_type": "code",
   "execution_count": 10,
   "metadata": {},
   "outputs": [
    {
     "name": "stdout",
     "output_type": "stream",
     "text": [
      "# Simulator\n",
      "Result(backend_name='ibmq_qasm_simulator', backend_version='0.7.0', qobj_id='5ac86e53-dc45-42fa-9b9c-c96b68dd7464', job_id='5fd5bbb705b6010019772295', success=True, results=[ExperimentResult(shots=8192, success=True, meas_level=MeasLevel.CLASSIFIED, data=ExperimentResultData(counts={'0x17': 1951, '0x1b': 2105, '0x27': 2025, '0x2b': 2111}), header=QobjExperimentHeader(clbit_labels=[['c0', 0], ['c0', 1], ['c1', 0], ['c1', 1], ['c1', 2], ['c1', 3]], creg_sizes=[['c0', 2], ['c1', 4]], global_phase=0.0, memory_slots=6, n_qubits=6, name='circuit8', qreg_sizes=[['q0', 2], ['q1', 4]], qubit_labels=[['q0', 0], ['q0', 1], ['q1', 0], ['q1', 1], ['q1', 2], ['q1', 3]]), status=DONE, metadata={'fusion': {'applied': False, 'enabled': True, 'method': 'unitary', 'threshold': 14}, 'measure_sampling': True, 'method': 'statevector', 'parallel_shots': 1, 'parallel_state_update': 16}, seed_simulator=1869258746, time_taken=0.017718806)], date=2020-12-13 15:59:10.841214+09:00, status=COMPLETED, status=QobjHeader(backend_name='ibmq_qasm_simulator', backend_version='0.1.547'), metadata={'max_memory_mb': 257936, 'omp_enabled': True, 'parallel_experiments': 1, 'time_taken': 0.017951548}, time_taken=0.017951548, client_version={'qiskit': '0.23.1'})\n",
      "\n",
      "# No scheduling\n",
      "Result(backend_name='ibmq_paris', backend_version='1.6.6', qobj_id='64ac2b16-f9a9-4b87-8e59-bd6b1263d903', job_id='5fd5bbbdb98c9b001a5719a5', success=True, results=[ExperimentResult(shots=8192, success=True, meas_level=2, data=ExperimentResultData(counts={'0x0': 1, '0x1': 8, '0x10': 2, '0x11': 12, '0x12': 12, '0x13': 122, '0x14': 34, '0x15': 238, '0x16': 102, '0x17': 1285, '0x18': 37, '0x19': 179, '0x1a': 125, '0x1b': 1335, '0x1c': 4, '0x1d': 34, '0x1e': 8, '0x1f': 186, '0x2': 3, '0x21': 21, '0x22': 7, '0x23': 114, '0x24': 12, '0x25': 239, '0x26': 68, '0x27': 1299, '0x28': 11, '0x29': 208, '0x2a': 50, '0x2b': 1334, '0x2d': 35, '0x2e': 8, '0x2f': 140, '0x3': 30, '0x33': 21, '0x35': 11, '0x36': 1, '0x37': 54, '0x38': 2, '0x39': 11, '0x3a': 6, '0x3b': 51, '0x3d': 4, '0x3e': 2, '0x3f': 27, '0x4': 1, '0x5': 39, '0x6': 12, '0x7': 212, '0x8': 5, '0x9': 34, '0xa': 21, '0xb': 232, '0xc': 2, '0xd': 23, '0xe': 18, '0xf': 100}), header=QobjExperimentHeader(clbit_labels=[['c2', 0], ['c2', 1], ['c3', 0], ['c3', 1], ['c3', 2], ['c3', 3]], creg_sizes=[['c2', 2], ['c3', 4]], global_phase=-9.81744823987541, memory_slots=6, n_qubits=27, name='circuit107', qreg_sizes=[['q', 27]], qubit_labels=[['q', 0], ['q', 1], ['q', 2], ['q', 3], ['q', 4], ['q', 5], ['q', 6], ['q', 7], ['q', 8], ['q', 9], ['q', 10], ['q', 11], ['q', 12], ['q', 13], ['q', 14], ['q', 15], ['q', 16], ['q', 17], ['q', 18], ['q', 19], ['q', 20], ['q', 21], ['q', 22], ['q', 23], ['q', 24], ['q', 25], ['q', 26]]), memory=False)], date=2020-12-13 16:26:31+09:00, status=Successful completion, status=QobjHeader(backend_name='ibmq_paris', backend_version='1.6.6'), time_taken=21.013137578964233, execution_id='37c331b8-3d14-11eb-9dbe-b02628ea1e00', client_version={'qiskit': '0.23.1'})\n",
      "\n",
      "# ALAP scheduling policy\n",
      "Result(backend_name='ibmq_paris', backend_version='1.6.6', qobj_id='07eaaf59-d536-439a-81ea-989f287d228a', job_id='5fd5bbc0afed59001902652b', success=True, results=[ExperimentResult(shots=8192, success=True, meas_level=2, data=ExperimentResultData(counts={'0x1': 2, '0x11': 13, '0x12': 6, '0x13': 101, '0x14': 25, '0x15': 174, '0x16': 113, '0x17': 1334, '0x18': 22, '0x19': 183, '0x1a': 123, '0x1b': 1419, '0x1c': 5, '0x1d': 20, '0x1e': 12, '0x1f': 142, '0x20': 1, '0x21': 11, '0x22': 6, '0x23': 115, '0x24': 11, '0x25': 179, '0x26': 67, '0x27': 1332, '0x28': 13, '0x29': 206, '0x2a': 67, '0x2b': 1434, '0x2c': 1, '0x2d': 19, '0x2e': 3, '0x2f': 141, '0x3': 34, '0x31': 2, '0x33': 18, '0x35': 9, '0x36': 3, '0x37': 53, '0x39': 10, '0x3a': 4, '0x3b': 48, '0x3d': 4, '0x3e': 2, '0x3f': 11, '0x4': 2, '0x5': 24, '0x6': 19, '0x7': 226, '0x8': 1, '0x9': 27, '0xa': 16, '0xb': 246, '0xc': 2, '0xd': 18, '0xe': 14, '0xf': 99}), header=QobjExperimentHeader(clbit_labels=[['c4', 0], ['c4', 1], ['c5', 0], ['c5', 1], ['c5', 2], ['c5', 3]], creg_sizes=[['c4', 2], ['c5', 4]], global_phase=0.0, memory_slots=6, n_qubits=27, name='circuit287', qreg_sizes=[['q', 27]], qubit_labels=[['q', 0], ['q', 1], ['q', 2], ['q', 3], ['q', 4], ['q', 5], ['q', 6], ['q', 7], ['q', 8], ['q', 9], ['q', 10], ['q', 11], ['q', 12], ['q', 13], ['q', 14], ['q', 15], ['q', 16], ['q', 17], ['q', 18], ['q', 19], ['q', 20], ['q', 21], ['q', 22], ['q', 23], ['q', 24], ['q', 25], ['q', 26]]), memory=False)], date=2020-12-13 16:28:40+09:00, status=Successful completion, status=QobjHeader(backend_name='ibmq_paris', backend_version='1.6.6'), time_taken=21.33412790298462, execution_id='88a0fec6-3d14-11eb-bf3c-b02628ea1e00', client_version={'qiskit': '0.23.1'})\n"
     ]
    }
   ],
   "source": [
    "# Show the results\n",
    "print(\"# Simulator\")\n",
    "print(result_sim)\n",
    "\n",
    "print(\"\\n# No scheduling\")\n",
    "for _result in result_list: \n",
    "    print(_result)\n",
    "\n",
    "print(\"\\n# ALAP scheduling policy\")\n",
    "for _result_alap in result_alap_list: \n",
    "    print(_result_alap)"
   ]
  },
  {
   "cell_type": "code",
   "execution_count": 11,
   "metadata": {
    "lines_to_next_cell": 0
   },
   "outputs": [
    {
     "name": "stdout",
     "output_type": "stream",
     "text": [
      "# Simulator\n",
      "{'0101 11': 1951, '0110 11': 2105, '1001 11': 2025, '1010 11': 2111}\n",
      "\n",
      "# No scheduling\n",
      "{'0000 00': 1, '0000 01': 8, '0100 00': 2, '0100 01': 12, '0100 10': 12, '0100 11': 122, '0101 00': 34, '0101 01': 238, '0101 10': 102, '0101 11': 1285, '0110 00': 37, '0110 01': 179, '0110 10': 125, '0110 11': 1335, '0111 00': 4, '0111 01': 34, '0111 10': 8, '0111 11': 186, '0000 10': 3, '1000 01': 21, '1000 10': 7, '1000 11': 114, '1001 00': 12, '1001 01': 239, '1001 10': 68, '1001 11': 1299, '1010 00': 11, '1010 01': 208, '1010 10': 50, '1010 11': 1334, '1011 01': 35, '1011 10': 8, '1011 11': 140, '0000 11': 30, '1100 11': 21, '1101 01': 11, '1101 10': 1, '1101 11': 54, '1110 00': 2, '1110 01': 11, '1110 10': 6, '1110 11': 51, '1111 01': 4, '1111 10': 2, '1111 11': 27, '0001 00': 1, '0001 01': 39, '0001 10': 12, '0001 11': 212, '0010 00': 5, '0010 01': 34, '0010 10': 21, '0010 11': 232, '0011 00': 2, '0011 01': 23, '0011 10': 18, '0011 11': 100}\n",
      "\n",
      "# ALAP scheduling policy\n",
      "{'0000 01': 2, '0100 01': 13, '0100 10': 6, '0100 11': 101, '0101 00': 25, '0101 01': 174, '0101 10': 113, '0101 11': 1334, '0110 00': 22, '0110 01': 183, '0110 10': 123, '0110 11': 1419, '0111 00': 5, '0111 01': 20, '0111 10': 12, '0111 11': 142, '1000 00': 1, '1000 01': 11, '1000 10': 6, '1000 11': 115, '1001 00': 11, '1001 01': 179, '1001 10': 67, '1001 11': 1332, '1010 00': 13, '1010 01': 206, '1010 10': 67, '1010 11': 1434, '1011 00': 1, '1011 01': 19, '1011 10': 3, '1011 11': 141, '0000 11': 34, '1100 01': 2, '1100 11': 18, '1101 01': 9, '1101 10': 3, '1101 11': 53, '1110 01': 10, '1110 10': 4, '1110 11': 48, '1111 01': 4, '1111 10': 2, '1111 11': 11, '0001 00': 2, '0001 01': 24, '0001 10': 19, '0001 11': 226, '0010 00': 1, '0010 01': 27, '0010 10': 16, '0010 11': 246, '0011 00': 2, '0011 01': 18, '0011 10': 14, '0011 11': 99}\n"
     ]
    }
   ],
   "source": [
    "# Show the counts\n",
    "print(\"# Simulator\")\n",
    "print(counts_sim)\n",
    "\n",
    "print(\"\\n# No scheduling\")\n",
    "for _count in count_list: \n",
    "    print(_count)\n",
    "\n",
    "print(\"\\n# ALAP scheduling policy\")\n",
    "for _count_alap in counts_alap_list: \n",
    "    print(_count_alap)"
   ]
  },
  {
   "cell_type": "code",
   "execution_count": null,
   "metadata": {
    "lines_to_next_cell": 2
   },
   "outputs": [],
   "source": []
  }
 ],
 "metadata": {
  "jupytext": {
   "text_representation": {
    "extension": ".py",
    "format_name": "light",
    "format_version": "1.5",
    "jupytext_version": "1.7.1"
   }
  },
  "kernelspec": {
   "display_name": "Python 3",
   "language": "python",
   "name": "python3"
  },
  "language_info": {
   "codemirror_mode": {
    "name": "ipython",
    "version": 3
   },
   "file_extension": ".py",
   "mimetype": "text/x-python",
   "name": "python",
   "nbconvert_exporter": "python",
   "pygments_lexer": "ipython3",
   "version": "3.8.3"
  }
 },
 "nbformat": 4,
 "nbformat_minor": 2
}
