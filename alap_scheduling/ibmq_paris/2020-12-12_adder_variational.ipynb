{
 "cells": [
  {
   "cell_type": "markdown",
   "metadata": {},
   "source": [
    "# ALAP Scheduling \n",
    "### Adder (4-qubits, 10 CX) + Variational (4-qubits, 16 CX)\n",
    "\n",
    "2020-12-12"
   ]
  },
  {
   "cell_type": "code",
   "execution_count": 1,
   "metadata": {},
   "outputs": [],
   "source": [
    "# import python tools\n",
    "import os\n",
    "\n",
    "# import qiskit tool\n",
    "from qiskit.transpiler import InstructionDurations\n",
    "\n",
    "# import experimental tools\n",
    "from experiments.alap_scheduling import execute_alap, result_alap\n",
    "from experiments.utils import get_IBM_backend"
   ]
  },
  {
   "cell_type": "markdown",
   "metadata": {},
   "source": [
    "## Experimental Settings"
   ]
  },
  {
   "cell_type": "code",
   "execution_count": 2,
   "metadata": {},
   "outputs": [],
   "source": [
    "date = '2020-12-12'\n",
    "\n",
    "# Choose benchmark circuits from QASMBench\n",
    "benchmark_sets = ['adder_n4', 'variational_n4']\n",
    "benchmark_size = 'small'"
   ]
  },
  {
   "cell_type": "code",
   "execution_count": 3,
   "metadata": {},
   "outputs": [
    {
     "name": "stderr",
     "output_type": "stream",
     "text": [
      "/Users/Yasuhiro/.local/share/virtualenvs/experiments-VWP9UmJy/lib/python3.8/site-packages/qiskit/providers/ibmq/ibmqfactory.py:192: UserWarning: Timestamps in IBMQ backend properties, jobs, and job results are all now in local time instead of UTC.\n",
      "  warnings.warn('Timestamps in IBMQ backend properties, jobs, and job results '\n"
     ]
    }
   ],
   "source": [
    "# Define backend device\n",
    "backend = get_IBM_backend('ibmq_paris')\n",
    "simulator = get_IBM_backend('ibmq_qasm_simulator')\n",
    "\n",
    "# Number of trials\n",
    "shots = 8192\n",
    "\n",
    "# Number of experimental seeds\n",
    "nseed = 1"
   ]
  },
  {
   "cell_type": "code",
   "execution_count": 4,
   "metadata": {},
   "outputs": [],
   "source": [
    "# define path to the file to save job data\n",
    "file_name = date + '_'\n",
    "sorted_benchmarks = sorted(benchmark_sets)\n",
    "for _name in sorted_benchmarks: \n",
    "    file_name += _name\n",
    "    if _name == sorted_benchmarks[-1]:\n",
    "        break\n",
    "    file_name += '+'\n",
    "job_save_path = str(os.getcwd()) + \"/job_id/from20201211/\" + file_name"
   ]
  },
  {
   "cell_type": "markdown",
   "metadata": {},
   "source": [
    "## Execute experiments on IBMQ\n",
    "\n",
    "Here, we execute three types of experiments. First one is the  job run on simulator to calculate exact answer of the multi-programming circuit. The other two are the jobs executed on the real device. One is the base line, which is no scheduled, and the other one is the circuit executed with alap schedule policy. "
   ]
  },
  {
   "cell_type": "code",
   "execution_count": 5,
   "metadata": {},
   "outputs": [],
   "source": [
    "instruction_durations = InstructionDurations.from_backend(backend)"
   ]
  },
  {
   "cell_type": "code",
   "execution_count": 6,
   "metadata": {},
   "outputs": [
    {
     "name": "stdout",
     "output_type": "stream",
     "text": [
      "prog: Qubit(QuantumRegister(4, 'q27'), 0) , hw: 25\n",
      "prog: Qubit(QuantumRegister(4, 'q27'), 1) , hw: 26\n",
      "prog: Qubit(QuantumRegister(4, 'q27'), 2) , hw: 23\n",
      "prog: Qubit(QuantumRegister(4, 'q27'), 3) , hw: 24\n",
      "prog: Qubit(QuantumRegister(4, 'q28'), 0) , hw: 14\n",
      "prog: Qubit(QuantumRegister(4, 'q28'), 1) , hw: 16\n",
      "prog: Qubit(QuantumRegister(4, 'q28'), 2) , hw: 19\n",
      "prog: Qubit(QuantumRegister(4, 'q28'), 3) , hw: 20\n",
      "prog: Qubit(QuantumRegister(4, 'q106'), 0) , hw: 25\n",
      "prog: Qubit(QuantumRegister(4, 'q106'), 1) , hw: 26\n",
      "prog: Qubit(QuantumRegister(4, 'q106'), 2) , hw: 23\n",
      "prog: Qubit(QuantumRegister(4, 'q106'), 3) , hw: 24\n",
      "prog: Qubit(QuantumRegister(4, 'q107'), 0) , hw: 14\n",
      "prog: Qubit(QuantumRegister(4, 'q107'), 1) , hw: 16\n",
      "prog: Qubit(QuantumRegister(4, 'q107'), 2) , hw: 19\n",
      "prog: Qubit(QuantumRegister(4, 'q107'), 3) , hw: 20\n"
     ]
    }
   ],
   "source": [
    "job_sim, job, job_alap = execute_alap(\n",
    "                    size=benchmark_size, \n",
    "                    names=benchmark_sets, \n",
    "                    backend=backend, \n",
    "                    simulator=simulator,\n",
    "                    shots = shots, \n",
    "                    nseed=1,\n",
    "                    save_path=job_save_path, \n",
    "                    instruction_durations=instruction_durations,\n",
    "                    )"
   ]
  },
  {
   "cell_type": "code",
   "execution_count": 7,
   "metadata": {},
   "outputs": [
    {
     "name": "stdout",
     "output_type": "stream",
     "text": [
      "<qiskit.providers.ibmq.job.ibmqjob.IBMQJob object at 0x7f968ce1bfd0>\n",
      "[<qiskit.providers.ibmq.job.ibmqjob.IBMQJob object at 0x7f968ce9b5e0>]\n",
      "[<qiskit.providers.ibmq.job.ibmqjob.IBMQJob object at 0x7f968d178640>]\n"
     ]
    }
   ],
   "source": [
    "# Show the each job\n",
    "print(job_sim)\n",
    "print(job)\n",
    "print(job_alap)"
   ]
  },
  {
   "cell_type": "markdown",
   "metadata": {},
   "source": [
    "## Get the results"
   ]
  },
  {
   "cell_type": "code",
   "execution_count": 8,
   "metadata": {},
   "outputs": [],
   "source": [
    "# define path to the file to save results\n",
    "result_save_path = str(os.getcwd()) + \"/results/from20201211/\" + file_name"
   ]
  },
  {
   "cell_type": "code",
   "execution_count": 9,
   "metadata": {},
   "outputs": [],
   "source": [
    "result_sim, result_list, result_alap_list, counts_sim, count_list, counts_alap_list, qc_names = result_alap(backend, simulator, job_save_path, result_save_path)"
   ]
  },
  {
   "cell_type": "code",
   "execution_count": 10,
   "metadata": {},
   "outputs": [
    {
     "name": "stdout",
     "output_type": "stream",
     "text": [
      "# Simulator\n",
      "Result(backend_name='ibmq_qasm_simulator', backend_version='0.7.0', qobj_id='297d8d24-1fe3-4301-a363-9211379a1d99', job_id='5fd3f73bb98c9b001a5706b3', success=True, results=[ExperimentResult(shots=8192, success=True, meas_level=MeasLevel.CLASSIFIED, data=ExperimentResultData(counts={'0x59': 2128, '0x69': 2083, '0x99': 1954, '0xa9': 2027}), header=QobjExperimentHeader(clbit_labels=[['c0', 0], ['c0', 1], ['c0', 2], ['c0', 3], ['c1', 0], ['c1', 1], ['c1', 2], ['c1', 3]], creg_sizes=[['c0', 4], ['c1', 4]], global_phase=0.0, memory_slots=8, n_qubits=8, name='circuit8', qreg_sizes=[['q0', 4], ['q1', 4]], qubit_labels=[['q0', 0], ['q0', 1], ['q0', 2], ['q0', 3], ['q1', 0], ['q1', 1], ['q1', 2], ['q1', 3]]), status=DONE, metadata={'fusion': {'applied': False, 'enabled': True, 'method': 'unitary', 'threshold': 14}, 'measure_sampling': True, 'method': 'statevector', 'parallel_shots': 1, 'parallel_state_update': 16}, seed_simulator=524823459, time_taken=0.022740035000000002)], date=2020-12-12 07:48:31.141884+09:00, status=COMPLETED, status=QobjHeader(backend_name='ibmq_qasm_simulator', backend_version='0.1.547'), metadata={'max_memory_mb': 257936, 'omp_enabled': True, 'parallel_experiments': 1, 'time_taken': 0.023016484}, time_taken=0.023016484, client_version={'qiskit': '0.23.1'})\n",
      "\n",
      "# No scheduling\n",
      "Result(backend_name='ibmq_paris', backend_version='1.6.5', qobj_id='9f9153fd-2734-4266-9c25-32c3534af359', job_id='5fd3f73d80c762001a74668a', success=True, results=[ExperimentResult(shots=8192, success=True, meas_level=2, data=ExperimentResultData(counts={'0x0': 2, '0x1': 4, '0x10': 3, '0x11': 14, '0x12': 2, '0x13': 1, '0x14': 3, '0x15': 5, '0x16': 11, '0x17': 2, '0x18': 10, '0x19': 107, '0x1a': 1, '0x1c': 3, '0x1d': 1, '0x1e': 1, '0x1f': 2, '0x20': 8, '0x21': 13, '0x22': 1, '0x24': 4, '0x25': 4, '0x26': 11, '0x28': 12, '0x29': 132, '0x2b': 1, '0x2c': 2, '0x2d': 11, '0x2e': 2, '0x30': 3, '0x31': 7, '0x34': 1, '0x35': 5, '0x36': 4, '0x37': 1, '0x38': 3, '0x39': 45, '0x3c': 1, '0x3f': 1, '0x4': 1, '0x40': 7, '0x41': 15, '0x43': 1, '0x44': 4, '0x45': 8, '0x46': 9, '0x48': 10, '0x49': 145, '0x4a': 2, '0x4b': 1, '0x4c': 2, '0x4d': 8, '0x4e': 1, '0x4f': 3, '0x50': 70, '0x51': 155, '0x52': 7, '0x53': 9, '0x54': 42, '0x55': 56, '0x56': 69, '0x57': 22, '0x58': 106, '0x59': 1191, '0x5a': 6, '0x5b': 9, '0x5c': 26, '0x5d': 58, '0x5e': 22, '0x5f': 11, '0x6': 1, '0x60': 58, '0x61': 125, '0x62': 6, '0x63': 9, '0x64': 43, '0x65': 48, '0x66': 78, '0x67': 19, '0x68': 100, '0x69': 1114, '0x6a': 5, '0x6b': 12, '0x6c': 19, '0x6d': 69, '0x6e': 13, '0x6f': 5, '0x70': 7, '0x71': 13, '0x72': 1, '0x73': 1, '0x74': 3, '0x75': 9, '0x76': 5, '0x77': 4, '0x78': 11, '0x79': 137, '0x7a': 1, '0x7b': 1, '0x7c': 1, '0x7d': 8, '0x7e': 1, '0x7f': 1, '0x8': 1, '0x80': 8, '0x81': 8, '0x83': 1, '0x84': 3, '0x85': 4, '0x86': 6, '0x87': 1, '0x88': 12, '0x89': 99, '0x8a': 1, '0x8b': 1, '0x8c': 4, '0x8d': 5, '0x8e': 2, '0x8f': 2, '0x9': 23, '0x90': 73, '0x91': 134, '0x92': 8, '0x93': 15, '0x94': 39, '0x95': 55, '0x96': 71, '0x97': 17, '0x98': 102, '0x99': 1015, '0x9a': 12, '0x9b': 4, '0x9c': 26, '0x9d': 65, '0x9e': 12, '0x9f': 4, '0xa0': 74, '0xa1': 128, '0xa2': 9, '0xa3': 7, '0xa4': 35, '0xa5': 52, '0xa6': 58, '0xa7': 15, '0xa8': 94, '0xa9': 1040, '0xaa': 6, '0xab': 9, '0xac': 18, '0xad': 52, '0xae': 15, '0xaf': 3, '0xb0': 4, '0xb1': 12, '0xb4': 3, '0xb5': 2, '0xb6': 7, '0xb7': 3, '0xb8': 8, '0xb9': 89, '0xba': 2, '0xbb': 1, '0xbc': 1, '0xbd': 6, '0xbe': 2, '0xc': 1, '0xc2': 1, '0xc4': 1, '0xc6': 2, '0xc9': 6, '0xce': 1, '0xd': 1, '0xd1': 4, '0xd3': 1, '0xd4': 1, '0xd5': 2, '0xd6': 4, '0xd7': 1, '0xd8': 5, '0xd9': 40, '0xdc': 3, '0xdd': 2, '0xde': 1, '0xe': 1, '0xe0': 1, '0xe1': 4, '0xe6': 4, '0xe8': 3, '0xe9': 43, '0xeb': 2, '0xed': 3, '0xef': 1, '0xf0': 2, '0xf1': 1, '0xf4': 1, '0xf5': 1, '0xf9': 10, '0xfa': 1, '0xfd': 1}), header=QobjExperimentHeader(clbit_labels=[['c2', 0], ['c2', 1], ['c2', 2], ['c2', 3], ['c3', 0], ['c3', 1], ['c3', 2], ['c3', 3]], creg_sizes=[['c2', 4], ['c3', 4]], global_phase=-9.81744823987541, memory_slots=8, n_qubits=27, name='circuit161', qreg_sizes=[['q', 27]], qubit_labels=[['q', 0], ['q', 1], ['q', 2], ['q', 3], ['q', 4], ['q', 5], ['q', 6], ['q', 7], ['q', 8], ['q', 9], ['q', 10], ['q', 11], ['q', 12], ['q', 13], ['q', 14], ['q', 15], ['q', 16], ['q', 17], ['q', 18], ['q', 19], ['q', 20], ['q', 21], ['q', 22], ['q', 23], ['q', 24], ['q', 25], ['q', 26]]), memory=False)], date=2020-12-12 07:49:59+09:00, status=Successful completion, status=QobjHeader(backend_name='ibmq_paris', backend_version='1.6.5'), time_taken=21.6113383769989, execution_id='0a731aa0-3c03-11eb-8013-b02628ea1e00', client_version={'qiskit': '0.23.1'})\n",
      "\n",
      "# ALAP scheduling policy\n",
      "Result(backend_name='ibmq_paris', backend_version='1.6.5', qobj_id='e6deb68c-c2c2-45c3-a527-7997ca0c69e0', job_id='5fd3f73f10ba7c001aa16c59', success=True, results=[ExperimentResult(shots=8192, success=True, meas_level=2, data=ExperimentResultData(counts={'0x0': 2, '0x1': 5, '0x10': 6, '0x11': 24, '0x13': 1, '0x14': 1, '0x15': 5, '0x16': 5, '0x18': 6, '0x19': 141, '0x1b': 2, '0x1c': 5, '0x1d': 7, '0x20': 9, '0x21': 31, '0x23': 2, '0x24': 6, '0x25': 5, '0x26': 1, '0x27': 1, '0x28': 10, '0x29': 127, '0x2c': 1, '0x2d': 4, '0x2f': 2, '0x30': 5, '0x31': 9, '0x34': 1, '0x36': 1, '0x37': 1, '0x38': 2, '0x39': 45, '0x3b': 1, '0x3d': 1, '0x40': 9, '0x41': 22, '0x43': 2, '0x44': 2, '0x45': 3, '0x46': 1, '0x47': 3, '0x48': 8, '0x49': 142, '0x4a': 2, '0x4b': 1, '0x4c': 1, '0x4d': 5, '0x4f': 1, '0x50': 101, '0x51': 243, '0x52': 7, '0x53': 10, '0x54': 28, '0x55': 31, '0x56': 33, '0x57': 10, '0x58': 81, '0x59': 1228, '0x5a': 4, '0x5b': 10, '0x5c': 19, '0x5d': 55, '0x5e': 3, '0x5f': 5, '0x60': 91, '0x61': 226, '0x62': 5, '0x63': 7, '0x64': 18, '0x65': 42, '0x66': 20, '0x67': 17, '0x68': 110, '0x69': 1185, '0x6a': 5, '0x6b': 11, '0x6c': 15, '0x6d': 55, '0x6e': 6, '0x6f': 5, '0x70': 12, '0x71': 23, '0x74': 3, '0x75': 5, '0x76': 5, '0x78': 6, '0x79': 102, '0x7c': 2, '0x7d': 4, '0x7f': 2, '0x8': 1, '0x80': 9, '0x81': 27, '0x82': 1, '0x83': 1, '0x84': 5, '0x85': 7, '0x86': 1, '0x87': 2, '0x88': 10, '0x89': 111, '0x8b': 1, '0x8c': 4, '0x8d': 4, '0x9': 18, '0x90': 67, '0x91': 196, '0x92': 3, '0x93': 7, '0x94': 19, '0x95': 29, '0x96': 17, '0x97': 14, '0x98': 85, '0x99': 1007, '0x9a': 5, '0x9b': 8, '0x9c': 18, '0x9d': 50, '0x9e': 4, '0x9f': 4, '0xa': 1, '0xa0': 85, '0xa1': 191, '0xa2': 5, '0xa3': 7, '0xa4': 18, '0xa5': 41, '0xa6': 14, '0xa7': 21, '0xa8': 84, '0xa9': 1049, '0xaa': 4, '0xab': 9, '0xac': 19, '0xad': 59, '0xae': 6, '0xaf': 7, '0xb0': 9, '0xb1': 22, '0xb3': 1, '0xb4': 3, '0xb5': 4, '0xb6': 2, '0xb7': 1, '0xb8': 3, '0xb9': 83, '0xbc': 2, '0xbd': 6, '0xbf': 1, '0xc': 1, '0xc1': 4, '0xc9': 18, '0xcc': 1, '0xd': 1, '0xd0': 5, '0xd1': 9, '0xd2': 1, '0xd5': 2, '0xd7': 3, '0xd8': 2, '0xd9': 42, '0xdd': 1, '0xe0': 7, '0xe1': 5, '0xe8': 2, '0xe9': 47, '0xed': 3, '0xf1': 3, '0xf6': 2, '0xf8': 1, '0xf9': 11, '0xfd': 2}), header=QobjExperimentHeader(clbit_labels=[['c4', 0], ['c4', 1], ['c4', 2], ['c4', 3], ['c5', 0], ['c5', 1], ['c5', 2], ['c5', 3]], creg_sizes=[['c4', 4], ['c5', 4]], global_phase=0.0, memory_slots=8, n_qubits=27, name='circuit481', qreg_sizes=[['q', 27]], qubit_labels=[['q', 0], ['q', 1], ['q', 2], ['q', 3], ['q', 4], ['q', 5], ['q', 6], ['q', 7], ['q', 8], ['q', 9], ['q', 10], ['q', 11], ['q', 12], ['q', 13], ['q', 14], ['q', 15], ['q', 16], ['q', 17], ['q', 18], ['q', 19], ['q', 20], ['q', 21], ['q', 22], ['q', 23], ['q', 24], ['q', 25], ['q', 26]]), memory=False)], date=2020-12-12 07:51:32+09:00, status=Successful completion, status=QobjHeader(backend_name='ibmq_paris', backend_version='1.6.5'), time_taken=22.608320236206055, execution_id='3605b3c6-3c03-11eb-9c8b-b02628ea1e00', client_version={'qiskit': '0.23.1'})\n"
     ]
    }
   ],
   "source": [
    "# Show the results\n",
    "print(\"# Simulator\")\n",
    "print(result_sim)\n",
    "\n",
    "print(\"\\n# No scheduling\")\n",
    "for _result in result_list: \n",
    "    print(_result)\n",
    "\n",
    "print(\"\\n# ALAP scheduling policy\")\n",
    "for _result_alap in result_alap_list: \n",
    "    print(_result_alap)"
   ]
  },
  {
   "cell_type": "code",
   "execution_count": 11,
   "metadata": {},
   "outputs": [
    {
     "name": "stdout",
     "output_type": "stream",
     "text": [
      "# Simulator\n",
      "{'0101 1001': 2128, '0110 1001': 2083, '1001 1001': 1954, '1010 1001': 2027}\n",
      "\n",
      "# No scheduling\n",
      "{'0000 0000': 2, '0000 0001': 4, '0001 0000': 3, '0001 0001': 14, '0001 0010': 2, '0001 0011': 1, '0001 0100': 3, '0001 0101': 5, '0001 0110': 11, '0001 0111': 2, '0001 1000': 10, '0001 1001': 107, '0001 1010': 1, '0001 1100': 3, '0001 1101': 1, '0001 1110': 1, '0001 1111': 2, '0010 0000': 8, '0010 0001': 13, '0010 0010': 1, '0010 0100': 4, '0010 0101': 4, '0010 0110': 11, '0010 1000': 12, '0010 1001': 132, '0010 1011': 1, '0010 1100': 2, '0010 1101': 11, '0010 1110': 2, '0011 0000': 3, '0011 0001': 7, '0011 0100': 1, '0011 0101': 5, '0011 0110': 4, '0011 0111': 1, '0011 1000': 3, '0011 1001': 45, '0011 1100': 1, '0011 1111': 1, '0000 0100': 1, '0100 0000': 7, '0100 0001': 15, '0100 0011': 1, '0100 0100': 4, '0100 0101': 8, '0100 0110': 9, '0100 1000': 10, '0100 1001': 145, '0100 1010': 2, '0100 1011': 1, '0100 1100': 2, '0100 1101': 8, '0100 1110': 1, '0100 1111': 3, '0101 0000': 70, '0101 0001': 155, '0101 0010': 7, '0101 0011': 9, '0101 0100': 42, '0101 0101': 56, '0101 0110': 69, '0101 0111': 22, '0101 1000': 106, '0101 1001': 1191, '0101 1010': 6, '0101 1011': 9, '0101 1100': 26, '0101 1101': 58, '0101 1110': 22, '0101 1111': 11, '0000 0110': 1, '0110 0000': 58, '0110 0001': 125, '0110 0010': 6, '0110 0011': 9, '0110 0100': 43, '0110 0101': 48, '0110 0110': 78, '0110 0111': 19, '0110 1000': 100, '0110 1001': 1114, '0110 1010': 5, '0110 1011': 12, '0110 1100': 19, '0110 1101': 69, '0110 1110': 13, '0110 1111': 5, '0111 0000': 7, '0111 0001': 13, '0111 0010': 1, '0111 0011': 1, '0111 0100': 3, '0111 0101': 9, '0111 0110': 5, '0111 0111': 4, '0111 1000': 11, '0111 1001': 137, '0111 1010': 1, '0111 1011': 1, '0111 1100': 1, '0111 1101': 8, '0111 1110': 1, '0111 1111': 1, '0000 1000': 1, '1000 0000': 8, '1000 0001': 8, '1000 0011': 1, '1000 0100': 3, '1000 0101': 4, '1000 0110': 6, '1000 0111': 1, '1000 1000': 12, '1000 1001': 99, '1000 1010': 1, '1000 1011': 1, '1000 1100': 4, '1000 1101': 5, '1000 1110': 2, '1000 1111': 2, '0000 1001': 23, '1001 0000': 73, '1001 0001': 134, '1001 0010': 8, '1001 0011': 15, '1001 0100': 39, '1001 0101': 55, '1001 0110': 71, '1001 0111': 17, '1001 1000': 102, '1001 1001': 1015, '1001 1010': 12, '1001 1011': 4, '1001 1100': 26, '1001 1101': 65, '1001 1110': 12, '1001 1111': 4, '1010 0000': 74, '1010 0001': 128, '1010 0010': 9, '1010 0011': 7, '1010 0100': 35, '1010 0101': 52, '1010 0110': 58, '1010 0111': 15, '1010 1000': 94, '1010 1001': 1040, '1010 1010': 6, '1010 1011': 9, '1010 1100': 18, '1010 1101': 52, '1010 1110': 15, '1010 1111': 3, '1011 0000': 4, '1011 0001': 12, '1011 0100': 3, '1011 0101': 2, '1011 0110': 7, '1011 0111': 3, '1011 1000': 8, '1011 1001': 89, '1011 1010': 2, '1011 1011': 1, '1011 1100': 1, '1011 1101': 6, '1011 1110': 2, '0000 1100': 1, '1100 0010': 1, '1100 0100': 1, '1100 0110': 2, '1100 1001': 6, '1100 1110': 1, '0000 1101': 1, '1101 0001': 4, '1101 0011': 1, '1101 0100': 1, '1101 0101': 2, '1101 0110': 4, '1101 0111': 1, '1101 1000': 5, '1101 1001': 40, '1101 1100': 3, '1101 1101': 2, '1101 1110': 1, '0000 1110': 1, '1110 0000': 1, '1110 0001': 4, '1110 0110': 4, '1110 1000': 3, '1110 1001': 43, '1110 1011': 2, '1110 1101': 3, '1110 1111': 1, '1111 0000': 2, '1111 0001': 1, '1111 0100': 1, '1111 0101': 1, '1111 1001': 10, '1111 1010': 1, '1111 1101': 1}\n",
      "\n",
      "# ALAP scheduling policy\n",
      "{'0000 0000': 2, '0000 0001': 5, '0001 0000': 6, '0001 0001': 24, '0001 0011': 1, '0001 0100': 1, '0001 0101': 5, '0001 0110': 5, '0001 1000': 6, '0001 1001': 141, '0001 1011': 2, '0001 1100': 5, '0001 1101': 7, '0010 0000': 9, '0010 0001': 31, '0010 0011': 2, '0010 0100': 6, '0010 0101': 5, '0010 0110': 1, '0010 0111': 1, '0010 1000': 10, '0010 1001': 127, '0010 1100': 1, '0010 1101': 4, '0010 1111': 2, '0011 0000': 5, '0011 0001': 9, '0011 0100': 1, '0011 0110': 1, '0011 0111': 1, '0011 1000': 2, '0011 1001': 45, '0011 1011': 1, '0011 1101': 1, '0100 0000': 9, '0100 0001': 22, '0100 0011': 2, '0100 0100': 2, '0100 0101': 3, '0100 0110': 1, '0100 0111': 3, '0100 1000': 8, '0100 1001': 142, '0100 1010': 2, '0100 1011': 1, '0100 1100': 1, '0100 1101': 5, '0100 1111': 1, '0101 0000': 101, '0101 0001': 243, '0101 0010': 7, '0101 0011': 10, '0101 0100': 28, '0101 0101': 31, '0101 0110': 33, '0101 0111': 10, '0101 1000': 81, '0101 1001': 1228, '0101 1010': 4, '0101 1011': 10, '0101 1100': 19, '0101 1101': 55, '0101 1110': 3, '0101 1111': 5, '0110 0000': 91, '0110 0001': 226, '0110 0010': 5, '0110 0011': 7, '0110 0100': 18, '0110 0101': 42, '0110 0110': 20, '0110 0111': 17, '0110 1000': 110, '0110 1001': 1185, '0110 1010': 5, '0110 1011': 11, '0110 1100': 15, '0110 1101': 55, '0110 1110': 6, '0110 1111': 5, '0111 0000': 12, '0111 0001': 23, '0111 0100': 3, '0111 0101': 5, '0111 0110': 5, '0111 1000': 6, '0111 1001': 102, '0111 1100': 2, '0111 1101': 4, '0111 1111': 2, '0000 1000': 1, '1000 0000': 9, '1000 0001': 27, '1000 0010': 1, '1000 0011': 1, '1000 0100': 5, '1000 0101': 7, '1000 0110': 1, '1000 0111': 2, '1000 1000': 10, '1000 1001': 111, '1000 1011': 1, '1000 1100': 4, '1000 1101': 4, '0000 1001': 18, '1001 0000': 67, '1001 0001': 196, '1001 0010': 3, '1001 0011': 7, '1001 0100': 19, '1001 0101': 29, '1001 0110': 17, '1001 0111': 14, '1001 1000': 85, '1001 1001': 1007, '1001 1010': 5, '1001 1011': 8, '1001 1100': 18, '1001 1101': 50, '1001 1110': 4, '1001 1111': 4, '0000 1010': 1, '1010 0000': 85, '1010 0001': 191, '1010 0010': 5, '1010 0011': 7, '1010 0100': 18, '1010 0101': 41, '1010 0110': 14, '1010 0111': 21, '1010 1000': 84, '1010 1001': 1049, '1010 1010': 4, '1010 1011': 9, '1010 1100': 19, '1010 1101': 59, '1010 1110': 6, '1010 1111': 7, '1011 0000': 9, '1011 0001': 22, '1011 0011': 1, '1011 0100': 3, '1011 0101': 4, '1011 0110': 2, '1011 0111': 1, '1011 1000': 3, '1011 1001': 83, '1011 1100': 2, '1011 1101': 6, '1011 1111': 1, '0000 1100': 1, '1100 0001': 4, '1100 1001': 18, '1100 1100': 1, '0000 1101': 1, '1101 0000': 5, '1101 0001': 9, '1101 0010': 1, '1101 0101': 2, '1101 0111': 3, '1101 1000': 2, '1101 1001': 42, '1101 1101': 1, '1110 0000': 7, '1110 0001': 5, '1110 1000': 2, '1110 1001': 47, '1110 1101': 3, '1111 0001': 3, '1111 0110': 2, '1111 1000': 1, '1111 1001': 11, '1111 1101': 2}\n"
     ]
    }
   ],
   "source": [
    "# Show the counts\n",
    "print(\"# Simulator\")\n",
    "print(counts_sim)\n",
    "\n",
    "print(\"\\n# No scheduling\")\n",
    "for _count in count_list: \n",
    "    print(_count)\n",
    "\n",
    "print(\"\\n# ALAP scheduling policy\")\n",
    "for _count_alap in counts_alap_list: \n",
    "    print(_count_alap)"
   ]
  },
  {
   "cell_type": "code",
   "execution_count": null,
   "metadata": {},
   "outputs": [],
   "source": []
  }
 ],
 "metadata": {
  "jupytext": {
   "text_representation": {
    "extension": ".py",
    "format_name": "light",
    "format_version": "1.5",
    "jupytext_version": "1.7.1"
   }
  },
  "kernelspec": {
   "display_name": "Python 3",
   "language": "python",
   "name": "python3"
  },
  "language_info": {
   "codemirror_mode": {
    "name": "ipython",
    "version": 3
   },
   "file_extension": ".py",
   "mimetype": "text/x-python",
   "name": "python",
   "nbconvert_exporter": "python",
   "pygments_lexer": "ipython3",
   "version": "3.8.3"
  }
 },
 "nbformat": 4,
 "nbformat_minor": 2
}
