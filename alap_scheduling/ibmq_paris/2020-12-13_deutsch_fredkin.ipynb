{
 "cells": [
  {
   "cell_type": "markdown",
   "metadata": {},
   "source": [
    "# ALAP Scheduling \n",
    "### Deutsch (2-qubits, 1CX) + Fredkin (3-qubits, 8CX)\n",
    "\n",
    "2020-12-13"
   ]
  },
  {
   "cell_type": "code",
   "execution_count": 1,
   "metadata": {},
   "outputs": [],
   "source": [
    "# import python tools\n",
    "import os\n",
    "\n",
    "# import qiskit tool\n",
    "from qiskit.transpiler import InstructionDurations\n",
    "\n",
    "# import experimental tools\n",
    "from experiments.alap_scheduling import execute_alap, result_alap\n",
    "from experiments.utils import get_IBM_backend"
   ]
  },
  {
   "cell_type": "markdown",
   "metadata": {},
   "source": [
    "## Experimental Settings"
   ]
  },
  {
   "cell_type": "code",
   "execution_count": 2,
   "metadata": {},
   "outputs": [],
   "source": [
    "date = '2020-12-13'\n",
    "\n",
    "# Choose benchmark circuits from QASMBench\n",
    "benchmark_sets = ['deutsch_n2', 'fredkin_n3']\n",
    "benchmark_size = 'small'"
   ]
  },
  {
   "cell_type": "code",
   "execution_count": 3,
   "metadata": {},
   "outputs": [
    {
     "name": "stderr",
     "output_type": "stream",
     "text": [
      "/Users/Yasuhiro/.local/share/virtualenvs/experiments-VWP9UmJy/lib/python3.8/site-packages/qiskit/providers/ibmq/ibmqfactory.py:192: UserWarning: Timestamps in IBMQ backend properties, jobs, and job results are all now in local time instead of UTC.\n",
      "  warnings.warn('Timestamps in IBMQ backend properties, jobs, and job results '\n"
     ]
    }
   ],
   "source": [
    "# Define backend device\n",
    "backend = get_IBM_backend('ibmq_paris')\n",
    "simulator = get_IBM_backend('ibmq_qasm_simulator')\n",
    "\n",
    "# Number of trials\n",
    "shots = 8192\n",
    "\n",
    "# Number of experimental seeds\n",
    "nseed = 1"
   ]
  },
  {
   "cell_type": "code",
   "execution_count": 4,
   "metadata": {},
   "outputs": [],
   "source": [
    "# define path to the file to save job data\n",
    "file_name = date + '_'\n",
    "sorted_benchmarks = sorted(benchmark_sets)\n",
    "for _name in sorted_benchmarks: \n",
    "    file_name += _name\n",
    "    if _name == sorted_benchmarks[-1]:\n",
    "        break\n",
    "    file_name += '+'\n",
    "job_save_path = str(os.getcwd()) + \"/job_id/from20201211/\" + file_name"
   ]
  },
  {
   "cell_type": "markdown",
   "metadata": {},
   "source": [
    "## Execute experiments on IBMQ\n",
    "\n",
    "Here, we execute three types of experiments. First one is the  job run on simulator to calculate exact answer of the multi-programming circuit. The other two are the jobs executed on the real device. One is the base line, which is no scheduled, and the other one is the circuit executed with alap schedule policy. "
   ]
  },
  {
   "cell_type": "code",
   "execution_count": 5,
   "metadata": {},
   "outputs": [],
   "source": [
    "instruction_durations = InstructionDurations.from_backend(backend)"
   ]
  },
  {
   "cell_type": "code",
   "execution_count": 6,
   "metadata": {},
   "outputs": [
    {
     "name": "stdout",
     "output_type": "stream",
     "text": [
      "prog: Qubit(QuantumRegister(2, 'q18'), 0) , hw: 23\n",
      "prog: Qubit(QuantumRegister(2, 'q18'), 1) , hw: 24\n",
      "prog: Qubit(QuantumRegister(3, 'q19'), 0) , hw: 20\n",
      "prog: Qubit(QuantumRegister(3, 'q19'), 1) , hw: 16\n",
      "prog: Qubit(QuantumRegister(3, 'q19'), 2) , hw: 19\n",
      "prog: Qubit(QuantumRegister(2, 'q85'), 0) , hw: 23\n",
      "prog: Qubit(QuantumRegister(2, 'q85'), 1) , hw: 24\n",
      "prog: Qubit(QuantumRegister(3, 'q86'), 0) , hw: 20\n",
      "prog: Qubit(QuantumRegister(3, 'q86'), 1) , hw: 16\n",
      "prog: Qubit(QuantumRegister(3, 'q86'), 2) , hw: 19\n"
     ]
    }
   ],
   "source": [
    "job_sim, job, job_alap = execute_alap(\n",
    "                    size=benchmark_size, \n",
    "                    names=benchmark_sets, \n",
    "                    backend=backend, \n",
    "                    simulator=simulator,\n",
    "                    shots = shots, \n",
    "                    nseed=1,\n",
    "                    save_path=job_save_path, \n",
    "                    instruction_durations=instruction_durations,\n",
    "                    )"
   ]
  },
  {
   "cell_type": "code",
   "execution_count": 7,
   "metadata": {},
   "outputs": [
    {
     "name": "stdout",
     "output_type": "stream",
     "text": [
      "<qiskit.providers.ibmq.job.ibmqjob.IBMQJob object at 0x7fa697f68e50>\n",
      "[<qiskit.providers.ibmq.job.ibmqjob.IBMQJob object at 0x7fa697de5cd0>]\n",
      "[<qiskit.providers.ibmq.job.ibmqjob.IBMQJob object at 0x7fa697de5190>]\n"
     ]
    }
   ],
   "source": [
    "# Show the each job\n",
    "print(job_sim)\n",
    "print(job)\n",
    "print(job_alap)"
   ]
  },
  {
   "cell_type": "markdown",
   "metadata": {},
   "source": [
    "## Get the results"
   ]
  },
  {
   "cell_type": "code",
   "execution_count": 8,
   "metadata": {},
   "outputs": [],
   "source": [
    "# define path to the file to save results\n",
    "result_save_path = str(os.getcwd()) + \"/results/from20201211/\" + file_name"
   ]
  },
  {
   "cell_type": "code",
   "execution_count": 9,
   "metadata": {},
   "outputs": [],
   "source": [
    "result_sim, result_list, result_alap_list, counts_sim, count_list, counts_alap_list, qc_names = result_alap(backend, simulator, job_save_path, result_save_path)"
   ]
  },
  {
   "cell_type": "code",
   "execution_count": 10,
   "metadata": {},
   "outputs": [
    {
     "name": "stdout",
     "output_type": "stream",
     "text": [
      "# Simulator\n",
      "Result(backend_name='ibmq_qasm_simulator', backend_version='0.7.0', qobj_id='9b6d40a7-b4ca-4d66-b603-06444ec11a84', job_id='5fd581b580c762001a7476b2', success=True, results=[ExperimentResult(shots=8192, success=True, meas_level=MeasLevel.CLASSIFIED, data=ExperimentResultData(counts={'0x15': 4108, '0x17': 4084}), header=QobjExperimentHeader(clbit_labels=[['c0', 0], ['c0', 1], ['c1', 0], ['c1', 1], ['c1', 2]], creg_sizes=[['c0', 2], ['c1', 3]], global_phase=0.0, memory_slots=5, n_qubits=5, name='circuit8', qreg_sizes=[['q0', 2], ['q1', 3]], qubit_labels=[['q0', 0], ['q0', 1], ['q1', 0], ['q1', 1], ['q1', 2]]), status=DONE, metadata={'fusion': {'applied': False, 'enabled': True, 'method': 'unitary', 'threshold': 14}, 'measure_sampling': True, 'method': 'statevector', 'parallel_shots': 1, 'parallel_state_update': 16}, seed_simulator=3451171203, time_taken=0.044208587)], date=2020-12-13 11:51:37.377392+09:00, status=COMPLETED, status=QobjHeader(backend_name='ibmq_qasm_simulator', backend_version='0.1.547'), metadata={'max_memory_mb': 257936, 'omp_enabled': True, 'parallel_experiments': 1, 'time_taken': 0.044506102000000006}, time_taken=0.044506102000000006, client_version={'qiskit': '0.23.1'})\n",
      "\n",
      "# No scheduling\n",
      "Result(backend_name='ibmq_paris', backend_version='1.6.6', qobj_id='f8a85b0d-c0f2-46a7-a68e-a5c1c4d8ea10', job_id='5fd581b705b601001977200e', success=True, results=[ExperimentResult(shots=8192, success=True, meas_level=2, data=ExperimentResultData(counts={'0x0': 3, '0x1': 80, '0x10': 7, '0x11': 172, '0x12': 6, '0x13': 142, '0x14': 124, '0x15': 2937, '0x16': 135, '0x17': 2815, '0x18': 3, '0x19': 69, '0x1a': 2, '0x1b': 60, '0x1c': 9, '0x1d': 173, '0x1e': 9, '0x1f': 155, '0x2': 6, '0x3': 92, '0x4': 8, '0x5': 282, '0x6': 8, '0x7': 276, '0x8': 4, '0x9': 124, '0xa': 8, '0xb': 117, '0xc': 3, '0xd': 182, '0xe': 8, '0xf': 173}), header=QobjExperimentHeader(clbit_labels=[['c2', 0], ['c2', 1], ['c3', 0], ['c3', 1], ['c3', 2]], creg_sizes=[['c2', 2], ['c3', 3]], global_phase=-1.1780972450961715, memory_slots=5, n_qubits=27, name='circuit134', qreg_sizes=[['q', 27]], qubit_labels=[['q', 0], ['q', 1], ['q', 2], ['q', 3], ['q', 4], ['q', 5], ['q', 6], ['q', 7], ['q', 8], ['q', 9], ['q', 10], ['q', 11], ['q', 12], ['q', 13], ['q', 14], ['q', 15], ['q', 16], ['q', 17], ['q', 18], ['q', 19], ['q', 20], ['q', 21], ['q', 22], ['q', 23], ['q', 24], ['q', 25], ['q', 26]]), memory=False)], date=2020-12-13 11:58:32+09:00, status=Successful completion, status=QobjHeader(backend_name='ibmq_paris', backend_version='1.6.6'), time_taken=21.904022693634033, execution_id='ec3f5430-3cee-11eb-aaba-b02628ea1e00', client_version={'qiskit': '0.23.1'})\n",
      "\n",
      "# ALAP scheduling policy\n",
      "Result(backend_name='ibmq_paris', backend_version='1.6.6', qobj_id='a2f10138-9866-460b-8473-bcb1ca1c0748', job_id='5fd581b880c762001a7476b3', success=True, results=[ExperimentResult(shots=8192, success=True, meas_level=2, data=ExperimentResultData(counts={'0x0': 2, '0x1': 115, '0x10': 6, '0x11': 167, '0x12': 7, '0x13': 153, '0x14': 122, '0x15': 2921, '0x16': 108, '0x17': 2799, '0x18': 4, '0x19': 75, '0x1a': 8, '0x1b': 74, '0x1c': 10, '0x1d': 182, '0x1e': 7, '0x1f': 162, '0x2': 5, '0x3': 108, '0x4': 6, '0x5': 255, '0x6': 6, '0x7': 219, '0x8': 3, '0x9': 130, '0xa': 6, '0xb': 133, '0xc': 4, '0xd': 198, '0xe': 7, '0xf': 190}), header=QobjExperimentHeader(clbit_labels=[['c4', 0], ['c4', 1], ['c5', 0], ['c5', 1], ['c5', 2]], creg_sizes=[['c4', 2], ['c5', 3]], global_phase=0.0, memory_slots=5, n_qubits=27, name='circuit310', qreg_sizes=[['q', 27]], qubit_labels=[['q', 0], ['q', 1], ['q', 2], ['q', 3], ['q', 4], ['q', 5], ['q', 6], ['q', 7], ['q', 8], ['q', 9], ['q', 10], ['q', 11], ['q', 12], ['q', 13], ['q', 14], ['q', 15], ['q', 16], ['q', 17], ['q', 18], ['q', 19], ['q', 20], ['q', 21], ['q', 22], ['q', 23], ['q', 24], ['q', 25], ['q', 26]]), memory=False)], date=2020-12-13 11:59:18+09:00, status=Successful completion, status=QobjHeader(backend_name='ibmq_paris', backend_version='1.6.6'), time_taken=21.46874690055847, execution_id='192d6536-3cef-11eb-9c11-b02628ea1e00', client_version={'qiskit': '0.23.1'})\n"
     ]
    }
   ],
   "source": [
    "# Show the results\n",
    "print(\"# Simulator\")\n",
    "print(result_sim)\n",
    "\n",
    "print(\"\\n# No scheduling\")\n",
    "for _result in result_list: \n",
    "    print(_result)\n",
    "\n",
    "print(\"\\n# ALAP scheduling policy\")\n",
    "for _result_alap in result_alap_list: \n",
    "    print(_result_alap)"
   ]
  },
  {
   "cell_type": "code",
   "execution_count": 11,
   "metadata": {
    "lines_to_next_cell": 0
   },
   "outputs": [
    {
     "name": "stdout",
     "output_type": "stream",
     "text": [
      "# Simulator\n",
      "{'101 01': 4108, '101 11': 4084}\n",
      "\n",
      "# No scheduling\n",
      "{'000 00': 3, '000 01': 80, '100 00': 7, '100 01': 172, '100 10': 6, '100 11': 142, '101 00': 124, '101 01': 2937, '101 10': 135, '101 11': 2815, '110 00': 3, '110 01': 69, '110 10': 2, '110 11': 60, '111 00': 9, '111 01': 173, '111 10': 9, '111 11': 155, '000 10': 6, '000 11': 92, '001 00': 8, '001 01': 282, '001 10': 8, '001 11': 276, '010 00': 4, '010 01': 124, '010 10': 8, '010 11': 117, '011 00': 3, '011 01': 182, '011 10': 8, '011 11': 173}\n",
      "\n",
      "# ALAP scheduling policy\n",
      "{'000 00': 2, '000 01': 115, '100 00': 6, '100 01': 167, '100 10': 7, '100 11': 153, '101 00': 122, '101 01': 2921, '101 10': 108, '101 11': 2799, '110 00': 4, '110 01': 75, '110 10': 8, '110 11': 74, '111 00': 10, '111 01': 182, '111 10': 7, '111 11': 162, '000 10': 5, '000 11': 108, '001 00': 6, '001 01': 255, '001 10': 6, '001 11': 219, '010 00': 3, '010 01': 130, '010 10': 6, '010 11': 133, '011 00': 4, '011 01': 198, '011 10': 7, '011 11': 190}\n"
     ]
    }
   ],
   "source": [
    "# Show the counts\n",
    "print(\"# Simulator\")\n",
    "print(counts_sim)\n",
    "\n",
    "print(\"\\n# No scheduling\")\n",
    "for _count in count_list: \n",
    "    print(_count)\n",
    "\n",
    "print(\"\\n# ALAP scheduling policy\")\n",
    "for _count_alap in counts_alap_list: \n",
    "    print(_count_alap)"
   ]
  },
  {
   "cell_type": "code",
   "execution_count": null,
   "metadata": {
    "lines_to_next_cell": 2
   },
   "outputs": [],
   "source": []
  }
 ],
 "metadata": {
  "jupytext": {
   "text_representation": {
    "extension": ".py",
    "format_name": "light",
    "format_version": "1.5",
    "jupytext_version": "1.7.1"
   }
  },
  "kernelspec": {
   "display_name": "Python 3",
   "language": "python",
   "name": "python3"
  },
  "language_info": {
   "codemirror_mode": {
    "name": "ipython",
    "version": 3
   },
   "file_extension": ".py",
   "mimetype": "text/x-python",
   "name": "python",
   "nbconvert_exporter": "python",
   "pygments_lexer": "ipython3",
   "version": "3.8.3"
  }
 },
 "nbformat": 4,
 "nbformat_minor": 2
}
