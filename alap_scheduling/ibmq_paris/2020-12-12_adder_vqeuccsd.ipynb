{
 "cells": [
  {
   "cell_type": "markdown",
   "metadata": {},
   "source": [
    "# ALAP Scheduling \n",
    "### Adder (4-qubits, 10 CX) + VQE uccsd (4-qubits, 88 CX)\n",
    "\n",
    "2020-12-12"
   ]
  },
  {
   "cell_type": "code",
   "execution_count": 1,
   "metadata": {},
   "outputs": [],
   "source": [
    "# import python tools\n",
    "import os\n",
    "\n",
    "# import qiskit tool\n",
    "from qiskit.transpiler import InstructionDurations\n",
    "\n",
    "# import experimental tools\n",
    "from experiments.alap_scheduling import execute_alap, result_alap\n",
    "from experiments.utils import get_IBM_backend"
   ]
  },
  {
   "cell_type": "markdown",
   "metadata": {},
   "source": [
    "## Experimental Settings"
   ]
  },
  {
   "cell_type": "code",
   "execution_count": 2,
   "metadata": {},
   "outputs": [],
   "source": [
    "date = '2020-12-12'\n",
    "\n",
    "# Choose benchmark circuits from QASMBench\n",
    "benchmark_sets = ['adder_n4', 'vqe_uccsd_n4']\n",
    "benchmark_size = 'small'"
   ]
  },
  {
   "cell_type": "code",
   "execution_count": 3,
   "metadata": {},
   "outputs": [
    {
     "name": "stderr",
     "output_type": "stream",
     "text": [
      "/Users/Yasuhiro/.local/share/virtualenvs/experiments-VWP9UmJy/lib/python3.8/site-packages/qiskit/providers/ibmq/ibmqfactory.py:192: UserWarning: Timestamps in IBMQ backend properties, jobs, and job results are all now in local time instead of UTC.\n",
      "  warnings.warn('Timestamps in IBMQ backend properties, jobs, and job results '\n"
     ]
    }
   ],
   "source": [
    "# Define backend device\n",
    "backend = get_IBM_backend('ibmq_paris')\n",
    "simulator = get_IBM_backend('ibmq_qasm_simulator')\n",
    "\n",
    "# Number of trials\n",
    "shots = 8192\n",
    "\n",
    "# Number of experimental seeds\n",
    "nseed = 1"
   ]
  },
  {
   "cell_type": "code",
   "execution_count": 4,
   "metadata": {},
   "outputs": [],
   "source": [
    "# define path to the file to save job data\n",
    "file_name = date + '_'\n",
    "sorted_benchmarks = sorted(benchmark_sets)\n",
    "for _name in sorted_benchmarks: \n",
    "    file_name += _name\n",
    "    if _name == sorted_benchmarks[-1]:\n",
    "        break\n",
    "    file_name += '+'\n",
    "job_save_path = str(os.getcwd()) + \"/job_id/from20201211/\" + file_name"
   ]
  },
  {
   "cell_type": "markdown",
   "metadata": {},
   "source": [
    "## Execute experiments on IBMQ\n",
    "\n",
    "Here, we execute three types of experiments. First one is the  job run on simulator to calculate exact answer of the multi-programming circuit. The other two are the jobs executed on the real device. One is the base line, which is no scheduled, and the other one is the circuit executed with alap schedule policy. "
   ]
  },
  {
   "cell_type": "code",
   "execution_count": 5,
   "metadata": {},
   "outputs": [],
   "source": [
    "instruction_durations = InstructionDurations.from_backend(backend)"
   ]
  },
  {
   "cell_type": "code",
   "execution_count": 6,
   "metadata": {},
   "outputs": [
    {
     "name": "stdout",
     "output_type": "stream",
     "text": [
      "prog: Qubit(QuantumRegister(4, 'q159'), 0) , hw: 25\n",
      "prog: Qubit(QuantumRegister(4, 'q159'), 1) , hw: 26\n",
      "prog: Qubit(QuantumRegister(4, 'q159'), 2) , hw: 23\n",
      "prog: Qubit(QuantumRegister(4, 'q159'), 3) , hw: 24\n",
      "prog: Qubit(QuantumRegister(4, 'q160'), 0) , hw: 20\n",
      "prog: Qubit(QuantumRegister(4, 'q160'), 1) , hw: 19\n",
      "prog: Qubit(QuantumRegister(4, 'q160'), 2) , hw: 16\n",
      "prog: Qubit(QuantumRegister(4, 'q160'), 3) , hw: 14\n",
      "prog: Qubit(QuantumRegister(4, 'q389'), 0) , hw: 25\n",
      "prog: Qubit(QuantumRegister(4, 'q389'), 1) , hw: 26\n",
      "prog: Qubit(QuantumRegister(4, 'q389'), 2) , hw: 23\n",
      "prog: Qubit(QuantumRegister(4, 'q389'), 3) , hw: 24\n",
      "prog: Qubit(QuantumRegister(4, 'q390'), 0) , hw: 20\n",
      "prog: Qubit(QuantumRegister(4, 'q390'), 1) , hw: 19\n",
      "prog: Qubit(QuantumRegister(4, 'q390'), 2) , hw: 16\n",
      "prog: Qubit(QuantumRegister(4, 'q390'), 3) , hw: 14\n"
     ]
    }
   ],
   "source": [
    "job_sim, job, job_alap = execute_alap(\n",
    "                    size=benchmark_size, \n",
    "                    names=benchmark_sets, \n",
    "                    backend=backend, \n",
    "                    simulator=simulator,\n",
    "                    shots = shots, \n",
    "                    nseed=1,\n",
    "                    save_path=job_save_path, \n",
    "                    instruction_durations=instruction_durations,\n",
    "                    )"
   ]
  },
  {
   "cell_type": "code",
   "execution_count": 7,
   "metadata": {},
   "outputs": [
    {
     "name": "stdout",
     "output_type": "stream",
     "text": [
      "<qiskit.providers.ibmq.job.ibmqjob.IBMQJob object at 0x7fef5c5c2160>\n",
      "[<qiskit.providers.ibmq.job.ibmqjob.IBMQJob object at 0x7fef5c6df5e0>]\n",
      "[<qiskit.providers.ibmq.job.ibmqjob.IBMQJob object at 0x7fef5c6c8490>]\n"
     ]
    }
   ],
   "source": [
    "# Show the each job\n",
    "print(job_sim)\n",
    "print(job)\n",
    "print(job_alap)"
   ]
  },
  {
   "cell_type": "markdown",
   "metadata": {},
   "source": [
    "## Get the results"
   ]
  },
  {
   "cell_type": "code",
   "execution_count": 8,
   "metadata": {},
   "outputs": [],
   "source": [
    "# define path to the file to save results\n",
    "result_save_path = str(os.getcwd()) + \"/results/from20201211/\" + file_name"
   ]
  },
  {
   "cell_type": "code",
   "execution_count": 9,
   "metadata": {},
   "outputs": [],
   "source": [
    "result_sim, result_list, result_alap_list, counts_sim, count_list, counts_alap_list, qc_names = result_alap(backend, simulator, job_save_path, result_save_path)"
   ]
  },
  {
   "cell_type": "code",
   "execution_count": 10,
   "metadata": {},
   "outputs": [
    {
     "name": "stdout",
     "output_type": "stream",
     "text": [
      "# Simulator\n",
      "Result(backend_name='ibmq_qasm_simulator', backend_version='0.7.0', qobj_id='e3783271-2b35-44f1-a5da-d61d72d49ea9', job_id='5fd405c380c762001a746739', success=True, results=[ExperimentResult(shots=8192, success=True, meas_level=MeasLevel.CLASSIFIED, data=ExperimentResultData(counts={'0x39': 159, '0x59': 2198, '0x69': 481, '0x9': 329, '0x99': 709, '0xa9': 84, '0xc9': 1459, '0xf9': 2773}), header=QobjExperimentHeader(clbit_labels=[['c0', 0], ['c0', 1], ['c0', 2], ['c0', 3], ['c1', 0], ['c1', 1], ['c1', 2], ['c1', 3]], creg_sizes=[['c0', 4], ['c1', 4]], global_phase=0.0, memory_slots=8, n_qubits=8, name='circuit8', qreg_sizes=[['q0', 4], ['q1', 4]], qubit_labels=[['q0', 0], ['q0', 1], ['q0', 2], ['q0', 3], ['q1', 0], ['q1', 1], ['q1', 2], ['q1', 3]]), status=DONE, metadata={'fusion': {'applied': False, 'enabled': True, 'method': 'unitary', 'threshold': 14}, 'measure_sampling': True, 'method': 'statevector', 'parallel_shots': 1, 'parallel_state_update': 16}, seed_simulator=355799090, time_taken=0.062001277)], date=2020-12-12 08:50:31.522941+09:00, status=COMPLETED, status=QobjHeader(backend_name='ibmq_qasm_simulator', backend_version='0.1.547'), metadata={'max_memory_mb': 257936, 'omp_enabled': True, 'parallel_experiments': 1, 'time_taken': 0.063390746}, time_taken=0.063390746, client_version={'qiskit': '0.23.1'})\n",
      "\n",
      "# No scheduling\n",
      "Result(backend_name='ibmq_paris', backend_version='1.6.5', qobj_id='40dc899f-9410-48db-a849-a35999950322', job_id='5fd405c610ba7c001aa16d16', success=True, results=[ExperimentResult(shots=8192, success=True, meas_level=2, data=ExperimentResultData(counts={'0x0': 13, '0x1': 35, '0x10': 19, '0x11': 37, '0x12': 3, '0x13': 3, '0x14': 13, '0x15': 11, '0x16': 13, '0x17': 9, '0x18': 25, '0x19': 340, '0x1a': 5, '0x1b': 3, '0x1c': 6, '0x1d': 18, '0x1e': 1, '0x20': 15, '0x21': 20, '0x23': 2, '0x24': 4, '0x25': 11, '0x26': 8, '0x27': 3, '0x28': 10, '0x29': 215, '0x2a': 2, '0x2b': 1, '0x2c': 7, '0x2d': 12, '0x2e': 3, '0x2f': 2, '0x3': 1, '0x30': 14, '0x31': 24, '0x32': 1, '0x33': 1, '0x34': 5, '0x35': 10, '0x36': 9, '0x37': 3, '0x38': 20, '0x39': 184, '0x3b': 1, '0x3c': 4, '0x3d': 8, '0x3e': 2, '0x4': 7, '0x40': 14, '0x41': 47, '0x42': 1, '0x43': 3, '0x44': 12, '0x45': 10, '0x46': 14, '0x47': 5, '0x48': 32, '0x49': 333, '0x4a': 2, '0x4b': 5, '0x4c': 7, '0x4d': 12, '0x4e': 2, '0x4f': 2, '0x5': 10, '0x50': 30, '0x51': 51, '0x52': 3, '0x54': 14, '0x55': 14, '0x56': 16, '0x57': 9, '0x58': 31, '0x59': 451, '0x5b': 2, '0x5c': 7, '0x5d': 18, '0x5e': 2, '0x5f': 3, '0x6': 8, '0x60': 26, '0x61': 44, '0x62': 1, '0x63': 4, '0x64': 15, '0x65': 6, '0x66': 10, '0x67': 1, '0x68': 17, '0x69': 304, '0x6b': 5, '0x6c': 9, '0x6d': 14, '0x6e': 1, '0x6f': 2, '0x7': 8, '0x70': 20, '0x71': 51, '0x72': 3, '0x73': 3, '0x74': 14, '0x75': 16, '0x76': 16, '0x77': 8, '0x78': 32, '0x79': 441, '0x7a': 2, '0x7b': 7, '0x7c': 10, '0x7d': 20, '0x7e': 2, '0x7f': 1, '0x8': 22, '0x80': 19, '0x81': 42, '0x82': 4, '0x84': 11, '0x85': 13, '0x86': 22, '0x87': 3, '0x88': 20, '0x89': 266, '0x8a': 3, '0x8b': 4, '0x8c': 5, '0x8d': 16, '0x8e': 1, '0x9': 258, '0x90': 14, '0x91': 40, '0x92': 1, '0x93': 5, '0x94': 16, '0x95': 11, '0x96': 22, '0x97': 9, '0x98': 22, '0x99': 308, '0x9a': 2, '0x9b': 6, '0x9c': 7, '0x9d': 25, '0x9e': 4, '0x9f': 3, '0xa0': 15, '0xa1': 26, '0xa3': 1, '0xa4': 6, '0xa5': 11, '0xa6': 9, '0xa7': 7, '0xa8': 6, '0xa9': 238, '0xaa': 2, '0xab': 2, '0xac': 6, '0xad': 8, '0xaf': 1, '0xb': 2, '0xb0': 17, '0xb1': 22, '0xb2': 3, '0xb3': 2, '0xb4': 10, '0xb5': 10, '0xb6': 9, '0xb7': 7, '0xb8': 14, '0xb9': 222, '0xba': 3, '0xbb': 1, '0xbc': 5, '0xbd': 18, '0xbe': 2, '0xbf': 2, '0xc': 6, '0xc0': 32, '0xc1': 64, '0xc2': 5, '0xc3': 1, '0xc4': 27, '0xc5': 33, '0xc6': 20, '0xc7': 12, '0xc8': 42, '0xc9': 588, '0xca': 6, '0xcb': 13, '0xcc': 8, '0xcd': 18, '0xce': 4, '0xcf': 2, '0xd': 13, '0xd0': 27, '0xd1': 51, '0xd2': 1, '0xd3': 4, '0xd4': 13, '0xd5': 19, '0xd6': 21, '0xd7': 11, '0xd8': 32, '0xd9': 457, '0xda': 3, '0xdb': 4, '0xdc': 13, '0xdd': 17, '0xde': 3, '0xdf': 4, '0xe': 1, '0xe0': 23, '0xe1': 38, '0xe2': 2, '0xe3': 3, '0xe4': 8, '0xe5': 10, '0xe6': 22, '0xe7': 6, '0xe8': 25, '0xe9': 383, '0xea': 3, '0xeb': 7, '0xec': 3, '0xed': 24, '0xee': 6, '0xef': 2, '0xf0': 24, '0xf1': 52, '0xf2': 2, '0xf3': 6, '0xf4': 12, '0xf5': 24, '0xf6': 27, '0xf7': 9, '0xf8': 37, '0xf9': 477, '0xfa': 2, '0xfb': 1, '0xfc': 7, '0xfd': 27, '0xfe': 5, '0xff': 3}), header=QobjExperimentHeader(clbit_labels=[['c2', 0], ['c2', 1], ['c2', 2], ['c2', 3], ['c3', 0], ['c3', 1], ['c3', 2], ['c3', 3]], creg_sizes=[['c2', 4], ['c3', 4]], global_phase=-21.580339986774895, memory_slots=8, n_qubits=27, name='circuit557', qreg_sizes=[['q', 27]], qubit_labels=[['q', 0], ['q', 1], ['q', 2], ['q', 3], ['q', 4], ['q', 5], ['q', 6], ['q', 7], ['q', 8], ['q', 9], ['q', 10], ['q', 11], ['q', 12], ['q', 13], ['q', 14], ['q', 15], ['q', 16], ['q', 17], ['q', 18], ['q', 19], ['q', 20], ['q', 21], ['q', 22], ['q', 23], ['q', 24], ['q', 25], ['q', 26]]), memory=False)], date=2020-12-12 09:26:44+09:00, status=Successful completion, status=QobjHeader(backend_name='ibmq_paris', backend_version='1.6.5'), time_taken=22.396216869354248, execution_id='7f2aecb2-3c10-11eb-9f97-b02628ea1e00', client_version={'qiskit': '0.23.1'})\n",
      "\n",
      "# ALAP scheduling policy\n",
      "Result(backend_name='ibmq_paris', backend_version='1.6.5', qobj_id='d87b9281-d73c-4371-8a76-6ec357e3dabf', job_id='5fd405c7b98c9b001a57078c', success=True, results=[ExperimentResult(shots=8192, success=True, meas_level=2, data=ExperimentResultData(counts={'0x0': 19, '0x1': 29, '0x10': 23, '0x11': 31, '0x13': 3, '0x14': 14, '0x15': 12, '0x16': 20, '0x17': 5, '0x18': 22, '0x19': 349, '0x1a': 1, '0x1b': 3, '0x1c': 5, '0x1d': 15, '0x1e': 3, '0x2': 1, '0x20': 8, '0x21': 19, '0x22': 2, '0x23': 2, '0x24': 13, '0x25': 6, '0x26': 8, '0x27': 8, '0x28': 11, '0x29': 203, '0x2a': 1, '0x2b': 2, '0x2c': 4, '0x2d': 7, '0x2e': 3, '0x2f': 1, '0x3': 2, '0x30': 7, '0x31': 28, '0x32': 2, '0x34': 9, '0x35': 7, '0x36': 11, '0x37': 2, '0x38': 18, '0x39': 202, '0x3a': 3, '0x3b': 4, '0x3c': 3, '0x3d': 7, '0x3f': 2, '0x4': 12, '0x40': 12, '0x41': 37, '0x42': 1, '0x43': 5, '0x44': 9, '0x45': 14, '0x46': 15, '0x47': 8, '0x48': 19, '0x49': 304, '0x4a': 1, '0x4b': 2, '0x4c': 6, '0x4d': 15, '0x4e': 1, '0x4f': 2, '0x5': 10, '0x50': 25, '0x51': 52, '0x52': 5, '0x53': 1, '0x54': 15, '0x55': 15, '0x56': 34, '0x57': 9, '0x58': 43, '0x59': 401, '0x5a': 6, '0x5b': 7, '0x5c': 5, '0x5d': 19, '0x5e': 7, '0x5f': 4, '0x6': 14, '0x60': 20, '0x61': 29, '0x62': 4, '0x63': 3, '0x64': 7, '0x65': 20, '0x66': 19, '0x67': 2, '0x68': 30, '0x69': 280, '0x6b': 4, '0x6c': 7, '0x6d': 18, '0x6e': 1, '0x6f': 1, '0x7': 12, '0x70': 21, '0x71': 54, '0x72': 2, '0x73': 6, '0x74': 24, '0x75': 30, '0x76': 32, '0x77': 3, '0x78': 40, '0x79': 451, '0x7a': 5, '0x7b': 5, '0x7c': 11, '0x7d': 31, '0x7e': 5, '0x7f': 2, '0x8': 17, '0x80': 9, '0x81': 29, '0x82': 1, '0x83': 3, '0x84': 15, '0x85': 8, '0x86': 12, '0x87': 5, '0x88': 24, '0x89': 279, '0x8b': 1, '0x8c': 8, '0x8d': 11, '0x8e': 2, '0x8f': 2, '0x9': 288, '0x90': 19, '0x91': 43, '0x92': 3, '0x93': 5, '0x94': 12, '0x95': 14, '0x96': 21, '0x97': 6, '0x98': 33, '0x99': 355, '0x9a': 1, '0x9b': 2, '0x9c': 5, '0x9d': 20, '0x9e': 2, '0x9f': 2, '0xa': 1, '0xa0': 18, '0xa1': 23, '0xa2': 1, '0xa3': 1, '0xa4': 6, '0xa5': 7, '0xa6': 11, '0xa7': 2, '0xa8': 21, '0xa9': 185, '0xaa': 2, '0xac': 3, '0xad': 8, '0xae': 3, '0xb': 6, '0xb0': 13, '0xb1': 23, '0xb2': 1, '0xb3': 2, '0xb4': 12, '0xb5': 13, '0xb6': 15, '0xb7': 4, '0xb8': 11, '0xb9': 227, '0xba': 1, '0xbc': 5, '0xbd': 13, '0xbf': 1, '0xc': 6, '0xc0': 27, '0xc1': 71, '0xc2': 3, '0xc3': 4, '0xc4': 14, '0xc5': 28, '0xc6': 38, '0xc7': 11, '0xc8': 38, '0xc9': 531, '0xca': 2, '0xcb': 2, '0xcc': 16, '0xcd': 20, '0xce': 7, '0xcf': 7, '0xd': 17, '0xd0': 29, '0xd1': 59, '0xd2': 6, '0xd3': 3, '0xd4': 18, '0xd5': 16, '0xd6': 31, '0xd7': 11, '0xd8': 48, '0xd9': 465, '0xda': 6, '0xdb': 8, '0xdc': 6, '0xdd': 26, '0xde': 5, '0xdf': 1, '0xe': 3, '0xe0': 14, '0xe1': 48, '0xe2': 3, '0xe3': 5, '0xe4': 15, '0xe5': 13, '0xe6': 19, '0xe7': 4, '0xe8': 24, '0xe9': 374, '0xea': 2, '0xeb': 6, '0xec': 8, '0xed': 12, '0xee': 3, '0xef': 2, '0xf': 3, '0xf0': 14, '0xf1': 53, '0xf2': 2, '0xf3': 3, '0xf4': 13, '0xf5': 13, '0xf6': 35, '0xf7': 8, '0xf8': 43, '0xf9': 459, '0xfa': 3, '0xfb': 4, '0xfc': 12, '0xfd': 19, '0xfe': 2, '0xff': 1}), header=QobjExperimentHeader(clbit_labels=[['c4', 0], ['c4', 1], ['c4', 2], ['c4', 3], ['c5', 0], ['c5', 1], ['c5', 2], ['c5', 3]], creg_sizes=[['c4', 4], ['c5', 4]], global_phase=0.0, memory_slots=8, n_qubits=27, name='circuit1468', qreg_sizes=[['q', 27]], qubit_labels=[['q', 0], ['q', 1], ['q', 2], ['q', 3], ['q', 4], ['q', 5], ['q', 6], ['q', 7], ['q', 8], ['q', 9], ['q', 10], ['q', 11], ['q', 12], ['q', 13], ['q', 14], ['q', 15], ['q', 16], ['q', 17], ['q', 18], ['q', 19], ['q', 20], ['q', 21], ['q', 22], ['q', 23], ['q', 24], ['q', 25], ['q', 26]]), memory=False)], date=2020-12-12 09:27:46+09:00, status=Successful completion, status=QobjHeader(backend_name='ibmq_paris', backend_version='1.6.5'), time_taken=22.67290234565735, execution_id='ba2ac058-3c10-11eb-90ee-b02628ea1e00', client_version={'qiskit': '0.23.1'})\n"
     ]
    }
   ],
   "source": [
    "# Show the results\n",
    "print(\"# Simulator\")\n",
    "print(result_sim)\n",
    "\n",
    "print(\"\\n# No scheduling\")\n",
    "for _result in result_list: \n",
    "    print(_result)\n",
    "\n",
    "print(\"\\n# ALAP scheduling policy\")\n",
    "for _result_alap in result_alap_list: \n",
    "    print(_result_alap)"
   ]
  },
  {
   "cell_type": "code",
   "execution_count": 11,
   "metadata": {},
   "outputs": [
    {
     "name": "stdout",
     "output_type": "stream",
     "text": [
      "# Simulator\n",
      "{'0011 1001': 159, '0101 1001': 2198, '0110 1001': 481, '0000 1001': 329, '1001 1001': 709, '1010 1001': 84, '1100 1001': 1459, '1111 1001': 2773}\n",
      "\n",
      "# No scheduling\n",
      "{'0000 0000': 13, '0000 0001': 35, '0001 0000': 19, '0001 0001': 37, '0001 0010': 3, '0001 0011': 3, '0001 0100': 13, '0001 0101': 11, '0001 0110': 13, '0001 0111': 9, '0001 1000': 25, '0001 1001': 340, '0001 1010': 5, '0001 1011': 3, '0001 1100': 6, '0001 1101': 18, '0001 1110': 1, '0010 0000': 15, '0010 0001': 20, '0010 0011': 2, '0010 0100': 4, '0010 0101': 11, '0010 0110': 8, '0010 0111': 3, '0010 1000': 10, '0010 1001': 215, '0010 1010': 2, '0010 1011': 1, '0010 1100': 7, '0010 1101': 12, '0010 1110': 3, '0010 1111': 2, '0000 0011': 1, '0011 0000': 14, '0011 0001': 24, '0011 0010': 1, '0011 0011': 1, '0011 0100': 5, '0011 0101': 10, '0011 0110': 9, '0011 0111': 3, '0011 1000': 20, '0011 1001': 184, '0011 1011': 1, '0011 1100': 4, '0011 1101': 8, '0011 1110': 2, '0000 0100': 7, '0100 0000': 14, '0100 0001': 47, '0100 0010': 1, '0100 0011': 3, '0100 0100': 12, '0100 0101': 10, '0100 0110': 14, '0100 0111': 5, '0100 1000': 32, '0100 1001': 333, '0100 1010': 2, '0100 1011': 5, '0100 1100': 7, '0100 1101': 12, '0100 1110': 2, '0100 1111': 2, '0000 0101': 10, '0101 0000': 30, '0101 0001': 51, '0101 0010': 3, '0101 0100': 14, '0101 0101': 14, '0101 0110': 16, '0101 0111': 9, '0101 1000': 31, '0101 1001': 451, '0101 1011': 2, '0101 1100': 7, '0101 1101': 18, '0101 1110': 2, '0101 1111': 3, '0000 0110': 8, '0110 0000': 26, '0110 0001': 44, '0110 0010': 1, '0110 0011': 4, '0110 0100': 15, '0110 0101': 6, '0110 0110': 10, '0110 0111': 1, '0110 1000': 17, '0110 1001': 304, '0110 1011': 5, '0110 1100': 9, '0110 1101': 14, '0110 1110': 1, '0110 1111': 2, '0000 0111': 8, '0111 0000': 20, '0111 0001': 51, '0111 0010': 3, '0111 0011': 3, '0111 0100': 14, '0111 0101': 16, '0111 0110': 16, '0111 0111': 8, '0111 1000': 32, '0111 1001': 441, '0111 1010': 2, '0111 1011': 7, '0111 1100': 10, '0111 1101': 20, '0111 1110': 2, '0111 1111': 1, '0000 1000': 22, '1000 0000': 19, '1000 0001': 42, '1000 0010': 4, '1000 0100': 11, '1000 0101': 13, '1000 0110': 22, '1000 0111': 3, '1000 1000': 20, '1000 1001': 266, '1000 1010': 3, '1000 1011': 4, '1000 1100': 5, '1000 1101': 16, '1000 1110': 1, '0000 1001': 258, '1001 0000': 14, '1001 0001': 40, '1001 0010': 1, '1001 0011': 5, '1001 0100': 16, '1001 0101': 11, '1001 0110': 22, '1001 0111': 9, '1001 1000': 22, '1001 1001': 308, '1001 1010': 2, '1001 1011': 6, '1001 1100': 7, '1001 1101': 25, '1001 1110': 4, '1001 1111': 3, '1010 0000': 15, '1010 0001': 26, '1010 0011': 1, '1010 0100': 6, '1010 0101': 11, '1010 0110': 9, '1010 0111': 7, '1010 1000': 6, '1010 1001': 238, '1010 1010': 2, '1010 1011': 2, '1010 1100': 6, '1010 1101': 8, '1010 1111': 1, '0000 1011': 2, '1011 0000': 17, '1011 0001': 22, '1011 0010': 3, '1011 0011': 2, '1011 0100': 10, '1011 0101': 10, '1011 0110': 9, '1011 0111': 7, '1011 1000': 14, '1011 1001': 222, '1011 1010': 3, '1011 1011': 1, '1011 1100': 5, '1011 1101': 18, '1011 1110': 2, '1011 1111': 2, '0000 1100': 6, '1100 0000': 32, '1100 0001': 64, '1100 0010': 5, '1100 0011': 1, '1100 0100': 27, '1100 0101': 33, '1100 0110': 20, '1100 0111': 12, '1100 1000': 42, '1100 1001': 588, '1100 1010': 6, '1100 1011': 13, '1100 1100': 8, '1100 1101': 18, '1100 1110': 4, '1100 1111': 2, '0000 1101': 13, '1101 0000': 27, '1101 0001': 51, '1101 0010': 1, '1101 0011': 4, '1101 0100': 13, '1101 0101': 19, '1101 0110': 21, '1101 0111': 11, '1101 1000': 32, '1101 1001': 457, '1101 1010': 3, '1101 1011': 4, '1101 1100': 13, '1101 1101': 17, '1101 1110': 3, '1101 1111': 4, '0000 1110': 1, '1110 0000': 23, '1110 0001': 38, '1110 0010': 2, '1110 0011': 3, '1110 0100': 8, '1110 0101': 10, '1110 0110': 22, '1110 0111': 6, '1110 1000': 25, '1110 1001': 383, '1110 1010': 3, '1110 1011': 7, '1110 1100': 3, '1110 1101': 24, '1110 1110': 6, '1110 1111': 2, '1111 0000': 24, '1111 0001': 52, '1111 0010': 2, '1111 0011': 6, '1111 0100': 12, '1111 0101': 24, '1111 0110': 27, '1111 0111': 9, '1111 1000': 37, '1111 1001': 477, '1111 1010': 2, '1111 1011': 1, '1111 1100': 7, '1111 1101': 27, '1111 1110': 5, '1111 1111': 3}\n",
      "\n",
      "# ALAP scheduling policy\n",
      "{'0000 0000': 19, '0000 0001': 29, '0001 0000': 23, '0001 0001': 31, '0001 0011': 3, '0001 0100': 14, '0001 0101': 12, '0001 0110': 20, '0001 0111': 5, '0001 1000': 22, '0001 1001': 349, '0001 1010': 1, '0001 1011': 3, '0001 1100': 5, '0001 1101': 15, '0001 1110': 3, '0000 0010': 1, '0010 0000': 8, '0010 0001': 19, '0010 0010': 2, '0010 0011': 2, '0010 0100': 13, '0010 0101': 6, '0010 0110': 8, '0010 0111': 8, '0010 1000': 11, '0010 1001': 203, '0010 1010': 1, '0010 1011': 2, '0010 1100': 4, '0010 1101': 7, '0010 1110': 3, '0010 1111': 1, '0000 0011': 2, '0011 0000': 7, '0011 0001': 28, '0011 0010': 2, '0011 0100': 9, '0011 0101': 7, '0011 0110': 11, '0011 0111': 2, '0011 1000': 18, '0011 1001': 202, '0011 1010': 3, '0011 1011': 4, '0011 1100': 3, '0011 1101': 7, '0011 1111': 2, '0000 0100': 12, '0100 0000': 12, '0100 0001': 37, '0100 0010': 1, '0100 0011': 5, '0100 0100': 9, '0100 0101': 14, '0100 0110': 15, '0100 0111': 8, '0100 1000': 19, '0100 1001': 304, '0100 1010': 1, '0100 1011': 2, '0100 1100': 6, '0100 1101': 15, '0100 1110': 1, '0100 1111': 2, '0000 0101': 10, '0101 0000': 25, '0101 0001': 52, '0101 0010': 5, '0101 0011': 1, '0101 0100': 15, '0101 0101': 15, '0101 0110': 34, '0101 0111': 9, '0101 1000': 43, '0101 1001': 401, '0101 1010': 6, '0101 1011': 7, '0101 1100': 5, '0101 1101': 19, '0101 1110': 7, '0101 1111': 4, '0000 0110': 14, '0110 0000': 20, '0110 0001': 29, '0110 0010': 4, '0110 0011': 3, '0110 0100': 7, '0110 0101': 20, '0110 0110': 19, '0110 0111': 2, '0110 1000': 30, '0110 1001': 280, '0110 1011': 4, '0110 1100': 7, '0110 1101': 18, '0110 1110': 1, '0110 1111': 1, '0000 0111': 12, '0111 0000': 21, '0111 0001': 54, '0111 0010': 2, '0111 0011': 6, '0111 0100': 24, '0111 0101': 30, '0111 0110': 32, '0111 0111': 3, '0111 1000': 40, '0111 1001': 451, '0111 1010': 5, '0111 1011': 5, '0111 1100': 11, '0111 1101': 31, '0111 1110': 5, '0111 1111': 2, '0000 1000': 17, '1000 0000': 9, '1000 0001': 29, '1000 0010': 1, '1000 0011': 3, '1000 0100': 15, '1000 0101': 8, '1000 0110': 12, '1000 0111': 5, '1000 1000': 24, '1000 1001': 279, '1000 1011': 1, '1000 1100': 8, '1000 1101': 11, '1000 1110': 2, '1000 1111': 2, '0000 1001': 288, '1001 0000': 19, '1001 0001': 43, '1001 0010': 3, '1001 0011': 5, '1001 0100': 12, '1001 0101': 14, '1001 0110': 21, '1001 0111': 6, '1001 1000': 33, '1001 1001': 355, '1001 1010': 1, '1001 1011': 2, '1001 1100': 5, '1001 1101': 20, '1001 1110': 2, '1001 1111': 2, '0000 1010': 1, '1010 0000': 18, '1010 0001': 23, '1010 0010': 1, '1010 0011': 1, '1010 0100': 6, '1010 0101': 7, '1010 0110': 11, '1010 0111': 2, '1010 1000': 21, '1010 1001': 185, '1010 1010': 2, '1010 1100': 3, '1010 1101': 8, '1010 1110': 3, '0000 1011': 6, '1011 0000': 13, '1011 0001': 23, '1011 0010': 1, '1011 0011': 2, '1011 0100': 12, '1011 0101': 13, '1011 0110': 15, '1011 0111': 4, '1011 1000': 11, '1011 1001': 227, '1011 1010': 1, '1011 1100': 5, '1011 1101': 13, '1011 1111': 1, '0000 1100': 6, '1100 0000': 27, '1100 0001': 71, '1100 0010': 3, '1100 0011': 4, '1100 0100': 14, '1100 0101': 28, '1100 0110': 38, '1100 0111': 11, '1100 1000': 38, '1100 1001': 531, '1100 1010': 2, '1100 1011': 2, '1100 1100': 16, '1100 1101': 20, '1100 1110': 7, '1100 1111': 7, '0000 1101': 17, '1101 0000': 29, '1101 0001': 59, '1101 0010': 6, '1101 0011': 3, '1101 0100': 18, '1101 0101': 16, '1101 0110': 31, '1101 0111': 11, '1101 1000': 48, '1101 1001': 465, '1101 1010': 6, '1101 1011': 8, '1101 1100': 6, '1101 1101': 26, '1101 1110': 5, '1101 1111': 1, '0000 1110': 3, '1110 0000': 14, '1110 0001': 48, '1110 0010': 3, '1110 0011': 5, '1110 0100': 15, '1110 0101': 13, '1110 0110': 19, '1110 0111': 4, '1110 1000': 24, '1110 1001': 374, '1110 1010': 2, '1110 1011': 6, '1110 1100': 8, '1110 1101': 12, '1110 1110': 3, '1110 1111': 2, '0000 1111': 3, '1111 0000': 14, '1111 0001': 53, '1111 0010': 2, '1111 0011': 3, '1111 0100': 13, '1111 0101': 13, '1111 0110': 35, '1111 0111': 8, '1111 1000': 43, '1111 1001': 459, '1111 1010': 3, '1111 1011': 4, '1111 1100': 12, '1111 1101': 19, '1111 1110': 2, '1111 1111': 1}\n"
     ]
    }
   ],
   "source": [
    "# Show the counts\n",
    "print(\"# Simulator\")\n",
    "print(counts_sim)\n",
    "\n",
    "print(\"\\n# No scheduling\")\n",
    "for _count in count_list: \n",
    "    print(_count)\n",
    "\n",
    "print(\"\\n# ALAP scheduling policy\")\n",
    "for _count_alap in counts_alap_list: \n",
    "    print(_count_alap)"
   ]
  },
  {
   "cell_type": "code",
   "execution_count": null,
   "metadata": {},
   "outputs": [],
   "source": []
  }
 ],
 "metadata": {
  "jupytext": {
   "text_representation": {
    "extension": ".py",
    "format_name": "light",
    "format_version": "1.5",
    "jupytext_version": "1.7.1"
   }
  },
  "kernelspec": {
   "display_name": "Python 3",
   "language": "python",
   "name": "python3"
  },
  "language_info": {
   "codemirror_mode": {
    "name": "ipython",
    "version": 3
   },
   "file_extension": ".py",
   "mimetype": "text/x-python",
   "name": "python",
   "nbconvert_exporter": "python",
   "pygments_lexer": "ipython3",
   "version": "3.8.3"
  }
 },
 "nbformat": 4,
 "nbformat_minor": 2
}
