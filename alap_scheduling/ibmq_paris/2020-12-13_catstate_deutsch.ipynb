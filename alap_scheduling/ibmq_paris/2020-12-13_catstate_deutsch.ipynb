{
 "cells": [
  {
   "cell_type": "markdown",
   "metadata": {},
   "source": [
    "# ALAP Scheduling \n",
    "### Cat state (4-qubits, 3 CX) + Deutsch (2-qubits, 1CX)\n",
    "\n",
    "2020-12-13"
   ]
  },
  {
   "cell_type": "code",
   "execution_count": 1,
   "metadata": {},
   "outputs": [],
   "source": [
    "# import python tools\n",
    "import os\n",
    "\n",
    "# import qiskit tool\n",
    "from qiskit.transpiler import InstructionDurations\n",
    "\n",
    "# import experimental tools\n",
    "from experiments.alap_scheduling import execute_alap, result_alap\n",
    "from experiments.utils import get_IBM_backend"
   ]
  },
  {
   "cell_type": "markdown",
   "metadata": {},
   "source": [
    "## Experimental Settings"
   ]
  },
  {
   "cell_type": "code",
   "execution_count": 2,
   "metadata": {},
   "outputs": [],
   "source": [
    "date = '2020-12-13'\n",
    "\n",
    "# Choose benchmark circuits from QASMBench\n",
    "benchmark_sets = ['cat_state_n4', 'deutsch_n2']\n",
    "benchmark_size = 'small'"
   ]
  },
  {
   "cell_type": "code",
   "execution_count": 3,
   "metadata": {},
   "outputs": [
    {
     "name": "stderr",
     "output_type": "stream",
     "text": [
      "/Users/Yasuhiro/.local/share/virtualenvs/experiments-VWP9UmJy/lib/python3.8/site-packages/qiskit/providers/ibmq/ibmqfactory.py:192: UserWarning: Timestamps in IBMQ backend properties, jobs, and job results are all now in local time instead of UTC.\n",
      "  warnings.warn('Timestamps in IBMQ backend properties, jobs, and job results '\n"
     ]
    }
   ],
   "source": [
    "# Define backend device\n",
    "backend = get_IBM_backend('ibmq_paris')\n",
    "simulator = get_IBM_backend('ibmq_qasm_simulator')\n",
    "\n",
    "# Number of trials\n",
    "shots = 8192\n",
    "\n",
    "# Number of experimental seeds\n",
    "nseed = 1"
   ]
  },
  {
   "cell_type": "code",
   "execution_count": 4,
   "metadata": {},
   "outputs": [],
   "source": [
    "# define path to the file to save job data\n",
    "file_name = date + '_'\n",
    "sorted_benchmarks = sorted(benchmark_sets)\n",
    "for _name in sorted_benchmarks: \n",
    "    file_name += _name\n",
    "    if _name == sorted_benchmarks[-1]:\n",
    "        break\n",
    "    file_name += '+'\n",
    "job_save_path = str(os.getcwd()) + \"/job_id/from20201211/\" + file_name"
   ]
  },
  {
   "cell_type": "markdown",
   "metadata": {},
   "source": [
    "## Execute experiments on IBMQ\n",
    "\n",
    "Here, we execute three types of experiments. First one is the  job run on simulator to calculate exact answer of the multi-programming circuit. The other two are the jobs executed on the real device. One is the base line, which is no scheduled, and the other one is the circuit executed with alap schedule policy. "
   ]
  },
  {
   "cell_type": "code",
   "execution_count": 5,
   "metadata": {},
   "outputs": [],
   "source": [
    "instruction_durations = InstructionDurations.from_backend(backend)"
   ]
  },
  {
   "cell_type": "code",
   "execution_count": 6,
   "metadata": {},
   "outputs": [],
   "source": [
    "job_sim, job, job_alap = execute_alap(\n",
    "                    size=benchmark_size, \n",
    "                    names=benchmark_sets, \n",
    "                    backend=backend, \n",
    "                    simulator=simulator,\n",
    "                    shots = shots, \n",
    "                    nseed=1,\n",
    "                    save_path=job_save_path, \n",
    "                    instruction_durations=instruction_durations,\n",
    "                    )"
   ]
  },
  {
   "cell_type": "code",
   "execution_count": 7,
   "metadata": {},
   "outputs": [
    {
     "name": "stdout",
     "output_type": "stream",
     "text": [
      "<qiskit.providers.ibmq.job.ibmqjob.IBMQJob object at 0x7fbf2ddb5ca0>\n",
      "[<qiskit.providers.ibmq.job.ibmqjob.IBMQJob object at 0x7fbf2ddb5d90>]\n",
      "[<qiskit.providers.ibmq.job.ibmqjob.IBMQJob object at 0x7fbf2dda8400>]\n"
     ]
    }
   ],
   "source": [
    "# Show the each job\n",
    "print(job_sim)\n",
    "print(job)\n",
    "print(job_alap)"
   ]
  },
  {
   "cell_type": "markdown",
   "metadata": {},
   "source": [
    "## Get the results"
   ]
  },
  {
   "cell_type": "code",
   "execution_count": 8,
   "metadata": {},
   "outputs": [],
   "source": [
    "# define path to the file to save results\n",
    "result_save_path = str(os.getcwd()) + \"/results/from20201211/\" + file_name"
   ]
  },
  {
   "cell_type": "code",
   "execution_count": 9,
   "metadata": {},
   "outputs": [],
   "source": [
    "result_sim, result_list, result_alap_list, counts_sim, count_list, counts_alap_list, qc_names = result_alap(backend, simulator, job_save_path, result_save_path)"
   ]
  },
  {
   "cell_type": "code",
   "execution_count": 10,
   "metadata": {},
   "outputs": [
    {
     "name": "stdout",
     "output_type": "stream",
     "text": [
      "# Simulator\n",
      "Result(backend_name='ibmq_qasm_simulator', backend_version='0.7.0', qobj_id='ea75d942-92c6-4729-b292-8136a408e7ab', job_id='5fd57ed9d802bc0019c3f41e', success=True, results=[ExperimentResult(shots=8192, success=True, meas_level=MeasLevel.CLASSIFIED, data=ExperimentResultData(counts={'0x10': 2026, '0x1f': 2080, '0x30': 2066, '0x3f': 2020}), header=QobjExperimentHeader(clbit_labels=[['c0', 0], ['c0', 1], ['c0', 2], ['c0', 3], ['c1', 0], ['c1', 1]], creg_sizes=[['c0', 4], ['c1', 2]], global_phase=0.0, memory_slots=6, n_qubits=6, name='circuit8', qreg_sizes=[['q0', 4], ['q1', 2]], qubit_labels=[['q0', 0], ['q0', 1], ['q0', 2], ['q0', 3], ['q1', 0], ['q1', 1]]), status=DONE, metadata={'fusion': {'enabled': False}, 'measure_sampling': True, 'method': 'stabilizer', 'parallel_shots': 1, 'parallel_state_update': 16}, seed_simulator=3953679415, time_taken=0.02626088)], date=2020-12-13 11:39:25.482719+09:00, status=COMPLETED, status=QobjHeader(backend_name='ibmq_qasm_simulator', backend_version='0.1.547'), metadata={'max_memory_mb': 257936, 'omp_enabled': True, 'parallel_experiments': 1, 'time_taken': 0.026398613}, time_taken=0.026398613, client_version={'qiskit': '0.23.1'})\n",
      "\n",
      "# No scheduling\n",
      "Result(backend_name='ibmq_paris', backend_version='1.6.6', qobj_id='657d15ce-c081-4a5b-8f25-ed7f90da2be4', job_id='5fd57edc4266b8001903f6e3', success=True, results=[ExperimentResult(shots=8192, success=True, meas_level=2, data=ExperimentResultData(counts={'0x0': 272, '0x1': 4, '0x10': 1841, '0x11': 22, '0x12': 11, '0x13': 35, '0x14': 7, '0x16': 4, '0x17': 34, '0x18': 20, '0x19': 2, '0x1a': 3, '0x1b': 31, '0x1c': 66, '0x1d': 46, '0x1e': 99, '0x1f': 1545, '0x20': 272, '0x21': 1, '0x22': 1, '0x23': 8, '0x24': 1, '0x26': 1, '0x27': 5, '0x28': 4, '0x2a': 1, '0x2b': 2, '0x2c': 2, '0x2d': 5, '0x2e': 6, '0x2f': 80, '0x3': 7, '0x30': 1710, '0x31': 29, '0x32': 11, '0x33': 37, '0x34': 12, '0x36': 2, '0x37': 35, '0x38': 30, '0x39': 2, '0x3a': 3, '0x3b': 22, '0x3c': 56, '0x3d': 45, '0x3e': 101, '0x3f': 1542, '0x4': 1, '0x5': 1, '0x6': 2, '0x7': 10, '0x8': 5, '0xb': 1, '0xc': 4, '0xd': 3, '0xe': 7, '0xf': 83}), header=QobjExperimentHeader(clbit_labels=[['c2', 0], ['c2', 1], ['c2', 2], ['c2', 3], ['c3', 0], ['c3', 1]], creg_sizes=[['c2', 4], ['c3', 2]], global_phase=0.0, memory_slots=6, n_qubits=27, name='circuit110', qreg_sizes=[['q', 27]], qubit_labels=[['q', 0], ['q', 1], ['q', 2], ['q', 3], ['q', 4], ['q', 5], ['q', 6], ['q', 7], ['q', 8], ['q', 9], ['q', 10], ['q', 11], ['q', 12], ['q', 13], ['q', 14], ['q', 15], ['q', 16], ['q', 17], ['q', 18], ['q', 19], ['q', 20], ['q', 21], ['q', 22], ['q', 23], ['q', 24], ['q', 25], ['q', 26]]), memory=False)], date=2020-12-13 11:41:36+09:00, status=Successful completion, status=QobjHeader(backend_name='ibmq_paris', backend_version='1.6.6'), time_taken=20.58138394355774, execution_id='7e9adf1e-3cec-11eb-ad88-b02628ea1e00', client_version={'qiskit': '0.23.1'})\n",
      "\n",
      "# ALAP scheduling policy\n",
      "Result(backend_name='ibmq_paris', backend_version='1.6.6', qobj_id='6f98131e-8caa-4248-9f43-8d521c44f2c7', job_id='5fd57ede944188001aa618fe', success=True, results=[ExperimentResult(shots=8192, success=True, meas_level=2, data=ExperimentResultData(counts={'0x0': 295, '0x1': 5, '0x10': 1814, '0x11': 25, '0x12': 11, '0x13': 37, '0x14': 9, '0x15': 2, '0x16': 2, '0x17': 35, '0x18': 15, '0x1a': 3, '0x1b': 34, '0x1c': 56, '0x1d': 52, '0x1e': 94, '0x1f': 1623, '0x2': 3, '0x20': 284, '0x21': 4, '0x22': 1, '0x23': 6, '0x24': 4, '0x26': 1, '0x27': 9, '0x28': 1, '0x2b': 2, '0x2c': 4, '0x2d': 1, '0x2e': 5, '0x2f': 98, '0x3': 5, '0x30': 1683, '0x31': 26, '0x32': 13, '0x33': 49, '0x34': 10, '0x35': 1, '0x36': 3, '0x37': 29, '0x38': 26, '0x39': 1, '0x3a': 1, '0x3b': 29, '0x3c': 56, '0x3d': 34, '0x3e': 93, '0x3f': 1495, '0x6': 1, '0x7': 3, '0x8': 3, '0x9': 1, '0xc': 3, '0xd': 4, '0xe': 3, '0xf': 85}), header=QobjExperimentHeader(clbit_labels=[['c4', 0], ['c4', 1], ['c4', 2], ['c4', 3], ['c5', 0], ['c5', 1]], creg_sizes=[['c4', 4], ['c5', 2]], global_phase=0.0, memory_slots=6, n_qubits=27, name='circuit143', qreg_sizes=[['q', 27]], qubit_labels=[['q', 0], ['q', 1], ['q', 2], ['q', 3], ['q', 4], ['q', 5], ['q', 6], ['q', 7], ['q', 8], ['q', 9], ['q', 10], ['q', 11], ['q', 12], ['q', 13], ['q', 14], ['q', 15], ['q', 16], ['q', 17], ['q', 18], ['q', 19], ['q', 20], ['q', 21], ['q', 22], ['q', 23], ['q', 24], ['q', 25], ['q', 26]]), memory=False)], date=2020-12-13 11:42:48+09:00, status=Successful completion, status=QobjHeader(backend_name='ibmq_paris', backend_version='1.6.6'), time_taken=21.677836418151855, execution_id='bb4856bc-3cec-11eb-8e0d-b02628ea1e00', client_version={'qiskit': '0.23.1'})\n"
     ]
    }
   ],
   "source": [
    "# Show the results\n",
    "print(\"# Simulator\")\n",
    "print(result_sim)\n",
    "\n",
    "print(\"\\n# No scheduling\")\n",
    "for _result in result_list: \n",
    "    print(_result)\n",
    "\n",
    "print(\"\\n# ALAP scheduling policy\")\n",
    "for _result_alap in result_alap_list: \n",
    "    print(_result_alap)"
   ]
  },
  {
   "cell_type": "code",
   "execution_count": 11,
   "metadata": {
    "lines_to_next_cell": 0
   },
   "outputs": [
    {
     "name": "stdout",
     "output_type": "stream",
     "text": [
      "# Simulator\n",
      "{'01 0000': 2026, '01 1111': 2080, '11 0000': 2066, '11 1111': 2020}\n",
      "\n",
      "# No scheduling\n",
      "{'00 0000': 272, '00 0001': 4, '01 0000': 1841, '01 0001': 22, '01 0010': 11, '01 0011': 35, '01 0100': 7, '01 0110': 4, '01 0111': 34, '01 1000': 20, '01 1001': 2, '01 1010': 3, '01 1011': 31, '01 1100': 66, '01 1101': 46, '01 1110': 99, '01 1111': 1545, '10 0000': 272, '10 0001': 1, '10 0010': 1, '10 0011': 8, '10 0100': 1, '10 0110': 1, '10 0111': 5, '10 1000': 4, '10 1010': 1, '10 1011': 2, '10 1100': 2, '10 1101': 5, '10 1110': 6, '10 1111': 80, '00 0011': 7, '11 0000': 1710, '11 0001': 29, '11 0010': 11, '11 0011': 37, '11 0100': 12, '11 0110': 2, '11 0111': 35, '11 1000': 30, '11 1001': 2, '11 1010': 3, '11 1011': 22, '11 1100': 56, '11 1101': 45, '11 1110': 101, '11 1111': 1542, '00 0100': 1, '00 0101': 1, '00 0110': 2, '00 0111': 10, '00 1000': 5, '00 1011': 1, '00 1100': 4, '00 1101': 3, '00 1110': 7, '00 1111': 83}\n",
      "\n",
      "# ALAP scheduling policy\n",
      "{'00 0000': 295, '00 0001': 5, '01 0000': 1814, '01 0001': 25, '01 0010': 11, '01 0011': 37, '01 0100': 9, '01 0101': 2, '01 0110': 2, '01 0111': 35, '01 1000': 15, '01 1010': 3, '01 1011': 34, '01 1100': 56, '01 1101': 52, '01 1110': 94, '01 1111': 1623, '00 0010': 3, '10 0000': 284, '10 0001': 4, '10 0010': 1, '10 0011': 6, '10 0100': 4, '10 0110': 1, '10 0111': 9, '10 1000': 1, '10 1011': 2, '10 1100': 4, '10 1101': 1, '10 1110': 5, '10 1111': 98, '00 0011': 5, '11 0000': 1683, '11 0001': 26, '11 0010': 13, '11 0011': 49, '11 0100': 10, '11 0101': 1, '11 0110': 3, '11 0111': 29, '11 1000': 26, '11 1001': 1, '11 1010': 1, '11 1011': 29, '11 1100': 56, '11 1101': 34, '11 1110': 93, '11 1111': 1495, '00 0110': 1, '00 0111': 3, '00 1000': 3, '00 1001': 1, '00 1100': 3, '00 1101': 4, '00 1110': 3, '00 1111': 85}\n"
     ]
    }
   ],
   "source": [
    "# Show the counts\n",
    "print(\"# Simulator\")\n",
    "print(counts_sim)\n",
    "\n",
    "print(\"\\n# No scheduling\")\n",
    "for _count in count_list: \n",
    "    print(_count)\n",
    "\n",
    "print(\"\\n# ALAP scheduling policy\")\n",
    "for _count_alap in counts_alap_list: \n",
    "    print(_count_alap)"
   ]
  },
  {
   "cell_type": "code",
   "execution_count": null,
   "metadata": {
    "lines_to_next_cell": 2
   },
   "outputs": [],
   "source": []
  }
 ],
 "metadata": {
  "jupytext": {
   "text_representation": {
    "extension": ".py",
    "format_name": "light",
    "format_version": "1.5",
    "jupytext_version": "1.7.1"
   }
  },
  "kernelspec": {
   "display_name": "Python 3",
   "language": "python",
   "name": "python3"
  },
  "language_info": {
   "codemirror_mode": {
    "name": "ipython",
    "version": 3
   },
   "file_extension": ".py",
   "mimetype": "text/x-python",
   "name": "python",
   "nbconvert_exporter": "python",
   "pygments_lexer": "ipython3",
   "version": "3.8.3"
  }
 },
 "nbformat": 4,
 "nbformat_minor": 2
}
