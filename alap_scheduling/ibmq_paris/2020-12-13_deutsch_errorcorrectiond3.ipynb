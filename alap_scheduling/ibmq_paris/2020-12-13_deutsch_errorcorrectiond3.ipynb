{
 "cells": [
  {
   "cell_type": "markdown",
   "metadata": {},
   "source": [
    "# ALAP Scheduling \n",
    "### Deutsch (2-qubits, 1CX) + Error Correctiond3 (5-qubits, 49CX)\n",
    "\n",
    "2020-12-13"
   ]
  },
  {
   "cell_type": "code",
   "execution_count": 1,
   "metadata": {},
   "outputs": [],
   "source": [
    "# import python tools\n",
    "import os\n",
    "\n",
    "# import qiskit tool\n",
    "from qiskit.transpiler import InstructionDurations\n",
    "\n",
    "# import experimental tools\n",
    "from experiments.alap_scheduling import execute_alap, result_alap\n",
    "from experiments.utils import get_IBM_backend"
   ]
  },
  {
   "cell_type": "markdown",
   "metadata": {},
   "source": [
    "## Experimental Settings"
   ]
  },
  {
   "cell_type": "code",
   "execution_count": 2,
   "metadata": {},
   "outputs": [],
   "source": [
    "date = '2020-12-13'\n",
    "\n",
    "# Choose benchmark circuits from QASMBench\n",
    "benchmark_sets = ['deutsch_n2', 'error_correctiond3_n5']\n",
    "benchmark_size = 'small'"
   ]
  },
  {
   "cell_type": "code",
   "execution_count": 3,
   "metadata": {},
   "outputs": [
    {
     "name": "stderr",
     "output_type": "stream",
     "text": [
      "/Users/Yasuhiro/.local/share/virtualenvs/experiments-VWP9UmJy/lib/python3.8/site-packages/qiskit/providers/ibmq/ibmqfactory.py:192: UserWarning: Timestamps in IBMQ backend properties, jobs, and job results are all now in local time instead of UTC.\n",
      "  warnings.warn('Timestamps in IBMQ backend properties, jobs, and job results '\n"
     ]
    }
   ],
   "source": [
    "# Define backend device\n",
    "backend = get_IBM_backend('ibmq_paris')\n",
    "simulator = get_IBM_backend('ibmq_qasm_simulator')\n",
    "\n",
    "# Number of trials\n",
    "shots = 8192\n",
    "\n",
    "# Number of experimental seeds\n",
    "nseed = 1"
   ]
  },
  {
   "cell_type": "code",
   "execution_count": 4,
   "metadata": {},
   "outputs": [],
   "source": [
    "# define path to the file to save job data\n",
    "file_name = date + '_'\n",
    "sorted_benchmarks = sorted(benchmark_sets)\n",
    "for _name in sorted_benchmarks: \n",
    "    file_name += _name\n",
    "    if _name == sorted_benchmarks[-1]:\n",
    "        break\n",
    "    file_name += '+'\n",
    "job_save_path = str(os.getcwd()) + \"/job_id/from20201211/\" + file_name"
   ]
  },
  {
   "cell_type": "markdown",
   "metadata": {},
   "source": [
    "## Execute experiments on IBMQ\n",
    "\n",
    "Here, we execute three types of experiments. First one is the  job run on simulator to calculate exact answer of the multi-programming circuit. The other two are the jobs executed on the real device. One is the base line, which is no scheduled, and the other one is the circuit executed with alap schedule policy. "
   ]
  },
  {
   "cell_type": "code",
   "execution_count": 5,
   "metadata": {},
   "outputs": [],
   "source": [
    "instruction_durations = InstructionDurations.from_backend(backend)"
   ]
  },
  {
   "cell_type": "code",
   "execution_count": 6,
   "metadata": {},
   "outputs": [
    {
     "name": "stdout",
     "output_type": "stream",
     "text": [
      "prog: Qubit(QuantumRegister(2, 'q70'), 0) , hw: 23\n",
      "prog: Qubit(QuantumRegister(2, 'q70'), 1) , hw: 24\n",
      "prog: Qubit(QuantumRegister(5, 'q71'), 0) , hw: 22\n",
      "prog: Qubit(QuantumRegister(5, 'q71'), 1) , hw: 16\n",
      "prog: Qubit(QuantumRegister(5, 'q71'), 2) , hw: 19\n",
      "prog: Qubit(QuantumRegister(5, 'q71'), 3) , hw: 14\n",
      "prog: Qubit(QuantumRegister(5, 'q71'), 4) , hw: 20\n",
      "prog: Qubit(QuantumRegister(2, 'q223'), 0) , hw: 23\n",
      "prog: Qubit(QuantumRegister(2, 'q223'), 1) , hw: 24\n",
      "prog: Qubit(QuantumRegister(5, 'q224'), 0) , hw: 22\n",
      "prog: Qubit(QuantumRegister(5, 'q224'), 1) , hw: 16\n",
      "prog: Qubit(QuantumRegister(5, 'q224'), 2) , hw: 19\n",
      "prog: Qubit(QuantumRegister(5, 'q224'), 3) , hw: 14\n",
      "prog: Qubit(QuantumRegister(5, 'q224'), 4) , hw: 20\n"
     ]
    }
   ],
   "source": [
    "job_sim, job, job_alap = execute_alap(\n",
    "                    size=benchmark_size, \n",
    "                    names=benchmark_sets, \n",
    "                    backend=backend, \n",
    "                    simulator=simulator,\n",
    "                    shots = shots, \n",
    "                    nseed=1,\n",
    "                    save_path=job_save_path, \n",
    "                    instruction_durations=instruction_durations,\n",
    "                    )"
   ]
  },
  {
   "cell_type": "code",
   "execution_count": 7,
   "metadata": {},
   "outputs": [
    {
     "name": "stdout",
     "output_type": "stream",
     "text": [
      "<qiskit.providers.ibmq.job.ibmqjob.IBMQJob object at 0x7fe6b5217550>\n",
      "[<qiskit.providers.ibmq.job.ibmqjob.IBMQJob object at 0x7fe6b4e4fe20>]\n",
      "[<qiskit.providers.ibmq.job.ibmqjob.IBMQJob object at 0x7fe6b5247d00>]\n"
     ]
    }
   ],
   "source": [
    "# Show the each job\n",
    "print(job_sim)\n",
    "print(job)\n",
    "print(job_alap)"
   ]
  },
  {
   "cell_type": "markdown",
   "metadata": {},
   "source": [
    "## Get the results"
   ]
  },
  {
   "cell_type": "code",
   "execution_count": 8,
   "metadata": {},
   "outputs": [],
   "source": [
    "# define path to the file to save results\n",
    "result_save_path = str(os.getcwd()) + \"/results/from20201211/\" + file_name"
   ]
  },
  {
   "cell_type": "code",
   "execution_count": 9,
   "metadata": {},
   "outputs": [],
   "source": [
    "result_sim, result_list, result_alap_list, counts_sim, count_list, counts_alap_list, qc_names = result_alap(backend, simulator, job_save_path, result_save_path)"
   ]
  },
  {
   "cell_type": "code",
   "execution_count": 10,
   "metadata": {},
   "outputs": [
    {
     "name": "stdout",
     "output_type": "stream",
     "text": [
      "# Simulator\n",
      "Result(backend_name='ibmq_qasm_simulator', backend_version='0.7.0', qobj_id='0356d1c3-753a-455c-9a6a-64ed59e1d972', job_id='5fd58188afed5900190262b1', success=True, results=[ExperimentResult(shots=8192, success=True, meas_level=MeasLevel.CLASSIFIED, data=ExperimentResultData(counts={'0x1': 275, '0x15': 216, '0x17': 269, '0x19': 258, '0x1b': 257, '0x25': 276, '0x27': 242, '0x29': 260, '0x2b': 258, '0x3': 252, '0x31': 268, '0x33': 256, '0x3d': 290, '0x3f': 229, '0x45': 218, '0x47': 262, '0x49': 262, '0x4b': 234, '0x51': 239, '0x53': 233, '0x5d': 239, '0x5f': 239, '0x61': 262, '0x63': 303, '0x6d': 258, '0x6f': 258, '0x75': 284, '0x77': 253, '0x79': 248, '0x7b': 263, '0xd': 269, '0xf': 262}), header=QobjExperimentHeader(clbit_labels=[['c0', 0], ['c0', 1], ['c1', 0], ['c1', 1], ['c1', 2], ['c1', 3], ['c1', 4]], creg_sizes=[['c0', 2], ['c1', 5]], global_phase=0.0, memory_slots=7, n_qubits=7, name='circuit8', qreg_sizes=[['q0', 2], ['q1', 5]], qubit_labels=[['q0', 0], ['q0', 1], ['q1', 0], ['q1', 1], ['q1', 2], ['q1', 3], ['q1', 4]]), status=DONE, metadata={'fusion': {'applied': False, 'enabled': True, 'method': 'unitary', 'threshold': 14}, 'measure_sampling': True, 'method': 'statevector', 'parallel_shots': 1, 'parallel_state_update': 16}, seed_simulator=888523808, time_taken=0.019534155)], date=2020-12-13 11:50:53.545636+09:00, status=COMPLETED, status=QobjHeader(backend_name='ibmq_qasm_simulator', backend_version='0.1.547'), metadata={'max_memory_mb': 257936, 'omp_enabled': True, 'parallel_experiments': 1, 'time_taken': 0.019915264000000002}, time_taken=0.019915264000000002, client_version={'qiskit': '0.23.1'})\n",
      "\n",
      "# No scheduling\n",
      "Result(backend_name='ibmq_paris', backend_version='1.6.6', qobj_id='2f92d9ba-224a-4974-addf-424e3e867928', job_id='5fd5818c4266b8001903f707', success=True, results=[ExperimentResult(shots=8192, success=True, meas_level=2, data=ExperimentResultData(counts={'0x0': 11, '0x1': 252, '0x10': 5, '0x11': 213, '0x12': 5, '0x13': 196, '0x14': 6, '0x15': 138, '0x16': 7, '0x17': 120, '0x18': 4, '0x19': 184, '0x1a': 9, '0x1b': 147, '0x1c': 5, '0x1d': 100, '0x1e': 1, '0x1f': 76, '0x2': 13, '0x20': 10, '0x21': 159, '0x22': 3, '0x23': 167, '0x24': 5, '0x25': 105, '0x26': 7, '0x27': 108, '0x28': 6, '0x29': 111, '0x2a': 6, '0x2b': 114, '0x2c': 3, '0x2d': 81, '0x2f': 74, '0x3': 266, '0x30': 9, '0x31': 132, '0x32': 3, '0x33': 128, '0x34': 1, '0x35': 65, '0x36': 4, '0x37': 101, '0x38': 7, '0x39': 103, '0x3a': 3, '0x3b': 100, '0x3c': 2, '0x3d': 95, '0x3e': 3, '0x3f': 78, '0x4': 7, '0x40': 10, '0x41': 193, '0x42': 9, '0x43': 206, '0x44': 5, '0x45': 136, '0x46': 5, '0x47': 124, '0x48': 9, '0x49': 131, '0x4a': 6, '0x4b': 128, '0x4c': 6, '0x4d': 69, '0x4e': 6, '0x4f': 69, '0x5': 153, '0x50': 8, '0x51': 222, '0x52': 8, '0x53': 176, '0x54': 9, '0x55': 99, '0x56': 9, '0x57': 103, '0x58': 9, '0x59': 136, '0x5a': 2, '0x5b': 137, '0x5c': 5, '0x5d': 85, '0x5e': 5, '0x5f': 85, '0x6': 3, '0x60': 5, '0x61': 144, '0x62': 8, '0x63': 145, '0x64': 1, '0x65': 109, '0x66': 4, '0x67': 101, '0x68': 4, '0x69': 96, '0x6a': 4, '0x6b': 105, '0x6c': 4, '0x6d': 59, '0x6e': 2, '0x6f': 65, '0x7': 168, '0x70': 4, '0x71': 142, '0x72': 6, '0x73': 131, '0x74': 2, '0x75': 69, '0x76': 6, '0x77': 75, '0x78': 5, '0x79': 111, '0x7a': 5, '0x7b': 102, '0x7c': 4, '0x7d': 85, '0x7e': 1, '0x7f': 59, '0x8': 6, '0x9': 135, '0xa': 4, '0xb': 140, '0xc': 3, '0xd': 73, '0xe': 3, '0xf': 73}), header=QobjExperimentHeader(clbit_labels=[['c2', 0], ['c2', 1], ['c3', 0], ['c3', 1], ['c3', 2], ['c3', 3], ['c3', 4]], creg_sizes=[['c2', 2], ['c3', 5]], global_phase=-0.7853981633974485, memory_slots=7, n_qubits=27, name='circuit290', qreg_sizes=[['q', 27]], qubit_labels=[['q', 0], ['q', 1], ['q', 2], ['q', 3], ['q', 4], ['q', 5], ['q', 6], ['q', 7], ['q', 8], ['q', 9], ['q', 10], ['q', 11], ['q', 12], ['q', 13], ['q', 14], ['q', 15], ['q', 16], ['q', 17], ['q', 18], ['q', 19], ['q', 20], ['q', 21], ['q', 22], ['q', 23], ['q', 24], ['q', 25], ['q', 26]]), memory=False)], date=2020-12-13 11:56:28+09:00, status=Successful completion, status=QobjHeader(backend_name='ibmq_paris', backend_version='1.6.6'), time_taken=21.595139980316162, execution_id='b275e1ce-3cee-11eb-9b10-b02628ea1e00', client_version={'qiskit': '0.23.1'})\n",
      "\n",
      "# ALAP scheduling policy\n",
      "Result(backend_name='ibmq_paris', backend_version='1.6.6', qobj_id='a3549767-e4ff-4bc1-a3c1-8a57141ec85d', job_id='5fd5818e1d6c74001a0ee845', success=True, results=[ExperimentResult(shots=8192, success=True, meas_level=2, data=ExperimentResultData(counts={'0x0': 12, '0x1': 235, '0x10': 8, '0x11': 195, '0x12': 9, '0x13': 168, '0x14': 8, '0x15': 110, '0x16': 2, '0x17': 116, '0x18': 7, '0x19': 181, '0x1a': 7, '0x1b': 150, '0x1c': 4, '0x1d': 79, '0x1e': 1, '0x1f': 80, '0x2': 13, '0x20': 6, '0x21': 123, '0x22': 2, '0x23': 125, '0x24': 5, '0x25': 93, '0x26': 2, '0x27': 77, '0x28': 8, '0x29': 132, '0x2a': 3, '0x2b': 103, '0x2c': 2, '0x2d': 74, '0x2e': 5, '0x2f': 74, '0x3': 233, '0x30': 6, '0x31': 143, '0x32': 9, '0x33': 134, '0x35': 72, '0x36': 3, '0x37': 80, '0x38': 4, '0x39': 94, '0x3a': 2, '0x3b': 103, '0x3c': 4, '0x3d': 99, '0x3e': 1, '0x3f': 117, '0x4': 2, '0x40': 7, '0x41': 201, '0x42': 7, '0x43': 187, '0x44': 10, '0x45': 161, '0x46': 11, '0x47': 154, '0x48': 9, '0x49': 169, '0x4a': 7, '0x4b': 170, '0x4c': 6, '0x4d': 95, '0x4e': 6, '0x4f': 98, '0x5': 129, '0x50': 9, '0x51': 223, '0x52': 11, '0x53': 207, '0x54': 3, '0x55': 109, '0x56': 2, '0x57': 120, '0x58': 3, '0x59': 189, '0x5a': 9, '0x5b': 154, '0x5c': 8, '0x5d': 92, '0x5e': 10, '0x5f': 108, '0x6': 5, '0x60': 8, '0x61': 119, '0x62': 3, '0x63': 129, '0x64': 3, '0x65': 81, '0x66': 6, '0x67': 72, '0x68': 5, '0x69': 100, '0x6a': 2, '0x6b': 71, '0x6c': 3, '0x6d': 65, '0x6e': 6, '0x6f': 51, '0x7': 127, '0x70': 2, '0x71': 94, '0x72': 4, '0x73': 111, '0x74': 5, '0x75': 96, '0x76': 4, '0x77': 100, '0x78': 7, '0x79': 127, '0x7a': 3, '0x7b': 108, '0x7c': 5, '0x7d': 70, '0x7e': 4, '0x7f': 57, '0x8': 9, '0x9': 171, '0xa': 6, '0xb': 121, '0xc': 3, '0xd': 111, '0xe': 6, '0xf': 103}), header=QobjExperimentHeader(clbit_labels=[['c4', 0], ['c4', 1], ['c5', 0], ['c5', 1], ['c5', 2], ['c5', 3], ['c5', 4]], creg_sizes=[['c4', 2], ['c5', 5]], global_phase=0.0, memory_slots=7, n_qubits=27, name='circuit858', qreg_sizes=[['q', 27]], qubit_labels=[['q', 0], ['q', 1], ['q', 2], ['q', 3], ['q', 4], ['q', 5], ['q', 6], ['q', 7], ['q', 8], ['q', 9], ['q', 10], ['q', 11], ['q', 12], ['q', 13], ['q', 14], ['q', 15], ['q', 16], ['q', 17], ['q', 18], ['q', 19], ['q', 20], ['q', 21], ['q', 22], ['q', 23], ['q', 24], ['q', 25], ['q', 26]]), memory=False)], date=2020-12-13 11:57:17+09:00, status=Successful completion, status=QobjHeader(backend_name='ibmq_paris', backend_version='1.6.6'), time_taken=21.992493391036987, execution_id='cfa941d2-3cee-11eb-8a4e-b02628ea1e00', client_version={'qiskit': '0.23.1'})\n"
     ]
    }
   ],
   "source": [
    "# Show the results\n",
    "print(\"# Simulator\")\n",
    "print(result_sim)\n",
    "\n",
    "print(\"\\n# No scheduling\")\n",
    "for _result in result_list: \n",
    "    print(_result)\n",
    "\n",
    "print(\"\\n# ALAP scheduling policy\")\n",
    "for _result_alap in result_alap_list: \n",
    "    print(_result_alap)"
   ]
  },
  {
   "cell_type": "code",
   "execution_count": 11,
   "metadata": {
    "lines_to_next_cell": 0
   },
   "outputs": [
    {
     "name": "stdout",
     "output_type": "stream",
     "text": [
      "# Simulator\n",
      "{'00000 01': 275, '00101 01': 216, '00101 11': 269, '00110 01': 258, '00110 11': 257, '01001 01': 276, '01001 11': 242, '01010 01': 260, '01010 11': 258, '00000 11': 252, '01100 01': 268, '01100 11': 256, '01111 01': 290, '01111 11': 229, '10001 01': 218, '10001 11': 262, '10010 01': 262, '10010 11': 234, '10100 01': 239, '10100 11': 233, '10111 01': 239, '10111 11': 239, '11000 01': 262, '11000 11': 303, '11011 01': 258, '11011 11': 258, '11101 01': 284, '11101 11': 253, '11110 01': 248, '11110 11': 263, '00011 01': 269, '00011 11': 262}\n",
      "\n",
      "# No scheduling\n",
      "{'00000 00': 11, '00000 01': 252, '00100 00': 5, '00100 01': 213, '00100 10': 5, '00100 11': 196, '00101 00': 6, '00101 01': 138, '00101 10': 7, '00101 11': 120, '00110 00': 4, '00110 01': 184, '00110 10': 9, '00110 11': 147, '00111 00': 5, '00111 01': 100, '00111 10': 1, '00111 11': 76, '00000 10': 13, '01000 00': 10, '01000 01': 159, '01000 10': 3, '01000 11': 167, '01001 00': 5, '01001 01': 105, '01001 10': 7, '01001 11': 108, '01010 00': 6, '01010 01': 111, '01010 10': 6, '01010 11': 114, '01011 00': 3, '01011 01': 81, '01011 11': 74, '00000 11': 266, '01100 00': 9, '01100 01': 132, '01100 10': 3, '01100 11': 128, '01101 00': 1, '01101 01': 65, '01101 10': 4, '01101 11': 101, '01110 00': 7, '01110 01': 103, '01110 10': 3, '01110 11': 100, '01111 00': 2, '01111 01': 95, '01111 10': 3, '01111 11': 78, '00001 00': 7, '10000 00': 10, '10000 01': 193, '10000 10': 9, '10000 11': 206, '10001 00': 5, '10001 01': 136, '10001 10': 5, '10001 11': 124, '10010 00': 9, '10010 01': 131, '10010 10': 6, '10010 11': 128, '10011 00': 6, '10011 01': 69, '10011 10': 6, '10011 11': 69, '00001 01': 153, '10100 00': 8, '10100 01': 222, '10100 10': 8, '10100 11': 176, '10101 00': 9, '10101 01': 99, '10101 10': 9, '10101 11': 103, '10110 00': 9, '10110 01': 136, '10110 10': 2, '10110 11': 137, '10111 00': 5, '10111 01': 85, '10111 10': 5, '10111 11': 85, '00001 10': 3, '11000 00': 5, '11000 01': 144, '11000 10': 8, '11000 11': 145, '11001 00': 1, '11001 01': 109, '11001 10': 4, '11001 11': 101, '11010 00': 4, '11010 01': 96, '11010 10': 4, '11010 11': 105, '11011 00': 4, '11011 01': 59, '11011 10': 2, '11011 11': 65, '00001 11': 168, '11100 00': 4, '11100 01': 142, '11100 10': 6, '11100 11': 131, '11101 00': 2, '11101 01': 69, '11101 10': 6, '11101 11': 75, '11110 00': 5, '11110 01': 111, '11110 10': 5, '11110 11': 102, '11111 00': 4, '11111 01': 85, '11111 10': 1, '11111 11': 59, '00010 00': 6, '00010 01': 135, '00010 10': 4, '00010 11': 140, '00011 00': 3, '00011 01': 73, '00011 10': 3, '00011 11': 73}\n",
      "\n",
      "# ALAP scheduling policy\n",
      "{'00000 00': 12, '00000 01': 235, '00100 00': 8, '00100 01': 195, '00100 10': 9, '00100 11': 168, '00101 00': 8, '00101 01': 110, '00101 10': 2, '00101 11': 116, '00110 00': 7, '00110 01': 181, '00110 10': 7, '00110 11': 150, '00111 00': 4, '00111 01': 79, '00111 10': 1, '00111 11': 80, '00000 10': 13, '01000 00': 6, '01000 01': 123, '01000 10': 2, '01000 11': 125, '01001 00': 5, '01001 01': 93, '01001 10': 2, '01001 11': 77, '01010 00': 8, '01010 01': 132, '01010 10': 3, '01010 11': 103, '01011 00': 2, '01011 01': 74, '01011 10': 5, '01011 11': 74, '00000 11': 233, '01100 00': 6, '01100 01': 143, '01100 10': 9, '01100 11': 134, '01101 01': 72, '01101 10': 3, '01101 11': 80, '01110 00': 4, '01110 01': 94, '01110 10': 2, '01110 11': 103, '01111 00': 4, '01111 01': 99, '01111 10': 1, '01111 11': 117, '00001 00': 2, '10000 00': 7, '10000 01': 201, '10000 10': 7, '10000 11': 187, '10001 00': 10, '10001 01': 161, '10001 10': 11, '10001 11': 154, '10010 00': 9, '10010 01': 169, '10010 10': 7, '10010 11': 170, '10011 00': 6, '10011 01': 95, '10011 10': 6, '10011 11': 98, '00001 01': 129, '10100 00': 9, '10100 01': 223, '10100 10': 11, '10100 11': 207, '10101 00': 3, '10101 01': 109, '10101 10': 2, '10101 11': 120, '10110 00': 3, '10110 01': 189, '10110 10': 9, '10110 11': 154, '10111 00': 8, '10111 01': 92, '10111 10': 10, '10111 11': 108, '00001 10': 5, '11000 00': 8, '11000 01': 119, '11000 10': 3, '11000 11': 129, '11001 00': 3, '11001 01': 81, '11001 10': 6, '11001 11': 72, '11010 00': 5, '11010 01': 100, '11010 10': 2, '11010 11': 71, '11011 00': 3, '11011 01': 65, '11011 10': 6, '11011 11': 51, '00001 11': 127, '11100 00': 2, '11100 01': 94, '11100 10': 4, '11100 11': 111, '11101 00': 5, '11101 01': 96, '11101 10': 4, '11101 11': 100, '11110 00': 7, '11110 01': 127, '11110 10': 3, '11110 11': 108, '11111 00': 5, '11111 01': 70, '11111 10': 4, '11111 11': 57, '00010 00': 9, '00010 01': 171, '00010 10': 6, '00010 11': 121, '00011 00': 3, '00011 01': 111, '00011 10': 6, '00011 11': 103}\n"
     ]
    }
   ],
   "source": [
    "# Show the counts\n",
    "print(\"# Simulator\")\n",
    "print(counts_sim)\n",
    "\n",
    "print(\"\\n# No scheduling\")\n",
    "for _count in count_list: \n",
    "    print(_count)\n",
    "\n",
    "print(\"\\n# ALAP scheduling policy\")\n",
    "for _count_alap in counts_alap_list: \n",
    "    print(_count_alap)"
   ]
  },
  {
   "cell_type": "code",
   "execution_count": null,
   "metadata": {
    "lines_to_next_cell": 2
   },
   "outputs": [],
   "source": []
  },
  {
   "cell_type": "code",
   "execution_count": null,
   "metadata": {},
   "outputs": [],
   "source": []
  }
 ],
 "metadata": {
  "jupytext": {
   "text_representation": {
    "extension": ".py",
    "format_name": "light",
    "format_version": "1.5",
    "jupytext_version": "1.7.1"
   }
  },
  "kernelspec": {
   "display_name": "Python 3",
   "language": "python",
   "name": "python3"
  },
  "language_info": {
   "codemirror_mode": {
    "name": "ipython",
    "version": 3
   },
   "file_extension": ".py",
   "mimetype": "text/x-python",
   "name": "python",
   "nbconvert_exporter": "python",
   "pygments_lexer": "ipython3",
   "version": "3.8.3"
  }
 },
 "nbformat": 4,
 "nbformat_minor": 2
}
