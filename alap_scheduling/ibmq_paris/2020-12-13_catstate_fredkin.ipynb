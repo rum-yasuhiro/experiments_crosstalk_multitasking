{
 "cells": [
  {
   "cell_type": "markdown",
   "metadata": {},
   "source": [
    "# ALAP Scheduling \n",
    "### Cat state (4-qubits, 3 CX) + Fredkin (3-qubits, 8 CX)\n",
    "\n",
    "2020-12-13"
   ]
  },
  {
   "cell_type": "code",
   "execution_count": 2,
   "metadata": {},
   "outputs": [],
   "source": [
    "# import python tools\n",
    "import os\n",
    "\n",
    "# import qiskit tool\n",
    "from qiskit.transpiler import InstructionDurations\n",
    "\n",
    "# import experimental tools\n",
    "from experiments.alap_scheduling import execute_alap, result_alap\n",
    "from experiments.utils import get_IBM_backend"
   ]
  },
  {
   "cell_type": "markdown",
   "metadata": {},
   "source": [
    "## Experimental Settings"
   ]
  },
  {
   "cell_type": "code",
   "execution_count": 3,
   "metadata": {},
   "outputs": [],
   "source": [
    "date = '2020-12-13'\n",
    "\n",
    "# Choose benchmark circuits from QASMBench\n",
    "benchmark_sets = ['cat_state_n4', 'fredkin_n3']\n",
    "benchmark_size = 'small'"
   ]
  },
  {
   "cell_type": "code",
   "execution_count": 4,
   "metadata": {},
   "outputs": [
    {
     "name": "stderr",
     "output_type": "stream",
     "text": [
      "/Users/Yasuhiro/.local/share/virtualenvs/experiments-VWP9UmJy/lib/python3.8/site-packages/qiskit/providers/ibmq/ibmqfactory.py:192: UserWarning: Timestamps in IBMQ backend properties, jobs, and job results are all now in local time instead of UTC.\n",
      "  warnings.warn('Timestamps in IBMQ backend properties, jobs, and job results '\n"
     ]
    }
   ],
   "source": [
    "# Define backend device\n",
    "backend = get_IBM_backend('ibmq_paris')\n",
    "simulator = get_IBM_backend('ibmq_qasm_simulator')\n",
    "\n",
    "# Number of trials\n",
    "shots = 8192\n",
    "\n",
    "# Number of experimental seeds\n",
    "nseed = 1"
   ]
  },
  {
   "cell_type": "code",
   "execution_count": 5,
   "metadata": {},
   "outputs": [],
   "source": [
    "# define path to the file to save job data\n",
    "file_name = date + '_'\n",
    "sorted_benchmarks = sorted(benchmark_sets)\n",
    "for _name in sorted_benchmarks: \n",
    "    file_name += _name\n",
    "    if _name == sorted_benchmarks[-1]:\n",
    "        break\n",
    "    file_name += '+'\n",
    "job_save_path = str(os.getcwd()) + \"/job_id/from20201211/\" + file_name"
   ]
  },
  {
   "cell_type": "markdown",
   "metadata": {},
   "source": [
    "## Execute experiments on IBMQ\n",
    "\n",
    "Here, we execute three types of experiments. First one is the  job run on simulator to calculate exact answer of the multi-programming circuit. The other two are the jobs executed on the real device. One is the base line, which is no scheduled, and the other one is the circuit executed with alap schedule policy. "
   ]
  },
  {
   "cell_type": "code",
   "execution_count": 6,
   "metadata": {},
   "outputs": [],
   "source": [
    "instruction_durations = InstructionDurations.from_backend(backend)"
   ]
  },
  {
   "cell_type": "code",
   "execution_count": 7,
   "metadata": {},
   "outputs": [
    {
     "name": "stdout",
     "output_type": "stream",
     "text": [
      "prog: Qubit(QuantumRegister(4, 'q22'), 0) , hw: 23\n",
      "prog: Qubit(QuantumRegister(4, 'q22'), 1) , hw: 24\n",
      "prog: Qubit(QuantumRegister(4, 'q22'), 2) , hw: 25\n",
      "prog: Qubit(QuantumRegister(4, 'q22'), 3) , hw: 26\n",
      "prog: Qubit(QuantumRegister(3, 'q23'), 0) , hw: 20\n",
      "prog: Qubit(QuantumRegister(3, 'q23'), 1) , hw: 16\n",
      "prog: Qubit(QuantumRegister(3, 'q23'), 2) , hw: 19\n",
      "prog: Qubit(QuantumRegister(4, 'q74'), 0) , hw: 23\n",
      "prog: Qubit(QuantumRegister(4, 'q74'), 1) , hw: 24\n",
      "prog: Qubit(QuantumRegister(4, 'q74'), 2) , hw: 25\n",
      "prog: Qubit(QuantumRegister(4, 'q74'), 3) , hw: 26\n",
      "prog: Qubit(QuantumRegister(3, 'q75'), 0) , hw: 20\n",
      "prog: Qubit(QuantumRegister(3, 'q75'), 1) , hw: 16\n",
      "prog: Qubit(QuantumRegister(3, 'q75'), 2) , hw: 19\n"
     ]
    }
   ],
   "source": [
    "job_sim, job, job_alap = execute_alap(\n",
    "                    size=benchmark_size, \n",
    "                    names=benchmark_sets, \n",
    "                    backend=backend, \n",
    "                    simulator=simulator,\n",
    "                    shots = shots, \n",
    "                    nseed=1,\n",
    "                    save_path=job_save_path, \n",
    "                    instruction_durations=instruction_durations,\n",
    "                    )"
   ]
  },
  {
   "cell_type": "code",
   "execution_count": 8,
   "metadata": {},
   "outputs": [
    {
     "name": "stdout",
     "output_type": "stream",
     "text": [
      "<qiskit.providers.ibmq.job.ibmqjob.IBMQJob object at 0x7f965bc50eb0>\n",
      "[<qiskit.providers.ibmq.job.ibmqjob.IBMQJob object at 0x7f965bcff9d0>]\n",
      "[<qiskit.providers.ibmq.job.ibmqjob.IBMQJob object at 0x7f965be4ee20>]\n"
     ]
    }
   ],
   "source": [
    "# Show the each job\n",
    "print(job_sim)\n",
    "print(job)\n",
    "print(job_alap)"
   ]
  },
  {
   "cell_type": "markdown",
   "metadata": {},
   "source": [
    "## Get the results"
   ]
  },
  {
   "cell_type": "code",
   "execution_count": 9,
   "metadata": {},
   "outputs": [],
   "source": [
    "# define path to the file to save results\n",
    "result_save_path = str(os.getcwd()) + \"/results/from20201211/\" + file_name"
   ]
  },
  {
   "cell_type": "code",
   "execution_count": 10,
   "metadata": {},
   "outputs": [],
   "source": [
    "result_sim, result_list, result_alap_list, counts_sim, count_list, counts_alap_list, qc_names = result_alap(backend, simulator, job_save_path, result_save_path)"
   ]
  },
  {
   "cell_type": "code",
   "execution_count": 11,
   "metadata": {},
   "outputs": [
    {
     "name": "stdout",
     "output_type": "stream",
     "text": [
      "# Simulator\n",
      "Result(backend_name='ibmq_qasm_simulator', backend_version='0.7.0', qobj_id='07acb766-aaed-4cd5-8878-cb2b9fb87137', job_id='5fd57f15d802bc0019c3f421', success=True, results=[ExperimentResult(shots=8192, success=True, meas_level=MeasLevel.CLASSIFIED, data=ExperimentResultData(counts={'0x50': 4133, '0x5f': 4059}), header=QobjExperimentHeader(clbit_labels=[['c0', 0], ['c0', 1], ['c0', 2], ['c0', 3], ['c1', 0], ['c1', 1], ['c1', 2]], creg_sizes=[['c0', 4], ['c1', 3]], global_phase=0.0, memory_slots=7, n_qubits=7, name='circuit8', qreg_sizes=[['q0', 4], ['q1', 3]], qubit_labels=[['q0', 0], ['q0', 1], ['q0', 2], ['q0', 3], ['q1', 0], ['q1', 1], ['q1', 2]]), status=DONE, metadata={'fusion': {'applied': False, 'enabled': True, 'method': 'unitary', 'threshold': 14}, 'measure_sampling': True, 'method': 'statevector', 'parallel_shots': 1, 'parallel_state_update': 16}, seed_simulator=2168708928, time_taken=0.019730722000000003)], date=2020-12-13 11:40:25.451751+09:00, status=COMPLETED, status=QobjHeader(backend_name='ibmq_qasm_simulator', backend_version='0.1.547'), metadata={'max_memory_mb': 257936, 'omp_enabled': True, 'parallel_experiments': 1, 'time_taken': 0.019891963000000002}, time_taken=0.019891963000000002, client_version={'qiskit': '0.23.1'})\n",
      "\n",
      "# No scheduling\n",
      "Result(backend_name='ibmq_paris', backend_version='1.6.6', qobj_id='58809cf8-c20a-4c80-8f97-ee98f3dc1c6a', job_id='5fd57f184266b8001903f6e5', success=True, results=[ExperimentResult(shots=8192, success=True, meas_level=2, data=ExperimentResultData(counts={'0x0': 53, '0x10': 262, '0x11': 4, '0x12': 3, '0x13': 10, '0x14': 1, '0x17': 7, '0x18': 4, '0x1b': 11, '0x1c': 14, '0x1d': 10, '0x1e': 21, '0x1f': 278, '0x20': 108, '0x21': 1, '0x23': 6, '0x24': 1, '0x27': 1, '0x29': 1, '0x2a': 1, '0x2c': 1, '0x2e': 4, '0x2f': 67, '0x30': 351, '0x31': 9, '0x32': 2, '0x33': 17, '0x34': 5, '0x36': 1, '0x37': 8, '0x38': 7, '0x39': 1, '0x3a': 2, '0x3b': 13, '0x3c': 11, '0x3d': 9, '0x3e': 28, '0x3f': 374, '0x40': 143, '0x41': 3, '0x43': 9, '0x44': 2, '0x46': 1, '0x47': 1, '0x4b': 4, '0x4c': 5, '0x4d': 1, '0x4e': 13, '0x4f': 140, '0x50': 2541, '0x51': 49, '0x52': 17, '0x53': 80, '0x54': 27, '0x56': 6, '0x57': 58, '0x58': 23, '0x59': 5, '0x5a': 7, '0x5b': 73, '0x5c': 85, '0x5d': 54, '0x5e': 214, '0x5f': 2444, '0x6': 1, '0x60': 41, '0x61': 1, '0x64': 1, '0x67': 2, '0x68': 2, '0x6b': 4, '0x6c': 1, '0x6d': 2, '0x6e': 4, '0x6f': 43, '0x7': 1, '0x70': 145, '0x71': 3, '0x72': 1, '0x73': 2, '0x77': 6, '0x78': 3, '0x7b': 6, '0x7c': 9, '0x7d': 1, '0x7e': 22, '0x7f': 128, '0x8': 1, '0xc': 2, '0xd': 1, '0xf': 47}), header=QobjExperimentHeader(clbit_labels=[['c2', 0], ['c2', 1], ['c2', 2], ['c2', 3], ['c3', 0], ['c3', 1], ['c3', 2]], creg_sizes=[['c2', 4], ['c3', 3]], global_phase=-3.1415926535897936, memory_slots=7, n_qubits=27, name='circuit146', qreg_sizes=[['q', 27]], qubit_labels=[['q', 0], ['q', 1], ['q', 2], ['q', 3], ['q', 4], ['q', 5], ['q', 6], ['q', 7], ['q', 8], ['q', 9], ['q', 10], ['q', 11], ['q', 12], ['q', 13], ['q', 14], ['q', 15], ['q', 16], ['q', 17], ['q', 18], ['q', 19], ['q', 20], ['q', 21], ['q', 22], ['q', 23], ['q', 24], ['q', 25], ['q', 26]]), memory=False)], date=2020-12-13 11:46:24+09:00, status=Successful completion, status=QobjHeader(backend_name='ibmq_paris', backend_version='1.6.6'), time_taken=21.50574278831482, execution_id='4b203f66-3ced-11eb-a5b0-b02628ea1e00', client_version={'qiskit': '0.23.1'})\n",
      "\n",
      "# ALAP scheduling policy\n",
      "Result(backend_name='ibmq_paris', backend_version='1.6.6', qobj_id='25d2c931-d034-4f33-8948-207e1efc2ba8', job_id='5fd57f1aafed590019026290', success=True, results=[ExperimentResult(shots=8192, success=True, meas_level=2, data=ExperimentResultData(counts={'0x0': 65, '0x1': 2, '0x10': 222, '0x11': 5, '0x13': 16, '0x14': 4, '0x15': 1, '0x17': 1, '0x18': 4, '0x1a': 3, '0x1b': 12, '0x1c': 6, '0x1d': 4, '0x1e': 15, '0x1f': 206, '0x2': 1, '0x20': 62, '0x21': 1, '0x22': 1, '0x23': 1, '0x24': 1, '0x27': 1, '0x2c': 3, '0x2d': 2, '0x2e': 4, '0x2f': 38, '0x3': 3, '0x30': 255, '0x31': 4, '0x32': 1, '0x33': 6, '0x34': 5, '0x36': 1, '0x37': 3, '0x38': 2, '0x3a': 1, '0x3b': 10, '0x3c': 7, '0x3d': 5, '0x3e': 25, '0x3f': 249, '0x4': 1, '0x40': 139, '0x41': 4, '0x43': 6, '0x44': 1, '0x47': 4, '0x48': 3, '0x4b': 5, '0x4c': 3, '0x4d': 3, '0x4e': 10, '0x4f': 119, '0x50': 2776, '0x51': 67, '0x52': 10, '0x53': 107, '0x54': 32, '0x55': 3, '0x56': 2, '0x57': 64, '0x58': 26, '0x59': 3, '0x5a': 6, '0x5b': 124, '0x5c': 89, '0x5d': 64, '0x5e': 221, '0x5f': 2510, '0x6': 1, '0x60': 40, '0x61': 1, '0x63': 2, '0x64': 1, '0x67': 1, '0x6b': 1, '0x6c': 1, '0x6d': 1, '0x6e': 4, '0x6f': 38, '0x7': 1, '0x70': 162, '0x71': 5, '0x72': 2, '0x73': 4, '0x74': 2, '0x77': 1, '0x78': 3, '0x7a': 2, '0x7b': 6, '0x7c': 4, '0x7d': 2, '0x7e': 9, '0x7f': 164, '0x8': 2, '0xb': 3, '0xc': 1, '0xd': 1, '0xe': 8, '0xf': 59}), header=QobjExperimentHeader(clbit_labels=[['c4', 0], ['c4', 1], ['c4', 2], ['c4', 3], ['c5', 0], ['c5', 1], ['c5', 2]], creg_sizes=[['c4', 4], ['c5', 3]], global_phase=0.0, memory_slots=7, n_qubits=27, name='circuit259', qreg_sizes=[['q', 27]], qubit_labels=[['q', 0], ['q', 1], ['q', 2], ['q', 3], ['q', 4], ['q', 5], ['q', 6], ['q', 7], ['q', 8], ['q', 9], ['q', 10], ['q', 11], ['q', 12], ['q', 13], ['q', 14], ['q', 15], ['q', 16], ['q', 17], ['q', 18], ['q', 19], ['q', 20], ['q', 21], ['q', 22], ['q', 23], ['q', 24], ['q', 25], ['q', 26]]), memory=False)], date=2020-12-13 11:47:13+09:00, status=Successful completion, status=QobjHeader(backend_name='ibmq_paris', backend_version='1.6.6'), time_taken=21.72362732887268, execution_id='6762fa06-3ced-11eb-9858-b02628ea1e00', client_version={'qiskit': '0.23.1'})\n"
     ]
    }
   ],
   "source": [
    "# Show the results\n",
    "print(\"# Simulator\")\n",
    "print(result_sim)\n",
    "\n",
    "print(\"\\n# No scheduling\")\n",
    "for _result in result_list: \n",
    "    print(_result)\n",
    "\n",
    "print(\"\\n# ALAP scheduling policy\")\n",
    "for _result_alap in result_alap_list: \n",
    "    print(_result_alap)"
   ]
  },
  {
   "cell_type": "code",
   "execution_count": 12,
   "metadata": {
    "lines_to_next_cell": 0
   },
   "outputs": [
    {
     "name": "stdout",
     "output_type": "stream",
     "text": [
      "# Simulator\n",
      "{'101 0000': 4133, '101 1111': 4059}\n",
      "\n",
      "# No scheduling\n",
      "{'000 0000': 53, '001 0000': 262, '001 0001': 4, '001 0010': 3, '001 0011': 10, '001 0100': 1, '001 0111': 7, '001 1000': 4, '001 1011': 11, '001 1100': 14, '001 1101': 10, '001 1110': 21, '001 1111': 278, '010 0000': 108, '010 0001': 1, '010 0011': 6, '010 0100': 1, '010 0111': 1, '010 1001': 1, '010 1010': 1, '010 1100': 1, '010 1110': 4, '010 1111': 67, '011 0000': 351, '011 0001': 9, '011 0010': 2, '011 0011': 17, '011 0100': 5, '011 0110': 1, '011 0111': 8, '011 1000': 7, '011 1001': 1, '011 1010': 2, '011 1011': 13, '011 1100': 11, '011 1101': 9, '011 1110': 28, '011 1111': 374, '100 0000': 143, '100 0001': 3, '100 0011': 9, '100 0100': 2, '100 0110': 1, '100 0111': 1, '100 1011': 4, '100 1100': 5, '100 1101': 1, '100 1110': 13, '100 1111': 140, '101 0000': 2541, '101 0001': 49, '101 0010': 17, '101 0011': 80, '101 0100': 27, '101 0110': 6, '101 0111': 58, '101 1000': 23, '101 1001': 5, '101 1010': 7, '101 1011': 73, '101 1100': 85, '101 1101': 54, '101 1110': 214, '101 1111': 2444, '000 0110': 1, '110 0000': 41, '110 0001': 1, '110 0100': 1, '110 0111': 2, '110 1000': 2, '110 1011': 4, '110 1100': 1, '110 1101': 2, '110 1110': 4, '110 1111': 43, '000 0111': 1, '111 0000': 145, '111 0001': 3, '111 0010': 1, '111 0011': 2, '111 0111': 6, '111 1000': 3, '111 1011': 6, '111 1100': 9, '111 1101': 1, '111 1110': 22, '111 1111': 128, '000 1000': 1, '000 1100': 2, '000 1101': 1, '000 1111': 47}\n",
      "\n",
      "# ALAP scheduling policy\n",
      "{'000 0000': 65, '000 0001': 2, '001 0000': 222, '001 0001': 5, '001 0011': 16, '001 0100': 4, '001 0101': 1, '001 0111': 1, '001 1000': 4, '001 1010': 3, '001 1011': 12, '001 1100': 6, '001 1101': 4, '001 1110': 15, '001 1111': 206, '000 0010': 1, '010 0000': 62, '010 0001': 1, '010 0010': 1, '010 0011': 1, '010 0100': 1, '010 0111': 1, '010 1100': 3, '010 1101': 2, '010 1110': 4, '010 1111': 38, '000 0011': 3, '011 0000': 255, '011 0001': 4, '011 0010': 1, '011 0011': 6, '011 0100': 5, '011 0110': 1, '011 0111': 3, '011 1000': 2, '011 1010': 1, '011 1011': 10, '011 1100': 7, '011 1101': 5, '011 1110': 25, '011 1111': 249, '000 0100': 1, '100 0000': 139, '100 0001': 4, '100 0011': 6, '100 0100': 1, '100 0111': 4, '100 1000': 3, '100 1011': 5, '100 1100': 3, '100 1101': 3, '100 1110': 10, '100 1111': 119, '101 0000': 2776, '101 0001': 67, '101 0010': 10, '101 0011': 107, '101 0100': 32, '101 0101': 3, '101 0110': 2, '101 0111': 64, '101 1000': 26, '101 1001': 3, '101 1010': 6, '101 1011': 124, '101 1100': 89, '101 1101': 64, '101 1110': 221, '101 1111': 2510, '000 0110': 1, '110 0000': 40, '110 0001': 1, '110 0011': 2, '110 0100': 1, '110 0111': 1, '110 1011': 1, '110 1100': 1, '110 1101': 1, '110 1110': 4, '110 1111': 38, '000 0111': 1, '111 0000': 162, '111 0001': 5, '111 0010': 2, '111 0011': 4, '111 0100': 2, '111 0111': 1, '111 1000': 3, '111 1010': 2, '111 1011': 6, '111 1100': 4, '111 1101': 2, '111 1110': 9, '111 1111': 164, '000 1000': 2, '000 1011': 3, '000 1100': 1, '000 1101': 1, '000 1110': 8, '000 1111': 59}\n"
     ]
    }
   ],
   "source": [
    "# Show the counts\n",
    "print(\"# Simulator\")\n",
    "print(counts_sim)\n",
    "\n",
    "print(\"\\n# No scheduling\")\n",
    "for _count in count_list: \n",
    "    print(_count)\n",
    "\n",
    "print(\"\\n# ALAP scheduling policy\")\n",
    "for _count_alap in counts_alap_list: \n",
    "    print(_count_alap)"
   ]
  },
  {
   "cell_type": "code",
   "execution_count": null,
   "metadata": {
    "lines_to_next_cell": 2
   },
   "outputs": [],
   "source": []
  }
 ],
 "metadata": {
  "jupytext": {
   "text_representation": {
    "extension": ".py",
    "format_name": "light",
    "format_version": "1.5",
    "jupytext_version": "1.7.1"
   }
  },
  "kernelspec": {
   "display_name": "Python 3",
   "language": "python",
   "name": "python3"
  },
  "language_info": {
   "codemirror_mode": {
    "name": "ipython",
    "version": 3
   },
   "file_extension": ".py",
   "mimetype": "text/x-python",
   "name": "python",
   "nbconvert_exporter": "python",
   "pygments_lexer": "ipython3",
   "version": "3.8.3"
  }
 },
 "nbformat": 4,
 "nbformat_minor": 2
}
