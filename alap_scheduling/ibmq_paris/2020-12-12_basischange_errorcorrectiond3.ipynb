{
 "cells": [
  {
   "cell_type": "markdown",
   "metadata": {},
   "source": [
    "# ALAP Scheduling \n",
    "### Basis change (3-qubits, 10CX) + Error correctiond3 (5-qubits, 49 CX)\n",
    "\n",
    "2020-12-12"
   ]
  },
  {
   "cell_type": "code",
   "execution_count": 1,
   "metadata": {},
   "outputs": [],
   "source": [
    "# import python tools\n",
    "import os\n",
    "\n",
    "# import qiskit tool\n",
    "from qiskit.transpiler import InstructionDurations\n",
    "\n",
    "# import experimental tools\n",
    "from experiments.alap_scheduling import execute_alap, result_alap\n",
    "from experiments.utils import get_IBM_backend"
   ]
  },
  {
   "cell_type": "markdown",
   "metadata": {},
   "source": [
    "## Experimental Settings"
   ]
  },
  {
   "cell_type": "code",
   "execution_count": 2,
   "metadata": {},
   "outputs": [],
   "source": [
    "date = '2020-12-12'\n",
    "\n",
    "# Choose benchmark circuits from QASMBench\n",
    "benchmark_sets = ['basis_change_n3', 'error_correctiond3_n5']\n",
    "benchmark_size = 'small'"
   ]
  },
  {
   "cell_type": "code",
   "execution_count": 3,
   "metadata": {},
   "outputs": [
    {
     "name": "stderr",
     "output_type": "stream",
     "text": [
      "/Users/Yasuhiro/.local/share/virtualenvs/experiments-VWP9UmJy/lib/python3.8/site-packages/qiskit/providers/ibmq/ibmqfactory.py:192: UserWarning: Timestamps in IBMQ backend properties, jobs, and job results are all now in local time instead of UTC.\n",
      "  warnings.warn('Timestamps in IBMQ backend properties, jobs, and job results '\n"
     ]
    }
   ],
   "source": [
    "# Define backend device\n",
    "backend = get_IBM_backend('ibmq_paris')\n",
    "simulator = get_IBM_backend('ibmq_qasm_simulator')\n",
    "\n",
    "# Number of trials\n",
    "shots = 8192\n",
    "\n",
    "# Number of experimental seeds\n",
    "nseed = 1"
   ]
  },
  {
   "cell_type": "code",
   "execution_count": 4,
   "metadata": {},
   "outputs": [],
   "source": [
    "# define path to the file to save job data\n",
    "file_name = date + '_'\n",
    "sorted_benchmarks = sorted(benchmark_sets)\n",
    "for _name in sorted_benchmarks: \n",
    "    file_name += _name\n",
    "    if _name == sorted_benchmarks[-1]:\n",
    "        break\n",
    "    file_name += '+'\n",
    "job_save_path = str(os.getcwd()) + \"/job_id/from20201211/\" + file_name"
   ]
  },
  {
   "cell_type": "markdown",
   "metadata": {},
   "source": [
    "## Execute experiments on IBMQ\n",
    "\n",
    "Here, we execute three types of experiments. First one is the  job run on simulator to calculate exact answer of the multi-programming circuit. The other two are the jobs executed on the real device. One is the base line, which is no scheduled, and the other one is the circuit executed with alap schedule policy. "
   ]
  },
  {
   "cell_type": "code",
   "execution_count": 5,
   "metadata": {},
   "outputs": [],
   "source": [
    "instruction_durations = InstructionDurations.from_backend(backend)"
   ]
  },
  {
   "cell_type": "code",
   "execution_count": 6,
   "metadata": {},
   "outputs": [
    {
     "name": "stdout",
     "output_type": "stream",
     "text": [
      "prog: Qubit(QuantumRegister(3, 'q82'), 0) , hw: 25\n",
      "prog: Qubit(QuantumRegister(3, 'q82'), 1) , hw: 23\n",
      "prog: Qubit(QuantumRegister(3, 'q82'), 2) , hw: 24\n",
      "prog: Qubit(QuantumRegister(5, 'q83'), 0) , hw: 14\n",
      "prog: Qubit(QuantumRegister(5, 'q83'), 1) , hw: 16\n",
      "prog: Qubit(QuantumRegister(5, 'q83'), 2) , hw: 19\n",
      "prog: Qubit(QuantumRegister(5, 'q83'), 3) , hw: 22\n",
      "prog: Qubit(QuantumRegister(5, 'q83'), 4) , hw: 20\n",
      "prog: Qubit(QuantumRegister(3, 'q238'), 0) , hw: 25\n",
      "prog: Qubit(QuantumRegister(3, 'q238'), 1) , hw: 23\n",
      "prog: Qubit(QuantumRegister(3, 'q238'), 2) , hw: 24\n",
      "prog: Qubit(QuantumRegister(5, 'q239'), 0) , hw: 14\n",
      "prog: Qubit(QuantumRegister(5, 'q239'), 1) , hw: 16\n",
      "prog: Qubit(QuantumRegister(5, 'q239'), 2) , hw: 19\n",
      "prog: Qubit(QuantumRegister(5, 'q239'), 3) , hw: 22\n",
      "prog: Qubit(QuantumRegister(5, 'q239'), 4) , hw: 20\n"
     ]
    }
   ],
   "source": [
    "job_sim, job, job_alap = execute_alap(\n",
    "                    size=benchmark_size, \n",
    "                    names=benchmark_sets, \n",
    "                    backend=backend, \n",
    "                    simulator=simulator,\n",
    "                    shots = shots, \n",
    "                    nseed=1,\n",
    "                    save_path=job_save_path, \n",
    "                    instruction_durations=instruction_durations,\n",
    "                    )"
   ]
  },
  {
   "cell_type": "code",
   "execution_count": 7,
   "metadata": {},
   "outputs": [
    {
     "name": "stdout",
     "output_type": "stream",
     "text": [
      "<qiskit.providers.ibmq.job.ibmqjob.IBMQJob object at 0x7fd510b20970>\n",
      "[<qiskit.providers.ibmq.job.ibmqjob.IBMQJob object at 0x7fd510c044f0>]\n",
      "[<qiskit.providers.ibmq.job.ibmqjob.IBMQJob object at 0x7fd5111b2160>]\n"
     ]
    }
   ],
   "source": [
    "# Show the each job\n",
    "print(job_sim)\n",
    "print(job)\n",
    "print(job_alap)"
   ]
  },
  {
   "cell_type": "markdown",
   "metadata": {},
   "source": [
    "## Get the results"
   ]
  },
  {
   "cell_type": "code",
   "execution_count": 8,
   "metadata": {},
   "outputs": [],
   "source": [
    "# define path to the file to save results\n",
    "result_save_path = str(os.getcwd()) + \"/results/from20201211/\" + file_name"
   ]
  },
  {
   "cell_type": "code",
   "execution_count": 9,
   "metadata": {},
   "outputs": [],
   "source": [
    "result_sim, result_list, result_alap_list, counts_sim, count_list, counts_alap_list, qc_names = result_alap(backend, simulator, job_save_path, result_save_path)"
   ]
  },
  {
   "cell_type": "code",
   "execution_count": 10,
   "metadata": {},
   "outputs": [
    {
     "name": "stdout",
     "output_type": "stream",
     "text": [
      "# Simulator\n",
      "Result(backend_name='ibmq_qasm_simulator', backend_version='0.7.0', qobj_id='609db200-4b23-4ca1-bf52-6a62fa80a14d', job_id='5fd406d0b98c9b001a570794', success=True, results=[ExperimentResult(shots=8192, success=True, meas_level=MeasLevel.CLASSIFIED, data=ExperimentResultData(counts={'0x0': 495, '0x18': 524, '0x28': 470, '0x30': 507, '0x48': 556, '0x50': 525, '0x60': 494, '0x78': 547, '0x88': 496, '0x90': 480, '0xa0': 538, '0xb8': 512, '0xc0': 517, '0xd8': 531, '0xe8': 531, '0xf0': 469}), header=QobjExperimentHeader(clbit_labels=[['c0', 0], ['c0', 1], ['c0', 2], ['c1', 0], ['c1', 1], ['c1', 2], ['c1', 3], ['c1', 4]], creg_sizes=[['c0', 3], ['c1', 5]], global_phase=0.0, memory_slots=8, n_qubits=8, name='circuit8', qreg_sizes=[['q0', 3], ['q1', 5]], qubit_labels=[['q0', 0], ['q0', 1], ['q0', 2], ['q1', 0], ['q1', 1], ['q1', 2], ['q1', 3], ['q1', 4]]), status=DONE, metadata={'fusion': {'applied': False, 'enabled': True, 'method': 'unitary', 'threshold': 14}, 'measure_sampling': True, 'method': 'statevector', 'parallel_shots': 1, 'parallel_state_update': 16}, seed_simulator=2381203033, time_taken=0.027590653000000003)], date=2020-12-12 08:54:59.986247+09:00, status=COMPLETED, status=QobjHeader(backend_name='ibmq_qasm_simulator', backend_version='0.1.547'), metadata={'max_memory_mb': 257936, 'omp_enabled': True, 'parallel_experiments': 1, 'time_taken': 0.028435144000000002}, time_taken=0.028435144000000002, client_version={'qiskit': '0.23.1'})\n",
      "\n",
      "# No scheduling\n",
      "Result(backend_name='ibmq_paris', backend_version='1.6.5', qobj_id='142a4401-c786-4ae3-a3cc-650034ad82a0', job_id='5fd406d21d6c74001a0ed8c7', success=True, results=[ExperimentResult(shots=8192, success=True, meas_level=2, data=ExperimentResultData(counts={'0x0': 452, '0x1': 36, '0x10': 218, '0x11': 18, '0x12': 10, '0x13': 10, '0x14': 21, '0x15': 9, '0x16': 7, '0x17': 3, '0x18': 90, '0x19': 7, '0x1a': 10, '0x1b': 4, '0x1c': 9, '0x1d': 3, '0x1e': 2, '0x2': 30, '0x20': 334, '0x21': 23, '0x22': 19, '0x23': 6, '0x24': 17, '0x25': 10, '0x26': 12, '0x27': 7, '0x28': 169, '0x29': 15, '0x2a': 12, '0x2b': 8, '0x2c': 4, '0x2d': 7, '0x2e': 8, '0x2f': 2, '0x3': 10, '0x30': 265, '0x31': 21, '0x32': 13, '0x33': 11, '0x34': 25, '0x35': 4, '0x36': 6, '0x37': 5, '0x38': 76, '0x39': 8, '0x3a': 7, '0x3b': 2, '0x3c': 3, '0x3d': 3, '0x3e': 3, '0x4': 28, '0x40': 224, '0x41': 13, '0x42': 22, '0x43': 7, '0x44': 23, '0x45': 7, '0x46': 11, '0x47': 4, '0x48': 106, '0x49': 8, '0x4a': 8, '0x4b': 4, '0x4c': 6, '0x4d': 6, '0x4e': 5, '0x4f': 1, '0x5': 16, '0x50': 225, '0x51': 18, '0x52': 7, '0x53': 9, '0x54': 12, '0x55': 6, '0x56': 6, '0x57': 5, '0x58': 53, '0x59': 2, '0x5a': 1, '0x5c': 8, '0x5d': 2, '0x5e': 2, '0x6': 19, '0x60': 344, '0x61': 26, '0x62': 26, '0x63': 3, '0x64': 20, '0x65': 10, '0x66': 12, '0x67': 5, '0x68': 92, '0x69': 8, '0x6a': 7, '0x6b': 1, '0x6c': 10, '0x6d': 4, '0x6e': 2, '0x6f': 2, '0x7': 7, '0x70': 151, '0x71': 9, '0x72': 9, '0x73': 3, '0x74': 14, '0x75': 9, '0x76': 8, '0x77': 2, '0x78': 101, '0x79': 8, '0x7a': 8, '0x7b': 4, '0x7c': 8, '0x7d': 1, '0x7e': 2, '0x8': 154, '0x80': 454, '0x81': 18, '0x82': 38, '0x83': 4, '0x84': 30, '0x85': 18, '0x86': 15, '0x87': 3, '0x88': 221, '0x89': 12, '0x8a': 20, '0x8b': 3, '0x8c': 21, '0x8d': 6, '0x8e': 4, '0x8f': 1, '0x9': 14, '0x90': 259, '0x91': 25, '0x92': 19, '0x93': 8, '0x94': 20, '0x95': 7, '0x96': 19, '0x97': 5, '0x98': 94, '0x99': 6, '0x9a': 6, '0x9b': 3, '0x9c': 2, '0x9d': 2, '0x9e': 3, '0x9f': 1, '0xa': 8, '0xa0': 406, '0xa1': 33, '0xa2': 38, '0xa3': 18, '0xa4': 20, '0xa5': 17, '0xa6': 11, '0xa7': 5, '0xa8': 164, '0xa9': 14, '0xaa': 11, '0xab': 2, '0xac': 11, '0xad': 1, '0xae': 5, '0xaf': 1, '0xb': 2, '0xb0': 202, '0xb1': 20, '0xb2': 22, '0xb3': 2, '0xb4': 15, '0xb5': 6, '0xb6': 17, '0xb7': 6, '0xb8': 87, '0xb9': 7, '0xba': 4, '0xbb': 3, '0xbc': 2, '0xbd': 3, '0xbe': 4, '0xbf': 4, '0xc': 11, '0xc0': 251, '0xc1': 9, '0xc2': 15, '0xc3': 5, '0xc4': 17, '0xc5': 9, '0xc6': 17, '0xc7': 6, '0xc8': 126, '0xc9': 9, '0xca': 12, '0xcb': 3, '0xcc': 6, '0xcd': 2, '0xce': 3, '0xcf': 2, '0xd': 3, '0xd0': 161, '0xd1': 11, '0xd2': 7, '0xd3': 6, '0xd4': 8, '0xd5': 4, '0xd6': 6, '0xd7': 5, '0xd8': 88, '0xd9': 8, '0xdb': 1, '0xdc': 4, '0xdd': 3, '0xde': 1, '0xdf': 2, '0xe': 5, '0xe0': 273, '0xe1': 18, '0xe2': 9, '0xe3': 7, '0xe4': 18, '0xe5': 12, '0xe6': 7, '0xe7': 2, '0xe8': 121, '0xe9': 7, '0xea': 7, '0xeb': 4, '0xec': 13, '0xed': 7, '0xee': 3, '0xef': 6, '0xf': 4, '0xf0': 171, '0xf1': 9, '0xf2': 11, '0xf3': 5, '0xf4': 11, '0xf5': 7, '0xf6': 6, '0xf7': 1, '0xf8': 66, '0xf9': 6, '0xfa': 9, '0xfb': 3, '0xfc': 8, '0xfd': 2, '0xff': 3}), header=QobjExperimentHeader(clbit_labels=[['c2', 0], ['c2', 1], ['c2', 2], ['c3', 0], ['c3', 1], ['c3', 2], ['c3', 3], ['c3', 4]], creg_sizes=[['c2', 3], ['c3', 5]], global_phase=-2.373128669123158, memory_slots=8, n_qubits=27, name='circuit326', qreg_sizes=[['q', 27]], qubit_labels=[['q', 0], ['q', 1], ['q', 2], ['q', 3], ['q', 4], ['q', 5], ['q', 6], ['q', 7], ['q', 8], ['q', 9], ['q', 10], ['q', 11], ['q', 12], ['q', 13], ['q', 14], ['q', 15], ['q', 16], ['q', 17], ['q', 18], ['q', 19], ['q', 20], ['q', 21], ['q', 22], ['q', 23], ['q', 24], ['q', 25], ['q', 26]]), memory=False)], date=2020-12-12 09:29:01+09:00, status=Successful completion, status=QobjHeader(backend_name='ibmq_paris', backend_version='1.6.5'), time_taken=21.842028379440308, execution_id='df5ef8ee-3c10-11eb-b592-b02628ea1e00', client_version={'qiskit': '0.23.1'})\n",
      "\n",
      "# ALAP scheduling policy\n",
      "Result(backend_name='ibmq_paris', backend_version='1.6.5', qobj_id='5231842f-c2d4-406a-a5e0-6e308785d2e9', job_id='5fd406d405b60100197710a9', success=True, results=[ExperimentResult(shots=8192, success=True, meas_level=2, data=ExperimentResultData(counts={'0x0': 355, '0x1': 32, '0x10': 191, '0x11': 14, '0x12': 14, '0x13': 2, '0x14': 23, '0x15': 4, '0x16': 8, '0x18': 162, '0x19': 14, '0x1a': 19, '0x1b': 6, '0x1c': 11, '0x1d': 5, '0x1e': 3, '0x1f': 2, '0x2': 22, '0x20': 264, '0x21': 18, '0x22': 23, '0x23': 5, '0x24': 23, '0x25': 7, '0x26': 10, '0x27': 7, '0x28': 178, '0x29': 14, '0x2a': 8, '0x2b': 8, '0x2c': 11, '0x2d': 11, '0x2e': 5, '0x2f': 6, '0x3': 7, '0x30': 223, '0x31': 18, '0x32': 20, '0x33': 15, '0x34': 26, '0x35': 9, '0x36': 10, '0x37': 4, '0x38': 96, '0x39': 7, '0x3a': 7, '0x3b': 2, '0x3c': 7, '0x3d': 5, '0x3e': 5, '0x3f': 2, '0x4': 38, '0x40': 243, '0x41': 18, '0x42': 29, '0x43': 6, '0x44': 16, '0x45': 6, '0x46': 7, '0x47': 10, '0x48': 148, '0x49': 16, '0x4a': 6, '0x4b': 4, '0x4c': 8, '0x4d': 4, '0x4e': 11, '0x4f': 2, '0x5': 8, '0x50': 173, '0x51': 9, '0x52': 10, '0x53': 10, '0x54': 15, '0x55': 6, '0x56': 8, '0x57': 1, '0x58': 121, '0x59': 10, '0x5a': 13, '0x5b': 1, '0x5c': 7, '0x5d': 7, '0x5e': 1, '0x5f': 2, '0x6': 15, '0x60': 220, '0x61': 32, '0x62': 17, '0x63': 11, '0x64': 21, '0x65': 10, '0x66': 8, '0x67': 3, '0x68': 139, '0x69': 7, '0x6a': 9, '0x6b': 4, '0x6c': 9, '0x6d': 1, '0x6e': 9, '0x6f': 1, '0x7': 13, '0x70': 164, '0x71': 12, '0x72': 19, '0x73': 5, '0x74': 10, '0x75': 6, '0x76': 7, '0x77': 5, '0x78': 96, '0x79': 7, '0x7a': 8, '0x7b': 3, '0x7c': 9, '0x7d': 1, '0x7e': 2, '0x7f': 3, '0x8': 194, '0x80': 356, '0x81': 22, '0x82': 18, '0x83': 10, '0x84': 25, '0x85': 6, '0x86': 15, '0x87': 11, '0x88': 205, '0x89': 14, '0x8a': 6, '0x8b': 7, '0x8c': 12, '0x8d': 3, '0x8e': 8, '0x8f': 3, '0x9': 8, '0x90': 223, '0x91': 18, '0x92': 20, '0x93': 7, '0x94': 13, '0x95': 9, '0x96': 6, '0x97': 2, '0x98': 121, '0x99': 5, '0x9a': 4, '0x9b': 2, '0x9c': 7, '0x9d': 3, '0x9e': 2, '0x9f': 3, '0xa': 12, '0xa0': 315, '0xa1': 18, '0xa2': 24, '0xa3': 6, '0xa4': 21, '0xa5': 13, '0xa6': 10, '0xa7': 6, '0xa8': 193, '0xa9': 7, '0xaa': 14, '0xab': 6, '0xac': 16, '0xad': 7, '0xae': 5, '0xaf': 3, '0xb': 4, '0xb0': 232, '0xb1': 19, '0xb2': 17, '0xb3': 9, '0xb4': 23, '0xb5': 6, '0xb6': 8, '0xb7': 5, '0xb8': 146, '0xb9': 8, '0xba': 14, '0xbb': 7, '0xbc': 9, '0xbd': 3, '0xbe': 3, '0xbf': 1, '0xc': 14, '0xc0': 303, '0xc1': 29, '0xc2': 18, '0xc3': 12, '0xc4': 23, '0xc5': 10, '0xc6': 10, '0xc7': 6, '0xc8': 143, '0xc9': 10, '0xca': 13, '0xcb': 6, '0xcc': 15, '0xcd': 1, '0xce': 5, '0xcf': 3, '0xd': 4, '0xd0': 142, '0xd1': 11, '0xd2': 13, '0xd3': 2, '0xd4': 8, '0xd6': 5, '0xd7': 1, '0xd8': 94, '0xd9': 7, '0xda': 8, '0xdb': 4, '0xdc': 9, '0xdd': 7, '0xde': 5, '0xdf': 1, '0xe': 8, '0xe0': 195, '0xe1': 14, '0xe2': 22, '0xe3': 4, '0xe4': 18, '0xe5': 7, '0xe6': 13, '0xe7': 3, '0xe8': 140, '0xe9': 10, '0xea': 12, '0xeb': 7, '0xec': 12, '0xed': 2, '0xee': 4, '0xef': 8, '0xf': 4, '0xf0': 197, '0xf1': 11, '0xf2': 7, '0xf3': 3, '0xf4': 22, '0xf5': 5, '0xf6': 4, '0xf7': 3, '0xf8': 116, '0xf9': 9, '0xfa': 7, '0xfb': 4, '0xfc': 7, '0xfd': 4, '0xfe': 1, '0xff': 1}), header=QobjExperimentHeader(clbit_labels=[['c4', 0], ['c4', 1], ['c4', 2], ['c5', 0], ['c5', 1], ['c5', 2], ['c5', 3], ['c5', 4]], creg_sizes=[['c4', 3], ['c5', 5]], global_phase=0.0, memory_slots=8, n_qubits=27, name='circuit938', qreg_sizes=[['q', 27]], qubit_labels=[['q', 0], ['q', 1], ['q', 2], ['q', 3], ['q', 4], ['q', 5], ['q', 6], ['q', 7], ['q', 8], ['q', 9], ['q', 10], ['q', 11], ['q', 12], ['q', 13], ['q', 14], ['q', 15], ['q', 16], ['q', 17], ['q', 18], ['q', 19], ['q', 20], ['q', 21], ['q', 22], ['q', 23], ['q', 24], ['q', 25], ['q', 26]]), memory=False)], date=2020-12-12 09:32:15+09:00, status=Successful completion, status=QobjHeader(backend_name='ibmq_paris', backend_version='1.6.5'), time_taken=22.295467376708984, execution_id='0c282dc8-3c11-11eb-837a-b02628ea1e00', client_version={'qiskit': '0.23.1'})\n"
     ]
    }
   ],
   "source": [
    "# Show the results\n",
    "print(\"# Simulator\")\n",
    "print(result_sim)\n",
    "\n",
    "print(\"\\n# No scheduling\")\n",
    "for _result in result_list: \n",
    "    print(_result)\n",
    "\n",
    "print(\"\\n# ALAP scheduling policy\")\n",
    "for _result_alap in result_alap_list: \n",
    "    print(_result_alap)"
   ]
  },
  {
   "cell_type": "code",
   "execution_count": 11,
   "metadata": {
    "lines_to_next_cell": 0
   },
   "outputs": [
    {
     "name": "stdout",
     "output_type": "stream",
     "text": [
      "# Simulator\n",
      "{'00000 000': 495, '00011 000': 524, '00101 000': 470, '00110 000': 507, '01001 000': 556, '01010 000': 525, '01100 000': 494, '01111 000': 547, '10001 000': 496, '10010 000': 480, '10100 000': 538, '10111 000': 512, '11000 000': 517, '11011 000': 531, '11101 000': 531, '11110 000': 469}\n",
      "\n",
      "# No scheduling\n",
      "{'00000 000': 452, '00000 001': 36, '00010 000': 218, '00010 001': 18, '00010 010': 10, '00010 011': 10, '00010 100': 21, '00010 101': 9, '00010 110': 7, '00010 111': 3, '00011 000': 90, '00011 001': 7, '00011 010': 10, '00011 011': 4, '00011 100': 9, '00011 101': 3, '00011 110': 2, '00000 010': 30, '00100 000': 334, '00100 001': 23, '00100 010': 19, '00100 011': 6, '00100 100': 17, '00100 101': 10, '00100 110': 12, '00100 111': 7, '00101 000': 169, '00101 001': 15, '00101 010': 12, '00101 011': 8, '00101 100': 4, '00101 101': 7, '00101 110': 8, '00101 111': 2, '00000 011': 10, '00110 000': 265, '00110 001': 21, '00110 010': 13, '00110 011': 11, '00110 100': 25, '00110 101': 4, '00110 110': 6, '00110 111': 5, '00111 000': 76, '00111 001': 8, '00111 010': 7, '00111 011': 2, '00111 100': 3, '00111 101': 3, '00111 110': 3, '00000 100': 28, '01000 000': 224, '01000 001': 13, '01000 010': 22, '01000 011': 7, '01000 100': 23, '01000 101': 7, '01000 110': 11, '01000 111': 4, '01001 000': 106, '01001 001': 8, '01001 010': 8, '01001 011': 4, '01001 100': 6, '01001 101': 6, '01001 110': 5, '01001 111': 1, '00000 101': 16, '01010 000': 225, '01010 001': 18, '01010 010': 7, '01010 011': 9, '01010 100': 12, '01010 101': 6, '01010 110': 6, '01010 111': 5, '01011 000': 53, '01011 001': 2, '01011 010': 1, '01011 100': 8, '01011 101': 2, '01011 110': 2, '00000 110': 19, '01100 000': 344, '01100 001': 26, '01100 010': 26, '01100 011': 3, '01100 100': 20, '01100 101': 10, '01100 110': 12, '01100 111': 5, '01101 000': 92, '01101 001': 8, '01101 010': 7, '01101 011': 1, '01101 100': 10, '01101 101': 4, '01101 110': 2, '01101 111': 2, '00000 111': 7, '01110 000': 151, '01110 001': 9, '01110 010': 9, '01110 011': 3, '01110 100': 14, '01110 101': 9, '01110 110': 8, '01110 111': 2, '01111 000': 101, '01111 001': 8, '01111 010': 8, '01111 011': 4, '01111 100': 8, '01111 101': 1, '01111 110': 2, '00001 000': 154, '10000 000': 454, '10000 001': 18, '10000 010': 38, '10000 011': 4, '10000 100': 30, '10000 101': 18, '10000 110': 15, '10000 111': 3, '10001 000': 221, '10001 001': 12, '10001 010': 20, '10001 011': 3, '10001 100': 21, '10001 101': 6, '10001 110': 4, '10001 111': 1, '00001 001': 14, '10010 000': 259, '10010 001': 25, '10010 010': 19, '10010 011': 8, '10010 100': 20, '10010 101': 7, '10010 110': 19, '10010 111': 5, '10011 000': 94, '10011 001': 6, '10011 010': 6, '10011 011': 3, '10011 100': 2, '10011 101': 2, '10011 110': 3, '10011 111': 1, '00001 010': 8, '10100 000': 406, '10100 001': 33, '10100 010': 38, '10100 011': 18, '10100 100': 20, '10100 101': 17, '10100 110': 11, '10100 111': 5, '10101 000': 164, '10101 001': 14, '10101 010': 11, '10101 011': 2, '10101 100': 11, '10101 101': 1, '10101 110': 5, '10101 111': 1, '00001 011': 2, '10110 000': 202, '10110 001': 20, '10110 010': 22, '10110 011': 2, '10110 100': 15, '10110 101': 6, '10110 110': 17, '10110 111': 6, '10111 000': 87, '10111 001': 7, '10111 010': 4, '10111 011': 3, '10111 100': 2, '10111 101': 3, '10111 110': 4, '10111 111': 4, '00001 100': 11, '11000 000': 251, '11000 001': 9, '11000 010': 15, '11000 011': 5, '11000 100': 17, '11000 101': 9, '11000 110': 17, '11000 111': 6, '11001 000': 126, '11001 001': 9, '11001 010': 12, '11001 011': 3, '11001 100': 6, '11001 101': 2, '11001 110': 3, '11001 111': 2, '00001 101': 3, '11010 000': 161, '11010 001': 11, '11010 010': 7, '11010 011': 6, '11010 100': 8, '11010 101': 4, '11010 110': 6, '11010 111': 5, '11011 000': 88, '11011 001': 8, '11011 011': 1, '11011 100': 4, '11011 101': 3, '11011 110': 1, '11011 111': 2, '00001 110': 5, '11100 000': 273, '11100 001': 18, '11100 010': 9, '11100 011': 7, '11100 100': 18, '11100 101': 12, '11100 110': 7, '11100 111': 2, '11101 000': 121, '11101 001': 7, '11101 010': 7, '11101 011': 4, '11101 100': 13, '11101 101': 7, '11101 110': 3, '11101 111': 6, '00001 111': 4, '11110 000': 171, '11110 001': 9, '11110 010': 11, '11110 011': 5, '11110 100': 11, '11110 101': 7, '11110 110': 6, '11110 111': 1, '11111 000': 66, '11111 001': 6, '11111 010': 9, '11111 011': 3, '11111 100': 8, '11111 101': 2, '11111 111': 3}\n",
      "\n",
      "# ALAP scheduling policy\n",
      "{'00000 000': 355, '00000 001': 32, '00010 000': 191, '00010 001': 14, '00010 010': 14, '00010 011': 2, '00010 100': 23, '00010 101': 4, '00010 110': 8, '00011 000': 162, '00011 001': 14, '00011 010': 19, '00011 011': 6, '00011 100': 11, '00011 101': 5, '00011 110': 3, '00011 111': 2, '00000 010': 22, '00100 000': 264, '00100 001': 18, '00100 010': 23, '00100 011': 5, '00100 100': 23, '00100 101': 7, '00100 110': 10, '00100 111': 7, '00101 000': 178, '00101 001': 14, '00101 010': 8, '00101 011': 8, '00101 100': 11, '00101 101': 11, '00101 110': 5, '00101 111': 6, '00000 011': 7, '00110 000': 223, '00110 001': 18, '00110 010': 20, '00110 011': 15, '00110 100': 26, '00110 101': 9, '00110 110': 10, '00110 111': 4, '00111 000': 96, '00111 001': 7, '00111 010': 7, '00111 011': 2, '00111 100': 7, '00111 101': 5, '00111 110': 5, '00111 111': 2, '00000 100': 38, '01000 000': 243, '01000 001': 18, '01000 010': 29, '01000 011': 6, '01000 100': 16, '01000 101': 6, '01000 110': 7, '01000 111': 10, '01001 000': 148, '01001 001': 16, '01001 010': 6, '01001 011': 4, '01001 100': 8, '01001 101': 4, '01001 110': 11, '01001 111': 2, '00000 101': 8, '01010 000': 173, '01010 001': 9, '01010 010': 10, '01010 011': 10, '01010 100': 15, '01010 101': 6, '01010 110': 8, '01010 111': 1, '01011 000': 121, '01011 001': 10, '01011 010': 13, '01011 011': 1, '01011 100': 7, '01011 101': 7, '01011 110': 1, '01011 111': 2, '00000 110': 15, '01100 000': 220, '01100 001': 32, '01100 010': 17, '01100 011': 11, '01100 100': 21, '01100 101': 10, '01100 110': 8, '01100 111': 3, '01101 000': 139, '01101 001': 7, '01101 010': 9, '01101 011': 4, '01101 100': 9, '01101 101': 1, '01101 110': 9, '01101 111': 1, '00000 111': 13, '01110 000': 164, '01110 001': 12, '01110 010': 19, '01110 011': 5, '01110 100': 10, '01110 101': 6, '01110 110': 7, '01110 111': 5, '01111 000': 96, '01111 001': 7, '01111 010': 8, '01111 011': 3, '01111 100': 9, '01111 101': 1, '01111 110': 2, '01111 111': 3, '00001 000': 194, '10000 000': 356, '10000 001': 22, '10000 010': 18, '10000 011': 10, '10000 100': 25, '10000 101': 6, '10000 110': 15, '10000 111': 11, '10001 000': 205, '10001 001': 14, '10001 010': 6, '10001 011': 7, '10001 100': 12, '10001 101': 3, '10001 110': 8, '10001 111': 3, '00001 001': 8, '10010 000': 223, '10010 001': 18, '10010 010': 20, '10010 011': 7, '10010 100': 13, '10010 101': 9, '10010 110': 6, '10010 111': 2, '10011 000': 121, '10011 001': 5, '10011 010': 4, '10011 011': 2, '10011 100': 7, '10011 101': 3, '10011 110': 2, '10011 111': 3, '00001 010': 12, '10100 000': 315, '10100 001': 18, '10100 010': 24, '10100 011': 6, '10100 100': 21, '10100 101': 13, '10100 110': 10, '10100 111': 6, '10101 000': 193, '10101 001': 7, '10101 010': 14, '10101 011': 6, '10101 100': 16, '10101 101': 7, '10101 110': 5, '10101 111': 3, '00001 011': 4, '10110 000': 232, '10110 001': 19, '10110 010': 17, '10110 011': 9, '10110 100': 23, '10110 101': 6, '10110 110': 8, '10110 111': 5, '10111 000': 146, '10111 001': 8, '10111 010': 14, '10111 011': 7, '10111 100': 9, '10111 101': 3, '10111 110': 3, '10111 111': 1, '00001 100': 14, '11000 000': 303, '11000 001': 29, '11000 010': 18, '11000 011': 12, '11000 100': 23, '11000 101': 10, '11000 110': 10, '11000 111': 6, '11001 000': 143, '11001 001': 10, '11001 010': 13, '11001 011': 6, '11001 100': 15, '11001 101': 1, '11001 110': 5, '11001 111': 3, '00001 101': 4, '11010 000': 142, '11010 001': 11, '11010 010': 13, '11010 011': 2, '11010 100': 8, '11010 110': 5, '11010 111': 1, '11011 000': 94, '11011 001': 7, '11011 010': 8, '11011 011': 4, '11011 100': 9, '11011 101': 7, '11011 110': 5, '11011 111': 1, '00001 110': 8, '11100 000': 195, '11100 001': 14, '11100 010': 22, '11100 011': 4, '11100 100': 18, '11100 101': 7, '11100 110': 13, '11100 111': 3, '11101 000': 140, '11101 001': 10, '11101 010': 12, '11101 011': 7, '11101 100': 12, '11101 101': 2, '11101 110': 4, '11101 111': 8, '00001 111': 4, '11110 000': 197, '11110 001': 11, '11110 010': 7, '11110 011': 3, '11110 100': 22, '11110 101': 5, '11110 110': 4, '11110 111': 3, '11111 000': 116, '11111 001': 9, '11111 010': 7, '11111 011': 4, '11111 100': 7, '11111 101': 4, '11111 110': 1, '11111 111': 1}\n"
     ]
    }
   ],
   "source": [
    "# Show the counts\n",
    "print(\"# Simulator\")\n",
    "print(counts_sim)\n",
    "\n",
    "print(\"\\n# No scheduling\")\n",
    "for _count in count_list: \n",
    "    print(_count)\n",
    "\n",
    "print(\"\\n# ALAP scheduling policy\")\n",
    "for _count_alap in counts_alap_list: \n",
    "    print(_count_alap)"
   ]
  },
  {
   "cell_type": "code",
   "execution_count": null,
   "metadata": {
    "lines_to_next_cell": 2
   },
   "outputs": [],
   "source": []
  }
 ],
 "metadata": {
  "jupytext": {
   "text_representation": {
    "extension": ".py",
    "format_name": "light",
    "format_version": "1.5",
    "jupytext_version": "1.7.1"
   }
  },
  "kernelspec": {
   "display_name": "Python 3",
   "language": "python",
   "name": "python3"
  },
  "language_info": {
   "codemirror_mode": {
    "name": "ipython",
    "version": 3
   },
   "file_extension": ".py",
   "mimetype": "text/x-python",
   "name": "python",
   "nbconvert_exporter": "python",
   "pygments_lexer": "ipython3",
   "version": "3.8.3"
  }
 },
 "nbformat": 4,
 "nbformat_minor": 2
}
