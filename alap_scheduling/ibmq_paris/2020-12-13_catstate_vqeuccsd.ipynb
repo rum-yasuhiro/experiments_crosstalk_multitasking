{
 "cells": [
  {
   "cell_type": "markdown",
   "metadata": {},
   "source": [
    "# ALAP Scheduling \n",
    "### Cat state (4-qubits, 3 CX) + VQE UCCSD (4-qubits, 88CX)\n",
    "\n",
    "2020-12-13"
   ]
  },
  {
   "cell_type": "code",
   "execution_count": 1,
   "metadata": {},
   "outputs": [],
   "source": [
    "# import python tools\n",
    "import os\n",
    "\n",
    "# import qiskit tool\n",
    "from qiskit.transpiler import InstructionDurations\n",
    "\n",
    "# import experimental tools\n",
    "from experiments.alap_scheduling import execute_alap, result_alap\n",
    "from experiments.utils import get_IBM_backend"
   ]
  },
  {
   "cell_type": "markdown",
   "metadata": {},
   "source": [
    "## Experimental Settings"
   ]
  },
  {
   "cell_type": "code",
   "execution_count": 2,
   "metadata": {},
   "outputs": [],
   "source": [
    "date = '2020-12-13'\n",
    "\n",
    "# Choose benchmark circuits from QASMBench\n",
    "benchmark_sets = ['cat_state_n4', 'vqe_uccsd_n4']\n",
    "benchmark_size = 'small'"
   ]
  },
  {
   "cell_type": "code",
   "execution_count": 3,
   "metadata": {},
   "outputs": [
    {
     "name": "stderr",
     "output_type": "stream",
     "text": [
      "/Users/Yasuhiro/.local/share/virtualenvs/experiments-VWP9UmJy/lib/python3.8/site-packages/qiskit/providers/ibmq/ibmqfactory.py:192: UserWarning: Timestamps in IBMQ backend properties, jobs, and job results are all now in local time instead of UTC.\n",
      "  warnings.warn('Timestamps in IBMQ backend properties, jobs, and job results '\n"
     ]
    }
   ],
   "source": [
    "# Define backend device\n",
    "backend = get_IBM_backend('ibmq_paris')\n",
    "simulator = get_IBM_backend('ibmq_qasm_simulator')\n",
    "\n",
    "# Number of trials\n",
    "shots = 8192\n",
    "\n",
    "# Number of experimental seeds\n",
    "nseed = 1"
   ]
  },
  {
   "cell_type": "code",
   "execution_count": 4,
   "metadata": {},
   "outputs": [],
   "source": [
    "# define path to the file to save job data\n",
    "file_name = date + '_'\n",
    "sorted_benchmarks = sorted(benchmark_sets)\n",
    "for _name in sorted_benchmarks: \n",
    "    file_name += _name\n",
    "    if _name == sorted_benchmarks[-1]:\n",
    "        break\n",
    "    file_name += '+'\n",
    "job_save_path = str(os.getcwd()) + \"/job_id/from20201211/\" + file_name"
   ]
  },
  {
   "cell_type": "markdown",
   "metadata": {},
   "source": [
    "## Execute experiments on IBMQ\n",
    "\n",
    "Here, we execute three types of experiments. First one is the  job run on simulator to calculate exact answer of the multi-programming circuit. The other two are the jobs executed on the real device. One is the base line, which is no scheduled, and the other one is the circuit executed with alap schedule policy. "
   ]
  },
  {
   "cell_type": "code",
   "execution_count": 5,
   "metadata": {},
   "outputs": [],
   "source": [
    "instruction_durations = InstructionDurations.from_backend(backend)"
   ]
  },
  {
   "cell_type": "code",
   "execution_count": 6,
   "metadata": {},
   "outputs": [],
   "source": [
    "job_sim, job, job_alap = execute_alap(\n",
    "                    size=benchmark_size, \n",
    "                    names=benchmark_sets, \n",
    "                    backend=backend, \n",
    "                    simulator=simulator,\n",
    "                    shots = shots, \n",
    "                    nseed=1,\n",
    "                    save_path=job_save_path, \n",
    "                    instruction_durations=instruction_durations,\n",
    "                    )"
   ]
  },
  {
   "cell_type": "code",
   "execution_count": 7,
   "metadata": {},
   "outputs": [
    {
     "name": "stdout",
     "output_type": "stream",
     "text": [
      "<qiskit.providers.ibmq.job.ibmqjob.IBMQJob object at 0x7f86175cf880>\n",
      "[<qiskit.providers.ibmq.job.ibmqjob.IBMQJob object at 0x7f86175cf8e0>]\n",
      "[<qiskit.providers.ibmq.job.ibmqjob.IBMQJob object at 0x7f86178efee0>]\n"
     ]
    }
   ],
   "source": [
    "# Show the each job\n",
    "print(job_sim)\n",
    "print(job)\n",
    "print(job_alap)"
   ]
  },
  {
   "cell_type": "markdown",
   "metadata": {},
   "source": [
    "## Get the results"
   ]
  },
  {
   "cell_type": "code",
   "execution_count": 8,
   "metadata": {},
   "outputs": [],
   "source": [
    "# define path to the file to save results\n",
    "result_save_path = str(os.getcwd()) + \"/results/from20201211/\" + file_name"
   ]
  },
  {
   "cell_type": "code",
   "execution_count": 9,
   "metadata": {},
   "outputs": [],
   "source": [
    "result_sim, result_list, result_alap_list, counts_sim, count_list, counts_alap_list, qc_names = result_alap(backend, simulator, job_save_path, result_save_path)"
   ]
  },
  {
   "cell_type": "code",
   "execution_count": 10,
   "metadata": {},
   "outputs": [
    {
     "name": "stdout",
     "output_type": "stream",
     "text": [
      "# Simulator\n",
      "Result(backend_name='ibmq_qasm_simulator', backend_version='0.7.0', qobj_id='2882e6eb-4ebe-41f0-8d79-ee34ab313970', job_id='5fd5806e80c762001a7476a2', success=True, results=[ExperimentResult(shots=8192, success=True, meas_level=MeasLevel.CLASSIFIED, data=ExperimentResultData(counts={'0x0': 178, '0x30': 66, '0x3f': 86, '0x50': 1105, '0x5f': 1155, '0x60': 202, '0x6f': 258, '0x90': 376, '0x9f': 377, '0xa0': 43, '0xaf': 49, '0xc0': 749, '0xcf': 736, '0xf': 166, '0xf0': 1386, '0xff': 1260}), header=QobjExperimentHeader(clbit_labels=[['c0', 0], ['c0', 1], ['c0', 2], ['c0', 3], ['c1', 0], ['c1', 1], ['c1', 2], ['c1', 3]], creg_sizes=[['c0', 4], ['c1', 4]], global_phase=0.0, memory_slots=8, n_qubits=8, name='circuit8', qreg_sizes=[['q0', 4], ['q1', 4]], qubit_labels=[['q0', 0], ['q0', 1], ['q0', 2], ['q0', 3], ['q1', 0], ['q1', 1], ['q1', 2], ['q1', 3]]), status=DONE, metadata={'fusion': {'applied': False, 'enabled': True, 'method': 'unitary', 'threshold': 14}, 'measure_sampling': True, 'method': 'statevector', 'parallel_shots': 1, 'parallel_state_update': 16}, seed_simulator=2575669417, time_taken=0.023375862)], date=2020-12-13 11:46:11.200323+09:00, status=COMPLETED, status=QobjHeader(backend_name='ibmq_qasm_simulator', backend_version='0.1.547'), metadata={'max_memory_mb': 257936, 'omp_enabled': True, 'parallel_experiments': 1, 'time_taken': 0.023879386000000002}, time_taken=0.023879386000000002, client_version={'qiskit': '0.23.1'})\n",
      "\n",
      "# No scheduling\n",
      "Result(backend_name='ibmq_paris', backend_version='1.6.6', qobj_id='84ecb463-7e01-4cf8-981c-2149c85d553a', job_id='5fd5807210ba7c001aa17c8e', success=True, results=[ExperimentResult(shots=8192, success=True, meas_level=2, data=ExperimentResultData(counts={'0x0': 164, '0x1': 4, '0x10': 217, '0x11': 7, '0x12': 1, '0x13': 3, '0x14': 2, '0x16': 2, '0x17': 3, '0x18': 2, '0x19': 1, '0x1a': 1, '0x1b': 5, '0x1c': 14, '0x1d': 4, '0x1e': 46, '0x1f': 133, '0x2': 3, '0x20': 126, '0x21': 2, '0x22': 5, '0x23': 6, '0x24': 1, '0x26': 2, '0x27': 3, '0x28': 1, '0x2a': 1, '0x2b': 4, '0x2c': 3, '0x2d': 1, '0x2e': 36, '0x2f': 102, '0x3': 1, '0x30': 186, '0x31': 6, '0x37': 5, '0x3b': 4, '0x3c': 6, '0x3d': 3, '0x3e': 46, '0x3f': 132, '0x4': 1, '0x40': 369, '0x41': 13, '0x42': 1, '0x43': 11, '0x45': 1, '0x46': 2, '0x47': 4, '0x48': 8, '0x4a': 1, '0x4b': 7, '0x4c': 10, '0x4d': 4, '0x4e': 88, '0x4f': 228, '0x50': 468, '0x51': 14, '0x52': 1, '0x53': 9, '0x54': 2, '0x55': 1, '0x56': 3, '0x57': 7, '0x58': 5, '0x59': 1, '0x5a': 4, '0x5b': 7, '0x5c': 19, '0x5d': 8, '0x5e': 102, '0x5f': 295, '0x6': 3, '0x60': 202, '0x61': 7, '0x62': 1, '0x63': 6, '0x64': 1, '0x66': 1, '0x67': 1, '0x68': 2, '0x6a': 3, '0x6b': 5, '0x6c': 6, '0x6d': 6, '0x6e': 41, '0x6f': 129, '0x7': 1, '0x70': 305, '0x71': 15, '0x72': 2, '0x73': 6, '0x77': 3, '0x78': 4, '0x7a': 1, '0x7b': 4, '0x7c': 9, '0x7d': 1, '0x7e': 63, '0x7f': 220, '0x8': 2, '0x80': 159, '0x81': 4, '0x82': 2, '0x83': 4, '0x86': 2, '0x87': 3, '0x88': 2, '0x8b': 1, '0x8c': 2, '0x8d': 2, '0x8e': 31, '0x8f': 91, '0x90': 244, '0x91': 8, '0x93': 3, '0x94': 1, '0x96': 2, '0x98': 5, '0x9a': 1, '0x9b': 3, '0x9c': 6, '0x9d': 4, '0x9e': 61, '0x9f': 162, '0xa0': 117, '0xa1': 4, '0xa3': 2, '0xa6': 4, '0xa7': 4, '0xa9': 1, '0xab': 4, '0xac': 1, '0xad': 5, '0xae': 23, '0xaf': 95, '0xb': 2, '0xb0': 134, '0xb1': 7, '0xb2': 4, '0xb3': 5, '0xb4': 1, '0xb6': 1, '0xb7': 2, '0xb8': 3, '0xbb': 3, '0xbc': 6, '0xbd': 4, '0xbe': 31, '0xbf': 103, '0xc': 10, '0xc0': 362, '0xc1': 8, '0xc2': 3, '0xc3': 10, '0xc4': 4, '0xc6': 3, '0xc7': 9, '0xc8': 7, '0xcb': 2, '0xcc': 9, '0xcd': 5, '0xce': 90, '0xcf': 212, '0xd': 6, '0xd0': 272, '0xd1': 7, '0xd2': 5, '0xd3': 6, '0xd4': 2, '0xd5': 1, '0xd6': 2, '0xd7': 5, '0xd8': 4, '0xda': 1, '0xdb': 4, '0xdc': 14, '0xdd': 6, '0xde': 66, '0xdf': 199, '0xe': 30, '0xe0': 236, '0xe1': 5, '0xe2': 3, '0xe6': 2, '0xe7': 5, '0xe8': 4, '0xea': 1, '0xeb': 3, '0xec': 10, '0xed': 4, '0xee': 40, '0xef': 148, '0xf': 107, '0xf0': 425, '0xf1': 11, '0xf2': 2, '0xf3': 4, '0xf4': 5, '0xf6': 3, '0xf7': 9, '0xf8': 4, '0xf9': 1, '0xfa': 2, '0xfb': 8, '0xfc': 10, '0xfd': 10, '0xfe': 106, '0xff': 253}), header=QobjExperimentHeader(clbit_labels=[['c2', 0], ['c2', 1], ['c2', 2], ['c2', 3], ['c3', 0], ['c3', 1], ['c3', 2], ['c3', 3]], creg_sizes=[['c2', 4], ['c3', 4]], global_phase=-16.606734961093377, memory_slots=8, n_qubits=27, name='circuit521', qreg_sizes=[['q', 27]], qubit_labels=[['q', 0], ['q', 1], ['q', 2], ['q', 3], ['q', 4], ['q', 5], ['q', 6], ['q', 7], ['q', 8], ['q', 9], ['q', 10], ['q', 11], ['q', 12], ['q', 13], ['q', 14], ['q', 15], ['q', 16], ['q', 17], ['q', 18], ['q', 19], ['q', 20], ['q', 21], ['q', 22], ['q', 23], ['q', 24], ['q', 25], ['q', 26]]), memory=False)], date=2020-12-13 11:53:34+09:00, status=Successful completion, status=QobjHeader(backend_name='ibmq_paris', backend_version='1.6.6'), time_taken=21.04049062728882, execution_id='1d01fc90-3cee-11eb-af57-b02628ea1e00', client_version={'qiskit': '0.23.1'})\n",
      "\n",
      "# ALAP scheduling policy\n",
      "Result(backend_name='ibmq_paris', backend_version='1.6.6', qobj_id='a56e8aab-8075-4b4e-a3ae-176b9e76be82', job_id='5fd5807480c762001a7476a3', success=True, results=[ExperimentResult(shots=8192, success=True, meas_level=2, data=ExperimentResultData(counts={'0x0': 157, '0x1': 4, '0x10': 213, '0x11': 2, '0x12': 3, '0x13': 2, '0x15': 1, '0x17': 5, '0x18': 2, '0x1a': 1, '0x1c': 4, '0x1d': 2, '0x1e': 41, '0x1f': 149, '0x2': 4, '0x20': 147, '0x21': 6, '0x22': 2, '0x23': 3, '0x24': 1, '0x26': 2, '0x28': 2, '0x2a': 1, '0x2b': 1, '0x2c': 5, '0x2d': 2, '0x2e': 33, '0x2f': 111, '0x3': 4, '0x30': 161, '0x31': 4, '0x33': 1, '0x34': 1, '0x37': 1, '0x38': 3, '0x3a': 1, '0x3b': 5, '0x3c': 2, '0x3d': 7, '0x3e': 37, '0x3f': 137, '0x40': 362, '0x41': 10, '0x42': 3, '0x43': 7, '0x44': 1, '0x46': 2, '0x47': 7, '0x48': 4, '0x4a': 3, '0x4b': 6, '0x4c': 15, '0x4d': 8, '0x4e': 68, '0x4f': 262, '0x50': 469, '0x51': 14, '0x52': 5, '0x53': 8, '0x54': 3, '0x56': 3, '0x57': 9, '0x58': 4, '0x5a': 1, '0x5b': 2, '0x5c': 23, '0x5d': 10, '0x5e': 110, '0x5f': 288, '0x6': 1, '0x60': 221, '0x61': 7, '0x62': 3, '0x63': 6, '0x64': 3, '0x66': 1, '0x67': 1, '0x68': 5, '0x6a': 1, '0x6b': 3, '0x6c': 5, '0x6d': 3, '0x6e': 44, '0x6f': 162, '0x7': 1, '0x70': 306, '0x71': 9, '0x72': 3, '0x73': 6, '0x74': 5, '0x77': 3, '0x78': 8, '0x7a': 1, '0x7b': 3, '0x7c': 4, '0x7d': 6, '0x7e': 57, '0x7f': 195, '0x8': 4, '0x80': 126, '0x81': 4, '0x82': 3, '0x83': 4, '0x84': 1, '0x86': 2, '0x87': 2, '0x88': 3, '0x8a': 1, '0x8b': 1, '0x8c': 4, '0x8d': 4, '0x8e': 30, '0x8f': 107, '0x90': 232, '0x91': 4, '0x92': 3, '0x93': 6, '0x94': 1, '0x97': 2, '0x98': 4, '0x9a': 1, '0x9b': 4, '0x9c': 7, '0x9e': 51, '0x9f': 143, '0xa0': 106, '0xa1': 2, '0xa2': 3, '0xa3': 1, '0xa4': 1, '0xa6': 2, '0xa8': 1, '0xa9': 1, '0xab': 1, '0xac': 1, '0xad': 2, '0xae': 31, '0xaf': 91, '0xb': 1, '0xb0': 132, '0xb1': 8, '0xb2': 1, '0xb3': 2, '0xb6': 1, '0xb7': 4, '0xb8': 2, '0xbb': 1, '0xbc': 8, '0xbd': 4, '0xbe': 34, '0xbf': 104, '0xc': 5, '0xc0': 366, '0xc1': 14, '0xc2': 2, '0xc3': 3, '0xc4': 3, '0xc5': 1, '0xc6': 1, '0xc7': 9, '0xc8': 4, '0xca': 1, '0xcb': 2, '0xcc': 8, '0xcd': 5, '0xce': 91, '0xcf': 248, '0xd': 8, '0xd0': 243, '0xd1': 12, '0xd3': 4, '0xd6': 2, '0xd7': 5, '0xd8': 1, '0xda': 1, '0xdb': 4, '0xdc': 9, '0xdd': 1, '0xde': 55, '0xdf': 166, '0xe': 53, '0xe0': 237, '0xe1': 7, '0xe3': 9, '0xe4': 2, '0xe6': 2, '0xe7': 5, '0xe8': 2, '0xeb': 3, '0xec': 8, '0xed': 11, '0xee': 56, '0xef': 165, '0xf': 130, '0xf0': 424, '0xf1': 13, '0xf2': 4, '0xf3': 4, '0xf4': 4, '0xf5': 1, '0xf6': 5, '0xf7': 10, '0xf8': 11, '0xfa': 3, '0xfb': 2, '0xfc': 14, '0xfd': 10, '0xfe': 98, '0xff': 276}), header=QobjExperimentHeader(clbit_labels=[['c4', 0], ['c4', 1], ['c4', 2], ['c4', 3], ['c5', 0], ['c5', 1], ['c5', 2], ['c5', 3]], creg_sizes=[['c4', 4], ['c5', 4]], global_phase=0.0, memory_slots=8, n_qubits=27, name='circuit1299', qreg_sizes=[['q', 27]], qubit_labels=[['q', 0], ['q', 1], ['q', 2], ['q', 3], ['q', 4], ['q', 5], ['q', 6], ['q', 7], ['q', 8], ['q', 9], ['q', 10], ['q', 11], ['q', 12], ['q', 13], ['q', 14], ['q', 15], ['q', 16], ['q', 17], ['q', 18], ['q', 19], ['q', 20], ['q', 21], ['q', 22], ['q', 23], ['q', 24], ['q', 25], ['q', 26]]), memory=False)], date=2020-12-13 11:55:40+09:00, status=Successful completion, status=QobjHeader(backend_name='ibmq_paris', backend_version='1.6.6'), time_taken=22.421250581741333, execution_id='67a30d8e-3cee-11eb-befa-b02628ea1e00', client_version={'qiskit': '0.23.1'})\n"
     ]
    }
   ],
   "source": [
    "# Show the results\n",
    "print(\"# Simulator\")\n",
    "print(result_sim)\n",
    "\n",
    "print(\"\\n# No scheduling\")\n",
    "for _result in result_list: \n",
    "    print(_result)\n",
    "\n",
    "print(\"\\n# ALAP scheduling policy\")\n",
    "for _result_alap in result_alap_list: \n",
    "    print(_result_alap)"
   ]
  },
  {
   "cell_type": "code",
   "execution_count": 11,
   "metadata": {
    "lines_to_next_cell": 0
   },
   "outputs": [
    {
     "name": "stdout",
     "output_type": "stream",
     "text": [
      "# Simulator\n",
      "{'0000 0000': 178, '0011 0000': 66, '0011 1111': 86, '0101 0000': 1105, '0101 1111': 1155, '0110 0000': 202, '0110 1111': 258, '1001 0000': 376, '1001 1111': 377, '1010 0000': 43, '1010 1111': 49, '1100 0000': 749, '1100 1111': 736, '0000 1111': 166, '1111 0000': 1386, '1111 1111': 1260}\n",
      "\n",
      "# No scheduling\n",
      "{'0000 0000': 164, '0000 0001': 4, '0001 0000': 217, '0001 0001': 7, '0001 0010': 1, '0001 0011': 3, '0001 0100': 2, '0001 0110': 2, '0001 0111': 3, '0001 1000': 2, '0001 1001': 1, '0001 1010': 1, '0001 1011': 5, '0001 1100': 14, '0001 1101': 4, '0001 1110': 46, '0001 1111': 133, '0000 0010': 3, '0010 0000': 126, '0010 0001': 2, '0010 0010': 5, '0010 0011': 6, '0010 0100': 1, '0010 0110': 2, '0010 0111': 3, '0010 1000': 1, '0010 1010': 1, '0010 1011': 4, '0010 1100': 3, '0010 1101': 1, '0010 1110': 36, '0010 1111': 102, '0000 0011': 1, '0011 0000': 186, '0011 0001': 6, '0011 0111': 5, '0011 1011': 4, '0011 1100': 6, '0011 1101': 3, '0011 1110': 46, '0011 1111': 132, '0000 0100': 1, '0100 0000': 369, '0100 0001': 13, '0100 0010': 1, '0100 0011': 11, '0100 0101': 1, '0100 0110': 2, '0100 0111': 4, '0100 1000': 8, '0100 1010': 1, '0100 1011': 7, '0100 1100': 10, '0100 1101': 4, '0100 1110': 88, '0100 1111': 228, '0101 0000': 468, '0101 0001': 14, '0101 0010': 1, '0101 0011': 9, '0101 0100': 2, '0101 0101': 1, '0101 0110': 3, '0101 0111': 7, '0101 1000': 5, '0101 1001': 1, '0101 1010': 4, '0101 1011': 7, '0101 1100': 19, '0101 1101': 8, '0101 1110': 102, '0101 1111': 295, '0000 0110': 3, '0110 0000': 202, '0110 0001': 7, '0110 0010': 1, '0110 0011': 6, '0110 0100': 1, '0110 0110': 1, '0110 0111': 1, '0110 1000': 2, '0110 1010': 3, '0110 1011': 5, '0110 1100': 6, '0110 1101': 6, '0110 1110': 41, '0110 1111': 129, '0000 0111': 1, '0111 0000': 305, '0111 0001': 15, '0111 0010': 2, '0111 0011': 6, '0111 0111': 3, '0111 1000': 4, '0111 1010': 1, '0111 1011': 4, '0111 1100': 9, '0111 1101': 1, '0111 1110': 63, '0111 1111': 220, '0000 1000': 2, '1000 0000': 159, '1000 0001': 4, '1000 0010': 2, '1000 0011': 4, '1000 0110': 2, '1000 0111': 3, '1000 1000': 2, '1000 1011': 1, '1000 1100': 2, '1000 1101': 2, '1000 1110': 31, '1000 1111': 91, '1001 0000': 244, '1001 0001': 8, '1001 0011': 3, '1001 0100': 1, '1001 0110': 2, '1001 1000': 5, '1001 1010': 1, '1001 1011': 3, '1001 1100': 6, '1001 1101': 4, '1001 1110': 61, '1001 1111': 162, '1010 0000': 117, '1010 0001': 4, '1010 0011': 2, '1010 0110': 4, '1010 0111': 4, '1010 1001': 1, '1010 1011': 4, '1010 1100': 1, '1010 1101': 5, '1010 1110': 23, '1010 1111': 95, '0000 1011': 2, '1011 0000': 134, '1011 0001': 7, '1011 0010': 4, '1011 0011': 5, '1011 0100': 1, '1011 0110': 1, '1011 0111': 2, '1011 1000': 3, '1011 1011': 3, '1011 1100': 6, '1011 1101': 4, '1011 1110': 31, '1011 1111': 103, '0000 1100': 10, '1100 0000': 362, '1100 0001': 8, '1100 0010': 3, '1100 0011': 10, '1100 0100': 4, '1100 0110': 3, '1100 0111': 9, '1100 1000': 7, '1100 1011': 2, '1100 1100': 9, '1100 1101': 5, '1100 1110': 90, '1100 1111': 212, '0000 1101': 6, '1101 0000': 272, '1101 0001': 7, '1101 0010': 5, '1101 0011': 6, '1101 0100': 2, '1101 0101': 1, '1101 0110': 2, '1101 0111': 5, '1101 1000': 4, '1101 1010': 1, '1101 1011': 4, '1101 1100': 14, '1101 1101': 6, '1101 1110': 66, '1101 1111': 199, '0000 1110': 30, '1110 0000': 236, '1110 0001': 5, '1110 0010': 3, '1110 0110': 2, '1110 0111': 5, '1110 1000': 4, '1110 1010': 1, '1110 1011': 3, '1110 1100': 10, '1110 1101': 4, '1110 1110': 40, '1110 1111': 148, '0000 1111': 107, '1111 0000': 425, '1111 0001': 11, '1111 0010': 2, '1111 0011': 4, '1111 0100': 5, '1111 0110': 3, '1111 0111': 9, '1111 1000': 4, '1111 1001': 1, '1111 1010': 2, '1111 1011': 8, '1111 1100': 10, '1111 1101': 10, '1111 1110': 106, '1111 1111': 253}\n",
      "\n",
      "# ALAP scheduling policy\n",
      "{'0000 0000': 157, '0000 0001': 4, '0001 0000': 213, '0001 0001': 2, '0001 0010': 3, '0001 0011': 2, '0001 0101': 1, '0001 0111': 5, '0001 1000': 2, '0001 1010': 1, '0001 1100': 4, '0001 1101': 2, '0001 1110': 41, '0001 1111': 149, '0000 0010': 4, '0010 0000': 147, '0010 0001': 6, '0010 0010': 2, '0010 0011': 3, '0010 0100': 1, '0010 0110': 2, '0010 1000': 2, '0010 1010': 1, '0010 1011': 1, '0010 1100': 5, '0010 1101': 2, '0010 1110': 33, '0010 1111': 111, '0000 0011': 4, '0011 0000': 161, '0011 0001': 4, '0011 0011': 1, '0011 0100': 1, '0011 0111': 1, '0011 1000': 3, '0011 1010': 1, '0011 1011': 5, '0011 1100': 2, '0011 1101': 7, '0011 1110': 37, '0011 1111': 137, '0100 0000': 362, '0100 0001': 10, '0100 0010': 3, '0100 0011': 7, '0100 0100': 1, '0100 0110': 2, '0100 0111': 7, '0100 1000': 4, '0100 1010': 3, '0100 1011': 6, '0100 1100': 15, '0100 1101': 8, '0100 1110': 68, '0100 1111': 262, '0101 0000': 469, '0101 0001': 14, '0101 0010': 5, '0101 0011': 8, '0101 0100': 3, '0101 0110': 3, '0101 0111': 9, '0101 1000': 4, '0101 1010': 1, '0101 1011': 2, '0101 1100': 23, '0101 1101': 10, '0101 1110': 110, '0101 1111': 288, '0000 0110': 1, '0110 0000': 221, '0110 0001': 7, '0110 0010': 3, '0110 0011': 6, '0110 0100': 3, '0110 0110': 1, '0110 0111': 1, '0110 1000': 5, '0110 1010': 1, '0110 1011': 3, '0110 1100': 5, '0110 1101': 3, '0110 1110': 44, '0110 1111': 162, '0000 0111': 1, '0111 0000': 306, '0111 0001': 9, '0111 0010': 3, '0111 0011': 6, '0111 0100': 5, '0111 0111': 3, '0111 1000': 8, '0111 1010': 1, '0111 1011': 3, '0111 1100': 4, '0111 1101': 6, '0111 1110': 57, '0111 1111': 195, '0000 1000': 4, '1000 0000': 126, '1000 0001': 4, '1000 0010': 3, '1000 0011': 4, '1000 0100': 1, '1000 0110': 2, '1000 0111': 2, '1000 1000': 3, '1000 1010': 1, '1000 1011': 1, '1000 1100': 4, '1000 1101': 4, '1000 1110': 30, '1000 1111': 107, '1001 0000': 232, '1001 0001': 4, '1001 0010': 3, '1001 0011': 6, '1001 0100': 1, '1001 0111': 2, '1001 1000': 4, '1001 1010': 1, '1001 1011': 4, '1001 1100': 7, '1001 1110': 51, '1001 1111': 143, '1010 0000': 106, '1010 0001': 2, '1010 0010': 3, '1010 0011': 1, '1010 0100': 1, '1010 0110': 2, '1010 1000': 1, '1010 1001': 1, '1010 1011': 1, '1010 1100': 1, '1010 1101': 2, '1010 1110': 31, '1010 1111': 91, '0000 1011': 1, '1011 0000': 132, '1011 0001': 8, '1011 0010': 1, '1011 0011': 2, '1011 0110': 1, '1011 0111': 4, '1011 1000': 2, '1011 1011': 1, '1011 1100': 8, '1011 1101': 4, '1011 1110': 34, '1011 1111': 104, '0000 1100': 5, '1100 0000': 366, '1100 0001': 14, '1100 0010': 2, '1100 0011': 3, '1100 0100': 3, '1100 0101': 1, '1100 0110': 1, '1100 0111': 9, '1100 1000': 4, '1100 1010': 1, '1100 1011': 2, '1100 1100': 8, '1100 1101': 5, '1100 1110': 91, '1100 1111': 248, '0000 1101': 8, '1101 0000': 243, '1101 0001': 12, '1101 0011': 4, '1101 0110': 2, '1101 0111': 5, '1101 1000': 1, '1101 1010': 1, '1101 1011': 4, '1101 1100': 9, '1101 1101': 1, '1101 1110': 55, '1101 1111': 166, '0000 1110': 53, '1110 0000': 237, '1110 0001': 7, '1110 0011': 9, '1110 0100': 2, '1110 0110': 2, '1110 0111': 5, '1110 1000': 2, '1110 1011': 3, '1110 1100': 8, '1110 1101': 11, '1110 1110': 56, '1110 1111': 165, '0000 1111': 130, '1111 0000': 424, '1111 0001': 13, '1111 0010': 4, '1111 0011': 4, '1111 0100': 4, '1111 0101': 1, '1111 0110': 5, '1111 0111': 10, '1111 1000': 11, '1111 1010': 3, '1111 1011': 2, '1111 1100': 14, '1111 1101': 10, '1111 1110': 98, '1111 1111': 276}\n"
     ]
    }
   ],
   "source": [
    "# Show the counts\n",
    "print(\"# Simulator\")\n",
    "print(counts_sim)\n",
    "\n",
    "print(\"\\n# No scheduling\")\n",
    "for _count in count_list: \n",
    "    print(_count)\n",
    "\n",
    "print(\"\\n# ALAP scheduling policy\")\n",
    "for _count_alap in counts_alap_list: \n",
    "    print(_count_alap)"
   ]
  },
  {
   "cell_type": "code",
   "execution_count": null,
   "metadata": {
    "lines_to_next_cell": 2
   },
   "outputs": [],
   "source": []
  }
 ],
 "metadata": {
  "jupytext": {
   "text_representation": {
    "extension": ".py",
    "format_name": "light",
    "format_version": "1.5",
    "jupytext_version": "1.7.1"
   }
  },
  "kernelspec": {
   "display_name": "Python 3",
   "language": "python",
   "name": "python3"
  },
  "language_info": {
   "codemirror_mode": {
    "name": "ipython",
    "version": 3
   },
   "file_extension": ".py",
   "mimetype": "text/x-python",
   "name": "python",
   "nbconvert_exporter": "python",
   "pygments_lexer": "ipython3",
   "version": "3.8.3"
  }
 },
 "nbformat": 4,
 "nbformat_minor": 2
}
