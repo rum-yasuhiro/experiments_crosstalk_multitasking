{
 "cells": [
  {
   "cell_type": "markdown",
   "metadata": {},
   "source": [
    "# ALAP Scheduling \n",
    "### Cat state (4-qubits, 3 CX) + QFT (4-qubits, 12 CX)\n",
    "\n",
    "2020-12-13"
   ]
  },
  {
   "cell_type": "code",
   "execution_count": 1,
   "metadata": {},
   "outputs": [],
   "source": [
    "# import python tools\n",
    "import os\n",
    "\n",
    "# import qiskit tool\n",
    "from qiskit.transpiler import InstructionDurations\n",
    "\n",
    "# import experimental tools\n",
    "from experiments.alap_scheduling import execute_alap, result_alap\n",
    "from experiments.utils import get_IBM_backend"
   ]
  },
  {
   "cell_type": "markdown",
   "metadata": {},
   "source": [
    "## Experimental Settings"
   ]
  },
  {
   "cell_type": "code",
   "execution_count": 2,
   "metadata": {},
   "outputs": [],
   "source": [
    "date = '2020-12-13'\n",
    "\n",
    "# Choose benchmark circuits from QASMBench\n",
    "benchmark_sets = ['cat_state_n4', 'qft_n4']\n",
    "benchmark_size = 'small'"
   ]
  },
  {
   "cell_type": "code",
   "execution_count": 3,
   "metadata": {},
   "outputs": [
    {
     "name": "stderr",
     "output_type": "stream",
     "text": [
      "/Users/Yasuhiro/.local/share/virtualenvs/experiments-VWP9UmJy/lib/python3.8/site-packages/qiskit/providers/ibmq/ibmqfactory.py:192: UserWarning: Timestamps in IBMQ backend properties, jobs, and job results are all now in local time instead of UTC.\n",
      "  warnings.warn('Timestamps in IBMQ backend properties, jobs, and job results '\n"
     ]
    }
   ],
   "source": [
    "# Define backend device\n",
    "backend = get_IBM_backend('ibmq_paris')\n",
    "simulator = get_IBM_backend('ibmq_qasm_simulator')\n",
    "\n",
    "# Number of trials\n",
    "shots = 8192\n",
    "\n",
    "# Number of experimental seeds\n",
    "nseed = 1"
   ]
  },
  {
   "cell_type": "code",
   "execution_count": 4,
   "metadata": {},
   "outputs": [],
   "source": [
    "# define path to the file to save job data\n",
    "file_name = date + '_'\n",
    "sorted_benchmarks = sorted(benchmark_sets)\n",
    "for _name in sorted_benchmarks: \n",
    "    file_name += _name\n",
    "    if _name == sorted_benchmarks[-1]:\n",
    "        break\n",
    "    file_name += '+'\n",
    "job_save_path = str(os.getcwd()) + \"/job_id/from20201211/\" + file_name"
   ]
  },
  {
   "cell_type": "markdown",
   "metadata": {},
   "source": [
    "## Execute experiments on IBMQ\n",
    "\n",
    "Here, we execute three types of experiments. First one is the  job run on simulator to calculate exact answer of the multi-programming circuit. The other two are the jobs executed on the real device. One is the base line, which is no scheduled, and the other one is the circuit executed with alap schedule policy. "
   ]
  },
  {
   "cell_type": "code",
   "execution_count": 5,
   "metadata": {},
   "outputs": [],
   "source": [
    "instruction_durations = InstructionDurations.from_backend(backend)"
   ]
  },
  {
   "cell_type": "code",
   "execution_count": 6,
   "metadata": {},
   "outputs": [
    {
     "name": "stdout",
     "output_type": "stream",
     "text": [
      "prog: Qubit(QuantumRegister(4, 'q14'), 0) , hw: 23\n",
      "prog: Qubit(QuantumRegister(4, 'q14'), 1) , hw: 24\n",
      "prog: Qubit(QuantumRegister(4, 'q14'), 2) , hw: 25\n",
      "prog: Qubit(QuantumRegister(4, 'q14'), 3) , hw: 26\n",
      "prog: Qubit(QuantumRegister(4, 'q15'), 0) , hw: 16\n",
      "prog: Qubit(QuantumRegister(4, 'q15'), 1) , hw: 19\n",
      "prog: Qubit(QuantumRegister(4, 'q15'), 2) , hw: 20\n",
      "prog: Qubit(QuantumRegister(4, 'q15'), 3) , hw: 22\n",
      "prog: Qubit(QuantumRegister(4, 'q79'), 0) , hw: 23\n",
      "prog: Qubit(QuantumRegister(4, 'q79'), 1) , hw: 24\n",
      "prog: Qubit(QuantumRegister(4, 'q79'), 2) , hw: 25\n",
      "prog: Qubit(QuantumRegister(4, 'q79'), 3) , hw: 26\n",
      "prog: Qubit(QuantumRegister(4, 'q80'), 0) , hw: 16\n",
      "prog: Qubit(QuantumRegister(4, 'q80'), 1) , hw: 19\n",
      "prog: Qubit(QuantumRegister(4, 'q80'), 2) , hw: 20\n",
      "prog: Qubit(QuantumRegister(4, 'q80'), 3) , hw: 22\n"
     ]
    }
   ],
   "source": [
    "job_sim, job, job_alap = execute_alap(\n",
    "                    size=benchmark_size, \n",
    "                    names=benchmark_sets, \n",
    "                    backend=backend, \n",
    "                    simulator=simulator,\n",
    "                    shots = shots, \n",
    "                    nseed=1,\n",
    "                    save_path=job_save_path, \n",
    "                    instruction_durations=instruction_durations,\n",
    "                    )"
   ]
  },
  {
   "cell_type": "code",
   "execution_count": 7,
   "metadata": {},
   "outputs": [
    {
     "name": "stdout",
     "output_type": "stream",
     "text": [
      "<qiskit.providers.ibmq.job.ibmqjob.IBMQJob object at 0x7fc49d222ac0>\n",
      "[<qiskit.providers.ibmq.job.ibmqjob.IBMQJob object at 0x7fc49de03d30>]\n",
      "[<qiskit.providers.ibmq.job.ibmqjob.IBMQJob object at 0x7fc49de03310>]\n"
     ]
    }
   ],
   "source": [
    "# Show the each job\n",
    "print(job_sim)\n",
    "print(job)\n",
    "print(job_alap)"
   ]
  },
  {
   "cell_type": "markdown",
   "metadata": {},
   "source": [
    "## Get the results"
   ]
  },
  {
   "cell_type": "code",
   "execution_count": 8,
   "metadata": {},
   "outputs": [],
   "source": [
    "# define path to the file to save results\n",
    "result_save_path = str(os.getcwd()) + \"/results/from20201211/\" + file_name"
   ]
  },
  {
   "cell_type": "code",
   "execution_count": 9,
   "metadata": {},
   "outputs": [],
   "source": [
    "result_sim, result_list, result_alap_list, counts_sim, count_list, counts_alap_list, qc_names = result_alap(backend, simulator, job_save_path, result_save_path)"
   ]
  },
  {
   "cell_type": "code",
   "execution_count": 10,
   "metadata": {},
   "outputs": [
    {
     "name": "stdout",
     "output_type": "stream",
     "text": [
      "# Simulator\n",
      "Result(backend_name='ibmq_qasm_simulator', backend_version='0.7.0', qobj_id='703ee691-a6ba-429f-85e6-94f5b94cee14', job_id='5fd57f8e4266b8001903f6eb', success=True, results=[ExperimentResult(shots=8192, success=True, meas_level=MeasLevel.CLASSIFIED, data=ExperimentResultData(counts={'0x0': 245, '0x10': 280, '0x1f': 277, '0x20': 252, '0x2f': 277, '0x30': 276, '0x3f': 256, '0x40': 248, '0x4f': 246, '0x50': 290, '0x5f': 293, '0x60': 251, '0x6f': 265, '0x70': 235, '0x7f': 260, '0x80': 249, '0x8f': 264, '0x90': 255, '0x9f': 244, '0xa0': 249, '0xaf': 217, '0xb0': 255, '0xbf': 232, '0xc0': 254, '0xcf': 260, '0xd0': 258, '0xdf': 262, '0xe0': 258, '0xef': 215, '0xf': 258, '0xf0': 240, '0xff': 271}), header=QobjExperimentHeader(clbit_labels=[['c0', 0], ['c0', 1], ['c0', 2], ['c0', 3], ['c1', 0], ['c1', 1], ['c1', 2], ['c1', 3]], creg_sizes=[['c0', 4], ['c1', 4]], global_phase=0.0, memory_slots=8, n_qubits=8, name='circuit8', qreg_sizes=[['q0', 4], ['q1', 4]], qubit_labels=[['q0', 0], ['q0', 1], ['q0', 2], ['q0', 3], ['q1', 0], ['q1', 1], ['q1', 2], ['q1', 3]]), status=DONE, metadata={'fusion': {'applied': False, 'enabled': True, 'method': 'unitary', 'threshold': 14}, 'measure_sampling': True, 'method': 'statevector', 'parallel_shots': 1, 'parallel_state_update': 16}, seed_simulator=3358192290, time_taken=0.022625031)], date=2020-12-13 11:42:26.446910+09:00, status=COMPLETED, status=QobjHeader(backend_name='ibmq_qasm_simulator', backend_version='0.1.547'), metadata={'max_memory_mb': 257936, 'omp_enabled': True, 'parallel_experiments': 1, 'time_taken': 0.022777321000000003}, time_taken=0.022777321000000003, client_version={'qiskit': '0.23.1'})\n",
      "\n",
      "# No scheduling\n",
      "Result(backend_name='ibmq_paris', backend_version='1.6.6', qobj_id='c9c3860d-e1da-4b98-89e3-529a5fc7faa0', job_id='5fd57f9105b6010019771fee', success=True, results=[ExperimentResult(shots=8192, success=True, meas_level=2, data=ExperimentResultData(counts={'0x0': 258, '0x1': 3, '0x10': 252, '0x11': 3, '0x12': 1, '0x13': 10, '0x14': 3, '0x17': 5, '0x18': 1, '0x1b': 5, '0x1c': 3, '0x1d': 4, '0x1e': 17, '0x1f': 227, '0x20': 254, '0x21': 4, '0x23': 8, '0x24': 3, '0x26': 1, '0x27': 6, '0x28': 3, '0x2b': 7, '0x2c': 5, '0x2d': 6, '0x2e': 20, '0x2f': 232, '0x3': 14, '0x30': 189, '0x32': 2, '0x33': 7, '0x37': 6, '0x38': 1, '0x3a': 1, '0x3b': 10, '0x3c': 3, '0x3d': 3, '0x3e': 10, '0x3f': 164, '0x4': 2, '0x40': 220, '0x41': 4, '0x42': 1, '0x43': 10, '0x44': 2, '0x46': 1, '0x47': 8, '0x48': 4, '0x4a': 3, '0x4b': 7, '0x4c': 4, '0x4d': 5, '0x4e': 22, '0x4f': 187, '0x50': 188, '0x51': 3, '0x53': 6, '0x54': 1, '0x57': 6, '0x58': 1, '0x5a': 1, '0x5b': 5, '0x5c': 6, '0x5d': 4, '0x5e': 17, '0x5f': 206, '0x60': 221, '0x61': 9, '0x62': 2, '0x63': 11, '0x64': 4, '0x67': 7, '0x68': 5, '0x69': 1, '0x6a': 1, '0x6b': 4, '0x6c': 9, '0x6d': 6, '0x6e': 22, '0x6f': 216, '0x7': 7, '0x70': 224, '0x71': 5, '0x73': 8, '0x74': 2, '0x76': 1, '0x77': 5, '0x78': 1, '0x7b': 11, '0x7c': 4, '0x7d': 5, '0x7e': 20, '0x7f': 177, '0x8': 3, '0x80': 252, '0x81': 6, '0x82': 2, '0x83': 8, '0x84': 3, '0x85': 1, '0x87': 7, '0x88': 4, '0x8a': 1, '0x8b': 7, '0x8c': 10, '0x8d': 8, '0x8e': 32, '0x8f': 241, '0x9': 1, '0x90': 267, '0x91': 3, '0x92': 1, '0x93': 14, '0x94': 1, '0x95': 1, '0x97': 8, '0x98': 2, '0x9a': 1, '0x9b': 11, '0x9c': 6, '0x9d': 8, '0x9e': 16, '0x9f': 214, '0xa0': 253, '0xa1': 6, '0xa2': 2, '0xa3': 6, '0xa4': 4, '0xa6': 1, '0xa7': 6, '0xa8': 5, '0xa9': 1, '0xaa': 1, '0xab': 6, '0xac': 6, '0xad': 4, '0xae': 26, '0xaf': 248, '0xb': 6, '0xb0': 214, '0xb1': 5, '0xb2': 1, '0xb3': 6, '0xb4': 1, '0xb7': 2, '0xba': 1, '0xbb': 8, '0xbc': 12, '0xbd': 7, '0xbe': 13, '0xbf': 201, '0xc': 5, '0xc0': 250, '0xc1': 3, '0xc2': 1, '0xc3': 4, '0xc4': 6, '0xc6': 1, '0xc7': 4, '0xc8': 2, '0xca': 1, '0xcb': 4, '0xcc': 8, '0xcd': 4, '0xce': 20, '0xcf': 253, '0xd0': 254, '0xd1': 3, '0xd2': 1, '0xd3': 8, '0xd4': 5, '0xd7': 8, '0xd8': 3, '0xdb': 9, '0xdc': 5, '0xdd': 3, '0xde': 20, '0xdf': 215, '0xe': 19, '0xe0': 262, '0xe1': 3, '0xe2': 2, '0xe3': 9, '0xe4': 4, '0xe6': 1, '0xe7': 10, '0xe8': 1, '0xeb': 15, '0xec': 7, '0xed': 3, '0xee': 22, '0xef': 233, '0xf': 219, '0xf0': 169, '0xf1': 5, '0xf2': 2, '0xf3': 7, '0xf4': 1, '0xf7': 7, '0xf8': 2, '0xfb': 5, '0xfc': 9, '0xfd': 6, '0xfe': 10, '0xff': 205}), header=QobjExperimentHeader(clbit_labels=[['c2', 0], ['c2', 1], ['c2', 2], ['c2', 3], ['c3', 0], ['c3', 1], ['c3', 2], ['c3', 3]], creg_sizes=[['c2', 4], ['c3', 4]], global_phase=-0.8840959433223818, memory_slots=8, n_qubits=27, name='circuit122', qreg_sizes=[['q', 27]], qubit_labels=[['q', 0], ['q', 1], ['q', 2], ['q', 3], ['q', 4], ['q', 5], ['q', 6], ['q', 7], ['q', 8], ['q', 9], ['q', 10], ['q', 11], ['q', 12], ['q', 13], ['q', 14], ['q', 15], ['q', 16], ['q', 17], ['q', 18], ['q', 19], ['q', 20], ['q', 21], ['q', 22], ['q', 23], ['q', 24], ['q', 25], ['q', 26]]), memory=False)], date=2020-12-13 11:48:16+09:00, status=Successful completion, status=QobjHeader(backend_name='ibmq_paris', backend_version='1.6.6'), time_taken=21.74400496482849, execution_id='8484e5ea-3ced-11eb-9813-b02628ea1e00', client_version={'qiskit': '0.23.1'})\n",
      "\n",
      "# ALAP scheduling policy\n",
      "Result(backend_name='ibmq_paris', backend_version='1.6.6', qobj_id='30807dd6-e697-4021-895d-164d9bab252f', job_id='5fd57f92afed590019026299', success=True, results=[ExperimentResult(shots=8192, success=True, meas_level=2, data=ExperimentResultData(counts={'0x0': 247, '0x1': 8, '0x10': 255, '0x11': 6, '0x13': 7, '0x14': 8, '0x17': 6, '0x18': 1, '0x1b': 11, '0x1c': 7, '0x1d': 5, '0x1e': 25, '0x1f': 197, '0x2': 2, '0x20': 208, '0x21': 6, '0x22': 2, '0x23': 8, '0x24': 2, '0x27': 7, '0x2a': 1, '0x2b': 5, '0x2c': 9, '0x2d': 4, '0x2e': 17, '0x2f': 199, '0x3': 7, '0x30': 186, '0x31': 6, '0x33': 6, '0x34': 3, '0x36': 1, '0x37': 3, '0x38': 5, '0x3a': 1, '0x3b': 2, '0x3c': 3, '0x3d': 4, '0x3e': 14, '0x3f': 184, '0x4': 2, '0x40': 231, '0x41': 3, '0x42': 2, '0x43': 8, '0x44': 2, '0x46': 1, '0x47': 3, '0x48': 2, '0x4b': 7, '0x4c': 10, '0x4d': 3, '0x4e': 31, '0x4f': 212, '0x50': 248, '0x51': 5, '0x52': 3, '0x53': 6, '0x54': 5, '0x55': 1, '0x57': 9, '0x58': 2, '0x5b': 9, '0x5c': 3, '0x5d': 4, '0x5e': 27, '0x5f': 224, '0x60': 249, '0x61': 6, '0x63': 6, '0x64': 5, '0x67': 4, '0x68': 1, '0x6b': 6, '0x6c': 10, '0x6d': 8, '0x6e': 24, '0x6f': 248, '0x7': 8, '0x70': 219, '0x71': 3, '0x72': 2, '0x73': 6, '0x74': 5, '0x76': 1, '0x77': 16, '0x78': 1, '0x7a': 1, '0x7b': 8, '0x7c': 10, '0x7d': 10, '0x7e': 24, '0x7f': 214, '0x8': 2, '0x80': 215, '0x81': 5, '0x82': 2, '0x83': 7, '0x84': 6, '0x86': 1, '0x87': 1, '0x88': 1, '0x8b': 9, '0x8c': 10, '0x8d': 4, '0x8e': 12, '0x8f': 215, '0x90': 242, '0x91': 11, '0x92': 2, '0x93': 4, '0x94': 1, '0x97': 4, '0x98': 2, '0x9a': 3, '0x9b': 9, '0x9c': 6, '0x9d': 2, '0x9e': 19, '0x9f': 193, '0xa0': 219, '0xa1': 5, '0xa2': 1, '0xa3': 13, '0xa4': 3, '0xa7': 3, '0xa8': 1, '0xaa': 2, '0xab': 11, '0xac': 7, '0xad': 2, '0xae': 18, '0xaf': 215, '0xb': 10, '0xb0': 202, '0xb1': 6, '0xb2': 2, '0xb3': 9, '0xb4': 2, '0xb7': 4, '0xb8': 1, '0xba': 3, '0xbb': 3, '0xbc': 7, '0xbd': 7, '0xbe': 19, '0xbf': 200, '0xc': 7, '0xc0': 253, '0xc1': 4, '0xc3': 5, '0xc4': 5, '0xc6': 1, '0xc7': 7, '0xc8': 2, '0xc9': 1, '0xcb': 9, '0xcc': 4, '0xcd': 3, '0xce': 20, '0xcf': 221, '0xd': 2, '0xd0': 233, '0xd1': 8, '0xd2': 1, '0xd3': 6, '0xd4': 3, '0xd6': 1, '0xd7': 8, '0xd8': 8, '0xda': 2, '0xdb': 6, '0xdc': 7, '0xdd': 2, '0xde': 23, '0xdf': 237, '0xe': 29, '0xe0': 253, '0xe1': 5, '0xe2': 5, '0xe3': 12, '0xe4': 4, '0xe7': 5, '0xe8': 1, '0xea': 1, '0xeb': 9, '0xec': 10, '0xed': 4, '0xee': 22, '0xef': 211, '0xf': 230, '0xf0': 234, '0xf1': 5, '0xf2': 4, '0xf3': 4, '0xf4': 1, '0xf7': 8, '0xf8': 3, '0xfa': 1, '0xfb': 6, '0xfc': 8, '0xfd': 5, '0xfe': 19, '0xff': 205}), header=QobjExperimentHeader(clbit_labels=[['c4', 0], ['c4', 1], ['c4', 2], ['c4', 3], ['c5', 0], ['c5', 1], ['c5', 2], ['c5', 3]], creg_sizes=[['c4', 4], ['c5', 4]], global_phase=0.0, memory_slots=8, n_qubits=27, name='circuit314', qreg_sizes=[['q', 27]], qubit_labels=[['q', 0], ['q', 1], ['q', 2], ['q', 3], ['q', 4], ['q', 5], ['q', 6], ['q', 7], ['q', 8], ['q', 9], ['q', 10], ['q', 11], ['q', 12], ['q', 13], ['q', 14], ['q', 15], ['q', 16], ['q', 17], ['q', 18], ['q', 19], ['q', 20], ['q', 21], ['q', 22], ['q', 23], ['q', 24], ['q', 25], ['q', 26]]), memory=False)], date=2020-12-13 11:49:23+09:00, status=Successful completion, status=QobjHeader(backend_name='ibmq_paris', backend_version='1.6.6'), time_taken=22.64656901359558, execution_id='a99d2e3c-3ced-11eb-81f2-b02628ea1e00', client_version={'qiskit': '0.23.1'})\n"
     ]
    }
   ],
   "source": [
    "# Show the results\n",
    "print(\"# Simulator\")\n",
    "print(result_sim)\n",
    "\n",
    "print(\"\\n# No scheduling\")\n",
    "for _result in result_list: \n",
    "    print(_result)\n",
    "\n",
    "print(\"\\n# ALAP scheduling policy\")\n",
    "for _result_alap in result_alap_list: \n",
    "    print(_result_alap)"
   ]
  },
  {
   "cell_type": "code",
   "execution_count": 11,
   "metadata": {
    "lines_to_next_cell": 0
   },
   "outputs": [
    {
     "name": "stdout",
     "output_type": "stream",
     "text": [
      "# Simulator\n",
      "{'0000 0000': 245, '0001 0000': 280, '0001 1111': 277, '0010 0000': 252, '0010 1111': 277, '0011 0000': 276, '0011 1111': 256, '0100 0000': 248, '0100 1111': 246, '0101 0000': 290, '0101 1111': 293, '0110 0000': 251, '0110 1111': 265, '0111 0000': 235, '0111 1111': 260, '1000 0000': 249, '1000 1111': 264, '1001 0000': 255, '1001 1111': 244, '1010 0000': 249, '1010 1111': 217, '1011 0000': 255, '1011 1111': 232, '1100 0000': 254, '1100 1111': 260, '1101 0000': 258, '1101 1111': 262, '1110 0000': 258, '1110 1111': 215, '0000 1111': 258, '1111 0000': 240, '1111 1111': 271}\n",
      "\n",
      "# No scheduling\n",
      "{'0000 0000': 258, '0000 0001': 3, '0001 0000': 252, '0001 0001': 3, '0001 0010': 1, '0001 0011': 10, '0001 0100': 3, '0001 0111': 5, '0001 1000': 1, '0001 1011': 5, '0001 1100': 3, '0001 1101': 4, '0001 1110': 17, '0001 1111': 227, '0010 0000': 254, '0010 0001': 4, '0010 0011': 8, '0010 0100': 3, '0010 0110': 1, '0010 0111': 6, '0010 1000': 3, '0010 1011': 7, '0010 1100': 5, '0010 1101': 6, '0010 1110': 20, '0010 1111': 232, '0000 0011': 14, '0011 0000': 189, '0011 0010': 2, '0011 0011': 7, '0011 0111': 6, '0011 1000': 1, '0011 1010': 1, '0011 1011': 10, '0011 1100': 3, '0011 1101': 3, '0011 1110': 10, '0011 1111': 164, '0000 0100': 2, '0100 0000': 220, '0100 0001': 4, '0100 0010': 1, '0100 0011': 10, '0100 0100': 2, '0100 0110': 1, '0100 0111': 8, '0100 1000': 4, '0100 1010': 3, '0100 1011': 7, '0100 1100': 4, '0100 1101': 5, '0100 1110': 22, '0100 1111': 187, '0101 0000': 188, '0101 0001': 3, '0101 0011': 6, '0101 0100': 1, '0101 0111': 6, '0101 1000': 1, '0101 1010': 1, '0101 1011': 5, '0101 1100': 6, '0101 1101': 4, '0101 1110': 17, '0101 1111': 206, '0110 0000': 221, '0110 0001': 9, '0110 0010': 2, '0110 0011': 11, '0110 0100': 4, '0110 0111': 7, '0110 1000': 5, '0110 1001': 1, '0110 1010': 1, '0110 1011': 4, '0110 1100': 9, '0110 1101': 6, '0110 1110': 22, '0110 1111': 216, '0000 0111': 7, '0111 0000': 224, '0111 0001': 5, '0111 0011': 8, '0111 0100': 2, '0111 0110': 1, '0111 0111': 5, '0111 1000': 1, '0111 1011': 11, '0111 1100': 4, '0111 1101': 5, '0111 1110': 20, '0111 1111': 177, '0000 1000': 3, '1000 0000': 252, '1000 0001': 6, '1000 0010': 2, '1000 0011': 8, '1000 0100': 3, '1000 0101': 1, '1000 0111': 7, '1000 1000': 4, '1000 1010': 1, '1000 1011': 7, '1000 1100': 10, '1000 1101': 8, '1000 1110': 32, '1000 1111': 241, '0000 1001': 1, '1001 0000': 267, '1001 0001': 3, '1001 0010': 1, '1001 0011': 14, '1001 0100': 1, '1001 0101': 1, '1001 0111': 8, '1001 1000': 2, '1001 1010': 1, '1001 1011': 11, '1001 1100': 6, '1001 1101': 8, '1001 1110': 16, '1001 1111': 214, '1010 0000': 253, '1010 0001': 6, '1010 0010': 2, '1010 0011': 6, '1010 0100': 4, '1010 0110': 1, '1010 0111': 6, '1010 1000': 5, '1010 1001': 1, '1010 1010': 1, '1010 1011': 6, '1010 1100': 6, '1010 1101': 4, '1010 1110': 26, '1010 1111': 248, '0000 1011': 6, '1011 0000': 214, '1011 0001': 5, '1011 0010': 1, '1011 0011': 6, '1011 0100': 1, '1011 0111': 2, '1011 1010': 1, '1011 1011': 8, '1011 1100': 12, '1011 1101': 7, '1011 1110': 13, '1011 1111': 201, '0000 1100': 5, '1100 0000': 250, '1100 0001': 3, '1100 0010': 1, '1100 0011': 4, '1100 0100': 6, '1100 0110': 1, '1100 0111': 4, '1100 1000': 2, '1100 1010': 1, '1100 1011': 4, '1100 1100': 8, '1100 1101': 4, '1100 1110': 20, '1100 1111': 253, '1101 0000': 254, '1101 0001': 3, '1101 0010': 1, '1101 0011': 8, '1101 0100': 5, '1101 0111': 8, '1101 1000': 3, '1101 1011': 9, '1101 1100': 5, '1101 1101': 3, '1101 1110': 20, '1101 1111': 215, '0000 1110': 19, '1110 0000': 262, '1110 0001': 3, '1110 0010': 2, '1110 0011': 9, '1110 0100': 4, '1110 0110': 1, '1110 0111': 10, '1110 1000': 1, '1110 1011': 15, '1110 1100': 7, '1110 1101': 3, '1110 1110': 22, '1110 1111': 233, '0000 1111': 219, '1111 0000': 169, '1111 0001': 5, '1111 0010': 2, '1111 0011': 7, '1111 0100': 1, '1111 0111': 7, '1111 1000': 2, '1111 1011': 5, '1111 1100': 9, '1111 1101': 6, '1111 1110': 10, '1111 1111': 205}\n",
      "\n",
      "# ALAP scheduling policy\n",
      "{'0000 0000': 247, '0000 0001': 8, '0001 0000': 255, '0001 0001': 6, '0001 0011': 7, '0001 0100': 8, '0001 0111': 6, '0001 1000': 1, '0001 1011': 11, '0001 1100': 7, '0001 1101': 5, '0001 1110': 25, '0001 1111': 197, '0000 0010': 2, '0010 0000': 208, '0010 0001': 6, '0010 0010': 2, '0010 0011': 8, '0010 0100': 2, '0010 0111': 7, '0010 1010': 1, '0010 1011': 5, '0010 1100': 9, '0010 1101': 4, '0010 1110': 17, '0010 1111': 199, '0000 0011': 7, '0011 0000': 186, '0011 0001': 6, '0011 0011': 6, '0011 0100': 3, '0011 0110': 1, '0011 0111': 3, '0011 1000': 5, '0011 1010': 1, '0011 1011': 2, '0011 1100': 3, '0011 1101': 4, '0011 1110': 14, '0011 1111': 184, '0000 0100': 2, '0100 0000': 231, '0100 0001': 3, '0100 0010': 2, '0100 0011': 8, '0100 0100': 2, '0100 0110': 1, '0100 0111': 3, '0100 1000': 2, '0100 1011': 7, '0100 1100': 10, '0100 1101': 3, '0100 1110': 31, '0100 1111': 212, '0101 0000': 248, '0101 0001': 5, '0101 0010': 3, '0101 0011': 6, '0101 0100': 5, '0101 0101': 1, '0101 0111': 9, '0101 1000': 2, '0101 1011': 9, '0101 1100': 3, '0101 1101': 4, '0101 1110': 27, '0101 1111': 224, '0110 0000': 249, '0110 0001': 6, '0110 0011': 6, '0110 0100': 5, '0110 0111': 4, '0110 1000': 1, '0110 1011': 6, '0110 1100': 10, '0110 1101': 8, '0110 1110': 24, '0110 1111': 248, '0000 0111': 8, '0111 0000': 219, '0111 0001': 3, '0111 0010': 2, '0111 0011': 6, '0111 0100': 5, '0111 0110': 1, '0111 0111': 16, '0111 1000': 1, '0111 1010': 1, '0111 1011': 8, '0111 1100': 10, '0111 1101': 10, '0111 1110': 24, '0111 1111': 214, '0000 1000': 2, '1000 0000': 215, '1000 0001': 5, '1000 0010': 2, '1000 0011': 7, '1000 0100': 6, '1000 0110': 1, '1000 0111': 1, '1000 1000': 1, '1000 1011': 9, '1000 1100': 10, '1000 1101': 4, '1000 1110': 12, '1000 1111': 215, '1001 0000': 242, '1001 0001': 11, '1001 0010': 2, '1001 0011': 4, '1001 0100': 1, '1001 0111': 4, '1001 1000': 2, '1001 1010': 3, '1001 1011': 9, '1001 1100': 6, '1001 1101': 2, '1001 1110': 19, '1001 1111': 193, '1010 0000': 219, '1010 0001': 5, '1010 0010': 1, '1010 0011': 13, '1010 0100': 3, '1010 0111': 3, '1010 1000': 1, '1010 1010': 2, '1010 1011': 11, '1010 1100': 7, '1010 1101': 2, '1010 1110': 18, '1010 1111': 215, '0000 1011': 10, '1011 0000': 202, '1011 0001': 6, '1011 0010': 2, '1011 0011': 9, '1011 0100': 2, '1011 0111': 4, '1011 1000': 1, '1011 1010': 3, '1011 1011': 3, '1011 1100': 7, '1011 1101': 7, '1011 1110': 19, '1011 1111': 200, '0000 1100': 7, '1100 0000': 253, '1100 0001': 4, '1100 0011': 5, '1100 0100': 5, '1100 0110': 1, '1100 0111': 7, '1100 1000': 2, '1100 1001': 1, '1100 1011': 9, '1100 1100': 4, '1100 1101': 3, '1100 1110': 20, '1100 1111': 221, '0000 1101': 2, '1101 0000': 233, '1101 0001': 8, '1101 0010': 1, '1101 0011': 6, '1101 0100': 3, '1101 0110': 1, '1101 0111': 8, '1101 1000': 8, '1101 1010': 2, '1101 1011': 6, '1101 1100': 7, '1101 1101': 2, '1101 1110': 23, '1101 1111': 237, '0000 1110': 29, '1110 0000': 253, '1110 0001': 5, '1110 0010': 5, '1110 0011': 12, '1110 0100': 4, '1110 0111': 5, '1110 1000': 1, '1110 1010': 1, '1110 1011': 9, '1110 1100': 10, '1110 1101': 4, '1110 1110': 22, '1110 1111': 211, '0000 1111': 230, '1111 0000': 234, '1111 0001': 5, '1111 0010': 4, '1111 0011': 4, '1111 0100': 1, '1111 0111': 8, '1111 1000': 3, '1111 1010': 1, '1111 1011': 6, '1111 1100': 8, '1111 1101': 5, '1111 1110': 19, '1111 1111': 205}\n"
     ]
    }
   ],
   "source": [
    "# Show the counts\n",
    "print(\"# Simulator\")\n",
    "print(counts_sim)\n",
    "\n",
    "print(\"\\n# No scheduling\")\n",
    "for _count in count_list: \n",
    "    print(_count)\n",
    "\n",
    "print(\"\\n# ALAP scheduling policy\")\n",
    "for _count_alap in counts_alap_list: \n",
    "    print(_count_alap)"
   ]
  },
  {
   "cell_type": "code",
   "execution_count": null,
   "metadata": {
    "lines_to_next_cell": 2
   },
   "outputs": [],
   "source": []
  }
 ],
 "metadata": {
  "jupytext": {
   "text_representation": {
    "extension": ".py",
    "format_name": "light",
    "format_version": "1.5",
    "jupytext_version": "1.7.1"
   }
  },
  "kernelspec": {
   "display_name": "Python 3",
   "language": "python",
   "name": "python3"
  },
  "language_info": {
   "codemirror_mode": {
    "name": "ipython",
    "version": 3
   },
   "file_extension": ".py",
   "mimetype": "text/x-python",
   "name": "python",
   "nbconvert_exporter": "python",
   "pygments_lexer": "ipython3",
   "version": "3.8.3"
  }
 },
 "nbformat": 4,
 "nbformat_minor": 2
}
