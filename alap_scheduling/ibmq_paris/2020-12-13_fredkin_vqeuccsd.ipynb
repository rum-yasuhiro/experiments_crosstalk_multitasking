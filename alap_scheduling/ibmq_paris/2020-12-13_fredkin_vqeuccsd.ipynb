{
 "cells": [
  {
   "cell_type": "markdown",
   "metadata": {},
   "source": [
    "# ALAP Scheduling \n",
    "### Fredkin (3-qubits, 8 CX) + VQE UCCSD (4-qubits, 88 CX)\n",
    "\n",
    "2020-12-13"
   ]
  },
  {
   "cell_type": "code",
   "execution_count": 1,
   "metadata": {},
   "outputs": [],
   "source": [
    "# import python tools\n",
    "import os\n",
    "\n",
    "# import qiskit tool\n",
    "from qiskit.transpiler import InstructionDurations\n",
    "\n",
    "# import experimental tools\n",
    "from experiments.alap_scheduling import execute_alap, result_alap\n",
    "from experiments.utils import get_IBM_backend"
   ]
  },
  {
   "cell_type": "markdown",
   "metadata": {},
   "source": [
    "## Experimental Settings"
   ]
  },
  {
   "cell_type": "code",
   "execution_count": 2,
   "metadata": {},
   "outputs": [],
   "source": [
    "date = '2020-12-13'\n",
    "\n",
    "# Choose benchmark circuits from QASMBench\n",
    "benchmark_sets = ['fredkin_n3', 'vqe_uccsd_n4']\n",
    "benchmark_size = 'small'"
   ]
  },
  {
   "cell_type": "code",
   "execution_count": 3,
   "metadata": {},
   "outputs": [
    {
     "name": "stderr",
     "output_type": "stream",
     "text": [
      "/Users/Yasuhiro/.local/share/virtualenvs/experiments-VWP9UmJy/lib/python3.8/site-packages/qiskit/providers/ibmq/ibmqfactory.py:192: UserWarning: Timestamps in IBMQ backend properties, jobs, and job results are all now in local time instead of UTC.\n",
      "  warnings.warn('Timestamps in IBMQ backend properties, jobs, and job results '\n"
     ]
    }
   ],
   "source": [
    "# Define backend device\n",
    "backend = get_IBM_backend('ibmq_paris')\n",
    "simulator = get_IBM_backend('ibmq_qasm_simulator')\n",
    "\n",
    "# Number of trials\n",
    "shots = 8192\n",
    "\n",
    "# Number of experimental seeds\n",
    "nseed = 1"
   ]
  },
  {
   "cell_type": "code",
   "execution_count": 4,
   "metadata": {},
   "outputs": [],
   "source": [
    "# define path to the file to save job data\n",
    "file_name = date + '_'\n",
    "sorted_benchmarks = sorted(benchmark_sets)\n",
    "for _name in sorted_benchmarks: \n",
    "    file_name += _name\n",
    "    if _name == sorted_benchmarks[-1]:\n",
    "        break\n",
    "    file_name += '+'\n",
    "job_save_path = str(os.getcwd()) + \"/job_id/from20201211/\" + file_name"
   ]
  },
  {
   "cell_type": "markdown",
   "metadata": {},
   "source": [
    "## Execute experiments on IBMQ\n",
    "\n",
    "Here, we execute three types of experiments. First one is the  job run on simulator to calculate exact answer of the multi-programming circuit. The other two are the jobs executed on the real device. One is the base line, which is no scheduled, and the other one is the circuit executed with alap schedule policy. "
   ]
  },
  {
   "cell_type": "code",
   "execution_count": 5,
   "metadata": {},
   "outputs": [],
   "source": [
    "instruction_durations = InstructionDurations.from_backend(backend)"
   ]
  },
  {
   "cell_type": "code",
   "execution_count": 6,
   "metadata": {},
   "outputs": [
    {
     "name": "stdout",
     "output_type": "stream",
     "text": [
      "prog: Qubit(QuantumRegister(3, 'q159'), 0) , hw: 1\n",
      "prog: Qubit(QuantumRegister(3, 'q159'), 1) , hw: 2\n",
      "prog: Qubit(QuantumRegister(3, 'q159'), 2) , hw: 3\n",
      "prog: Qubit(QuantumRegister(4, 'q160'), 0) , hw: 14\n",
      "prog: Qubit(QuantumRegister(4, 'q160'), 1) , hw: 16\n",
      "prog: Qubit(QuantumRegister(4, 'q160'), 2) , hw: 19\n",
      "prog: Qubit(QuantumRegister(4, 'q160'), 3) , hw: 22\n",
      "prog: Qubit(QuantumRegister(3, 'q386'), 0) , hw: 1\n",
      "prog: Qubit(QuantumRegister(3, 'q386'), 1) , hw: 2\n",
      "prog: Qubit(QuantumRegister(3, 'q386'), 2) , hw: 3\n",
      "prog: Qubit(QuantumRegister(4, 'q387'), 0) , hw: 14\n",
      "prog: Qubit(QuantumRegister(4, 'q387'), 1) , hw: 16\n",
      "prog: Qubit(QuantumRegister(4, 'q387'), 2) , hw: 19\n",
      "prog: Qubit(QuantumRegister(4, 'q387'), 3) , hw: 22\n"
     ]
    }
   ],
   "source": [
    "job_sim, job, job_alap = execute_alap(\n",
    "                    size=benchmark_size, \n",
    "                    names=benchmark_sets, \n",
    "                    backend=backend, \n",
    "                    simulator=simulator,\n",
    "                    shots = shots, \n",
    "                    nseed=1,\n",
    "                    save_path=job_save_path, \n",
    "                    instruction_durations=instruction_durations,\n",
    "                    )"
   ]
  },
  {
   "cell_type": "code",
   "execution_count": 7,
   "metadata": {},
   "outputs": [
    {
     "name": "stdout",
     "output_type": "stream",
     "text": [
      "<qiskit.providers.ibmq.job.ibmqjob.IBMQJob object at 0x7fc2c7d39df0>\n",
      "[<qiskit.providers.ibmq.job.ibmqjob.IBMQJob object at 0x7fc2c8665430>]\n",
      "[<qiskit.providers.ibmq.job.ibmqjob.IBMQJob object at 0x7fc2c7f8df70>]\n"
     ]
    }
   ],
   "source": [
    "# Show the each job\n",
    "print(job_sim)\n",
    "print(job)\n",
    "print(job_alap)"
   ]
  },
  {
   "cell_type": "markdown",
   "metadata": {},
   "source": [
    "## Get the results"
   ]
  },
  {
   "cell_type": "code",
   "execution_count": 8,
   "metadata": {},
   "outputs": [],
   "source": [
    "# define path to the file to save results\n",
    "result_save_path = str(os.getcwd()) + \"/results/from20201211/\" + file_name"
   ]
  },
  {
   "cell_type": "code",
   "execution_count": 9,
   "metadata": {},
   "outputs": [],
   "source": [
    "result_sim, result_list, result_alap_list, counts_sim, count_list, counts_alap_list, qc_names = result_alap(backend, simulator, job_save_path, result_save_path)"
   ]
  },
  {
   "cell_type": "code",
   "execution_count": 10,
   "metadata": {},
   "outputs": [
    {
     "name": "stdout",
     "output_type": "stream",
     "text": [
      "# Simulator\n",
      "Result(backend_name='ibmq_qasm_simulator', backend_version='0.7.0', qobj_id='8b5cc4af-e50d-486e-a03e-9f2cd7c547c6', job_id='5fd5bad398fcf6001aecc0ff', success=True, results=[ExperimentResult(shots=8192, success=True, meas_level=MeasLevel.CLASSIFIED, data=ExperimentResultData(counts={'0x1d': 171, '0x2d': 2199, '0x35': 452, '0x4d': 732, '0x5': 327, '0x55': 100, '0x65': 1452, '0x7d': 2759}), header=QobjExperimentHeader(clbit_labels=[['c0', 0], ['c0', 1], ['c0', 2], ['c1', 0], ['c1', 1], ['c1', 2], ['c1', 3]], creg_sizes=[['c0', 3], ['c1', 4]], global_phase=0.0, memory_slots=7, n_qubits=7, name='circuit8', qreg_sizes=[['q0', 3], ['q1', 4]], qubit_labels=[['q0', 0], ['q0', 1], ['q0', 2], ['q1', 0], ['q1', 1], ['q1', 2], ['q1', 3]]), status=DONE, metadata={'fusion': {'applied': False, 'enabled': True, 'method': 'unitary', 'threshold': 14}, 'measure_sampling': True, 'method': 'statevector', 'parallel_shots': 1, 'parallel_state_update': 16}, seed_simulator=2225694381, time_taken=0.023341677)], date=2020-12-13 15:55:23.199195+09:00, status=COMPLETED, status=QobjHeader(backend_name='ibmq_qasm_simulator', backend_version='0.1.547'), metadata={'max_memory_mb': 257936, 'omp_enabled': True, 'parallel_experiments': 1, 'time_taken': 0.024387722}, time_taken=0.024387722, client_version={'qiskit': '0.23.1'})\n",
      "\n",
      "# No scheduling\n",
      "Result(backend_name='ibmq_paris', backend_version='1.6.6', qobj_id='366c7898-d5a0-4cb0-81ff-e7b54cdd879b', job_id='5fd5bad998fcf6001aecc100', success=True, results=[ExperimentResult(shots=8192, success=True, meas_level=2, data=ExperimentResultData(counts={'0x0': 9, '0x1': 29, '0x10': 10, '0x11': 15, '0x12': 10, '0x13': 23, '0x14': 16, '0x15': 221, '0x16': 7, '0x17': 22, '0x18': 9, '0x19': 29, '0x1a': 9, '0x1b': 25, '0x1c': 16, '0x1d': 197, '0x1e': 3, '0x1f': 15, '0x2': 8, '0x20': 36, '0x21': 49, '0x22': 20, '0x23': 50, '0x24': 29, '0x25': 422, '0x26': 5, '0x27': 33, '0x28': 34, '0x29': 58, '0x2a': 33, '0x2b': 58, '0x2c': 29, '0x2d': 517, '0x2e': 12, '0x2f': 38, '0x3': 32, '0x30': 18, '0x31': 29, '0x32': 17, '0x33': 32, '0x34': 14, '0x35': 322, '0x36': 5, '0x37': 19, '0x38': 20, '0x39': 31, '0x3a': 23, '0x3b': 33, '0x3c': 19, '0x3d': 370, '0x3e': 9, '0x3f': 28, '0x4': 11, '0x40': 12, '0x41': 28, '0x42': 18, '0x43': 34, '0x44': 13, '0x45': 219, '0x46': 3, '0x47': 16, '0x48': 18, '0x49': 39, '0x4a': 30, '0x4b': 35, '0x4c': 18, '0x4d': 359, '0x4e': 10, '0x4f': 13, '0x5': 246, '0x50': 9, '0x51': 25, '0x52': 8, '0x53': 15, '0x54': 5, '0x55': 142, '0x56': 2, '0x57': 10, '0x58': 10, '0x59': 15, '0x5a': 9, '0x5b': 26, '0x5c': 14, '0x5d': 237, '0x5e': 4, '0x5f': 25, '0x6': 4, '0x60': 26, '0x61': 64, '0x62': 27, '0x63': 51, '0x64': 29, '0x65': 524, '0x66': 9, '0x67': 42, '0x68': 24, '0x69': 63, '0x6a': 28, '0x6b': 61, '0x6c': 29, '0x6d': 621, '0x6e': 18, '0x6f': 53, '0x7': 28, '0x70': 19, '0x71': 33, '0x72': 20, '0x73': 39, '0x74': 23, '0x75': 342, '0x76': 9, '0x77': 29, '0x78': 25, '0x79': 61, '0x7a': 26, '0x7b': 47, '0x7c': 24, '0x7d': 465, '0x7e': 8, '0x7f': 36, '0x8': 14, '0x9': 44, '0xa': 21, '0xb': 35, '0xc': 14, '0xd': 327, '0xe': 7, '0xf': 28}), header=QobjExperimentHeader(clbit_labels=[['c2', 0], ['c2', 1], ['c2', 2], ['c3', 0], ['c3', 1], ['c3', 2], ['c3', 3]], creg_sizes=[['c2', 3], ['c3', 4]], global_phase=-12.380538374761255, memory_slots=7, n_qubits=27, name='circuit557', qreg_sizes=[['q', 27]], qubit_labels=[['q', 0], ['q', 1], ['q', 2], ['q', 3], ['q', 4], ['q', 5], ['q', 6], ['q', 7], ['q', 8], ['q', 9], ['q', 10], ['q', 11], ['q', 12], ['q', 13], ['q', 14], ['q', 15], ['q', 16], ['q', 17], ['q', 18], ['q', 19], ['q', 20], ['q', 21], ['q', 22], ['q', 23], ['q', 24], ['q', 25], ['q', 26]]), memory=False)], date=2020-12-13 16:16:31+09:00, status=Successful completion, status=QobjHeader(backend_name='ibmq_paris', backend_version='1.6.6'), time_taken=21.983607053756714, execution_id='678e81ba-3d12-11eb-8481-b02628ea1e00', client_version={'qiskit': '0.23.1'})\n",
      "\n",
      "# ALAP scheduling policy\n",
      "Result(backend_name='ibmq_paris', backend_version='1.6.6', qobj_id='2e6fc614-ad7a-4116-baa1-1c8c975d9833', job_id='5fd5baddd802bc0019c3f6c9', success=True, results=[ExperimentResult(shots=8192, success=True, meas_level=2, data=ExperimentResultData(counts={'0x0': 5, '0x1': 27, '0x10': 6, '0x11': 23, '0x12': 9, '0x13': 15, '0x14': 14, '0x15': 230, '0x17': 11, '0x18': 6, '0x19': 15, '0x1a': 2, '0x1b': 11, '0x1c': 8, '0x1d': 232, '0x1e': 4, '0x1f': 11, '0x2': 6, '0x20': 15, '0x21': 29, '0x22': 10, '0x23': 25, '0x24': 13, '0x25': 427, '0x26': 11, '0x27': 25, '0x28': 23, '0x29': 60, '0x2a': 17, '0x2b': 42, '0x2c': 18, '0x2d': 541, '0x2e': 7, '0x2f': 34, '0x3': 22, '0x30': 4, '0x31': 30, '0x32': 9, '0x33': 12, '0x34': 18, '0x35': 307, '0x36': 8, '0x37': 17, '0x38': 9, '0x39': 42, '0x3a': 8, '0x3b': 30, '0x3c': 20, '0x3d': 393, '0x3e': 6, '0x3f': 27, '0x4': 10, '0x40': 5, '0x41': 30, '0x42': 6, '0x43': 11, '0x44': 8, '0x45': 262, '0x46': 3, '0x47': 11, '0x48': 14, '0x49': 48, '0x4a': 9, '0x4b': 34, '0x4c': 7, '0x4d': 396, '0x4e': 11, '0x4f': 20, '0x5': 222, '0x50': 5, '0x51': 13, '0x52': 7, '0x53': 10, '0x54': 6, '0x55': 201, '0x56': 4, '0x57': 13, '0x58': 8, '0x59': 26, '0x5a': 9, '0x5b': 16, '0x5c': 9, '0x5d': 235, '0x5e': 7, '0x5f': 15, '0x6': 5, '0x60': 19, '0x61': 70, '0x62': 24, '0x63': 50, '0x64': 16, '0x65': 718, '0x66': 12, '0x67': 34, '0x68': 20, '0x69': 81, '0x6a': 25, '0x6b': 57, '0x6c': 22, '0x6d': 721, '0x6e': 13, '0x6f': 47, '0x7': 19, '0x70': 5, '0x71': 35, '0x72': 8, '0x73': 27, '0x74': 3, '0x75': 332, '0x76': 5, '0x77': 17, '0x78': 25, '0x79': 65, '0x7a': 19, '0x7b': 42, '0x7c': 18, '0x7d': 580, '0x7e': 13, '0x7f': 36, '0x8': 11, '0x9': 22, '0xa': 12, '0xb': 24, '0xc': 12, '0xd': 321, '0xe': 8, '0xf': 14}), header=QobjExperimentHeader(clbit_labels=[['c4', 0], ['c4', 1], ['c4', 2], ['c5', 0], ['c5', 1], ['c5', 2], ['c5', 3]], creg_sizes=[['c4', 3], ['c5', 4]], global_phase=0.0, memory_slots=7, n_qubits=27, name='circuit1462', qreg_sizes=[['q', 27]], qubit_labels=[['q', 0], ['q', 1], ['q', 2], ['q', 3], ['q', 4], ['q', 5], ['q', 6], ['q', 7], ['q', 8], ['q', 9], ['q', 10], ['q', 11], ['q', 12], ['q', 13], ['q', 14], ['q', 15], ['q', 16], ['q', 17], ['q', 18], ['q', 19], ['q', 20], ['q', 21], ['q', 22], ['q', 23], ['q', 24], ['q', 25], ['q', 26]]), memory=False)], date=2020-12-13 16:17:58+09:00, status=Successful completion, status=QobjHeader(backend_name='ibmq_paris', backend_version='1.6.6'), time_taken=22.44202756881714, execution_id='23f8e71e-3d13-11eb-b6ed-b02628ea1e00', client_version={'qiskit': '0.23.1'})\n"
     ]
    }
   ],
   "source": [
    "# Show the results\n",
    "print(\"# Simulator\")\n",
    "print(result_sim)\n",
    "\n",
    "print(\"\\n# No scheduling\")\n",
    "for _result in result_list: \n",
    "    print(_result)\n",
    "\n",
    "print(\"\\n# ALAP scheduling policy\")\n",
    "for _result_alap in result_alap_list: \n",
    "    print(_result_alap)"
   ]
  },
  {
   "cell_type": "code",
   "execution_count": 11,
   "metadata": {
    "lines_to_next_cell": 0
   },
   "outputs": [
    {
     "name": "stdout",
     "output_type": "stream",
     "text": [
      "# Simulator\n",
      "{'0011 101': 171, '0101 101': 2199, '0110 101': 452, '1001 101': 732, '0000 101': 327, '1010 101': 100, '1100 101': 1452, '1111 101': 2759}\n",
      "\n",
      "# No scheduling\n",
      "{'0000 000': 9, '0000 001': 29, '0010 000': 10, '0010 001': 15, '0010 010': 10, '0010 011': 23, '0010 100': 16, '0010 101': 221, '0010 110': 7, '0010 111': 22, '0011 000': 9, '0011 001': 29, '0011 010': 9, '0011 011': 25, '0011 100': 16, '0011 101': 197, '0011 110': 3, '0011 111': 15, '0000 010': 8, '0100 000': 36, '0100 001': 49, '0100 010': 20, '0100 011': 50, '0100 100': 29, '0100 101': 422, '0100 110': 5, '0100 111': 33, '0101 000': 34, '0101 001': 58, '0101 010': 33, '0101 011': 58, '0101 100': 29, '0101 101': 517, '0101 110': 12, '0101 111': 38, '0000 011': 32, '0110 000': 18, '0110 001': 29, '0110 010': 17, '0110 011': 32, '0110 100': 14, '0110 101': 322, '0110 110': 5, '0110 111': 19, '0111 000': 20, '0111 001': 31, '0111 010': 23, '0111 011': 33, '0111 100': 19, '0111 101': 370, '0111 110': 9, '0111 111': 28, '0000 100': 11, '1000 000': 12, '1000 001': 28, '1000 010': 18, '1000 011': 34, '1000 100': 13, '1000 101': 219, '1000 110': 3, '1000 111': 16, '1001 000': 18, '1001 001': 39, '1001 010': 30, '1001 011': 35, '1001 100': 18, '1001 101': 359, '1001 110': 10, '1001 111': 13, '0000 101': 246, '1010 000': 9, '1010 001': 25, '1010 010': 8, '1010 011': 15, '1010 100': 5, '1010 101': 142, '1010 110': 2, '1010 111': 10, '1011 000': 10, '1011 001': 15, '1011 010': 9, '1011 011': 26, '1011 100': 14, '1011 101': 237, '1011 110': 4, '1011 111': 25, '0000 110': 4, '1100 000': 26, '1100 001': 64, '1100 010': 27, '1100 011': 51, '1100 100': 29, '1100 101': 524, '1100 110': 9, '1100 111': 42, '1101 000': 24, '1101 001': 63, '1101 010': 28, '1101 011': 61, '1101 100': 29, '1101 101': 621, '1101 110': 18, '1101 111': 53, '0000 111': 28, '1110 000': 19, '1110 001': 33, '1110 010': 20, '1110 011': 39, '1110 100': 23, '1110 101': 342, '1110 110': 9, '1110 111': 29, '1111 000': 25, '1111 001': 61, '1111 010': 26, '1111 011': 47, '1111 100': 24, '1111 101': 465, '1111 110': 8, '1111 111': 36, '0001 000': 14, '0001 001': 44, '0001 010': 21, '0001 011': 35, '0001 100': 14, '0001 101': 327, '0001 110': 7, '0001 111': 28}\n",
      "\n",
      "# ALAP scheduling policy\n",
      "{'0000 000': 5, '0000 001': 27, '0010 000': 6, '0010 001': 23, '0010 010': 9, '0010 011': 15, '0010 100': 14, '0010 101': 230, '0010 111': 11, '0011 000': 6, '0011 001': 15, '0011 010': 2, '0011 011': 11, '0011 100': 8, '0011 101': 232, '0011 110': 4, '0011 111': 11, '0000 010': 6, '0100 000': 15, '0100 001': 29, '0100 010': 10, '0100 011': 25, '0100 100': 13, '0100 101': 427, '0100 110': 11, '0100 111': 25, '0101 000': 23, '0101 001': 60, '0101 010': 17, '0101 011': 42, '0101 100': 18, '0101 101': 541, '0101 110': 7, '0101 111': 34, '0000 011': 22, '0110 000': 4, '0110 001': 30, '0110 010': 9, '0110 011': 12, '0110 100': 18, '0110 101': 307, '0110 110': 8, '0110 111': 17, '0111 000': 9, '0111 001': 42, '0111 010': 8, '0111 011': 30, '0111 100': 20, '0111 101': 393, '0111 110': 6, '0111 111': 27, '0000 100': 10, '1000 000': 5, '1000 001': 30, '1000 010': 6, '1000 011': 11, '1000 100': 8, '1000 101': 262, '1000 110': 3, '1000 111': 11, '1001 000': 14, '1001 001': 48, '1001 010': 9, '1001 011': 34, '1001 100': 7, '1001 101': 396, '1001 110': 11, '1001 111': 20, '0000 101': 222, '1010 000': 5, '1010 001': 13, '1010 010': 7, '1010 011': 10, '1010 100': 6, '1010 101': 201, '1010 110': 4, '1010 111': 13, '1011 000': 8, '1011 001': 26, '1011 010': 9, '1011 011': 16, '1011 100': 9, '1011 101': 235, '1011 110': 7, '1011 111': 15, '0000 110': 5, '1100 000': 19, '1100 001': 70, '1100 010': 24, '1100 011': 50, '1100 100': 16, '1100 101': 718, '1100 110': 12, '1100 111': 34, '1101 000': 20, '1101 001': 81, '1101 010': 25, '1101 011': 57, '1101 100': 22, '1101 101': 721, '1101 110': 13, '1101 111': 47, '0000 111': 19, '1110 000': 5, '1110 001': 35, '1110 010': 8, '1110 011': 27, '1110 100': 3, '1110 101': 332, '1110 110': 5, '1110 111': 17, '1111 000': 25, '1111 001': 65, '1111 010': 19, '1111 011': 42, '1111 100': 18, '1111 101': 580, '1111 110': 13, '1111 111': 36, '0001 000': 11, '0001 001': 22, '0001 010': 12, '0001 011': 24, '0001 100': 12, '0001 101': 321, '0001 110': 8, '0001 111': 14}\n"
     ]
    }
   ],
   "source": [
    "# Show the counts\n",
    "print(\"# Simulator\")\n",
    "print(counts_sim)\n",
    "\n",
    "print(\"\\n# No scheduling\")\n",
    "for _count in count_list: \n",
    "    print(_count)\n",
    "\n",
    "print(\"\\n# ALAP scheduling policy\")\n",
    "for _count_alap in counts_alap_list: \n",
    "    print(_count_alap)"
   ]
  },
  {
   "cell_type": "code",
   "execution_count": null,
   "metadata": {
    "lines_to_next_cell": 2
   },
   "outputs": [],
   "source": []
  }
 ],
 "metadata": {
  "jupytext": {
   "text_representation": {
    "extension": ".py",
    "format_name": "light",
    "format_version": "1.5",
    "jupytext_version": "1.7.1"
   }
  },
  "kernelspec": {
   "display_name": "Python 3",
   "language": "python",
   "name": "python3"
  },
  "language_info": {
   "codemirror_mode": {
    "name": "ipython",
    "version": 3
   },
   "file_extension": ".py",
   "mimetype": "text/x-python",
   "name": "python",
   "nbconvert_exporter": "python",
   "pygments_lexer": "ipython3",
   "version": "3.8.3"
  }
 },
 "nbformat": 4,
 "nbformat_minor": 2
}
