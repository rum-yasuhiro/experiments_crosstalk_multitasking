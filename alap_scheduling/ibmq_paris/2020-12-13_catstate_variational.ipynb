{
 "cells": [
  {
   "cell_type": "markdown",
   "metadata": {},
   "source": [
    "# ALAP Scheduling \n",
    "### Cat state (4-qubits, 3 CX) + Variational (4-qubits, 16CX)\n",
    "\n",
    "2020-12-13"
   ]
  },
  {
   "cell_type": "code",
   "execution_count": 1,
   "metadata": {},
   "outputs": [],
   "source": [
    "# import python tools\n",
    "import os\n",
    "\n",
    "# import qiskit tool\n",
    "from qiskit.transpiler import InstructionDurations\n",
    "\n",
    "# import experimental tools\n",
    "from experiments.alap_scheduling import execute_alap, result_alap\n",
    "from experiments.utils import get_IBM_backend"
   ]
  },
  {
   "cell_type": "markdown",
   "metadata": {},
   "source": [
    "## Experimental Settings"
   ]
  },
  {
   "cell_type": "code",
   "execution_count": 2,
   "metadata": {},
   "outputs": [],
   "source": [
    "date = '2020-12-13'\n",
    "\n",
    "# Choose benchmark circuits from QASMBench\n",
    "benchmark_sets = ['cat_state_n4', 'variational_n4']\n",
    "benchmark_size = 'small'"
   ]
  },
  {
   "cell_type": "code",
   "execution_count": 3,
   "metadata": {},
   "outputs": [
    {
     "name": "stderr",
     "output_type": "stream",
     "text": [
      "/Users/Yasuhiro/.local/share/virtualenvs/experiments-VWP9UmJy/lib/python3.8/site-packages/qiskit/providers/ibmq/ibmqfactory.py:192: UserWarning: Timestamps in IBMQ backend properties, jobs, and job results are all now in local time instead of UTC.\n",
      "  warnings.warn('Timestamps in IBMQ backend properties, jobs, and job results '\n"
     ]
    }
   ],
   "source": [
    "# Define backend device\n",
    "backend = get_IBM_backend('ibmq_paris')\n",
    "simulator = get_IBM_backend('ibmq_qasm_simulator')\n",
    "\n",
    "# Number of trials\n",
    "shots = 8192\n",
    "\n",
    "# Number of experimental seeds\n",
    "nseed = 1"
   ]
  },
  {
   "cell_type": "code",
   "execution_count": 4,
   "metadata": {},
   "outputs": [],
   "source": [
    "# define path to the file to save job data\n",
    "file_name = date + '_'\n",
    "sorted_benchmarks = sorted(benchmark_sets)\n",
    "for _name in sorted_benchmarks: \n",
    "    file_name += _name\n",
    "    if _name == sorted_benchmarks[-1]:\n",
    "        break\n",
    "    file_name += '+'\n",
    "job_save_path = str(os.getcwd()) + \"/job_id/from20201211/\" + file_name"
   ]
  },
  {
   "cell_type": "markdown",
   "metadata": {},
   "source": [
    "## Execute experiments on IBMQ\n",
    "\n",
    "Here, we execute three types of experiments. First one is the  job run on simulator to calculate exact answer of the multi-programming circuit. The other two are the jobs executed on the real device. One is the base line, which is no scheduled, and the other one is the circuit executed with alap schedule policy. "
   ]
  },
  {
   "cell_type": "code",
   "execution_count": 5,
   "metadata": {},
   "outputs": [],
   "source": [
    "instruction_durations = InstructionDurations.from_backend(backend)"
   ]
  },
  {
   "cell_type": "code",
   "execution_count": 6,
   "metadata": {},
   "outputs": [],
   "source": [
    "job_sim, job, job_alap = execute_alap(\n",
    "                    size=benchmark_size, \n",
    "                    names=benchmark_sets, \n",
    "                    backend=backend, \n",
    "                    simulator=simulator,\n",
    "                    shots = shots, \n",
    "                    nseed=1,\n",
    "                    save_path=job_save_path, \n",
    "                    instruction_durations=instruction_durations,\n",
    "                    )"
   ]
  },
  {
   "cell_type": "code",
   "execution_count": 7,
   "metadata": {},
   "outputs": [
    {
     "name": "stdout",
     "output_type": "stream",
     "text": [
      "<qiskit.providers.ibmq.job.ibmqjob.IBMQJob object at 0x7f9cd2526a90>\n",
      "[<qiskit.providers.ibmq.job.ibmqjob.IBMQJob object at 0x7f9cd2526c70>]\n",
      "[<qiskit.providers.ibmq.job.ibmqjob.IBMQJob object at 0x7f9cd2550310>]\n"
     ]
    }
   ],
   "source": [
    "# Show the each job\n",
    "print(job_sim)\n",
    "print(job)\n",
    "print(job_alap)"
   ]
  },
  {
   "cell_type": "markdown",
   "metadata": {},
   "source": [
    "## Get the results"
   ]
  },
  {
   "cell_type": "code",
   "execution_count": 8,
   "metadata": {},
   "outputs": [],
   "source": [
    "# define path to the file to save results\n",
    "result_save_path = str(os.getcwd()) + \"/results/from20201211/\" + file_name"
   ]
  },
  {
   "cell_type": "code",
   "execution_count": 9,
   "metadata": {},
   "outputs": [],
   "source": [
    "result_sim, result_list, result_alap_list, counts_sim, count_list, counts_alap_list, qc_names = result_alap(backend, simulator, job_save_path, result_save_path)"
   ]
  },
  {
   "cell_type": "code",
   "execution_count": 10,
   "metadata": {},
   "outputs": [
    {
     "name": "stdout",
     "output_type": "stream",
     "text": [
      "# Simulator\n",
      "Result(backend_name='ibmq_qasm_simulator', backend_version='0.7.0', qobj_id='263ac769-7764-4f15-b797-0f57861ae0a7', job_id='5fd58010d802bc0019c3f434', success=True, results=[ExperimentResult(shots=8192, success=True, meas_level=MeasLevel.CLASSIFIED, data=ExperimentResultData(counts={'0x50': 1027, '0x5f': 1018, '0x60': 1083, '0x6f': 1033, '0x90': 1019, '0x9f': 945, '0xa0': 1018, '0xaf': 1049}), header=QobjExperimentHeader(clbit_labels=[['c0', 0], ['c0', 1], ['c0', 2], ['c0', 3], ['c1', 0], ['c1', 1], ['c1', 2], ['c1', 3]], creg_sizes=[['c0', 4], ['c1', 4]], global_phase=0.0, memory_slots=8, n_qubits=8, name='circuit8', qreg_sizes=[['q0', 4], ['q1', 4]], qubit_labels=[['q0', 0], ['q0', 1], ['q0', 2], ['q0', 3], ['q1', 0], ['q1', 1], ['q1', 2], ['q1', 3]]), status=DONE, metadata={'fusion': {'applied': False, 'enabled': True, 'method': 'unitary', 'threshold': 14}, 'measure_sampling': True, 'method': 'statevector', 'parallel_shots': 1, 'parallel_state_update': 16}, seed_simulator=4027873542, time_taken=0.022566851000000002)], date=2020-12-13 11:44:38.472255+09:00, status=COMPLETED, status=QobjHeader(backend_name='ibmq_qasm_simulator', backend_version='0.1.547'), metadata={'max_memory_mb': 257936, 'omp_enabled': True, 'parallel_experiments': 1, 'time_taken': 0.022803920000000002}, time_taken=0.022803920000000002, client_version={'qiskit': '0.23.1'})\n",
      "\n",
      "# No scheduling\n",
      "Result(backend_name='ibmq_paris', backend_version='1.6.6', qobj_id='ace9e7b0-6b09-4cbc-91b3-4316ab4a247e', job_id='5fd58015afed5900190262a2', success=True, results=[ExperimentResult(shots=8192, success=True, meas_level=2, data=ExperimentResultData(counts={'0x0': 25, '0x1': 1, '0x10': 102, '0x11': 3, '0x12': 1, '0x16': 3, '0x17': 4, '0x18': 1, '0x1b': 2, '0x1d': 1, '0x1e': 6, '0x1f': 108, '0x20': 104, '0x21': 1, '0x24': 1, '0x27': 7, '0x28': 1, '0x2b': 5, '0x2d': 2, '0x2e': 7, '0x2f': 98, '0x30': 53, '0x31': 2, '0x32': 1, '0x33': 1, '0x37': 5, '0x3b': 2, '0x3d': 3, '0x3e': 1, '0x3f': 45, '0x40': 71, '0x41': 2, '0x42': 2, '0x43': 1, '0x46': 1, '0x47': 4, '0x4b': 2, '0x4c': 1, '0x4d': 4, '0x4e': 9, '0x4f': 65, '0x50': 854, '0x51': 10, '0x52': 5, '0x53': 16, '0x54': 5, '0x55': 1, '0x56': 5, '0x57': 80, '0x58': 6, '0x5a': 1, '0x5b': 28, '0x5c': 5, '0x5d': 23, '0x5e': 47, '0x5f': 775, '0x60': 860, '0x61': 14, '0x62': 4, '0x63': 8, '0x64': 3, '0x65': 3, '0x66': 3, '0x67': 79, '0x68': 5, '0x6b': 15, '0x6c': 14, '0x6d': 22, '0x6e': 45, '0x6f': 795, '0x7': 1, '0x70': 103, '0x71': 2, '0x74': 1, '0x77': 4, '0x78': 1, '0x7b': 3, '0x7c': 1, '0x7d': 2, '0x7e': 6, '0x7f': 73, '0x80': 58, '0x81': 2, '0x83': 1, '0x87': 6, '0x88': 1, '0x8b': 1, '0x8c': 2, '0x8d': 2, '0x8e': 9, '0x8f': 66, '0x90': 685, '0x91': 12, '0x92': 1, '0x93': 4, '0x94': 5, '0x96': 3, '0x97': 55, '0x98': 7, '0x9a': 1, '0x9b': 9, '0x9c': 6, '0x9d': 13, '0x9e': 38, '0x9f': 619, '0xa0': 761, '0xa1': 11, '0xa2': 4, '0xa3': 8, '0xa4': 5, '0xa5': 3, '0xa6': 5, '0xa7': 65, '0xa8': 8, '0xaa': 2, '0xab': 17, '0xac': 5, '0xad': 10, '0xae': 44, '0xaf': 620, '0xb0': 53, '0xb1': 1, '0xb4': 1, '0xb5': 1, '0xb7': 5, '0xb8': 1, '0xbb': 2, '0xbc': 1, '0xbd': 3, '0xbe': 2, '0xbf': 55, '0xc': 1, '0xc0': 9, '0xc2': 1, '0xc7': 2, '0xc8': 1, '0xce': 1, '0xcf': 9, '0xd': 1, '0xd0': 29, '0xd1': 1, '0xd7': 4, '0xd8': 2, '0xdb': 1, '0xde': 1, '0xdf': 38, '0xe0': 39, '0xe1': 1, '0xe7': 4, '0xeb': 1, '0xec': 1, '0xed': 1, '0xee': 3, '0xef': 25, '0xf': 13, '0xf0': 10, '0xf1': 1, '0xf7': 1, '0xff': 6}), header=QobjExperimentHeader(clbit_labels=[['c2', 0], ['c2', 1], ['c2', 2], ['c2', 3], ['c3', 0], ['c3', 1], ['c3', 2], ['c3', 3]], creg_sizes=[['c2', 4], ['c3', 4]], global_phase=-9.81744823987541, memory_slots=8, n_qubits=27, name='circuit125', qreg_sizes=[['q', 27]], qubit_labels=[['q', 0], ['q', 1], ['q', 2], ['q', 3], ['q', 4], ['q', 5], ['q', 6], ['q', 7], ['q', 8], ['q', 9], ['q', 10], ['q', 11], ['q', 12], ['q', 13], ['q', 14], ['q', 15], ['q', 16], ['q', 17], ['q', 18], ['q', 19], ['q', 20], ['q', 21], ['q', 22], ['q', 23], ['q', 24], ['q', 25], ['q', 26]]), memory=False)], date=2020-12-13 11:51:02+09:00, status=Successful completion, status=QobjHeader(backend_name='ibmq_paris', backend_version='1.6.6'), time_taken=21.41650104522705, execution_id='d1ee0082-3ced-11eb-a44f-b02628ea1e00', client_version={'qiskit': '0.23.1'})\n",
      "\n",
      "# ALAP scheduling policy\n",
      "Result(backend_name='ibmq_paris', backend_version='1.6.6', qobj_id='5aab5c55-c867-4bf1-80f1-de3d217df18b', job_id='5fd5801710ba7c001aa17c8b', success=True, results=[ExperimentResult(shots=8192, success=True, meas_level=2, data=ExperimentResultData(counts={'0x0': 20, '0x1': 2, '0x10': 86, '0x11': 5, '0x14': 1, '0x17': 11, '0x18': 1, '0x1b': 2, '0x1c': 1, '0x1d': 2, '0x1e': 11, '0x1f': 74, '0x20': 120, '0x21': 1, '0x23': 1, '0x24': 2, '0x25': 1, '0x26': 1, '0x27': 11, '0x2b': 2, '0x2c': 1, '0x2d': 6, '0x2e': 5, '0x2f': 85, '0x30': 48, '0x31': 2, '0x37': 5, '0x3b': 1, '0x3c': 1, '0x3d': 2, '0x3e': 7, '0x3f': 60, '0x40': 78, '0x41': 2, '0x46': 1, '0x47': 9, '0x48': 2, '0x4b': 2, '0x4c': 1, '0x4d': 3, '0x4e': 7, '0x4f': 80, '0x50': 841, '0x51': 10, '0x52': 1, '0x53': 9, '0x54': 3, '0x55': 2, '0x56': 5, '0x57': 66, '0x58': 6, '0x5b': 19, '0x5c': 10, '0x5d': 20, '0x5e': 54, '0x5f': 773, '0x60': 852, '0x61': 9, '0x62': 4, '0x63': 11, '0x64': 4, '0x65': 2, '0x66': 6, '0x67': 78, '0x68': 5, '0x69': 2, '0x6a': 1, '0x6b': 16, '0x6c': 5, '0x6d': 20, '0x6e': 61, '0x6f': 817, '0x7': 4, '0x70': 97, '0x71': 1, '0x73': 2, '0x77': 11, '0x7b': 1, '0x7d': 5, '0x7e': 4, '0x7f': 63, '0x80': 54, '0x81': 3, '0x83': 2, '0x87': 8, '0x88': 1, '0x8d': 4, '0x8e': 1, '0x8f': 45, '0x90': 651, '0x91': 5, '0x92': 4, '0x93': 10, '0x94': 2, '0x95': 3, '0x96': 6, '0x97': 65, '0x98': 10, '0x9b': 17, '0x9c': 6, '0x9d': 13, '0x9e': 31, '0x9f': 641, '0xa0': 731, '0xa1': 5, '0xa2': 1, '0xa3': 10, '0xa4': 3, '0xa5': 3, '0xa6': 4, '0xa7': 65, '0xa8': 8, '0xa9': 2, '0xaa': 1, '0xab': 19, '0xac': 14, '0xad': 20, '0xae': 47, '0xaf': 653, '0xb': 1, '0xb0': 74, '0xb1': 1, '0xb2': 1, '0xb3': 1, '0xb6': 1, '0xb7': 9, '0xbb': 1, '0xbc': 1, '0xbd': 1, '0xbe': 6, '0xbf': 54, '0xc0': 11, '0xc1': 1, '0xce': 1, '0xcf': 7, '0xd0': 31, '0xd7': 3, '0xdd': 1, '0xdf': 32, '0xe': 3, '0xe0': 39, '0xe1': 1, '0xe6': 1, '0xe7': 3, '0xed': 3, '0xee': 3, '0xef': 26, '0xf': 18, '0xf0': 12, '0xf1': 3, '0xf5': 1, '0xfd': 1, '0xfe': 1, '0xff': 8}), header=QobjExperimentHeader(clbit_labels=[['c4', 0], ['c4', 1], ['c4', 2], ['c4', 3], ['c5', 0], ['c5', 1], ['c5', 2], ['c5', 3]], creg_sizes=[['c4', 4], ['c5', 4]], global_phase=0.0, memory_slots=8, n_qubits=27, name='circuit314', qreg_sizes=[['q', 27]], qubit_labels=[['q', 0], ['q', 1], ['q', 2], ['q', 3], ['q', 4], ['q', 5], ['q', 6], ['q', 7], ['q', 8], ['q', 9], ['q', 10], ['q', 11], ['q', 12], ['q', 13], ['q', 14], ['q', 15], ['q', 16], ['q', 17], ['q', 18], ['q', 19], ['q', 20], ['q', 21], ['q', 22], ['q', 23], ['q', 24], ['q', 25], ['q', 26]]), memory=False)], date=2020-12-13 11:51:29+09:00, status=Successful completion, status=QobjHeader(backend_name='ibmq_paris', backend_version='1.6.6'), time_taken=22.000815868377686, execution_id='0d171716-3cee-11eb-a312-b02628ea1e00', client_version={'qiskit': '0.23.1'})\n"
     ]
    }
   ],
   "source": [
    "# Show the results\n",
    "print(\"# Simulator\")\n",
    "print(result_sim)\n",
    "\n",
    "print(\"\\n# No scheduling\")\n",
    "for _result in result_list: \n",
    "    print(_result)\n",
    "\n",
    "print(\"\\n# ALAP scheduling policy\")\n",
    "for _result_alap in result_alap_list: \n",
    "    print(_result_alap)"
   ]
  },
  {
   "cell_type": "code",
   "execution_count": 11,
   "metadata": {
    "lines_to_next_cell": 0
   },
   "outputs": [
    {
     "name": "stdout",
     "output_type": "stream",
     "text": [
      "# Simulator\n",
      "{'0101 0000': 1027, '0101 1111': 1018, '0110 0000': 1083, '0110 1111': 1033, '1001 0000': 1019, '1001 1111': 945, '1010 0000': 1018, '1010 1111': 1049}\n",
      "\n",
      "# No scheduling\n",
      "{'0000 0000': 25, '0000 0001': 1, '0001 0000': 102, '0001 0001': 3, '0001 0010': 1, '0001 0110': 3, '0001 0111': 4, '0001 1000': 1, '0001 1011': 2, '0001 1101': 1, '0001 1110': 6, '0001 1111': 108, '0010 0000': 104, '0010 0001': 1, '0010 0100': 1, '0010 0111': 7, '0010 1000': 1, '0010 1011': 5, '0010 1101': 2, '0010 1110': 7, '0010 1111': 98, '0011 0000': 53, '0011 0001': 2, '0011 0010': 1, '0011 0011': 1, '0011 0111': 5, '0011 1011': 2, '0011 1101': 3, '0011 1110': 1, '0011 1111': 45, '0100 0000': 71, '0100 0001': 2, '0100 0010': 2, '0100 0011': 1, '0100 0110': 1, '0100 0111': 4, '0100 1011': 2, '0100 1100': 1, '0100 1101': 4, '0100 1110': 9, '0100 1111': 65, '0101 0000': 854, '0101 0001': 10, '0101 0010': 5, '0101 0011': 16, '0101 0100': 5, '0101 0101': 1, '0101 0110': 5, '0101 0111': 80, '0101 1000': 6, '0101 1010': 1, '0101 1011': 28, '0101 1100': 5, '0101 1101': 23, '0101 1110': 47, '0101 1111': 775, '0110 0000': 860, '0110 0001': 14, '0110 0010': 4, '0110 0011': 8, '0110 0100': 3, '0110 0101': 3, '0110 0110': 3, '0110 0111': 79, '0110 1000': 5, '0110 1011': 15, '0110 1100': 14, '0110 1101': 22, '0110 1110': 45, '0110 1111': 795, '0000 0111': 1, '0111 0000': 103, '0111 0001': 2, '0111 0100': 1, '0111 0111': 4, '0111 1000': 1, '0111 1011': 3, '0111 1100': 1, '0111 1101': 2, '0111 1110': 6, '0111 1111': 73, '1000 0000': 58, '1000 0001': 2, '1000 0011': 1, '1000 0111': 6, '1000 1000': 1, '1000 1011': 1, '1000 1100': 2, '1000 1101': 2, '1000 1110': 9, '1000 1111': 66, '1001 0000': 685, '1001 0001': 12, '1001 0010': 1, '1001 0011': 4, '1001 0100': 5, '1001 0110': 3, '1001 0111': 55, '1001 1000': 7, '1001 1010': 1, '1001 1011': 9, '1001 1100': 6, '1001 1101': 13, '1001 1110': 38, '1001 1111': 619, '1010 0000': 761, '1010 0001': 11, '1010 0010': 4, '1010 0011': 8, '1010 0100': 5, '1010 0101': 3, '1010 0110': 5, '1010 0111': 65, '1010 1000': 8, '1010 1010': 2, '1010 1011': 17, '1010 1100': 5, '1010 1101': 10, '1010 1110': 44, '1010 1111': 620, '1011 0000': 53, '1011 0001': 1, '1011 0100': 1, '1011 0101': 1, '1011 0111': 5, '1011 1000': 1, '1011 1011': 2, '1011 1100': 1, '1011 1101': 3, '1011 1110': 2, '1011 1111': 55, '0000 1100': 1, '1100 0000': 9, '1100 0010': 1, '1100 0111': 2, '1100 1000': 1, '1100 1110': 1, '1100 1111': 9, '0000 1101': 1, '1101 0000': 29, '1101 0001': 1, '1101 0111': 4, '1101 1000': 2, '1101 1011': 1, '1101 1110': 1, '1101 1111': 38, '1110 0000': 39, '1110 0001': 1, '1110 0111': 4, '1110 1011': 1, '1110 1100': 1, '1110 1101': 1, '1110 1110': 3, '1110 1111': 25, '0000 1111': 13, '1111 0000': 10, '1111 0001': 1, '1111 0111': 1, '1111 1111': 6}\n",
      "\n",
      "# ALAP scheduling policy\n",
      "{'0000 0000': 20, '0000 0001': 2, '0001 0000': 86, '0001 0001': 5, '0001 0100': 1, '0001 0111': 11, '0001 1000': 1, '0001 1011': 2, '0001 1100': 1, '0001 1101': 2, '0001 1110': 11, '0001 1111': 74, '0010 0000': 120, '0010 0001': 1, '0010 0011': 1, '0010 0100': 2, '0010 0101': 1, '0010 0110': 1, '0010 0111': 11, '0010 1011': 2, '0010 1100': 1, '0010 1101': 6, '0010 1110': 5, '0010 1111': 85, '0011 0000': 48, '0011 0001': 2, '0011 0111': 5, '0011 1011': 1, '0011 1100': 1, '0011 1101': 2, '0011 1110': 7, '0011 1111': 60, '0100 0000': 78, '0100 0001': 2, '0100 0110': 1, '0100 0111': 9, '0100 1000': 2, '0100 1011': 2, '0100 1100': 1, '0100 1101': 3, '0100 1110': 7, '0100 1111': 80, '0101 0000': 841, '0101 0001': 10, '0101 0010': 1, '0101 0011': 9, '0101 0100': 3, '0101 0101': 2, '0101 0110': 5, '0101 0111': 66, '0101 1000': 6, '0101 1011': 19, '0101 1100': 10, '0101 1101': 20, '0101 1110': 54, '0101 1111': 773, '0110 0000': 852, '0110 0001': 9, '0110 0010': 4, '0110 0011': 11, '0110 0100': 4, '0110 0101': 2, '0110 0110': 6, '0110 0111': 78, '0110 1000': 5, '0110 1001': 2, '0110 1010': 1, '0110 1011': 16, '0110 1100': 5, '0110 1101': 20, '0110 1110': 61, '0110 1111': 817, '0000 0111': 4, '0111 0000': 97, '0111 0001': 1, '0111 0011': 2, '0111 0111': 11, '0111 1011': 1, '0111 1101': 5, '0111 1110': 4, '0111 1111': 63, '1000 0000': 54, '1000 0001': 3, '1000 0011': 2, '1000 0111': 8, '1000 1000': 1, '1000 1101': 4, '1000 1110': 1, '1000 1111': 45, '1001 0000': 651, '1001 0001': 5, '1001 0010': 4, '1001 0011': 10, '1001 0100': 2, '1001 0101': 3, '1001 0110': 6, '1001 0111': 65, '1001 1000': 10, '1001 1011': 17, '1001 1100': 6, '1001 1101': 13, '1001 1110': 31, '1001 1111': 641, '1010 0000': 731, '1010 0001': 5, '1010 0010': 1, '1010 0011': 10, '1010 0100': 3, '1010 0101': 3, '1010 0110': 4, '1010 0111': 65, '1010 1000': 8, '1010 1001': 2, '1010 1010': 1, '1010 1011': 19, '1010 1100': 14, '1010 1101': 20, '1010 1110': 47, '1010 1111': 653, '0000 1011': 1, '1011 0000': 74, '1011 0001': 1, '1011 0010': 1, '1011 0011': 1, '1011 0110': 1, '1011 0111': 9, '1011 1011': 1, '1011 1100': 1, '1011 1101': 1, '1011 1110': 6, '1011 1111': 54, '1100 0000': 11, '1100 0001': 1, '1100 1110': 1, '1100 1111': 7, '1101 0000': 31, '1101 0111': 3, '1101 1101': 1, '1101 1111': 32, '0000 1110': 3, '1110 0000': 39, '1110 0001': 1, '1110 0110': 1, '1110 0111': 3, '1110 1101': 3, '1110 1110': 3, '1110 1111': 26, '0000 1111': 18, '1111 0000': 12, '1111 0001': 3, '1111 0101': 1, '1111 1101': 1, '1111 1110': 1, '1111 1111': 8}\n"
     ]
    }
   ],
   "source": [
    "# Show the counts\n",
    "print(\"# Simulator\")\n",
    "print(counts_sim)\n",
    "\n",
    "print(\"\\n# No scheduling\")\n",
    "for _count in count_list: \n",
    "    print(_count)\n",
    "\n",
    "print(\"\\n# ALAP scheduling policy\")\n",
    "for _count_alap in counts_alap_list: \n",
    "    print(_count_alap)"
   ]
  },
  {
   "cell_type": "code",
   "execution_count": null,
   "metadata": {
    "lines_to_next_cell": 2
   },
   "outputs": [],
   "source": []
  }
 ],
 "metadata": {
  "jupytext": {
   "text_representation": {
    "extension": ".py",
    "format_name": "light",
    "format_version": "1.5",
    "jupytext_version": "1.7.1"
   }
  },
  "kernelspec": {
   "display_name": "Python 3",
   "language": "python",
   "name": "python3"
  },
  "language_info": {
   "codemirror_mode": {
    "name": "ipython",
    "version": 3
   },
   "file_extension": ".py",
   "mimetype": "text/x-python",
   "name": "python",
   "nbconvert_exporter": "python",
   "pygments_lexer": "ipython3",
   "version": "3.8.3"
  }
 },
 "nbformat": 4,
 "nbformat_minor": 2
}
