{
 "cells": [
  {
   "cell_type": "markdown",
   "metadata": {},
   "source": [
    "# ALAP Scheduling \n",
    "### Cat state (4-qubits, 3 CX) + Grover (2-qubits, 2 CX)\n",
    "\n",
    "2020-12-13"
   ]
  },
  {
   "cell_type": "code",
   "execution_count": 1,
   "metadata": {},
   "outputs": [],
   "source": [
    "# import python tools\n",
    "import os\n",
    "\n",
    "# import qiskit tool\n",
    "from qiskit.transpiler import InstructionDurations\n",
    "\n",
    "# import experimental tools\n",
    "from experiments.alap_scheduling import execute_alap, result_alap\n",
    "from experiments.utils import get_IBM_backend"
   ]
  },
  {
   "cell_type": "markdown",
   "metadata": {},
   "source": [
    "## Experimental Settings"
   ]
  },
  {
   "cell_type": "code",
   "execution_count": 2,
   "metadata": {},
   "outputs": [],
   "source": [
    "date = '2020-12-13'\n",
    "\n",
    "# Choose benchmark circuits from QASMBench\n",
    "benchmark_sets = ['cat_state_n4', 'grover_n2']\n",
    "benchmark_size = 'small'"
   ]
  },
  {
   "cell_type": "code",
   "execution_count": 3,
   "metadata": {},
   "outputs": [
    {
     "name": "stderr",
     "output_type": "stream",
     "text": [
      "/Users/Yasuhiro/.local/share/virtualenvs/experiments-VWP9UmJy/lib/python3.8/site-packages/qiskit/providers/ibmq/ibmqfactory.py:192: UserWarning: Timestamps in IBMQ backend properties, jobs, and job results are all now in local time instead of UTC.\n",
      "  warnings.warn('Timestamps in IBMQ backend properties, jobs, and job results '\n"
     ]
    }
   ],
   "source": [
    "# Define backend device\n",
    "backend = get_IBM_backend('ibmq_paris')\n",
    "simulator = get_IBM_backend('ibmq_qasm_simulator')\n",
    "\n",
    "# Number of trials\n",
    "shots = 8192\n",
    "\n",
    "# Number of experimental seeds\n",
    "nseed = 1"
   ]
  },
  {
   "cell_type": "code",
   "execution_count": 4,
   "metadata": {},
   "outputs": [],
   "source": [
    "# define path to the file to save job data\n",
    "file_name = date + '_'\n",
    "sorted_benchmarks = sorted(benchmark_sets)\n",
    "for _name in sorted_benchmarks: \n",
    "    file_name += _name\n",
    "    if _name == sorted_benchmarks[-1]:\n",
    "        break\n",
    "    file_name += '+'\n",
    "job_save_path = str(os.getcwd()) + \"/job_id/from20201211/\" + file_name"
   ]
  },
  {
   "cell_type": "markdown",
   "metadata": {},
   "source": [
    "## Execute experiments on IBMQ\n",
    "\n",
    "Here, we execute three types of experiments. First one is the  job run on simulator to calculate exact answer of the multi-programming circuit. The other two are the jobs executed on the real device. One is the base line, which is no scheduled, and the other one is the circuit executed with alap schedule policy. "
   ]
  },
  {
   "cell_type": "code",
   "execution_count": 5,
   "metadata": {},
   "outputs": [],
   "source": [
    "instruction_durations = InstructionDurations.from_backend(backend)"
   ]
  },
  {
   "cell_type": "code",
   "execution_count": 6,
   "metadata": {},
   "outputs": [],
   "source": [
    "job_sim, job, job_alap = execute_alap(\n",
    "                    size=benchmark_size, \n",
    "                    names=benchmark_sets, \n",
    "                    backend=backend, \n",
    "                    simulator=simulator,\n",
    "                    shots = shots, \n",
    "                    nseed=1,\n",
    "                    save_path=job_save_path, \n",
    "                    instruction_durations=instruction_durations,\n",
    "                    )"
   ]
  },
  {
   "cell_type": "code",
   "execution_count": 7,
   "metadata": {},
   "outputs": [
    {
     "name": "stdout",
     "output_type": "stream",
     "text": [
      "<qiskit.providers.ibmq.job.ibmqjob.IBMQJob object at 0x7ff25ee37be0>\n",
      "[<qiskit.providers.ibmq.job.ibmqjob.IBMQJob object at 0x7ff266573e20>]\n",
      "[<qiskit.providers.ibmq.job.ibmqjob.IBMQJob object at 0x7ff2665735b0>]\n"
     ]
    }
   ],
   "source": [
    "# Show the each job\n",
    "print(job_sim)\n",
    "print(job)\n",
    "print(job_alap)"
   ]
  },
  {
   "cell_type": "markdown",
   "metadata": {},
   "source": [
    "## Get the results"
   ]
  },
  {
   "cell_type": "code",
   "execution_count": 8,
   "metadata": {},
   "outputs": [],
   "source": [
    "# define path to the file to save results\n",
    "result_save_path = str(os.getcwd()) + \"/results/from20201211/\" + file_name"
   ]
  },
  {
   "cell_type": "code",
   "execution_count": 9,
   "metadata": {},
   "outputs": [],
   "source": [
    "result_sim, result_list, result_alap_list, counts_sim, count_list, counts_alap_list, qc_names = result_alap(backend, simulator, job_save_path, result_save_path)"
   ]
  },
  {
   "cell_type": "code",
   "execution_count": 10,
   "metadata": {},
   "outputs": [
    {
     "name": "stdout",
     "output_type": "stream",
     "text": [
      "# Simulator\n",
      "Result(backend_name='ibmq_qasm_simulator', backend_version='0.7.0', qobj_id='7b6f123d-598b-424f-bfb1-4103448d786e', job_id='5fd583d480c762001a7476e1', success=True, results=[ExperimentResult(shots=8192, success=True, meas_level=MeasLevel.CLASSIFIED, data=ExperimentResultData(counts={'0x30': 4142, '0x3f': 4050}), header=QobjExperimentHeader(clbit_labels=[['c0', 0], ['c0', 1], ['c0', 2], ['c0', 3], ['c1', 0], ['c1', 1]], creg_sizes=[['c0', 4], ['c1', 2]], global_phase=0.0, memory_slots=6, n_qubits=6, name='circuit8', qreg_sizes=[['q0', 4], ['q1', 2]], qubit_labels=[['q0', 0], ['q0', 1], ['q0', 2], ['q0', 3], ['q1', 0], ['q1', 1]]), status=DONE, metadata={'fusion': {'enabled': False}, 'measure_sampling': True, 'method': 'stabilizer', 'parallel_shots': 1, 'parallel_state_update': 16}, seed_simulator=1322201016, time_taken=0.025640598)], date=2020-12-13 12:00:40.640172+09:00, status=COMPLETED, status=QobjHeader(backend_name='ibmq_qasm_simulator', backend_version='0.1.547'), metadata={'max_memory_mb': 257936, 'omp_enabled': True, 'parallel_experiments': 1, 'time_taken': 0.025785303000000002}, time_taken=0.025785303000000002, client_version={'qiskit': '0.23.1'})\n",
      "\n",
      "# No scheduling\n",
      "Result(backend_name='ibmq_paris', backend_version='1.6.6', qobj_id='f6e1a0a0-63b9-4044-b8ab-8087fa221c35', job_id='5fd583d7944188001aa61949', success=True, results=[ExperimentResult(shots=8192, success=True, meas_level=2, data=ExperimentResultData(counts={'0x0': 62, '0x1': 2, '0x10': 491, '0x11': 12, '0x12': 1, '0x13': 10, '0x14': 1, '0x15': 1, '0x16': 2, '0x17': 18, '0x18': 2, '0x19': 1, '0x1a': 1, '0x1b': 6, '0x1c': 10, '0x1d': 6, '0x1e': 34, '0x1f': 388, '0x2': 1, '0x20': 287, '0x21': 4, '0x22': 3, '0x23': 3, '0x24': 5, '0x27': 15, '0x28': 5, '0x2b': 3, '0x2c': 5, '0x2d': 7, '0x2e': 11, '0x2f': 160, '0x3': 2, '0x30': 3239, '0x31': 51, '0x32': 23, '0x33': 55, '0x34': 13, '0x35': 1, '0x36': 9, '0x37': 58, '0x38': 29, '0x39': 1, '0x3a': 2, '0x3b': 57, '0x3c': 77, '0x3d': 90, '0x3e': 202, '0x3f': 2692, '0x4': 1, '0x7': 2, '0xe': 1, '0xf': 30}), header=QobjExperimentHeader(clbit_labels=[['c2', 0], ['c2', 1], ['c2', 2], ['c2', 3], ['c3', 0], ['c3', 1]], creg_sizes=[['c2', 4], ['c3', 2]], global_phase=0.0, memory_slots=6, n_qubits=27, name='circuit122', qreg_sizes=[['q', 27]], qubit_labels=[['q', 0], ['q', 1], ['q', 2], ['q', 3], ['q', 4], ['q', 5], ['q', 6], ['q', 7], ['q', 8], ['q', 9], ['q', 10], ['q', 11], ['q', 12], ['q', 13], ['q', 14], ['q', 15], ['q', 16], ['q', 17], ['q', 18], ['q', 19], ['q', 20], ['q', 21], ['q', 22], ['q', 23], ['q', 24], ['q', 25], ['q', 26]]), memory=False)], date=2020-12-13 12:17:25+09:00, status=Successful completion, status=QobjHeader(backend_name='ibmq_paris', backend_version='1.6.6'), time_taken=20.866222620010376, execution_id='83e615d8-3cf1-11eb-af76-b02628ea1e00', client_version={'qiskit': '0.23.1'})\n",
      "\n",
      "# ALAP scheduling policy\n",
      "Result(backend_name='ibmq_paris', backend_version='1.6.6', qobj_id='4047e8cd-9bc7-4b92-a72c-0ada6f4de25f', job_id='5fd583d9d802bc0019c3f47e', success=True, results=[ExperimentResult(shots=8192, success=True, meas_level=2, data=ExperimentResultData(counts={'0x0': 78, '0x1': 1, '0x10': 451, '0x11': 7, '0x12': 1, '0x13': 12, '0x14': 3, '0x17': 14, '0x18': 6, '0x19': 1, '0x1b': 12, '0x1c': 9, '0x1d': 11, '0x1e': 22, '0x1f': 372, '0x20': 334, '0x21': 2, '0x22': 2, '0x23': 8, '0x24': 2, '0x25': 1, '0x27': 14, '0x28': 8, '0x29': 1, '0x2a': 1, '0x2b': 3, '0x2c': 5, '0x2d': 5, '0x2e': 16, '0x2f': 157, '0x3': 1, '0x30': 3154, '0x31': 44, '0x32': 20, '0x33': 74, '0x34': 15, '0x35': 2, '0x36': 2, '0x37': 62, '0x38': 33, '0x39': 5, '0x3a': 1, '0x3b': 50, '0x3c': 87, '0x3d': 100, '0x3e': 159, '0x3f': 2793, '0x7': 2, '0xb': 1, '0xf': 28}), header=QobjExperimentHeader(clbit_labels=[['c4', 0], ['c4', 1], ['c4', 2], ['c4', 3], ['c5', 0], ['c5', 1]], creg_sizes=[['c4', 4], ['c5', 2]], global_phase=0.0, memory_slots=6, n_qubits=27, name='circuit175', qreg_sizes=[['q', 27]], qubit_labels=[['q', 0], ['q', 1], ['q', 2], ['q', 3], ['q', 4], ['q', 5], ['q', 6], ['q', 7], ['q', 8], ['q', 9], ['q', 10], ['q', 11], ['q', 12], ['q', 13], ['q', 14], ['q', 15], ['q', 16], ['q', 17], ['q', 18], ['q', 19], ['q', 20], ['q', 21], ['q', 22], ['q', 23], ['q', 24], ['q', 25], ['q', 26]]), memory=False)], date=2020-12-13 12:18:13+09:00, status=Successful completion, status=QobjHeader(backend_name='ibmq_paris', backend_version='1.6.6'), time_taken=22.10081458091736, execution_id='bc6115c0-3cf1-11eb-bbdb-b02628ea1e00', client_version={'qiskit': '0.23.1'})\n"
     ]
    }
   ],
   "source": [
    "# Show the results\n",
    "print(\"# Simulator\")\n",
    "print(result_sim)\n",
    "\n",
    "print(\"\\n# No scheduling\")\n",
    "for _result in result_list: \n",
    "    print(_result)\n",
    "\n",
    "print(\"\\n# ALAP scheduling policy\")\n",
    "for _result_alap in result_alap_list: \n",
    "    print(_result_alap)"
   ]
  },
  {
   "cell_type": "code",
   "execution_count": 11,
   "metadata": {
    "lines_to_next_cell": 0
   },
   "outputs": [
    {
     "name": "stdout",
     "output_type": "stream",
     "text": [
      "# Simulator\n",
      "{'11 0000': 4142, '11 1111': 4050}\n",
      "\n",
      "# No scheduling\n",
      "{'00 0000': 62, '00 0001': 2, '01 0000': 491, '01 0001': 12, '01 0010': 1, '01 0011': 10, '01 0100': 1, '01 0101': 1, '01 0110': 2, '01 0111': 18, '01 1000': 2, '01 1001': 1, '01 1010': 1, '01 1011': 6, '01 1100': 10, '01 1101': 6, '01 1110': 34, '01 1111': 388, '00 0010': 1, '10 0000': 287, '10 0001': 4, '10 0010': 3, '10 0011': 3, '10 0100': 5, '10 0111': 15, '10 1000': 5, '10 1011': 3, '10 1100': 5, '10 1101': 7, '10 1110': 11, '10 1111': 160, '00 0011': 2, '11 0000': 3239, '11 0001': 51, '11 0010': 23, '11 0011': 55, '11 0100': 13, '11 0101': 1, '11 0110': 9, '11 0111': 58, '11 1000': 29, '11 1001': 1, '11 1010': 2, '11 1011': 57, '11 1100': 77, '11 1101': 90, '11 1110': 202, '11 1111': 2692, '00 0100': 1, '00 0111': 2, '00 1110': 1, '00 1111': 30}\n",
      "\n",
      "# ALAP scheduling policy\n",
      "{'00 0000': 78, '00 0001': 1, '01 0000': 451, '01 0001': 7, '01 0010': 1, '01 0011': 12, '01 0100': 3, '01 0111': 14, '01 1000': 6, '01 1001': 1, '01 1011': 12, '01 1100': 9, '01 1101': 11, '01 1110': 22, '01 1111': 372, '10 0000': 334, '10 0001': 2, '10 0010': 2, '10 0011': 8, '10 0100': 2, '10 0101': 1, '10 0111': 14, '10 1000': 8, '10 1001': 1, '10 1010': 1, '10 1011': 3, '10 1100': 5, '10 1101': 5, '10 1110': 16, '10 1111': 157, '00 0011': 1, '11 0000': 3154, '11 0001': 44, '11 0010': 20, '11 0011': 74, '11 0100': 15, '11 0101': 2, '11 0110': 2, '11 0111': 62, '11 1000': 33, '11 1001': 5, '11 1010': 1, '11 1011': 50, '11 1100': 87, '11 1101': 100, '11 1110': 159, '11 1111': 2793, '00 0111': 2, '00 1011': 1, '00 1111': 28}\n"
     ]
    }
   ],
   "source": [
    "# Show the counts\n",
    "print(\"# Simulator\")\n",
    "print(counts_sim)\n",
    "\n",
    "print(\"\\n# No scheduling\")\n",
    "for _count in count_list: \n",
    "    print(_count)\n",
    "\n",
    "print(\"\\n# ALAP scheduling policy\")\n",
    "for _count_alap in counts_alap_list: \n",
    "    print(_count_alap)"
   ]
  },
  {
   "cell_type": "code",
   "execution_count": null,
   "metadata": {
    "lines_to_next_cell": 2
   },
   "outputs": [],
   "source": []
  }
 ],
 "metadata": {
  "jupytext": {
   "text_representation": {
    "extension": ".py",
    "format_name": "light",
    "format_version": "1.5",
    "jupytext_version": "1.7.1"
   }
  },
  "kernelspec": {
   "display_name": "Python 3",
   "language": "python",
   "name": "python3"
  },
  "language_info": {
   "codemirror_mode": {
    "name": "ipython",
    "version": 3
   },
   "file_extension": ".py",
   "mimetype": "text/x-python",
   "name": "python",
   "nbconvert_exporter": "python",
   "pygments_lexer": "ipython3",
   "version": "3.8.3"
  }
 },
 "nbformat": 4,
 "nbformat_minor": 2
}
