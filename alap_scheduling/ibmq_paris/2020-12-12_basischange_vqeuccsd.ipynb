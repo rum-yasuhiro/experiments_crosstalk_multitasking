{
 "cells": [
  {
   "cell_type": "markdown",
   "metadata": {},
   "source": [
    "# ALAP Scheduling \n",
    "### Basis change (3-qubits, 10CX) + VQE uccsd (4-qubits, 88 CX)\n",
    "\n",
    "2020-12-12"
   ]
  },
  {
   "cell_type": "code",
   "execution_count": 1,
   "metadata": {},
   "outputs": [],
   "source": [
    "# import python tools\n",
    "import os\n",
    "\n",
    "# import qiskit tool\n",
    "from qiskit.transpiler import InstructionDurations\n",
    "\n",
    "# import experimental tools\n",
    "from experiments.alap_scheduling import execute_alap, result_alap\n",
    "from experiments.utils import get_IBM_backend"
   ]
  },
  {
   "cell_type": "markdown",
   "metadata": {},
   "source": [
    "## Experimental Settings"
   ]
  },
  {
   "cell_type": "code",
   "execution_count": 2,
   "metadata": {},
   "outputs": [],
   "source": [
    "date = '2020-12-12'\n",
    "\n",
    "# Choose benchmark circuits from QASMBench\n",
    "benchmark_sets = ['basis_change_n3', 'vqe_uccsd_n4']\n",
    "benchmark_size = 'small'"
   ]
  },
  {
   "cell_type": "code",
   "execution_count": 3,
   "metadata": {},
   "outputs": [
    {
     "name": "stderr",
     "output_type": "stream",
     "text": [
      "/Users/Yasuhiro/.local/share/virtualenvs/experiments-VWP9UmJy/lib/python3.8/site-packages/qiskit/providers/ibmq/ibmqfactory.py:192: UserWarning: Timestamps in IBMQ backend properties, jobs, and job results are all now in local time instead of UTC.\n",
      "  warnings.warn('Timestamps in IBMQ backend properties, jobs, and job results '\n"
     ]
    }
   ],
   "source": [
    "# Define backend device\n",
    "backend = get_IBM_backend('ibmq_paris')\n",
    "simulator = get_IBM_backend('ibmq_qasm_simulator')\n",
    "\n",
    "# Number of trials\n",
    "shots = 8192\n",
    "\n",
    "# Number of experimental seeds\n",
    "nseed = 1"
   ]
  },
  {
   "cell_type": "code",
   "execution_count": 4,
   "metadata": {},
   "outputs": [],
   "source": [
    "# define path to the file to save job data\n",
    "file_name = date + '_'\n",
    "sorted_benchmarks = sorted(benchmark_sets)\n",
    "for _name in sorted_benchmarks: \n",
    "    file_name += _name\n",
    "    if _name == sorted_benchmarks[-1]:\n",
    "        break\n",
    "    file_name += '+'\n",
    "job_save_path = str(os.getcwd()) + \"/job_id/from20201211/\" + file_name"
   ]
  },
  {
   "cell_type": "markdown",
   "metadata": {},
   "source": [
    "## Execute experiments on IBMQ\n",
    "\n",
    "Here, we execute three types of experiments. First one is the  job run on simulator to calculate exact answer of the multi-programming circuit. The other two are the jobs executed on the real device. One is the base line, which is no scheduled, and the other one is the circuit executed with alap schedule policy. "
   ]
  },
  {
   "cell_type": "code",
   "execution_count": 5,
   "metadata": {},
   "outputs": [],
   "source": [
    "instruction_durations = InstructionDurations.from_backend(backend)"
   ]
  },
  {
   "cell_type": "code",
   "execution_count": 6,
   "metadata": {},
   "outputs": [],
   "source": [
    "job_sim, job, job_alap = execute_alap(\n",
    "                    size=benchmark_size, \n",
    "                    names=benchmark_sets, \n",
    "                    backend=backend, \n",
    "                    simulator=simulator,\n",
    "                    shots = shots, \n",
    "                    nseed=1,\n",
    "                    save_path=job_save_path, \n",
    "                    instruction_durations=instruction_durations,\n",
    "                    )"
   ]
  },
  {
   "cell_type": "code",
   "execution_count": 7,
   "metadata": {},
   "outputs": [
    {
     "name": "stdout",
     "output_type": "stream",
     "text": [
      "<qiskit.providers.ibmq.job.ibmqjob.IBMQJob object at 0x7f869ccf7820>\n",
      "[<qiskit.providers.ibmq.job.ibmqjob.IBMQJob object at 0x7f869cf92b50>]\n",
      "[<qiskit.providers.ibmq.job.ibmqjob.IBMQJob object at 0x7f869cffba30>]\n"
     ]
    }
   ],
   "source": [
    "# Show the each job\n",
    "print(job_sim)\n",
    "print(job)\n",
    "print(job_alap)"
   ]
  },
  {
   "cell_type": "markdown",
   "metadata": {},
   "source": [
    "## Get the results"
   ]
  },
  {
   "cell_type": "code",
   "execution_count": 8,
   "metadata": {},
   "outputs": [],
   "source": [
    "# define path to the file to save results\n",
    "result_save_path = str(os.getcwd()) + \"/results/from20201211/\" + file_name"
   ]
  },
  {
   "cell_type": "code",
   "execution_count": 9,
   "metadata": {},
   "outputs": [],
   "source": [
    "result_sim, result_list, result_alap_list, counts_sim, count_list, counts_alap_list, qc_names = result_alap(backend, simulator, job_save_path, result_save_path)"
   ]
  },
  {
   "cell_type": "code",
   "execution_count": 10,
   "metadata": {},
   "outputs": [
    {
     "name": "stdout",
     "output_type": "stream",
     "text": [
      "# Simulator\n",
      "Result(backend_name='ibmq_qasm_simulator', backend_version='0.7.0', qobj_id='85e3e99c-711a-4783-8325-c02a258c1f2f', job_id='5fd3ff8d1d6c74001a0ed869', success=True, results=[ExperimentResult(shots=8192, success=True, meas_level=MeasLevel.CLASSIFIED, data=ExperimentResultData(counts={'0x0': 352, '0x18': 159, '0x28': 2189, '0x30': 463, '0x48': 743, '0x50': 85, '0x60': 1471, '0x78': 2730}), header=QobjExperimentHeader(clbit_labels=[['c0', 0], ['c0', 1], ['c0', 2], ['c1', 0], ['c1', 1], ['c1', 2], ['c1', 3]], creg_sizes=[['c0', 3], ['c1', 4]], global_phase=0.0, memory_slots=7, n_qubits=7, name='circuit8', qreg_sizes=[['q0', 3], ['q1', 4]], qubit_labels=[['q0', 0], ['q0', 1], ['q0', 2], ['q1', 0], ['q1', 1], ['q1', 2], ['q1', 3]]), status=DONE, metadata={'fusion': {'applied': False, 'enabled': True, 'method': 'unitary', 'threshold': 14}, 'measure_sampling': True, 'method': 'statevector', 'parallel_shots': 1, 'parallel_state_update': 16}, seed_simulator=1355635144, time_taken=0.019895071)], date=2020-12-12 08:24:01.039399+09:00, status=COMPLETED, status=QobjHeader(backend_name='ibmq_qasm_simulator', backend_version='0.1.547'), metadata={'max_memory_mb': 257936, 'omp_enabled': True, 'parallel_experiments': 1, 'time_taken': 0.020451629000000002}, time_taken=0.020451629000000002, client_version={'qiskit': '0.23.1'})\n",
      "\n",
      "# No scheduling\n",
      "Result(backend_name='ibmq_paris', backend_version='1.6.5', qobj_id='c980fa26-2b13-409c-a64e-01c5e6ebfd4d', job_id='5fd3ff8fafed5900190252d2', success=True, results=[ExperimentResult(shots=8192, success=True, meas_level=2, data=ExperimentResultData(counts={'0x0': 328, '0x1': 23, '0x10': 124, '0x11': 14, '0x12': 7, '0x13': 2, '0x14': 9, '0x15': 2, '0x16': 4, '0x18': 134, '0x19': 9, '0x1a': 11, '0x1c': 9, '0x1d': 4, '0x1e': 4, '0x2': 17, '0x20': 480, '0x21': 35, '0x22': 29, '0x23': 9, '0x24': 28, '0x25': 10, '0x26': 10, '0x28': 447, '0x29': 29, '0x2a': 14, '0x2b': 5, '0x2c': 26, '0x2d': 5, '0x2e': 9, '0x3': 2, '0x30': 596, '0x31': 31, '0x32': 32, '0x33': 11, '0x34': 35, '0x35': 11, '0x36': 12, '0x37': 2, '0x38': 613, '0x39': 33, '0x3a': 39, '0x3b': 11, '0x3c': 21, '0x3d': 5, '0x3e': 12, '0x3f': 1, '0x4': 20, '0x40': 348, '0x41': 29, '0x42': 13, '0x43': 4, '0x44': 18, '0x45': 6, '0x46': 7, '0x47': 1, '0x48': 380, '0x49': 33, '0x4a': 21, '0x4b': 11, '0x4c': 23, '0x4d': 17, '0x4e': 5, '0x5': 9, '0x50': 125, '0x51': 10, '0x52': 5, '0x53': 5, '0x54': 2, '0x55': 1, '0x56': 2, '0x57': 1, '0x58': 144, '0x59': 11, '0x5a': 5, '0x5b': 5, '0x5c': 7, '0x5d': 1, '0x5e': 4, '0x5f': 1, '0x6': 7, '0x60': 497, '0x61': 39, '0x62': 24, '0x63': 14, '0x64': 17, '0x65': 6, '0x66': 9, '0x68': 579, '0x69': 52, '0x6a': 32, '0x6b': 19, '0x6c': 34, '0x6d': 18, '0x6e': 10, '0x6f': 2, '0x7': 3, '0x70': 671, '0x71': 55, '0x72': 39, '0x73': 12, '0x74': 29, '0x75': 15, '0x76': 15, '0x78': 657, '0x79': 43, '0x7a': 22, '0x7b': 26, '0x7c': 31, '0x7d': 12, '0x7e': 14, '0x7f': 2, '0x8': 495, '0x9': 28, '0xa': 28, '0xb': 17, '0xc': 24, '0xd': 6, '0xe': 9, '0xf': 2}), header=QobjExperimentHeader(clbit_labels=[['c2', 0], ['c2', 1], ['c2', 2], ['c3', 0], ['c3', 1], ['c3', 2], ['c3', 3]], creg_sizes=[['c2', 3], ['c3', 4]], global_phase=-16.606734961093377, memory_slots=7, n_qubits=27, name='circuit539', qreg_sizes=[['q', 27]], qubit_labels=[['q', 0], ['q', 1], ['q', 2], ['q', 3], ['q', 4], ['q', 5], ['q', 6], ['q', 7], ['q', 8], ['q', 9], ['q', 10], ['q', 11], ['q', 12], ['q', 13], ['q', 14], ['q', 15], ['q', 16], ['q', 17], ['q', 18], ['q', 19], ['q', 20], ['q', 21], ['q', 22], ['q', 23], ['q', 24], ['q', 25], ['q', 26]]), memory=False)], date=2020-12-12 08:27:01+09:00, status=Successful completion, status=QobjHeader(backend_name='ibmq_paris', backend_version='1.6.5'), time_taken=21.457054138183594, execution_id='285eeb02-3c08-11eb-b3fc-b02628ea1e00', client_version={'qiskit': '0.23.1'})\n",
      "\n",
      "# ALAP scheduling policy\n",
      "Result(backend_name='ibmq_paris', backend_version='1.6.5', qobj_id='855d42d6-bcbd-4dde-ab99-d570fabef675', job_id='5fd3ff9105b601001977104f', success=True, results=[ExperimentResult(shots=8192, success=True, meas_level=2, data=ExperimentResultData(counts={'0x0': 324, '0x1': 25, '0x10': 124, '0x11': 7, '0x12': 11, '0x13': 4, '0x14': 6, '0x15': 4, '0x17': 1, '0x18': 133, '0x19': 6, '0x1a': 7, '0x1b': 4, '0x1c': 4, '0x1d': 2, '0x1e': 2, '0x1f': 2, '0x2': 17, '0x20': 565, '0x21': 39, '0x22': 27, '0x23': 10, '0x24': 27, '0x25': 9, '0x26': 9, '0x27': 3, '0x28': 434, '0x29': 31, '0x2a': 30, '0x2b': 8, '0x2c': 17, '0x2d': 8, '0x2e': 8, '0x2f': 4, '0x3': 8, '0x30': 591, '0x31': 50, '0x32': 29, '0x33': 11, '0x34': 25, '0x35': 13, '0x36': 10, '0x37': 1, '0x38': 590, '0x39': 32, '0x3a': 35, '0x3b': 21, '0x3c': 22, '0x3d': 8, '0x3e': 7, '0x3f': 2, '0x4': 16, '0x40': 388, '0x41': 23, '0x42': 16, '0x43': 9, '0x44': 12, '0x45': 6, '0x46': 7, '0x47': 4, '0x48': 555, '0x49': 30, '0x4a': 25, '0x4b': 14, '0x4c': 15, '0x4d': 11, '0x4e': 7, '0x4f': 2, '0x5': 2, '0x50': 155, '0x51': 8, '0x52': 5, '0x53': 6, '0x54': 5, '0x55': 4, '0x56': 2, '0x57': 1, '0x58': 148, '0x59': 14, '0x5a': 5, '0x5b': 3, '0x5c': 8, '0x5d': 4, '0x5e': 2, '0x5f': 1, '0x6': 4, '0x60': 440, '0x61': 41, '0x62': 34, '0x63': 12, '0x64': 21, '0x65': 8, '0x66': 8, '0x67': 1, '0x68': 509, '0x69': 30, '0x6a': 16, '0x6b': 7, '0x6c': 21, '0x6d': 7, '0x6e': 8, '0x6f': 1, '0x7': 2, '0x70': 666, '0x71': 46, '0x72': 41, '0x73': 20, '0x74': 36, '0x75': 15, '0x76': 8, '0x77': 3, '0x78': 658, '0x79': 41, '0x7a': 40, '0x7b': 17, '0x7c': 22, '0x7d': 10, '0x7e': 7, '0x7f': 5, '0x8': 417, '0x9': 34, '0xa': 20, '0xb': 7, '0xc': 13, '0xd': 8, '0xe': 7, '0xf': 1}), header=QobjExperimentHeader(clbit_labels=[['c4', 0], ['c4', 1], ['c4', 2], ['c5', 0], ['c5', 1], ['c5', 2], ['c5', 3]], creg_sizes=[['c4', 3], ['c5', 4]], global_phase=0.0, memory_slots=7, n_qubits=27, name='circuit1404', qreg_sizes=[['q', 27]], qubit_labels=[['q', 0], ['q', 1], ['q', 2], ['q', 3], ['q', 4], ['q', 5], ['q', 6], ['q', 7], ['q', 8], ['q', 9], ['q', 10], ['q', 11], ['q', 12], ['q', 13], ['q', 14], ['q', 15], ['q', 16], ['q', 17], ['q', 18], ['q', 19], ['q', 20], ['q', 21], ['q', 22], ['q', 23], ['q', 24], ['q', 25], ['q', 26]]), memory=False)], date=2020-12-12 08:27:48+09:00, status=Successful completion, status=QobjHeader(backend_name='ibmq_paris', backend_version='1.6.5'), time_taken=21.906385898590088, execution_id='62891e74-3c08-11eb-93fe-b02628ea1e00', client_version={'qiskit': '0.23.1'})\n"
     ]
    }
   ],
   "source": [
    "# Show the results\n",
    "print(\"# Simulator\")\n",
    "print(result_sim)\n",
    "\n",
    "print(\"\\n# No scheduling\")\n",
    "for _result in result_list: \n",
    "    print(_result)\n",
    "\n",
    "print(\"\\n# ALAP scheduling policy\")\n",
    "for _result_alap in result_alap_list: \n",
    "    print(_result_alap)"
   ]
  },
  {
   "cell_type": "code",
   "execution_count": 11,
   "metadata": {},
   "outputs": [
    {
     "name": "stdout",
     "output_type": "stream",
     "text": [
      "# Simulator\n",
      "{'0000 000': 352, '0011 000': 159, '0101 000': 2189, '0110 000': 463, '1001 000': 743, '1010 000': 85, '1100 000': 1471, '1111 000': 2730}\n",
      "\n",
      "# No scheduling\n",
      "{'0000 000': 328, '0000 001': 23, '0010 000': 124, '0010 001': 14, '0010 010': 7, '0010 011': 2, '0010 100': 9, '0010 101': 2, '0010 110': 4, '0011 000': 134, '0011 001': 9, '0011 010': 11, '0011 100': 9, '0011 101': 4, '0011 110': 4, '0000 010': 17, '0100 000': 480, '0100 001': 35, '0100 010': 29, '0100 011': 9, '0100 100': 28, '0100 101': 10, '0100 110': 10, '0101 000': 447, '0101 001': 29, '0101 010': 14, '0101 011': 5, '0101 100': 26, '0101 101': 5, '0101 110': 9, '0000 011': 2, '0110 000': 596, '0110 001': 31, '0110 010': 32, '0110 011': 11, '0110 100': 35, '0110 101': 11, '0110 110': 12, '0110 111': 2, '0111 000': 613, '0111 001': 33, '0111 010': 39, '0111 011': 11, '0111 100': 21, '0111 101': 5, '0111 110': 12, '0111 111': 1, '0000 100': 20, '1000 000': 348, '1000 001': 29, '1000 010': 13, '1000 011': 4, '1000 100': 18, '1000 101': 6, '1000 110': 7, '1000 111': 1, '1001 000': 380, '1001 001': 33, '1001 010': 21, '1001 011': 11, '1001 100': 23, '1001 101': 17, '1001 110': 5, '0000 101': 9, '1010 000': 125, '1010 001': 10, '1010 010': 5, '1010 011': 5, '1010 100': 2, '1010 101': 1, '1010 110': 2, '1010 111': 1, '1011 000': 144, '1011 001': 11, '1011 010': 5, '1011 011': 5, '1011 100': 7, '1011 101': 1, '1011 110': 4, '1011 111': 1, '0000 110': 7, '1100 000': 497, '1100 001': 39, '1100 010': 24, '1100 011': 14, '1100 100': 17, '1100 101': 6, '1100 110': 9, '1101 000': 579, '1101 001': 52, '1101 010': 32, '1101 011': 19, '1101 100': 34, '1101 101': 18, '1101 110': 10, '1101 111': 2, '0000 111': 3, '1110 000': 671, '1110 001': 55, '1110 010': 39, '1110 011': 12, '1110 100': 29, '1110 101': 15, '1110 110': 15, '1111 000': 657, '1111 001': 43, '1111 010': 22, '1111 011': 26, '1111 100': 31, '1111 101': 12, '1111 110': 14, '1111 111': 2, '0001 000': 495, '0001 001': 28, '0001 010': 28, '0001 011': 17, '0001 100': 24, '0001 101': 6, '0001 110': 9, '0001 111': 2}\n",
      "\n",
      "# ALAP scheduling policy\n",
      "{'0000 000': 324, '0000 001': 25, '0010 000': 124, '0010 001': 7, '0010 010': 11, '0010 011': 4, '0010 100': 6, '0010 101': 4, '0010 111': 1, '0011 000': 133, '0011 001': 6, '0011 010': 7, '0011 011': 4, '0011 100': 4, '0011 101': 2, '0011 110': 2, '0011 111': 2, '0000 010': 17, '0100 000': 565, '0100 001': 39, '0100 010': 27, '0100 011': 10, '0100 100': 27, '0100 101': 9, '0100 110': 9, '0100 111': 3, '0101 000': 434, '0101 001': 31, '0101 010': 30, '0101 011': 8, '0101 100': 17, '0101 101': 8, '0101 110': 8, '0101 111': 4, '0000 011': 8, '0110 000': 591, '0110 001': 50, '0110 010': 29, '0110 011': 11, '0110 100': 25, '0110 101': 13, '0110 110': 10, '0110 111': 1, '0111 000': 590, '0111 001': 32, '0111 010': 35, '0111 011': 21, '0111 100': 22, '0111 101': 8, '0111 110': 7, '0111 111': 2, '0000 100': 16, '1000 000': 388, '1000 001': 23, '1000 010': 16, '1000 011': 9, '1000 100': 12, '1000 101': 6, '1000 110': 7, '1000 111': 4, '1001 000': 555, '1001 001': 30, '1001 010': 25, '1001 011': 14, '1001 100': 15, '1001 101': 11, '1001 110': 7, '1001 111': 2, '0000 101': 2, '1010 000': 155, '1010 001': 8, '1010 010': 5, '1010 011': 6, '1010 100': 5, '1010 101': 4, '1010 110': 2, '1010 111': 1, '1011 000': 148, '1011 001': 14, '1011 010': 5, '1011 011': 3, '1011 100': 8, '1011 101': 4, '1011 110': 2, '1011 111': 1, '0000 110': 4, '1100 000': 440, '1100 001': 41, '1100 010': 34, '1100 011': 12, '1100 100': 21, '1100 101': 8, '1100 110': 8, '1100 111': 1, '1101 000': 509, '1101 001': 30, '1101 010': 16, '1101 011': 7, '1101 100': 21, '1101 101': 7, '1101 110': 8, '1101 111': 1, '0000 111': 2, '1110 000': 666, '1110 001': 46, '1110 010': 41, '1110 011': 20, '1110 100': 36, '1110 101': 15, '1110 110': 8, '1110 111': 3, '1111 000': 658, '1111 001': 41, '1111 010': 40, '1111 011': 17, '1111 100': 22, '1111 101': 10, '1111 110': 7, '1111 111': 5, '0001 000': 417, '0001 001': 34, '0001 010': 20, '0001 011': 7, '0001 100': 13, '0001 101': 8, '0001 110': 7, '0001 111': 1}\n"
     ]
    }
   ],
   "source": [
    "# Show the counts\n",
    "print(\"# Simulator\")\n",
    "print(counts_sim)\n",
    "\n",
    "print(\"\\n# No scheduling\")\n",
    "for _count in count_list: \n",
    "    print(_count)\n",
    "\n",
    "print(\"\\n# ALAP scheduling policy\")\n",
    "for _count_alap in counts_alap_list: \n",
    "    print(_count_alap)"
   ]
  },
  {
   "cell_type": "code",
   "execution_count": null,
   "metadata": {},
   "outputs": [],
   "source": []
  }
 ],
 "metadata": {
  "jupytext": {
   "text_representation": {
    "extension": ".py",
    "format_name": "light",
    "format_version": "1.5",
    "jupytext_version": "1.7.1"
   }
  },
  "kernelspec": {
   "display_name": "Python 3",
   "language": "python",
   "name": "python3"
  },
  "language_info": {
   "codemirror_mode": {
    "name": "ipython",
    "version": 3
   },
   "file_extension": ".py",
   "mimetype": "text/x-python",
   "name": "python",
   "nbconvert_exporter": "python",
   "pygments_lexer": "ipython3",
   "version": "3.8.3"
  }
 },
 "nbformat": 4,
 "nbformat_minor": 2
}
