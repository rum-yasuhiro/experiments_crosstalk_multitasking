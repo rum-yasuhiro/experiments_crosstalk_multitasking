{
 "cells": [
  {
   "cell_type": "markdown",
   "metadata": {},
   "source": [
    "# ALAP Scheduling \n",
    "### Grover (2-qubits, 2 CX) + VQE UCCSD (4-qubits, 88 CX)\n",
    "\n",
    "2020-12-13"
   ]
  },
  {
   "cell_type": "code",
   "execution_count": 1,
   "metadata": {},
   "outputs": [],
   "source": [
    "# import python tools\n",
    "import os\n",
    "\n",
    "# import qiskit tool\n",
    "from qiskit.transpiler import InstructionDurations\n",
    "\n",
    "# import experimental tools\n",
    "from experiments.alap_scheduling import execute_alap, result_alap\n",
    "from experiments.utils import get_IBM_backend"
   ]
  },
  {
   "cell_type": "markdown",
   "metadata": {},
   "source": [
    "## Experimental Settings"
   ]
  },
  {
   "cell_type": "code",
   "execution_count": 2,
   "metadata": {},
   "outputs": [],
   "source": [
    "date = '2020-12-13'\n",
    "\n",
    "# Choose benchmark circuits from QASMBench\n",
    "benchmark_sets = ['grover_n2', 'vqe_uccsd_n4']\n",
    "benchmark_size = 'small'"
   ]
  },
  {
   "cell_type": "code",
   "execution_count": 3,
   "metadata": {},
   "outputs": [
    {
     "name": "stderr",
     "output_type": "stream",
     "text": [
      "/Users/Yasuhiro/.local/share/virtualenvs/experiments-VWP9UmJy/lib/python3.8/site-packages/qiskit/providers/ibmq/ibmqfactory.py:192: UserWarning: Timestamps in IBMQ backend properties, jobs, and job results are all now in local time instead of UTC.\n",
      "  warnings.warn('Timestamps in IBMQ backend properties, jobs, and job results '\n"
     ]
    }
   ],
   "source": [
    "# Define backend device\n",
    "backend = get_IBM_backend('ibmq_paris')\n",
    "simulator = get_IBM_backend('ibmq_qasm_simulator')\n",
    "\n",
    "# Number of trials\n",
    "shots = 8192\n",
    "\n",
    "# Number of experimental seeds\n",
    "nseed = 1"
   ]
  },
  {
   "cell_type": "code",
   "execution_count": 4,
   "metadata": {},
   "outputs": [],
   "source": [
    "# define path to the file to save job data\n",
    "file_name = date + '_'\n",
    "sorted_benchmarks = sorted(benchmark_sets)\n",
    "for _name in sorted_benchmarks: \n",
    "    file_name += _name\n",
    "    if _name == sorted_benchmarks[-1]:\n",
    "        break\n",
    "    file_name += '+'\n",
    "job_save_path = str(os.getcwd()) + \"/job_id/from20201211/\" + file_name"
   ]
  },
  {
   "cell_type": "markdown",
   "metadata": {},
   "source": [
    "## Execute experiments on IBMQ\n",
    "\n",
    "Here, we execute three types of experiments. First one is the  job run on simulator to calculate exact answer of the multi-programming circuit. The other two are the jobs executed on the real device. One is the base line, which is no scheduled, and the other one is the circuit executed with alap schedule policy. "
   ]
  },
  {
   "cell_type": "code",
   "execution_count": 5,
   "metadata": {},
   "outputs": [],
   "source": [
    "instruction_durations = InstructionDurations.from_backend(backend)"
   ]
  },
  {
   "cell_type": "code",
   "execution_count": 6,
   "metadata": {},
   "outputs": [],
   "source": [
    "job_sim, job, job_alap = execute_alap(\n",
    "                    size=benchmark_size, \n",
    "                    names=benchmark_sets, \n",
    "                    backend=backend, \n",
    "                    simulator=simulator,\n",
    "                    shots = shots, \n",
    "                    nseed=1,\n",
    "                    save_path=job_save_path, \n",
    "                    instruction_durations=instruction_durations,\n",
    "                    )"
   ]
  },
  {
   "cell_type": "code",
   "execution_count": 7,
   "metadata": {},
   "outputs": [
    {
     "name": "stdout",
     "output_type": "stream",
     "text": [
      "<qiskit.providers.ibmq.job.ibmqjob.IBMQJob object at 0x7fb1b353a160>\n",
      "[<qiskit.providers.ibmq.job.ibmqjob.IBMQJob object at 0x7fb1b3459400>]\n",
      "[<qiskit.providers.ibmq.job.ibmqjob.IBMQJob object at 0x7fb1b37a3c40>]\n"
     ]
    }
   ],
   "source": [
    "# Show the each job\n",
    "print(job_sim)\n",
    "print(job)\n",
    "print(job_alap)"
   ]
  },
  {
   "cell_type": "markdown",
   "metadata": {},
   "source": [
    "## Get the results"
   ]
  },
  {
   "cell_type": "code",
   "execution_count": 8,
   "metadata": {},
   "outputs": [],
   "source": [
    "# define path to the file to save results\n",
    "result_save_path = str(os.getcwd()) + \"/results/from20201211/\" + file_name"
   ]
  },
  {
   "cell_type": "code",
   "execution_count": 9,
   "metadata": {},
   "outputs": [],
   "source": [
    "result_sim, result_list, result_alap_list, counts_sim, count_list, counts_alap_list, qc_names = result_alap(backend, simulator, job_save_path, result_save_path)"
   ]
  },
  {
   "cell_type": "code",
   "execution_count": 10,
   "metadata": {},
   "outputs": [
    {
     "name": "stdout",
     "output_type": "stream",
     "text": [
      "# Simulator\n",
      "Result(backend_name='ibmq_qasm_simulator', backend_version='0.7.0', qobj_id='7f89d7ac-b022-488a-a256-2fce82867bcf', job_id='5fd5bbd51d6c74001a0eeadc', success=True, results=[ExperimentResult(shots=8192, success=True, meas_level=MeasLevel.CLASSIFIED, data=ExperimentResultData(counts={'0x17': 2228, '0x1b': 488, '0x27': 732, '0x2b': 98, '0x3': 346, '0x33': 1455, '0x3f': 2682, '0xf': 163}), header=QobjExperimentHeader(clbit_labels=[['c0', 0], ['c0', 1], ['c1', 0], ['c1', 1], ['c1', 2], ['c1', 3]], creg_sizes=[['c0', 2], ['c1', 4]], global_phase=0.0, memory_slots=6, n_qubits=6, name='circuit8', qreg_sizes=[['q0', 2], ['q1', 4]], qubit_labels=[['q0', 0], ['q0', 1], ['q1', 0], ['q1', 1], ['q1', 2], ['q1', 3]]), status=DONE, metadata={'fusion': {'applied': False, 'enabled': True, 'method': 'unitary', 'threshold': 14}, 'measure_sampling': True, 'method': 'statevector', 'parallel_shots': 1, 'parallel_state_update': 16}, seed_simulator=815593189, time_taken=0.018718951)], date=2020-12-13 15:59:42.123071+09:00, status=COMPLETED, status=QobjHeader(backend_name='ibmq_qasm_simulator', backend_version='0.1.547'), metadata={'max_memory_mb': 257936, 'omp_enabled': True, 'parallel_experiments': 1, 'time_taken': 0.019231842000000002}, time_taken=0.019231842000000002, client_version={'qiskit': '0.23.1'})\n",
      "\n",
      "# No scheduling\n",
      "Result(backend_name='ibmq_paris', backend_version='1.6.6', qobj_id='70de7334-3d2d-4d9e-8e01-225b1107f6d3', job_id='5fd5bbdcafed59001902652d', success=True, results=[ExperimentResult(shots=8192, success=True, meas_level=2, data=ExperimentResultData(counts={'0x0': 9, '0x1': 53, '0x10': 11, '0x11': 71, '0x12': 37, '0x13': 375, '0x14': 8, '0x15': 82, '0x16': 48, '0x17': 519, '0x18': 7, '0x19': 58, '0x1a': 36, '0x1b': 326, '0x1c': 6, '0x1d': 76, '0x1e': 40, '0x1f': 413, '0x2': 20, '0x20': 4, '0x21': 50, '0x22': 16, '0x23': 324, '0x24': 4, '0x25': 72, '0x26': 24, '0x27': 447, '0x28': 5, '0x29': 61, '0x2a': 19, '0x2b': 324, '0x2c': 5, '0x2d': 71, '0x2e': 18, '0x2f': 322, '0x3': 333, '0x30': 2, '0x31': 98, '0x32': 24, '0x33': 474, '0x34': 6, '0x35': 99, '0x36': 22, '0x37': 541, '0x38': 4, '0x39': 72, '0x3a': 15, '0x3b': 478, '0x3c': 8, '0x3d': 96, '0x3e': 21, '0x3f': 598, '0x4': 6, '0x5': 64, '0x6': 33, '0x7': 407, '0x8': 9, '0x9': 53, '0xa': 19, '0xb': 319, '0xc': 7, '0xd': 61, '0xe': 33, '0xf': 329}), header=QobjExperimentHeader(clbit_labels=[['c2', 0], ['c2', 1], ['c3', 0], ['c3', 1], ['c3', 2], ['c3', 3]], creg_sizes=[['c2', 2], ['c3', 4]], global_phase=-12.35799358970949, memory_slots=6, n_qubits=27, name='circuit503', qreg_sizes=[['q', 27]], qubit_labels=[['q', 0], ['q', 1], ['q', 2], ['q', 3], ['q', 4], ['q', 5], ['q', 6], ['q', 7], ['q', 8], ['q', 9], ['q', 10], ['q', 11], ['q', 12], ['q', 13], ['q', 14], ['q', 15], ['q', 16], ['q', 17], ['q', 18], ['q', 19], ['q', 20], ['q', 21], ['q', 22], ['q', 23], ['q', 24], ['q', 25], ['q', 26]]), memory=False)], date=2020-12-13 16:30:22+09:00, status=Successful completion, status=QobjHeader(backend_name='ibmq_paris', backend_version='1.6.6'), time_taken=21.09449815750122, execution_id='d62a8a04-3d14-11eb-bc11-b02628ea1e00', client_version={'qiskit': '0.23.1'})\n",
      "\n",
      "# ALAP scheduling policy\n",
      "Result(backend_name='ibmq_paris', backend_version='1.6.6', qobj_id='39ab434e-ecf8-46fe-9995-4ad94008f941', job_id='5fd5bbdf05b6010019772296', success=True, results=[ExperimentResult(shots=8192, success=True, meas_level=2, data=ExperimentResultData(counts={'0x0': 7, '0x1': 53, '0x10': 4, '0x11': 69, '0x12': 27, '0x13': 401, '0x14': 7, '0x15': 107, '0x16': 56, '0x17': 523, '0x18': 2, '0x19': 61, '0x1a': 30, '0x1b': 323, '0x1c': 3, '0x1d': 73, '0x1e': 41, '0x1f': 396, '0x2': 35, '0x20': 3, '0x21': 68, '0x22': 18, '0x23': 306, '0x24': 3, '0x25': 82, '0x26': 31, '0x27': 404, '0x28': 5, '0x29': 52, '0x2a': 12, '0x2b': 262, '0x2c': 1, '0x2d': 63, '0x2e': 16, '0x2f': 294, '0x3': 309, '0x30': 6, '0x31': 99, '0x32': 26, '0x33': 612, '0x34': 8, '0x35': 112, '0x36': 30, '0x37': 648, '0x38': 5, '0x39': 88, '0x3a': 17, '0x3b': 449, '0x3c': 8, '0x3d': 114, '0x3e': 18, '0x3f': 567, '0x4': 7, '0x5': 69, '0x6': 27, '0x7': 337, '0x8': 5, '0x9': 55, '0xa': 25, '0xb': 282, '0xc': 7, '0xd': 57, '0xe': 27, '0xf': 340}), header=QobjExperimentHeader(clbit_labels=[['c4', 0], ['c4', 1], ['c5', 0], ['c5', 1], ['c5', 2], ['c5', 3]], creg_sizes=[['c4', 2], ['c5', 4]], global_phase=0.0, memory_slots=6, n_qubits=27, name='circuit1274', qreg_sizes=[['q', 27]], qubit_labels=[['q', 0], ['q', 1], ['q', 2], ['q', 3], ['q', 4], ['q', 5], ['q', 6], ['q', 7], ['q', 8], ['q', 9], ['q', 10], ['q', 11], ['q', 12], ['q', 13], ['q', 14], ['q', 15], ['q', 16], ['q', 17], ['q', 18], ['q', 19], ['q', 20], ['q', 21], ['q', 22], ['q', 23], ['q', 24], ['q', 25], ['q', 26]]), memory=False)], date=2020-12-13 16:36:00+09:00, status=Successful completion, status=QobjHeader(backend_name='ibmq_paris', backend_version='1.6.6'), time_taken=22.445433139801025, execution_id='12d52cca-3d15-11eb-885d-b02628ea1e00', client_version={'qiskit': '0.23.1'})\n"
     ]
    }
   ],
   "source": [
    "# Show the results\n",
    "print(\"# Simulator\")\n",
    "print(result_sim)\n",
    "\n",
    "print(\"\\n# No scheduling\")\n",
    "for _result in result_list: \n",
    "    print(_result)\n",
    "\n",
    "print(\"\\n# ALAP scheduling policy\")\n",
    "for _result_alap in result_alap_list: \n",
    "    print(_result_alap)"
   ]
  },
  {
   "cell_type": "code",
   "execution_count": 11,
   "metadata": {
    "lines_to_next_cell": 0
   },
   "outputs": [
    {
     "name": "stdout",
     "output_type": "stream",
     "text": [
      "# Simulator\n",
      "{'0101 11': 2228, '0110 11': 488, '1001 11': 732, '1010 11': 98, '0000 11': 346, '1100 11': 1455, '1111 11': 2682, '0011 11': 163}\n",
      "\n",
      "# No scheduling\n",
      "{'0000 00': 9, '0000 01': 53, '0100 00': 11, '0100 01': 71, '0100 10': 37, '0100 11': 375, '0101 00': 8, '0101 01': 82, '0101 10': 48, '0101 11': 519, '0110 00': 7, '0110 01': 58, '0110 10': 36, '0110 11': 326, '0111 00': 6, '0111 01': 76, '0111 10': 40, '0111 11': 413, '0000 10': 20, '1000 00': 4, '1000 01': 50, '1000 10': 16, '1000 11': 324, '1001 00': 4, '1001 01': 72, '1001 10': 24, '1001 11': 447, '1010 00': 5, '1010 01': 61, '1010 10': 19, '1010 11': 324, '1011 00': 5, '1011 01': 71, '1011 10': 18, '1011 11': 322, '0000 11': 333, '1100 00': 2, '1100 01': 98, '1100 10': 24, '1100 11': 474, '1101 00': 6, '1101 01': 99, '1101 10': 22, '1101 11': 541, '1110 00': 4, '1110 01': 72, '1110 10': 15, '1110 11': 478, '1111 00': 8, '1111 01': 96, '1111 10': 21, '1111 11': 598, '0001 00': 6, '0001 01': 64, '0001 10': 33, '0001 11': 407, '0010 00': 9, '0010 01': 53, '0010 10': 19, '0010 11': 319, '0011 00': 7, '0011 01': 61, '0011 10': 33, '0011 11': 329}\n",
      "\n",
      "# ALAP scheduling policy\n",
      "{'0000 00': 7, '0000 01': 53, '0100 00': 4, '0100 01': 69, '0100 10': 27, '0100 11': 401, '0101 00': 7, '0101 01': 107, '0101 10': 56, '0101 11': 523, '0110 00': 2, '0110 01': 61, '0110 10': 30, '0110 11': 323, '0111 00': 3, '0111 01': 73, '0111 10': 41, '0111 11': 396, '0000 10': 35, '1000 00': 3, '1000 01': 68, '1000 10': 18, '1000 11': 306, '1001 00': 3, '1001 01': 82, '1001 10': 31, '1001 11': 404, '1010 00': 5, '1010 01': 52, '1010 10': 12, '1010 11': 262, '1011 00': 1, '1011 01': 63, '1011 10': 16, '1011 11': 294, '0000 11': 309, '1100 00': 6, '1100 01': 99, '1100 10': 26, '1100 11': 612, '1101 00': 8, '1101 01': 112, '1101 10': 30, '1101 11': 648, '1110 00': 5, '1110 01': 88, '1110 10': 17, '1110 11': 449, '1111 00': 8, '1111 01': 114, '1111 10': 18, '1111 11': 567, '0001 00': 7, '0001 01': 69, '0001 10': 27, '0001 11': 337, '0010 00': 5, '0010 01': 55, '0010 10': 25, '0010 11': 282, '0011 00': 7, '0011 01': 57, '0011 10': 27, '0011 11': 340}\n"
     ]
    }
   ],
   "source": [
    "# Show the counts\n",
    "print(\"# Simulator\")\n",
    "print(counts_sim)\n",
    "\n",
    "print(\"\\n# No scheduling\")\n",
    "for _count in count_list: \n",
    "    print(_count)\n",
    "\n",
    "print(\"\\n# ALAP scheduling policy\")\n",
    "for _count_alap in counts_alap_list: \n",
    "    print(_count_alap)"
   ]
  },
  {
   "cell_type": "code",
   "execution_count": null,
   "metadata": {
    "lines_to_next_cell": 2
   },
   "outputs": [],
   "source": []
  }
 ],
 "metadata": {
  "jupytext": {
   "text_representation": {
    "extension": ".py",
    "format_name": "light",
    "format_version": "1.5",
    "jupytext_version": "1.7.1"
   }
  },
  "kernelspec": {
   "display_name": "Python 3",
   "language": "python",
   "name": "python3"
  },
  "language_info": {
   "codemirror_mode": {
    "name": "ipython",
    "version": 3
   },
   "file_extension": ".py",
   "mimetype": "text/x-python",
   "name": "python",
   "nbconvert_exporter": "python",
   "pygments_lexer": "ipython3",
   "version": "3.8.3"
  }
 },
 "nbformat": 4,
 "nbformat_minor": 2
}
