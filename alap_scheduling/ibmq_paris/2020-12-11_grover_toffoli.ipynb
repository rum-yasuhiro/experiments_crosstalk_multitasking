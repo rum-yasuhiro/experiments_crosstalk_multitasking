{
 "metadata": {
  "language_info": {
   "codemirror_mode": {
    "name": "ipython",
    "version": 3
   },
   "file_extension": ".py",
   "mimetype": "text/x-python",
   "name": "python",
   "nbconvert_exporter": "python",
   "pygments_lexer": "ipython3",
   "version": "3.8.3-final"
  },
  "orig_nbformat": 2,
  "kernelspec": {
   "name": "python3",
   "display_name": "Python 3",
   "language": "python"
  }
 },
 "nbformat": 4,
 "nbformat_minor": 2,
 "cells": [
  {
   "source": [
    "# ALAP Scheduling \n",
    "### Grover (2-qubits, 2 CX) + Toffoli (3-qubits, 6 CX)\n",
    "\n",
    "2020-12-11"
   ],
   "cell_type": "markdown",
   "metadata": {}
  },
  {
   "cell_type": "code",
   "execution_count": 1,
   "metadata": {},
   "outputs": [],
   "source": [
    "# import python tools\n",
    "import os\n",
    "\n",
    "# import qiskit tool\n",
    "from qiskit.transpiler import InstructionDurations\n",
    "\n",
    "# import experimental tools\n",
    "from experiments.alap_scheduling import execute_alap, result_alap\n",
    "from experiments.utils import get_IBM_backend"
   ]
  },
  {
   "source": [
    "## Experimental Settings"
   ],
   "cell_type": "markdown",
   "metadata": {}
  },
  {
   "cell_type": "code",
   "execution_count": 2,
   "metadata": {},
   "outputs": [],
   "source": [
    "date = '2020-12-11'\n",
    "\n",
    "# Choose benchmark circuits from QASMBench\n",
    "benchmark_sets = ['grover_n2', 'toffoli_n3']\n",
    "benchmark_size = 'small'"
   ]
  },
  {
   "cell_type": "code",
   "execution_count": 3,
   "metadata": {},
   "outputs": [],
   "source": [
    "# Define backend device\n",
    "backend = get_IBM_backend('ibmq_paris')\n",
    "simulator = get_IBM_backend('ibmq_qasm_simulator')\n",
    "\n",
    "# Number of trials\n",
    "shots = 8192\n",
    "\n",
    "# Number of experimental seeds\n",
    "nseed = 1"
   ]
  },
  {
   "cell_type": "code",
   "execution_count": 4,
   "metadata": {},
   "outputs": [],
   "source": [
    "# define path to the file to save job data\n",
    "file_name = date + '_'\n",
    "sorted_benchmarks = sorted(benchmark_sets)\n",
    "for _name in sorted_benchmarks: \n",
    "    file_name += _name\n",
    "    if _name == sorted_benchmarks[-1]:\n",
    "        break\n",
    "    file_name += '+'\n",
    "job_save_path = str(os.getcwd()) + \"/job_id/from2020-12-11/\" + file_name"
   ]
  },
  {
   "source": [
    "## Execute experiments on IBMQ\n",
    "\n",
    "Here, we execute three types of experiments. First one is the  job run on simulator to calculate exact answer of the multi-programming circuit. The other two are the jobs executed on the real device. One is the base line, which is no scheduled, and the other one is the circuit executed with alap schedule policy. "
   ],
   "cell_type": "markdown",
   "metadata": {}
  },
  {
   "cell_type": "code",
   "execution_count": 5,
   "metadata": {},
   "outputs": [
    {
     "output_type": "stream",
     "name": "stdout",
     "text": [
      "prog: Qubit(QuantumRegister(2, 'q14'), 0) , hw: 23\n",
      "prog: Qubit(QuantumRegister(2, 'q14'), 1) , hw: 24\n",
      "prog: Qubit(QuantumRegister(3, 'q15'), 0) , hw: 19\n",
      "prog: Qubit(QuantumRegister(3, 'q15'), 1) , hw: 16\n",
      "prog: Qubit(QuantumRegister(3, 'q15'), 2) , hw: 20\n",
      "prog: Qubit(QuantumRegister(2, 'q56'), 0) , hw: 23\n",
      "prog: Qubit(QuantumRegister(2, 'q56'), 1) , hw: 24\n",
      "prog: Qubit(QuantumRegister(3, 'q57'), 0) , hw: 19\n",
      "prog: Qubit(QuantumRegister(3, 'q57'), 1) , hw: 16\n",
      "prog: Qubit(QuantumRegister(3, 'q57'), 2) , hw: 20\n"
     ]
    }
   ],
   "source": [
    "instruction_durations = InstructionDurations.from_backend(backend)\n",
    "job_sim, job, job_alap = execute_alap(\n",
    "                    size=benchmark_size, \n",
    "                    names=benchmark_sets, \n",
    "                    backend=backend, \n",
    "                    simulator=simulator,\n",
    "                    shots = shots, \n",
    "                    nseed=1,\n",
    "                    save_path=job_save_path, \n",
    "                    instruction_durations=instruction_durations,\n",
    "                    )"
   ]
  },
  {
   "cell_type": "code",
   "execution_count": 6,
   "metadata": {},
   "outputs": [
    {
     "output_type": "stream",
     "name": "stdout",
     "text": [
      "<qiskit.providers.ibmq.job.ibmqjob.IBMQJob object at 0x7f9c3cbdba30>\n[<qiskit.providers.ibmq.job.ibmqjob.IBMQJob object at 0x7f9c3d067b20>]\n[<qiskit.providers.ibmq.job.ibmqjob.IBMQJob object at 0x7f9c3cda9a60>]\n"
     ]
    }
   ],
   "source": [
    "# Show the each job\n",
    "print(job_sim)\n",
    "print(job)\n",
    "print(job_alap)"
   ]
  },
  {
   "source": [
    "## Get the results"
   ],
   "cell_type": "markdown",
   "metadata": {}
  },
  {
   "cell_type": "code",
   "execution_count": 7,
   "metadata": {},
   "outputs": [],
   "source": [
    "# define path to the file to save results\n",
    "result_save_path = str(os.getcwd()) + \"/results/from2020-12-11/\" + file_name"
   ]
  },
  {
   "cell_type": "code",
   "execution_count": 8,
   "metadata": {},
   "outputs": [],
   "source": [
    "result_sim, result_list, result_alap_list, counts_sim, count_list, counts_alap_list, qc_names = result_alap(backend, simulator, job_save_path, result_save_path)"
   ]
  },
  {
   "cell_type": "code",
   "execution_count": 9,
   "metadata": {},
   "outputs": [
    {
     "output_type": "stream",
     "name": "stdout",
     "text": [
      "# Simulator\nResult(backend_name='ibmq_qasm_simulator', backend_version='0.7.0', qobj_id='0ce3e595-ffc4-4bcf-9c88-5a583444ee47', job_id='5fd33794ee97990019a34eb0', success=True, results=[ExperimentResult(shots=8192, success=True, meas_level=MeasLevel.CLASSIFIED, data=ExperimentResultData(counts={'0x1f': 8192}), header=QobjExperimentHeader(clbit_labels=[['c0', 0], ['c0', 1], ['c1', 0], ['c1', 1], ['c1', 2]], creg_sizes=[['c0', 2], ['c1', 3]], global_phase=0.0, memory_slots=5, n_qubits=5, name='circuit8', qreg_sizes=[['q0', 2], ['q1', 3]], qubit_labels=[['q0', 0], ['q0', 1], ['q1', 0], ['q1', 1], ['q1', 2]]), status=DONE, metadata={'fusion': {'applied': False, 'enabled': True, 'method': 'unitary', 'threshold': 14}, 'measure_sampling': True, 'method': 'statevector', 'parallel_shots': 1, 'parallel_state_update': 16}, seed_simulator=669795086, time_taken=0.014974423)], date=2020-12-11 18:10:48.419406+09:00, status=COMPLETED, status=QobjHeader(backend_name='ibmq_qasm_simulator', backend_version='0.1.547'), metadata={'max_memory_mb': 257936, 'omp_enabled': True, 'parallel_experiments': 1, 'time_taken': 0.015161876000000001}, time_taken=0.015161876000000001, client_version={'qiskit': '0.23.1'})\n\n# No scheduling\nResult(backend_name='ibmq_paris', backend_version='1.6.5', qobj_id='53b8cd78-1578-4b7a-ae0e-063019c808fb', job_id='5fd337972ab74700196ea45b', success=True, results=[ExperimentResult(shots=8192, success=True, meas_level=2, data=ExperimentResultData(counts={'0x0': 1, '0x1': 1, '0x11': 5, '0x12': 4, '0x13': 76, '0x14': 1, '0x15': 13, '0x16': 10, '0x17': 325, '0x18': 2, '0x19': 5, '0x1a': 14, '0x1b': 435, '0x1c': 44, '0x1d': 148, '0x1e': 191, '0x1f': 5809, '0x2': 1, '0x3': 42, '0x4': 1, '0x5': 2, '0x6': 10, '0x7': 261, '0x8': 2, '0x9': 8, '0xa': 13, '0xb': 276, '0xc': 4, '0xd': 11, '0xe': 17, '0xf': 460}), header=QobjExperimentHeader(clbit_labels=[['c2', 0], ['c2', 1], ['c3', 0], ['c3', 1], ['c3', 2]], creg_sizes=[['c2', 2], ['c3', 3]], global_phase=0.0, memory_slots=5, n_qubits=27, name='circuit122', qreg_sizes=[['q', 27]], qubit_labels=[['q', 0], ['q', 1], ['q', 2], ['q', 3], ['q', 4], ['q', 5], ['q', 6], ['q', 7], ['q', 8], ['q', 9], ['q', 10], ['q', 11], ['q', 12], ['q', 13], ['q', 14], ['q', 15], ['q', 16], ['q', 17], ['q', 18], ['q', 19], ['q', 20], ['q', 21], ['q', 22], ['q', 23], ['q', 24], ['q', 25], ['q', 26]]), memory=False)], date=2020-12-12 01:38:12+09:00, status=Successful completion, status=QobjHeader(backend_name='ibmq_paris', backend_version='1.6.5'), time_taken=22.067975997924805, execution_id='2e8f179c-3bcf-11eb-a385-b02628ea1e00', client_version={'qiskit': '0.23.1'})\n\n# ALAP scheduling policy\nResult(backend_name='ibmq_paris', backend_version='1.6.5', qobj_id='1aeb6b70-0c31-4546-9aff-b257b6f59e22', job_id='5fd3379854b62c0019993045', success=True, results=[ExperimentResult(shots=8192, success=True, meas_level=2, data=ExperimentResultData(counts={'0x0': 1, '0x1': 8, '0x11': 4, '0x13': 86, '0x15': 11, '0x16': 9, '0x17': 286, '0x18': 3, '0x19': 10, '0x1a': 12, '0x1b': 277, '0x1c': 35, '0x1d': 149, '0x1e': 180, '0x1f': 5729, '0x2': 8, '0x3': 182, '0x4': 3, '0x5': 4, '0x6': 8, '0x7': 303, '0x8': 1, '0x9': 8, '0xa': 12, '0xb': 333, '0xc': 3, '0xd': 14, '0xe': 16, '0xf': 497}), header=QobjExperimentHeader(clbit_labels=[['c4', 0], ['c4', 1], ['c5', 0], ['c5', 1], ['c5', 2]], creg_sizes=[['c4', 2], ['c5', 3]], global_phase=0.0, memory_slots=5, n_qubits=27, name='circuit194', qreg_sizes=[['q', 27]], qubit_labels=[['q', 0], ['q', 1], ['q', 2], ['q', 3], ['q', 4], ['q', 5], ['q', 6], ['q', 7], ['q', 8], ['q', 9], ['q', 10], ['q', 11], ['q', 12], ['q', 13], ['q', 14], ['q', 15], ['q', 16], ['q', 17], ['q', 18], ['q', 19], ['q', 20], ['q', 21], ['q', 22], ['q', 23], ['q', 24], ['q', 25], ['q', 26]]), memory=False)], date=2020-12-12 01:39:28+09:00, status=Successful completion, status=QobjHeader(backend_name='ibmq_paris', backend_version='1.6.5'), time_taken=21.602004051208496, execution_id='457e4874-3bcf-11eb-9663-b02628ea1e00', client_version={'qiskit': '0.23.1'})\n"
     ]
    }
   ],
   "source": [
    "# Show the results\n",
    "print(\"# Simulator\")\n",
    "print(result_sim)\n",
    "\n",
    "print(\"\\n# No scheduling\")\n",
    "for _result in result_list: \n",
    "    print(_result)\n",
    "\n",
    "print(\"\\n# ALAP scheduling policy\")\n",
    "for _result_alap in result_alap_list: \n",
    "    print(_result_alap)"
   ]
  },
  {
   "cell_type": "code",
   "execution_count": 10,
   "metadata": {},
   "outputs": [
    {
     "output_type": "stream",
     "name": "stdout",
     "text": [
      "# Simulator\n{'111 11': 8192}\n\n# No scheduling\n{'000 00': 1, '000 01': 1, '100 01': 5, '100 10': 4, '100 11': 76, '101 00': 1, '101 01': 13, '101 10': 10, '101 11': 325, '110 00': 2, '110 01': 5, '110 10': 14, '110 11': 435, '111 00': 44, '111 01': 148, '111 10': 191, '111 11': 5809, '000 10': 1, '000 11': 42, '001 00': 1, '001 01': 2, '001 10': 10, '001 11': 261, '010 00': 2, '010 01': 8, '010 10': 13, '010 11': 276, '011 00': 4, '011 01': 11, '011 10': 17, '011 11': 460}\n\n# ALAP scheduling policy\n{'000 00': 1, '000 01': 8, '100 01': 4, '100 11': 86, '101 01': 11, '101 10': 9, '101 11': 286, '110 00': 3, '110 01': 10, '110 10': 12, '110 11': 277, '111 00': 35, '111 01': 149, '111 10': 180, '111 11': 5729, '000 10': 8, '000 11': 182, '001 00': 3, '001 01': 4, '001 10': 8, '001 11': 303, '010 00': 1, '010 01': 8, '010 10': 12, '010 11': 333, '011 00': 3, '011 01': 14, '011 10': 16, '011 11': 497}\n"
     ]
    }
   ],
   "source": [
    "# Show the counts\n",
    "print(\"# Simulator\")\n",
    "print(counts_sim)\n",
    "\n",
    "print(\"\\n# No scheduling\")\n",
    "for _count in count_list: \n",
    "    print(_count)\n",
    "\n",
    "print(\"\\n# ALAP scheduling policy\")\n",
    "for _count_alap in counts_alap_list: \n",
    "    print(_count_alap)"
   ]
  },
  {
   "cell_type": "code",
   "execution_count": null,
   "metadata": {},
   "outputs": [],
   "source": []
  }
 ]
}