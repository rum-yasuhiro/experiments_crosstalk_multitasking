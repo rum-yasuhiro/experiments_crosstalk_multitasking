{
 "cells": [
  {
   "cell_type": "markdown",
   "metadata": {},
   "source": [
    "# ALAP Scheduling \n",
    "### Adder (4-qubits, 10 CX) + Basis change (3-qubits, 10CX)\n",
    "\n",
    "2020-12-12"
   ]
  },
  {
   "cell_type": "code",
   "execution_count": 1,
   "metadata": {},
   "outputs": [],
   "source": [
    "# import python tools\n",
    "import os\n",
    "\n",
    "# import qiskit tool\n",
    "from qiskit.transpiler import InstructionDurations\n",
    "\n",
    "# import experimental tools\n",
    "from experiments.alap_scheduling import execute_alap, result_alap\n",
    "from experiments.utils import get_IBM_backend"
   ]
  },
  {
   "cell_type": "markdown",
   "metadata": {},
   "source": [
    "## Experimental Settings"
   ]
  },
  {
   "cell_type": "code",
   "execution_count": 2,
   "metadata": {},
   "outputs": [],
   "source": [
    "date = '2020-12-12'\n",
    "\n",
    "# Choose benchmark circuits from QASMBench\n",
    "benchmark_sets = ['adder_n4', 'basis_change_n3']\n",
    "benchmark_size = 'small'"
   ]
  },
  {
   "cell_type": "code",
   "execution_count": 3,
   "metadata": {},
   "outputs": [
    {
     "name": "stderr",
     "output_type": "stream",
     "text": [
      "/Users/Yasuhiro/.local/share/virtualenvs/experiments-VWP9UmJy/lib/python3.8/site-packages/qiskit/providers/ibmq/ibmqfactory.py:192: UserWarning: Timestamps in IBMQ backend properties, jobs, and job results are all now in local time instead of UTC.\n",
      "  warnings.warn('Timestamps in IBMQ backend properties, jobs, and job results '\n"
     ]
    }
   ],
   "source": [
    "# Define backend device\n",
    "backend = get_IBM_backend('ibmq_paris')\n",
    "simulator = get_IBM_backend('ibmq_qasm_simulator')\n",
    "\n",
    "# Number of trials\n",
    "shots = 8192\n",
    "\n",
    "# Number of experimental seeds\n",
    "nseed = 1"
   ]
  },
  {
   "cell_type": "code",
   "execution_count": 4,
   "metadata": {},
   "outputs": [],
   "source": [
    "# define path to the file to save job data\n",
    "file_name = date + '_'\n",
    "sorted_benchmarks = sorted(benchmark_sets)\n",
    "for _name in sorted_benchmarks: \n",
    "    file_name += _name\n",
    "    if _name == sorted_benchmarks[-1]:\n",
    "        break\n",
    "    file_name += '+'\n",
    "job_save_path = str(os.getcwd()) + \"/job_id/from20201211/\" + file_name"
   ]
  },
  {
   "cell_type": "markdown",
   "metadata": {},
   "source": [
    "## Execute experiments on IBMQ\n",
    "\n",
    "Here, we execute three types of experiments. First one is the  job run on simulator to calculate exact answer of the multi-programming circuit. The other two are the jobs executed on the real device. One is the base line, which is no scheduled, and the other one is the circuit executed with alap schedule policy. "
   ]
  },
  {
   "cell_type": "code",
   "execution_count": 5,
   "metadata": {},
   "outputs": [],
   "source": [
    "instruction_durations = InstructionDurations.from_backend(backend)"
   ]
  },
  {
   "cell_type": "code",
   "execution_count": 6,
   "metadata": {},
   "outputs": [
    {
     "name": "stdout",
     "output_type": "stream",
     "text": [
      "prog: Qubit(QuantumRegister(4, 'q26'), 0) , hw: 20\n",
      "prog: Qubit(QuantumRegister(4, 'q26'), 1) , hw: 14\n",
      "prog: Qubit(QuantumRegister(4, 'q26'), 2) , hw: 16\n",
      "prog: Qubit(QuantumRegister(4, 'q26'), 3) , hw: 19\n",
      "prog: Qubit(QuantumRegister(3, 'q27'), 0) , hw: 25\n",
      "prog: Qubit(QuantumRegister(3, 'q27'), 1) , hw: 23\n",
      "prog: Qubit(QuantumRegister(3, 'q27'), 2) , hw: 24\n",
      "prog: Qubit(QuantumRegister(4, 'q118'), 0) , hw: 20\n",
      "prog: Qubit(QuantumRegister(4, 'q118'), 1) , hw: 14\n",
      "prog: Qubit(QuantumRegister(4, 'q118'), 2) , hw: 16\n",
      "prog: Qubit(QuantumRegister(4, 'q118'), 3) , hw: 19\n",
      "prog: Qubit(QuantumRegister(3, 'q119'), 0) , hw: 25\n",
      "prog: Qubit(QuantumRegister(3, 'q119'), 1) , hw: 23\n",
      "prog: Qubit(QuantumRegister(3, 'q119'), 2) , hw: 24\n"
     ]
    }
   ],
   "source": [
    "job_sim, job, job_alap = execute_alap(\n",
    "                    size=benchmark_size, \n",
    "                    names=benchmark_sets, \n",
    "                    backend=backend, \n",
    "                    simulator=simulator,\n",
    "                    shots = shots, \n",
    "                    nseed=1,\n",
    "                    save_path=job_save_path, \n",
    "                    instruction_durations=instruction_durations,\n",
    "                    )"
   ]
  },
  {
   "cell_type": "code",
   "execution_count": 7,
   "metadata": {},
   "outputs": [
    {
     "name": "stdout",
     "output_type": "stream",
     "text": [
      "<qiskit.providers.ibmq.job.ibmqjob.IBMQJob object at 0x7f8f195561c0>\n",
      "[<qiskit.providers.ibmq.job.ibmqjob.IBMQJob object at 0x7f8f195b1220>]\n",
      "[<qiskit.providers.ibmq.job.ibmqjob.IBMQJob object at 0x7f8f19518f10>]\n"
     ]
    }
   ],
   "source": [
    "# Show the each job\n",
    "print(job_sim)\n",
    "print(job)\n",
    "print(job_alap)"
   ]
  },
  {
   "cell_type": "markdown",
   "metadata": {},
   "source": [
    "## Get the results"
   ]
  },
  {
   "cell_type": "code",
   "execution_count": 8,
   "metadata": {},
   "outputs": [],
   "source": [
    "# define path to the file to save results\n",
    "result_save_path = str(os.getcwd()) + \"/results/from20201211/\" + file_name"
   ]
  },
  {
   "cell_type": "code",
   "execution_count": 9,
   "metadata": {},
   "outputs": [],
   "source": [
    "result_sim, result_list, result_alap_list, counts_sim, count_list, counts_alap_list, qc_names = result_alap(backend, simulator, job_save_path, result_save_path)"
   ]
  },
  {
   "cell_type": "code",
   "execution_count": 10,
   "metadata": {},
   "outputs": [
    {
     "name": "stdout",
     "output_type": "stream",
     "text": [
      "# Simulator\n",
      "Result(backend_name='ibmq_qasm_simulator', backend_version='0.7.0', qobj_id='916a5870-0bae-4df7-91de-0ce2470eaef7', job_id='5fd3f8d498fcf6001aecae8b', success=True, results=[ExperimentResult(shots=8192, success=True, meas_level=MeasLevel.CLASSIFIED, data=ExperimentResultData(counts={'0x9': 8192}), header=QobjExperimentHeader(clbit_labels=[['c0', 0], ['c0', 1], ['c0', 2], ['c0', 3], ['c1', 0], ['c1', 1], ['c1', 2]], creg_sizes=[['c0', 4], ['c1', 3]], global_phase=0.0, memory_slots=7, n_qubits=7, name='circuit8', qreg_sizes=[['q0', 4], ['q1', 3]], qubit_labels=[['q0', 0], ['q0', 1], ['q0', 2], ['q0', 3], ['q1', 0], ['q1', 1], ['q1', 2]]), status=DONE, metadata={'fusion': {'applied': False, 'enabled': True, 'method': 'unitary', 'threshold': 14}, 'measure_sampling': True, 'method': 'statevector', 'parallel_shots': 1, 'parallel_state_update': 16}, seed_simulator=1213993435, time_taken=0.017701906)], date=2020-12-12 07:55:21.346259+09:00, status=COMPLETED, status=QobjHeader(backend_name='ibmq_qasm_simulator', backend_version='0.1.547'), metadata={'max_memory_mb': 257936, 'omp_enabled': True, 'parallel_experiments': 1, 'time_taken': 0.017946933}, time_taken=0.017946933, client_version={'qiskit': '0.23.1'})\n",
      "\n",
      "# No scheduling\n",
      "Result(backend_name='ibmq_paris', backend_version='1.6.5', qobj_id='648e2dd2-7cdd-40c5-81d1-9f5c19b1b4cb', job_id='5fd3f8d7944188001aa60947', success=True, results=[ExperimentResult(shots=8192, success=True, meas_level=2, data=ExperimentResultData(counts={'0x0': 239, '0x1': 486, '0x10': 12, '0x11': 31, '0x12': 5, '0x13': 10, '0x14': 6, '0x15': 2, '0x16': 8, '0x17': 11, '0x18': 22, '0x19': 292, '0x1a': 12, '0x1b': 14, '0x1c': 6, '0x1d': 10, '0x1e': 3, '0x1f': 3, '0x2': 47, '0x20': 14, '0x21': 31, '0x22': 8, '0x23': 10, '0x24': 3, '0x25': 1, '0x26': 4, '0x27': 13, '0x28': 16, '0x29': 265, '0x2a': 9, '0x2b': 16, '0x2c': 2, '0x2d': 7, '0x2e': 5, '0x2f': 3, '0x3': 106, '0x30': 6, '0x31': 12, '0x32': 2, '0x33': 2, '0x34': 1, '0x35': 2, '0x36': 2, '0x37': 2, '0x38': 8, '0x39': 113, '0x3a': 3, '0x3b': 9, '0x3c': 1, '0x3d': 1, '0x3e': 2, '0x3f': 2, '0x4': 65, '0x40': 27, '0x41': 23, '0x42': 2, '0x43': 8, '0x44': 8, '0x45': 2, '0x46': 2, '0x47': 9, '0x48': 28, '0x49': 305, '0x4a': 13, '0x4b': 14, '0x4c': 3, '0x4d': 12, '0x4e': 5, '0x4f': 5, '0x5': 32, '0x50': 7, '0x51': 9, '0x52': 1, '0x53': 4, '0x54': 3, '0x55': 1, '0x56': 2, '0x57': 4, '0x58': 5, '0x59': 107, '0x5a': 6, '0x5b': 2, '0x5c': 1, '0x5d': 3, '0x5e': 2, '0x6': 85, '0x60': 8, '0x61': 18, '0x62': 2, '0x63': 2, '0x64': 4, '0x65': 1, '0x67': 9, '0x68': 6, '0x69': 151, '0x6a': 6, '0x6b': 8, '0x6d': 6, '0x6e': 4, '0x6f': 1, '0x7': 178, '0x70': 1, '0x71': 2, '0x73': 1, '0x78': 2, '0x79': 38, '0x7a': 1, '0x7b': 2, '0x7c': 1, '0x7f': 1, '0x8': 274, '0x9': 4099, '0xa': 144, '0xb': 237, '0xc': 40, '0xd': 147, '0xe': 56, '0xf': 37}), header=QobjExperimentHeader(clbit_labels=[['c2', 0], ['c2', 1], ['c2', 2], ['c2', 3], ['c3', 0], ['c3', 1], ['c3', 2]], creg_sizes=[['c2', 4], ['c3', 3]], global_phase=1.9465612295628083, memory_slots=7, n_qubits=27, name='circuit158', qreg_sizes=[['q', 27]], qubit_labels=[['q', 0], ['q', 1], ['q', 2], ['q', 3], ['q', 4], ['q', 5], ['q', 6], ['q', 7], ['q', 8], ['q', 9], ['q', 10], ['q', 11], ['q', 12], ['q', 13], ['q', 14], ['q', 15], ['q', 16], ['q', 17], ['q', 18], ['q', 19], ['q', 20], ['q', 21], ['q', 22], ['q', 23], ['q', 24], ['q', 25], ['q', 26]]), memory=False)], date=2020-12-12 07:56:35+09:00, status=Successful completion, status=QobjHeader(backend_name='ibmq_paris', backend_version='1.6.5'), time_taken=22.090559482574463, execution_id='056e05c8-3c04-11eb-912c-b02628ea1e00', client_version={'qiskit': '0.23.1'})\n",
      "\n",
      "# ALAP scheduling policy\n",
      "Result(backend_name='ibmq_paris', backend_version='1.6.5', qobj_id='db5d6048-4ccf-40db-a98e-d21f92ec4acc', job_id='5fd3f8d9d802bc0019c3e46a', success=True, results=[ExperimentResult(shots=8192, success=True, meas_level=2, data=ExperimentResultData(counts={'0x0': 229, '0x1': 450, '0x10': 15, '0x11': 33, '0x12': 4, '0x13': 11, '0x14': 4, '0x15': 2, '0x16': 2, '0x17': 16, '0x18': 20, '0x19': 288, '0x1a': 11, '0x1b': 20, '0x1c': 1, '0x1d': 8, '0x1e': 4, '0x1f': 2, '0x2': 63, '0x20': 18, '0x21': 34, '0x22': 5, '0x23': 5, '0x24': 3, '0x25': 2, '0x26': 2, '0x27': 10, '0x28': 16, '0x29': 248, '0x2a': 4, '0x2b': 20, '0x2c': 1, '0x2d': 7, '0x2f': 2, '0x3': 112, '0x30': 6, '0x31': 11, '0x32': 1, '0x33': 2, '0x34': 3, '0x35': 2, '0x36': 1, '0x37': 7, '0x38': 5, '0x39': 97, '0x3a': 1, '0x3b': 14, '0x3d': 2, '0x3f': 1, '0x4': 70, '0x40': 20, '0x41': 36, '0x42': 8, '0x43': 7, '0x44': 4, '0x45': 3, '0x46': 4, '0x47': 12, '0x48': 21, '0x49': 302, '0x4a': 13, '0x4b': 16, '0x4c': 4, '0x4d': 6, '0x4e': 7, '0x4f': 5, '0x5': 34, '0x50': 8, '0x51': 10, '0x52': 2, '0x53': 2, '0x56': 2, '0x57': 4, '0x58': 9, '0x59': 78, '0x5a': 1, '0x5b': 2, '0x5c': 1, '0x5d': 4, '0x5e': 1, '0x5f': 1, '0x6': 60, '0x60': 8, '0x61': 25, '0x62': 2, '0x63': 7, '0x64': 1, '0x66': 2, '0x67': 7, '0x68': 11, '0x69': 171, '0x6a': 9, '0x6b': 12, '0x6c': 1, '0x6d': 4, '0x6e': 3, '0x6f': 2, '0x7': 141, '0x70': 3, '0x71': 4, '0x77': 2, '0x78': 1, '0x79': 26, '0x7a': 1, '0x7b': 1, '0x8': 275, '0x9': 4241, '0xa': 132, '0xb': 270, '0xc': 40, '0xd': 124, '0xe': 47, '0xf': 37}), header=QobjExperimentHeader(clbit_labels=[['c4', 0], ['c4', 1], ['c4', 2], ['c4', 3], ['c5', 0], ['c5', 1], ['c5', 2]], creg_sizes=[['c4', 4], ['c5', 3]], global_phase=0.0, memory_slots=7, n_qubits=27, name='circuit488', qreg_sizes=[['q', 27]], qubit_labels=[['q', 0], ['q', 1], ['q', 2], ['q', 3], ['q', 4], ['q', 5], ['q', 6], ['q', 7], ['q', 8], ['q', 9], ['q', 10], ['q', 11], ['q', 12], ['q', 13], ['q', 14], ['q', 15], ['q', 16], ['q', 17], ['q', 18], ['q', 19], ['q', 20], ['q', 21], ['q', 22], ['q', 23], ['q', 24], ['q', 25], ['q', 26]]), memory=False)], date=2020-12-12 07:58:12+09:00, status=Successful completion, status=QobjHeader(backend_name='ibmq_paris', backend_version='1.6.5'), time_taken=22.2143816947937, execution_id='22052b80-3c04-11eb-b689-b02628ea1e00', client_version={'qiskit': '0.23.1'})\n"
     ]
    }
   ],
   "source": [
    "# Show the results\n",
    "print(\"# Simulator\")\n",
    "print(result_sim)\n",
    "\n",
    "print(\"\\n# No scheduling\")\n",
    "for _result in result_list: \n",
    "    print(_result)\n",
    "\n",
    "print(\"\\n# ALAP scheduling policy\")\n",
    "for _result_alap in result_alap_list: \n",
    "    print(_result_alap)"
   ]
  },
  {
   "cell_type": "code",
   "execution_count": 11,
   "metadata": {},
   "outputs": [
    {
     "name": "stdout",
     "output_type": "stream",
     "text": [
      "# Simulator\n",
      "{'000 1001': 8192}\n",
      "\n",
      "# No scheduling\n",
      "{'000 0000': 239, '000 0001': 486, '001 0000': 12, '001 0001': 31, '001 0010': 5, '001 0011': 10, '001 0100': 6, '001 0101': 2, '001 0110': 8, '001 0111': 11, '001 1000': 22, '001 1001': 292, '001 1010': 12, '001 1011': 14, '001 1100': 6, '001 1101': 10, '001 1110': 3, '001 1111': 3, '000 0010': 47, '010 0000': 14, '010 0001': 31, '010 0010': 8, '010 0011': 10, '010 0100': 3, '010 0101': 1, '010 0110': 4, '010 0111': 13, '010 1000': 16, '010 1001': 265, '010 1010': 9, '010 1011': 16, '010 1100': 2, '010 1101': 7, '010 1110': 5, '010 1111': 3, '000 0011': 106, '011 0000': 6, '011 0001': 12, '011 0010': 2, '011 0011': 2, '011 0100': 1, '011 0101': 2, '011 0110': 2, '011 0111': 2, '011 1000': 8, '011 1001': 113, '011 1010': 3, '011 1011': 9, '011 1100': 1, '011 1101': 1, '011 1110': 2, '011 1111': 2, '000 0100': 65, '100 0000': 27, '100 0001': 23, '100 0010': 2, '100 0011': 8, '100 0100': 8, '100 0101': 2, '100 0110': 2, '100 0111': 9, '100 1000': 28, '100 1001': 305, '100 1010': 13, '100 1011': 14, '100 1100': 3, '100 1101': 12, '100 1110': 5, '100 1111': 5, '000 0101': 32, '101 0000': 7, '101 0001': 9, '101 0010': 1, '101 0011': 4, '101 0100': 3, '101 0101': 1, '101 0110': 2, '101 0111': 4, '101 1000': 5, '101 1001': 107, '101 1010': 6, '101 1011': 2, '101 1100': 1, '101 1101': 3, '101 1110': 2, '000 0110': 85, '110 0000': 8, '110 0001': 18, '110 0010': 2, '110 0011': 2, '110 0100': 4, '110 0101': 1, '110 0111': 9, '110 1000': 6, '110 1001': 151, '110 1010': 6, '110 1011': 8, '110 1101': 6, '110 1110': 4, '110 1111': 1, '000 0111': 178, '111 0000': 1, '111 0001': 2, '111 0011': 1, '111 1000': 2, '111 1001': 38, '111 1010': 1, '111 1011': 2, '111 1100': 1, '111 1111': 1, '000 1000': 274, '000 1001': 4099, '000 1010': 144, '000 1011': 237, '000 1100': 40, '000 1101': 147, '000 1110': 56, '000 1111': 37}\n",
      "\n",
      "# ALAP scheduling policy\n",
      "{'000 0000': 229, '000 0001': 450, '001 0000': 15, '001 0001': 33, '001 0010': 4, '001 0011': 11, '001 0100': 4, '001 0101': 2, '001 0110': 2, '001 0111': 16, '001 1000': 20, '001 1001': 288, '001 1010': 11, '001 1011': 20, '001 1100': 1, '001 1101': 8, '001 1110': 4, '001 1111': 2, '000 0010': 63, '010 0000': 18, '010 0001': 34, '010 0010': 5, '010 0011': 5, '010 0100': 3, '010 0101': 2, '010 0110': 2, '010 0111': 10, '010 1000': 16, '010 1001': 248, '010 1010': 4, '010 1011': 20, '010 1100': 1, '010 1101': 7, '010 1111': 2, '000 0011': 112, '011 0000': 6, '011 0001': 11, '011 0010': 1, '011 0011': 2, '011 0100': 3, '011 0101': 2, '011 0110': 1, '011 0111': 7, '011 1000': 5, '011 1001': 97, '011 1010': 1, '011 1011': 14, '011 1101': 2, '011 1111': 1, '000 0100': 70, '100 0000': 20, '100 0001': 36, '100 0010': 8, '100 0011': 7, '100 0100': 4, '100 0101': 3, '100 0110': 4, '100 0111': 12, '100 1000': 21, '100 1001': 302, '100 1010': 13, '100 1011': 16, '100 1100': 4, '100 1101': 6, '100 1110': 7, '100 1111': 5, '000 0101': 34, '101 0000': 8, '101 0001': 10, '101 0010': 2, '101 0011': 2, '101 0110': 2, '101 0111': 4, '101 1000': 9, '101 1001': 78, '101 1010': 1, '101 1011': 2, '101 1100': 1, '101 1101': 4, '101 1110': 1, '101 1111': 1, '000 0110': 60, '110 0000': 8, '110 0001': 25, '110 0010': 2, '110 0011': 7, '110 0100': 1, '110 0110': 2, '110 0111': 7, '110 1000': 11, '110 1001': 171, '110 1010': 9, '110 1011': 12, '110 1100': 1, '110 1101': 4, '110 1110': 3, '110 1111': 2, '000 0111': 141, '111 0000': 3, '111 0001': 4, '111 0111': 2, '111 1000': 1, '111 1001': 26, '111 1010': 1, '111 1011': 1, '000 1000': 275, '000 1001': 4241, '000 1010': 132, '000 1011': 270, '000 1100': 40, '000 1101': 124, '000 1110': 47, '000 1111': 37}\n"
     ]
    }
   ],
   "source": [
    "# Show the counts\n",
    "print(\"# Simulator\")\n",
    "print(counts_sim)\n",
    "\n",
    "print(\"\\n# No scheduling\")\n",
    "for _count in count_list: \n",
    "    print(_count)\n",
    "\n",
    "print(\"\\n# ALAP scheduling policy\")\n",
    "for _count_alap in counts_alap_list: \n",
    "    print(_count_alap)"
   ]
  },
  {
   "cell_type": "code",
   "execution_count": null,
   "metadata": {},
   "outputs": [],
   "source": []
  }
 ],
 "metadata": {
  "jupytext": {
   "text_representation": {
    "extension": ".py",
    "format_name": "light",
    "format_version": "1.5",
    "jupytext_version": "1.7.1"
   }
  },
  "kernelspec": {
   "display_name": "Python 3",
   "language": "python",
   "name": "python3"
  },
  "language_info": {
   "codemirror_mode": {
    "name": "ipython",
    "version": 3
   },
   "file_extension": ".py",
   "mimetype": "text/x-python",
   "name": "python",
   "nbconvert_exporter": "python",
   "pygments_lexer": "ipython3",
   "version": "3.8.3"
  }
 },
 "nbformat": 4,
 "nbformat_minor": 2
}
