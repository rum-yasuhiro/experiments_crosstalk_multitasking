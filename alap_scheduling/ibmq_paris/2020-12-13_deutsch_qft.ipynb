{
 "cells": [
  {
   "cell_type": "markdown",
   "metadata": {},
   "source": [
    "# ALAP Scheduling \n",
    "### Deutsch (2-qubits, 1CX) + QFT (4-qubits,  12 CX)\n",
    "\n",
    "2020-12-13"
   ]
  },
  {
   "cell_type": "code",
   "execution_count": 1,
   "metadata": {},
   "outputs": [],
   "source": [
    "# import python tools\n",
    "import os\n",
    "\n",
    "# import qiskit tool\n",
    "from qiskit.transpiler import InstructionDurations\n",
    "\n",
    "# import experimental tools\n",
    "from experiments.alap_scheduling import execute_alap, result_alap\n",
    "from experiments.utils import get_IBM_backend"
   ]
  },
  {
   "cell_type": "markdown",
   "metadata": {},
   "source": [
    "## Experimental Settings"
   ]
  },
  {
   "cell_type": "code",
   "execution_count": 2,
   "metadata": {},
   "outputs": [],
   "source": [
    "date = '2020-12-13'\n",
    "\n",
    "# Choose benchmark circuits from QASMBench\n",
    "benchmark_sets = ['deutsch_n2', 'qft_n4']\n",
    "benchmark_size = 'small'"
   ]
  },
  {
   "cell_type": "code",
   "execution_count": 3,
   "metadata": {},
   "outputs": [
    {
     "name": "stderr",
     "output_type": "stream",
     "text": [
      "/Users/Yasuhiro/.local/share/virtualenvs/experiments-VWP9UmJy/lib/python3.8/site-packages/qiskit/providers/ibmq/ibmqfactory.py:192: UserWarning: Timestamps in IBMQ backend properties, jobs, and job results are all now in local time instead of UTC.\n",
      "  warnings.warn('Timestamps in IBMQ backend properties, jobs, and job results '\n"
     ]
    }
   ],
   "source": [
    "# Define backend device\n",
    "backend = get_IBM_backend('ibmq_paris')\n",
    "simulator = get_IBM_backend('ibmq_qasm_simulator')\n",
    "\n",
    "# Number of trials\n",
    "shots = 8192\n",
    "\n",
    "# Number of experimental seeds\n",
    "nseed = 1"
   ]
  },
  {
   "cell_type": "code",
   "execution_count": 4,
   "metadata": {},
   "outputs": [],
   "source": [
    "# define path to the file to save job data\n",
    "file_name = date + '_'\n",
    "sorted_benchmarks = sorted(benchmark_sets)\n",
    "for _name in sorted_benchmarks: \n",
    "    file_name += _name\n",
    "    if _name == sorted_benchmarks[-1]:\n",
    "        break\n",
    "    file_name += '+'\n",
    "job_save_path = str(os.getcwd()) + \"/job_id/from20201211/\" + file_name"
   ]
  },
  {
   "cell_type": "markdown",
   "metadata": {},
   "source": [
    "## Execute experiments on IBMQ\n",
    "\n",
    "Here, we execute three types of experiments. First one is the  job run on simulator to calculate exact answer of the multi-programming circuit. The other two are the jobs executed on the real device. One is the base line, which is no scheduled, and the other one is the circuit executed with alap schedule policy. "
   ]
  },
  {
   "cell_type": "code",
   "execution_count": 5,
   "metadata": {},
   "outputs": [],
   "source": [
    "instruction_durations = InstructionDurations.from_backend(backend)"
   ]
  },
  {
   "cell_type": "code",
   "execution_count": 6,
   "metadata": {},
   "outputs": [
    {
     "name": "stdout",
     "output_type": "stream",
     "text": [
      "prog: Qubit(QuantumRegister(2, 'q10'), 0) , hw: 23\n",
      "prog: Qubit(QuantumRegister(2, 'q10'), 1) , hw: 24\n",
      "prog: Qubit(QuantumRegister(4, 'q11'), 0) , hw: 16\n",
      "prog: Qubit(QuantumRegister(4, 'q11'), 1) , hw: 19\n",
      "prog: Qubit(QuantumRegister(4, 'q11'), 2) , hw: 20\n",
      "prog: Qubit(QuantumRegister(4, 'q11'), 3) , hw: 22\n",
      "prog: Qubit(QuantumRegister(2, 'q76'), 0) , hw: 23\n",
      "prog: Qubit(QuantumRegister(2, 'q76'), 1) , hw: 24\n",
      "prog: Qubit(QuantumRegister(4, 'q77'), 0) , hw: 16\n",
      "prog: Qubit(QuantumRegister(4, 'q77'), 1) , hw: 19\n",
      "prog: Qubit(QuantumRegister(4, 'q77'), 2) , hw: 20\n",
      "prog: Qubit(QuantumRegister(4, 'q77'), 3) , hw: 22\n"
     ]
    }
   ],
   "source": [
    "job_sim, job, job_alap = execute_alap(\n",
    "                    size=benchmark_size, \n",
    "                    names=benchmark_sets, \n",
    "                    backend=backend, \n",
    "                    simulator=simulator,\n",
    "                    shots = shots, \n",
    "                    nseed=1,\n",
    "                    save_path=job_save_path, \n",
    "                    instruction_durations=instruction_durations,\n",
    "                    )"
   ]
  },
  {
   "cell_type": "code",
   "execution_count": 7,
   "metadata": {},
   "outputs": [
    {
     "name": "stdout",
     "output_type": "stream",
     "text": [
      "<qiskit.providers.ibmq.job.ibmqjob.IBMQJob object at 0x7fea60c48400>\n",
      "[<qiskit.providers.ibmq.job.ibmqjob.IBMQJob object at 0x7fea60c78490>]\n",
      "[<qiskit.providers.ibmq.job.ibmqjob.IBMQJob object at 0x7fea60e6e8b0>]\n"
     ]
    }
   ],
   "source": [
    "# Show the each job\n",
    "print(job_sim)\n",
    "print(job)\n",
    "print(job_alap)"
   ]
  },
  {
   "cell_type": "markdown",
   "metadata": {},
   "source": [
    "## Get the results"
   ]
  },
  {
   "cell_type": "code",
   "execution_count": 8,
   "metadata": {},
   "outputs": [],
   "source": [
    "# define path to the file to save results\n",
    "result_save_path = str(os.getcwd()) + \"/results/from20201211/\" + file_name"
   ]
  },
  {
   "cell_type": "code",
   "execution_count": 9,
   "metadata": {},
   "outputs": [],
   "source": [
    "result_sim, result_list, result_alap_list, counts_sim, count_list, counts_alap_list, qc_names = result_alap(backend, simulator, job_save_path, result_save_path)"
   ]
  },
  {
   "cell_type": "code",
   "execution_count": 10,
   "metadata": {},
   "outputs": [
    {
     "name": "stdout",
     "output_type": "stream",
     "text": [
      "# Simulator\n",
      "Result(backend_name='ibmq_qasm_simulator', backend_version='0.7.0', qobj_id='43f3b237-9d82-43a0-bf48-b84d6bb6ce35', job_id='5fd5821298fcf6001aecbea2', success=True, results=[ExperimentResult(shots=8192, success=True, meas_level=MeasLevel.CLASSIFIED, data=ExperimentResultData(counts={'0x1': 286, '0x11': 253, '0x13': 272, '0x15': 261, '0x17': 256, '0x19': 272, '0x1b': 262, '0x1d': 252, '0x1f': 247, '0x21': 278, '0x23': 255, '0x25': 260, '0x27': 222, '0x29': 262, '0x2b': 231, '0x2d': 242, '0x2f': 261, '0x3': 280, '0x31': 248, '0x33': 247, '0x35': 262, '0x37': 218, '0x39': 278, '0x3b': 251, '0x3d': 267, '0x3f': 250, '0x5': 255, '0x7': 228, '0x9': 260, '0xb': 272, '0xd': 239, '0xf': 265}), header=QobjExperimentHeader(clbit_labels=[['c0', 0], ['c0', 1], ['c1', 0], ['c1', 1], ['c1', 2], ['c1', 3]], creg_sizes=[['c0', 2], ['c1', 4]], global_phase=0.0, memory_slots=6, n_qubits=6, name='circuit8', qreg_sizes=[['q0', 2], ['q1', 4]], qubit_labels=[['q0', 0], ['q0', 1], ['q1', 0], ['q1', 1], ['q1', 2], ['q1', 3]]), status=DONE, metadata={'fusion': {'applied': False, 'enabled': True, 'method': 'unitary', 'threshold': 14}, 'measure_sampling': True, 'method': 'statevector', 'parallel_shots': 1, 'parallel_state_update': 16}, seed_simulator=4031480702, time_taken=0.019181019)], date=2020-12-13 11:53:11.762075+09:00, status=COMPLETED, status=QobjHeader(backend_name='ibmq_qasm_simulator', backend_version='0.1.547'), metadata={'max_memory_mb': 257936, 'omp_enabled': True, 'parallel_experiments': 1, 'time_taken': 0.019320836}, time_taken=0.019320836, client_version={'qiskit': '0.23.1'})\n",
      "\n",
      "# No scheduling\n",
      "Result(backend_name='ibmq_paris', backend_version='1.6.6', qobj_id='3b986a1a-f667-4838-8c16-52500ff4bf52', job_id='5fd58215d802bc0019c3f456', success=True, results=[ExperimentResult(shots=8192, success=True, meas_level=2, data=ExperimentResultData(counts={'0x0': 14, '0x1': 306, '0x10': 16, '0x11': 300, '0x12': 18, '0x13': 295, '0x14': 12, '0x15': 296, '0x16': 12, '0x17': 266, '0x18': 10, '0x19': 257, '0x1a': 17, '0x1b': 263, '0x1c': 14, '0x1d': 212, '0x1e': 7, '0x1f': 187, '0x2': 15, '0x20': 7, '0x21': 285, '0x22': 12, '0x23': 263, '0x24': 16, '0x25': 260, '0x26': 19, '0x27': 227, '0x28': 8, '0x29': 244, '0x2a': 14, '0x2b': 238, '0x2c': 8, '0x2d': 183, '0x2e': 9, '0x2f': 170, '0x3': 242, '0x30': 6, '0x31': 302, '0x32': 14, '0x33': 268, '0x34': 16, '0x35': 223, '0x36': 6, '0x37': 246, '0x38': 8, '0x39': 279, '0x3a': 14, '0x3b': 229, '0x3c': 3, '0x3d': 195, '0x3e': 13, '0x3f': 202, '0x4': 10, '0x5': 299, '0x6': 10, '0x7': 285, '0x8': 16, '0x9': 230, '0xa': 8, '0xb': 237, '0xc': 6, '0xd': 170, '0xe': 11, '0xf': 164}), header=QobjExperimentHeader(clbit_labels=[['c2', 0], ['c2', 1], ['c3', 0], ['c3', 1], ['c3', 2], ['c3', 3]], creg_sizes=[['c2', 2], ['c3', 4]], global_phase=0.9817477042468106, memory_slots=6, n_qubits=27, name='circuit110', qreg_sizes=[['q', 27]], qubit_labels=[['q', 0], ['q', 1], ['q', 2], ['q', 3], ['q', 4], ['q', 5], ['q', 6], ['q', 7], ['q', 8], ['q', 9], ['q', 10], ['q', 11], ['q', 12], ['q', 13], ['q', 14], ['q', 15], ['q', 16], ['q', 17], ['q', 18], ['q', 19], ['q', 20], ['q', 21], ['q', 22], ['q', 23], ['q', 24], ['q', 25], ['q', 26]]), memory=False)], date=2020-12-13 12:00:55+09:00, status=Successful completion, status=QobjHeader(backend_name='ibmq_paris', backend_version='1.6.6'), time_taken=21.53152346611023, execution_id='34c787a4-3cef-11eb-9eb2-b02628ea1e00', client_version={'qiskit': '0.23.1'})\n",
      "\n",
      "# ALAP scheduling policy\n",
      "Result(backend_name='ibmq_paris', backend_version='1.6.6', qobj_id='2abf84d2-1cf1-4e76-8364-db3016cebb38', job_id='5fd5821810ba7c001aa17cab', success=True, results=[ExperimentResult(shots=8192, success=True, meas_level=2, data=ExperimentResultData(counts={'0x0': 15, '0x1': 392, '0x10': 13, '0x11': 358, '0x12': 11, '0x13': 310, '0x14': 7, '0x15': 146, '0x16': 8, '0x17': 120, '0x18': 13, '0x19': 391, '0x1a': 18, '0x1b': 380, '0x1c': 4, '0x1d': 132, '0x1e': 6, '0x1f': 128, '0x2': 11, '0x20': 10, '0x21': 337, '0x22': 9, '0x23': 327, '0x24': 7, '0x25': 163, '0x26': 1, '0x27': 141, '0x28': 12, '0x29': 367, '0x2a': 13, '0x2b': 362, '0x2c': 3, '0x2d': 133, '0x2e': 6, '0x2f': 118, '0x3': 381, '0x30': 11, '0x31': 391, '0x32': 10, '0x33': 322, '0x34': 8, '0x35': 113, '0x36': 7, '0x37': 121, '0x38': 9, '0x39': 354, '0x3a': 18, '0x3b': 364, '0x3c': 4, '0x3d': 118, '0x3e': 11, '0x3f': 99, '0x4': 6, '0x5': 172, '0x6': 4, '0x7': 154, '0x8': 14, '0x9': 369, '0xa': 13, '0xb': 373, '0xc': 5, '0xd': 138, '0xe': 6, '0xf': 125}), header=QobjExperimentHeader(clbit_labels=[['c4', 0], ['c4', 1], ['c5', 0], ['c5', 1], ['c5', 2], ['c5', 3]], creg_sizes=[['c4', 2], ['c5', 4]], global_phase=0.0, memory_slots=6, n_qubits=27, name='circuit303', qreg_sizes=[['q', 27]], qubit_labels=[['q', 0], ['q', 1], ['q', 2], ['q', 3], ['q', 4], ['q', 5], ['q', 6], ['q', 7], ['q', 8], ['q', 9], ['q', 10], ['q', 11], ['q', 12], ['q', 13], ['q', 14], ['q', 15], ['q', 16], ['q', 17], ['q', 18], ['q', 19], ['q', 20], ['q', 21], ['q', 22], ['q', 23], ['q', 24], ['q', 25], ['q', 26]]), memory=False)], date=2020-12-13 12:01:41+09:00, status=Successful completion, status=QobjHeader(backend_name='ibmq_paris', backend_version='1.6.6'), time_taken=21.95596742630005, execution_id='6e3a9986-3cef-11eb-9d09-b02628ea1e00', client_version={'qiskit': '0.23.1'})\n"
     ]
    }
   ],
   "source": [
    "# Show the results\n",
    "print(\"# Simulator\")\n",
    "print(result_sim)\n",
    "\n",
    "print(\"\\n# No scheduling\")\n",
    "for _result in result_list: \n",
    "    print(_result)\n",
    "\n",
    "print(\"\\n# ALAP scheduling policy\")\n",
    "for _result_alap in result_alap_list: \n",
    "    print(_result_alap)"
   ]
  },
  {
   "cell_type": "code",
   "execution_count": 11,
   "metadata": {
    "lines_to_next_cell": 0
   },
   "outputs": [
    {
     "name": "stdout",
     "output_type": "stream",
     "text": [
      "# Simulator\n",
      "{'0000 01': 286, '0100 01': 253, '0100 11': 272, '0101 01': 261, '0101 11': 256, '0110 01': 272, '0110 11': 262, '0111 01': 252, '0111 11': 247, '1000 01': 278, '1000 11': 255, '1001 01': 260, '1001 11': 222, '1010 01': 262, '1010 11': 231, '1011 01': 242, '1011 11': 261, '0000 11': 280, '1100 01': 248, '1100 11': 247, '1101 01': 262, '1101 11': 218, '1110 01': 278, '1110 11': 251, '1111 01': 267, '1111 11': 250, '0001 01': 255, '0001 11': 228, '0010 01': 260, '0010 11': 272, '0011 01': 239, '0011 11': 265}\n",
      "\n",
      "# No scheduling\n",
      "{'0000 00': 14, '0000 01': 306, '0100 00': 16, '0100 01': 300, '0100 10': 18, '0100 11': 295, '0101 00': 12, '0101 01': 296, '0101 10': 12, '0101 11': 266, '0110 00': 10, '0110 01': 257, '0110 10': 17, '0110 11': 263, '0111 00': 14, '0111 01': 212, '0111 10': 7, '0111 11': 187, '0000 10': 15, '1000 00': 7, '1000 01': 285, '1000 10': 12, '1000 11': 263, '1001 00': 16, '1001 01': 260, '1001 10': 19, '1001 11': 227, '1010 00': 8, '1010 01': 244, '1010 10': 14, '1010 11': 238, '1011 00': 8, '1011 01': 183, '1011 10': 9, '1011 11': 170, '0000 11': 242, '1100 00': 6, '1100 01': 302, '1100 10': 14, '1100 11': 268, '1101 00': 16, '1101 01': 223, '1101 10': 6, '1101 11': 246, '1110 00': 8, '1110 01': 279, '1110 10': 14, '1110 11': 229, '1111 00': 3, '1111 01': 195, '1111 10': 13, '1111 11': 202, '0001 00': 10, '0001 01': 299, '0001 10': 10, '0001 11': 285, '0010 00': 16, '0010 01': 230, '0010 10': 8, '0010 11': 237, '0011 00': 6, '0011 01': 170, '0011 10': 11, '0011 11': 164}\n",
      "\n",
      "# ALAP scheduling policy\n",
      "{'0000 00': 15, '0000 01': 392, '0100 00': 13, '0100 01': 358, '0100 10': 11, '0100 11': 310, '0101 00': 7, '0101 01': 146, '0101 10': 8, '0101 11': 120, '0110 00': 13, '0110 01': 391, '0110 10': 18, '0110 11': 380, '0111 00': 4, '0111 01': 132, '0111 10': 6, '0111 11': 128, '0000 10': 11, '1000 00': 10, '1000 01': 337, '1000 10': 9, '1000 11': 327, '1001 00': 7, '1001 01': 163, '1001 10': 1, '1001 11': 141, '1010 00': 12, '1010 01': 367, '1010 10': 13, '1010 11': 362, '1011 00': 3, '1011 01': 133, '1011 10': 6, '1011 11': 118, '0000 11': 381, '1100 00': 11, '1100 01': 391, '1100 10': 10, '1100 11': 322, '1101 00': 8, '1101 01': 113, '1101 10': 7, '1101 11': 121, '1110 00': 9, '1110 01': 354, '1110 10': 18, '1110 11': 364, '1111 00': 4, '1111 01': 118, '1111 10': 11, '1111 11': 99, '0001 00': 6, '0001 01': 172, '0001 10': 4, '0001 11': 154, '0010 00': 14, '0010 01': 369, '0010 10': 13, '0010 11': 373, '0011 00': 5, '0011 01': 138, '0011 10': 6, '0011 11': 125}\n"
     ]
    }
   ],
   "source": [
    "# Show the counts\n",
    "print(\"# Simulator\")\n",
    "print(counts_sim)\n",
    "\n",
    "print(\"\\n# No scheduling\")\n",
    "for _count in count_list: \n",
    "    print(_count)\n",
    "\n",
    "print(\"\\n# ALAP scheduling policy\")\n",
    "for _count_alap in counts_alap_list: \n",
    "    print(_count_alap)"
   ]
  },
  {
   "cell_type": "code",
   "execution_count": null,
   "metadata": {
    "lines_to_next_cell": 2
   },
   "outputs": [],
   "source": []
  }
 ],
 "metadata": {
  "jupytext": {
   "text_representation": {
    "extension": ".py",
    "format_name": "light",
    "format_version": "1.5",
    "jupytext_version": "1.7.1"
   }
  },
  "kernelspec": {
   "display_name": "Python 3",
   "language": "python",
   "name": "python3"
  },
  "language_info": {
   "codemirror_mode": {
    "name": "ipython",
    "version": 3
   },
   "file_extension": ".py",
   "mimetype": "text/x-python",
   "name": "python",
   "nbconvert_exporter": "python",
   "pygments_lexer": "ipython3",
   "version": "3.8.3"
  }
 },
 "nbformat": 4,
 "nbformat_minor": 2
}
