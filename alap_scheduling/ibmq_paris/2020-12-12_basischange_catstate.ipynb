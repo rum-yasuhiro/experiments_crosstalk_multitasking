{
 "cells": [
  {
   "cell_type": "markdown",
   "metadata": {},
   "source": [
    "# ALAP Scheduling \n",
    "### Basis change (3-qubits, 10CX) + Cat state (4-qubits, 3CX)\n",
    "\n",
    "2020-12-12"
   ]
  },
  {
   "cell_type": "code",
   "execution_count": 1,
   "metadata": {},
   "outputs": [],
   "source": [
    "# import python tools\n",
    "import os\n",
    "\n",
    "# import qiskit tool\n",
    "from qiskit.transpiler import InstructionDurations\n",
    "\n",
    "# import experimental tools\n",
    "from experiments.alap_scheduling import execute_alap, result_alap\n",
    "from experiments.utils import get_IBM_backend"
   ]
  },
  {
   "cell_type": "markdown",
   "metadata": {},
   "source": [
    "## Experimental Settings"
   ]
  },
  {
   "cell_type": "code",
   "execution_count": 2,
   "metadata": {},
   "outputs": [],
   "source": [
    "date = '2020-12-12'\n",
    "\n",
    "# Choose benchmark circuits from QASMBench\n",
    "benchmark_sets = ['basis_change_n3', 'cat_state_n4']\n",
    "benchmark_size = 'small'"
   ]
  },
  {
   "cell_type": "code",
   "execution_count": 3,
   "metadata": {},
   "outputs": [
    {
     "name": "stderr",
     "output_type": "stream",
     "text": [
      "/Users/Yasuhiro/.local/share/virtualenvs/experiments-VWP9UmJy/lib/python3.8/site-packages/qiskit/providers/ibmq/ibmqfactory.py:192: UserWarning: Timestamps in IBMQ backend properties, jobs, and job results are all now in local time instead of UTC.\n",
      "  warnings.warn('Timestamps in IBMQ backend properties, jobs, and job results '\n"
     ]
    }
   ],
   "source": [
    "# Define backend device\n",
    "backend = get_IBM_backend('ibmq_paris')\n",
    "simulator = get_IBM_backend('ibmq_qasm_simulator')\n",
    "\n",
    "# Number of trials\n",
    "shots = 8192\n",
    "\n",
    "# Number of experimental seeds\n",
    "nseed = 1"
   ]
  },
  {
   "cell_type": "code",
   "execution_count": 4,
   "metadata": {},
   "outputs": [],
   "source": [
    "# define path to the file to save job data\n",
    "file_name = date + '_'\n",
    "sorted_benchmarks = sorted(benchmark_sets)\n",
    "for _name in sorted_benchmarks: \n",
    "    file_name += _name\n",
    "    if _name == sorted_benchmarks[-1]:\n",
    "        break\n",
    "    file_name += '+'\n",
    "job_save_path = str(os.getcwd()) + \"/job_id/from20201211/\" + file_name"
   ]
  },
  {
   "cell_type": "markdown",
   "metadata": {},
   "source": [
    "## Execute experiments on IBMQ\n",
    "\n",
    "Here, we execute three types of experiments. First one is the  job run on simulator to calculate exact answer of the multi-programming circuit. The other two are the jobs executed on the real device. One is the base line, which is no scheduled, and the other one is the circuit executed with alap schedule policy. "
   ]
  },
  {
   "cell_type": "code",
   "execution_count": 5,
   "metadata": {},
   "outputs": [],
   "source": [
    "instruction_durations = InstructionDurations.from_backend(backend)"
   ]
  },
  {
   "cell_type": "code",
   "execution_count": 6,
   "metadata": {},
   "outputs": [],
   "source": [
    "job_sim, job, job_alap = execute_alap(\n",
    "                    size=benchmark_size, \n",
    "                    names=benchmark_sets, \n",
    "                    backend=backend, \n",
    "                    simulator=simulator,\n",
    "                    shots = shots, \n",
    "                    nseed=1,\n",
    "                    save_path=job_save_path, \n",
    "                    instruction_durations=instruction_durations,\n",
    "                    )"
   ]
  },
  {
   "cell_type": "code",
   "execution_count": 7,
   "metadata": {},
   "outputs": [
    {
     "name": "stdout",
     "output_type": "stream",
     "text": [
      "<qiskit.providers.ibmq.job.ibmqjob.IBMQJob object at 0x7f8029dcafd0>\n",
      "[<qiskit.providers.ibmq.job.ibmqjob.IBMQJob object at 0x7f8029dcaee0>]\n",
      "[<qiskit.providers.ibmq.job.ibmqjob.IBMQJob object at 0x7f8029d79040>]\n"
     ]
    }
   ],
   "source": [
    "# Show the each job\n",
    "print(job_sim)\n",
    "print(job)\n",
    "print(job_alap)"
   ]
  },
  {
   "cell_type": "markdown",
   "metadata": {},
   "source": [
    "## Get the results"
   ]
  },
  {
   "cell_type": "code",
   "execution_count": 8,
   "metadata": {},
   "outputs": [],
   "source": [
    "# define path to the file to save results\n",
    "result_save_path = str(os.getcwd()) + \"/results/from20201211/\" + file_name"
   ]
  },
  {
   "cell_type": "code",
   "execution_count": 9,
   "metadata": {},
   "outputs": [],
   "source": [
    "result_sim, result_list, result_alap_list, counts_sim, count_list, counts_alap_list, qc_names = result_alap(backend, simulator, job_save_path, result_save_path)"
   ]
  },
  {
   "cell_type": "code",
   "execution_count": 10,
   "metadata": {},
   "outputs": [
    {
     "name": "stdout",
     "output_type": "stream",
     "text": [
      "# Simulator\n",
      "Result(backend_name='ibmq_qasm_simulator', backend_version='0.7.0', qobj_id='c7b45f95-30aa-484c-a5c5-936d048ce0f1', job_id='5fd3fd4cafed5900190252b1', success=True, results=[ExperimentResult(shots=8192, success=True, meas_level=MeasLevel.CLASSIFIED, data=ExperimentResultData(counts={'0x0': 4118, '0x78': 4074}), header=QobjExperimentHeader(clbit_labels=[['c0', 0], ['c0', 1], ['c0', 2], ['c1', 0], ['c1', 1], ['c1', 2], ['c1', 3]], creg_sizes=[['c0', 3], ['c1', 4]], global_phase=0.0, memory_slots=7, n_qubits=7, name='circuit8', qreg_sizes=[['q0', 3], ['q1', 4]], qubit_labels=[['q0', 0], ['q0', 1], ['q0', 2], ['q1', 0], ['q1', 1], ['q1', 2], ['q1', 3]]), status=DONE, metadata={'fusion': {'applied': False, 'enabled': True, 'method': 'unitary', 'threshold': 14}, 'measure_sampling': True, 'method': 'statevector', 'parallel_shots': 1, 'parallel_state_update': 16}, seed_simulator=4051970864, time_taken=0.018781505)], date=2020-12-12 08:14:23.872991+09:00, status=COMPLETED, status=QobjHeader(backend_name='ibmq_qasm_simulator', backend_version='0.1.547'), metadata={'max_memory_mb': 257936, 'omp_enabled': True, 'parallel_experiments': 1, 'time_taken': 0.018988363}, time_taken=0.018988363, client_version={'qiskit': '0.23.1'})\n",
      "\n",
      "# No scheduling\n",
      "Result(backend_name='ibmq_paris', backend_version='1.6.5', qobj_id='833da840-71e1-47ea-851e-648d59649732', job_id='5fd3fd4e944188001aa60987', success=True, results=[ExperimentResult(shots=8192, success=True, meas_level=2, data=ExperimentResultData(counts={'0x0': 2825, '0x1': 189, '0x10': 21, '0x11': 1, '0x12': 1, '0x14': 1, '0x16': 1, '0x18': 112, '0x19': 7, '0x1a': 2, '0x1b': 3, '0x1c': 3, '0x1d': 4, '0x1e': 1, '0x1f': 1, '0x2': 144, '0x20': 83, '0x21': 4, '0x22': 5, '0x23': 2, '0x24': 2, '0x25': 2, '0x26': 2, '0x27': 1, '0x28': 6, '0x2b': 1, '0x2c': 1, '0x2e': 1, '0x3': 82, '0x30': 18, '0x31': 3, '0x32': 2, '0x33': 1, '0x38': 245, '0x39': 13, '0x3a': 6, '0x3b': 8, '0x3c': 9, '0x3d': 6, '0x3e': 4, '0x3f': 1, '0x4': 111, '0x40': 57, '0x41': 1, '0x42': 4, '0x43': 7, '0x44': 1, '0x45': 1, '0x47': 1, '0x48': 5, '0x49': 1, '0x5': 64, '0x50': 5, '0x58': 88, '0x59': 5, '0x5a': 2, '0x5b': 2, '0x5c': 2, '0x5d': 3, '0x5e': 1, '0x5f': 1, '0x6': 57, '0x60': 277, '0x61': 19, '0x62': 11, '0x63': 10, '0x64': 14, '0x65': 2, '0x66': 5, '0x67': 2, '0x68': 94, '0x69': 10, '0x6a': 8, '0x6b': 4, '0x6c': 3, '0x6d': 5, '0x6e': 3, '0x7': 8, '0x70': 126, '0x71': 9, '0x72': 7, '0x73': 2, '0x74': 2, '0x75': 5, '0x76': 2, '0x78': 2625, '0x79': 205, '0x7a': 131, '0x7b': 108, '0x7c': 91, '0x7d': 40, '0x7e': 32, '0x7f': 13, '0x8': 61, '0x9': 2, '0xa': 1, '0xb': 3, '0xc': 4, '0xd': 1, '0xe': 4}), header=QobjExperimentHeader(clbit_labels=[['c2', 0], ['c2', 1], ['c2', 2], ['c3', 0], ['c3', 1], ['c3', 2], ['c3', 3]], creg_sizes=[['c2', 3], ['c3', 4]], global_phase=0.0, memory_slots=7, n_qubits=27, name='circuit134', qreg_sizes=[['q', 27]], qubit_labels=[['q', 0], ['q', 1], ['q', 2], ['q', 3], ['q', 4], ['q', 5], ['q', 6], ['q', 7], ['q', 8], ['q', 9], ['q', 10], ['q', 11], ['q', 12], ['q', 13], ['q', 14], ['q', 15], ['q', 16], ['q', 17], ['q', 18], ['q', 19], ['q', 20], ['q', 21], ['q', 22], ['q', 23], ['q', 24], ['q', 25], ['q', 26]]), memory=False)], date=2020-12-12 08:16:55+09:00, status=Successful completion, status=QobjHeader(backend_name='ibmq_paris', backend_version='1.6.5'), time_taken=21.028090476989746, execution_id='be798b3a-3c06-11eb-9343-b02628ea1e00', client_version={'qiskit': '0.23.1'})\n",
      "\n",
      "# ALAP scheduling policy\n",
      "Result(backend_name='ibmq_paris', backend_version='1.6.5', qobj_id='11623302-1b68-4310-b68e-fe179ac5567d', job_id='5fd3fd5098fcf6001aecaed5', success=True, results=[ExperimentResult(shots=8192, success=True, meas_level=2, data=ExperimentResultData(counts={'0x0': 2876, '0x1': 184, '0x10': 19, '0x11': 2, '0x12': 1, '0x13': 1, '0x14': 2, '0x15': 2, '0x16': 2, '0x18': 129, '0x19': 11, '0x1a': 4, '0x1b': 7, '0x1c': 6, '0x1d': 1, '0x1e': 5, '0x2': 179, '0x20': 89, '0x21': 6, '0x22': 8, '0x23': 1, '0x24': 2, '0x26': 2, '0x28': 11, '0x29': 1, '0x3': 113, '0x30': 21, '0x32': 1, '0x34': 2, '0x35': 2, '0x36': 1, '0x37': 1, '0x38': 246, '0x39': 16, '0x3a': 14, '0x3b': 9, '0x3c': 2, '0x3d': 3, '0x3e': 5, '0x3f': 1, '0x4': 84, '0x40': 68, '0x41': 3, '0x42': 3, '0x43': 1, '0x44': 3, '0x46': 1, '0x48': 5, '0x49': 1, '0x5': 55, '0x50': 12, '0x52': 1, '0x54': 1, '0x58': 65, '0x59': 3, '0x5a': 4, '0x5b': 1, '0x5c': 3, '0x5d': 2, '0x5e': 1, '0x6': 34, '0x60': 265, '0x61': 26, '0x62': 7, '0x63': 10, '0x64': 10, '0x65': 3, '0x66': 8, '0x68': 98, '0x69': 7, '0x6a': 4, '0x6b': 6, '0x6c': 6, '0x6d': 2, '0x6e': 3, '0x6f': 1, '0x7': 8, '0x70': 228, '0x71': 11, '0x72': 17, '0x73': 8, '0x74': 6, '0x75': 5, '0x76': 4, '0x77': 4, '0x78': 2474, '0x79': 193, '0x7a': 128, '0x7b': 83, '0x7c': 74, '0x7d': 43, '0x7e': 34, '0x7f': 12, '0x8': 54, '0x9': 4, '0xa': 2, '0xb': 1, '0xd': 3, '0xe': 1}), header=QobjExperimentHeader(clbit_labels=[['c4', 0], ['c4', 1], ['c4', 2], ['c5', 0], ['c5', 1], ['c5', 2], ['c5', 3]], creg_sizes=[['c4', 3], ['c5', 4]], global_phase=0.0, memory_slots=7, n_qubits=27, name='circuit283', qreg_sizes=[['q', 27]], qubit_labels=[['q', 0], ['q', 1], ['q', 2], ['q', 3], ['q', 4], ['q', 5], ['q', 6], ['q', 7], ['q', 8], ['q', 9], ['q', 10], ['q', 11], ['q', 12], ['q', 13], ['q', 14], ['q', 15], ['q', 16], ['q', 17], ['q', 18], ['q', 19], ['q', 20], ['q', 21], ['q', 22], ['q', 23], ['q', 24], ['q', 25], ['q', 26]]), memory=False)], date=2020-12-12 08:17:42+09:00, status=Successful completion, status=QobjHeader(backend_name='ibmq_paris', backend_version='1.6.5'), time_taken=21.585909128189087, execution_id='f9691224-3c06-11eb-a36d-b02628ea1e00', client_version={'qiskit': '0.23.1'})\n"
     ]
    }
   ],
   "source": [
    "# Show the results\n",
    "print(\"# Simulator\")\n",
    "print(result_sim)\n",
    "\n",
    "print(\"\\n# No scheduling\")\n",
    "for _result in result_list: \n",
    "    print(_result)\n",
    "\n",
    "print(\"\\n# ALAP scheduling policy\")\n",
    "for _result_alap in result_alap_list: \n",
    "    print(_result_alap)"
   ]
  },
  {
   "cell_type": "code",
   "execution_count": 11,
   "metadata": {},
   "outputs": [
    {
     "name": "stdout",
     "output_type": "stream",
     "text": [
      "# Simulator\n",
      "{'0000 000': 4118, '1111 000': 4074}\n",
      "\n",
      "# No scheduling\n",
      "{'0000 000': 2825, '0000 001': 189, '0010 000': 21, '0010 001': 1, '0010 010': 1, '0010 100': 1, '0010 110': 1, '0011 000': 112, '0011 001': 7, '0011 010': 2, '0011 011': 3, '0011 100': 3, '0011 101': 4, '0011 110': 1, '0011 111': 1, '0000 010': 144, '0100 000': 83, '0100 001': 4, '0100 010': 5, '0100 011': 2, '0100 100': 2, '0100 101': 2, '0100 110': 2, '0100 111': 1, '0101 000': 6, '0101 011': 1, '0101 100': 1, '0101 110': 1, '0000 011': 82, '0110 000': 18, '0110 001': 3, '0110 010': 2, '0110 011': 1, '0111 000': 245, '0111 001': 13, '0111 010': 6, '0111 011': 8, '0111 100': 9, '0111 101': 6, '0111 110': 4, '0111 111': 1, '0000 100': 111, '1000 000': 57, '1000 001': 1, '1000 010': 4, '1000 011': 7, '1000 100': 1, '1000 101': 1, '1000 111': 1, '1001 000': 5, '1001 001': 1, '0000 101': 64, '1010 000': 5, '1011 000': 88, '1011 001': 5, '1011 010': 2, '1011 011': 2, '1011 100': 2, '1011 101': 3, '1011 110': 1, '1011 111': 1, '0000 110': 57, '1100 000': 277, '1100 001': 19, '1100 010': 11, '1100 011': 10, '1100 100': 14, '1100 101': 2, '1100 110': 5, '1100 111': 2, '1101 000': 94, '1101 001': 10, '1101 010': 8, '1101 011': 4, '1101 100': 3, '1101 101': 5, '1101 110': 3, '0000 111': 8, '1110 000': 126, '1110 001': 9, '1110 010': 7, '1110 011': 2, '1110 100': 2, '1110 101': 5, '1110 110': 2, '1111 000': 2625, '1111 001': 205, '1111 010': 131, '1111 011': 108, '1111 100': 91, '1111 101': 40, '1111 110': 32, '1111 111': 13, '0001 000': 61, '0001 001': 2, '0001 010': 1, '0001 011': 3, '0001 100': 4, '0001 101': 1, '0001 110': 4}\n",
      "\n",
      "# ALAP scheduling policy\n",
      "{'0000 000': 2876, '0000 001': 184, '0010 000': 19, '0010 001': 2, '0010 010': 1, '0010 011': 1, '0010 100': 2, '0010 101': 2, '0010 110': 2, '0011 000': 129, '0011 001': 11, '0011 010': 4, '0011 011': 7, '0011 100': 6, '0011 101': 1, '0011 110': 5, '0000 010': 179, '0100 000': 89, '0100 001': 6, '0100 010': 8, '0100 011': 1, '0100 100': 2, '0100 110': 2, '0101 000': 11, '0101 001': 1, '0000 011': 113, '0110 000': 21, '0110 010': 1, '0110 100': 2, '0110 101': 2, '0110 110': 1, '0110 111': 1, '0111 000': 246, '0111 001': 16, '0111 010': 14, '0111 011': 9, '0111 100': 2, '0111 101': 3, '0111 110': 5, '0111 111': 1, '0000 100': 84, '1000 000': 68, '1000 001': 3, '1000 010': 3, '1000 011': 1, '1000 100': 3, '1000 110': 1, '1001 000': 5, '1001 001': 1, '0000 101': 55, '1010 000': 12, '1010 010': 1, '1010 100': 1, '1011 000': 65, '1011 001': 3, '1011 010': 4, '1011 011': 1, '1011 100': 3, '1011 101': 2, '1011 110': 1, '0000 110': 34, '1100 000': 265, '1100 001': 26, '1100 010': 7, '1100 011': 10, '1100 100': 10, '1100 101': 3, '1100 110': 8, '1101 000': 98, '1101 001': 7, '1101 010': 4, '1101 011': 6, '1101 100': 6, '1101 101': 2, '1101 110': 3, '1101 111': 1, '0000 111': 8, '1110 000': 228, '1110 001': 11, '1110 010': 17, '1110 011': 8, '1110 100': 6, '1110 101': 5, '1110 110': 4, '1110 111': 4, '1111 000': 2474, '1111 001': 193, '1111 010': 128, '1111 011': 83, '1111 100': 74, '1111 101': 43, '1111 110': 34, '1111 111': 12, '0001 000': 54, '0001 001': 4, '0001 010': 2, '0001 011': 1, '0001 101': 3, '0001 110': 1}\n"
     ]
    }
   ],
   "source": [
    "# Show the counts\n",
    "print(\"# Simulator\")\n",
    "print(counts_sim)\n",
    "\n",
    "print(\"\\n# No scheduling\")\n",
    "for _count in count_list: \n",
    "    print(_count)\n",
    "\n",
    "print(\"\\n# ALAP scheduling policy\")\n",
    "for _count_alap in counts_alap_list: \n",
    "    print(_count_alap)"
   ]
  },
  {
   "cell_type": "code",
   "execution_count": null,
   "metadata": {},
   "outputs": [],
   "source": []
  }
 ],
 "metadata": {
  "jupytext": {
   "text_representation": {
    "extension": ".py",
    "format_name": "light",
    "format_version": "1.5",
    "jupytext_version": "1.7.1"
   }
  },
  "kernelspec": {
   "display_name": "Python 3",
   "language": "python",
   "name": "python3"
  },
  "language_info": {
   "codemirror_mode": {
    "name": "ipython",
    "version": 3
   },
   "file_extension": ".py",
   "mimetype": "text/x-python",
   "name": "python",
   "nbconvert_exporter": "python",
   "pygments_lexer": "ipython3",
   "version": "3.8.3"
  }
 },
 "nbformat": 4,
 "nbformat_minor": 2
}
