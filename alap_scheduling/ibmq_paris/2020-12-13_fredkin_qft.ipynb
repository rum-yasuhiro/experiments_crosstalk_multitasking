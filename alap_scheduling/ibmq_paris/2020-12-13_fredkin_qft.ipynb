{
 "cells": [
  {
   "cell_type": "markdown",
   "metadata": {},
   "source": [
    "# ALAP Scheduling \n",
    "### Fredkin (3-qubits, 8 CX) + QFT (4-qubits, 12 CX)\n",
    "\n",
    "2020-12-13"
   ]
  },
  {
   "cell_type": "code",
   "execution_count": 1,
   "metadata": {},
   "outputs": [],
   "source": [
    "# import python tools\n",
    "import os\n",
    "\n",
    "# import qiskit tool\n",
    "from qiskit.transpiler import InstructionDurations\n",
    "\n",
    "# import experimental tools\n",
    "from experiments.alap_scheduling import execute_alap, result_alap\n",
    "from experiments.utils import get_IBM_backend"
   ]
  },
  {
   "cell_type": "markdown",
   "metadata": {},
   "source": [
    "## Experimental Settings"
   ]
  },
  {
   "cell_type": "code",
   "execution_count": 2,
   "metadata": {},
   "outputs": [],
   "source": [
    "date = '2020-12-13'\n",
    "\n",
    "# Choose benchmark circuits from QASMBench\n",
    "benchmark_sets = ['fredkin_n3', 'qft_n4']\n",
    "benchmark_size = 'small'"
   ]
  },
  {
   "cell_type": "code",
   "execution_count": 3,
   "metadata": {},
   "outputs": [
    {
     "name": "stderr",
     "output_type": "stream",
     "text": [
      "/Users/Yasuhiro/.local/share/virtualenvs/experiments-VWP9UmJy/lib/python3.8/site-packages/qiskit/providers/ibmq/ibmqfactory.py:192: UserWarning: Timestamps in IBMQ backend properties, jobs, and job results are all now in local time instead of UTC.\n",
      "  warnings.warn('Timestamps in IBMQ backend properties, jobs, and job results '\n"
     ]
    }
   ],
   "source": [
    "# Define backend device\n",
    "backend = get_IBM_backend('ibmq_paris')\n",
    "simulator = get_IBM_backend('ibmq_qasm_simulator')\n",
    "\n",
    "# Number of trials\n",
    "shots = 8192\n",
    "\n",
    "# Number of experimental seeds\n",
    "nseed = 1"
   ]
  },
  {
   "cell_type": "code",
   "execution_count": 4,
   "metadata": {},
   "outputs": [],
   "source": [
    "# define path to the file to save job data\n",
    "file_name = date + '_'\n",
    "sorted_benchmarks = sorted(benchmark_sets)\n",
    "for _name in sorted_benchmarks: \n",
    "    file_name += _name\n",
    "    if _name == sorted_benchmarks[-1]:\n",
    "        break\n",
    "    file_name += '+'\n",
    "job_save_path = str(os.getcwd()) + \"/job_id/from20201211/\" + file_name"
   ]
  },
  {
   "cell_type": "markdown",
   "metadata": {},
   "source": [
    "## Execute experiments on IBMQ\n",
    "\n",
    "Here, we execute three types of experiments. First one is the  job run on simulator to calculate exact answer of the multi-programming circuit. The other two are the jobs executed on the real device. One is the base line, which is no scheduled, and the other one is the circuit executed with alap schedule policy. "
   ]
  },
  {
   "cell_type": "code",
   "execution_count": 5,
   "metadata": {},
   "outputs": [],
   "source": [
    "instruction_durations = InstructionDurations.from_backend(backend)"
   ]
  },
  {
   "cell_type": "code",
   "execution_count": 6,
   "metadata": {},
   "outputs": [
    {
     "name": "stdout",
     "output_type": "stream",
     "text": [
      "prog: Qubit(QuantumRegister(3, 'q22'), 0) , hw: 22\n",
      "prog: Qubit(QuantumRegister(3, 'q22'), 1) , hw: 19\n",
      "prog: Qubit(QuantumRegister(3, 'q22'), 2) , hw: 16\n",
      "prog: Qubit(QuantumRegister(4, 'q23'), 0) , hw: 2\n",
      "prog: Qubit(QuantumRegister(4, 'q23'), 1) , hw: 3\n",
      "prog: Qubit(QuantumRegister(4, 'q23'), 2) , hw: 1\n",
      "prog: Qubit(QuantumRegister(4, 'q23'), 3) , hw: 4\n",
      "prog: Qubit(QuantumRegister(3, 'q106'), 0) , hw: 22\n",
      "prog: Qubit(QuantumRegister(3, 'q106'), 1) , hw: 19\n",
      "prog: Qubit(QuantumRegister(3, 'q106'), 2) , hw: 16\n",
      "prog: Qubit(QuantumRegister(4, 'q107'), 0) , hw: 2\n",
      "prog: Qubit(QuantumRegister(4, 'q107'), 1) , hw: 3\n",
      "prog: Qubit(QuantumRegister(4, 'q107'), 2) , hw: 1\n",
      "prog: Qubit(QuantumRegister(4, 'q107'), 3) , hw: 4\n"
     ]
    }
   ],
   "source": [
    "job_sim, job, job_alap = execute_alap(\n",
    "                    size=benchmark_size, \n",
    "                    names=benchmark_sets, \n",
    "                    backend=backend, \n",
    "                    simulator=simulator,\n",
    "                    shots = shots, \n",
    "                    nseed=1,\n",
    "                    save_path=job_save_path, \n",
    "                    instruction_durations=instruction_durations,\n",
    "                    )"
   ]
  },
  {
   "cell_type": "code",
   "execution_count": 7,
   "metadata": {},
   "outputs": [
    {
     "name": "stdout",
     "output_type": "stream",
     "text": [
      "<qiskit.providers.ibmq.job.ibmqjob.IBMQJob object at 0x7fcda9e20070>\n",
      "[<qiskit.providers.ibmq.job.ibmqjob.IBMQJob object at 0x7fcdaad6c760>]\n",
      "[<qiskit.providers.ibmq.job.ibmqjob.IBMQJob object at 0x7fcdaaf50640>]\n"
     ]
    }
   ],
   "source": [
    "# Show the each job\n",
    "print(job_sim)\n",
    "print(job)\n",
    "print(job_alap)"
   ]
  },
  {
   "cell_type": "markdown",
   "metadata": {},
   "source": [
    "## Get the results"
   ]
  },
  {
   "cell_type": "code",
   "execution_count": 8,
   "metadata": {},
   "outputs": [],
   "source": [
    "# define path to the file to save results\n",
    "result_save_path = str(os.getcwd()) + \"/results/from20201211/\" + file_name"
   ]
  },
  {
   "cell_type": "code",
   "execution_count": 9,
   "metadata": {},
   "outputs": [],
   "source": [
    "result_sim, result_list, result_alap_list, counts_sim, count_list, counts_alap_list, qc_names = result_alap(backend, simulator, job_save_path, result_save_path)"
   ]
  },
  {
   "cell_type": "code",
   "execution_count": 10,
   "metadata": {},
   "outputs": [
    {
     "name": "stdout",
     "output_type": "stream",
     "text": [
      "# Simulator\n",
      "Result(backend_name='ibmq_qasm_simulator', backend_version='0.7.0', qobj_id='64b9fe0d-15ff-49a1-a166-0c315a772a10', job_id='5fd5ba7110ba7c001aa17f0b', success=True, results=[ExperimentResult(shots=8192, success=True, meas_level=MeasLevel.CLASSIFIED, data=ExperimentResultData(counts={'0x15': 502, '0x1d': 516, '0x25': 538, '0x2d': 534, '0x35': 537, '0x3d': 520, '0x45': 473, '0x4d': 502, '0x5': 506, '0x55': 552, '0x5d': 511, '0x65': 515, '0x6d': 479, '0x75': 519, '0x7d': 501, '0xd': 487}), header=QobjExperimentHeader(clbit_labels=[['c0', 0], ['c0', 1], ['c0', 2], ['c1', 0], ['c1', 1], ['c1', 2], ['c1', 3]], creg_sizes=[['c0', 3], ['c1', 4]], global_phase=0.0, memory_slots=7, n_qubits=7, name='circuit8', qreg_sizes=[['q0', 3], ['q1', 4]], qubit_labels=[['q0', 0], ['q0', 1], ['q0', 2], ['q1', 0], ['q1', 1], ['q1', 2], ['q1', 3]]), status=DONE, metadata={'fusion': {'applied': False, 'enabled': True, 'method': 'unitary', 'threshold': 14}, 'measure_sampling': True, 'method': 'statevector', 'parallel_shots': 1, 'parallel_state_update': 16}, seed_simulator=1897693522, time_taken=0.019668564)], date=2020-12-13 15:53:42.018573+09:00, status=COMPLETED, status=QobjHeader(backend_name='ibmq_qasm_simulator', backend_version='0.1.547'), metadata={'max_memory_mb': 257936, 'omp_enabled': True, 'parallel_experiments': 1, 'time_taken': 0.019854782}, time_taken=0.019854782, client_version={'qiskit': '0.23.1'})\n",
      "\n",
      "# No scheduling\n",
      "Result(backend_name='ibmq_paris', backend_version='1.6.6', qobj_id='e2728194-6d5c-4e11-b777-ae707af78c59', job_id='5fd5ba7505b601001977228b', success=True, results=[ExperimentResult(shots=8192, success=True, meas_level=2, data=ExperimentResultData(counts={'0x0': 13, '0x1': 20, '0x10': 13, '0x11': 17, '0x12': 5, '0x13': 9, '0x14': 11, '0x15': 366, '0x16': 5, '0x17': 12, '0x18': 11, '0x19': 11, '0x1a': 5, '0x1b': 13, '0x1c': 11, '0x1d': 339, '0x1e': 1, '0x1f': 9, '0x2': 15, '0x20': 9, '0x21': 24, '0x22': 11, '0x23': 18, '0x24': 15, '0x25': 540, '0x26': 8, '0x27': 26, '0x28': 10, '0x29': 16, '0x2a': 4, '0x2b': 17, '0x2c': 20, '0x2d': 485, '0x2e': 7, '0x2f': 18, '0x3': 13, '0x30': 5, '0x31': 21, '0x32': 6, '0x33': 18, '0x34': 23, '0x35': 451, '0x36': 4, '0x37': 24, '0x38': 11, '0x39': 33, '0x3a': 5, '0x3b': 13, '0x3c': 9, '0x3d': 357, '0x3e': 5, '0x3f': 13, '0x4': 16, '0x40': 9, '0x41': 24, '0x42': 4, '0x43': 23, '0x44': 14, '0x45': 512, '0x46': 4, '0x47': 19, '0x48': 11, '0x49': 17, '0x4a': 3, '0x4b': 17, '0x4c': 11, '0x4d': 387, '0x4e': 2, '0x4f': 15, '0x5': 456, '0x50': 6, '0x51': 30, '0x52': 4, '0x53': 14, '0x54': 16, '0x55': 385, '0x56': 2, '0x57': 13, '0x58': 1, '0x59': 15, '0x5a': 4, '0x5b': 6, '0x5c': 10, '0x5d': 300, '0x5e': 1, '0x5f': 14, '0x6': 5, '0x60': 15, '0x61': 35, '0x62': 7, '0x63': 24, '0x64': 20, '0x65': 557, '0x66': 9, '0x67': 24, '0x68': 9, '0x69': 27, '0x6a': 7, '0x6b': 22, '0x6c': 11, '0x6d': 465, '0x6e': 6, '0x6f': 22, '0x7': 15, '0x70': 8, '0x71': 29, '0x72': 5, '0x73': 21, '0x74': 18, '0x75': 469, '0x76': 3, '0x77': 22, '0x78': 9, '0x79': 19, '0x7a': 5, '0x7b': 12, '0x7c': 13, '0x7d': 344, '0x7e': 1, '0x7f': 20, '0x8': 7, '0x9': 17, '0xa': 1, '0xb': 13, '0xc': 10, '0xd': 361, '0xe': 8, '0xf': 7}), header=QobjExperimentHeader(clbit_labels=[['c2', 0], ['c2', 1], ['c2', 2], ['c3', 0], ['c3', 1], ['c3', 2], ['c3', 3]], creg_sizes=[['c2', 3], ['c3', 4]], global_phase=-0.4646936280013243, memory_slots=7, n_qubits=27, name='circuit146', qreg_sizes=[['q', 27]], qubit_labels=[['q', 0], ['q', 1], ['q', 2], ['q', 3], ['q', 4], ['q', 5], ['q', 6], ['q', 7], ['q', 8], ['q', 9], ['q', 10], ['q', 11], ['q', 12], ['q', 13], ['q', 14], ['q', 15], ['q', 16], ['q', 17], ['q', 18], ['q', 19], ['q', 20], ['q', 21], ['q', 22], ['q', 23], ['q', 24], ['q', 25], ['q', 26]]), memory=False)], date=2020-12-13 16:03:17+09:00, status=Successful completion, status=QobjHeader(backend_name='ibmq_paris', backend_version='1.6.6'), time_taken=22.48465347290039, execution_id='fad70778-3d10-11eb-8e8f-b02628ea1e00', client_version={'qiskit': '0.23.1'})\n",
      "\n",
      "# ALAP scheduling policy\n",
      "Result(backend_name='ibmq_paris', backend_version='1.6.6', qobj_id='e4d3ca3f-84cb-4d2c-bc15-3c474fbc1645', job_id='5fd5ba77afed590019026520', success=True, results=[ExperimentResult(shots=8192, success=True, meas_level=2, data=ExperimentResultData(counts={'0x0': 16, '0x1': 27, '0x10': 9, '0x11': 19, '0x12': 7, '0x13': 10, '0x14': 8, '0x15': 395, '0x16': 9, '0x17': 16, '0x18': 4, '0x19': 22, '0x1a': 3, '0x1b': 15, '0x1c': 12, '0x1d': 354, '0x1e': 2, '0x1f': 17, '0x2': 7, '0x20': 15, '0x21': 24, '0x22': 8, '0x23': 17, '0x24': 26, '0x25': 481, '0x26': 4, '0x27': 19, '0x28': 9, '0x29': 33, '0x2a': 3, '0x2b': 19, '0x2c': 16, '0x2d': 496, '0x2e': 5, '0x2f': 18, '0x3': 13, '0x30': 14, '0x31': 18, '0x32': 7, '0x33': 21, '0x34': 6, '0x35': 420, '0x36': 6, '0x37': 17, '0x38': 6, '0x39': 15, '0x3a': 1, '0x3b': 8, '0x3c': 18, '0x3d': 414, '0x3e': 3, '0x3f': 24, '0x4': 21, '0x40': 12, '0x41': 23, '0x42': 5, '0x43': 15, '0x44': 7, '0x45': 501, '0x46': 8, '0x47': 17, '0x48': 8, '0x49': 22, '0x4a': 5, '0x4b': 21, '0x4c': 10, '0x4d': 424, '0x4e': 4, '0x4f': 20, '0x5': 468, '0x50': 5, '0x51': 19, '0x52': 5, '0x53': 17, '0x54': 10, '0x55': 320, '0x56': 5, '0x57': 8, '0x58': 4, '0x59': 20, '0x5a': 5, '0x5b': 9, '0x5c': 9, '0x5d': 315, '0x5e': 3, '0x5f': 7, '0x6': 4, '0x60': 8, '0x61': 37, '0x62': 10, '0x63': 22, '0x64': 16, '0x65': 568, '0x66': 5, '0x67': 20, '0x68': 6, '0x69': 31, '0x6a': 5, '0x6b': 23, '0x6c': 15, '0x6d': 453, '0x6e': 7, '0x6f': 19, '0x7': 23, '0x70': 14, '0x71': 23, '0x72': 8, '0x73': 22, '0x74': 20, '0x75': 442, '0x76': 3, '0x77': 12, '0x78': 11, '0x79': 14, '0x7a': 6, '0x7b': 10, '0x7c': 14, '0x7d': 337, '0x7e': 6, '0x7f': 14, '0x8': 5, '0x9': 17, '0xa': 3, '0xb': 18, '0xc': 18, '0xd': 375, '0xe': 7, '0xf': 13}), header=QobjExperimentHeader(clbit_labels=[['c4', 0], ['c4', 1], ['c4', 2], ['c5', 0], ['c5', 1], ['c5', 2], ['c5', 3]], creg_sizes=[['c4', 3], ['c5', 4]], global_phase=0.0, memory_slots=7, n_qubits=27, name='circuit473', qreg_sizes=[['q', 27]], qubit_labels=[['q', 0], ['q', 1], ['q', 2], ['q', 3], ['q', 4], ['q', 5], ['q', 6], ['q', 7], ['q', 8], ['q', 9], ['q', 10], ['q', 11], ['q', 12], ['q', 13], ['q', 14], ['q', 15], ['q', 16], ['q', 17], ['q', 18], ['q', 19], ['q', 20], ['q', 21], ['q', 22], ['q', 23], ['q', 24], ['q', 25], ['q', 26]]), memory=False)], date=2020-12-13 16:08:06+09:00, status=Successful completion, status=QobjHeader(backend_name='ibmq_paris', backend_version='1.6.6'), time_taken=21.96371865272522, execution_id='4a5c3dea-3d11-11eb-b474-b02628ea1e00', client_version={'qiskit': '0.23.1'})\n"
     ]
    }
   ],
   "source": [
    "# Show the results\n",
    "print(\"# Simulator\")\n",
    "print(result_sim)\n",
    "\n",
    "print(\"\\n# No scheduling\")\n",
    "for _result in result_list: \n",
    "    print(_result)\n",
    "\n",
    "print(\"\\n# ALAP scheduling policy\")\n",
    "for _result_alap in result_alap_list: \n",
    "    print(_result_alap)"
   ]
  },
  {
   "cell_type": "code",
   "execution_count": 11,
   "metadata": {
    "lines_to_next_cell": 0
   },
   "outputs": [
    {
     "name": "stdout",
     "output_type": "stream",
     "text": [
      "# Simulator\n",
      "{'0010 101': 502, '0011 101': 516, '0100 101': 538, '0101 101': 534, '0110 101': 537, '0111 101': 520, '1000 101': 473, '1001 101': 502, '0000 101': 506, '1010 101': 552, '1011 101': 511, '1100 101': 515, '1101 101': 479, '1110 101': 519, '1111 101': 501, '0001 101': 487}\n",
      "\n",
      "# No scheduling\n",
      "{'0000 000': 13, '0000 001': 20, '0010 000': 13, '0010 001': 17, '0010 010': 5, '0010 011': 9, '0010 100': 11, '0010 101': 366, '0010 110': 5, '0010 111': 12, '0011 000': 11, '0011 001': 11, '0011 010': 5, '0011 011': 13, '0011 100': 11, '0011 101': 339, '0011 110': 1, '0011 111': 9, '0000 010': 15, '0100 000': 9, '0100 001': 24, '0100 010': 11, '0100 011': 18, '0100 100': 15, '0100 101': 540, '0100 110': 8, '0100 111': 26, '0101 000': 10, '0101 001': 16, '0101 010': 4, '0101 011': 17, '0101 100': 20, '0101 101': 485, '0101 110': 7, '0101 111': 18, '0000 011': 13, '0110 000': 5, '0110 001': 21, '0110 010': 6, '0110 011': 18, '0110 100': 23, '0110 101': 451, '0110 110': 4, '0110 111': 24, '0111 000': 11, '0111 001': 33, '0111 010': 5, '0111 011': 13, '0111 100': 9, '0111 101': 357, '0111 110': 5, '0111 111': 13, '0000 100': 16, '1000 000': 9, '1000 001': 24, '1000 010': 4, '1000 011': 23, '1000 100': 14, '1000 101': 512, '1000 110': 4, '1000 111': 19, '1001 000': 11, '1001 001': 17, '1001 010': 3, '1001 011': 17, '1001 100': 11, '1001 101': 387, '1001 110': 2, '1001 111': 15, '0000 101': 456, '1010 000': 6, '1010 001': 30, '1010 010': 4, '1010 011': 14, '1010 100': 16, '1010 101': 385, '1010 110': 2, '1010 111': 13, '1011 000': 1, '1011 001': 15, '1011 010': 4, '1011 011': 6, '1011 100': 10, '1011 101': 300, '1011 110': 1, '1011 111': 14, '0000 110': 5, '1100 000': 15, '1100 001': 35, '1100 010': 7, '1100 011': 24, '1100 100': 20, '1100 101': 557, '1100 110': 9, '1100 111': 24, '1101 000': 9, '1101 001': 27, '1101 010': 7, '1101 011': 22, '1101 100': 11, '1101 101': 465, '1101 110': 6, '1101 111': 22, '0000 111': 15, '1110 000': 8, '1110 001': 29, '1110 010': 5, '1110 011': 21, '1110 100': 18, '1110 101': 469, '1110 110': 3, '1110 111': 22, '1111 000': 9, '1111 001': 19, '1111 010': 5, '1111 011': 12, '1111 100': 13, '1111 101': 344, '1111 110': 1, '1111 111': 20, '0001 000': 7, '0001 001': 17, '0001 010': 1, '0001 011': 13, '0001 100': 10, '0001 101': 361, '0001 110': 8, '0001 111': 7}\n",
      "\n",
      "# ALAP scheduling policy\n",
      "{'0000 000': 16, '0000 001': 27, '0010 000': 9, '0010 001': 19, '0010 010': 7, '0010 011': 10, '0010 100': 8, '0010 101': 395, '0010 110': 9, '0010 111': 16, '0011 000': 4, '0011 001': 22, '0011 010': 3, '0011 011': 15, '0011 100': 12, '0011 101': 354, '0011 110': 2, '0011 111': 17, '0000 010': 7, '0100 000': 15, '0100 001': 24, '0100 010': 8, '0100 011': 17, '0100 100': 26, '0100 101': 481, '0100 110': 4, '0100 111': 19, '0101 000': 9, '0101 001': 33, '0101 010': 3, '0101 011': 19, '0101 100': 16, '0101 101': 496, '0101 110': 5, '0101 111': 18, '0000 011': 13, '0110 000': 14, '0110 001': 18, '0110 010': 7, '0110 011': 21, '0110 100': 6, '0110 101': 420, '0110 110': 6, '0110 111': 17, '0111 000': 6, '0111 001': 15, '0111 010': 1, '0111 011': 8, '0111 100': 18, '0111 101': 414, '0111 110': 3, '0111 111': 24, '0000 100': 21, '1000 000': 12, '1000 001': 23, '1000 010': 5, '1000 011': 15, '1000 100': 7, '1000 101': 501, '1000 110': 8, '1000 111': 17, '1001 000': 8, '1001 001': 22, '1001 010': 5, '1001 011': 21, '1001 100': 10, '1001 101': 424, '1001 110': 4, '1001 111': 20, '0000 101': 468, '1010 000': 5, '1010 001': 19, '1010 010': 5, '1010 011': 17, '1010 100': 10, '1010 101': 320, '1010 110': 5, '1010 111': 8, '1011 000': 4, '1011 001': 20, '1011 010': 5, '1011 011': 9, '1011 100': 9, '1011 101': 315, '1011 110': 3, '1011 111': 7, '0000 110': 4, '1100 000': 8, '1100 001': 37, '1100 010': 10, '1100 011': 22, '1100 100': 16, '1100 101': 568, '1100 110': 5, '1100 111': 20, '1101 000': 6, '1101 001': 31, '1101 010': 5, '1101 011': 23, '1101 100': 15, '1101 101': 453, '1101 110': 7, '1101 111': 19, '0000 111': 23, '1110 000': 14, '1110 001': 23, '1110 010': 8, '1110 011': 22, '1110 100': 20, '1110 101': 442, '1110 110': 3, '1110 111': 12, '1111 000': 11, '1111 001': 14, '1111 010': 6, '1111 011': 10, '1111 100': 14, '1111 101': 337, '1111 110': 6, '1111 111': 14, '0001 000': 5, '0001 001': 17, '0001 010': 3, '0001 011': 18, '0001 100': 18, '0001 101': 375, '0001 110': 7, '0001 111': 13}\n"
     ]
    }
   ],
   "source": [
    "# Show the counts\n",
    "print(\"# Simulator\")\n",
    "print(counts_sim)\n",
    "\n",
    "print(\"\\n# No scheduling\")\n",
    "for _count in count_list: \n",
    "    print(_count)\n",
    "\n",
    "print(\"\\n# ALAP scheduling policy\")\n",
    "for _count_alap in counts_alap_list: \n",
    "    print(_count_alap)"
   ]
  },
  {
   "cell_type": "code",
   "execution_count": null,
   "metadata": {
    "lines_to_next_cell": 2
   },
   "outputs": [],
   "source": []
  }
 ],
 "metadata": {
  "jupytext": {
   "text_representation": {
    "extension": ".py",
    "format_name": "light",
    "format_version": "1.5",
    "jupytext_version": "1.7.1"
   }
  },
  "kernelspec": {
   "display_name": "Python 3",
   "language": "python",
   "name": "python3"
  },
  "language_info": {
   "codemirror_mode": {
    "name": "ipython",
    "version": 3
   },
   "file_extension": ".py",
   "mimetype": "text/x-python",
   "name": "python",
   "nbconvert_exporter": "python",
   "pygments_lexer": "ipython3",
   "version": "3.8.3"
  }
 },
 "nbformat": 4,
 "nbformat_minor": 2
}
