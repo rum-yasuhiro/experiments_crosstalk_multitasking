{
 "cells": [
  {
   "cell_type": "markdown",
   "metadata": {},
   "source": [
    "# ALAP Scheduling \n",
    "### Adder (4-qubits, 10 CX) + QFT (4-qubits, 12 CX)\n",
    "\n",
    "2020-12-12"
   ]
  },
  {
   "cell_type": "code",
   "execution_count": 1,
   "metadata": {},
   "outputs": [],
   "source": [
    "# import python tools\n",
    "import os\n",
    "\n",
    "# import qiskit tool\n",
    "from qiskit.transpiler import InstructionDurations\n",
    "\n",
    "# import experimental tools\n",
    "from experiments.alap_scheduling import execute_alap, result_alap\n",
    "from experiments.utils import get_IBM_backend"
   ]
  },
  {
   "cell_type": "markdown",
   "metadata": {},
   "source": [
    "## Experimental Settings"
   ]
  },
  {
   "cell_type": "code",
   "execution_count": 2,
   "metadata": {},
   "outputs": [],
   "source": [
    "date = '2020-12-12'\n",
    "\n",
    "# Choose benchmark circuits from QASMBench\n",
    "benchmark_sets = ['adder_n4', 'qft_n4']\n",
    "benchmark_size = 'small'"
   ]
  },
  {
   "cell_type": "code",
   "execution_count": 3,
   "metadata": {},
   "outputs": [
    {
     "name": "stderr",
     "output_type": "stream",
     "text": [
      "/Users/Yasuhiro/.local/share/virtualenvs/experiments-VWP9UmJy/lib/python3.8/site-packages/qiskit/providers/ibmq/ibmqfactory.py:192: UserWarning: Timestamps in IBMQ backend properties, jobs, and job results are all now in local time instead of UTC.\n",
      "  warnings.warn('Timestamps in IBMQ backend properties, jobs, and job results '\n"
     ]
    }
   ],
   "source": [
    "# Define backend device\n",
    "backend = get_IBM_backend('ibmq_paris')\n",
    "simulator = get_IBM_backend('ibmq_qasm_simulator')\n",
    "\n",
    "# Number of trials\n",
    "shots = 8192\n",
    "\n",
    "# Number of experimental seeds\n",
    "nseed = 1"
   ]
  },
  {
   "cell_type": "code",
   "execution_count": 4,
   "metadata": {},
   "outputs": [],
   "source": [
    "# define path to the file to save job data\n",
    "file_name = date + '_'\n",
    "sorted_benchmarks = sorted(benchmark_sets)\n",
    "for _name in sorted_benchmarks: \n",
    "    file_name += _name\n",
    "    if _name == sorted_benchmarks[-1]:\n",
    "        break\n",
    "    file_name += '+'\n",
    "job_save_path = str(os.getcwd()) + \"/job_id/from20201211/\" + file_name"
   ]
  },
  {
   "cell_type": "markdown",
   "metadata": {},
   "source": [
    "## Execute experiments on IBMQ\n",
    "\n",
    "Here, we execute three types of experiments. First one is the  job run on simulator to calculate exact answer of the multi-programming circuit. The other two are the jobs executed on the real device. One is the base line, which is no scheduled, and the other one is the circuit executed with alap schedule policy. "
   ]
  },
  {
   "cell_type": "code",
   "execution_count": 5,
   "metadata": {},
   "outputs": [],
   "source": [
    "instruction_durations = InstructionDurations.from_backend(backend)"
   ]
  },
  {
   "cell_type": "code",
   "execution_count": 6,
   "metadata": {},
   "outputs": [
    {
     "name": "stdout",
     "output_type": "stream",
     "text": [
      "prog: Qubit(QuantumRegister(4, 'q22'), 0) , hw: 20\n",
      "prog: Qubit(QuantumRegister(4, 'q22'), 1) , hw: 14\n",
      "prog: Qubit(QuantumRegister(4, 'q22'), 2) , hw: 16\n",
      "prog: Qubit(QuantumRegister(4, 'q22'), 3) , hw: 19\n",
      "prog: Qubit(QuantumRegister(4, 'q23'), 0) , hw: 23\n",
      "prog: Qubit(QuantumRegister(4, 'q23'), 1) , hw: 24\n",
      "prog: Qubit(QuantumRegister(4, 'q23'), 2) , hw: 25\n",
      "prog: Qubit(QuantumRegister(4, 'q23'), 3) , hw: 26\n",
      "prog: Qubit(QuantumRegister(4, 'q126'), 0) , hw: 20\n",
      "prog: Qubit(QuantumRegister(4, 'q126'), 1) , hw: 14\n",
      "prog: Qubit(QuantumRegister(4, 'q126'), 2) , hw: 16\n",
      "prog: Qubit(QuantumRegister(4, 'q126'), 3) , hw: 19\n",
      "prog: Qubit(QuantumRegister(4, 'q127'), 0) , hw: 23\n",
      "prog: Qubit(QuantumRegister(4, 'q127'), 1) , hw: 24\n",
      "prog: Qubit(QuantumRegister(4, 'q127'), 2) , hw: 25\n",
      "prog: Qubit(QuantumRegister(4, 'q127'), 3) , hw: 26\n"
     ]
    }
   ],
   "source": [
    "job_sim, job, job_alap = execute_alap(\n",
    "                    size=benchmark_size, \n",
    "                    names=benchmark_sets, \n",
    "                    backend=backend, \n",
    "                    simulator=simulator,\n",
    "                    shots = shots, \n",
    "                    nseed=1,\n",
    "                    save_path=job_save_path, \n",
    "                    instruction_durations=instruction_durations,\n",
    "                    )"
   ]
  },
  {
   "cell_type": "code",
   "execution_count": 7,
   "metadata": {},
   "outputs": [
    {
     "name": "stdout",
     "output_type": "stream",
     "text": [
      "<qiskit.providers.ibmq.job.ibmqjob.IBMQJob object at 0x7f9452f1d070>\n",
      "[<qiskit.providers.ibmq.job.ibmqjob.IBMQJob object at 0x7f9452f082e0>]\n",
      "[<qiskit.providers.ibmq.job.ibmqjob.IBMQJob object at 0x7f9452cf03d0>]\n"
     ]
    }
   ],
   "source": [
    "# Show the each job\n",
    "print(job_sim)\n",
    "print(job)\n",
    "print(job_alap)"
   ]
  },
  {
   "cell_type": "markdown",
   "metadata": {},
   "source": [
    "## Get the results"
   ]
  },
  {
   "cell_type": "code",
   "execution_count": 8,
   "metadata": {},
   "outputs": [],
   "source": [
    "# define path to the file to save results\n",
    "result_save_path = str(os.getcwd()) + \"/results/from20201211/\" + file_name"
   ]
  },
  {
   "cell_type": "code",
   "execution_count": 9,
   "metadata": {},
   "outputs": [],
   "source": [
    "result_sim, result_list, result_alap_list, counts_sim, count_list, counts_alap_list, qc_names = result_alap(backend, simulator, job_save_path, result_save_path)"
   ]
  },
  {
   "cell_type": "code",
   "execution_count": 10,
   "metadata": {},
   "outputs": [
    {
     "name": "stdout",
     "output_type": "stream",
     "text": [
      "# Simulator\n",
      "Result(backend_name='ibmq_qasm_simulator', backend_version='0.7.0', qobj_id='0d6e9b85-9859-4850-ad14-ab35f0a90899', job_id='5fd3f8614266b8001903e714', success=True, results=[ExperimentResult(shots=8192, success=True, meas_level=MeasLevel.CLASSIFIED, data=ExperimentResultData(counts={'0x19': 521, '0x29': 508, '0x39': 477, '0x49': 506, '0x59': 519, '0x69': 576, '0x79': 523, '0x89': 502, '0x9': 522, '0x99': 537, '0xa9': 534, '0xb9': 512, '0xc9': 477, '0xd9': 486, '0xe9': 508, '0xf9': 484}), header=QobjExperimentHeader(clbit_labels=[['c0', 0], ['c0', 1], ['c0', 2], ['c0', 3], ['c1', 0], ['c1', 1], ['c1', 2], ['c1', 3]], creg_sizes=[['c0', 4], ['c1', 4]], global_phase=0.0, memory_slots=8, n_qubits=8, name='circuit8', qreg_sizes=[['q0', 4], ['q1', 4]], qubit_labels=[['q0', 0], ['q0', 1], ['q0', 2], ['q0', 3], ['q1', 0], ['q1', 1], ['q1', 2], ['q1', 3]]), status=DONE, metadata={'fusion': {'applied': False, 'enabled': True, 'method': 'unitary', 'threshold': 14}, 'measure_sampling': True, 'method': 'statevector', 'parallel_shots': 1, 'parallel_state_update': 16}, seed_simulator=4051987162, time_taken=0.023659585)], date=2020-12-12 07:53:24.735112+09:00, status=COMPLETED, status=QobjHeader(backend_name='ibmq_qasm_simulator', backend_version='0.1.547'), metadata={'max_memory_mb': 257936, 'omp_enabled': True, 'parallel_experiments': 1, 'time_taken': 0.023858864}, time_taken=0.023858864, client_version={'qiskit': '0.23.1'})\n",
      "\n",
      "# No scheduling\n",
      "Result(backend_name='ibmq_paris', backend_version='1.6.5', qobj_id='15294538-7a0d-4a91-824b-ae09d0918f53', job_id='5fd3f863afed59001902525f', success=True, results=[ExperimentResult(shots=8192, success=True, meas_level=2, data=ExperimentResultData(counts={'0x0': 23, '0x1': 46, '0x10': 15, '0x11': 47, '0x12': 2, '0x13': 12, '0x14': 2, '0x15': 1, '0x16': 10, '0x17': 11, '0x18': 20, '0x19': 315, '0x1a': 8, '0x1b': 23, '0x1c': 4, '0x1d': 1, '0x1e': 2, '0x1f': 3, '0x2': 5, '0x20': 27, '0x21': 37, '0x22': 2, '0x23': 7, '0x24': 5, '0x25': 7, '0x26': 8, '0x27': 19, '0x28': 22, '0x29': 325, '0x2a': 9, '0x2b': 19, '0x2c': 1, '0x2d': 10, '0x2e': 4, '0x2f': 7, '0x3': 9, '0x30': 10, '0x31': 31, '0x32': 4, '0x33': 10, '0x34': 2, '0x35': 1, '0x36': 3, '0x37': 8, '0x38': 18, '0x39': 269, '0x3a': 10, '0x3b': 17, '0x3c': 2, '0x3d': 5, '0x3e': 4, '0x3f': 3, '0x4': 4, '0x40': 19, '0x41': 40, '0x42': 5, '0x43': 11, '0x44': 5, '0x45': 3, '0x46': 10, '0x47': 14, '0x48': 25, '0x49': 396, '0x4a': 7, '0x4b': 33, '0x4c': 2, '0x4d': 8, '0x4e': 4, '0x4f': 4, '0x5': 2, '0x50': 16, '0x51': 37, '0x52': 5, '0x53': 1, '0x54': 4, '0x55': 4, '0x56': 5, '0x57': 9, '0x58': 23, '0x59': 300, '0x5a': 3, '0x5b': 18, '0x5c': 3, '0x5d': 13, '0x5e': 1, '0x5f': 3, '0x6': 7, '0x60': 26, '0x61': 53, '0x62': 4, '0x63': 22, '0x64': 5, '0x65': 1, '0x66': 5, '0x67': 17, '0x68': 22, '0x69': 430, '0x6a': 14, '0x6b': 24, '0x6d': 15, '0x6e': 4, '0x6f': 5, '0x7': 10, '0x70': 22, '0x71': 49, '0x72': 4, '0x73': 7, '0x74': 4, '0x75': 1, '0x76': 8, '0x77': 7, '0x78': 18, '0x79': 312, '0x7a': 12, '0x7b': 13, '0x7c': 2, '0x7d': 13, '0x7e': 1, '0x7f': 6, '0x8': 20, '0x80': 22, '0x81': 30, '0x82': 3, '0x83': 6, '0x84': 6, '0x85': 2, '0x86': 5, '0x87': 14, '0x88': 25, '0x89': 388, '0x8a': 4, '0x8b': 24, '0x8c': 3, '0x8d': 10, '0x8e': 4, '0x8f': 2, '0x9': 442, '0x90': 19, '0x91': 33, '0x92': 2, '0x93': 6, '0x94': 2, '0x95': 1, '0x96': 8, '0x97': 11, '0x98': 9, '0x99': 268, '0x9a': 5, '0x9b': 17, '0x9c': 1, '0x9d': 8, '0x9e': 1, '0x9f': 2, '0xa': 12, '0xa0': 16, '0xa1': 31, '0xa2': 6, '0xa3': 4, '0xa4': 1, '0xa5': 1, '0xa6': 6, '0xa7': 14, '0xa8': 23, '0xa9': 296, '0xaa': 6, '0xab': 28, '0xac': 3, '0xad': 10, '0xae': 2, '0xaf': 5, '0xb': 24, '0xb0': 8, '0xb1': 28, '0xb2': 4, '0xb3': 8, '0xb4': 5, '0xb5': 1, '0xb6': 5, '0xb7': 9, '0xb8': 18, '0xb9': 233, '0xba': 6, '0xbb': 23, '0xbc': 3, '0xbd': 4, '0xbe': 2, '0xbf': 4, '0xc': 5, '0xc0': 29, '0xc1': 42, '0xc2': 8, '0xc3': 15, '0xc4': 5, '0xc5': 6, '0xc6': 8, '0xc7': 9, '0xc8': 26, '0xc9': 388, '0xca': 9, '0xcb': 19, '0xcc': 1, '0xcd': 17, '0xce': 5, '0xcf': 7, '0xd': 13, '0xd0': 13, '0xd1': 35, '0xd2': 9, '0xd3': 9, '0xd4': 3, '0xd5': 3, '0xd6': 4, '0xd7': 12, '0xd8': 17, '0xd9': 287, '0xda': 10, '0xdb': 16, '0xdc': 3, '0xdd': 11, '0xde': 4, '0xdf': 3, '0xe': 2, '0xe0': 26, '0xe1': 53, '0xe2': 6, '0xe3': 16, '0xe4': 3, '0xe5': 2, '0xe6': 7, '0xe7': 13, '0xe8': 36, '0xe9': 467, '0xea': 14, '0xeb': 30, '0xec': 1, '0xed': 12, '0xee': 5, '0xef': 5, '0xf': 6, '0xf0': 25, '0xf1': 50, '0xf2': 5, '0xf3': 6, '0xf4': 2, '0xf6': 4, '0xf7': 17, '0xf8': 20, '0xf9': 352, '0xfa': 11, '0xfb': 29, '0xfc': 2, '0xfd': 12, '0xfe': 4, '0xff': 1}), header=QobjExperimentHeader(clbit_labels=[['c2', 0], ['c2', 1], ['c2', 2], ['c2', 3], ['c3', 0], ['c3', 1], ['c3', 2], ['c3', 3]], creg_sizes=[['c2', 4], ['c3', 4]], global_phase=0.981747704246811, memory_slots=8, n_qubits=27, name='circuit146', qreg_sizes=[['q', 27]], qubit_labels=[['q', 0], ['q', 1], ['q', 2], ['q', 3], ['q', 4], ['q', 5], ['q', 6], ['q', 7], ['q', 8], ['q', 9], ['q', 10], ['q', 11], ['q', 12], ['q', 13], ['q', 14], ['q', 15], ['q', 16], ['q', 17], ['q', 18], ['q', 19], ['q', 20], ['q', 21], ['q', 22], ['q', 23], ['q', 24], ['q', 25], ['q', 26]]), memory=False)], date=2020-12-12 07:54:43+09:00, status=Successful completion, status=QobjHeader(backend_name='ibmq_paris', backend_version='1.6.5'), time_taken=21.542726278305054, execution_id='c34ce312-3c03-11eb-9ff5-b02628ea1e00', client_version={'qiskit': '0.23.1'})\n",
      "\n",
      "# ALAP scheduling policy\n",
      "Result(backend_name='ibmq_paris', backend_version='1.6.5', qobj_id='1bbe398e-41e7-4f0a-adbe-5e7f8df1549b', job_id='5fd3f86480c762001a74669f', success=True, results=[ExperimentResult(shots=8192, success=True, meas_level=2, data=ExperimentResultData(counts={'0x0': 24, '0x1': 37, '0x10': 12, '0x11': 24, '0x12': 5, '0x13': 9, '0x14': 2, '0x15': 5, '0x16': 2, '0x17': 8, '0x18': 29, '0x19': 312, '0x1a': 4, '0x1b': 13, '0x1c': 2, '0x1d': 11, '0x1f': 2, '0x2': 4, '0x20': 16, '0x21': 32, '0x22': 11, '0x23': 14, '0x24': 8, '0x25': 3, '0x26': 6, '0x27': 9, '0x28': 24, '0x29': 341, '0x2a': 11, '0x2b': 11, '0x2c': 3, '0x2d': 9, '0x2e': 2, '0x2f': 1, '0x3': 14, '0x30': 17, '0x31': 30, '0x32': 5, '0x33': 8, '0x34': 1, '0x35': 3, '0x36': 6, '0x37': 16, '0x38': 23, '0x39': 354, '0x3a': 11, '0x3b': 12, '0x3c': 1, '0x3d': 8, '0x3e': 1, '0x3f': 3, '0x4': 7, '0x40': 25, '0x41': 54, '0x42': 6, '0x43': 21, '0x44': 1, '0x45': 7, '0x46': 6, '0x47': 15, '0x48': 34, '0x49': 389, '0x4a': 20, '0x4b': 20, '0x4c': 3, '0x4d': 10, '0x4e': 5, '0x4f': 1, '0x5': 2, '0x50': 23, '0x51': 36, '0x52': 11, '0x53': 18, '0x54': 7, '0x55': 1, '0x56': 4, '0x57': 14, '0x58': 16, '0x59': 324, '0x5a': 10, '0x5b': 23, '0x5c': 4, '0x5d': 6, '0x5e': 3, '0x5f': 4, '0x6': 4, '0x60': 15, '0x61': 31, '0x62': 9, '0x63': 11, '0x64': 7, '0x65': 2, '0x66': 8, '0x67': 12, '0x68': 23, '0x69': 389, '0x6a': 18, '0x6b': 13, '0x6c': 3, '0x6d': 14, '0x7': 10, '0x70': 15, '0x71': 33, '0x72': 5, '0x73': 5, '0x74': 2, '0x75': 1, '0x76': 5, '0x77': 8, '0x78': 16, '0x79': 269, '0x7a': 8, '0x7b': 15, '0x7c': 6, '0x7d': 9, '0x7e': 2, '0x7f': 3, '0x8': 33, '0x80': 27, '0x81': 39, '0x82': 8, '0x83': 16, '0x84': 2, '0x85': 1, '0x86': 8, '0x87': 15, '0x88': 33, '0x89': 391, '0x8a': 16, '0x8b': 18, '0x8c': 5, '0x8d': 14, '0x8e': 2, '0x8f': 2, '0x9': 382, '0x90': 16, '0x91': 39, '0x92': 8, '0x93': 7, '0x94': 3, '0x95': 1, '0x96': 7, '0x97': 13, '0x98': 29, '0x99': 335, '0x9a': 13, '0x9b': 10, '0x9d': 18, '0x9e': 6, '0x9f': 4, '0xa': 10, '0xa0': 15, '0xa1': 24, '0xa2': 5, '0xa3': 12, '0xa4': 1, '0xa5': 2, '0xa6': 4, '0xa7': 17, '0xa8': 19, '0xa9': 284, '0xaa': 14, '0xab': 16, '0xac': 1, '0xad': 7, '0xae': 4, '0xb': 17, '0xb0': 14, '0xb1': 29, '0xb2': 5, '0xb3': 6, '0xb4': 3, '0xb5': 2, '0xb6': 3, '0xb7': 11, '0xb8': 18, '0xb9': 234, '0xba': 10, '0xbb': 8, '0xbc': 4, '0xbd': 9, '0xbf': 4, '0xc': 1, '0xc0': 18, '0xc1': 54, '0xc2': 8, '0xc3': 15, '0xc4': 5, '0xc5': 5, '0xc6': 3, '0xc7': 13, '0xc8': 25, '0xc9': 425, '0xca': 22, '0xcb': 28, '0xcc': 3, '0xcd': 13, '0xce': 1, '0xcf': 1, '0xd': 13, '0xd0': 18, '0xd1': 29, '0xd2': 7, '0xd3': 10, '0xd4': 5, '0xd5': 4, '0xd6': 6, '0xd7': 9, '0xd8': 33, '0xd9': 325, '0xda': 6, '0xdb': 18, '0xdc': 1, '0xdd': 10, '0xde': 4, '0xdf': 3, '0xe': 3, '0xe0': 23, '0xe1': 46, '0xe2': 5, '0xe3': 15, '0xe4': 9, '0xe5': 3, '0xe6': 5, '0xe7': 10, '0xe8': 23, '0xe9': 393, '0xea': 21, '0xeb': 19, '0xec': 2, '0xed': 19, '0xee': 3, '0xef': 3, '0xf': 3, '0xf0': 20, '0xf1': 47, '0xf2': 5, '0xf3': 12, '0xf4': 3, '0xf6': 7, '0xf7': 19, '0xf8': 22, '0xf9': 315, '0xfa': 10, '0xfb': 13, '0xfd': 12, '0xfe': 6, '0xff': 2}), header=QobjExperimentHeader(clbit_labels=[['c4', 0], ['c4', 1], ['c4', 2], ['c4', 3], ['c5', 0], ['c5', 1], ['c5', 2], ['c5', 3]], creg_sizes=[['c4', 4], ['c5', 4]], global_phase=0.0, memory_slots=8, n_qubits=27, name='circuit539', qreg_sizes=[['q', 27]], qubit_labels=[['q', 0], ['q', 1], ['q', 2], ['q', 3], ['q', 4], ['q', 5], ['q', 6], ['q', 7], ['q', 8], ['q', 9], ['q', 10], ['q', 11], ['q', 12], ['q', 13], ['q', 14], ['q', 15], ['q', 16], ['q', 17], ['q', 18], ['q', 19], ['q', 20], ['q', 21], ['q', 22], ['q', 23], ['q', 24], ['q', 25], ['q', 26]]), memory=False)], date=2020-12-12 07:55:47+09:00, status=Successful completion, status=QobjHeader(backend_name='ibmq_paris', backend_version='1.6.5'), time_taken=21.774943351745605, execution_id='df01c596-3c03-11eb-b75f-b02628ea1e00', client_version={'qiskit': '0.23.1'})\n"
     ]
    }
   ],
   "source": [
    "# Show the results\n",
    "print(\"# Simulator\")\n",
    "print(result_sim)\n",
    "\n",
    "print(\"\\n# No scheduling\")\n",
    "for _result in result_list: \n",
    "    print(_result)\n",
    "\n",
    "print(\"\\n# ALAP scheduling policy\")\n",
    "for _result_alap in result_alap_list: \n",
    "    print(_result_alap)"
   ]
  },
  {
   "cell_type": "code",
   "execution_count": 11,
   "metadata": {},
   "outputs": [
    {
     "name": "stdout",
     "output_type": "stream",
     "text": [
      "# Simulator\n",
      "{'0001 1001': 521, '0010 1001': 508, '0011 1001': 477, '0100 1001': 506, '0101 1001': 519, '0110 1001': 576, '0111 1001': 523, '1000 1001': 502, '0000 1001': 522, '1001 1001': 537, '1010 1001': 534, '1011 1001': 512, '1100 1001': 477, '1101 1001': 486, '1110 1001': 508, '1111 1001': 484}\n",
      "\n",
      "# No scheduling\n",
      "{'0000 0000': 23, '0000 0001': 46, '0001 0000': 15, '0001 0001': 47, '0001 0010': 2, '0001 0011': 12, '0001 0100': 2, '0001 0101': 1, '0001 0110': 10, '0001 0111': 11, '0001 1000': 20, '0001 1001': 315, '0001 1010': 8, '0001 1011': 23, '0001 1100': 4, '0001 1101': 1, '0001 1110': 2, '0001 1111': 3, '0000 0010': 5, '0010 0000': 27, '0010 0001': 37, '0010 0010': 2, '0010 0011': 7, '0010 0100': 5, '0010 0101': 7, '0010 0110': 8, '0010 0111': 19, '0010 1000': 22, '0010 1001': 325, '0010 1010': 9, '0010 1011': 19, '0010 1100': 1, '0010 1101': 10, '0010 1110': 4, '0010 1111': 7, '0000 0011': 9, '0011 0000': 10, '0011 0001': 31, '0011 0010': 4, '0011 0011': 10, '0011 0100': 2, '0011 0101': 1, '0011 0110': 3, '0011 0111': 8, '0011 1000': 18, '0011 1001': 269, '0011 1010': 10, '0011 1011': 17, '0011 1100': 2, '0011 1101': 5, '0011 1110': 4, '0011 1111': 3, '0000 0100': 4, '0100 0000': 19, '0100 0001': 40, '0100 0010': 5, '0100 0011': 11, '0100 0100': 5, '0100 0101': 3, '0100 0110': 10, '0100 0111': 14, '0100 1000': 25, '0100 1001': 396, '0100 1010': 7, '0100 1011': 33, '0100 1100': 2, '0100 1101': 8, '0100 1110': 4, '0100 1111': 4, '0000 0101': 2, '0101 0000': 16, '0101 0001': 37, '0101 0010': 5, '0101 0011': 1, '0101 0100': 4, '0101 0101': 4, '0101 0110': 5, '0101 0111': 9, '0101 1000': 23, '0101 1001': 300, '0101 1010': 3, '0101 1011': 18, '0101 1100': 3, '0101 1101': 13, '0101 1110': 1, '0101 1111': 3, '0000 0110': 7, '0110 0000': 26, '0110 0001': 53, '0110 0010': 4, '0110 0011': 22, '0110 0100': 5, '0110 0101': 1, '0110 0110': 5, '0110 0111': 17, '0110 1000': 22, '0110 1001': 430, '0110 1010': 14, '0110 1011': 24, '0110 1101': 15, '0110 1110': 4, '0110 1111': 5, '0000 0111': 10, '0111 0000': 22, '0111 0001': 49, '0111 0010': 4, '0111 0011': 7, '0111 0100': 4, '0111 0101': 1, '0111 0110': 8, '0111 0111': 7, '0111 1000': 18, '0111 1001': 312, '0111 1010': 12, '0111 1011': 13, '0111 1100': 2, '0111 1101': 13, '0111 1110': 1, '0111 1111': 6, '0000 1000': 20, '1000 0000': 22, '1000 0001': 30, '1000 0010': 3, '1000 0011': 6, '1000 0100': 6, '1000 0101': 2, '1000 0110': 5, '1000 0111': 14, '1000 1000': 25, '1000 1001': 388, '1000 1010': 4, '1000 1011': 24, '1000 1100': 3, '1000 1101': 10, '1000 1110': 4, '1000 1111': 2, '0000 1001': 442, '1001 0000': 19, '1001 0001': 33, '1001 0010': 2, '1001 0011': 6, '1001 0100': 2, '1001 0101': 1, '1001 0110': 8, '1001 0111': 11, '1001 1000': 9, '1001 1001': 268, '1001 1010': 5, '1001 1011': 17, '1001 1100': 1, '1001 1101': 8, '1001 1110': 1, '1001 1111': 2, '0000 1010': 12, '1010 0000': 16, '1010 0001': 31, '1010 0010': 6, '1010 0011': 4, '1010 0100': 1, '1010 0101': 1, '1010 0110': 6, '1010 0111': 14, '1010 1000': 23, '1010 1001': 296, '1010 1010': 6, '1010 1011': 28, '1010 1100': 3, '1010 1101': 10, '1010 1110': 2, '1010 1111': 5, '0000 1011': 24, '1011 0000': 8, '1011 0001': 28, '1011 0010': 4, '1011 0011': 8, '1011 0100': 5, '1011 0101': 1, '1011 0110': 5, '1011 0111': 9, '1011 1000': 18, '1011 1001': 233, '1011 1010': 6, '1011 1011': 23, '1011 1100': 3, '1011 1101': 4, '1011 1110': 2, '1011 1111': 4, '0000 1100': 5, '1100 0000': 29, '1100 0001': 42, '1100 0010': 8, '1100 0011': 15, '1100 0100': 5, '1100 0101': 6, '1100 0110': 8, '1100 0111': 9, '1100 1000': 26, '1100 1001': 388, '1100 1010': 9, '1100 1011': 19, '1100 1100': 1, '1100 1101': 17, '1100 1110': 5, '1100 1111': 7, '0000 1101': 13, '1101 0000': 13, '1101 0001': 35, '1101 0010': 9, '1101 0011': 9, '1101 0100': 3, '1101 0101': 3, '1101 0110': 4, '1101 0111': 12, '1101 1000': 17, '1101 1001': 287, '1101 1010': 10, '1101 1011': 16, '1101 1100': 3, '1101 1101': 11, '1101 1110': 4, '1101 1111': 3, '0000 1110': 2, '1110 0000': 26, '1110 0001': 53, '1110 0010': 6, '1110 0011': 16, '1110 0100': 3, '1110 0101': 2, '1110 0110': 7, '1110 0111': 13, '1110 1000': 36, '1110 1001': 467, '1110 1010': 14, '1110 1011': 30, '1110 1100': 1, '1110 1101': 12, '1110 1110': 5, '1110 1111': 5, '0000 1111': 6, '1111 0000': 25, '1111 0001': 50, '1111 0010': 5, '1111 0011': 6, '1111 0100': 2, '1111 0110': 4, '1111 0111': 17, '1111 1000': 20, '1111 1001': 352, '1111 1010': 11, '1111 1011': 29, '1111 1100': 2, '1111 1101': 12, '1111 1110': 4, '1111 1111': 1}\n",
      "\n",
      "# ALAP scheduling policy\n",
      "{'0000 0000': 24, '0000 0001': 37, '0001 0000': 12, '0001 0001': 24, '0001 0010': 5, '0001 0011': 9, '0001 0100': 2, '0001 0101': 5, '0001 0110': 2, '0001 0111': 8, '0001 1000': 29, '0001 1001': 312, '0001 1010': 4, '0001 1011': 13, '0001 1100': 2, '0001 1101': 11, '0001 1111': 2, '0000 0010': 4, '0010 0000': 16, '0010 0001': 32, '0010 0010': 11, '0010 0011': 14, '0010 0100': 8, '0010 0101': 3, '0010 0110': 6, '0010 0111': 9, '0010 1000': 24, '0010 1001': 341, '0010 1010': 11, '0010 1011': 11, '0010 1100': 3, '0010 1101': 9, '0010 1110': 2, '0010 1111': 1, '0000 0011': 14, '0011 0000': 17, '0011 0001': 30, '0011 0010': 5, '0011 0011': 8, '0011 0100': 1, '0011 0101': 3, '0011 0110': 6, '0011 0111': 16, '0011 1000': 23, '0011 1001': 354, '0011 1010': 11, '0011 1011': 12, '0011 1100': 1, '0011 1101': 8, '0011 1110': 1, '0011 1111': 3, '0000 0100': 7, '0100 0000': 25, '0100 0001': 54, '0100 0010': 6, '0100 0011': 21, '0100 0100': 1, '0100 0101': 7, '0100 0110': 6, '0100 0111': 15, '0100 1000': 34, '0100 1001': 389, '0100 1010': 20, '0100 1011': 20, '0100 1100': 3, '0100 1101': 10, '0100 1110': 5, '0100 1111': 1, '0000 0101': 2, '0101 0000': 23, '0101 0001': 36, '0101 0010': 11, '0101 0011': 18, '0101 0100': 7, '0101 0101': 1, '0101 0110': 4, '0101 0111': 14, '0101 1000': 16, '0101 1001': 324, '0101 1010': 10, '0101 1011': 23, '0101 1100': 4, '0101 1101': 6, '0101 1110': 3, '0101 1111': 4, '0000 0110': 4, '0110 0000': 15, '0110 0001': 31, '0110 0010': 9, '0110 0011': 11, '0110 0100': 7, '0110 0101': 2, '0110 0110': 8, '0110 0111': 12, '0110 1000': 23, '0110 1001': 389, '0110 1010': 18, '0110 1011': 13, '0110 1100': 3, '0110 1101': 14, '0000 0111': 10, '0111 0000': 15, '0111 0001': 33, '0111 0010': 5, '0111 0011': 5, '0111 0100': 2, '0111 0101': 1, '0111 0110': 5, '0111 0111': 8, '0111 1000': 16, '0111 1001': 269, '0111 1010': 8, '0111 1011': 15, '0111 1100': 6, '0111 1101': 9, '0111 1110': 2, '0111 1111': 3, '0000 1000': 33, '1000 0000': 27, '1000 0001': 39, '1000 0010': 8, '1000 0011': 16, '1000 0100': 2, '1000 0101': 1, '1000 0110': 8, '1000 0111': 15, '1000 1000': 33, '1000 1001': 391, '1000 1010': 16, '1000 1011': 18, '1000 1100': 5, '1000 1101': 14, '1000 1110': 2, '1000 1111': 2, '0000 1001': 382, '1001 0000': 16, '1001 0001': 39, '1001 0010': 8, '1001 0011': 7, '1001 0100': 3, '1001 0101': 1, '1001 0110': 7, '1001 0111': 13, '1001 1000': 29, '1001 1001': 335, '1001 1010': 13, '1001 1011': 10, '1001 1101': 18, '1001 1110': 6, '1001 1111': 4, '0000 1010': 10, '1010 0000': 15, '1010 0001': 24, '1010 0010': 5, '1010 0011': 12, '1010 0100': 1, '1010 0101': 2, '1010 0110': 4, '1010 0111': 17, '1010 1000': 19, '1010 1001': 284, '1010 1010': 14, '1010 1011': 16, '1010 1100': 1, '1010 1101': 7, '1010 1110': 4, '0000 1011': 17, '1011 0000': 14, '1011 0001': 29, '1011 0010': 5, '1011 0011': 6, '1011 0100': 3, '1011 0101': 2, '1011 0110': 3, '1011 0111': 11, '1011 1000': 18, '1011 1001': 234, '1011 1010': 10, '1011 1011': 8, '1011 1100': 4, '1011 1101': 9, '1011 1111': 4, '0000 1100': 1, '1100 0000': 18, '1100 0001': 54, '1100 0010': 8, '1100 0011': 15, '1100 0100': 5, '1100 0101': 5, '1100 0110': 3, '1100 0111': 13, '1100 1000': 25, '1100 1001': 425, '1100 1010': 22, '1100 1011': 28, '1100 1100': 3, '1100 1101': 13, '1100 1110': 1, '1100 1111': 1, '0000 1101': 13, '1101 0000': 18, '1101 0001': 29, '1101 0010': 7, '1101 0011': 10, '1101 0100': 5, '1101 0101': 4, '1101 0110': 6, '1101 0111': 9, '1101 1000': 33, '1101 1001': 325, '1101 1010': 6, '1101 1011': 18, '1101 1100': 1, '1101 1101': 10, '1101 1110': 4, '1101 1111': 3, '0000 1110': 3, '1110 0000': 23, '1110 0001': 46, '1110 0010': 5, '1110 0011': 15, '1110 0100': 9, '1110 0101': 3, '1110 0110': 5, '1110 0111': 10, '1110 1000': 23, '1110 1001': 393, '1110 1010': 21, '1110 1011': 19, '1110 1100': 2, '1110 1101': 19, '1110 1110': 3, '1110 1111': 3, '0000 1111': 3, '1111 0000': 20, '1111 0001': 47, '1111 0010': 5, '1111 0011': 12, '1111 0100': 3, '1111 0110': 7, '1111 0111': 19, '1111 1000': 22, '1111 1001': 315, '1111 1010': 10, '1111 1011': 13, '1111 1101': 12, '1111 1110': 6, '1111 1111': 2}\n"
     ]
    }
   ],
   "source": [
    "# Show the counts\n",
    "print(\"# Simulator\")\n",
    "print(counts_sim)\n",
    "\n",
    "print(\"\\n# No scheduling\")\n",
    "for _count in count_list: \n",
    "    print(_count)\n",
    "\n",
    "print(\"\\n# ALAP scheduling policy\")\n",
    "for _count_alap in counts_alap_list: \n",
    "    print(_count_alap)"
   ]
  },
  {
   "cell_type": "code",
   "execution_count": null,
   "metadata": {},
   "outputs": [],
   "source": []
  }
 ],
 "metadata": {
  "jupytext": {
   "text_representation": {
    "extension": ".py",
    "format_name": "light",
    "format_version": "1.5",
    "jupytext_version": "1.7.1"
   }
  },
  "kernelspec": {
   "display_name": "Python 3",
   "language": "python",
   "name": "python3"
  },
  "language_info": {
   "codemirror_mode": {
    "name": "ipython",
    "version": 3
   },
   "file_extension": ".py",
   "mimetype": "text/x-python",
   "name": "python",
   "nbconvert_exporter": "python",
   "pygments_lexer": "ipython3",
   "version": "3.8.3"
  }
 },
 "nbformat": 4,
 "nbformat_minor": 2
}
