{
 "cells": [
  {
   "cell_type": "markdown",
   "metadata": {},
   "source": [
    "# ALAP Scheduling \n",
    "### Adder (4-qubits, 10 CX) + Fredkin (3-qubits, 8 CX)\n",
    "\n",
    "2020-12-12"
   ]
  },
  {
   "cell_type": "code",
   "execution_count": 1,
   "metadata": {},
   "outputs": [],
   "source": [
    "# import python tools\n",
    "import os\n",
    "\n",
    "# import qiskit tool\n",
    "from qiskit.transpiler import InstructionDurations\n",
    "\n",
    "# import experimental tools\n",
    "from experiments.alap_scheduling import execute_alap, result_alap\n",
    "from experiments.utils import get_IBM_backend"
   ]
  },
  {
   "cell_type": "markdown",
   "metadata": {},
   "source": [
    "## Experimental Settings"
   ]
  },
  {
   "cell_type": "code",
   "execution_count": 2,
   "metadata": {},
   "outputs": [],
   "source": [
    "date = '2020-12-12'\n",
    "\n",
    "# Choose benchmark circuits from QASMBench\n",
    "benchmark_sets = ['adder_n4', 'fredkin_n3']\n",
    "benchmark_size = 'small'"
   ]
  },
  {
   "cell_type": "code",
   "execution_count": 3,
   "metadata": {},
   "outputs": [
    {
     "name": "stderr",
     "output_type": "stream",
     "text": [
      "/Users/Yasuhiro/.local/share/virtualenvs/experiments-VWP9UmJy/lib/python3.8/site-packages/qiskit/providers/ibmq/ibmqfactory.py:192: UserWarning: Timestamps in IBMQ backend properties, jobs, and job results are all now in local time instead of UTC.\n",
      "  warnings.warn('Timestamps in IBMQ backend properties, jobs, and job results '\n"
     ]
    }
   ],
   "source": [
    "# Define backend device\n",
    "backend = get_IBM_backend('ibmq_paris')\n",
    "simulator = get_IBM_backend('ibmq_qasm_simulator')\n",
    "\n",
    "# Number of trials\n",
    "shots = 8192\n",
    "\n",
    "# Number of experimental seeds\n",
    "nseed = 1"
   ]
  },
  {
   "cell_type": "code",
   "execution_count": 4,
   "metadata": {},
   "outputs": [],
   "source": [
    "# define path to the file to save job data\n",
    "file_name = date + '_'\n",
    "sorted_benchmarks = sorted(benchmark_sets)\n",
    "for _name in sorted_benchmarks: \n",
    "    file_name += _name\n",
    "    if _name == sorted_benchmarks[-1]:\n",
    "        break\n",
    "    file_name += '+'\n",
    "job_save_path = str(os.getcwd()) + \"/job_id/from20201211/\" + file_name"
   ]
  },
  {
   "cell_type": "markdown",
   "metadata": {},
   "source": [
    "## Execute experiments on IBMQ\n",
    "\n",
    "Here, we execute three types of experiments. First one is the  job run on simulator to calculate exact answer of the multi-programming circuit. The other two are the jobs executed on the real device. One is the base line, which is no scheduled, and the other one is the circuit executed with alap schedule policy. "
   ]
  },
  {
   "cell_type": "code",
   "execution_count": 5,
   "metadata": {},
   "outputs": [],
   "source": [
    "instruction_durations = InstructionDurations.from_backend(backend)"
   ]
  },
  {
   "cell_type": "code",
   "execution_count": 6,
   "metadata": {},
   "outputs": [
    {
     "name": "stdout",
     "output_type": "stream",
     "text": [
      "prog: Qubit(QuantumRegister(4, 'q30'), 0) , hw: 20\n",
      "prog: Qubit(QuantumRegister(4, 'q30'), 1) , hw: 14\n",
      "prog: Qubit(QuantumRegister(4, 'q30'), 2) , hw: 16\n",
      "prog: Qubit(QuantumRegister(4, 'q30'), 3) , hw: 19\n",
      "prog: Qubit(QuantumRegister(3, 'q31'), 0) , hw: 25\n",
      "prog: Qubit(QuantumRegister(3, 'q31'), 1) , hw: 23\n",
      "prog: Qubit(QuantumRegister(3, 'q31'), 2) , hw: 24\n",
      "prog: Qubit(QuantumRegister(4, 'q133'), 0) , hw: 20\n",
      "prog: Qubit(QuantumRegister(4, 'q133'), 1) , hw: 14\n",
      "prog: Qubit(QuantumRegister(4, 'q133'), 2) , hw: 16\n",
      "prog: Qubit(QuantumRegister(4, 'q133'), 3) , hw: 19\n",
      "prog: Qubit(QuantumRegister(3, 'q134'), 0) , hw: 25\n",
      "prog: Qubit(QuantumRegister(3, 'q134'), 1) , hw: 23\n",
      "prog: Qubit(QuantumRegister(3, 'q134'), 2) , hw: 24\n"
     ]
    }
   ],
   "source": [
    "job_sim, job, job_alap = execute_alap(\n",
    "                    size=benchmark_size, \n",
    "                    names=benchmark_sets, \n",
    "                    backend=backend, \n",
    "                    simulator=simulator,\n",
    "                    shots = shots, \n",
    "                    nseed=1,\n",
    "                    save_path=job_save_path, \n",
    "                    instruction_durations=instruction_durations,\n",
    "                    )"
   ]
  },
  {
   "cell_type": "code",
   "execution_count": 7,
   "metadata": {},
   "outputs": [
    {
     "name": "stdout",
     "output_type": "stream",
     "text": [
      "<qiskit.providers.ibmq.job.ibmqjob.IBMQJob object at 0x7fd4ba67de20>\n",
      "[<qiskit.providers.ibmq.job.ibmqjob.IBMQJob object at 0x7fd4ba672f70>]\n",
      "[<qiskit.providers.ibmq.job.ibmqjob.IBMQJob object at 0x7fd4ba657400>]\n"
     ]
    }
   ],
   "source": [
    "# Show the each job\n",
    "print(job_sim)\n",
    "print(job)\n",
    "print(job_alap)"
   ]
  },
  {
   "cell_type": "markdown",
   "metadata": {},
   "source": [
    "## Get the results"
   ]
  },
  {
   "cell_type": "code",
   "execution_count": 8,
   "metadata": {},
   "outputs": [],
   "source": [
    "# define path to the file to save results\n",
    "result_save_path = str(os.getcwd()) + \"/results/from20201211/\" + file_name"
   ]
  },
  {
   "cell_type": "code",
   "execution_count": 9,
   "metadata": {},
   "outputs": [],
   "source": [
    "result_sim, result_list, result_alap_list, counts_sim, count_list, counts_alap_list, qc_names = result_alap(backend, simulator, job_save_path, result_save_path)"
   ]
  },
  {
   "cell_type": "code",
   "execution_count": 10,
   "metadata": {},
   "outputs": [
    {
     "name": "stdout",
     "output_type": "stream",
     "text": [
      "# Simulator\n",
      "Result(backend_name='ibmq_qasm_simulator', backend_version='0.7.0', qobj_id='ba7ab9e3-b721-4d3e-a027-1688317ef4e8', job_id='5fd3f7de4266b8001903e709', success=True, results=[ExperimentResult(shots=8192, success=True, meas_level=MeasLevel.CLASSIFIED, data=ExperimentResultData(counts={'0x59': 8192}), header=QobjExperimentHeader(clbit_labels=[['c0', 0], ['c0', 1], ['c0', 2], ['c0', 3], ['c1', 0], ['c1', 1], ['c1', 2]], creg_sizes=[['c0', 4], ['c1', 3]], global_phase=0.0, memory_slots=7, n_qubits=7, name='circuit8', qreg_sizes=[['q0', 4], ['q1', 3]], qubit_labels=[['q0', 0], ['q0', 1], ['q0', 2], ['q0', 3], ['q1', 0], ['q1', 1], ['q1', 2]]), status=DONE, metadata={'fusion': {'applied': False, 'enabled': True, 'method': 'unitary', 'threshold': 14}, 'measure_sampling': True, 'method': 'statevector', 'parallel_shots': 1, 'parallel_state_update': 16}, seed_simulator=387337437, time_taken=0.020881902)], date=2020-12-12 07:51:14.847682+09:00, status=COMPLETED, status=QobjHeader(backend_name='ibmq_qasm_simulator', backend_version='0.1.547'), metadata={'max_memory_mb': 257936, 'omp_enabled': True, 'parallel_experiments': 1, 'time_taken': 0.021074978}, time_taken=0.021074978, client_version={'qiskit': '0.23.1'})\n",
      "\n",
      "# No scheduling\n",
      "Result(backend_name='ibmq_paris', backend_version='1.6.5', qobj_id='b967247b-749d-4135-ba05-fbb8e298c388', job_id='5fd3f7e1d802bc0019c3e45d', success=True, results=[ExperimentResult(shots=8192, success=True, meas_level=2, data=ExperimentResultData(counts={'0x0': 11, '0x1': 9, '0x10': 34, '0x11': 49, '0x12': 8, '0x13': 10, '0x14': 7, '0x15': 4, '0x16': 3, '0x17': 12, '0x18': 35, '0x19': 431, '0x1a': 22, '0x1b': 18, '0x1c': 5, '0x1d': 19, '0x1e': 5, '0x1f': 1, '0x2': 9, '0x20': 15, '0x21': 37, '0x22': 8, '0x23': 15, '0x24': 3, '0x25': 3, '0x26': 4, '0x27': 12, '0x28': 32, '0x29': 330, '0x2a': 15, '0x2b': 21, '0x2c': 1, '0x2d': 7, '0x2e': 3, '0x2f': 1, '0x3': 7, '0x30': 21, '0x31': 22, '0x32': 6, '0x33': 14, '0x34': 4, '0x35': 1, '0x36': 6, '0x37': 12, '0x38': 27, '0x39': 316, '0x3a': 14, '0x3b': 9, '0x3c': 2, '0x3d': 14, '0x3e': 3, '0x3f': 3, '0x40': 19, '0x41': 37, '0x42': 8, '0x43': 13, '0x44': 5, '0x45': 3, '0x46': 5, '0x47': 17, '0x48': 34, '0x49': 345, '0x4a': 15, '0x4b': 19, '0x4c': 3, '0x4d': 10, '0x4e': 3, '0x4f': 2, '0x5': 1, '0x50': 206, '0x51': 374, '0x52': 75, '0x53': 108, '0x54': 34, '0x55': 37, '0x56': 55, '0x57': 128, '0x58': 231, '0x59': 3420, '0x5a': 129, '0x5b': 179, '0x5c': 19, '0x5d': 86, '0x5e': 28, '0x5f': 16, '0x6': 1, '0x60': 3, '0x61': 14, '0x62': 5, '0x63': 3, '0x64': 1, '0x66': 1, '0x67': 4, '0x68': 9, '0x69': 116, '0x6a': 5, '0x6b': 8, '0x6c': 1, '0x6d': 3, '0x6e': 1, '0x6f': 1, '0x7': 5, '0x70': 28, '0x71': 32, '0x72': 2, '0x73': 9, '0x74': 2, '0x75': 3, '0x76': 3, '0x77': 8, '0x78': 20, '0x79': 296, '0x7a': 13, '0x7b': 17, '0x7c': 1, '0x7d': 13, '0x7e': 4, '0x8': 13, '0x9': 188, '0xa': 4, '0xb': 5, '0xd': 6}), header=QobjExperimentHeader(clbit_labels=[['c2', 0], ['c2', 1], ['c2', 2], ['c2', 3], ['c3', 0], ['c3', 1], ['c3', 2]], creg_sizes=[['c2', 4], ['c3', 3]], global_phase=-2.7474146655812324, memory_slots=7, n_qubits=27, name='circuit170', qreg_sizes=[['q', 27]], qubit_labels=[['q', 0], ['q', 1], ['q', 2], ['q', 3], ['q', 4], ['q', 5], ['q', 6], ['q', 7], ['q', 8], ['q', 9], ['q', 10], ['q', 11], ['q', 12], ['q', 13], ['q', 14], ['q', 15], ['q', 16], ['q', 17], ['q', 18], ['q', 19], ['q', 20], ['q', 21], ['q', 22], ['q', 23], ['q', 24], ['q', 25], ['q', 26]]), memory=False)], date=2020-12-12 07:53:09+09:00, status=Successful completion, status=QobjHeader(backend_name='ibmq_paris', backend_version='1.6.5'), time_taken=21.407392263412476, execution_id='6d295204-3c03-11eb-85f5-b02628ea1e00', client_version={'qiskit': '0.23.1'})\n",
      "\n",
      "# ALAP scheduling policy\n",
      "Result(backend_name='ibmq_paris', backend_version='1.6.5', qobj_id='b144a2dc-e503-47a1-9e62-eca8a349340e', job_id='5fd3f7e310ba7c001aa16c63', success=True, results=[ExperimentResult(shots=8192, success=True, meas_level=2, data=ExperimentResultData(counts={'0x0': 9, '0x1': 17, '0x10': 22, '0x11': 52, '0x12': 5, '0x13': 10, '0x14': 5, '0x15': 1, '0x16': 6, '0x17': 15, '0x18': 32, '0x19': 386, '0x1a': 13, '0x1b': 19, '0x1c': 5, '0x1d': 15, '0x1e': 5, '0x1f': 3, '0x2': 8, '0x20': 22, '0x21': 36, '0x22': 4, '0x23': 6, '0x24': 3, '0x25': 1, '0x26': 2, '0x27': 9, '0x28': 21, '0x29': 260, '0x2a': 11, '0x2b': 17, '0x2c': 2, '0x2d': 7, '0x2e': 6, '0x2f': 1, '0x3': 1, '0x30': 14, '0x31': 55, '0x32': 5, '0x33': 5, '0x34': 4, '0x35': 1, '0x36': 6, '0x37': 12, '0x38': 30, '0x39': 318, '0x3a': 4, '0x3b': 24, '0x3c': 3, '0x3d': 13, '0x3e': 3, '0x3f': 6, '0x4': 2, '0x40': 22, '0x41': 43, '0x42': 5, '0x43': 14, '0x44': 2, '0x45': 2, '0x46': 4, '0x47': 8, '0x48': 23, '0x49': 340, '0x4a': 9, '0x4b': 19, '0x4c': 2, '0x4d': 9, '0x4e': 4, '0x4f': 4, '0x50': 199, '0x51': 480, '0x52': 50, '0x53': 83, '0x54': 40, '0x55': 23, '0x56': 43, '0x57': 127, '0x58': 288, '0x59': 3504, '0x5a': 95, '0x5b': 230, '0x5c': 30, '0x5d': 132, '0x5e': 41, '0x5f': 26, '0x6': 2, '0x60': 5, '0x61': 16, '0x63': 2, '0x64': 1, '0x66': 2, '0x67': 4, '0x68': 7, '0x69': 95, '0x6a': 3, '0x6b': 5, '0x6d': 3, '0x7': 11, '0x70': 9, '0x71': 32, '0x72': 7, '0x73': 8, '0x74': 5, '0x75': 1, '0x76': 4, '0x77': 9, '0x78': 13, '0x79': 283, '0x7a': 3, '0x7b': 21, '0x7c': 2, '0x7d': 4, '0x7e': 4, '0x7f': 3, '0x8': 10, '0x9': 155, '0xa': 5, '0xb': 7, '0xd': 6, '0xe': 2}), header=QobjExperimentHeader(clbit_labels=[['c4', 0], ['c4', 1], ['c4', 2], ['c4', 3], ['c5', 0], ['c5', 1], ['c5', 2]], creg_sizes=[['c4', 4], ['c5', 3]], global_phase=0.0, memory_slots=7, n_qubits=27, name='circuit500', qreg_sizes=[['q', 27]], qubit_labels=[['q', 0], ['q', 1], ['q', 2], ['q', 3], ['q', 4], ['q', 5], ['q', 6], ['q', 7], ['q', 8], ['q', 9], ['q', 10], ['q', 11], ['q', 12], ['q', 13], ['q', 14], ['q', 15], ['q', 16], ['q', 17], ['q', 18], ['q', 19], ['q', 20], ['q', 21], ['q', 22], ['q', 23], ['q', 24], ['q', 25], ['q', 26]]), memory=False)], date=2020-12-12 07:53:56+09:00, status=Successful completion, status=QobjHeader(backend_name='ibmq_paris', backend_version='1.6.5'), time_taken=21.7260103225708, execution_id='a74f34a8-3c03-11eb-acf0-b02628ea1e00', client_version={'qiskit': '0.23.1'})\n"
     ]
    }
   ],
   "source": [
    "# Show the results\n",
    "print(\"# Simulator\")\n",
    "print(result_sim)\n",
    "\n",
    "print(\"\\n# No scheduling\")\n",
    "for _result in result_list: \n",
    "    print(_result)\n",
    "\n",
    "print(\"\\n# ALAP scheduling policy\")\n",
    "for _result_alap in result_alap_list: \n",
    "    print(_result_alap)"
   ]
  },
  {
   "cell_type": "code",
   "execution_count": 11,
   "metadata": {},
   "outputs": [
    {
     "name": "stdout",
     "output_type": "stream",
     "text": [
      "# Simulator\n",
      "{'101 1001': 8192}\n",
      "\n",
      "# No scheduling\n",
      "{'000 0000': 11, '000 0001': 9, '001 0000': 34, '001 0001': 49, '001 0010': 8, '001 0011': 10, '001 0100': 7, '001 0101': 4, '001 0110': 3, '001 0111': 12, '001 1000': 35, '001 1001': 431, '001 1010': 22, '001 1011': 18, '001 1100': 5, '001 1101': 19, '001 1110': 5, '001 1111': 1, '000 0010': 9, '010 0000': 15, '010 0001': 37, '010 0010': 8, '010 0011': 15, '010 0100': 3, '010 0101': 3, '010 0110': 4, '010 0111': 12, '010 1000': 32, '010 1001': 330, '010 1010': 15, '010 1011': 21, '010 1100': 1, '010 1101': 7, '010 1110': 3, '010 1111': 1, '000 0011': 7, '011 0000': 21, '011 0001': 22, '011 0010': 6, '011 0011': 14, '011 0100': 4, '011 0101': 1, '011 0110': 6, '011 0111': 12, '011 1000': 27, '011 1001': 316, '011 1010': 14, '011 1011': 9, '011 1100': 2, '011 1101': 14, '011 1110': 3, '011 1111': 3, '100 0000': 19, '100 0001': 37, '100 0010': 8, '100 0011': 13, '100 0100': 5, '100 0101': 3, '100 0110': 5, '100 0111': 17, '100 1000': 34, '100 1001': 345, '100 1010': 15, '100 1011': 19, '100 1100': 3, '100 1101': 10, '100 1110': 3, '100 1111': 2, '000 0101': 1, '101 0000': 206, '101 0001': 374, '101 0010': 75, '101 0011': 108, '101 0100': 34, '101 0101': 37, '101 0110': 55, '101 0111': 128, '101 1000': 231, '101 1001': 3420, '101 1010': 129, '101 1011': 179, '101 1100': 19, '101 1101': 86, '101 1110': 28, '101 1111': 16, '000 0110': 1, '110 0000': 3, '110 0001': 14, '110 0010': 5, '110 0011': 3, '110 0100': 1, '110 0110': 1, '110 0111': 4, '110 1000': 9, '110 1001': 116, '110 1010': 5, '110 1011': 8, '110 1100': 1, '110 1101': 3, '110 1110': 1, '110 1111': 1, '000 0111': 5, '111 0000': 28, '111 0001': 32, '111 0010': 2, '111 0011': 9, '111 0100': 2, '111 0101': 3, '111 0110': 3, '111 0111': 8, '111 1000': 20, '111 1001': 296, '111 1010': 13, '111 1011': 17, '111 1100': 1, '111 1101': 13, '111 1110': 4, '000 1000': 13, '000 1001': 188, '000 1010': 4, '000 1011': 5, '000 1101': 6}\n",
      "\n",
      "# ALAP scheduling policy\n",
      "{'000 0000': 9, '000 0001': 17, '001 0000': 22, '001 0001': 52, '001 0010': 5, '001 0011': 10, '001 0100': 5, '001 0101': 1, '001 0110': 6, '001 0111': 15, '001 1000': 32, '001 1001': 386, '001 1010': 13, '001 1011': 19, '001 1100': 5, '001 1101': 15, '001 1110': 5, '001 1111': 3, '000 0010': 8, '010 0000': 22, '010 0001': 36, '010 0010': 4, '010 0011': 6, '010 0100': 3, '010 0101': 1, '010 0110': 2, '010 0111': 9, '010 1000': 21, '010 1001': 260, '010 1010': 11, '010 1011': 17, '010 1100': 2, '010 1101': 7, '010 1110': 6, '010 1111': 1, '000 0011': 1, '011 0000': 14, '011 0001': 55, '011 0010': 5, '011 0011': 5, '011 0100': 4, '011 0101': 1, '011 0110': 6, '011 0111': 12, '011 1000': 30, '011 1001': 318, '011 1010': 4, '011 1011': 24, '011 1100': 3, '011 1101': 13, '011 1110': 3, '011 1111': 6, '000 0100': 2, '100 0000': 22, '100 0001': 43, '100 0010': 5, '100 0011': 14, '100 0100': 2, '100 0101': 2, '100 0110': 4, '100 0111': 8, '100 1000': 23, '100 1001': 340, '100 1010': 9, '100 1011': 19, '100 1100': 2, '100 1101': 9, '100 1110': 4, '100 1111': 4, '101 0000': 199, '101 0001': 480, '101 0010': 50, '101 0011': 83, '101 0100': 40, '101 0101': 23, '101 0110': 43, '101 0111': 127, '101 1000': 288, '101 1001': 3504, '101 1010': 95, '101 1011': 230, '101 1100': 30, '101 1101': 132, '101 1110': 41, '101 1111': 26, '000 0110': 2, '110 0000': 5, '110 0001': 16, '110 0011': 2, '110 0100': 1, '110 0110': 2, '110 0111': 4, '110 1000': 7, '110 1001': 95, '110 1010': 3, '110 1011': 5, '110 1101': 3, '000 0111': 11, '111 0000': 9, '111 0001': 32, '111 0010': 7, '111 0011': 8, '111 0100': 5, '111 0101': 1, '111 0110': 4, '111 0111': 9, '111 1000': 13, '111 1001': 283, '111 1010': 3, '111 1011': 21, '111 1100': 2, '111 1101': 4, '111 1110': 4, '111 1111': 3, '000 1000': 10, '000 1001': 155, '000 1010': 5, '000 1011': 7, '000 1101': 6, '000 1110': 2}\n"
     ]
    }
   ],
   "source": [
    "# Show the counts\n",
    "print(\"# Simulator\")\n",
    "print(counts_sim)\n",
    "\n",
    "print(\"\\n# No scheduling\")\n",
    "for _count in count_list: \n",
    "    print(_count)\n",
    "\n",
    "print(\"\\n# ALAP scheduling policy\")\n",
    "for _count_alap in counts_alap_list: \n",
    "    print(_count_alap)"
   ]
  },
  {
   "cell_type": "code",
   "execution_count": null,
   "metadata": {},
   "outputs": [],
   "source": []
  }
 ],
 "metadata": {
  "jupytext": {
   "text_representation": {
    "extension": ".py",
    "format_name": "light",
    "format_version": "1.5",
    "jupytext_version": "1.7.1"
   }
  },
  "kernelspec": {
   "display_name": "Python 3",
   "language": "python",
   "name": "python3"
  },
  "language_info": {
   "codemirror_mode": {
    "name": "ipython",
    "version": 3
   },
   "file_extension": ".py",
   "mimetype": "text/x-python",
   "name": "python",
   "nbconvert_exporter": "python",
   "pygments_lexer": "ipython3",
   "version": "3.8.3"
  }
 },
 "nbformat": 4,
 "nbformat_minor": 2
}
