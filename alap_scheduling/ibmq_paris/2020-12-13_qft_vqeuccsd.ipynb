{
 "cells": [
  {
   "cell_type": "markdown",
   "metadata": {},
   "source": [
    "# ALAP Scheduling \n",
    "### QFT (4-qubits, 12 CX) + VQE UCCSD (4-qubits, 88 CX)\n",
    "\n",
    "2020-12-13"
   ]
  },
  {
   "cell_type": "code",
   "execution_count": 1,
   "metadata": {},
   "outputs": [],
   "source": [
    "# import python tools\n",
    "import os\n",
    "\n",
    "# import qiskit tool\n",
    "from qiskit.transpiler import InstructionDurations\n",
    "\n",
    "# import experimental tools\n",
    "from experiments.alap_scheduling import execute_alap, result_alap\n",
    "from experiments.utils import get_IBM_backend"
   ]
  },
  {
   "cell_type": "markdown",
   "metadata": {},
   "source": [
    "## Experimental Settings"
   ]
  },
  {
   "cell_type": "code",
   "execution_count": 2,
   "metadata": {},
   "outputs": [],
   "source": [
    "date = '2020-12-13'\n",
    "\n",
    "# Choose benchmark circuits from QASMBench\n",
    "benchmark_sets = ['grover_n2', 'vqe_uccsd_n4']\n",
    "benchmark_size = 'small'"
   ]
  },
  {
   "cell_type": "code",
   "execution_count": 3,
   "metadata": {},
   "outputs": [
    {
     "name": "stderr",
     "output_type": "stream",
     "text": [
      "/Users/Yasuhiro/.local/share/virtualenvs/experiments-VWP9UmJy/lib/python3.8/site-packages/qiskit/providers/ibmq/ibmqfactory.py:192: UserWarning: Timestamps in IBMQ backend properties, jobs, and job results are all now in local time instead of UTC.\n",
      "  warnings.warn('Timestamps in IBMQ backend properties, jobs, and job results '\n"
     ]
    }
   ],
   "source": [
    "# Define backend device\n",
    "backend = get_IBM_backend('ibmq_paris')\n",
    "simulator = get_IBM_backend('ibmq_qasm_simulator')\n",
    "\n",
    "# Number of trials\n",
    "shots = 8192\n",
    "\n",
    "# Number of experimental seeds\n",
    "nseed = 1"
   ]
  },
  {
   "cell_type": "code",
   "execution_count": 4,
   "metadata": {},
   "outputs": [],
   "source": [
    "# define path to the file to save job data\n",
    "file_name = date + '_'\n",
    "sorted_benchmarks = sorted(benchmark_sets)\n",
    "for _name in sorted_benchmarks: \n",
    "    file_name += _name\n",
    "    if _name == sorted_benchmarks[-1]:\n",
    "        break\n",
    "    file_name += '+'\n",
    "job_save_path = str(os.getcwd()) + \"/job_id/from20201211/\" + file_name"
   ]
  },
  {
   "cell_type": "markdown",
   "metadata": {},
   "source": [
    "## Execute experiments on IBMQ\n",
    "\n",
    "Here, we execute three types of experiments. First one is the  job run on simulator to calculate exact answer of the multi-programming circuit. The other two are the jobs executed on the real device. One is the base line, which is no scheduled, and the other one is the circuit executed with alap schedule policy. "
   ]
  },
  {
   "cell_type": "code",
   "execution_count": 5,
   "metadata": {},
   "outputs": [],
   "source": [
    "# instruction_durations = InstructionDurations.from_backend(backend)"
   ]
  },
  {
   "cell_type": "code",
   "execution_count": 6,
   "metadata": {},
   "outputs": [],
   "source": [
    "# job_sim, job, job_alap = execute_alap(\n",
    "#                     size=benchmark_size, \n",
    "#                     names=benchmark_sets, \n",
    "#                     backend=backend, \n",
    "#                     simulator=simulator,\n",
    "#                     shots = shots, \n",
    "#                     nseed=1,\n",
    "#                     save_path=job_save_path, \n",
    "#                     instruction_durations=instruction_durations,\n",
    "#                     )"
   ]
  },
  {
   "cell_type": "code",
   "execution_count": 7,
   "metadata": {},
   "outputs": [],
   "source": [
    "# # Show the each job\n",
    "# print(job_sim)\n",
    "# print(job)\n",
    "# print(job_alap)"
   ]
  },
  {
   "cell_type": "markdown",
   "metadata": {},
   "source": [
    "## Get the results"
   ]
  },
  {
   "cell_type": "code",
   "execution_count": 8,
   "metadata": {},
   "outputs": [],
   "source": [
    "# define path to the file to save results\n",
    "result_save_path = str(os.getcwd()) + \"/results/from20201211/\" + file_name"
   ]
  },
  {
   "cell_type": "code",
   "execution_count": 9,
   "metadata": {},
   "outputs": [],
   "source": [
    "result_sim, result_list, result_alap_list, counts_sim, count_list, counts_alap_list, qc_names = result_alap(backend, simulator, job_save_path, result_save_path)"
   ]
  },
  {
   "cell_type": "code",
   "execution_count": 10,
   "metadata": {},
   "outputs": [
    {
     "name": "stdout",
     "output_type": "stream",
     "text": [
      "# Simulator\n",
      "Result(backend_name='ibmq_qasm_simulator', backend_version='0.7.0', qobj_id='abe2dc2e-23e3-405f-8fef-bcbc39e9b02a', job_id='5fd5d32ad802bc0019c3f78d', success=True, results=[ExperimentResult(shots=8192, success=True, meas_level=MeasLevel.CLASSIFIED, data=ExperimentResultData(counts={'0x17': 2187, '0x1b': 448, '0x27': 721, '0x2b': 103, '0x3': 397, '0x33': 1496, '0x3f': 2664, '0xf': 176}), header=QobjExperimentHeader(clbit_labels=[['c0', 0], ['c0', 1], ['c1', 0], ['c1', 1], ['c1', 2], ['c1', 3]], creg_sizes=[['c0', 2], ['c1', 4]], global_phase=0.0, memory_slots=6, n_qubits=6, name='circuit8', qreg_sizes=[['q0', 2], ['q1', 4]], qubit_labels=[['q0', 0], ['q0', 1], ['q1', 0], ['q1', 1], ['q1', 2], ['q1', 3]]), status=DONE, metadata={'fusion': {'applied': False, 'enabled': True, 'method': 'unitary', 'threshold': 14}, 'measure_sampling': True, 'method': 'statevector', 'parallel_shots': 1, 'parallel_state_update': 16}, seed_simulator=3410514135, time_taken=0.01780901)], date=2020-12-13 17:39:11.605754+09:00, status=COMPLETED, status=QobjHeader(backend_name='ibmq_qasm_simulator', backend_version='0.1.547'), metadata={'max_memory_mb': 257936, 'omp_enabled': True, 'parallel_experiments': 1, 'time_taken': 0.018329949}, time_taken=0.018329949, client_version={'qiskit': '0.23.1'})\n",
      "\n",
      "# No scheduling\n",
      "Result(backend_name='ibmq_paris', backend_version='1.6.6', qobj_id='873d0de7-b680-4dba-b698-4fbcd7819ecb', job_id='5fd5d32eafed5900190265f5', success=True, results=[ExperimentResult(shots=8192, success=True, meas_level=2, data=ExperimentResultData(counts={'0x0': 3, '0x1': 53, '0x10': 14, '0x11': 66, '0x12': 17, '0x13': 371, '0x14': 9, '0x15': 102, '0x16': 49, '0x17': 579, '0x18': 4, '0x19': 79, '0x1a': 26, '0x1b': 339, '0x1c': 5, '0x1d': 89, '0x1e': 29, '0x1f': 442, '0x2': 29, '0x20': 4, '0x21': 59, '0x22': 6, '0x23': 283, '0x24': 9, '0x25': 72, '0x26': 14, '0x27': 363, '0x28': 6, '0x29': 55, '0x2a': 17, '0x2b': 285, '0x2c': 6, '0x2d': 74, '0x2e': 16, '0x2f': 335, '0x3': 268, '0x30': 8, '0x31': 98, '0x32': 20, '0x33': 578, '0x34': 5, '0x35': 113, '0x36': 10, '0x37': 500, '0x38': 5, '0x39': 104, '0x3a': 21, '0x3b': 492, '0x3c': 5, '0x3d': 134, '0x3e': 29, '0x3f': 587, '0x4': 3, '0x5': 57, '0x6': 29, '0x7': 338, '0x8': 7, '0x9': 72, '0xa': 21, '0xb': 323, '0xc': 5, '0xd': 72, '0xe': 29, '0xf': 350}), header=QobjExperimentHeader(clbit_labels=[['c2', 0], ['c2', 1], ['c3', 0], ['c3', 1], ['c3', 2], ['c3', 3]], creg_sizes=[['c2', 2], ['c3', 4]], global_phase=-12.35799358970949, memory_slots=6, n_qubits=27, name='circuit503', qreg_sizes=[['q', 27]], qubit_labels=[['q', 0], ['q', 1], ['q', 2], ['q', 3], ['q', 4], ['q', 5], ['q', 6], ['q', 7], ['q', 8], ['q', 9], ['q', 10], ['q', 11], ['q', 12], ['q', 13], ['q', 14], ['q', 15], ['q', 16], ['q', 17], ['q', 18], ['q', 19], ['q', 20], ['q', 21], ['q', 22], ['q', 23], ['q', 24], ['q', 25], ['q', 26]]), memory=False)], date=2020-12-13 18:22:55+09:00, status=Successful completion, status=QobjHeader(backend_name='ibmq_paris', backend_version='1.6.6'), time_taken=20.82610845565796, execution_id='48434db0-3d24-11eb-ad11-b02628ea1e00', client_version={'qiskit': '0.23.1'})\n",
      "\n",
      "# ALAP scheduling policy\n",
      "Result(backend_name='ibmq_paris', backend_version='1.6.6', qobj_id='bda02674-af9a-4871-b7b5-72fee76eced8', job_id='5fd5d3304266b8001903fa25', success=True, results=[ExperimentResult(shots=8192, success=True, meas_level=2, data=ExperimentResultData(counts={'0x0': 5, '0x1': 59, '0x10': 10, '0x11': 76, '0x12': 26, '0x13': 357, '0x14': 10, '0x15': 123, '0x16': 52, '0x17': 638, '0x18': 4, '0x19': 69, '0x1a': 20, '0x1b': 315, '0x1c': 5, '0x1d': 60, '0x1e': 39, '0x1f': 397, '0x2': 29, '0x20': 4, '0x21': 51, '0x22': 18, '0x23': 322, '0x24': 1, '0x25': 78, '0x26': 20, '0x27': 436, '0x28': 6, '0x29': 60, '0x2a': 17, '0x2b': 304, '0x2c': 2, '0x2d': 61, '0x2e': 11, '0x2f': 357, '0x3': 308, '0x30': 5, '0x31': 84, '0x32': 29, '0x33': 576, '0x34': 7, '0x35': 123, '0x36': 29, '0x37': 438, '0x38': 4, '0x39': 62, '0x3a': 17, '0x3b': 461, '0x3c': 4, '0x3d': 104, '0x3e': 20, '0x3f': 563, '0x4': 4, '0x5': 70, '0x6': 29, '0x7': 309, '0x8': 3, '0x9': 51, '0xa': 23, '0xb': 330, '0xc': 14, '0xd': 77, '0xe': 30, '0xf': 376}), header=QobjExperimentHeader(clbit_labels=[['c4', 0], ['c4', 1], ['c5', 0], ['c5', 1], ['c5', 2], ['c5', 3]], creg_sizes=[['c4', 2], ['c5', 4]], global_phase=0.0, memory_slots=6, n_qubits=27, name='circuit1274', qreg_sizes=[['q', 27]], qubit_labels=[['q', 0], ['q', 1], ['q', 2], ['q', 3], ['q', 4], ['q', 5], ['q', 6], ['q', 7], ['q', 8], ['q', 9], ['q', 10], ['q', 11], ['q', 12], ['q', 13], ['q', 14], ['q', 15], ['q', 16], ['q', 17], ['q', 18], ['q', 19], ['q', 20], ['q', 21], ['q', 22], ['q', 23], ['q', 24], ['q', 25], ['q', 26]]), memory=False)], date=2020-12-13 18:24:04+09:00, status=Successful completion, status=QobjHeader(backend_name='ibmq_paris', backend_version='1.6.6'), time_taken=23.14570713043213, execution_id='cc21d264-3d24-11eb-a395-b02628ea1e00', client_version={'qiskit': '0.23.1'})\n"
     ]
    }
   ],
   "source": [
    "# Show the results\n",
    "print(\"# Simulator\")\n",
    "print(result_sim)\n",
    "\n",
    "print(\"\\n# No scheduling\")\n",
    "for _result in result_list: \n",
    "    print(_result)\n",
    "\n",
    "print(\"\\n# ALAP scheduling policy\")\n",
    "for _result_alap in result_alap_list: \n",
    "    print(_result_alap)"
   ]
  },
  {
   "cell_type": "code",
   "execution_count": 11,
   "metadata": {
    "lines_to_next_cell": 0
   },
   "outputs": [
    {
     "name": "stdout",
     "output_type": "stream",
     "text": [
      "# Simulator\n",
      "{'0101 11': 2187, '0110 11': 448, '1001 11': 721, '1010 11': 103, '0000 11': 397, '1100 11': 1496, '1111 11': 2664, '0011 11': 176}\n",
      "\n",
      "# No scheduling\n",
      "{'0000 00': 3, '0000 01': 53, '0100 00': 14, '0100 01': 66, '0100 10': 17, '0100 11': 371, '0101 00': 9, '0101 01': 102, '0101 10': 49, '0101 11': 579, '0110 00': 4, '0110 01': 79, '0110 10': 26, '0110 11': 339, '0111 00': 5, '0111 01': 89, '0111 10': 29, '0111 11': 442, '0000 10': 29, '1000 00': 4, '1000 01': 59, '1000 10': 6, '1000 11': 283, '1001 00': 9, '1001 01': 72, '1001 10': 14, '1001 11': 363, '1010 00': 6, '1010 01': 55, '1010 10': 17, '1010 11': 285, '1011 00': 6, '1011 01': 74, '1011 10': 16, '1011 11': 335, '0000 11': 268, '1100 00': 8, '1100 01': 98, '1100 10': 20, '1100 11': 578, '1101 00': 5, '1101 01': 113, '1101 10': 10, '1101 11': 500, '1110 00': 5, '1110 01': 104, '1110 10': 21, '1110 11': 492, '1111 00': 5, '1111 01': 134, '1111 10': 29, '1111 11': 587, '0001 00': 3, '0001 01': 57, '0001 10': 29, '0001 11': 338, '0010 00': 7, '0010 01': 72, '0010 10': 21, '0010 11': 323, '0011 00': 5, '0011 01': 72, '0011 10': 29, '0011 11': 350}\n",
      "\n",
      "# ALAP scheduling policy\n",
      "{'0000 00': 5, '0000 01': 59, '0100 00': 10, '0100 01': 76, '0100 10': 26, '0100 11': 357, '0101 00': 10, '0101 01': 123, '0101 10': 52, '0101 11': 638, '0110 00': 4, '0110 01': 69, '0110 10': 20, '0110 11': 315, '0111 00': 5, '0111 01': 60, '0111 10': 39, '0111 11': 397, '0000 10': 29, '1000 00': 4, '1000 01': 51, '1000 10': 18, '1000 11': 322, '1001 00': 1, '1001 01': 78, '1001 10': 20, '1001 11': 436, '1010 00': 6, '1010 01': 60, '1010 10': 17, '1010 11': 304, '1011 00': 2, '1011 01': 61, '1011 10': 11, '1011 11': 357, '0000 11': 308, '1100 00': 5, '1100 01': 84, '1100 10': 29, '1100 11': 576, '1101 00': 7, '1101 01': 123, '1101 10': 29, '1101 11': 438, '1110 00': 4, '1110 01': 62, '1110 10': 17, '1110 11': 461, '1111 00': 4, '1111 01': 104, '1111 10': 20, '1111 11': 563, '0001 00': 4, '0001 01': 70, '0001 10': 29, '0001 11': 309, '0010 00': 3, '0010 01': 51, '0010 10': 23, '0010 11': 330, '0011 00': 14, '0011 01': 77, '0011 10': 30, '0011 11': 376}\n"
     ]
    }
   ],
   "source": [
    "# Show the counts\n",
    "print(\"# Simulator\")\n",
    "print(counts_sim)\n",
    "\n",
    "print(\"\\n# No scheduling\")\n",
    "for _count in count_list: \n",
    "    print(_count)\n",
    "\n",
    "print(\"\\n# ALAP scheduling policy\")\n",
    "for _count_alap in counts_alap_list: \n",
    "    print(_count_alap)"
   ]
  }
 ],
 "metadata": {
  "jupytext": {
   "text_representation": {
    "extension": ".py",
    "format_name": "light",
    "format_version": "1.5",
    "jupytext_version": "1.7.1"
   }
  },
  "kernelspec": {
   "display_name": "Python 3",
   "language": "python",
   "name": "python3"
  },
  "language_info": {
   "codemirror_mode": {
    "name": "ipython",
    "version": 3
   },
   "file_extension": ".py",
   "mimetype": "text/x-python",
   "name": "python",
   "nbconvert_exporter": "python",
   "pygments_lexer": "ipython3",
   "version": "3.8.3"
  }
 },
 "nbformat": 4,
 "nbformat_minor": 2
}
