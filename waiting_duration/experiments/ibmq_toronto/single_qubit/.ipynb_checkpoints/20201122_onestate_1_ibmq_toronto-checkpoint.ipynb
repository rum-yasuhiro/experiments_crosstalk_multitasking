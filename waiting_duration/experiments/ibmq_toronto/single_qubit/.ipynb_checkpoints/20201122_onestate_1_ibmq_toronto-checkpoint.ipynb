{
 "cells": [
  {
   "cell_type": "markdown",
   "metadata": {},
   "source": [
    "# $\\vert 1 \\rangle$ state decaying\n",
    "\n",
    "## qubit: 0"
   ]
  },
  {
   "cell_type": "code",
   "execution_count": 1,
   "metadata": {
    "lines_to_next_cell": 2
   },
   "outputs": [],
   "source": [
    "from pprint import pprint\n",
    "from datetime import date\n",
    "\n",
    "from experiments.utils import get_IBM_backend, pickle_load\n",
    "from experiments.waiting_duration.benchmarks import prepare_singleBench\n",
    "from experiments.waiting_duration import execute_bench, save_jobid_path\n",
    "from experiments.waiting_duration import calculate_results, save_data_path"
   ]
  },
  {
   "cell_type": "code",
   "execution_count": 2,
   "metadata": {},
   "outputs": [],
   "source": [
    "# user input\n",
    "backend_name = \"ibmq_toronto\"\n",
    "nseed = 5\n",
    "date = \"2020-11-24\"\n",
    "initial_layout = [1]"
   ]
  },
  {
   "cell_type": "code",
   "execution_count": 3,
   "metadata": {},
   "outputs": [
    {
     "name": "stderr",
     "output_type": "stream",
     "text": [
      "/Users/Yasuhiro/.local/share/virtualenvs/experiments-VWP9UmJy/lib/python3.8/site-packages/qiskit/providers/ibmq/ibmqfactory.py:192: UserWarning: Timestamps in IBMQ backend properties, jobs, and job results are all now in local time instead of UTC.\n",
      "  warnings.warn('Timestamps in IBMQ backend properties, jobs, and job results '\n"
     ]
    }
   ],
   "source": [
    "# define backends\n",
    "backend = get_IBM_backend(backend_name, reservations=True)\n",
    "simulator = get_IBM_backend(\"ibmq_qasm_simulator\")\n",
    "\n",
    "# type of experiments \n",
    "exp_type = \"single_qubit\"\n",
    "initial_state=\"one_state\""
   ]
  },
  {
   "cell_type": "markdown",
   "metadata": {},
   "source": [
    "## Send job"
   ]
  },
  {
   "cell_type": "code",
   "execution_count": 4,
   "metadata": {},
   "outputs": [],
   "source": [
    "# max(dt) = 1E6\n",
    "jobid_path_e6 = save_jobid_path(date, \"e6\", initial_state, initial_layout)\n",
    "delay_duration_e6 = [0, 50000, 100000, 150000, 200000, 250000, 300000, 350000, 400000, 450000, 500000, 550000, 600000, 650000, 700000, 750000, 800000, 850000, 900000, 950000, 1000000]"
   ]
  },
  {
   "cell_type": "code",
   "execution_count": 5,
   "metadata": {
    "scrolled": false
   },
   "outputs": [
    {
     "name": "stderr",
     "output_type": "stream",
     "text": [
      "/Users/Yasuhiro/.local/share/virtualenvs/experiments-VWP9UmJy/lib/python3.8/site-packages/qiskit/compiler/assemble.py:304: RuntimeWarning: Dynamic rep rates are supported on this backend. 'rep_delay' will be used instead of 'rep_time'.\n",
      "  warnings.warn(\"Dynamic rep rates are supported on this backend. 'rep_delay' will be \"\n"
     ]
    }
   ],
   "source": [
    "qc = prepare_singleBench(initial_state, \"e6\")\n",
    "execute_bench(\n",
    "            qc, \n",
    "            backend=backend, \n",
    "            simulator=simulator, \n",
    "            initial_layout=initial_layout, \n",
    "            save_path = jobid_path_e6,\n",
    "            delay_duration_list=delay_duration_e6,\n",
    "            nseed=nseed, \n",
    ")"
   ]
  },
  {
   "cell_type": "code",
   "execution_count": 6,
   "metadata": {},
   "outputs": [],
   "source": [
    "# max(dt) = 1E5\n",
    "# delay dulation label\n",
    "jobid_path_e5 = save_jobid_path(date, \"e5\", initial_state, initial_layout)\n",
    "delay_duration_e5 = [0, 5000, 10000, 15000, 20000, 25000, 30000, 35000, 40000, 45000, 50000, 55000, 60000, 65000, 70000, 75000, 80000, 85000, 90000, 95000, 100000]"
   ]
  },
  {
   "cell_type": "code",
   "execution_count": 7,
   "metadata": {},
   "outputs": [],
   "source": [
    "qc = prepare_singleBench(initial_state, \"e5\")\n",
    "execute_bench(\n",
    "            qc, \n",
    "            backend=backend, \n",
    "            simulator=simulator, \n",
    "            initial_layout=initial_layout, \n",
    "            save_path = jobid_path_e5,\n",
    "            delay_duration_list=delay_duration_e5,\n",
    "            nseed=nseed, \n",
    ")"
   ]
  },
  {
   "cell_type": "code",
   "execution_count": 8,
   "metadata": {},
   "outputs": [],
   "source": [
    "# max(dt) = 1E4\n",
    "# delay dulation label\n",
    "jobid_path_e4 = save_jobid_path(date, \"e4\", initial_state, initial_layout)\n",
    "delay_duration_e4 = [0, 500, 1000, 1500, 2000, 2500, 3000, 3500, 4000, 4500, 5000, 5500, 6000, 6500, 7000, 7500, 8000, 8500, 9000, 9500, 10000]"
   ]
  },
  {
   "cell_type": "code",
   "execution_count": 9,
   "metadata": {},
   "outputs": [],
   "source": [
    "qc = prepare_singleBench(initial_state, \"e4\")\n",
    "execute_bench(\n",
    "            qc, \n",
    "            backend=backend, \n",
    "            simulator=simulator, \n",
    "            initial_layout=initial_layout, \n",
    "            save_path = jobid_path_e4,\n",
    "            delay_duration_list=delay_duration_e4,\n",
    "            nseed=nseed, \n",
    ")"
   ]
  },
  {
   "cell_type": "markdown",
   "metadata": {},
   "source": [
    "## calculate results"
   ]
  },
  {
   "cell_type": "code",
   "execution_count": null,
   "metadata": {},
   "outputs": [],
   "source": [
    "savedata_path_e6 = save_data_path(date, \"e6\", initial_state, initial_layout)"
   ]
  },
  {
   "cell_type": "code",
   "execution_count": null,
   "metadata": {
    "scrolled": true
   },
   "outputs": [],
   "source": [
    "e6 = calculate_results(delay_duration_e6, jobid_path_e6, savedata_path_e6, backend, simulator, nseed)\n",
    "pprint(e6)"
   ]
  },
  {
   "cell_type": "code",
   "execution_count": null,
   "metadata": {},
   "outputs": [],
   "source": [
    "savedata_path_e5 = save_data_path(date, \"e5\", initial_state, initial_layout)"
   ]
  },
  {
   "cell_type": "code",
   "execution_count": null,
   "metadata": {},
   "outputs": [],
   "source": [
    "e5 = calculate_results(delay_duration_e5, jobid_path_e5, savedata_path_e5, backend, simulator, nseed)\n",
    "pprint(e5)"
   ]
  },
  {
   "cell_type": "code",
   "execution_count": null,
   "metadata": {},
   "outputs": [],
   "source": [
    "savedata_path_e4 = save_data_path(date, \"e4\", initial_state, initial_layout)"
   ]
  },
  {
   "cell_type": "code",
   "execution_count": null,
   "metadata": {},
   "outputs": [],
   "source": [
    "e4 = calculate_results(delay_duration_e4, jobid_path_e4, savedata_path_e4, backend, simulator, nseed)\n",
    "pprint(e4)"
   ]
  },
  {
   "cell_type": "markdown",
   "metadata": {},
   "source": [
    "## Plot results"
   ]
  },
  {
   "cell_type": "code",
   "execution_count": null,
   "metadata": {},
   "outputs": [],
   "source": [
    "from experiments.waiting_duration import plot_decay, save_plot_path"
   ]
  },
  {
   "cell_type": "code",
   "execution_count": null,
   "metadata": {},
   "outputs": [],
   "source": [
    "save_plot_path_e6 = save_plot_path(date, \"e6\", initial_state, initial_layout)\n",
    "e6 = pickle_load(savedata_path_e6)\n",
    "plot_decay(e6, delay_duration_e6, save_plot_path_e6, ymin=0, ymax=0.8)"
   ]
  },
  {
   "cell_type": "code",
   "execution_count": null,
   "metadata": {},
   "outputs": [],
   "source": [
    "save_plot_path_e5 = save_plot_path(date, \"e5\", initial_state, initial_layout)\n",
    "e5 = pickle_load(savedata_path_e5)\n",
    "plot_decay(e5, delay_duration_e5, save_plot_path_e5, ymin=0, ymax=0.5)"
   ]
  },
  {
   "cell_type": "code",
   "execution_count": null,
   "metadata": {},
   "outputs": [],
   "source": [
    "save_plot_path_e4 = save_plot_path(date, \"e4\", initial_state, initial_layout)\n",
    "e4 = pickle_load(savedata_path_e4)\n",
    "plot_decay(e4, delay_duration_e4, save_plot_path_e4, ymin=0, ymax=0.25)"
   ]
  }
 ],
 "metadata": {
  "jupytext": {
   "encoding": "# -*- coding: utf-8 -*-",
   "text_representation": {
    "extension": ".py",
    "format_name": "light",
    "format_version": "1.5",
    "jupytext_version": "1.7.1"
   }
  },
  "kernelspec": {
   "display_name": "gp-experiments",
   "language": "python",
   "name": "gp-experiments"
  },
  "language_info": {
   "codemirror_mode": {
    "name": "ipython",
    "version": 3
   },
   "file_extension": ".py",
   "mimetype": "text/x-python",
   "name": "python",
   "nbconvert_exporter": "python",
   "pygments_lexer": "ipython3",
   "version": "3.8.3"
  }
 },
 "nbformat": 4,
 "nbformat_minor": 2
}
