{
 "metadata": {
  "language_info": {
   "codemirror_mode": {
    "name": "ipython",
    "version": 3
   },
   "file_extension": ".py",
   "mimetype": "text/x-python",
   "name": "python",
   "nbconvert_exporter": "python",
   "pygments_lexer": "ipython3",
   "version": "3.7.1-final"
  },
  "orig_nbformat": 2,
  "kernelspec": {
   "name": "python37164bitbaseconda347a5fe2736942e38f5aab9fdd421e7f",
   "display_name": "Python 3.7.1 64-bit ('base': conda)"
  }
 },
 "nbformat": 4,
 "nbformat_minor": 2,
 "cells": [
  {
   "cell_type": "code",
   "execution_count": 1,
   "metadata": {},
   "outputs": [],
   "source": [
    "from qiskit import IBMQ, QuantumCircuit\n",
    "from experiments.utils import pickle_dump, pickle_load"
   ]
  },
  {
   "cell_type": "code",
   "execution_count": 2,
   "metadata": {},
   "outputs": [],
   "source": [
    "IBMQ.load_account()\n",
    "provider = IBMQ.get_provider(hub='ibm-q-keio', group='keio-internal', project='keio-students')\n",
    "\n",
    "simulator = provider.get_backend(\"ibmq_qasm_simulator\")\n",
    "backend = provider.get_backend(\"ibmq_paris\")"
   ]
  },
  {
   "cell_type": "code",
   "execution_count": 3,
   "metadata": {},
   "outputs": [],
   "source": [
    "# prepare benchmark\n",
    "import glob\n",
    "from experiments.waiting_duration import DelayBenchmark\n",
    "\n",
    "path_to_qasm = \"/Users/Yasuhiro/Documents/aqua/gp/QASMBench/small/*/*.qasm\"\n",
    "path_list = glob.glob(path_to_qasm)\n",
    "benchmark_qc_list = []\n",
    "for path_i in path_list[:1]:\n",
    "    qc_i = QuantumCircuit.from_qasm_file(path_i)\n",
    "    qc_name = os.path.splitext(os.path.basename(path_i))[0]\n",
    "    qc_i.name = qc_name\n",
    "    benchmark_qc_list.append(qc_i)"
   ]
  },
  {
   "cell_type": "code",
   "execution_count": 6,
   "metadata": {},
   "outputs": [
    {
     "output_type": "stream",
     "name": "stdout",
     "text": [
      "     ┌───┐ ░ ┌───┐                                        ┌─┐                 »\nq_0: ┤ X ├─░─┤ H ├─■──────────■───────────■───────────────┤M├─────────────────»\n     └───┘ ░ └───┘ │π/2 ┌───┐ │           │               └╥┘      ┌─┐        »\nq_1: ──────░───────■────┤ H ├─┼─────■─────┼──────────■─────╫───────┤M├────────»\n     ┌───┐ ░            └───┘ │π/4  │π/2  │    ┌───┐ │     ║       └╥┘     ┌─┐»\nq_2: ┤ X ├─░──────────────────■─────■─────┼────┤ H ├─┼─────╫──■─────╫──────┤M├»\n     └───┘ ░                              │π/8 └───┘ │π/4  ║  │π/2  ║ ┌───┐└╥┘»\nq_3: ──────░──────────────────────────────■──────────■─────╫──■─────╫─┤ H ├─╫─»\n           ░                                               ║        ║ └───┘ ║ »\nc: 4/══════════════════════════════════════════════════════╩════════╩═══════╩═»\n                                                           0        1       2 »\n«        \n«q_0: ───\n«        \n«q_1: ───\n«        \n«q_2: ───\n«     ┌─┐\n«q_3: ┤M├\n«     └╥┘\n«c: 4/═╩═\n«      3 \n"
     ]
    }
   ],
   "source": [
    "benchmark_qc_list[0].draw(output=\"mpl\")"
   ]
  },
  {
   "cell_type": "code",
   "execution_count": null,
   "metadata": {},
   "outputs": [],
   "source": [
    "for \n",
    "\n",
    "delay_bench = DelayBenchmark()\n",
    "delay_bench.compose()\n",
    "\n",
    "initial_layout = None\n",
    "\n",
    "job_id_sim, job_id_delay_op, job_id_delay_meas = delay_bench.run(backend, simulator, initial_layout=initial_layout)\n",
    "\n",
    "save_path = \"/Users/Yasuhiro/Documents/aqua/gp/experiments/waiting_duration/job_id/20201105_toffoli_ibmq_paris.pickle\"\n",
    "pickle_dump({\"job_id_sim\": job_id_sim, \"job_id_delay_op\": job_id_delay_op, \"job_id_delay_meas\": job_id_delay_meas}, save_path)"
   ]
  }
 ]
}