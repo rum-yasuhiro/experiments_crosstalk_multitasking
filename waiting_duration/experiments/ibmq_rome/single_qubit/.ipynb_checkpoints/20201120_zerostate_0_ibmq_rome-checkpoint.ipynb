{
 "cells": [
  {
   "cell_type": "markdown",
   "metadata": {},
   "source": [
    "# $\\vert 0 \\rangle$ state decaying\n"
   ]
  },
  {
   "cell_type": "code",
   "execution_count": null,
   "metadata": {
    "lines_to_next_cell": 2
   },
   "outputs": [],
   "source": [
    "from pprint import pprint\n",
    "from datetime import date\n",
    "from pathlib import Path\n",
    "\n",
    "from experiments.utils import get_IBM_backend, pickle_load, pickle_dump\n",
    "from experiments.waiting_duration import EvaluateDelay\n",
    "from experiments.waiting_duration.benchmarks import prepare_singleBench\n",
    "from experiments.waiting_duration import execute_bench\n",
    "\n",
    "from qiskit.visualization import plot_histogram"
   ]
  },
  {
   "cell_type": "code",
   "execution_count": null,
   "metadata": {},
   "outputs": [],
   "source": [
    "# user input\n",
    "backend_name = \"ibmq_rome\"\n",
    "nseed = 5\n",
    "date = \"2020-11-20\"\n",
    "initial_layout = [0]"
   ]
  },
  {
   "cell_type": "code",
   "execution_count": null,
   "metadata": {},
   "outputs": [],
   "source": [
    "# define backends\n",
    "backend = get_IBM_backend(backend_name)\n",
    "simulator = get_IBM_backend(\"ibmq_qasm_simulator\")\n",
    "\n",
    "# type of experiments \n",
    "exp_type = \"single_qubit\"\n",
    "initial_state=\"zero_state\""
   ]
  },
  {
   "cell_type": "markdown",
   "metadata": {},
   "source": [
    "## Send job"
   ]
  },
  {
   "cell_type": "code",
   "execution_count": null,
   "metadata": {},
   "outputs": [],
   "source": [
    "def _save_jobid_path(date, duration_label, initial_state=None, initial_layout=None):\n",
    "    root = Path(\".\")\n",
    "    file_name = date\n",
    "    if initial_state: \n",
    "        file_name += \"_\"+ initial_state\n",
    "    \n",
    "    if initial_layout: \n",
    "        file_name += \"_\"+ duration_label +\"_\"+ str(initial_layout) +\".pickle\" \n",
    "    else: \n",
    "        file_name += \"_\"+ duration_label +\".pickle\"\n",
    "    \n",
    "    path = root /\"job_id\" / file_name\n",
    "        \n",
    "    return path"
   ]
  },
  {
   "cell_type": "code",
   "execution_count": null,
   "metadata": {},
   "outputs": [],
   "source": [
    "# max(dt) = 1E6\n",
    "jobid_path_e6 = _save_jobid_path(date, \"e6\", initial_state, initial_layout)\n",
    "delay_duration_e6 = [0, 50000, 100000, 150000, 200000, 250000, 300000, 350000, 400000, 450000, 500000, 550000, 600000, 650000, 700000, 750000, 800000, 850000, 900000, 950000, 1000000]"
   ]
  },
  {
   "cell_type": "code",
   "execution_count": null,
   "metadata": {},
   "outputs": [],
   "source": [
    "qc = prepare_singleBench(initial_state, \"e6\")\n",
    "execute_bench(\n",
    "            qc, \n",
    "            backend=backend, \n",
    "            simulator=simulator, \n",
    "            initial_layout=initial_layout, \n",
    "            save_path = jobid_path_e6,\n",
    "            delay_duration_list=delay_duration_e6,\n",
    "            nseed=nseed, \n",
    ")"
   ]
  },
  {
   "cell_type": "code",
   "execution_count": null,
   "metadata": {},
   "outputs": [],
   "source": [
    "# max(dt) = 1E5\n",
    "# delay dulation label\n",
    "jobid_path_e5 = _save_jobid_path(date, \"e5\", initial_state, initial_layout)\n",
    "delay_duration_e5 = [0, 5000, 10000, 15000, 20000, 25000, 30000, 35000, 40000, 45000, 50000, 55000, 60000, 65000, 70000, 75000, 80000, 85000, 90000, 95000, 100000]"
   ]
  },
  {
   "cell_type": "code",
   "execution_count": null,
   "metadata": {},
   "outputs": [],
   "source": [
    "qc = prepare_singleBench(initial_state, \"e5\")\n",
    "execute_bench(\n",
    "            qc, \n",
    "            backend=backend, \n",
    "            simulator=simulator, \n",
    "            initial_layout=initial_layout, \n",
    "            save_path = jobid_path_e5,\n",
    "            delay_duration_list=delay_duration_e5,\n",
    "            nseed=nseed, \n",
    ")"
   ]
  },
  {
   "cell_type": "code",
   "execution_count": null,
   "metadata": {},
   "outputs": [],
   "source": [
    "# max(dt) = 1E4\n",
    "# delay dulation label\n",
    "jobid_path_e4 = _save_jobid_path(date, \"e4\", initial_state, initial_layout)\n",
    "delay_duration_e4 = [0, 500, 1000, 1500, 2000, 2500, 3000, 3500, 4000, 4500, 5000, 5500, 6000, 6500, 7000, 7500, 8000, 8500, 9000, 9500, 10000]"
   ]
  },
  {
   "cell_type": "code",
   "execution_count": null,
   "metadata": {},
   "outputs": [],
   "source": [
    "qc = prepare_singleBench(initial_state, \"e4\")\n",
    "execute_bench(\n",
    "            qc, \n",
    "            backend=backend, \n",
    "            simulator=simulator, \n",
    "            initial_layout=initial_layout, \n",
    "            save_path = jobid_path_e4,\n",
    "            delay_duration_list=delay_duration_e4,\n",
    "            nseed=nseed, \n",
    ")"
   ]
  },
  {
   "cell_type": "markdown",
   "metadata": {},
   "source": [
    "## calculate results"
   ]
  },
  {
   "cell_type": "code",
   "execution_count": null,
   "metadata": {},
   "outputs": [],
   "source": [
    "def calculate_results(delay_dutation, job_id_path, save_data_path):\n",
    "    exp_data = pickle_load(job_id_path)\n",
    "    job_sim = simulator.retrieve_job(exp_data[\"simulator\"][\"job_id\"])\n",
    "    job_delay_before = [backend.retrieve_job(job_id) for job_id in exp_data[\"delay_before\"][\"job_id\"]]\n",
    "    job_delay_after = [backend.retrieve_job(job_id) for job_id in exp_data[\"delay_after\"][\"job_id\"]]\n",
    "    delay_duration_list = exp_data[\"delay_duration_list\"]\n",
    "\n",
    "    eval_delay = EvaluateDelay(job_sim, job_delay_before, job_delay_after, delay_duration_list, nseed=nseed, initial_layout=[0])\n",
    "    counts_before_list_list, counts_after_list_list = eval_delay.evaluate() # return [[seed1 counts_dict], [seed2 counts_dict], ... ]\n",
    "    \n",
    "    # calculate mean and sem (standard error mean) of counts\n",
    "    counts_before_list_mean, counts_before_list_sem = eval_delay.stat(counts_before_list_list)\n",
    "    counts_after_list_mean, counts_after_list_sem = eval_delay.stat(counts_after_list_list)\n",
    "    \n",
    "    # calculate jsd\n",
    "    before_jsd_all, before_jsd_mean, before_jsd_sem = eval_delay.js_divergence(counts_before_list_list)\n",
    "    after_jsd_all, after_jsd_mean, after_jsd_sem = eval_delay.js_divergence(counts_after_list_list)\n",
    "    \n",
    "    save_data = {\n",
    "            \"before_op\": {\n",
    "                \"counts_list_all\": counts_before_list_list, \n",
    "                \"counts_list_mean\": counts_before_list_mean, \n",
    "                \"counts_list_sem\": counts_before_list_sem, \n",
    "                \"jsd_all\": before_jsd_all, \n",
    "                \"jsd_mean\": before_jsd_mean, \n",
    "                \"jsd_sem\": before_jsd_sem, \n",
    "                },  \n",
    "            \"after_op\": {\n",
    "                \"counts_list_all\": counts_after_list_list, \n",
    "                \"counts_list_mean\": counts_after_list_mean, \n",
    "                \"counts_list_sem\": counts_after_list_sem, \n",
    "                \"jsd_all\": after_jsd_all, \n",
    "                \"jsd_mean\": after_jsd_mean, \n",
    "                \"jsd_sem\": after_jsd_sem,\n",
    "                }, \n",
    "            \"delay_duration\": delay_dutation,\n",
    "            \"nseed\": nseed\n",
    "            }\n",
    "    pickle_dump(save_data, save_data_path)\n",
    "    return save_data "
   ]
  },
  {
   "cell_type": "code",
   "execution_count": null,
   "metadata": {},
   "outputs": [],
   "source": [
    "def _save_data_path(date, duration_label, initial_state=None, initial_layout=None):\n",
    "    root = Path(\".\")\n",
    "    file_name = date\n",
    "    if initial_state: \n",
    "        file_name += \"_\"+ initial_state\n",
    "    \n",
    "    if initial_layout: \n",
    "        file_name += \"_\"+ duration_label +\"_\"+ str(initial_layout) +\".pickle\" \n",
    "    else: \n",
    "        file_name += \"_\"+ duration_label +\".pickle\"\n",
    "    \n",
    "    path = root /\"data/pickle\" / file_name\n",
    "        \n",
    "    return path"
   ]
  },
  {
   "cell_type": "code",
   "execution_count": null,
   "metadata": {},
   "outputs": [],
   "source": [
    "savedata_path_e6 = _save_data_path(date, \"e6\", initial_state, initial_layout)\n",
    "e6 = calculate_results(delay_duration_e6, jobid_path_e6, savedata_path_e6)\n",
    "pprint(e6)"
   ]
  },
  {
   "cell_type": "code",
   "execution_count": null,
   "metadata": {},
   "outputs": [],
   "source": [
    "savedata_path_e5 = _save_data_path(date, \"e5\", initial_state, initial_layout)\n",
    "e5 = calculate_results(delay_duration_e5, jobid_path_e5, savedata_path_e5)\n",
    "pprint(e5)"
   ]
  },
  {
   "cell_type": "code",
   "execution_count": null,
   "metadata": {},
   "outputs": [],
   "source": [
    "savedata_path_e4 = _save_data_path(date, \"e4\", initial_state, initial_layout)\n",
    "e4 = calculate_results(delay_duration_e4, jobid_path_e4, savedata_path_e4)\n",
    "pprint(e4)"
   ]
  },
  {
   "cell_type": "code",
   "execution_count": null,
   "metadata": {},
   "outputs": [],
   "source": [
    "from matplotlib import pyplot as plt\n",
    "import numpy as np"
   ]
  },
  {
   "cell_type": "code",
   "execution_count": null,
   "metadata": {},
   "outputs": [],
   "source": [
    "def _save_plot_path(date, duration_label, initial_state=None, initial_layout=None):\n",
    "    root = Path(\".\")\n",
    "    file_name = date\n",
    "    if initial_state: \n",
    "        file_name += \"_\"+ initial_state\n",
    "    \n",
    "    if initial_layout: \n",
    "        file_name += \"_\"+ duration_label +\"_\"+ str(initial_layout) +\".png\" \n",
    "    else: \n",
    "        file_name += \"_\"+ duration_label +\".png\"\n",
    "    \n",
    "    path = root / \"data/plot\" / file_name\n",
    "    return path\n",
    "    \n",
    "def plot_decay(data, delay_duration, save_plot_path):\n",
    "    duration = data[\"delay_duration\"]\n",
    "    jsd_bef = data[\"before_op\"][\"jsd_mean\"]\n",
    "    sem_bef = data[\"before_op\"][\"jsd_sem\"]\n",
    "    jsd_aft = data[\"after_op\"][\"jsd_mean\"]\n",
    "    sem_aft = data[\"after_op\"][\"jsd_sem\"]\n",
    "\n",
    "    sigma = 3\n",
    "    # y軸方向にのみerrorbarを表示\n",
    "    plt.figure(figsize=(10,7))\n",
    "    plt.errorbar(delay_duration, jsd_bef, yerr = [sigma*sem for sem in sem_bef], capsize=3, fmt='.', markersize=10, color='#FF6E33')\n",
    "    plt.errorbar(delay_duration, jsd_aft, yerr = [sigma*sem for sem in sem_aft], capsize=3, fmt='.', markersize=10, color='#33FF80')\n",
    "    plt.xticks(duration, rotation=30)\n",
    "    plt.xlabel('Delay duration', fontsize=20)\n",
    "    plt.ylabel('JSD', fontsize=20)\n",
    "    plt.savefig(save_plot_path)"
   ]
  },
  {
   "cell_type": "code",
   "execution_count": null,
   "metadata": {},
   "outputs": [],
   "source": [
    "save_plot_path_e6 = _save_plot_path(date, \"e6\", initial_state, initial_layout)\n",
    "plot_decay(e6, delay_duration_e6, save_plot_path_e6)"
   ]
  },
  {
   "cell_type": "code",
   "execution_count": null,
   "metadata": {},
   "outputs": [],
   "source": [
    "save_plot_path_e5 = _save_plot_path(date, \"e5\", initial_state, initial_layout)\n",
    "plot_decay(e5, delay_duration_e5, save_plot_path_e5)"
   ]
  },
  {
   "cell_type": "code",
   "execution_count": null,
   "metadata": {},
   "outputs": [],
   "source": [
    "save_plot_path_e4 = _save_plot_path(date, \"e4\", initial_state, initial_layout)\n",
    "plot_decay(e4, delay_duration_e4, save_plot_path_e4)"
   ]
  }
 ],
 "metadata": {
  "jupytext": {
   "encoding": "# -*- coding: utf-8 -*-",
   "text_representation": {
    "extension": ".py",
    "format_name": "light",
    "format_version": "1.5",
    "jupytext_version": "1.7.1"
   }
  },
  "kernelspec": {
   "display_name": "gp-experiments",
   "language": "python",
   "name": "gp-experiments"
  },
  "language_info": {
   "codemirror_mode": {
    "name": "ipython",
    "version": 3
   },
   "file_extension": ".py",
   "mimetype": "text/x-python",
   "name": "python",
   "nbconvert_exporter": "python",
   "pygments_lexer": "ipython3",
   "version": "3.8.3"
  }
 },
 "nbformat": 4,
 "nbformat_minor": 2
}
